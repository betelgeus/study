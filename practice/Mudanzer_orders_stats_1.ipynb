{
 "cells": [
  {
   "cell_type": "code",
   "execution_count": 1,
   "outputs": [],
   "source": [
    "import itertools as it\n",
    "import numpy as np\n",
    "import seaborn as sns\n",
    "import pandas as pd\n",
    "import matplotlib.pyplot as plt\n",
    "import statsmodels.formula.api as smf\n",
    "import statsmodels.api as sm\n",
    "import numpy as np\n",
    "import mysql_connector_ssh_rsa\n",
    "\n",
    "from sklearn.preprocessing import StandardScaler\n",
    "from sklearn.model_selection import train_test_split\n",
    "from sklearn.linear_model import LogisticRegression\n",
    "from sklearn.metrics import log_loss, roc_auc_score, recall_score, precision_score, average_precision_score, f1_score, classification_report, accuracy_score, plot_roc_curve, plot_precision_recall_curve, ConfusionMatrixDisplay, confusion_matrix\n",
    "import test2"
   ],
   "metadata": {
    "collapsed": false
   }
  },
  {
   "cell_type": "code",
   "execution_count": 2,
   "outputs": [],
   "source": [
    "df = test2.Data.df"
   ],
   "metadata": {
    "collapsed": false
   }
  },
  {
   "cell_type": "code",
   "execution_count": 9,
   "outputs": [],
   "source": [
    "all_var = ['total', 'distance_feed', 'distance_return', 'cargo_count', 'is_individual_calc', 'source_id', 'communication_method', 'payment_method', 'duration', 'distance_out_of_city', 'driver_percent', 'paid_by_cash', 'discount', 'tariff_param_id']\n",
    "numeric = ['total', 'distance_feed', 'distance_return', 'distance_out_of_city', 'paid_by_cash']\n",
    "categorial = ['cargo_count', 'is_individual_calc', 'source_id', 'communication_method', 'payment_method',  'duration', 'driver_percent', 'discount', 'tariff_param_id']\n",
    "# 1, 2, 3, 4, 5"
   ],
   "metadata": {
    "collapsed": false
   }
  },
  {
   "cell_type": "code",
   "execution_count": 10,
   "outputs": [],
   "source": [
    "def separation(x):\n",
    "    numeric_1 = []\n",
    "    categorial_1 = []\n",
    "    for i in x:\n",
    "        if i in numeric:\n",
    "            numeric_1 += [i]\n",
    "        if i in categorial:\n",
    "            categorial_1 += [i]\n",
    "    return numeric_1, categorial_1, x"
   ],
   "metadata": {
    "collapsed": false
   }
  },
  {
   "cell_type": "code",
   "execution_count": 11,
   "outputs": [],
   "source": [
    "def research(numeric_1, categorial_1, x, df):\n",
    "    df_research = pd.concat([df[['status_id']], df[x]], axis=1)\n",
    "    df_research = df_research[(df_research.status_id == 'DELETE') | (df_research.status_id == 'DONE')]\n",
    "    df_research.status_id = df_research.status_id.map({'DONE': 1, 'DELETE': 0})\n",
    "    if len(categorial_1) == 0:\n",
    "        df_dummy = df_research\n",
    "    else:\n",
    "        df_dummy = pd.get_dummies(df_research, columns=categorial_1, drop_first=True)\n",
    "    numeric_cols = numeric_1\n",
    "    cat_cols = list(set(df_dummy.columns) - set(numeric_cols) - {'status_id'})\n",
    "    cat_cols.sort()\n",
    "    random_seed = 888\n",
    "    df_train, df_test = df_dummy, df_dummy\n",
    "    # Преобразуем возраст в скалярную величину\n",
    "    if len(numeric_1) > 0:\n",
    "        scaler = StandardScaler()\n",
    "        scaler.fit(df_dummy[numeric_cols])\n",
    "    else:\n",
    "        scaler = 0\n",
    "\n",
    "    def get_features_and_target_arrays(df, numeric_cols, cat_cols, scaler):\n",
    "        if len(numeric_cols) != 0 and len(cat_cols) != 0:\n",
    "            X_numeric_scaled = scaler.transform(df[numeric_cols])\n",
    "            X_categorical = df[cat_cols].to_numpy()\n",
    "            X = np.hstack((X_categorical, X_numeric_scaled))\n",
    "            y = df['status_id']\n",
    "        elif len(numeric_cols) == 0 and len(cat_cols) != 0:\n",
    "            X = df[cat_cols].to_numpy()\n",
    "            y = df['status_id']\n",
    "        elif len(cat_cols) == 0 and len(numeric_cols) != 0:\n",
    "            X = scaler.transform(df[numeric_cols])\n",
    "            y = df['status_id']\n",
    "        return X, y\n",
    "\n",
    "    X, y = get_features_and_target_arrays(df_dummy, numeric_cols, cat_cols, scaler)\n",
    "\n",
    "    clf = LogisticRegression(penalty='none')\n",
    "    clf.fit(X, y)\n",
    "\n",
    "    X_test, y_test = get_features_and_target_arrays(df_test, numeric_cols, cat_cols, scaler)\n",
    "\n",
    "    test_prob = clf.predict_proba(X_test)[:, 1]\n",
    "    test_pred = clf.predict(X_test)\n",
    "\n",
    "    conf_matrix = confusion_matrix(y_test, test_pred)\n",
    "    return x, conf_matrix"
   ],
   "metadata": {
    "collapsed": false
   }
  },
  {
   "cell_type": "code",
   "execution_count": 12,
   "outputs": [],
   "source": [
    "result = pd.DataFrame([], columns=['var', '00', '01', '10', '11'])\n",
    "for j in range(2, 13):\n",
    "    for i in it.combinations(all_var, j):\n",
    "        x = list(i)\n",
    "        numeric_1, categorial_1, x = separation(x)\n",
    "        x, conf_matrix = research(numeric_1, categorial_1, x, df)\n",
    "        x = pd.Series(str(x))\n",
    "        conf_matrix = list(conf_matrix.flatten())\n",
    "        conf_matrix = pd.Series(conf_matrix)\n",
    "        conf_matrix = pd.concat([x, conf_matrix], axis=0, ignore_index=True)\n",
    "        conf_matrix.index = ['var', '00', '01', '10', '11']\n",
    "        result = result.append(conf_matrix, ignore_index=True)"
   ],
   "metadata": {
    "collapsed": false
   }
  },
  {
   "cell_type": "code",
   "execution_count": 13,
   "outputs": [
    {
     "data": {
      "text/plain": "                                                     var    00   01    10   11\n0                             ['total', 'distance_feed']  2498    0  1234    0\n1                           ['total', 'distance_return']  2498    0  1234    0\n2                               ['total', 'cargo_count']  2462   36  1208   26\n3                        ['total', 'is_individual_calc']  1942  556   615  619\n4                                 ['total', 'source_id']  2498    0  1234    0\n...                                                  ...   ...  ...   ...  ...\n16349  ['distance_feed', 'distance_return', 'cargo_co...  2159  339   405  829\n16350  ['distance_feed', 'distance_return', 'cargo_co...  2214  284   595  639\n16351  ['distance_feed', 'distance_return', 'is_indiv...  2191  307   455  779\n16352  ['distance_feed', 'cargo_count', 'is_individua...  2159  339   414  820\n16353  ['distance_return', 'cargo_count', 'is_individ...  2155  343   413  821\n\n[16354 rows x 5 columns]",
      "text/html": "<div>\n<style scoped>\n    .dataframe tbody tr th:only-of-type {\n        vertical-align: middle;\n    }\n\n    .dataframe tbody tr th {\n        vertical-align: top;\n    }\n\n    .dataframe thead th {\n        text-align: right;\n    }\n</style>\n<table border=\"1\" class=\"dataframe\">\n  <thead>\n    <tr style=\"text-align: right;\">\n      <th></th>\n      <th>var</th>\n      <th>00</th>\n      <th>01</th>\n      <th>10</th>\n      <th>11</th>\n    </tr>\n  </thead>\n  <tbody>\n    <tr>\n      <th>0</th>\n      <td>['total', 'distance_feed']</td>\n      <td>2498</td>\n      <td>0</td>\n      <td>1234</td>\n      <td>0</td>\n    </tr>\n    <tr>\n      <th>1</th>\n      <td>['total', 'distance_return']</td>\n      <td>2498</td>\n      <td>0</td>\n      <td>1234</td>\n      <td>0</td>\n    </tr>\n    <tr>\n      <th>2</th>\n      <td>['total', 'cargo_count']</td>\n      <td>2462</td>\n      <td>36</td>\n      <td>1208</td>\n      <td>26</td>\n    </tr>\n    <tr>\n      <th>3</th>\n      <td>['total', 'is_individual_calc']</td>\n      <td>1942</td>\n      <td>556</td>\n      <td>615</td>\n      <td>619</td>\n    </tr>\n    <tr>\n      <th>4</th>\n      <td>['total', 'source_id']</td>\n      <td>2498</td>\n      <td>0</td>\n      <td>1234</td>\n      <td>0</td>\n    </tr>\n    <tr>\n      <th>...</th>\n      <td>...</td>\n      <td>...</td>\n      <td>...</td>\n      <td>...</td>\n      <td>...</td>\n    </tr>\n    <tr>\n      <th>16349</th>\n      <td>['distance_feed', 'distance_return', 'cargo_co...</td>\n      <td>2159</td>\n      <td>339</td>\n      <td>405</td>\n      <td>829</td>\n    </tr>\n    <tr>\n      <th>16350</th>\n      <td>['distance_feed', 'distance_return', 'cargo_co...</td>\n      <td>2214</td>\n      <td>284</td>\n      <td>595</td>\n      <td>639</td>\n    </tr>\n    <tr>\n      <th>16351</th>\n      <td>['distance_feed', 'distance_return', 'is_indiv...</td>\n      <td>2191</td>\n      <td>307</td>\n      <td>455</td>\n      <td>779</td>\n    </tr>\n    <tr>\n      <th>16352</th>\n      <td>['distance_feed', 'cargo_count', 'is_individua...</td>\n      <td>2159</td>\n      <td>339</td>\n      <td>414</td>\n      <td>820</td>\n    </tr>\n    <tr>\n      <th>16353</th>\n      <td>['distance_return', 'cargo_count', 'is_individ...</td>\n      <td>2155</td>\n      <td>343</td>\n      <td>413</td>\n      <td>821</td>\n    </tr>\n  </tbody>\n</table>\n<p>16354 rows × 5 columns</p>\n</div>"
     },
     "execution_count": 13,
     "metadata": {},
     "output_type": "execute_result"
    }
   ],
   "source": [
    "result"
   ],
   "metadata": {
    "collapsed": false
   }
  },
  {
   "cell_type": "code",
   "execution_count": 14,
   "outputs": [
    {
     "data": {
      "text/plain": "                                                     var    00   01    10  \\\n0                             ['total', 'distance_feed']  2498    0  1234   \n1                           ['total', 'distance_return']  2498    0  1234   \n2                               ['total', 'cargo_count']  2462   36  1208   \n3                        ['total', 'is_individual_calc']  1942  556   615   \n4                                 ['total', 'source_id']  2498    0  1234   \n...                                                  ...   ...  ...   ...   \n16349  ['distance_feed', 'distance_return', 'cargo_co...  2159  339   405   \n16350  ['distance_feed', 'distance_return', 'cargo_co...  2214  284   595   \n16351  ['distance_feed', 'distance_return', 'is_indiv...  2191  307   455   \n16352  ['distance_feed', 'cargo_count', 'is_individua...  2159  339   414   \n16353  ['distance_return', 'cargo_count', 'is_individ...  2155  343   413   \n\n        11 error_sum  \n0        0      1234  \n1        0      1234  \n2       26      1244  \n3      619      1171  \n4        0      1234  \n...    ...       ...  \n16349  829       744  \n16350  639       879  \n16351  779       762  \n16352  820       753  \n16353  821       756  \n\n[16354 rows x 6 columns]",
      "text/html": "<div>\n<style scoped>\n    .dataframe tbody tr th:only-of-type {\n        vertical-align: middle;\n    }\n\n    .dataframe tbody tr th {\n        vertical-align: top;\n    }\n\n    .dataframe thead th {\n        text-align: right;\n    }\n</style>\n<table border=\"1\" class=\"dataframe\">\n  <thead>\n    <tr style=\"text-align: right;\">\n      <th></th>\n      <th>var</th>\n      <th>00</th>\n      <th>01</th>\n      <th>10</th>\n      <th>11</th>\n      <th>error_sum</th>\n    </tr>\n  </thead>\n  <tbody>\n    <tr>\n      <th>0</th>\n      <td>['total', 'distance_feed']</td>\n      <td>2498</td>\n      <td>0</td>\n      <td>1234</td>\n      <td>0</td>\n      <td>1234</td>\n    </tr>\n    <tr>\n      <th>1</th>\n      <td>['total', 'distance_return']</td>\n      <td>2498</td>\n      <td>0</td>\n      <td>1234</td>\n      <td>0</td>\n      <td>1234</td>\n    </tr>\n    <tr>\n      <th>2</th>\n      <td>['total', 'cargo_count']</td>\n      <td>2462</td>\n      <td>36</td>\n      <td>1208</td>\n      <td>26</td>\n      <td>1244</td>\n    </tr>\n    <tr>\n      <th>3</th>\n      <td>['total', 'is_individual_calc']</td>\n      <td>1942</td>\n      <td>556</td>\n      <td>615</td>\n      <td>619</td>\n      <td>1171</td>\n    </tr>\n    <tr>\n      <th>4</th>\n      <td>['total', 'source_id']</td>\n      <td>2498</td>\n      <td>0</td>\n      <td>1234</td>\n      <td>0</td>\n      <td>1234</td>\n    </tr>\n    <tr>\n      <th>...</th>\n      <td>...</td>\n      <td>...</td>\n      <td>...</td>\n      <td>...</td>\n      <td>...</td>\n      <td>...</td>\n    </tr>\n    <tr>\n      <th>16349</th>\n      <td>['distance_feed', 'distance_return', 'cargo_co...</td>\n      <td>2159</td>\n      <td>339</td>\n      <td>405</td>\n      <td>829</td>\n      <td>744</td>\n    </tr>\n    <tr>\n      <th>16350</th>\n      <td>['distance_feed', 'distance_return', 'cargo_co...</td>\n      <td>2214</td>\n      <td>284</td>\n      <td>595</td>\n      <td>639</td>\n      <td>879</td>\n    </tr>\n    <tr>\n      <th>16351</th>\n      <td>['distance_feed', 'distance_return', 'is_indiv...</td>\n      <td>2191</td>\n      <td>307</td>\n      <td>455</td>\n      <td>779</td>\n      <td>762</td>\n    </tr>\n    <tr>\n      <th>16352</th>\n      <td>['distance_feed', 'cargo_count', 'is_individua...</td>\n      <td>2159</td>\n      <td>339</td>\n      <td>414</td>\n      <td>820</td>\n      <td>753</td>\n    </tr>\n    <tr>\n      <th>16353</th>\n      <td>['distance_return', 'cargo_count', 'is_individ...</td>\n      <td>2155</td>\n      <td>343</td>\n      <td>413</td>\n      <td>821</td>\n      <td>756</td>\n    </tr>\n  </tbody>\n</table>\n<p>16354 rows × 6 columns</p>\n</div>"
     },
     "execution_count": 14,
     "metadata": {},
     "output_type": "execute_result"
    }
   ],
   "source": [
    "result['error_sum'] = result['01'] + result['10']\n",
    "result"
   ],
   "metadata": {
    "collapsed": false
   }
  },
  {
   "cell_type": "code",
   "execution_count": 17,
   "outputs": [
    {
     "name": "stdout",
     "output_type": "stream",
     "text": [
      "[\"['total', 'distance_feed', 'distance_return', 'cargo_count', 'is_individual_calc', 'communication_method', 'payment_method', 'duration', 'distance_out_of_city', 'paid_by_cash', 'discount', 'tariff_param_id']\"\n",
      " 2160 338 403 831 741]\n"
     ]
    }
   ],
   "source": [
    "print(np.array(result.loc[16294]))"
   ],
   "metadata": {
    "collapsed": false
   }
  },
  {
   "cell_type": "code",
   "execution_count": null,
   "outputs": [],
   "source": [],
   "metadata": {
    "collapsed": false
   }
  }
 ],
 "metadata": {
  "kernelspec": {
   "display_name": "Python 3",
   "language": "python",
   "name": "python3"
  },
  "language_info": {
   "codemirror_mode": {
    "name": "ipython",
    "version": 2
   },
   "file_extension": ".py",
   "mimetype": "text/x-python",
   "name": "python",
   "nbconvert_exporter": "python",
   "pygments_lexer": "ipython2",
   "version": "2.7.6"
  }
 },
 "nbformat": 4,
 "nbformat_minor": 0
}
