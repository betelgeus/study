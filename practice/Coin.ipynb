{
 "cells": [
  {
   "cell_type": "markdown",
   "source": [
    "## Задача про монетку\n",
    "Монетку подбросили 5 раз. Кокова вероятность того, что первые 3 раза выпадет орел?"
   ],
   "metadata": {
    "collapsed": false
   }
  },
  {
   "cell_type": "markdown",
   "source": [
    "#### Классическая комбинаторика\n",
    "$P = \\frac{m}{n}$\n",
    "\n",
    ", где\n",
    "\n",
    "$P$ — вероятность\n",
    "\n",
    "$m$ — число благоприятных исходов\n",
    "\n",
    "$n$ — число всех вероятных исходов.\n",
    "$$$$\n",
    "$n = 2^k$\n",
    "\n",
    ", где\n",
    "\n",
    "$k$ — число попыток"
   ],
   "metadata": {
    "collapsed": false
   }
  },
  {
   "cell_type": "code",
   "execution_count": 9,
   "outputs": [],
   "source": [
    "k = 5\n",
    "n = 2 ** k"
   ],
   "metadata": {
    "collapsed": false,
    "ExecuteTime": {
     "start_time": "2023-08-21T11:18:34.207786Z",
     "end_time": "2023-08-21T11:18:34.242998Z"
    }
   }
  },
  {
   "cell_type": "code",
   "execution_count": 10,
   "outputs": [],
   "source": [
    "# 000PP, число благоприятных исходов равно 1\n",
    "m = 1"
   ],
   "metadata": {
    "collapsed": false,
    "ExecuteTime": {
     "start_time": "2023-08-21T11:18:34.727929Z",
     "end_time": "2023-08-21T11:18:34.755576Z"
    }
   }
  },
  {
   "cell_type": "code",
   "execution_count": 5,
   "outputs": [
    {
     "data": {
      "text/plain": "0.03125"
     },
     "execution_count": 5,
     "metadata": {},
     "output_type": "execute_result"
    }
   ],
   "source": [
    "P = m/n\n",
    "P"
   ],
   "metadata": {
    "collapsed": false,
    "ExecuteTime": {
     "start_time": "2023-08-21T10:45:52.598229Z",
     "end_time": "2023-08-21T10:45:52.626888Z"
    }
   }
  },
  {
   "cell_type": "code",
   "execution_count": 6,
   "outputs": [],
   "source": [
    "# Вероятность 3.12%"
   ],
   "metadata": {
    "collapsed": false,
    "ExecuteTime": {
     "start_time": "2023-08-21T10:46:13.272222Z",
     "end_time": "2023-08-21T10:46:13.307244Z"
    }
   }
  },
  {
   "cell_type": "markdown",
   "source": [
    "#### Формула Бернулли\n",
    "$P_{n}(k) = C_{n}^{k} \\cdot p^{k} \\cdot q^{n-k}$\n",
    "\n",
    ", где\n",
    "\n",
    "$C_{n}^{k} = \\frac{n!}{k!(n-k)!}$\n",
    "\n",
    "$n$ — число попыток\n",
    "\n",
    "$k$ — число успешных попыток\n",
    "\n",
    "$p$ — вероятность успеха в единичной попытке\n",
    "\n",
    "$q$ — вероятность не успеха в единичной попытке"
   ],
   "metadata": {
    "collapsed": false
   }
  },
  {
   "cell_type": "markdown",
   "source": [
    "Монетку бросили 5 раз, какова вероятность, того, что орел выпадет 3 раза\n",
    "\n",
    "$n = 5$ всего бросков\n",
    "$k = 3$ число орлов\n",
    "$p = 0.5$ вероятность выпадания орла\n",
    "$q = 0.5, (1 - p)$ вероятность выпадания решки\n",
    "$$$$\n",
    "$P_{5}(3) =  C_{5}^{3} \\cdot 0.5^{3} \\cdot (1 - 0.5)^{5-3}$\n",
    "$$$$\n",
    "$C_{5}^{3} = \\frac{5!}{3! \\cdot (5-3)!} = \\frac{5!}{3! \\cdot 2!} = \\frac{5*4}{2*1} = 10$"
   ],
   "metadata": {
    "collapsed": false
   }
  },
  {
   "cell_type": "code",
   "execution_count": 8,
   "outputs": [
    {
     "data": {
      "text/plain": "0.3125"
     },
     "execution_count": 8,
     "metadata": {},
     "output_type": "execute_result"
    }
   ],
   "source": [
    "P5_3 = 10 * 0.5**3 * (1 - 0.5)**(5-3)\n",
    "P5_3"
   ],
   "metadata": {
    "collapsed": false,
    "ExecuteTime": {
     "start_time": "2023-08-21T11:18:17.404552Z",
     "end_time": "2023-08-21T11:18:17.424260Z"
    }
   }
  },
  {
   "cell_type": "markdown",
   "source": [
    "Монету бросают 8 раз. Найти вероятность того, что герб выпадет ровно 4 раза\n",
    "$C_{8}^{4} = \\frac{8!}{4! \\cdot (8-4)!} = \\frac{8!}{4! \\cdot 4!} = \\frac{8*7*6*5}{4*3*2*1} = \\frac{1680}{24} =70$"
   ],
   "metadata": {
    "collapsed": false
   }
  },
  {
   "cell_type": "code",
   "execution_count": 13,
   "outputs": [
    {
     "data": {
      "text/plain": "0.2734375"
     },
     "execution_count": 13,
     "metadata": {},
     "output_type": "execute_result"
    }
   ],
   "source": [
    "P8_4 = 70 * 0.5**4 * (1 -0.5)**(8-4)\n",
    "P8_4"
   ],
   "metadata": {
    "collapsed": false,
    "ExecuteTime": {
     "start_time": "2023-08-21T11:28:10.965347Z",
     "end_time": "2023-08-21T11:28:10.995555Z"
    }
   }
  },
  {
   "cell_type": "code",
   "execution_count": null,
   "outputs": [],
   "source": [],
   "metadata": {
    "collapsed": false
   }
  }
 ],
 "metadata": {
  "kernelspec": {
   "display_name": "Python 3",
   "language": "python",
   "name": "python3"
  },
  "language_info": {
   "codemirror_mode": {
    "name": "ipython",
    "version": 2
   },
   "file_extension": ".py",
   "mimetype": "text/x-python",
   "name": "python",
   "nbconvert_exporter": "python",
   "pygments_lexer": "ipython2",
   "version": "2.7.6"
  }
 },
 "nbformat": 4,
 "nbformat_minor": 0
}
