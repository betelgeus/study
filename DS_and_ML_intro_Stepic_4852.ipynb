{
 "cells": [
  {
   "cell_type": "code",
   "execution_count": 5,
   "metadata": {
    "collapsed": true
   },
   "outputs": [],
   "source": [
    "import pandas as pd\n",
    "import numpy as np"
   ]
  },
  {
   "cell_type": "code",
   "execution_count": 6,
   "outputs": [
    {
     "name": "stdout",
     "output_type": "stream",
     "text": [
      "<class 'pandas.core.frame.DataFrame'>\n",
      "RangeIndex: 1000 entries, 0 to 999\n",
      "Data columns (total 8 columns):\n",
      " #   Column                       Non-Null Count  Dtype \n",
      "---  ------                       --------------  ----- \n",
      " 0   gender                       1000 non-null   object\n",
      " 1   race/ethnicity               1000 non-null   object\n",
      " 2   parental level of education  1000 non-null   object\n",
      " 3   lunch                        1000 non-null   object\n",
      " 4   test preparation course      1000 non-null   object\n",
      " 5   math score                   1000 non-null   int64 \n",
      " 6   reading score                1000 non-null   int64 \n",
      " 7   writing score                1000 non-null   int64 \n",
      "dtypes: int64(3), object(5)\n",
      "memory usage: 62.6+ KB\n"
     ]
    }
   ],
   "source": [
    "students_performance = pd.read_csv('https://stepik.org/media/attachments/course/4852/StudentsPerformance.csv')\n",
    "students_performance.info()"
   ],
   "metadata": {
    "collapsed": false
   }
  },
  {
   "cell_type": "code",
   "execution_count": 8,
   "outputs": [
    {
     "data": {
      "text/plain": "   gender race/ethnicity parental level of education     lunch  \\\n0  female        group B           bachelor's degree  standard   \n1  female        group C                some college  standard   \n2  female        group B             master's degree  standard   \n\n  test preparation course  math score  reading score  writing score  \n0                    none          72             72             74  \n1               completed          69             90             88  \n2                    none          90             95             93  ",
      "text/html": "<div>\n<style scoped>\n    .dataframe tbody tr th:only-of-type {\n        vertical-align: middle;\n    }\n\n    .dataframe tbody tr th {\n        vertical-align: top;\n    }\n\n    .dataframe thead th {\n        text-align: right;\n    }\n</style>\n<table border=\"1\" class=\"dataframe\">\n  <thead>\n    <tr style=\"text-align: right;\">\n      <th></th>\n      <th>gender</th>\n      <th>race/ethnicity</th>\n      <th>parental level of education</th>\n      <th>lunch</th>\n      <th>test preparation course</th>\n      <th>math score</th>\n      <th>reading score</th>\n      <th>writing score</th>\n    </tr>\n  </thead>\n  <tbody>\n    <tr>\n      <th>0</th>\n      <td>female</td>\n      <td>group B</td>\n      <td>bachelor's degree</td>\n      <td>standard</td>\n      <td>none</td>\n      <td>72</td>\n      <td>72</td>\n      <td>74</td>\n    </tr>\n    <tr>\n      <th>1</th>\n      <td>female</td>\n      <td>group C</td>\n      <td>some college</td>\n      <td>standard</td>\n      <td>completed</td>\n      <td>69</td>\n      <td>90</td>\n      <td>88</td>\n    </tr>\n    <tr>\n      <th>2</th>\n      <td>female</td>\n      <td>group B</td>\n      <td>master's degree</td>\n      <td>standard</td>\n      <td>none</td>\n      <td>90</td>\n      <td>95</td>\n      <td>93</td>\n    </tr>\n  </tbody>\n</table>\n</div>"
     },
     "execution_count": 8,
     "metadata": {},
     "output_type": "execute_result"
    }
   ],
   "source": [
    "students_performance.head(3)"
   ],
   "metadata": {
    "collapsed": false
   }
  },
  {
   "cell_type": "code",
   "execution_count": 19,
   "outputs": [
    {
     "data": {
      "text/plain": "     gender parental level of education  math score\n0    female           bachelor's degree          72\n1    female                some college          69\n2    female             master's degree          90\n3      male          associate's degree          47\n4      male                some college          76\n..      ...                         ...         ...\n995  female             master's degree          88\n996    male                 high school          62\n997  female                 high school          59\n998  female                some college          68\n999  female                some college          77\n\n[1000 rows x 3 columns]",
      "text/html": "<div>\n<style scoped>\n    .dataframe tbody tr th:only-of-type {\n        vertical-align: middle;\n    }\n\n    .dataframe tbody tr th {\n        vertical-align: top;\n    }\n\n    .dataframe thead th {\n        text-align: right;\n    }\n</style>\n<table border=\"1\" class=\"dataframe\">\n  <thead>\n    <tr style=\"text-align: right;\">\n      <th></th>\n      <th>gender</th>\n      <th>parental level of education</th>\n      <th>math score</th>\n    </tr>\n  </thead>\n  <tbody>\n    <tr>\n      <th>0</th>\n      <td>female</td>\n      <td>bachelor's degree</td>\n      <td>72</td>\n    </tr>\n    <tr>\n      <th>1</th>\n      <td>female</td>\n      <td>some college</td>\n      <td>69</td>\n    </tr>\n    <tr>\n      <th>2</th>\n      <td>female</td>\n      <td>master's degree</td>\n      <td>90</td>\n    </tr>\n    <tr>\n      <th>3</th>\n      <td>male</td>\n      <td>associate's degree</td>\n      <td>47</td>\n    </tr>\n    <tr>\n      <th>4</th>\n      <td>male</td>\n      <td>some college</td>\n      <td>76</td>\n    </tr>\n    <tr>\n      <th>...</th>\n      <td>...</td>\n      <td>...</td>\n      <td>...</td>\n    </tr>\n    <tr>\n      <th>995</th>\n      <td>female</td>\n      <td>master's degree</td>\n      <td>88</td>\n    </tr>\n    <tr>\n      <th>996</th>\n      <td>male</td>\n      <td>high school</td>\n      <td>62</td>\n    </tr>\n    <tr>\n      <th>997</th>\n      <td>female</td>\n      <td>high school</td>\n      <td>59</td>\n    </tr>\n    <tr>\n      <th>998</th>\n      <td>female</td>\n      <td>some college</td>\n      <td>68</td>\n    </tr>\n    <tr>\n      <th>999</th>\n      <td>female</td>\n      <td>some college</td>\n      <td>77</td>\n    </tr>\n  </tbody>\n</table>\n<p>1000 rows × 3 columns</p>\n</div>"
     },
     "execution_count": 19,
     "metadata": {},
     "output_type": "execute_result"
    }
   ],
   "source": [
    "students_performance.iloc[::, [0, 2, 5]]"
   ],
   "metadata": {
    "collapsed": false
   }
  },
  {
   "cell_type": "code",
   "execution_count": 20,
   "outputs": [
    {
     "data": {
      "text/plain": "   gender race/ethnicity parental level of education     lunch  \\\n0  female        group B           bachelor's degree  standard   \n1  female        group C                some college  standard   \n2  female        group B             master's degree  standard   \n\n  test preparation course  math score  reading score  writing score  \n0                    none          72             72             74  \n1               completed          69             90             88  \n2                    none          90             95             93  ",
      "text/html": "<div>\n<style scoped>\n    .dataframe tbody tr th:only-of-type {\n        vertical-align: middle;\n    }\n\n    .dataframe tbody tr th {\n        vertical-align: top;\n    }\n\n    .dataframe thead th {\n        text-align: right;\n    }\n</style>\n<table border=\"1\" class=\"dataframe\">\n  <thead>\n    <tr style=\"text-align: right;\">\n      <th></th>\n      <th>gender</th>\n      <th>race/ethnicity</th>\n      <th>parental level of education</th>\n      <th>lunch</th>\n      <th>test preparation course</th>\n      <th>math score</th>\n      <th>reading score</th>\n      <th>writing score</th>\n    </tr>\n  </thead>\n  <tbody>\n    <tr>\n      <th>0</th>\n      <td>female</td>\n      <td>group B</td>\n      <td>bachelor's degree</td>\n      <td>standard</td>\n      <td>none</td>\n      <td>72</td>\n      <td>72</td>\n      <td>74</td>\n    </tr>\n    <tr>\n      <th>1</th>\n      <td>female</td>\n      <td>group C</td>\n      <td>some college</td>\n      <td>standard</td>\n      <td>completed</td>\n      <td>69</td>\n      <td>90</td>\n      <td>88</td>\n    </tr>\n    <tr>\n      <th>2</th>\n      <td>female</td>\n      <td>group B</td>\n      <td>master's degree</td>\n      <td>standard</td>\n      <td>none</td>\n      <td>90</td>\n      <td>95</td>\n      <td>93</td>\n    </tr>\n  </tbody>\n</table>\n</div>"
     },
     "execution_count": 20,
     "metadata": {},
     "output_type": "execute_result"
    }
   ],
   "source": [
    "students_performance.iloc[:3]"
   ],
   "metadata": {
    "collapsed": false
   }
  },
  {
   "cell_type": "code",
   "execution_count": 21,
   "outputs": [
    {
     "data": {
      "text/plain": "   gender race/ethnicity parental level of education         lunch  \\\n0  female        group B           bachelor's degree      standard   \n1  female        group C                some college      standard   \n2  female        group B             master's degree      standard   \n3    male        group A          associate's degree  free/reduced   \n\n  test preparation course  math score  reading score  writing score  \n0                    none          72             72             74  \n1               completed          69             90             88  \n2                    none          90             95             93  \n3                    none          47             57             44  ",
      "text/html": "<div>\n<style scoped>\n    .dataframe tbody tr th:only-of-type {\n        vertical-align: middle;\n    }\n\n    .dataframe tbody tr th {\n        vertical-align: top;\n    }\n\n    .dataframe thead th {\n        text-align: right;\n    }\n</style>\n<table border=\"1\" class=\"dataframe\">\n  <thead>\n    <tr style=\"text-align: right;\">\n      <th></th>\n      <th>gender</th>\n      <th>race/ethnicity</th>\n      <th>parental level of education</th>\n      <th>lunch</th>\n      <th>test preparation course</th>\n      <th>math score</th>\n      <th>reading score</th>\n      <th>writing score</th>\n    </tr>\n  </thead>\n  <tbody>\n    <tr>\n      <th>0</th>\n      <td>female</td>\n      <td>group B</td>\n      <td>bachelor's degree</td>\n      <td>standard</td>\n      <td>none</td>\n      <td>72</td>\n      <td>72</td>\n      <td>74</td>\n    </tr>\n    <tr>\n      <th>1</th>\n      <td>female</td>\n      <td>group C</td>\n      <td>some college</td>\n      <td>standard</td>\n      <td>completed</td>\n      <td>69</td>\n      <td>90</td>\n      <td>88</td>\n    </tr>\n    <tr>\n      <th>2</th>\n      <td>female</td>\n      <td>group B</td>\n      <td>master's degree</td>\n      <td>standard</td>\n      <td>none</td>\n      <td>90</td>\n      <td>95</td>\n      <td>93</td>\n    </tr>\n    <tr>\n      <th>3</th>\n      <td>male</td>\n      <td>group A</td>\n      <td>associate's degree</td>\n      <td>free/reduced</td>\n      <td>none</td>\n      <td>47</td>\n      <td>57</td>\n      <td>44</td>\n    </tr>\n  </tbody>\n</table>\n</div>"
     },
     "execution_count": 21,
     "metadata": {},
     "output_type": "execute_result"
    }
   ],
   "source": [
    "students_performance.loc[:3]"
   ],
   "metadata": {
    "collapsed": false
   }
  },
  {
   "cell_type": "markdown",
   "source": [
    "У какой доли студентов из датасэта в колонке lunch указано free/reduced?\n",
    "Формат ответа десятичная дробь, например, 0.25"
   ],
   "metadata": {
    "collapsed": false
   }
  },
  {
   "cell_type": "code",
   "execution_count": 41,
   "outputs": [
    {
     "data": {
      "text/plain": "lunch\nfree/reduced    0.355\nstandard        0.645\nName: lunch, dtype: float64"
     },
     "execution_count": 41,
     "metadata": {},
     "output_type": "execute_result"
    }
   ],
   "source": [
    "students_performance.groupby('lunch')['lunch'].count()/students_performance.shape[0]"
   ],
   "metadata": {
    "collapsed": false
   }
  },
  {
   "cell_type": "code",
   "execution_count": 42,
   "outputs": [
    {
     "data": {
      "text/plain": "standard        0.645\nfree/reduced    0.355\nName: lunch, dtype: float64"
     },
     "execution_count": 42,
     "metadata": {},
     "output_type": "execute_result"
    }
   ],
   "source": [
    "students_performance['lunch'].value_counts(normalize=True)"
   ],
   "metadata": {
    "collapsed": false
   }
  },
  {
   "cell_type": "code",
   "execution_count": 44,
   "outputs": [
    {
     "name": "stderr",
     "output_type": "stream",
     "text": [
      "/var/folders/6v/dfp997q13894cjhs_bzmt6j40000gn/T/ipykernel_45118/957298985.py:1: FutureWarning: Indexing with multiple keys (implicitly converted to a tuple of keys) will be deprecated, use a list instead.\n",
      "  students_performance.groupby('lunch')['math score', 'reading score', 'writing score'].describe().T\n"
     ]
    },
    {
     "data": {
      "text/plain": "lunch                free/reduced    standard\nmath score    count    355.000000  645.000000\n              mean      58.921127   70.034109\n              std       15.159956   13.653501\n              min        0.000000   19.000000\n              25%       49.000000   61.000000\n              50%       60.000000   69.000000\n              75%       69.000000   80.000000\n              max      100.000000  100.000000\nreading score count    355.000000  645.000000\n              mean      64.653521   71.654264\n              std       14.895339   13.830602\n              min       17.000000   26.000000\n              25%       56.000000   63.000000\n              50%       65.000000   72.000000\n              75%       75.000000   82.000000\n              max      100.000000  100.000000\nwriting score count    355.000000  645.000000\n              mean      63.022535   70.823256\n              std       15.433823   14.339487\n              min       10.000000   22.000000\n              25%       53.000000   62.000000\n              50%       64.000000   72.000000\n              75%       74.000000   81.000000\n              max      100.000000  100.000000",
      "text/html": "<div>\n<style scoped>\n    .dataframe tbody tr th:only-of-type {\n        vertical-align: middle;\n    }\n\n    .dataframe tbody tr th {\n        vertical-align: top;\n    }\n\n    .dataframe thead th {\n        text-align: right;\n    }\n</style>\n<table border=\"1\" class=\"dataframe\">\n  <thead>\n    <tr style=\"text-align: right;\">\n      <th></th>\n      <th>lunch</th>\n      <th>free/reduced</th>\n      <th>standard</th>\n    </tr>\n  </thead>\n  <tbody>\n    <tr>\n      <th rowspan=\"8\" valign=\"top\">math score</th>\n      <th>count</th>\n      <td>355.000000</td>\n      <td>645.000000</td>\n    </tr>\n    <tr>\n      <th>mean</th>\n      <td>58.921127</td>\n      <td>70.034109</td>\n    </tr>\n    <tr>\n      <th>std</th>\n      <td>15.159956</td>\n      <td>13.653501</td>\n    </tr>\n    <tr>\n      <th>min</th>\n      <td>0.000000</td>\n      <td>19.000000</td>\n    </tr>\n    <tr>\n      <th>25%</th>\n      <td>49.000000</td>\n      <td>61.000000</td>\n    </tr>\n    <tr>\n      <th>50%</th>\n      <td>60.000000</td>\n      <td>69.000000</td>\n    </tr>\n    <tr>\n      <th>75%</th>\n      <td>69.000000</td>\n      <td>80.000000</td>\n    </tr>\n    <tr>\n      <th>max</th>\n      <td>100.000000</td>\n      <td>100.000000</td>\n    </tr>\n    <tr>\n      <th rowspan=\"8\" valign=\"top\">reading score</th>\n      <th>count</th>\n      <td>355.000000</td>\n      <td>645.000000</td>\n    </tr>\n    <tr>\n      <th>mean</th>\n      <td>64.653521</td>\n      <td>71.654264</td>\n    </tr>\n    <tr>\n      <th>std</th>\n      <td>14.895339</td>\n      <td>13.830602</td>\n    </tr>\n    <tr>\n      <th>min</th>\n      <td>17.000000</td>\n      <td>26.000000</td>\n    </tr>\n    <tr>\n      <th>25%</th>\n      <td>56.000000</td>\n      <td>63.000000</td>\n    </tr>\n    <tr>\n      <th>50%</th>\n      <td>65.000000</td>\n      <td>72.000000</td>\n    </tr>\n    <tr>\n      <th>75%</th>\n      <td>75.000000</td>\n      <td>82.000000</td>\n    </tr>\n    <tr>\n      <th>max</th>\n      <td>100.000000</td>\n      <td>100.000000</td>\n    </tr>\n    <tr>\n      <th rowspan=\"8\" valign=\"top\">writing score</th>\n      <th>count</th>\n      <td>355.000000</td>\n      <td>645.000000</td>\n    </tr>\n    <tr>\n      <th>mean</th>\n      <td>63.022535</td>\n      <td>70.823256</td>\n    </tr>\n    <tr>\n      <th>std</th>\n      <td>15.433823</td>\n      <td>14.339487</td>\n    </tr>\n    <tr>\n      <th>min</th>\n      <td>10.000000</td>\n      <td>22.000000</td>\n    </tr>\n    <tr>\n      <th>25%</th>\n      <td>53.000000</td>\n      <td>62.000000</td>\n    </tr>\n    <tr>\n      <th>50%</th>\n      <td>64.000000</td>\n      <td>72.000000</td>\n    </tr>\n    <tr>\n      <th>75%</th>\n      <td>74.000000</td>\n      <td>81.000000</td>\n    </tr>\n    <tr>\n      <th>max</th>\n      <td>100.000000</td>\n      <td>100.000000</td>\n    </tr>\n  </tbody>\n</table>\n</div>"
     },
     "execution_count": 44,
     "metadata": {},
     "output_type": "execute_result"
    }
   ],
   "source": [
    "students_performance.groupby('lunch')['math score', 'reading score', 'writing score'].describe().T"
   ],
   "metadata": {
    "collapsed": false
   }
  },
  {
   "cell_type": "code",
   "execution_count": 46,
   "outputs": [
    {
     "data": {
      "text/plain": "lunch                free/reduced    standard\nmath score    count    355.000000  645.000000\n              mean      58.921127   70.034109\n              std       15.159956   13.653501\n              min        0.000000   19.000000\n              25%       49.000000   61.000000\n              50%       60.000000   69.000000\n              75%       69.000000   80.000000\n              max      100.000000  100.000000\nreading score count    355.000000  645.000000\n              mean      64.653521   71.654264\n              std       14.895339   13.830602\n              min       17.000000   26.000000\n              25%       56.000000   63.000000\n              50%       65.000000   72.000000\n              75%       75.000000   82.000000\n              max      100.000000  100.000000\nwriting score count    355.000000  645.000000\n              mean      63.022535   70.823256\n              std       15.433823   14.339487\n              min       10.000000   22.000000\n              25%       53.000000   62.000000\n              50%       64.000000   72.000000\n              75%       74.000000   81.000000\n              max      100.000000  100.000000",
      "text/html": "<div>\n<style scoped>\n    .dataframe tbody tr th:only-of-type {\n        vertical-align: middle;\n    }\n\n    .dataframe tbody tr th {\n        vertical-align: top;\n    }\n\n    .dataframe thead th {\n        text-align: right;\n    }\n</style>\n<table border=\"1\" class=\"dataframe\">\n  <thead>\n    <tr style=\"text-align: right;\">\n      <th></th>\n      <th>lunch</th>\n      <th>free/reduced</th>\n      <th>standard</th>\n    </tr>\n  </thead>\n  <tbody>\n    <tr>\n      <th rowspan=\"8\" valign=\"top\">math score</th>\n      <th>count</th>\n      <td>355.000000</td>\n      <td>645.000000</td>\n    </tr>\n    <tr>\n      <th>mean</th>\n      <td>58.921127</td>\n      <td>70.034109</td>\n    </tr>\n    <tr>\n      <th>std</th>\n      <td>15.159956</td>\n      <td>13.653501</td>\n    </tr>\n    <tr>\n      <th>min</th>\n      <td>0.000000</td>\n      <td>19.000000</td>\n    </tr>\n    <tr>\n      <th>25%</th>\n      <td>49.000000</td>\n      <td>61.000000</td>\n    </tr>\n    <tr>\n      <th>50%</th>\n      <td>60.000000</td>\n      <td>69.000000</td>\n    </tr>\n    <tr>\n      <th>75%</th>\n      <td>69.000000</td>\n      <td>80.000000</td>\n    </tr>\n    <tr>\n      <th>max</th>\n      <td>100.000000</td>\n      <td>100.000000</td>\n    </tr>\n    <tr>\n      <th rowspan=\"8\" valign=\"top\">reading score</th>\n      <th>count</th>\n      <td>355.000000</td>\n      <td>645.000000</td>\n    </tr>\n    <tr>\n      <th>mean</th>\n      <td>64.653521</td>\n      <td>71.654264</td>\n    </tr>\n    <tr>\n      <th>std</th>\n      <td>14.895339</td>\n      <td>13.830602</td>\n    </tr>\n    <tr>\n      <th>min</th>\n      <td>17.000000</td>\n      <td>26.000000</td>\n    </tr>\n    <tr>\n      <th>25%</th>\n      <td>56.000000</td>\n      <td>63.000000</td>\n    </tr>\n    <tr>\n      <th>50%</th>\n      <td>65.000000</td>\n      <td>72.000000</td>\n    </tr>\n    <tr>\n      <th>75%</th>\n      <td>75.000000</td>\n      <td>82.000000</td>\n    </tr>\n    <tr>\n      <th>max</th>\n      <td>100.000000</td>\n      <td>100.000000</td>\n    </tr>\n    <tr>\n      <th rowspan=\"8\" valign=\"top\">writing score</th>\n      <th>count</th>\n      <td>355.000000</td>\n      <td>645.000000</td>\n    </tr>\n    <tr>\n      <th>mean</th>\n      <td>63.022535</td>\n      <td>70.823256</td>\n    </tr>\n    <tr>\n      <th>std</th>\n      <td>15.433823</td>\n      <td>14.339487</td>\n    </tr>\n    <tr>\n      <th>min</th>\n      <td>10.000000</td>\n      <td>22.000000</td>\n    </tr>\n    <tr>\n      <th>25%</th>\n      <td>53.000000</td>\n      <td>62.000000</td>\n    </tr>\n    <tr>\n      <th>50%</th>\n      <td>64.000000</td>\n      <td>72.000000</td>\n    </tr>\n    <tr>\n      <th>75%</th>\n      <td>74.000000</td>\n      <td>81.000000</td>\n    </tr>\n    <tr>\n      <th>max</th>\n      <td>100.000000</td>\n      <td>100.000000</td>\n    </tr>\n  </tbody>\n</table>\n</div>"
     },
     "execution_count": 46,
     "metadata": {},
     "output_type": "execute_result"
    }
   ],
   "source": [
    "students_performance.groupby('lunch').describe().T"
   ],
   "metadata": {
    "collapsed": false
   }
  },
  {
   "cell_type": "code",
   "execution_count": 47,
   "outputs": [
    {
     "name": "stderr",
     "output_type": "stream",
     "text": [
      "/var/folders/6v/dfp997q13894cjhs_bzmt6j40000gn/T/ipykernel_45118/3863021578.py:1: FutureWarning: ['gender', 'race/ethnicity', 'parental level of education', 'test preparation course'] did not aggregate successfully. If any error is raised this will raise in a future version of pandas. Drop these columns/ops to avoid this warning.\n",
      "  students_performance.groupby('lunch').agg([np.mean, np.var]).T\n"
     ]
    },
    {
     "data": {
      "text/plain": "lunch               free/reduced    standard\nmath score    mean     58.921127   70.034109\n              var     229.824270  186.418089\nreading score mean     64.653521   71.654264\n              var     221.871139  191.285560\nwriting score mean     63.022535   70.823256\n              var     238.202881  205.620887",
      "text/html": "<div>\n<style scoped>\n    .dataframe tbody tr th:only-of-type {\n        vertical-align: middle;\n    }\n\n    .dataframe tbody tr th {\n        vertical-align: top;\n    }\n\n    .dataframe thead th {\n        text-align: right;\n    }\n</style>\n<table border=\"1\" class=\"dataframe\">\n  <thead>\n    <tr style=\"text-align: right;\">\n      <th></th>\n      <th>lunch</th>\n      <th>free/reduced</th>\n      <th>standard</th>\n    </tr>\n  </thead>\n  <tbody>\n    <tr>\n      <th rowspan=\"2\" valign=\"top\">math score</th>\n      <th>mean</th>\n      <td>58.921127</td>\n      <td>70.034109</td>\n    </tr>\n    <tr>\n      <th>var</th>\n      <td>229.824270</td>\n      <td>186.418089</td>\n    </tr>\n    <tr>\n      <th rowspan=\"2\" valign=\"top\">reading score</th>\n      <th>mean</th>\n      <td>64.653521</td>\n      <td>71.654264</td>\n    </tr>\n    <tr>\n      <th>var</th>\n      <td>221.871139</td>\n      <td>191.285560</td>\n    </tr>\n    <tr>\n      <th rowspan=\"2\" valign=\"top\">writing score</th>\n      <th>mean</th>\n      <td>63.022535</td>\n      <td>70.823256</td>\n    </tr>\n    <tr>\n      <th>var</th>\n      <td>238.202881</td>\n      <td>205.620887</td>\n    </tr>\n  </tbody>\n</table>\n</div>"
     },
     "execution_count": 47,
     "metadata": {},
     "output_type": "execute_result"
    }
   ],
   "source": [
    "students_performance.groupby('lunch').agg([np.mean, np.var]).T"
   ],
   "metadata": {
    "collapsed": false
   }
  },
  {
   "cell_type": "code",
   "execution_count": 48,
   "outputs": [
    {
     "data": {
      "text/plain": "   gender race/ethnicity parental level of education         lunch  \\\n0  female        group B           bachelor's degree      standard   \n1  female        group C                some college      standard   \n2  female        group B             master's degree      standard   \n3    male        group A          associate's degree  free/reduced   \n4    male        group C                some college      standard   \n\n  test preparation course  math score  reading score  writing score  \n0                    none          72             72             74  \n1               completed          69             90             88  \n2                    none          90             95             93  \n3                    none          47             57             44  \n4                    none          76             78             75  ",
      "text/html": "<div>\n<style scoped>\n    .dataframe tbody tr th:only-of-type {\n        vertical-align: middle;\n    }\n\n    .dataframe tbody tr th {\n        vertical-align: top;\n    }\n\n    .dataframe thead th {\n        text-align: right;\n    }\n</style>\n<table border=\"1\" class=\"dataframe\">\n  <thead>\n    <tr style=\"text-align: right;\">\n      <th></th>\n      <th>gender</th>\n      <th>race/ethnicity</th>\n      <th>parental level of education</th>\n      <th>lunch</th>\n      <th>test preparation course</th>\n      <th>math score</th>\n      <th>reading score</th>\n      <th>writing score</th>\n    </tr>\n  </thead>\n  <tbody>\n    <tr>\n      <th>0</th>\n      <td>female</td>\n      <td>group B</td>\n      <td>bachelor's degree</td>\n      <td>standard</td>\n      <td>none</td>\n      <td>72</td>\n      <td>72</td>\n      <td>74</td>\n    </tr>\n    <tr>\n      <th>1</th>\n      <td>female</td>\n      <td>group C</td>\n      <td>some college</td>\n      <td>standard</td>\n      <td>completed</td>\n      <td>69</td>\n      <td>90</td>\n      <td>88</td>\n    </tr>\n    <tr>\n      <th>2</th>\n      <td>female</td>\n      <td>group B</td>\n      <td>master's degree</td>\n      <td>standard</td>\n      <td>none</td>\n      <td>90</td>\n      <td>95</td>\n      <td>93</td>\n    </tr>\n    <tr>\n      <th>3</th>\n      <td>male</td>\n      <td>group A</td>\n      <td>associate's degree</td>\n      <td>free/reduced</td>\n      <td>none</td>\n      <td>47</td>\n      <td>57</td>\n      <td>44</td>\n    </tr>\n    <tr>\n      <th>4</th>\n      <td>male</td>\n      <td>group C</td>\n      <td>some college</td>\n      <td>standard</td>\n      <td>none</td>\n      <td>76</td>\n      <td>78</td>\n      <td>75</td>\n    </tr>\n  </tbody>\n</table>\n</div>"
     },
     "execution_count": 48,
     "metadata": {},
     "output_type": "execute_result"
    }
   ],
   "source": [
    "student_stats = pd.read_csv('https://stepik.org/media/attachments/course/4852/StudentsPerformance.csv')\n",
    "student_stats.head()"
   ],
   "metadata": {
    "collapsed": false
   }
  },
  {
   "cell_type": "code",
   "execution_count": 49,
   "outputs": [
    {
     "name": "stdout",
     "output_type": "stream",
     "text": [
      "<class 'pandas.core.frame.DataFrame'>\n",
      "RangeIndex: 1000 entries, 0 to 999\n",
      "Data columns (total 8 columns):\n",
      " #   Column                       Non-Null Count  Dtype \n",
      "---  ------                       --------------  ----- \n",
      " 0   gender                       1000 non-null   object\n",
      " 1   race/ethnicity               1000 non-null   object\n",
      " 2   parental_level_of_education  1000 non-null   object\n",
      " 3   lunch                        1000 non-null   object\n",
      " 4   test_preparation_course      1000 non-null   object\n",
      " 5   math_score                   1000 non-null   int64 \n",
      " 6   reading_score                1000 non-null   int64 \n",
      " 7   writing_score                1000 non-null   int64 \n",
      "dtypes: int64(3), object(5)\n",
      "memory usage: 62.6+ KB\n"
     ]
    }
   ],
   "source": [
    "students_performance = students_performance.rename(columns=lambda col: col.replace(\" \", \"_\"))\n",
    "students_performance.info()"
   ],
   "metadata": {
    "collapsed": false
   }
  },
  {
   "cell_type": "code",
   "execution_count": 64,
   "outputs": [
    {
     "data": {
      "text/plain": "     gender race/ethnicity parental_level_of_education     lunch  \\\n2    female        group B             master's degree  standard   \n6    female        group B                some college  standard   \n102  female        group D          associate's degree  standard   \n106  female        group D             master's degree  standard   \n114  female        group E           bachelor's degree  standard   \n120  female        group C           bachelor's degree  standard   \n122  female        group C                some college  standard   \n125  female        group B                 high school  standard   \n164  female        group E             master's degree  standard   \n165  female        group C           bachelor's degree  standard   \n175  female        group C             master's degree  standard   \n179  female        group D            some high school  standard   \n229  female        group C                some college  standard   \n263  female        group E                 high school  standard   \n268  female        group D          associate's degree  standard   \n276  female        group C            some high school  standard   \n334  female        group C           bachelor's degree  standard   \n347  female        group C           bachelor's degree  standard   \n373  female        group D                some college  standard   \n403  female        group D                 high school  standard   \n451  female        group E                some college  standard   \n458  female        group E           bachelor's degree  standard   \n509  female        group C           bachelor's degree  standard   \n543  female        group D          associate's degree  standard   \n546  female        group A            some high school  standard   \n577  female        group B                 high school  standard   \n580  female        group D            some high school  standard   \n594  female        group C           bachelor's degree  standard   \n614  female        group A          associate's degree  standard   \n637  female        group D            some high school  standard   \n685  female        group E             master's degree  standard   \n712  female        group D                some college  standard   \n717  female        group C          associate's degree  standard   \n755  female        group E          associate's degree  standard   \n802  female        group E          associate's degree  standard   \n819  female        group C            some high school  standard   \n855  female        group B           bachelor's degree  standard   \n886  female        group E          associate's degree  standard   \n891  female        group E          associate's degree  standard   \n941  female        group D             master's degree  standard   \n957  female        group D             master's degree  standard   \n962  female        group E          associate's degree  standard   \n970  female        group D           bachelor's degree  standard   \n979  female        group C          associate's degree  standard   \n995  female        group E             master's degree  standard   \n\n    test_preparation_course  math_score  reading_score  writing_score  \n2                      none          90             95             93  \n6                 completed          88             95             92  \n102                    none          85             91             89  \n106                    none          87            100            100  \n114               completed          99            100            100  \n120               completed          79             92             89  \n122               completed          88             93             93  \n125                    none          87             95             86  \n164                    none          81             92             91  \n165               completed          96            100            100  \n175               completed          81             91             87  \n179               completed          97            100            100  \n229               completed          88             95             94  \n263                    none          99             93             90  \n268               completed          88             92             95  \n276               completed          85             92             93  \n334                    none          83             93             95  \n347               completed          77             94             95  \n373               completed          82             97             96  \n403               completed          88             99            100  \n451                    none         100             92             97  \n458                    none         100            100            100  \n509                    none          86             92             87  \n543                    none          82             95             89  \n546               completed          92            100             97  \n577                    none          81             91             89  \n580                    none          81             97             96  \n594               completed          92            100             99  \n614                    none          82             93             93  \n637               completed          80             92             88  \n685               completed          94             99            100  \n712                    none          98            100             99  \n717               completed          96             96             99  \n755                    none          84             95             92  \n802                    none          87             94             95  \n819                    none          77             91             88  \n855                    none          97             97             96  \n886               completed          93            100             95  \n891                    none          85             92             85  \n941                    none          78             91             96  \n957                    none          92            100            100  \n962                    none         100            100            100  \n970                    none          89            100            100  \n979                    none          91             95             94  \n995               completed          88             99             95  ",
      "text/html": "<div>\n<style scoped>\n    .dataframe tbody tr th:only-of-type {\n        vertical-align: middle;\n    }\n\n    .dataframe tbody tr th {\n        vertical-align: top;\n    }\n\n    .dataframe thead th {\n        text-align: right;\n    }\n</style>\n<table border=\"1\" class=\"dataframe\">\n  <thead>\n    <tr style=\"text-align: right;\">\n      <th></th>\n      <th>gender</th>\n      <th>race/ethnicity</th>\n      <th>parental_level_of_education</th>\n      <th>lunch</th>\n      <th>test_preparation_course</th>\n      <th>math_score</th>\n      <th>reading_score</th>\n      <th>writing_score</th>\n    </tr>\n  </thead>\n  <tbody>\n    <tr>\n      <th>2</th>\n      <td>female</td>\n      <td>group B</td>\n      <td>master's degree</td>\n      <td>standard</td>\n      <td>none</td>\n      <td>90</td>\n      <td>95</td>\n      <td>93</td>\n    </tr>\n    <tr>\n      <th>6</th>\n      <td>female</td>\n      <td>group B</td>\n      <td>some college</td>\n      <td>standard</td>\n      <td>completed</td>\n      <td>88</td>\n      <td>95</td>\n      <td>92</td>\n    </tr>\n    <tr>\n      <th>102</th>\n      <td>female</td>\n      <td>group D</td>\n      <td>associate's degree</td>\n      <td>standard</td>\n      <td>none</td>\n      <td>85</td>\n      <td>91</td>\n      <td>89</td>\n    </tr>\n    <tr>\n      <th>106</th>\n      <td>female</td>\n      <td>group D</td>\n      <td>master's degree</td>\n      <td>standard</td>\n      <td>none</td>\n      <td>87</td>\n      <td>100</td>\n      <td>100</td>\n    </tr>\n    <tr>\n      <th>114</th>\n      <td>female</td>\n      <td>group E</td>\n      <td>bachelor's degree</td>\n      <td>standard</td>\n      <td>completed</td>\n      <td>99</td>\n      <td>100</td>\n      <td>100</td>\n    </tr>\n    <tr>\n      <th>120</th>\n      <td>female</td>\n      <td>group C</td>\n      <td>bachelor's degree</td>\n      <td>standard</td>\n      <td>completed</td>\n      <td>79</td>\n      <td>92</td>\n      <td>89</td>\n    </tr>\n    <tr>\n      <th>122</th>\n      <td>female</td>\n      <td>group C</td>\n      <td>some college</td>\n      <td>standard</td>\n      <td>completed</td>\n      <td>88</td>\n      <td>93</td>\n      <td>93</td>\n    </tr>\n    <tr>\n      <th>125</th>\n      <td>female</td>\n      <td>group B</td>\n      <td>high school</td>\n      <td>standard</td>\n      <td>none</td>\n      <td>87</td>\n      <td>95</td>\n      <td>86</td>\n    </tr>\n    <tr>\n      <th>164</th>\n      <td>female</td>\n      <td>group E</td>\n      <td>master's degree</td>\n      <td>standard</td>\n      <td>none</td>\n      <td>81</td>\n      <td>92</td>\n      <td>91</td>\n    </tr>\n    <tr>\n      <th>165</th>\n      <td>female</td>\n      <td>group C</td>\n      <td>bachelor's degree</td>\n      <td>standard</td>\n      <td>completed</td>\n      <td>96</td>\n      <td>100</td>\n      <td>100</td>\n    </tr>\n    <tr>\n      <th>175</th>\n      <td>female</td>\n      <td>group C</td>\n      <td>master's degree</td>\n      <td>standard</td>\n      <td>completed</td>\n      <td>81</td>\n      <td>91</td>\n      <td>87</td>\n    </tr>\n    <tr>\n      <th>179</th>\n      <td>female</td>\n      <td>group D</td>\n      <td>some high school</td>\n      <td>standard</td>\n      <td>completed</td>\n      <td>97</td>\n      <td>100</td>\n      <td>100</td>\n    </tr>\n    <tr>\n      <th>229</th>\n      <td>female</td>\n      <td>group C</td>\n      <td>some college</td>\n      <td>standard</td>\n      <td>completed</td>\n      <td>88</td>\n      <td>95</td>\n      <td>94</td>\n    </tr>\n    <tr>\n      <th>263</th>\n      <td>female</td>\n      <td>group E</td>\n      <td>high school</td>\n      <td>standard</td>\n      <td>none</td>\n      <td>99</td>\n      <td>93</td>\n      <td>90</td>\n    </tr>\n    <tr>\n      <th>268</th>\n      <td>female</td>\n      <td>group D</td>\n      <td>associate's degree</td>\n      <td>standard</td>\n      <td>completed</td>\n      <td>88</td>\n      <td>92</td>\n      <td>95</td>\n    </tr>\n    <tr>\n      <th>276</th>\n      <td>female</td>\n      <td>group C</td>\n      <td>some high school</td>\n      <td>standard</td>\n      <td>completed</td>\n      <td>85</td>\n      <td>92</td>\n      <td>93</td>\n    </tr>\n    <tr>\n      <th>334</th>\n      <td>female</td>\n      <td>group C</td>\n      <td>bachelor's degree</td>\n      <td>standard</td>\n      <td>none</td>\n      <td>83</td>\n      <td>93</td>\n      <td>95</td>\n    </tr>\n    <tr>\n      <th>347</th>\n      <td>female</td>\n      <td>group C</td>\n      <td>bachelor's degree</td>\n      <td>standard</td>\n      <td>completed</td>\n      <td>77</td>\n      <td>94</td>\n      <td>95</td>\n    </tr>\n    <tr>\n      <th>373</th>\n      <td>female</td>\n      <td>group D</td>\n      <td>some college</td>\n      <td>standard</td>\n      <td>completed</td>\n      <td>82</td>\n      <td>97</td>\n      <td>96</td>\n    </tr>\n    <tr>\n      <th>403</th>\n      <td>female</td>\n      <td>group D</td>\n      <td>high school</td>\n      <td>standard</td>\n      <td>completed</td>\n      <td>88</td>\n      <td>99</td>\n      <td>100</td>\n    </tr>\n    <tr>\n      <th>451</th>\n      <td>female</td>\n      <td>group E</td>\n      <td>some college</td>\n      <td>standard</td>\n      <td>none</td>\n      <td>100</td>\n      <td>92</td>\n      <td>97</td>\n    </tr>\n    <tr>\n      <th>458</th>\n      <td>female</td>\n      <td>group E</td>\n      <td>bachelor's degree</td>\n      <td>standard</td>\n      <td>none</td>\n      <td>100</td>\n      <td>100</td>\n      <td>100</td>\n    </tr>\n    <tr>\n      <th>509</th>\n      <td>female</td>\n      <td>group C</td>\n      <td>bachelor's degree</td>\n      <td>standard</td>\n      <td>none</td>\n      <td>86</td>\n      <td>92</td>\n      <td>87</td>\n    </tr>\n    <tr>\n      <th>543</th>\n      <td>female</td>\n      <td>group D</td>\n      <td>associate's degree</td>\n      <td>standard</td>\n      <td>none</td>\n      <td>82</td>\n      <td>95</td>\n      <td>89</td>\n    </tr>\n    <tr>\n      <th>546</th>\n      <td>female</td>\n      <td>group A</td>\n      <td>some high school</td>\n      <td>standard</td>\n      <td>completed</td>\n      <td>92</td>\n      <td>100</td>\n      <td>97</td>\n    </tr>\n    <tr>\n      <th>577</th>\n      <td>female</td>\n      <td>group B</td>\n      <td>high school</td>\n      <td>standard</td>\n      <td>none</td>\n      <td>81</td>\n      <td>91</td>\n      <td>89</td>\n    </tr>\n    <tr>\n      <th>580</th>\n      <td>female</td>\n      <td>group D</td>\n      <td>some high school</td>\n      <td>standard</td>\n      <td>none</td>\n      <td>81</td>\n      <td>97</td>\n      <td>96</td>\n    </tr>\n    <tr>\n      <th>594</th>\n      <td>female</td>\n      <td>group C</td>\n      <td>bachelor's degree</td>\n      <td>standard</td>\n      <td>completed</td>\n      <td>92</td>\n      <td>100</td>\n      <td>99</td>\n    </tr>\n    <tr>\n      <th>614</th>\n      <td>female</td>\n      <td>group A</td>\n      <td>associate's degree</td>\n      <td>standard</td>\n      <td>none</td>\n      <td>82</td>\n      <td>93</td>\n      <td>93</td>\n    </tr>\n    <tr>\n      <th>637</th>\n      <td>female</td>\n      <td>group D</td>\n      <td>some high school</td>\n      <td>standard</td>\n      <td>completed</td>\n      <td>80</td>\n      <td>92</td>\n      <td>88</td>\n    </tr>\n    <tr>\n      <th>685</th>\n      <td>female</td>\n      <td>group E</td>\n      <td>master's degree</td>\n      <td>standard</td>\n      <td>completed</td>\n      <td>94</td>\n      <td>99</td>\n      <td>100</td>\n    </tr>\n    <tr>\n      <th>712</th>\n      <td>female</td>\n      <td>group D</td>\n      <td>some college</td>\n      <td>standard</td>\n      <td>none</td>\n      <td>98</td>\n      <td>100</td>\n      <td>99</td>\n    </tr>\n    <tr>\n      <th>717</th>\n      <td>female</td>\n      <td>group C</td>\n      <td>associate's degree</td>\n      <td>standard</td>\n      <td>completed</td>\n      <td>96</td>\n      <td>96</td>\n      <td>99</td>\n    </tr>\n    <tr>\n      <th>755</th>\n      <td>female</td>\n      <td>group E</td>\n      <td>associate's degree</td>\n      <td>standard</td>\n      <td>none</td>\n      <td>84</td>\n      <td>95</td>\n      <td>92</td>\n    </tr>\n    <tr>\n      <th>802</th>\n      <td>female</td>\n      <td>group E</td>\n      <td>associate's degree</td>\n      <td>standard</td>\n      <td>none</td>\n      <td>87</td>\n      <td>94</td>\n      <td>95</td>\n    </tr>\n    <tr>\n      <th>819</th>\n      <td>female</td>\n      <td>group C</td>\n      <td>some high school</td>\n      <td>standard</td>\n      <td>none</td>\n      <td>77</td>\n      <td>91</td>\n      <td>88</td>\n    </tr>\n    <tr>\n      <th>855</th>\n      <td>female</td>\n      <td>group B</td>\n      <td>bachelor's degree</td>\n      <td>standard</td>\n      <td>none</td>\n      <td>97</td>\n      <td>97</td>\n      <td>96</td>\n    </tr>\n    <tr>\n      <th>886</th>\n      <td>female</td>\n      <td>group E</td>\n      <td>associate's degree</td>\n      <td>standard</td>\n      <td>completed</td>\n      <td>93</td>\n      <td>100</td>\n      <td>95</td>\n    </tr>\n    <tr>\n      <th>891</th>\n      <td>female</td>\n      <td>group E</td>\n      <td>associate's degree</td>\n      <td>standard</td>\n      <td>none</td>\n      <td>85</td>\n      <td>92</td>\n      <td>85</td>\n    </tr>\n    <tr>\n      <th>941</th>\n      <td>female</td>\n      <td>group D</td>\n      <td>master's degree</td>\n      <td>standard</td>\n      <td>none</td>\n      <td>78</td>\n      <td>91</td>\n      <td>96</td>\n    </tr>\n    <tr>\n      <th>957</th>\n      <td>female</td>\n      <td>group D</td>\n      <td>master's degree</td>\n      <td>standard</td>\n      <td>none</td>\n      <td>92</td>\n      <td>100</td>\n      <td>100</td>\n    </tr>\n    <tr>\n      <th>962</th>\n      <td>female</td>\n      <td>group E</td>\n      <td>associate's degree</td>\n      <td>standard</td>\n      <td>none</td>\n      <td>100</td>\n      <td>100</td>\n      <td>100</td>\n    </tr>\n    <tr>\n      <th>970</th>\n      <td>female</td>\n      <td>group D</td>\n      <td>bachelor's degree</td>\n      <td>standard</td>\n      <td>none</td>\n      <td>89</td>\n      <td>100</td>\n      <td>100</td>\n    </tr>\n    <tr>\n      <th>979</th>\n      <td>female</td>\n      <td>group C</td>\n      <td>associate's degree</td>\n      <td>standard</td>\n      <td>none</td>\n      <td>91</td>\n      <td>95</td>\n      <td>94</td>\n    </tr>\n    <tr>\n      <th>995</th>\n      <td>female</td>\n      <td>group E</td>\n      <td>master's degree</td>\n      <td>standard</td>\n      <td>completed</td>\n      <td>88</td>\n      <td>99</td>\n      <td>95</td>\n    </tr>\n  </tbody>\n</table>\n</div>"
     },
     "execution_count": 64,
     "metadata": {},
     "output_type": "execute_result"
    }
   ],
   "source": [
    "students_performance.query('reading_score > 90 & gender == \"female\" & lunch == \"standard\"')"
   ],
   "metadata": {
    "collapsed": false
   }
  },
  {
   "cell_type": "code",
   "execution_count": 67,
   "outputs": [
    {
     "data": {
      "text/plain": "['math_score', 'reading_score', 'writing_score']"
     },
     "execution_count": 67,
     "metadata": {},
     "output_type": "execute_result"
    }
   ],
   "source": [
    "score_filter = [i for i in students_performance.columns if 'score' in i]\n",
    "score_filter"
   ],
   "metadata": {
    "collapsed": false
   }
  },
  {
   "cell_type": "code",
   "execution_count": 68,
   "outputs": [
    {
     "data": {
      "text/plain": "['math_score', 'reading_score', 'writing_score']"
     },
     "execution_count": 68,
     "metadata": {},
     "output_type": "execute_result"
    }
   ],
   "source": [
    "score_filter = [i for i in list(students_performance) if 'score' in i]\n",
    "score_filter"
   ],
   "metadata": {
    "collapsed": false
   }
  },
  {
   "cell_type": "code",
   "execution_count": 69,
   "outputs": [
    {
     "data": {
      "text/plain": "     math_score  reading_score  writing_score\n0            72             72             74\n1            69             90             88\n2            90             95             93\n3            47             57             44\n4            76             78             75\n..          ...            ...            ...\n995          88             99             95\n996          62             55             55\n997          59             71             65\n998          68             78             77\n999          77             86             86\n\n[1000 rows x 3 columns]",
      "text/html": "<div>\n<style scoped>\n    .dataframe tbody tr th:only-of-type {\n        vertical-align: middle;\n    }\n\n    .dataframe tbody tr th {\n        vertical-align: top;\n    }\n\n    .dataframe thead th {\n        text-align: right;\n    }\n</style>\n<table border=\"1\" class=\"dataframe\">\n  <thead>\n    <tr style=\"text-align: right;\">\n      <th></th>\n      <th>math_score</th>\n      <th>reading_score</th>\n      <th>writing_score</th>\n    </tr>\n  </thead>\n  <tbody>\n    <tr>\n      <th>0</th>\n      <td>72</td>\n      <td>72</td>\n      <td>74</td>\n    </tr>\n    <tr>\n      <th>1</th>\n      <td>69</td>\n      <td>90</td>\n      <td>88</td>\n    </tr>\n    <tr>\n      <th>2</th>\n      <td>90</td>\n      <td>95</td>\n      <td>93</td>\n    </tr>\n    <tr>\n      <th>3</th>\n      <td>47</td>\n      <td>57</td>\n      <td>44</td>\n    </tr>\n    <tr>\n      <th>4</th>\n      <td>76</td>\n      <td>78</td>\n      <td>75</td>\n    </tr>\n    <tr>\n      <th>...</th>\n      <td>...</td>\n      <td>...</td>\n      <td>...</td>\n    </tr>\n    <tr>\n      <th>995</th>\n      <td>88</td>\n      <td>99</td>\n      <td>95</td>\n    </tr>\n    <tr>\n      <th>996</th>\n      <td>62</td>\n      <td>55</td>\n      <td>55</td>\n    </tr>\n    <tr>\n      <th>997</th>\n      <td>59</td>\n      <td>71</td>\n      <td>65</td>\n    </tr>\n    <tr>\n      <th>998</th>\n      <td>68</td>\n      <td>78</td>\n      <td>77</td>\n    </tr>\n    <tr>\n      <th>999</th>\n      <td>77</td>\n      <td>86</td>\n      <td>86</td>\n    </tr>\n  </tbody>\n</table>\n<p>1000 rows × 3 columns</p>\n</div>"
     },
     "execution_count": 69,
     "metadata": {},
     "output_type": "execute_result"
    }
   ],
   "source": [
    "students_performance.filter(like='score')"
   ],
   "metadata": {
    "collapsed": false
   }
  },
  {
   "cell_type": "code",
   "execution_count": 71,
   "outputs": [
    {
     "data": {
      "text/plain": "     gender race/ethnicity parental_level_of_education         lunch  \\\n10     male        group C          associate's degree      standard   \n100    male        group B                some college      standard   \n101    male        group D           bachelor's degree      standard   \n102  female        group D          associate's degree      standard   \n103    male        group B                 high school      standard   \n104    male        group C                some college      standard   \n105  female        group C                some college      standard   \n106  female        group D             master's degree      standard   \n107    male        group E          associate's degree      standard   \n108  female        group B          associate's degree  free/reduced   \n109  female        group B            some high school      standard   \n110  female        group D          associate's degree  free/reduced   \n210    male        group D            some high school  free/reduced   \n310  female        group B          associate's degree      standard   \n410  female        group D             master's degree      standard   \n510    male        group D                some college      standard   \n610    male        group D                some college  free/reduced   \n710    male        group C                some college      standard   \n810    male        group A            some high school      standard   \n910    male        group D           bachelor's degree  free/reduced   \n\n    test_preparation_course  math_score  reading_score  writing_score  \n10                     none          58             54             52  \n100                    none          79             67             67  \n101               completed          68             74             74  \n102                    none          85             91             89  \n103               completed          60             44             47  \n104               completed          98             86             90  \n105                    none          58             67             72  \n106                    none          87            100            100  \n107               completed          66             63             64  \n108                    none          52             76             70  \n109                    none          70             64             72  \n110               completed          77             89             98  \n210               completed          80             79             79  \n310                    none          73             76             80  \n410               completed          70             71             74  \n510                    none          76             71             73  \n610               completed          69             60             63  \n710               completed          93             84             90  \n810                    none          51             31             36  \n910                    none          50             42             48  ",
      "text/html": "<div>\n<style scoped>\n    .dataframe tbody tr th:only-of-type {\n        vertical-align: middle;\n    }\n\n    .dataframe tbody tr th {\n        vertical-align: top;\n    }\n\n    .dataframe thead th {\n        text-align: right;\n    }\n</style>\n<table border=\"1\" class=\"dataframe\">\n  <thead>\n    <tr style=\"text-align: right;\">\n      <th></th>\n      <th>gender</th>\n      <th>race/ethnicity</th>\n      <th>parental_level_of_education</th>\n      <th>lunch</th>\n      <th>test_preparation_course</th>\n      <th>math_score</th>\n      <th>reading_score</th>\n      <th>writing_score</th>\n    </tr>\n  </thead>\n  <tbody>\n    <tr>\n      <th>10</th>\n      <td>male</td>\n      <td>group C</td>\n      <td>associate's degree</td>\n      <td>standard</td>\n      <td>none</td>\n      <td>58</td>\n      <td>54</td>\n      <td>52</td>\n    </tr>\n    <tr>\n      <th>100</th>\n      <td>male</td>\n      <td>group B</td>\n      <td>some college</td>\n      <td>standard</td>\n      <td>none</td>\n      <td>79</td>\n      <td>67</td>\n      <td>67</td>\n    </tr>\n    <tr>\n      <th>101</th>\n      <td>male</td>\n      <td>group D</td>\n      <td>bachelor's degree</td>\n      <td>standard</td>\n      <td>completed</td>\n      <td>68</td>\n      <td>74</td>\n      <td>74</td>\n    </tr>\n    <tr>\n      <th>102</th>\n      <td>female</td>\n      <td>group D</td>\n      <td>associate's degree</td>\n      <td>standard</td>\n      <td>none</td>\n      <td>85</td>\n      <td>91</td>\n      <td>89</td>\n    </tr>\n    <tr>\n      <th>103</th>\n      <td>male</td>\n      <td>group B</td>\n      <td>high school</td>\n      <td>standard</td>\n      <td>completed</td>\n      <td>60</td>\n      <td>44</td>\n      <td>47</td>\n    </tr>\n    <tr>\n      <th>104</th>\n      <td>male</td>\n      <td>group C</td>\n      <td>some college</td>\n      <td>standard</td>\n      <td>completed</td>\n      <td>98</td>\n      <td>86</td>\n      <td>90</td>\n    </tr>\n    <tr>\n      <th>105</th>\n      <td>female</td>\n      <td>group C</td>\n      <td>some college</td>\n      <td>standard</td>\n      <td>none</td>\n      <td>58</td>\n      <td>67</td>\n      <td>72</td>\n    </tr>\n    <tr>\n      <th>106</th>\n      <td>female</td>\n      <td>group D</td>\n      <td>master's degree</td>\n      <td>standard</td>\n      <td>none</td>\n      <td>87</td>\n      <td>100</td>\n      <td>100</td>\n    </tr>\n    <tr>\n      <th>107</th>\n      <td>male</td>\n      <td>group E</td>\n      <td>associate's degree</td>\n      <td>standard</td>\n      <td>completed</td>\n      <td>66</td>\n      <td>63</td>\n      <td>64</td>\n    </tr>\n    <tr>\n      <th>108</th>\n      <td>female</td>\n      <td>group B</td>\n      <td>associate's degree</td>\n      <td>free/reduced</td>\n      <td>none</td>\n      <td>52</td>\n      <td>76</td>\n      <td>70</td>\n    </tr>\n    <tr>\n      <th>109</th>\n      <td>female</td>\n      <td>group B</td>\n      <td>some high school</td>\n      <td>standard</td>\n      <td>none</td>\n      <td>70</td>\n      <td>64</td>\n      <td>72</td>\n    </tr>\n    <tr>\n      <th>110</th>\n      <td>female</td>\n      <td>group D</td>\n      <td>associate's degree</td>\n      <td>free/reduced</td>\n      <td>completed</td>\n      <td>77</td>\n      <td>89</td>\n      <td>98</td>\n    </tr>\n    <tr>\n      <th>210</th>\n      <td>male</td>\n      <td>group D</td>\n      <td>some high school</td>\n      <td>free/reduced</td>\n      <td>completed</td>\n      <td>80</td>\n      <td>79</td>\n      <td>79</td>\n    </tr>\n    <tr>\n      <th>310</th>\n      <td>female</td>\n      <td>group B</td>\n      <td>associate's degree</td>\n      <td>standard</td>\n      <td>none</td>\n      <td>73</td>\n      <td>76</td>\n      <td>80</td>\n    </tr>\n    <tr>\n      <th>410</th>\n      <td>female</td>\n      <td>group D</td>\n      <td>master's degree</td>\n      <td>standard</td>\n      <td>completed</td>\n      <td>70</td>\n      <td>71</td>\n      <td>74</td>\n    </tr>\n    <tr>\n      <th>510</th>\n      <td>male</td>\n      <td>group D</td>\n      <td>some college</td>\n      <td>standard</td>\n      <td>none</td>\n      <td>76</td>\n      <td>71</td>\n      <td>73</td>\n    </tr>\n    <tr>\n      <th>610</th>\n      <td>male</td>\n      <td>group D</td>\n      <td>some college</td>\n      <td>free/reduced</td>\n      <td>completed</td>\n      <td>69</td>\n      <td>60</td>\n      <td>63</td>\n    </tr>\n    <tr>\n      <th>710</th>\n      <td>male</td>\n      <td>group C</td>\n      <td>some college</td>\n      <td>standard</td>\n      <td>completed</td>\n      <td>93</td>\n      <td>84</td>\n      <td>90</td>\n    </tr>\n    <tr>\n      <th>810</th>\n      <td>male</td>\n      <td>group A</td>\n      <td>some high school</td>\n      <td>standard</td>\n      <td>none</td>\n      <td>51</td>\n      <td>31</td>\n      <td>36</td>\n    </tr>\n    <tr>\n      <th>910</th>\n      <td>male</td>\n      <td>group D</td>\n      <td>bachelor's degree</td>\n      <td>free/reduced</td>\n      <td>none</td>\n      <td>50</td>\n      <td>42</td>\n      <td>48</td>\n    </tr>\n  </tbody>\n</table>\n</div>"
     },
     "execution_count": 71,
     "metadata": {},
     "output_type": "execute_result"
    }
   ],
   "source": [
    "students_performance.filter(like='10', axis=0)"
   ],
   "metadata": {
    "collapsed": false
   }
  },
  {
   "cell_type": "code",
   "execution_count": 78,
   "outputs": [
    {
     "data": {
      "text/plain": "    race/ethnicity\n0          group B\n1          group C\n2          group B\n3          group A\n4          group C\n..             ...\n995        group E\n996        group C\n997        group C\n998        group D\n999        group D\n\n[1000 rows x 1 columns]",
      "text/html": "<div>\n<style scoped>\n    .dataframe tbody tr th:only-of-type {\n        vertical-align: middle;\n    }\n\n    .dataframe tbody tr th {\n        vertical-align: top;\n    }\n\n    .dataframe thead th {\n        text-align: right;\n    }\n</style>\n<table border=\"1\" class=\"dataframe\">\n  <thead>\n    <tr style=\"text-align: right;\">\n      <th></th>\n      <th>race/ethnicity</th>\n    </tr>\n  </thead>\n  <tbody>\n    <tr>\n      <th>0</th>\n      <td>group B</td>\n    </tr>\n    <tr>\n      <th>1</th>\n      <td>group C</td>\n    </tr>\n    <tr>\n      <th>2</th>\n      <td>group B</td>\n    </tr>\n    <tr>\n      <th>3</th>\n      <td>group A</td>\n    </tr>\n    <tr>\n      <th>4</th>\n      <td>group C</td>\n    </tr>\n    <tr>\n      <th>...</th>\n      <td>...</td>\n    </tr>\n    <tr>\n      <th>995</th>\n      <td>group E</td>\n    </tr>\n    <tr>\n      <th>996</th>\n      <td>group C</td>\n    </tr>\n    <tr>\n      <th>997</th>\n      <td>group C</td>\n    </tr>\n    <tr>\n      <th>998</th>\n      <td>group D</td>\n    </tr>\n    <tr>\n      <th>999</th>\n      <td>group D</td>\n    </tr>\n  </tbody>\n</table>\n<p>1000 rows × 1 columns</p>\n</div>"
     },
     "execution_count": 78,
     "metadata": {},
     "output_type": "execute_result"
    }
   ],
   "source": [
    "students_performance.filter(regex='^ra.*')"
   ],
   "metadata": {
    "collapsed": false
   }
  },
  {
   "cell_type": "code",
   "execution_count": 79,
   "outputs": [
    {
     "data": {
      "text/plain": "    test_preparation_course  math_score  reading_score  writing_score\n0                      none          72             72             74\n1                 completed          69             90             88\n2                      none          90             95             93\n3                      none          47             57             44\n4                      none          76             78             75\n..                      ...         ...            ...            ...\n995               completed          88             99             95\n996                    none          62             55             55\n997               completed          59             71             65\n998               completed          68             78             77\n999                    none          77             86             86\n\n[1000 rows x 4 columns]",
      "text/html": "<div>\n<style scoped>\n    .dataframe tbody tr th:only-of-type {\n        vertical-align: middle;\n    }\n\n    .dataframe tbody tr th {\n        vertical-align: top;\n    }\n\n    .dataframe thead th {\n        text-align: right;\n    }\n</style>\n<table border=\"1\" class=\"dataframe\">\n  <thead>\n    <tr style=\"text-align: right;\">\n      <th></th>\n      <th>test_preparation_course</th>\n      <th>math_score</th>\n      <th>reading_score</th>\n      <th>writing_score</th>\n    </tr>\n  </thead>\n  <tbody>\n    <tr>\n      <th>0</th>\n      <td>none</td>\n      <td>72</td>\n      <td>72</td>\n      <td>74</td>\n    </tr>\n    <tr>\n      <th>1</th>\n      <td>completed</td>\n      <td>69</td>\n      <td>90</td>\n      <td>88</td>\n    </tr>\n    <tr>\n      <th>2</th>\n      <td>none</td>\n      <td>90</td>\n      <td>95</td>\n      <td>93</td>\n    </tr>\n    <tr>\n      <th>3</th>\n      <td>none</td>\n      <td>47</td>\n      <td>57</td>\n      <td>44</td>\n    </tr>\n    <tr>\n      <th>4</th>\n      <td>none</td>\n      <td>76</td>\n      <td>78</td>\n      <td>75</td>\n    </tr>\n    <tr>\n      <th>...</th>\n      <td>...</td>\n      <td>...</td>\n      <td>...</td>\n      <td>...</td>\n    </tr>\n    <tr>\n      <th>995</th>\n      <td>completed</td>\n      <td>88</td>\n      <td>99</td>\n      <td>95</td>\n    </tr>\n    <tr>\n      <th>996</th>\n      <td>none</td>\n      <td>62</td>\n      <td>55</td>\n      <td>55</td>\n    </tr>\n    <tr>\n      <th>997</th>\n      <td>completed</td>\n      <td>59</td>\n      <td>71</td>\n      <td>65</td>\n    </tr>\n    <tr>\n      <th>998</th>\n      <td>completed</td>\n      <td>68</td>\n      <td>78</td>\n      <td>77</td>\n    </tr>\n    <tr>\n      <th>999</th>\n      <td>none</td>\n      <td>77</td>\n      <td>86</td>\n      <td>86</td>\n    </tr>\n  </tbody>\n</table>\n<p>1000 rows × 4 columns</p>\n</div>"
     },
     "execution_count": 79,
     "metadata": {},
     "output_type": "execute_result"
    }
   ],
   "source": [
    "students_performance.filter(regex='.*e$')"
   ],
   "metadata": {
    "collapsed": false
   }
  },
  {
   "cell_type": "code",
   "execution_count": 82,
   "outputs": [
    {
     "data": {
      "text/plain": "      yrh&6      ohku         q      hfxx   umeca-4       apj         g  \\\n0  0.288397  0.911359  0.488069  0.074599  0.016124  0.090555  0.560810   \n1  0.861276  0.134987  0.701885  0.897921  0.507115  0.740151  0.963179   \n2  0.775577  0.832874  0.862665  0.831049  0.003274  0.703112  0.509795   \n3  0.857910  0.555818  0.598305  0.473988  0.784139  0.427963  0.725103   \n4  0.748652  0.451725  0.252619  0.584361  0.011265  0.051115  0.755444   \n\n   ijvnixxo  kudbpyw-3    upubjv  ...        fi   clsruyy       g&6      qo$6  \\\n0  0.110975   0.430787  0.548763  ...  0.793122  0.070335  0.145115  0.686579   \n1  0.712024   0.671662  0.497596  ...  0.477181  0.767931  0.996055  0.948774   \n2  0.573296   0.286411  0.282792  ...  0.421542  0.770413  0.749468  0.395022   \n3  0.286610   0.863717  0.545562  ...  0.240252  0.010355  0.759912  0.965837   \n4  0.627191   0.206172  0.955043  ...  0.846165  0.043458  0.209347  0.028276   \n\n         ap         o  sladymzr       tif   wuikzxt     wzuvc  \n0  0.071681  0.563068  0.815201  0.081902  0.333237  0.185148  \n1  0.054327  0.087341  0.072166  0.856081  0.120481  0.622113  \n2  0.307752  0.535575  0.341393  0.971201  0.714558  0.702453  \n3  0.110719  0.439488  0.816526  0.111621  0.373365  0.461615  \n4  0.700446  0.203503  0.181903  0.428842  0.099398  0.175227  \n\n[5 rows x 75 columns]",
      "text/html": "<div>\n<style scoped>\n    .dataframe tbody tr th:only-of-type {\n        vertical-align: middle;\n    }\n\n    .dataframe tbody tr th {\n        vertical-align: top;\n    }\n\n    .dataframe thead th {\n        text-align: right;\n    }\n</style>\n<table border=\"1\" class=\"dataframe\">\n  <thead>\n    <tr style=\"text-align: right;\">\n      <th></th>\n      <th>yrh&amp;6</th>\n      <th>ohku</th>\n      <th>q</th>\n      <th>hfxx</th>\n      <th>umeca-4</th>\n      <th>apj</th>\n      <th>g</th>\n      <th>ijvnixxo</th>\n      <th>kudbpyw-3</th>\n      <th>upubjv</th>\n      <th>...</th>\n      <th>fi</th>\n      <th>clsruyy</th>\n      <th>g&amp;6</th>\n      <th>qo$6</th>\n      <th>ap</th>\n      <th>o</th>\n      <th>sladymzr</th>\n      <th>tif</th>\n      <th>wuikzxt</th>\n      <th>wzuvc</th>\n    </tr>\n  </thead>\n  <tbody>\n    <tr>\n      <th>0</th>\n      <td>0.288397</td>\n      <td>0.911359</td>\n      <td>0.488069</td>\n      <td>0.074599</td>\n      <td>0.016124</td>\n      <td>0.090555</td>\n      <td>0.560810</td>\n      <td>0.110975</td>\n      <td>0.430787</td>\n      <td>0.548763</td>\n      <td>...</td>\n      <td>0.793122</td>\n      <td>0.070335</td>\n      <td>0.145115</td>\n      <td>0.686579</td>\n      <td>0.071681</td>\n      <td>0.563068</td>\n      <td>0.815201</td>\n      <td>0.081902</td>\n      <td>0.333237</td>\n      <td>0.185148</td>\n    </tr>\n    <tr>\n      <th>1</th>\n      <td>0.861276</td>\n      <td>0.134987</td>\n      <td>0.701885</td>\n      <td>0.897921</td>\n      <td>0.507115</td>\n      <td>0.740151</td>\n      <td>0.963179</td>\n      <td>0.712024</td>\n      <td>0.671662</td>\n      <td>0.497596</td>\n      <td>...</td>\n      <td>0.477181</td>\n      <td>0.767931</td>\n      <td>0.996055</td>\n      <td>0.948774</td>\n      <td>0.054327</td>\n      <td>0.087341</td>\n      <td>0.072166</td>\n      <td>0.856081</td>\n      <td>0.120481</td>\n      <td>0.622113</td>\n    </tr>\n    <tr>\n      <th>2</th>\n      <td>0.775577</td>\n      <td>0.832874</td>\n      <td>0.862665</td>\n      <td>0.831049</td>\n      <td>0.003274</td>\n      <td>0.703112</td>\n      <td>0.509795</td>\n      <td>0.573296</td>\n      <td>0.286411</td>\n      <td>0.282792</td>\n      <td>...</td>\n      <td>0.421542</td>\n      <td>0.770413</td>\n      <td>0.749468</td>\n      <td>0.395022</td>\n      <td>0.307752</td>\n      <td>0.535575</td>\n      <td>0.341393</td>\n      <td>0.971201</td>\n      <td>0.714558</td>\n      <td>0.702453</td>\n    </tr>\n    <tr>\n      <th>3</th>\n      <td>0.857910</td>\n      <td>0.555818</td>\n      <td>0.598305</td>\n      <td>0.473988</td>\n      <td>0.784139</td>\n      <td>0.427963</td>\n      <td>0.725103</td>\n      <td>0.286610</td>\n      <td>0.863717</td>\n      <td>0.545562</td>\n      <td>...</td>\n      <td>0.240252</td>\n      <td>0.010355</td>\n      <td>0.759912</td>\n      <td>0.965837</td>\n      <td>0.110719</td>\n      <td>0.439488</td>\n      <td>0.816526</td>\n      <td>0.111621</td>\n      <td>0.373365</td>\n      <td>0.461615</td>\n    </tr>\n    <tr>\n      <th>4</th>\n      <td>0.748652</td>\n      <td>0.451725</td>\n      <td>0.252619</td>\n      <td>0.584361</td>\n      <td>0.011265</td>\n      <td>0.051115</td>\n      <td>0.755444</td>\n      <td>0.627191</td>\n      <td>0.206172</td>\n      <td>0.955043</td>\n      <td>...</td>\n      <td>0.846165</td>\n      <td>0.043458</td>\n      <td>0.209347</td>\n      <td>0.028276</td>\n      <td>0.700446</td>\n      <td>0.203503</td>\n      <td>0.181903</td>\n      <td>0.428842</td>\n      <td>0.099398</td>\n      <td>0.175227</td>\n    </tr>\n  </tbody>\n</table>\n<p>5 rows × 75 columns</p>\n</div>"
     },
     "execution_count": 82,
     "metadata": {},
     "output_type": "execute_result"
    }
   ],
   "source": [
    "df = pd.read_csv('https://stepik.org/media/attachments/course/4852/column_hell.csv')\n",
    "df.head()"
   ],
   "metadata": {
    "collapsed": false
   }
  },
  {
   "cell_type": "code",
   "execution_count": 83,
   "outputs": [
    {
     "data": {
      "text/plain": "     umeca-4  kudbpyw-3       g-3       v-9     fla-6  hwtbyrkp-5\n0   0.016124   0.430787  0.202407  0.725508  0.305076    0.979296\n1   0.507115   0.671662  0.864249  0.867818  0.358859    0.160520\n2   0.003274   0.286411  0.928865  0.719159  0.340235    0.734612\n3   0.784139   0.863717  0.175446  0.554744  0.049325    0.621132\n4   0.011265   0.206172  0.044151  0.163643  0.048806    0.437836\n..       ...        ...       ...       ...       ...         ...\n95  0.220817   0.434444  0.601738  0.146333  0.918888    0.216499\n96  0.474131   0.176011  0.359793  0.104707  0.257690    0.066934\n97  0.091637   0.871606  0.121075  0.907699  0.313184    0.788592\n98  0.360106   0.172385  0.015285  0.019571  0.060751    0.403166\n99  0.669284   0.701505  0.481430  0.024944  0.644989    0.702003\n\n[100 rows x 6 columns]",
      "text/html": "<div>\n<style scoped>\n    .dataframe tbody tr th:only-of-type {\n        vertical-align: middle;\n    }\n\n    .dataframe tbody tr th {\n        vertical-align: top;\n    }\n\n    .dataframe thead th {\n        text-align: right;\n    }\n</style>\n<table border=\"1\" class=\"dataframe\">\n  <thead>\n    <tr style=\"text-align: right;\">\n      <th></th>\n      <th>umeca-4</th>\n      <th>kudbpyw-3</th>\n      <th>g-3</th>\n      <th>v-9</th>\n      <th>fla-6</th>\n      <th>hwtbyrkp-5</th>\n    </tr>\n  </thead>\n  <tbody>\n    <tr>\n      <th>0</th>\n      <td>0.016124</td>\n      <td>0.430787</td>\n      <td>0.202407</td>\n      <td>0.725508</td>\n      <td>0.305076</td>\n      <td>0.979296</td>\n    </tr>\n    <tr>\n      <th>1</th>\n      <td>0.507115</td>\n      <td>0.671662</td>\n      <td>0.864249</td>\n      <td>0.867818</td>\n      <td>0.358859</td>\n      <td>0.160520</td>\n    </tr>\n    <tr>\n      <th>2</th>\n      <td>0.003274</td>\n      <td>0.286411</td>\n      <td>0.928865</td>\n      <td>0.719159</td>\n      <td>0.340235</td>\n      <td>0.734612</td>\n    </tr>\n    <tr>\n      <th>3</th>\n      <td>0.784139</td>\n      <td>0.863717</td>\n      <td>0.175446</td>\n      <td>0.554744</td>\n      <td>0.049325</td>\n      <td>0.621132</td>\n    </tr>\n    <tr>\n      <th>4</th>\n      <td>0.011265</td>\n      <td>0.206172</td>\n      <td>0.044151</td>\n      <td>0.163643</td>\n      <td>0.048806</td>\n      <td>0.437836</td>\n    </tr>\n    <tr>\n      <th>...</th>\n      <td>...</td>\n      <td>...</td>\n      <td>...</td>\n      <td>...</td>\n      <td>...</td>\n      <td>...</td>\n    </tr>\n    <tr>\n      <th>95</th>\n      <td>0.220817</td>\n      <td>0.434444</td>\n      <td>0.601738</td>\n      <td>0.146333</td>\n      <td>0.918888</td>\n      <td>0.216499</td>\n    </tr>\n    <tr>\n      <th>96</th>\n      <td>0.474131</td>\n      <td>0.176011</td>\n      <td>0.359793</td>\n      <td>0.104707</td>\n      <td>0.257690</td>\n      <td>0.066934</td>\n    </tr>\n    <tr>\n      <th>97</th>\n      <td>0.091637</td>\n      <td>0.871606</td>\n      <td>0.121075</td>\n      <td>0.907699</td>\n      <td>0.313184</td>\n      <td>0.788592</td>\n    </tr>\n    <tr>\n      <th>98</th>\n      <td>0.360106</td>\n      <td>0.172385</td>\n      <td>0.015285</td>\n      <td>0.019571</td>\n      <td>0.060751</td>\n      <td>0.403166</td>\n    </tr>\n    <tr>\n      <th>99</th>\n      <td>0.669284</td>\n      <td>0.701505</td>\n      <td>0.481430</td>\n      <td>0.024944</td>\n      <td>0.644989</td>\n      <td>0.702003</td>\n    </tr>\n  </tbody>\n</table>\n<p>100 rows × 6 columns</p>\n</div>"
     },
     "execution_count": 83,
     "metadata": {},
     "output_type": "execute_result"
    }
   ],
   "source": [
    "selected_columns = df.filter(like='-')\n",
    "selected_columns"
   ],
   "metadata": {
    "collapsed": false
   }
  },
  {
   "cell_type": "code",
   "execution_count": 97,
   "outputs": [
    {
     "data": {
      "text/plain": "     umeca-4  kudbpyw-3\n0   0.016124   0.430787\n1   0.507115   0.671662\n2   0.003274   0.286411\n3   0.784139   0.863717\n4   0.011265   0.206172\n..       ...        ...\n95  0.220817   0.434444\n96  0.474131   0.176011\n97  0.091637   0.871606\n98  0.360106   0.172385\n99  0.669284   0.701505\n\n[100 rows x 2 columns]",
      "text/html": "<div>\n<style scoped>\n    .dataframe tbody tr th:only-of-type {\n        vertical-align: middle;\n    }\n\n    .dataframe tbody tr th {\n        vertical-align: top;\n    }\n\n    .dataframe thead th {\n        text-align: right;\n    }\n</style>\n<table border=\"1\" class=\"dataframe\">\n  <thead>\n    <tr style=\"text-align: right;\">\n      <th></th>\n      <th>umeca-4</th>\n      <th>kudbpyw-3</th>\n    </tr>\n  </thead>\n  <tbody>\n    <tr>\n      <th>0</th>\n      <td>0.016124</td>\n      <td>0.430787</td>\n    </tr>\n    <tr>\n      <th>1</th>\n      <td>0.507115</td>\n      <td>0.671662</td>\n    </tr>\n    <tr>\n      <th>2</th>\n      <td>0.003274</td>\n      <td>0.286411</td>\n    </tr>\n    <tr>\n      <th>3</th>\n      <td>0.784139</td>\n      <td>0.863717</td>\n    </tr>\n    <tr>\n      <th>4</th>\n      <td>0.011265</td>\n      <td>0.206172</td>\n    </tr>\n    <tr>\n      <th>...</th>\n      <td>...</td>\n      <td>...</td>\n    </tr>\n    <tr>\n      <th>95</th>\n      <td>0.220817</td>\n      <td>0.434444</td>\n    </tr>\n    <tr>\n      <th>96</th>\n      <td>0.474131</td>\n      <td>0.176011</td>\n    </tr>\n    <tr>\n      <th>97</th>\n      <td>0.091637</td>\n      <td>0.871606</td>\n    </tr>\n    <tr>\n      <th>98</th>\n      <td>0.360106</td>\n      <td>0.172385</td>\n    </tr>\n    <tr>\n      <th>99</th>\n      <td>0.669284</td>\n      <td>0.701505</td>\n    </tr>\n  </tbody>\n</table>\n<p>100 rows × 2 columns</p>\n</div>"
     },
     "execution_count": 97,
     "metadata": {},
     "output_type": "execute_result"
    }
   ],
   "source": [
    "selected_columns = df.filter(regex='^[a-z]{5,7}-')\n",
    "selected_columns"
   ],
   "metadata": {
    "collapsed": false
   }
  },
  {
   "cell_type": "code",
   "execution_count": null,
   "outputs": [],
   "source": [],
   "metadata": {
    "collapsed": false
   }
  }
 ],
 "metadata": {
  "kernelspec": {
   "display_name": "Python 3",
   "language": "python",
   "name": "python3"
  },
  "language_info": {
   "codemirror_mode": {
    "name": "ipython",
    "version": 2
   },
   "file_extension": ".py",
   "mimetype": "text/x-python",
   "name": "python",
   "nbconvert_exporter": "python",
   "pygments_lexer": "ipython2",
   "version": "2.7.6"
  }
 },
 "nbformat": 4,
 "nbformat_minor": 0
}
