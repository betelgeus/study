{
  "nbformat": 4,
  "nbformat_minor": 0,
  "metadata": {
    "accelerator": "GPU",
    "colab": {
      "provenance": [],
      "gpuType": "T4"
    },
    "kernelspec": {
      "display_name": "Python 3",
      "name": "python3"
    },
    "language_info": {
      "codemirror_mode": {
        "name": "ipython",
        "version": 3
      },
      "file_extension": ".py",
      "mimetype": "text/x-python",
      "name": "python",
      "nbconvert_exporter": "python",
      "pygments_lexer": "ipython3",
      "version": "3.8.0"
    }
  },
  "cells": [
    {
      "cell_type": "markdown",
      "metadata": {
        "id": "ZFEDiFyHcsTL"
      },
      "source": [
        "# 1 - Sequence to Sequence Learning with Neural Networks\n",
        "\n",
        "В этой статье из серии мы построим модель машинного обучения для преобразования одной последовательности в другую, используя PyTorch и torchtext. Это будет продемонстрировано на примере переводов с немецкого на английский. Однако эта модель и все последующие могут быть применены к любой проблеме, которая предполагает преобразование одной последовательности в другую, например, для задачи обобщения, то есть преобразования длинной последовательности в более короткую на том же языке, или к задаче предсказания пространственной третичной структуры белков на основе последовательности нуклеотидной цепочки мРНК ([AlphaFold](https://deepmind.com/blog/article/alphafold-a-solution-to-a-50-year-old-grand-challenge-in-biology)).\n",
        "\n",
        "В этой статье-скрипте для понимания общих концепций моделей seq2seq мы начнем с простого примера на основе модели из статьи [Sequence to Sequence Learning with Neural Networks](https://arxiv.org/abs/1409.3215).\n",
        "\n",
        "## Введение\n",
        "\n",
        "Наиболее распространенными моделями sequence-to-sequence (seq2seq) являются модели *кодера-декодера*, которые обычно используют *рекуррентную нейронную сеть* (RNN) для *кодирования* исходного (входного) предложения в один вектор. Здесь и далее в серии мы будем называть этот единственный вектор *вектором контекста*. Мы можем думать о векторе контекста как об абстрактном представлении всего входного предложения. С точки зрения когнитивистов, этот вектор контекста — набор образов сущностей с образами взаимоотношений между ними. Данный вектор *декодируется* второй RNN, которая учится выводить целевое (выходное) предложение, генерируя его слово за словом, по одной ликсеме за раз.\n",
        "\n",
        "![](https://github.com/vasiliyeskin/bentrevett-pytorch-seq2seq_ru/blob/master/assets/seq2seq1.png?raw=1)\n",
        "\n",
        "На изображении выше показан пример перевода. Предложение ввода/источника, «guten morgen», проходит через слой эмбеддинга (желтый, служит для сопоставления элементов речи (слова, предложения,...) числовому вектору), а затем вводится в кодировщик (зеленый). Всегда добавляются токены *начало последовательности* (`<sos>` — *start of sequence*) и *конец последовательности* (`<eos>` — *end of sequence*) в начало и конец предложения соответственно. На каждом временном шаге на вход в RNN кодировщика подаётся как эмбеддинг-версия текущего слова $ e (x_t)$, которая порождена слоем эмбеддинга $ e $, так и скрытое состояние из предыдущего временного шага, $ h_{t-1} $. На выход RNN кодировщика подаёт новое скрытое состояние $ h_t $. Здесь мы можем думать о скрытом состоянии как о векторном представлении предложения. RNN кодировщика может быть представлена как функция (EncoderRNN) от переменных $ e (x_t) $ и $ h_ {t-1} $:\n",
        "\n",
        "$$h_t = \\text{EncoderRNN}(e(x_t), h_{t-1})$$\n",
        "\n",
        "Здесь и далее используя аббревиатуру RNN, подразумеваем под ней сеть любой рекуррентной архитектуры: например, *LSTM* (Long Short-Term Memory) или *GRU* (Gated Recurrent Unit).\n",
        "\n",
        "Мы имеем последовательность $X = \\{x_1, x_2, ..., x_T \\}$, где $ x_1 = \\text{<sos>}, x_{2} = \\text{guten}$ и т.д. Начальное скрытое состояние, $h_0$, обычно либо инициализируется нулями, либо является параметром обучения.\n",
        "\n",
        "После того как последнее слово $ x_T $ было передано в RNN через слой эмбеддинга, мы используем конечное скрытое состояние $ h_T $ как вектор контекста, то есть $ z = h_T $. Это векторное представление всего исходного предложения.\n",
        "\n",
        "Теперь у нас есть вектор контекста $ z $, который мы можем начать декодировать, чтобы получить выходное/целевое предложение «good morning». Как и в предыдущем случае, мы добавляем токены начала и конца последовательности к целевому предложению. На каждом временном шаге входом в RNN декодера (синий) является эмбеддинг текущего слова $ d (y_t) $, а также скрытое состояние из предыдущего временного шага $ s_ { t-1} $, где начальное скрытое состояние декодера $ s_0 $, является вектором контекста, $ s_0 = z $. Т.е. начальное скрытое состояние декодера является окончательным скрытым состоянием кодера. Таким образом, аналогично кодеру, мы можем представить декодер как функцию от переменных $ d (y_t) $ и s_ { t-1}:\n",
        "\n",
        "$$s_t = \\text{DecoderRNN}(d(y_t), s_{t-1})$$\n",
        "\n",
        "Хотя слой эмбеддинга входа/источника $e$ и слой эмбеддинга выхода $d$ оба показаны жёлтым цветом на приведённом рисунке, они представляют собой два разных слоя эмбеддинга со своими собственными параметрами.\n",
        "\n",
        "В декодере нам нужно перейти от скрытого состояния к фактическому слову, поэтому на каждом временном шаге мы используем $ s_t $ для распознавания (передавая эту величину через слой `Linear`, показанный фиолетовым цветом) того, что мы считаем следующим словом в последовательности $ \\hat{y} _t $.\n",
        "\n",
        "$$\\hat{y}_t = f(s_t)$$\n",
        "\n",
        "Слова в декодере всегда генерируются одно за другим, по одному за один временной шаг. Мы всегда используем `<sos>` в качестве первого слова $ y_1 $ для ввода в декодер, но для последующих слов для ввода $ y_ {t> 1} $, мы иногда будем использовать фактическое, истинное/целевое следующее слово в последовательности $ y_t $, и иногда будем брать слово, предложенное нашим декодером $ \\hat{y} _ {t-1} $. Такой метод обучения называется *обучением с принуждением*, подробнее об этом [здесь](https://machinelearningmastery.com/teacher-forcing-for-recurrent-neural-networks/).\n",
        "\n",
        "При обучении/тестировании нашей модели мы всегда знаем, сколько слов в нашем целевом предложении, поэтому мы перестаем генерировать слова, как только набираем это количество. Во время рабочего вывода обычно генерируют слова до тех пор, пока модель не выдаст токен окончания последовательности <eos> или после того, как будет сгенерировано определенное количество слов.\n",
        "\n",
        "Когда у нас есть предсказанное предложение $\\hat{Y} = \\{ \\hat{y}_1, \\hat{y}_2, ..., \\hat{y}_T \\}$, мы сравниваем его с нашим фактическим целевым предложение, $Y = \\{ y_1, y_2, ..., y_T \\}$, для расчета потерь/ошибок. Затем используем эти потери для обновления всех параметров обучаемой модели.\n",
        "\n"
      ]
    },
    {
      "cell_type": "markdown",
      "source": [
        "## Подготовка данных\n",
        "\n",
        "Мы будем описывать модель в PyTorch и использовать torchtext для выполнения всей необходимой предварительной обработки. Кроме того, мы будем использовать spaCy для помощи в токенизации данных."
      ],
      "metadata": {
        "id": "Wp7A4GTeHjOH"
      }
    },
    {
      "cell_type": "code",
      "source": [
        "!pip install -U -q torchtext==0.15.2"
      ],
      "metadata": {
        "id": "bgkmPXZTHkOq"
      },
      "execution_count": 1,
      "outputs": []
    },
    {
      "cell_type": "code",
      "source": [
        "!pip install -U -q spacy==3.6.1\n",
        "!pip install -q portalocker>=2.0.0"
      ],
      "metadata": {
        "id": "gpv7ySV7Hmzk"
      },
      "execution_count": 2,
      "outputs": []
    },
    {
      "cell_type": "code",
      "source": [
        "!python -m spacy download en_core_web_sm &>/dev/null\n",
        "!python -m spacy download de_core_news_sm &>/dev/null"
      ],
      "metadata": {
        "id": "rKclpKtCHoIK"
      },
      "execution_count": 3,
      "outputs": []
    },
    {
      "cell_type": "markdown",
      "metadata": {
        "id": "ezlEeCKzdkmv"
      },
      "source": [
        "Для загрузки в Google Colab используем следующие команды (После загрузки обязательно перезапустите colab runtime! Наибыстрейший способ через короткую комаду： **Ctrl + M + .**):"
      ]
    },
    {
      "cell_type": "code",
      "metadata": {
        "id": "6m8uWcZ6csTQ"
      },
      "source": [
        "import torch\n",
        "import torch.nn as nn\n",
        "import torch.optim as optim\n",
        "\n",
        "from torch.utils.data import DataLoader\n",
        "from torch.nn.utils.rnn import pad_sequence\n",
        "\n",
        "import torchtext\n",
        "\n",
        "from torchtext.datasets import multi30k, Multi30k\n",
        "from torchtext.data.utils import get_tokenizer\n",
        "from torchtext.vocab import build_vocab_from_iterator\n",
        "\n",
        "from typing import Iterable, List\n",
        "\n",
        "import spacy\n",
        "import numpy as np\n",
        "\n",
        "import random\n",
        "import math\n",
        "import time"
      ],
      "execution_count": 8,
      "outputs": []
    },
    {
      "cell_type": "code",
      "source": [
        "device = torch.device('cuda' if torch.cuda.is_available() else 'cpu')\n",
        "device"
      ],
      "metadata": {
        "colab": {
          "base_uri": "https://localhost:8080/"
        },
        "id": "j6Qzm3B4InS5",
        "outputId": "d9b9d3fc-836c-4efc-af9a-30c6b4120519"
      },
      "execution_count": 2,
      "outputs": [
        {
          "output_type": "execute_result",
          "data": {
            "text/plain": [
              "device(type='cuda')"
            ]
          },
          "metadata": {},
          "execution_count": 2
        }
      ]
    },
    {
      "cell_type": "markdown",
      "metadata": {
        "id": "rkrBk8XtcsTS"
      },
      "source": [
        "Мы установим случайные начальные числа для получения детерминированных результатов."
      ]
    },
    {
      "cell_type": "code",
      "metadata": {
        "id": "7pFxVuJ5csTS"
      },
      "source": [
        "SEED = 1234\n",
        "\n",
        "random.seed(SEED)\n",
        "np.random.seed(SEED)\n",
        "torch.manual_seed(SEED)\n",
        "torch.cuda.manual_seed(SEED)\n",
        "torch.backends.cudnn.deterministic = True"
      ],
      "execution_count": 3,
      "outputs": []
    },
    {
      "cell_type": "markdown",
      "metadata": {
        "id": "AiHbqgi2csTS"
      },
      "source": [
        "Далее мы создадим токенизаторы. Токенизатор используется для превращения строки, содержащей предложение, в список отдельных токенов, составляющих эту строку, например \"доброе утро!\" становится [\"доброе\", \"утро\", \"!\"]. С этого момента мы начнем говорить о предложениях, представляющих собой последовательность токенов, вместо того, чтобы говорить, что они являются последовательностью слов. Какая разница? Что ж, «добро» и «утро» - это и слова, и знаки, но «!» это знак, а не слово.\n",
        "\n",
        "В spaCy есть модель для каждого языка (de_core_news_sm для немецкого и en_core_web_sm для английского), которую необходимо загрузить, чтобы мы могли получить доступ к токенизатору каждой модели.\n",
        "\n",
        "**Примечание**: сначала необходимо загрузить модели на диск, используя следующую команду в командной строке:\n",
        "\n",
        "```\n",
        "python -m spacy download en_core_web_sm\n",
        "python -m spacy download de_core_news_sm\n",
        "```\n"
      ]
    },
    {
      "cell_type": "markdown",
      "source": [
        "Нам необходимо изменить URL-адреса набора данных, поскольку ссылки на исходный набор данных не работают.\n",
        "\n",
        "Смотрите https://github.com/pytorch/text/issues/1756#issuecomment-1163664163 для получения дополнительной информации."
      ],
      "metadata": {
        "id": "pdi3qug2oTf5"
      }
    },
    {
      "cell_type": "code",
      "source": [
        "multi30k.URL[\"train\"] = \"https://raw.githubusercontent.com/neychev/small_DL_repo/master/datasets/Multi30k/training.tar.gz\"\n",
        "multi30k.URL[\"valid\"] = \"https://raw.githubusercontent.com/neychev/small_DL_repo/master/datasets/Multi30k/validation.tar.gz\""
      ],
      "metadata": {
        "id": "1UvBMgw5AFft"
      },
      "execution_count": 4,
      "outputs": []
    },
    {
      "cell_type": "code",
      "source": [
        "SRC_LANGUAGE = 'de'\n",
        "TGT_LANGUAGE = 'en'\n",
        "\n",
        "# Place-holders\n",
        "token_transform = {}\n",
        "vocab_transform = {}"
      ],
      "metadata": {
        "id": "oLOQ6165xS_A"
      },
      "execution_count": 5,
      "outputs": []
    },
    {
      "cell_type": "markdown",
      "metadata": {
        "id": "CddWL77OcsTT"
      },
      "source": [
        "Далее мы создаем токенизирующие функции. Они могут быть переданы в torchtext и будут принимать предложение в виде строки, а возвращать предложение в виде списка токенов.\n",
        "\n",
        "В статье, на основе которой мы реализуем данную модель, авторы считают полезным изменить порядок ввода токенов, который, по их мнению, «вводит множество краткосрочных зависимостей в данные, значительно упрощая задачу оптимизации». Мы копируем результат, переворачивая немецкое предложение после того, как оно было преобразовано в список токенов."
      ]
    },
    {
      "cell_type": "code",
      "metadata": {
        "id": "QQOIRpMLcsTT"
      },
      "source": [
        "token_transform[SRC_LANGUAGE] = get_tokenizer('spacy', language='de_core_news_sm')\n",
        "token_transform[TGT_LANGUAGE] = get_tokenizer('spacy', language='en_core_web_sm')"
      ],
      "execution_count": 6,
      "outputs": []
    },
    {
      "cell_type": "code",
      "metadata": {
        "id": "T3pgFgGqcsTV"
      },
      "source": [
        "# helper function to yield list of tokens\n",
        "def yield_tokens(data_iter: Iterable, language: str) -> List[str]:\n",
        "    language_index = {SRC_LANGUAGE: 0, TGT_LANGUAGE: 1}\n",
        "\n",
        "    for data_sample in data_iter:\n",
        "        yield token_transform[language](data_sample[language_index[language]])\n",
        "\n",
        "# Define special symbols and indices\n",
        "UNK_IDX, PAD_IDX, BOS_IDX, EOS_IDX = 0, 1, 2, 3\n",
        "# Make sure the tokens are in order of their indices to properly insert them in vocab\n",
        "special_symbols = ['<unk>', '<pad>', '<bos>', '<eos>']\n",
        "\n",
        "for ln in [SRC_LANGUAGE, TGT_LANGUAGE]:\n",
        "    # Training data Iterator\n",
        "    train_iter = Multi30k(split='train', language_pair=(SRC_LANGUAGE, TGT_LANGUAGE))\n",
        "    # Create torchtext's Vocab object\n",
        "    vocab_transform[ln] = build_vocab_from_iterator(yield_tokens(train_iter, ln),\n",
        "                                                    min_freq=1,\n",
        "                                                    specials=special_symbols,\n",
        "                                                    special_first=True)\n",
        "\n",
        "# Set ``UNK_IDX`` as the default index. This index is returned when the token is not found.\n",
        "# If not set, it throws ``RuntimeError`` when the queried token is not found in the Vocabulary.\n",
        "for ln in [SRC_LANGUAGE, TGT_LANGUAGE]:\n",
        "  vocab_transform[ln].set_default_index(UNK_IDX)"
      ],
      "execution_count": 9,
      "outputs": []
    },
    {
      "cell_type": "markdown",
      "metadata": {
        "id": "46cXSUebcsTV"
      },
      "source": [
        "Мы можем проверить, что загрузили нужное количество примеров:"
      ]
    },
    {
      "cell_type": "code",
      "metadata": {
        "id": "VkY6DbRfcsTV",
        "outputId": "908eb8de-e94b-45f6-cf6f-de6375137a01",
        "colab": {
          "base_uri": "https://localhost:8080/"
        }
      },
      "source": [
        "print(f\"Number of training examples: {len(list(train_iter))}\")"
      ],
      "execution_count": 10,
      "outputs": [
        {
          "output_type": "stream",
          "name": "stderr",
          "text": [
            "/usr/local/lib/python3.10/dist-packages/torch/utils/data/datapipes/iter/combining.py:297: UserWarning: Some child DataPipes are not exhausted when __iter__ is called. We are resetting the buffer and each child DataPipe will read from the start again.\n",
            "  warnings.warn(\"Some child DataPipes are not exhausted when __iter__ is called. We are resetting \"\n"
          ]
        },
        {
          "output_type": "stream",
          "name": "stdout",
          "text": [
            "Number of training examples: 29001\n"
          ]
        }
      ]
    },
    {
      "cell_type": "markdown",
      "metadata": {
        "id": "9xGvuL_KcsTW"
      },
      "source": [
        "Мы также можем распечатать пример, убедившись, что исходное предложение  переведено:"
      ]
    },
    {
      "cell_type": "code",
      "metadata": {
        "id": "uucIZijPcsTW",
        "outputId": "393a2b5f-2ec0-41fd-b1b0-7c61901265e0",
        "colab": {
          "base_uri": "https://localhost:8080/"
        }
      },
      "source": [
        "list(train_iter)[0]"
      ],
      "execution_count": 12,
      "outputs": [
        {
          "output_type": "stream",
          "name": "stderr",
          "text": [
            "/usr/local/lib/python3.10/dist-packages/torch/utils/data/datapipes/iter/combining.py:297: UserWarning: Some child DataPipes are not exhausted when __iter__ is called. We are resetting the buffer and each child DataPipe will read from the start again.\n",
            "  warnings.warn(\"Some child DataPipes are not exhausted when __iter__ is called. We are resetting \"\n"
          ]
        },
        {
          "output_type": "execute_result",
          "data": {
            "text/plain": [
              "('Zwei junge weiße Männer sind im Freien in der Nähe vieler Büsche.',\n",
              " 'Two young, White males are outside near many bushes.')"
            ]
          },
          "metadata": {},
          "execution_count": 12
        }
      ]
    },
    {
      "cell_type": "markdown",
      "metadata": {
        "id": "UrhakG6ecsTW"
      },
      "source": [
        "Точка стоит в начале предложения на немецком языке (src), поэтому похоже, что предложение было правильно переведено.\n",
        "\n",
        "Затем мы создадим *словарь* для исходного и целевого языков. Словарь используется для связывания каждого уникального токена с индексом (целым числом). Словари исходного и целевого языков различаются.\n",
        "\n",
        "Используя аргумент `min_freq`, мы разрешаем только токенам, которые появляются как минимум 2 раза, появляться в нашем словаре. Токены, которые появляются только один раз, конвертируются в токен `<unk>` (неизвестно).\n",
        "\n",
        "Важно отметить, что наш словарь должен строиться только на основе обучающего набора, а не набора для проверки/тестирования. Это предотвращает «утечку информации» в нашу модель, давая нам искусственно завышенные оценки валидации/тестирования."
      ]
    },
    {
      "cell_type": "markdown",
      "metadata": {
        "id": "nIBOmUy9csTY"
      },
      "source": [
        "## Построение модели Seq2Seq\n",
        "\n",
        "Мы будем строить нашу модель из трех частей. Кодер, декодер и модель seq2seq, которая инкапсулирует кодер и декодер, и обеспечивает способ взаимодействия с каждым из них.\n",
        "\n",
        "### Кодер\n",
        "\n",
        "Во-первых, кодер — это двухслойная LSTM сеть. В статье, на которую мы опираемся при реализации, используется 4-слойная LSTM сеть, но в целях экономии времени мы сократили количество слоёв до 2-х. Многослойную RNN легко расширить с 2 до 4 уровней.\n",
        "\n",
        "Во многослойной RNN входное предложение $X$ после эмбеддинга передаётся в первый (нижний) слой RNN и порождает скрытые состояния $H=\\{h_1, h_2, ..., h_T\\}$. Выходные данные этого слоя используются в качестве входных данных для RNN на уровне выше. Таким образом, представляя каждый слой надстрочным индексом, скрытые состояния в первом слое задаются следующим образом:\n",
        "\n",
        "$$h_t^{(1)} = \\text{EncoderRNN}^{(1)}(e(x_t), h_{t-1}^{(1)})$$\n",
        "\n",
        "Скрытые состояния во втором слое задаются следующим образом:\n",
        "\n",
        "$$h_t^{(2)} = \\text{EncoderRNN}^{(2)}(h_t^{(1)}, h_{t-1}^{(2)})$$\n",
        "\n",
        "Использование многослойной RNN предполагает, что нам понадобится исходное скрытое состояние в качестве входных данных для каждого слоя $h_0^{(l)}$, а сеть будет предоставлять вектор контекста для каждого слоя $z^{(l)}$.\n",
        "\n",
        "Не вдаваясь в подробности о LSTM сети (см. [здесь](https://colah.github.io/posts/2015-08-Understanding-LSTMs/), чтобы узнать о них больше), все, что нам нужно знать, это то, что эти сети являются RNN, которые вместо того, чтобы просто принимать скрытое состояние и возвращать новое скрытое состояние для каждого временного шага, принимают и возвращают *состояние ячейки* $ c_t $, на каждом временном шаге.\n",
        "\n",
        "$$\\begin{align*}\n",
        "h_t &= \\text{RNN}(e(x_t), h_{t-1})\\\\\n",
        "(h_t, c_t) &= \\text{LSTM}(e(x_t), h_{t-1}, c_{t-1})\n",
        "\\end{align*}$$\n",
        "\n",
        "Мы можем принять $c_t$ как другой тип скрытого состояния. Подобно $h_0^{(l)}$, величина $c_0^{(l)}$ будет инициализирована тензором, заполненным нулями. Кроме того, наш вектор контекста теперь будет образован конечным скрытым состоянием и конечным состоянием ячейки, то есть $z^{(l)} = (h_T^{(l)}, c_T^{(l)})$.\n",
        "\n",
        "Распространяя наши многослойные уравнения на LSTM, мы получаем:\n",
        "\n",
        "$$\\begin{align*}\n",
        "(h_t^{(1)}, c_t^{(1)}) &= \\text{EncoderLSTM}^{(1)}(e(x_t), (h_{t-1}^{(1)}, c_{t-1}^{(1)}))\\\\\n",
        "(h_t^{(2)}, c_t^{(2)}) &= \\text{EncoderLSTM}^{(2)}(h_t^{(1)}, (h_{t-1}^{(2)}, c_{t-1}^{(2)}))\n",
        "\\end{align*}$$\n",
        "\n",
        "Обратите внимание на то, что наше скрытое состояние из первого слоя передается в качестве входных данных во второй слой, а не в состояние ячейки.\n",
        "\n",
        "Итак, наш кодировщик выглядит примерно так:\n",
        "\n",
        "![](https://github.com/vasiliyeskin/bentrevett-pytorch-seq2seq_ru/blob/master/assets/seq2seq2.png?raw=1)\n",
        "\n",
        "Мы реализуем это в коде, создав модуль `Encoder`, который требует, чтобы мы унаследовали это класс от` torch.nn.Module` и использовали `super () .__ init __ ()` как некоторый шаблонный код. Кодировщик принимает следующие аргументы:\n",
        "- `input_dim` - размер / размерность one-hot векторов, которые будут вводиться в кодировщик. Они равны размеру входного (исходного) размера словаря.\n",
        "- `emb_dim` - размерность слоя эмбеддинга. Этот слой преобразует one-hot векторы в плотные векторы с размерами `emb_dim`.\n",
        "- `hid_dim` - размерность скрытого состояния и состояния ячейки.\n",
        "- `n_layers` - количество слоев в RNN.\n",
        "- `dropout` - количественная характеристика дропаута. Это параметр регуляризации для предотвращения переобучения. Ознакомьтесь с [этим здесь](https://www.coursera.org/lecture/deep-neural-network/understanding-dropout-YaGbR) для получения дополнительных сведений о прекращении обучения.\n",
        "\n",
        "Мы не собираемся подробно обсуждать слой эмбеддинга в этих заметках. Все, что нам нужно знать, это то, что есть шаг до того, как слова -  индексы слов - передаются в RNN, где слова преобразуются в векторы. Чтобы узнать больше об эмбеддинге слов, посмотрите эти статьи: [1](https://monkeylearn.com/blog/word-embeddings-transform-text-numbers/), [2](http://p.migdal.pl/2017/01/06/king-man-woman-queen-why.html), [3](http://mccormickml.com/2016/04/19/word2vec-tutorial-the-skip-gram-model/), [4](http://mccormickml.com/2017/01/11/word2vec-tutorial-part-2-negative-sampling/).\n",
        "\n",
        "Слой эмбеддинга создаётся с помощью `nn.Embedding`, LSTM с `nn.LSTM` и слой дропаута с `nn.Dropout`. Дополнительные сведения об этом см. в [документации](https://pytorch.org/docs/stable/nn.html).\n",
        "\n",
        "Следует отметить, что аргумент `dropout` для LSTM заключается в том, сколько связей необходимо отключить между уровнями многослойной RNN, то есть между скрытыми состояниями, выводимыми из уровня $ l $, и теми же скрытыми состояниями, используемыми для ввод слоя $ l + 1 $.\n",
        "\n",
        "В методе `forward` мы передаем исходное предложение $ X $, которое преобразуется в плотные векторы с помощью слоя `embedding`, а затем применяется дропаут. Эти величины через эмбеддинг затем передаются в RNN. Когда мы загружаем всю последовательность в RNN, она автоматически выполняет для нас рекуррентные расчёт скрытых состояний по всей последовательности! Обратите внимание, что мы не передаем в RNN начальное скрытое состояние или состояние ячейки. Это связано с тем, что, как указано в [документации] (https://pytorch.org/docs/stable/nn.html#torch.nn.LSTM), если в RNN не передается скрытое состояние / состояние ячейки, оно автоматически создает начальное скрытое состояние / состояние ячейки как тензор с нулями.\n",
        "\n",
        "RNN возвращает: `outputs` (скрытые состояния верхнего уровня для каждого временного шага), `hidden` (окончательное скрытое состояние для каждого слоя, $h_T$, наложенное друг на друга) и `cell` (конечное состояние ячейки для каждого слоя, $c_T$, наложенных друг на друга).\n",
        "\n",
        "Поскольку нам нужны только окончательные скрытой состояния и состояние ячейки (для создания нашего вектора контекста), `forward` только возвращает `hidden` и `cell`.\n",
        "\n",
        "Размеры каждого из тензоров оставлены в виде комментариев в коде. В этой реализации `n_directions` всегда будет 1, однако обратите внимание, что двунаправленные RNN (описанные в разделе 3) будут иметь` n_directions` равное 2."
      ]
    },
    {
      "cell_type": "code",
      "metadata": {
        "id": "OFQqriUkcsTa"
      },
      "source": [
        "class Encoder(nn.Module):\n",
        "    def __init__(self, input_dim, emb_dim, hid_dim, n_layers, dropout):\n",
        "        super().__init__()\n",
        "\n",
        "        self.hid_dim = hid_dim\n",
        "        self.n_layers = n_layers\n",
        "\n",
        "        self.embedding = nn.Embedding(input_dim, emb_dim)\n",
        "\n",
        "        self.rnn = nn.LSTM(emb_dim, hid_dim, n_layers, dropout = dropout)\n",
        "\n",
        "        self.dropout = nn.Dropout(dropout)\n",
        "\n",
        "    def forward(self, src):\n",
        "\n",
        "        #src = [src len, batch size]\n",
        "\n",
        "        embedded = self.dropout(self.embedding(src))\n",
        "\n",
        "        #embedded = [src len, batch size, emb dim]\n",
        "\n",
        "        outputs, (hidden, cell) = self.rnn(embedded)\n",
        "\n",
        "        #outputs = [src len, batch size, hid dim * n directions]\n",
        "        #hidden = [n layers * n directions, batch size, hid dim]\n",
        "        #cell = [n layers * n directions, batch size, hid dim]\n",
        "\n",
        "        #outputs are always from the top hidden layer\n",
        "\n",
        "        return hidden, cell"
      ],
      "execution_count": 13,
      "outputs": []
    },
    {
      "cell_type": "markdown",
      "metadata": {
        "id": "co4tJdoRcsTc"
      },
      "source": [
        "### Декодер\n",
        "\n",
        "Далее мы построим наш декодер, который, как и кодер, будет двухслойной LSTM сетью (4-х слойной в статье).\n",
        "\n",
        "![](https://github.com/vasiliyeskin/bentrevett-pytorch-seq2seq_ru/blob/master/assets/seq2seq3.png?raw=1)\n",
        "\n",
        "Объект класса `Decoder` выполняет один шаг декодирования, то есть выводит один токен за каждую временную итерацию. Первый слой получает скрытое состояние и состояние ячейки из предыдущего временного шага $(s_{t-1}^{(1)}, c_{t-1}^{(1)})$ и передаёт его через LSTM вместе с текущим встроенным токеном $y_t$, для создания нового скрытого состояния и состояния ячейки $(s_t^{(1)}, c_t^{(1)})$. Последующие слои будут использовать скрытое состояние из слоя ниже, $s_t^{(l-1)}$, и предыдущие скрытые состояния и состояния ячеек из своего слоя, $(s_{t-1}^{(l)}, c_{t-1}^{(l)})$. Это приводит к выражениям, очень похожими на те, что используются для кодировщика.\n",
        "\n",
        "$$\\begin{align*}\n",
        "(s_t^{(1)}, c_t^{(1)}) = \\text{DecoderLSTM}^{(1)}(d(y_t), (s_{t-1}^{(1)}, c_{t-1}^{(1)}))\\\\\n",
        "(s_t^{(2)}, c_t^{(2)}) = \\text{DecoderLSTM}^{(2)}(s_t^{(1)}, (s_{t-1}^{(2)}, c_{t-1}^{(2)}))\n",
        "\\end{align*}$$\n",
        "\n",
        "Помните, что начальные скрытые состояния и состояния ячеек для нашего декодера — это наши векторы контекста, которые являются конечными скрытыми состояниями и состояниями ячеек нашего кодировщика с того же уровня, т.е. $(s_0^{(l)},c_0^{(l)})=z^{(l)}=(h_T^{(l)},c_T^{(l)})$.\n",
        "\n",
        "Затем мы передаём скрытое состояние из верхнего уровня RNN $s_t^{(L)}$, через линейный слой $f$, для предложения следующего токена в целевой (выходной) последовательности $\\hat{y}_{t+1}$.\n",
        "\n",
        "$$\\hat{y}_{t+1} = f(s_t^{(L)})$$\n",
        "\n",
        "Аргументы и инициализация аналогичны классу `Encoder`, за исключением того, что теперь у нас есть `output_dim`, который является размером словаря для выходной/целевой последовательности. Кроме того, добавлен слой `Linear`, используемый для прогнозирования токена на основе скрытого состояния верхнего уровня.\n",
        "\n",
        "Метод `forward` принимает пакет входных токенов, предыдущие скрытые состояния и предыдущие состояния ячеек. Поскольку мы декодируем только один токен за раз, входные токены всегда будут иметь единичную длину последовательности. Мы «разжимаем» входные токены для получения предложения длины 1. Затем, как и в кодировщике, мы проходим через слой эмбеддинга и применяем дропаут. Этот пакет встроенных токенов затем передается в RNN с предыдущими скрытыми состояниями и состояниями ячеек. Таким образом создаётся «вывод» (скрытое состояние из верхнего уровня RNN), новое «скрытое» состояние (по одному для каждого слоя, накладываемое друг на друга) и новое состояние «ячейки» (также по одному на слой, уложеные друг на друга). Затем мы передаем «вывод» (после того, как избавляемся от измерения длины предложения) через линейный слой, чтобы получить «предложенное» слово. Далее мы возвращаем «предложенное» слово, новое «скрытое» состояние и новое состояние «ячейки».\n",
        "\n",
        "**Примечание**: т.к. у нас всегда длина последовательности равна 1, мы могли бы использовать `nn.LSTMCell` вместо `nn.LSTM`, поскольку он предназначен для обработки пакета входных данных, которые необязательно входят в последовательность. nn.LSTMCell - это просто одна ячейка, а nn.LSTM - потенциально оболочка вокруг нескольких ячеек. Использование `nn.LSTMCell` в этом случае означало бы, что нам не нужно «разжимать» предложение, чтобы добавить измерение длины промежуточной последовательности, но нам понадобится один `nn.LSTMCell` на каждый слой в декодере и, чтобы гарантировать, что каждый` nn .LSTMCell` получает правильное начальное скрытое состояние от кодировщика. Все это делает код менее лаконичным — отсюда и решение придерживаться обычного `nn.LSTM`."
      ]
    },
    {
      "cell_type": "code",
      "metadata": {
        "id": "C6bKoDEYcsTc"
      },
      "source": [
        "class Decoder(nn.Module):\n",
        "    def __init__(self, output_dim, emb_dim, hid_dim, n_layers, dropout):\n",
        "        super().__init__()\n",
        "\n",
        "        self.output_dim = output_dim\n",
        "        self.hid_dim = hid_dim\n",
        "        self.n_layers = n_layers\n",
        "\n",
        "        self.embedding = nn.Embedding(output_dim, emb_dim)\n",
        "\n",
        "        self.rnn = nn.LSTM(emb_dim, hid_dim, n_layers, dropout = dropout)\n",
        "\n",
        "        self.fc_out = nn.Linear(hid_dim, output_dim)\n",
        "\n",
        "        self.dropout = nn.Dropout(dropout)\n",
        "\n",
        "    def forward(self, input, hidden, cell):\n",
        "\n",
        "        #input = [batch size]\n",
        "        #hidden = [n layers * n directions, batch size, hid dim]\n",
        "        #cell = [n layers * n directions, batch size, hid dim]\n",
        "\n",
        "        #n directions in the decoder will both always be 1, therefore:\n",
        "        #hidden = [n layers, batch size, hid dim]\n",
        "        #context = [n layers, batch size, hid dim]\n",
        "\n",
        "        input = input.unsqueeze(0)\n",
        "\n",
        "        #input = [1, batch size]\n",
        "\n",
        "        embedded = self.dropout(self.embedding(input))\n",
        "\n",
        "        #embedded = [1, batch size, emb dim]\n",
        "\n",
        "        output, (hidden, cell) = self.rnn(embedded, (hidden, cell))\n",
        "\n",
        "        #output = [seq len, batch size, hid dim * n directions]\n",
        "        #hidden = [n layers * n directions, batch size, hid dim]\n",
        "        #cell = [n layers * n directions, batch size, hid dim]\n",
        "\n",
        "        #seq len and n directions will always be 1 in the decoder, therefore:\n",
        "        #output = [1, batch size, hid dim]\n",
        "        #hidden = [n layers, batch size, hid dim]\n",
        "        #cell = [n layers, batch size, hid dim]\n",
        "\n",
        "        prediction = self.fc_out(output.squeeze(0))\n",
        "\n",
        "        #prediction = [batch size, output dim]\n",
        "\n",
        "        return prediction, hidden, cell"
      ],
      "execution_count": 14,
      "outputs": []
    },
    {
      "cell_type": "markdown",
      "metadata": {
        "id": "627wJcSvcsTc"
      },
      "source": [
        "### Seq2Seq\n",
        "\n",
        "В заключительной части мы реализуем модель seq2seq. Она будет:\n",
        "- получать входные предложения (предложения из источника)\n",
        "- использовать кодировщик для создания векторов контекста\n",
        "- использовать декодер для создания выходного/целевого предложения\n",
        "\n",
        "Наша полная модель будет выглядеть следующим образом:\n",
        "\n",
        "![](https://github.com/vasiliyeskin/bentrevett-pytorch-seq2seq_ru/blob/master/assets/seq2seq4.png?raw=1)\n",
        "\n",
        "Модель `Seq2Seq` принимает кодировщик, декодер и ссылку на девайс (используется для размещения тензоров на GPU, если он существует).\n",
        "\n",
        "Для этой реализации мы должны убедиться, что количество слоев и скрытые (и ячейки) размеры равны в `Encoder` и `Decoder`. Это не всегда так, и нам необязательно нужно соблюдать равенство количества слоев или равенство размера скрытых измерений в модели sequence-to-sequence. Однако, если бы мы сделали количество слоёв отличными, нам нужно было бы принять решение о том, как обрабатывать результаты. Например, если у нашего кодировщика 2 слоя, а у нашего декодера только 1, как это обрабатывать? Усреднять ли два вектора контекста, выводимых декодером? Пропускать ли оба через линейный слой? Использовать ли только вектор контекста с самого верхнего уровня? И т.п.\n",
        "\n",
        "Наш метод `forward` берет исходное предложение, целевое предложение и коэффициент, показывающий вероятность включения метода `обучения с принуждением`. При декодировании на каждом временном шаге мы будем предсказывать, какой следующий токен в целевой последовательности будет взят из предыдущих декодированных токенов, $\\hat{y}_{t+1}=f(s_t^{(L)})$. С вероятностью, равной указанноуму выше коэффициенту (`teacher_forcing_ratio`), мы будем использовать фактический следующий токен истинной/целеовй последовательности в качестве входных данных для декодера в течение следующего временного шага. Однако с вероятностью `1 - teacher_forcing_ratio` мы будем использовать токен, предсказанный моделью, в качестве следующего входа в модель, даже если он не соответствует фактическому следующему токену в истинной последовательности.\n",
        "\n",
        "Первое, что мы делаем в методе `forward`, - это создаём тензор` output`, который будет хранить все предложенные моделью прогнозы $\\hat{Y}$.\n",
        "\n",
        "Затем мы загружаем входное предложение, `src`, в кодировщик и получаем окончательные скрытые состояния и состояния ячеек.\n",
        "\n",
        "Первым входом в декодер является токен начала последовательности (`<sos>`). Поскольку к нашему тензору `trg` уже добавлен токен `<sos>` (определяли `init_token` в нашем поле `TRG`), мы получаем $y_1$, разрезая его. Мы знаем, какой длины должны быть наши целевые предложения (`max_len`), поэтому мы повторяем этот цикл необходимое количество раз. Последний токен, введенный в декодер, - это токен перед токеном `<eos>` - токен `<eos>` никогда не вводится в декодер.\n",
        "\n",
        "Во время каждой итерации цикла мы:\n",
        "- передаём входное предложение, предыдущее скрытое и предыдущее состояния ячейки ($y_t, s_{t-1}, c_{t-1}$) в декодер\n",
        "- получаем предсказание, следующее скрытое состояние и следующее состояние ячейки ($\\hat{y}_{t+1}, s_{t}, c_{t}$) из декодера\n",
        "- размещаем наше предсказание, $\\hat{y}_{t+1}$/`output` в нашем тензоре предсказаний, $\\hat{Y}$/`outputs`\n",
        "- решаем использовать ли обучение с принуждением\n",
        "    - если мы решаем использовать, то следующий `ввод` - это следующий токен в последовательности, $y_{t+1}$/`trg[t]`\n",
        "    - если мы решаем не использовать, то `ввод` - это следующий токен в последовательности, $\\hat{y}_{t+1}$/`top1`, который мы получаем, пропуская выходной тензор через `argmax`\n",
        "\n",
        "После того как мы сделали все действия, мы возвращаем наш тензор, полный предсказаний $\\hat{Y}$/`outputs`.\n",
        "\n",
        "**Примечание**: наш цикл декодера начинается с 1, не с 0. Это означает, что в нулевом элементе нашего тензора \"выходов\" остаются все нули. Так что наши `trg` и` output` выглядят следующим образом:\n",
        "\n",
        "$$\\begin{align*}\n",
        "\\text{trg} = [<sos>, &y_1, y_2, y_3, <eos>]\\\\\n",
        "\\text{outputs} = [0, &\\hat{y}_1, \\hat{y}_2, \\hat{y}_3, <eos>]\n",
        "\\end{align*}$$\n",
        "\n",
        "Позже, когда мы вычисляем потери, мы отсекаем первый элемент каждого тензора, чтобы получить:\n",
        "\n",
        "$$\\begin{align*}\n",
        "\\text{trg} = [&y_1, y_2, y_3, <eos>]\\\\\n",
        "\\text{outputs} = [&\\hat{y}_1, \\hat{y}_2, \\hat{y}_3, <eos>]\n",
        "\\end{align*}$$"
      ]
    },
    {
      "cell_type": "code",
      "metadata": {
        "id": "MY10iCM0csTd"
      },
      "source": [
        "class Seq2Seq(nn.Module):\n",
        "    def __init__(self, encoder, decoder, device):\n",
        "        super().__init__()\n",
        "\n",
        "        self.encoder = encoder\n",
        "        self.decoder = decoder\n",
        "        self.device = device\n",
        "\n",
        "        assert encoder.hid_dim == decoder.hid_dim, \\\n",
        "            \"Hidden dimensions of encoder and decoder must be equal!\"\n",
        "        assert encoder.n_layers == decoder.n_layers, \\\n",
        "            \"Encoder and decoder must have equal number of layers!\"\n",
        "\n",
        "    def forward(self, src, trg, teacher_forcing_ratio = 0.5):\n",
        "\n",
        "        #src = [src len, batch size]\n",
        "        #trg = [trg len, batch size]\n",
        "        #teacher_forcing_ratio is probability to use teacher forcing\n",
        "        #e.g. if teacher_forcing_ratio is 0.75 we use ground-truth inputs 75% of the time\n",
        "\n",
        "        batch_size = trg.shape[1]\n",
        "        trg_len = trg.shape[0]\n",
        "        trg_vocab_size = self.decoder.output_dim\n",
        "\n",
        "        #tensor to store decoder outputs\n",
        "        outputs = torch.zeros(trg_len, batch_size, trg_vocab_size).to(self.device)\n",
        "\n",
        "        #last hidden state of the encoder is used as the initial hidden state of the decoder\n",
        "        hidden, cell = self.encoder(src)\n",
        "\n",
        "        #first input to the decoder is the <sos> tokens\n",
        "        input = trg[0,:]\n",
        "\n",
        "        for t in range(1, trg_len):\n",
        "\n",
        "            #insert input token embedding, previous hidden and previous cell states\n",
        "            #receive output tensor (predictions) and new hidden and cell states\n",
        "            output, hidden, cell = self.decoder(input, hidden, cell)\n",
        "\n",
        "            #place predictions in a tensor holding predictions for each token\n",
        "            outputs[t] = output\n",
        "\n",
        "            #decide if we are going to use teacher forcing or not\n",
        "            teacher_force = random.random() < teacher_forcing_ratio\n",
        "\n",
        "            #get the highest predicted token from our predictions\n",
        "            top1 = output.argmax(1)\n",
        "\n",
        "            #if teacher forcing, use actual next token as next input\n",
        "            #if not, use predicted token\n",
        "            input = trg[t] if teacher_force else top1\n",
        "\n",
        "        return outputs"
      ],
      "execution_count": 15,
      "outputs": []
    },
    {
      "cell_type": "markdown",
      "metadata": {
        "id": "l0N-r7dwcsTd"
      },
      "source": [
        "# Обучение модели Seq2Seq\n",
        "\n",
        "Теперь, когда наша модель готова, мы можем приступить к ее обучению.\n",
        "\n",
        "Сначала мы инициализируем нашу модель. Как упоминалось ранее, размеры ввода и вывода определяются размером словаря. Размеры эмбеддинга и дропаута для кодера и декодера могут быть разными, но количество слоёв и размерность скрытых состояний должны быть одинаковыми.\n",
        "\n",
        "Затем определяем кодер, декодер и нашу модель Seq2Seq, которую мы загружаем в `device`.\n"
      ]
    },
    {
      "cell_type": "code",
      "metadata": {
        "id": "GBon1HB0csTd"
      },
      "source": [
        "INPUT_DIM = len(vocab_transform['de'])\n",
        "OUTPUT_DIM = len(vocab_transform['en'])\n",
        "ENC_EMB_DIM = 256\n",
        "DEC_EMB_DIM = 256\n",
        "HID_DIM = 512\n",
        "N_LAYERS = 2\n",
        "ENC_DROPOUT = 0.5\n",
        "DEC_DROPOUT = 0.5\n",
        "\n",
        "enc = Encoder(INPUT_DIM, ENC_EMB_DIM, HID_DIM, N_LAYERS, ENC_DROPOUT)\n",
        "dec = Decoder(OUTPUT_DIM, DEC_EMB_DIM, HID_DIM, N_LAYERS, DEC_DROPOUT)\n",
        "\n",
        "model = Seq2Seq(enc, dec, device).to(device)"
      ],
      "execution_count": 29,
      "outputs": []
    },
    {
      "cell_type": "markdown",
      "metadata": {
        "id": "ApclyAUYcsTd"
      },
      "source": [
        "Затем инициализируем веса нашей модели. В статье утверждается, что инициализируют все веса из равномерного распределения между -0.08 и +0.08, т.е. $\\mathcal{U}(-0.08, 0.08)$.\n",
        "\n",
        "Мы инициализируем веса в PyTorch, создавая функцию `apply`, которую мы применяем к нашей модели. При использовании функции `apply` функция весов `init_weights` будет вызываться для каждого модуля и подмодуля в нашей модели. Для каждого модуля мы перебираем все параметры и выбираем их из равномерного распределения с помощью `nn.init.uniform_`."
      ]
    },
    {
      "cell_type": "code",
      "metadata": {
        "id": "cSBF9JplcsTd",
        "outputId": "4c200cb7-4fb7-4a68-85bb-744a121c9598",
        "colab": {
          "base_uri": "https://localhost:8080/"
        }
      },
      "source": [
        "def init_weights(m):\n",
        "    for name, param in m.named_parameters():\n",
        "        nn.init.uniform_(param.data, -0.08, 0.08)\n",
        "\n",
        "model.apply(init_weights)"
      ],
      "execution_count": 30,
      "outputs": [
        {
          "output_type": "execute_result",
          "data": {
            "text/plain": [
              "Seq2Seq(\n",
              "  (encoder): Encoder(\n",
              "    (embedding): Embedding(19214, 256)\n",
              "    (rnn): LSTM(256, 512, num_layers=2, dropout=0.5)\n",
              "    (dropout): Dropout(p=0.5, inplace=False)\n",
              "  )\n",
              "  (decoder): Decoder(\n",
              "    (embedding): Embedding(10837, 256)\n",
              "    (rnn): LSTM(256, 512, num_layers=2, dropout=0.5)\n",
              "    (fc_out): Linear(in_features=512, out_features=10837, bias=True)\n",
              "    (dropout): Dropout(p=0.5, inplace=False)\n",
              "  )\n",
              ")"
            ]
          },
          "metadata": {},
          "execution_count": 30
        }
      ]
    },
    {
      "cell_type": "markdown",
      "metadata": {
        "id": "r9nehAbscsTe"
      },
      "source": [
        "Мы определяем функцию, которая будет вычислять количество обучаемых параметров в модели."
      ]
    },
    {
      "cell_type": "code",
      "metadata": {
        "id": "9NDzTN1TcsTe",
        "outputId": "c6610a1d-37bc-468d-eac4-ffb25696b456",
        "colab": {
          "base_uri": "https://localhost:8080/"
        }
      },
      "source": [
        "def count_parameters(model):\n",
        "    return sum(p.numel() for p in model.parameters() if p.requires_grad)\n",
        "\n",
        "print(f'The model has {count_parameters(model):,} trainable parameters')"
      ],
      "execution_count": 31,
      "outputs": [
        {
          "output_type": "stream",
          "name": "stdout",
          "text": [
            "The model has 20,608,853 trainable parameters\n"
          ]
        }
      ]
    },
    {
      "cell_type": "markdown",
      "metadata": {
        "id": "PxiomH1ucsTe"
      },
      "source": [
        "Мы определяем наш оптимизатор, который используем для обновления наших параметров в цикле обучения. Посмотрите [здесь](http://ruder.io/optimizing-gradient-descent/) информацию о различных оптимизаторах. Здесь мы будем использовать оптимизатор `Adam`."
      ]
    },
    {
      "cell_type": "code",
      "metadata": {
        "id": "SvJarU9RcsTe"
      },
      "source": [
        "optimizer = optim.Adam(model.parameters())"
      ],
      "execution_count": 32,
      "outputs": []
    },
    {
      "cell_type": "markdown",
      "metadata": {
        "id": "bB6lrYD_csTe"
      },
      "source": [
        "Затем мы определяем нашу функцию потерь. Функция `CrossEntropyLoss` вычисляет как log softmax, так и отрицательную логарифмическую вероятность наших прогнозов.\n",
        "\n",
        "Наша функция потерь вычисляет средние потери на токен, однако, передав индекс токена `<pad>` в качестве аргумента `ignore_index`, мы игнорируем потерю всякий раз, когда целевой токен является маркером заполнения `<pad>`."
      ]
    },
    {
      "cell_type": "code",
      "source": [
        "# индексы токена отступа <pad> в словарях source и target\n",
        "SRC_PAD_IDX = vocab_transform['de'].get_stoi()['<pad>']\n",
        "TRG_PAD_IDX = vocab_transform['en'].get_stoi()['<pad>']"
      ],
      "metadata": {
        "id": "nq0exqwLLQEM"
      },
      "execution_count": 33,
      "outputs": []
    },
    {
      "cell_type": "code",
      "metadata": {
        "id": "CfbcI_9JcsTe"
      },
      "source": [
        "criterion = nn.CrossEntropyLoss(ignore_index = TRG_PAD_IDX)"
      ],
      "execution_count": 34,
      "outputs": []
    },
    {
      "cell_type": "markdown",
      "metadata": {
        "id": "eikrvWxScsTf"
      },
      "source": [
        "Далее мы определим наш цикл обучения.\n",
        "\n",
        "Сначала мы установим модель в «режим обучения» с помощью `model.train ()`. Это включит дропаут (и пакетную нормализацию, которую мы не используем), а затем итерацию через наш итератор данных.\n",
        "\n",
        "Как указывалось ранее, наш цикл декодера начинается с 1, а не с 0. Это означает, что в нулевом элементе нашего тензора `output` остаются все нули. Итак, наши `trg` и `output` выглядят примерно так:\n",
        "\n",
        "$$\\begin{align*}\n",
        "\\text{trg} = [<sos>, &y_1, y_2, y_3, <eos>]\\\\\n",
        "\\text{outputs} = [0, &\\hat{y}_1, \\hat{y}_2, \\hat{y}_3, <eos>]\n",
        "\\end{align*}$$\n",
        "\n",
        "Здесь, когда мы вычисляем потери, мы отсекаем первый элемент каждого тензора, чтобы получить:\n",
        "\n",
        "$$\\begin{align*}\n",
        "\\text{trg} = [&y_1, y_2, y_3, <eos>]\\\\\n",
        "\\text{outputs} = [&\\hat{y}_1, \\hat{y}_2, \\hat{y}_3, <eos>]\n",
        "\\end{align*}$$\n",
        "\n",
        "На каждой итерации:\n",
        "- получаем исходное и целевое предложения из пакета, $X$ и $Y$\n",
        "- обнуляем градиенты, вычисленные из последнего пакета\n",
        "- передаём исходное и целевое предложения в модель, чтобы получить результат, $\\hat{Y}$\n",
        "- так как функция потерь работает только с двумерынм входом с одномерным целевым выходом, нам нужно `спрямить` каждую из них с помощью `.view`\n",
        "    - мы отрезаем первый столбец выходных и целевых тензоров, как упомянуто выше\n",
        " - вычисляем градиенты с помощью` loss.backward () `\n",
        " - обрезаем градиенты, чтобы предотвратить их взрыв (обычная проблема в RNN)\n",
        " - обновляем параметры нашей модели, выполнив шаг оптимизатора\n",
        " - суммируем значения потерь в промежуточную сумму\n",
        "\n",
        "Наконец, мы возвращаем потери, усредненные по всем батчам."
      ]
    },
    {
      "cell_type": "code",
      "metadata": {
        "id": "kBy9qJTtcsTf"
      },
      "source": [
        "def train(model, iterator, optimizer, criterion, clip):\n",
        "\n",
        "    model.train()\n",
        "    epoch_loss = 0\n",
        "\n",
        "    for i, (src, trg)  in enumerate(iterator):\n",
        "\n",
        "        src = src.to(device)\n",
        "        trg = trg.to(device)\n",
        "        # src = [src len, batch size]\n",
        "        # trg = [trg len, batch size]\n",
        "\n",
        "        optimizer.zero_grad()\n",
        "        output = model(src, trg)\n",
        "        # output = [trg len, batch size, output dim]\n",
        "\n",
        "        output_dim = output.shape[-1]\n",
        "\n",
        "        output = output[1:].view(-1, output_dim)\n",
        "        # trg = [(trg len - 1) * batch size]\n",
        "        trg = trg[1:].view(-1)\n",
        "        # output = [(trg len - 1) * batch size, output dim]\n",
        "\n",
        "        loss = criterion(output, trg)\n",
        "        loss.backward()\n",
        "\n",
        "        # обрезаем значения градиентов до нормы равной значению clip\n",
        "        torch.nn.utils.clip_grad_norm_(model.parameters(), clip)\n",
        "\n",
        "        optimizer.step()\n",
        "\n",
        "        epoch_loss += loss.item()\n",
        "\n",
        "    return epoch_loss / len(list(iterator))"
      ],
      "execution_count": 59,
      "outputs": []
    },
    {
      "cell_type": "markdown",
      "metadata": {
        "id": "99dZJeUOcsTf"
      },
      "source": [
        "Наш цикл оценки аналогичен нашему циклу обучения, однако, поскольку мы не обновляем какие-либо параметры, нам не нужно передавать оптимизатор или значение отсечки.\n",
        "\n",
        "Мы должны не забыть установить модель в режим оценки с помощью `model.eval()`. Это отключит дропаути (и нормализацию партии, если она используется).\n",
        "\n",
        "Мы используем блок `with torch.no_grad()`, чтобы гарантировать, что градиенты не вычисляются внутри блока. Это снижает потребление памяти и ускоряет работу.\n",
        "\n",
        "Цикл итерации аналогичен (без обновлений параметров), однако мы должны убедиться, что мы отключили обучение с принуждением. Это приведет к тому, что модель будет использовать только свои собственные предположения, чтобы делать дальнейшие предположения для предложения, что отражает то, как она будет использоваться при развертывании."
      ]
    },
    {
      "cell_type": "code",
      "metadata": {
        "id": "UEpYK91ScsTf"
      },
      "source": [
        "def evaluate(model, iterator, criterion):\n",
        "\n",
        "    model.eval()\n",
        "    epoch_loss = 0\n",
        "\n",
        "    with torch.no_grad():\n",
        "        for i, (src, trg) in enumerate(iterator):\n",
        "\n",
        "            src = src.to(device)\n",
        "            trg = trg.to(device)\n",
        "            output = model(src, trg, 0) #turn off teacher forcing\n",
        "\n",
        "            # trg = [trg len, batch size]\n",
        "            # output = [trg len, batch size, output dim]\n",
        "\n",
        "            output_dim = output.shape[-1]\n",
        "\n",
        "            output = output[1:].view(-1, output_dim)\n",
        "            # trg = [(trg len - 1) * batch size]\n",
        "\n",
        "            trg = trg[1:].view(-1)\n",
        "            #output = [(trg len - 1) * batch size, output dim]\n",
        "\n",
        "            loss = criterion(output, trg)\n",
        "\n",
        "            epoch_loss += loss.item()\n",
        "\n",
        "    return epoch_loss / len(list(iterator))"
      ],
      "execution_count": 60,
      "outputs": []
    },
    {
      "cell_type": "markdown",
      "metadata": {
        "id": "f7RICiBYcsTf"
      },
      "source": [
        "Затем мы создадим функцию, которую мы будем использовать, чтобы сообщить нам, сколько времени занимает эпоха."
      ]
    },
    {
      "cell_type": "code",
      "metadata": {
        "id": "LbreomdlcsTg"
      },
      "source": [
        "def epoch_time(start_time, end_time):\n",
        "    elapsed_time = end_time - start_time\n",
        "    elapsed_mins = int(elapsed_time / 60)\n",
        "    elapsed_secs = int(elapsed_time - (elapsed_mins * 60))\n",
        "    return elapsed_mins, elapsed_secs"
      ],
      "execution_count": 61,
      "outputs": []
    },
    {
      "cell_type": "code",
      "source": [
        "from torch.nn.utils.rnn import pad_sequence\n",
        "\n",
        "# helper function to club together sequential operations\n",
        "def sequential_transforms(*transforms):\n",
        "    def func(txt_input):\n",
        "        for transform in transforms:\n",
        "            txt_input = transform(txt_input)\n",
        "        return txt_input\n",
        "    return func\n",
        "\n",
        "# function to add BOS/EOS and create tensor for input sequence indices\n",
        "def tensor_transform(token_ids: List[int]):\n",
        "    return torch.cat((torch.tensor([BOS_IDX]),\n",
        "                      torch.tensor(token_ids),\n",
        "                      torch.tensor([EOS_IDX])))\n",
        "\n",
        "# ``src`` and ``tgt`` language text transforms to convert raw strings into tensors indices\n",
        "text_transform = {}\n",
        "for ln in [SRC_LANGUAGE, TGT_LANGUAGE]:\n",
        "    text_transform[ln] = sequential_transforms(token_transform[ln], #Tokenization\n",
        "                                               vocab_transform[ln], #Numericalization\n",
        "                                               tensor_transform) # Add BOS/EOS and create tensor\n",
        "\n",
        "\n",
        "# function to collate data samples into batch tensors\n",
        "def collate_fn(batch):\n",
        "    src_batch, tgt_batch = [], []\n",
        "    for src_sample, tgt_sample in batch:\n",
        "        src_batch.append(text_transform[SRC_LANGUAGE](src_sample.rstrip(\"\\n\")))\n",
        "        tgt_batch.append(text_transform[TGT_LANGUAGE](tgt_sample.rstrip(\"\\n\")))\n",
        "\n",
        "    src_batch = pad_sequence(src_batch, padding_value=PAD_IDX)\n",
        "    tgt_batch = pad_sequence(tgt_batch, padding_value=PAD_IDX)\n",
        "    return src_batch, tgt_batch"
      ],
      "metadata": {
        "id": "fuNJEJWuLmNn"
      },
      "execution_count": 62,
      "outputs": []
    },
    {
      "cell_type": "markdown",
      "metadata": {
        "id": "t0pbhojZcsTg"
      },
      "source": [
        "Наконец-то мы можем приступить к обучению нашей модели!\n",
        "\n",
        "В каждую эпоху мы будем проверять, достигла ли наша модель лучших потерь на валидации на данный момент. Если это так, мы обновим величину, отражающую лучшие потери при валидации, и сохраним параметры нашей модели (называемой `state_dict` в PyTorch). Затем, когда мы приступим к тестированию нашей модели, мы будем использовать сохраненные параметры, используемые для достижения наилучших потерь при проверке.\n",
        "\n",
        "Мы будем печатать и потери, и `сложность` (perplexity) на каждой эпохе. Легче увидеть изменение в `сложности`, чем изменение потерь, поскольку цифры намного больше."
      ]
    },
    {
      "cell_type": "code",
      "source": [
        "BATCH_SIZE = 128\n",
        "\n",
        "train_iter, val_iter = Multi30k(split=('train', 'valid'), language_pair=(SRC_LANGUAGE, TGT_LANGUAGE))\n",
        "train_dataloader = DataLoader(train_iter, batch_size=BATCH_SIZE, collate_fn=collate_fn)\n",
        "val_dataloader = DataLoader(train_iter, batch_size=BATCH_SIZE, collate_fn=collate_fn)"
      ],
      "metadata": {
        "id": "xFnCgtitLpmA"
      },
      "execution_count": 63,
      "outputs": []
    },
    {
      "cell_type": "code",
      "metadata": {
        "id": "jDmz8D3WcsTg",
        "outputId": "9de68d28-06a2-4c55-f8d5-5ea86a7bb67e",
        "colab": {
          "base_uri": "https://localhost:8080/"
        }
      },
      "source": [
        "N_EPOCHS = 20\n",
        "CLIP = 1\n",
        "\n",
        "best_valid_loss = float('inf')\n",
        "\n",
        "for epoch in range(N_EPOCHS):\n",
        "\n",
        "    start_time = time.time()\n",
        "\n",
        "    train_loss = train(model, train_dataloader, optimizer, criterion, CLIP)\n",
        "    valid_loss = evaluate(model, val_dataloader, criterion)\n",
        "\n",
        "    end_time = time.time()\n",
        "\n",
        "    epoch_mins, epoch_secs = epoch_time(start_time, end_time)\n",
        "\n",
        "    if valid_loss < best_valid_loss:\n",
        "        best_valid_loss = valid_loss\n",
        "        torch.save(model.state_dict(), 'seq2seq_translate_lstm_model.pt')\n",
        "\n",
        "    print(f'Epoch: {epoch+1:02} | Time: {epoch_mins}m {epoch_secs}s')\n",
        "    print(f'\\tTrain Loss: {train_loss:.3f} | Train PPL: {math.exp(train_loss):7.3f}')\n",
        "    print(f'\\t Val. Loss: {valid_loss:.3f} |  Val. PPL: {math.exp(valid_loss):7.3f}')"
      ],
      "execution_count": 64,
      "outputs": [
        {
          "output_type": "stream",
          "name": "stderr",
          "text": [
            "/usr/local/lib/python3.10/dist-packages/torch/utils/data/datapipes/iter/combining.py:297: UserWarning: Some child DataPipes are not exhausted when __iter__ is called. We are resetting the buffer and each child DataPipe will read from the start again.\n",
            "  warnings.warn(\"Some child DataPipes are not exhausted when __iter__ is called. We are resetting \"\n"
          ]
        },
        {
          "output_type": "stream",
          "name": "stdout",
          "text": [
            "Epoch: 01 | Time: 2m 7s\n",
            "\tTrain Loss: 4.682 | Train PPL: 107.983\n",
            "\t Val. Loss: 4.975 |  Val. PPL: 144.711\n",
            "Epoch: 02 | Time: 2m 6s\n",
            "\tTrain Loss: 4.284 | Train PPL:  72.499\n",
            "\t Val. Loss: 4.689 |  Val. PPL: 108.772\n",
            "Epoch: 03 | Time: 2m 4s\n",
            "\tTrain Loss: 4.032 | Train PPL:  56.401\n",
            "\t Val. Loss: 4.490 |  Val. PPL:  89.149\n",
            "Epoch: 04 | Time: 2m 2s\n",
            "\tTrain Loss: 3.876 | Train PPL:  48.209\n",
            "\t Val. Loss: 4.409 |  Val. PPL:  82.224\n",
            "Epoch: 05 | Time: 2m 1s\n",
            "\tTrain Loss: 3.711 | Train PPL:  40.884\n",
            "\t Val. Loss: 4.249 |  Val. PPL:  70.043\n",
            "Epoch: 06 | Time: 2m 1s\n",
            "\tTrain Loss: 3.580 | Train PPL:  35.858\n",
            "\t Val. Loss: 4.152 |  Val. PPL:  63.582\n",
            "Epoch: 07 | Time: 2m 1s\n",
            "\tTrain Loss: 3.431 | Train PPL:  30.906\n",
            "\t Val. Loss: 4.037 |  Val. PPL:  56.655\n",
            "Epoch: 08 | Time: 2m 1s\n",
            "\tTrain Loss: 3.315 | Train PPL:  27.522\n",
            "\t Val. Loss: 3.967 |  Val. PPL:  52.835\n",
            "Epoch: 09 | Time: 2m 1s\n",
            "\tTrain Loss: 3.165 | Train PPL:  23.686\n",
            "\t Val. Loss: 3.905 |  Val. PPL:  49.628\n",
            "Epoch: 10 | Time: 2m 0s\n",
            "\tTrain Loss: 3.062 | Train PPL:  21.367\n",
            "\t Val. Loss: 3.773 |  Val. PPL:  43.497\n",
            "Epoch: 11 | Time: 2m 0s\n",
            "\tTrain Loss: 2.942 | Train PPL:  18.951\n",
            "\t Val. Loss: 3.691 |  Val. PPL:  40.076\n",
            "Epoch: 12 | Time: 2m 0s\n",
            "\tTrain Loss: 2.832 | Train PPL:  16.987\n",
            "\t Val. Loss: 3.636 |  Val. PPL:  37.944\n",
            "Epoch: 13 | Time: 2m 0s\n",
            "\tTrain Loss: 2.753 | Train PPL:  15.692\n",
            "\t Val. Loss: 3.489 |  Val. PPL:  32.763\n",
            "Epoch: 14 | Time: 2m 0s\n",
            "\tTrain Loss: 2.650 | Train PPL:  14.148\n",
            "\t Val. Loss: 3.379 |  Val. PPL:  29.342\n",
            "Epoch: 15 | Time: 2m 0s\n",
            "\tTrain Loss: 2.552 | Train PPL:  12.830\n",
            "\t Val. Loss: 3.348 |  Val. PPL:  28.451\n",
            "Epoch: 16 | Time: 2m 0s\n",
            "\tTrain Loss: 2.457 | Train PPL:  11.668\n",
            "\t Val. Loss: 3.263 |  Val. PPL:  26.129\n",
            "Epoch: 17 | Time: 2m 0s\n",
            "\tTrain Loss: 2.400 | Train PPL:  11.018\n",
            "\t Val. Loss: 3.192 |  Val. PPL:  24.340\n",
            "Epoch: 18 | Time: 2m 0s\n",
            "\tTrain Loss: 2.318 | Train PPL:  10.151\n",
            "\t Val. Loss: 3.086 |  Val. PPL:  21.899\n",
            "Epoch: 19 | Time: 1m 59s\n",
            "\tTrain Loss: 2.239 | Train PPL:   9.386\n",
            "\t Val. Loss: 3.069 |  Val. PPL:  21.511\n",
            "Epoch: 20 | Time: 1m 59s\n",
            "\tTrain Loss: 2.169 | Train PPL:   8.747\n",
            "\t Val. Loss: 2.964 |  Val. PPL:  19.383\n"
          ]
        }
      ]
    },
    {
      "cell_type": "markdown",
      "metadata": {
        "id": "T8bCzHtlcsTg"
      },
      "source": [
        "Мы загрузим параметры (`state_dict`), которые были сохранены для лучшей модели при проверке, и запустим их на тестовом наборе."
      ]
    },
    {
      "cell_type": "code",
      "metadata": {
        "id": "yZLdTQBxcsTg",
        "outputId": "27e8279d-6fff-40d5-f547-6887c51a8d9a",
        "colab": {
          "base_uri": "https://localhost:8080/"
        }
      },
      "source": [
        "model.load_state_dict(torch.load('seq2seq_translate_lstm_model.pt', map_location=torch.device(device)))\n",
        "\n",
        "test_loss = evaluate(model, val_dataloader, criterion)\n",
        "\n",
        "print(f'| Test Loss: {test_loss:.3f} | Test PPL: {math.exp(test_loss):7.3f} |')"
      ],
      "execution_count": null,
      "outputs": [
        {
          "output_type": "stream",
          "text": [
            "| Test Loss: 3.952 | Test PPL:  52.048 |\n"
          ],
          "name": "stdout"
        }
      ]
    },
    {
      "cell_type": "code",
      "source": [],
      "metadata": {
        "id": "UhkjQvxeRpED"
      },
      "execution_count": null,
      "outputs": []
    }
  ]
}