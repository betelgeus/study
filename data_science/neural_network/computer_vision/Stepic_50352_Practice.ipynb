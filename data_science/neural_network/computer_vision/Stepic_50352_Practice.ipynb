{
 "cells": [
  {
   "cell_type": "code",
   "execution_count": 153,
   "outputs": [],
   "source": [
    "import numpy as np\n",
    "import matplotlib.pyplot as plt\n",
    "import warnings\n",
    "\n",
    "warnings.filterwarnings(\"ignore\")"
   ],
   "metadata": {
    "collapsed": false,
    "ExecuteTime": {
     "start_time": "2023-05-23T15:22:17.312463Z",
     "end_time": "2023-05-23T15:22:17.325915Z"
    }
   }
  },
  {
   "cell_type": "markdown",
   "source": [
    "Найдите коэффициенты $w$ и $b$, которые позволяют моделировать функцию \"НЕ\" при помощи одного нейрона со ступенчатой функцией активации step:  $ y(x)=step(w⋅x+b)$.  Пороговая функция, как в лекциях, понимается в биологическом смысле -- как функция\n",
    "$f(x) = 0$ при  $x⩽0$\n",
    "$f(x) = 1$ при $x>0$\n",
    "\n",
    "Согласно таблице истинности функции NOT, к этой модели только два требования:   $y ( 1 ) = 0$, $y(1)=0.$  Ответ должен быть дан в форме:  0.05 1.234 (увы, эти числа не подойдут) или задача нерешаема."
   ],
   "metadata": {
    "collapsed": false
   }
  },
  {
   "cell_type": "markdown",
   "source": [
    "Решение через систему уравнений:\n",
    "\n",
    "$\\begin{cases}w \\cdot 0 + b > 0\\\\ w \\cdot 1 + b <= 0  \\end{cases} $"
   ],
   "metadata": {
    "collapsed": false
   }
  },
  {
   "cell_type": "code",
   "execution_count": 103,
   "outputs": [],
   "source": [
    "w = -1\n",
    "b = 1"
   ],
   "metadata": {
    "collapsed": false
   }
  },
  {
   "cell_type": "code",
   "execution_count": 104,
   "outputs": [],
   "source": [
    "x = 0"
   ],
   "metadata": {
    "collapsed": false,
    "ExecuteTime": {
     "start_time": "2023-05-23T14:56:12.921014Z",
     "end_time": "2023-05-23T14:56:12.927175Z"
    }
   }
  },
  {
   "cell_type": "code",
   "execution_count": 105,
   "outputs": [
    {
     "data": {
      "text/plain": "1"
     },
     "execution_count": 105,
     "metadata": {},
     "output_type": "execute_result"
    }
   ],
   "source": [
    "y = w * x + b\n",
    "y"
   ],
   "metadata": {
    "collapsed": false,
    "ExecuteTime": {
     "start_time": "2023-05-23T14:56:13.207227Z",
     "end_time": "2023-05-23T14:56:13.212066Z"
    }
   }
  },
  {
   "cell_type": "code",
   "execution_count": 155,
   "outputs": [
    {
     "name": "stdout",
     "output_type": "stream",
     "text": [
      "w1 = -0.5\n",
      "b = 0.5\n"
     ]
    }
   ],
   "source": [
    "# Перцептрон, обучение \"Не\" (\"NOT\")\n",
    "x1x2_green = np.array([[0.], [0.], [0.]])\n",
    "x1x2_red = np.array([[1.], [1.], [1.]])\n",
    "\n",
    "x1x2 = np.concatenate((x1x2_green, x1x2_red))\n",
    "labels = np.concatenate((np.ones(x1x2_green.shape[0]), -np.ones(x1x2_red.shape[0])))\n",
    "\n",
    "indices = np.array(range(x1x2.shape[0]))\n",
    "np.random.shuffle(indices)\n",
    "x1x2 = x1x2[indices]\n",
    "labels = labels[indices]\n",
    "\n",
    "# случайные начальные веса\n",
    "w1 = 0.5\n",
    "b = 0.5\n",
    "\n",
    "# разделяющая гиперплоскость (граница решений)\n",
    "def lr_line(x1):\n",
    "    return w1 * x1 + b\n",
    "\n",
    "def decision_unit(value):\n",
    "    return -1 if value <= 0 else 1\n",
    "\n",
    "lines = [[w1, b]]\n",
    "\n",
    "for max_iter in range(100):\n",
    "    mismatch_count = 0\n",
    "    for i, (x1) in enumerate(x1x2):\n",
    "        value = lr_line(x1)\n",
    "        true_label = int(labels[i])\n",
    "        pred_label = decision_unit(value)\n",
    "        if (true_label != pred_label):\n",
    "            w1 = w1 + x1 * true_label\n",
    "            b = b + true_label\n",
    "            mismatch_count += 1\n",
    "\n",
    "    if (mismatch_count > 0):\n",
    "        lines.append([w1, b])\n",
    "    else:\n",
    "        break\n",
    "\n",
    "print(f'w1 = {w1[0]}\\nb = {b}')"
   ],
   "metadata": {
    "collapsed": false,
    "ExecuteTime": {
     "start_time": "2023-05-23T15:29:11.380880Z",
     "end_time": "2023-05-23T15:29:11.387882Z"
    }
   }
  },
  {
   "cell_type": "markdown",
   "source": [
    "Теперь попробуйте смоделировать нейрон И: введите $w_1,  w_2, b$  при которых нейрон, смоделированный функцией  $y ( x 1 , x 2 ) = s t e p ( w 1 ⋅ x 1 + w 2 ⋅ x 2 + b )$ будет удовлетворять таблице истинности функции AND:  $y ( 0 , 0 ) = 0,  y ( 0 , 1 ) = 0,  y ( 1 , 0 ) = 0$ и  $y ( 1 , 1 ) = 1$. Не забудьте, что у нас пороговая функция активации."
   ],
   "metadata": {
    "collapsed": false
   }
  },
  {
   "cell_type": "markdown",
   "source": [
    "$ \\begin{cases}\n",
    "w_1 \\cdot 1 + w_2 \\cdot 1 + b > 0\\\\\n",
    "w_1 \\cdot 1 + w_2 \\cdot 0 + b <= 0\\\\\n",
    "w_1 \\cdot 0 + w_2 \\cdot 1 + b <= 0\\\\\n",
    "w_1 \\cdot 0 + w_2 \\cdot 0 + b <= 0\\\\\n",
    "\\end{cases} $"
   ],
   "metadata": {
    "collapsed": false
   }
  },
  {
   "cell_type": "code",
   "execution_count": 146,
   "outputs": [],
   "source": [
    "w_1 = 1\n",
    "w_2 = 1\n",
    "b = -1"
   ],
   "metadata": {
    "collapsed": false,
    "ExecuteTime": {
     "start_time": "2023-05-23T15:20:41.947594Z",
     "end_time": "2023-05-23T15:20:41.951841Z"
    }
   }
  },
  {
   "cell_type": "code",
   "execution_count": 147,
   "outputs": [],
   "source": [
    "x_1 = [0, 1]\n",
    "x_2 = [0, 1]"
   ],
   "metadata": {
    "collapsed": false,
    "ExecuteTime": {
     "start_time": "2023-05-23T15:20:41.975126Z",
     "end_time": "2023-05-23T15:20:41.981209Z"
    }
   }
  },
  {
   "cell_type": "code",
   "execution_count": 151,
   "outputs": [
    {
     "data": {
      "text/plain": "0"
     },
     "execution_count": 151,
     "metadata": {},
     "output_type": "execute_result"
    }
   ],
   "source": [
    "sum_res = w_1 * x_1[0] + w_2 * x_2[1] + b\n",
    "sum_res"
   ],
   "metadata": {
    "collapsed": false,
    "ExecuteTime": {
     "start_time": "2023-05-23T15:21:01.994975Z",
     "end_time": "2023-05-23T15:21:01.999194Z"
    }
   }
  },
  {
   "cell_type": "code",
   "execution_count": 158,
   "outputs": [
    {
     "data": {
      "text/plain": "<Figure size 640x480 with 1 Axes>",
      "image/png": "[encoded data removed]"
     },
     "metadata": {},
     "output_type": "display_data"
    },
    {
     "name": "stdout",
     "output_type": "stream",
     "text": [
      "w1 = 1.5\n",
      "w2 = 0.7\n",
      "b = -1.8\n"
     ]
    }
   ],
   "source": [
    "# Перцептрон, обучение \"И\" (\"AND\")\n",
    "# для воспроизводимости результатов\n",
    "np.random.seed(0)\n",
    "\n",
    "# генерируем диапазон зелёных точек, где 1\n",
    "x1x2_green = np.array([[1., 1.], [1., 1.], [1., 1.]])\n",
    "\n",
    "# генерируем диапазон красных точек, где 0\n",
    "x1x2_red = np.array([[0., 0.], [0., 1.], [1., 0.]])\n",
    "\n",
    "# объединяем все точки в единый массив\n",
    "x1x2 = np.concatenate((x1x2_green, x1x2_red))\n",
    "\n",
    "# проставляем классы: зелёные +1, красные -1\n",
    "labels = np.concatenate((np.ones(x1x2_green.shape[0]), -np.ones(x1x2_red.shape[0])))\n",
    "\n",
    "# хорошенько перемешиваем\n",
    "indices = np.array(range(x1x2.shape[0]))\n",
    "np.random.shuffle(indices)\n",
    "x1x2 = x1x2[indices]\n",
    "labels = labels[indices]\n",
    "\n",
    "# выставляем случайные начальные веса\n",
    "w1 = 0.5\n",
    "w2 = 0.7\n",
    "b = -1.8\n",
    "\n",
    "# разделяющая гиперплоскость (граница решений)\n",
    "def lr_line(x1, x2):\n",
    "    return w1 * x1 + w2 * x2 + b\n",
    "\n",
    "# ниже границы -1\n",
    "# выше границы +1\n",
    "def decision_unit(value):\n",
    "    return -1 if value <= 0 else 1\n",
    "\n",
    "# добавляем начальное разбиение в список\n",
    "lines = [[w1, w2, b]]\n",
    "\n",
    "for max_iter in range(100):\n",
    "    # счётчик неверно классифицированных примеров\n",
    "    # для ранней остановки\n",
    "    mismatch_count = 0\n",
    "\n",
    "    # по всем образцам\n",
    "    for i, (x1, x2) in enumerate(x1x2):\n",
    "        # считаем значение линейной комбинации на гиперплоскости\n",
    "        value = lr_line(x1, x2)\n",
    "\n",
    "        # класс из тренировочного набора (-1, +1)\n",
    "        true_label = int(labels[i])\n",
    "\n",
    "        # предсказанный класс (-1, +1)\n",
    "        pred_label = decision_unit(value)\n",
    "\n",
    "        # если имеет место ошибка классификации\n",
    "        if (true_label != pred_label):\n",
    "            # корректируем веса в сторону верного класса, т.е.\n",
    "            # идём по нормали — (x1, x2) — в случае класса +1\n",
    "            # или против нормали — (-x1, -x2) — в случае класса -1\n",
    "            # т.к. нормаль всегда указывает в сторону +1\n",
    "            w1 = w1 + x1 * true_label\n",
    "            w2 = w2 + x2 * true_label\n",
    "\n",
    "            # смещение корректируется по схожему принципу\n",
    "            b = b + true_label\n",
    "\n",
    "            # считаем количество неверно классифицированных примеров\n",
    "            mismatch_count += 1\n",
    "\n",
    "    # если была хотя бы одна коррекция\n",
    "    if (mismatch_count > 0):\n",
    "        # запоминаем границу решений\n",
    "        lines.append([w1, w2, b])\n",
    "    else:\n",
    "        # иначе — ранняя остановка\n",
    "        break\n",
    "\n",
    "# рисуем точки (по последней границе решений)\n",
    "for i, (x1, x2) in enumerate(x1x2):\n",
    "    pred_label = decision_unit(lr_line(x1, x2))\n",
    "\n",
    "    if (pred_label < 0):\n",
    "        plt.plot(x1, x2, 'ro', color='red')\n",
    "    else:\n",
    "        plt.plot(x1, x2, 'ro', color='green')\n",
    "\n",
    "# выставляем равное пиксельное разрешение по осям\n",
    "plt.gca().set_aspect('equal', adjustable='box')\n",
    "\n",
    "# проставляем названия осей\n",
    "plt.xlabel('x1')\n",
    "plt.ylabel('x2')\n",
    "\n",
    "# служебный диапазон для визуализации границы решений\n",
    "x1_range = np.arange(-3, 3, 0.1)\n",
    "\n",
    "# функционал, возвращающий границу решений в пригодном для отрисовки виде\n",
    "# x2 = f(x1) = -(w1 * x1 + b) / w2\n",
    "def f_lr_line(w1, w2, b):\n",
    "    def lr_line(x1):\n",
    "        return -(w1 * x1 + b) / w2\n",
    "    return lr_line\n",
    "\n",
    "# отрисовываем историю изменения границы решений\n",
    "it = 0\n",
    "for coeff in lines:\n",
    "    lr_line = f_lr_line(coeff[0], coeff[1], coeff[2])\n",
    "    plt.plot(x1_range, lr_line(x1_range), label = 'it: ' + str(it))\n",
    "    it += 1\n",
    "\n",
    "# зум\n",
    "plt.axis([-2, 3, -2, 3])\n",
    "# легенда\n",
    "plt.legend(loc = 'lower left')\n",
    "# любуемся графиком!\n",
    "plt.show()\n",
    "\n",
    "# выводим найденные значения для коэффициентов w1, w2 и b\n",
    "print(f'w1 = {w1}\\nw2 = {w2}\\nb = {b}')"
   ],
   "metadata": {
    "collapsed": false,
    "ExecuteTime": {
     "start_time": "2023-05-23T15:43:46.064751Z",
     "end_time": "2023-05-23T15:43:46.213554Z"
    }
   }
  },
  {
   "cell_type": "markdown",
   "source": [
    "Теперь попробуйте смоделировать нейрон ИЛИ: введите $w_1,  w_2, b$  при которых нейрон, смоделированный функцией  $y ( x 1 , x 2 ) = s t e p ( w 1 ⋅ x 1 + w 2 ⋅ x 2 + b )$ будет удовлетворять таблице истинности функции AND:  $y ( 0 , 0 ) = 0,  y ( 0 , 1 ) = 1,  y ( 1 , 0 ) = 1$ и  $y ( 1 , 1 ) = 1$. Не забудьте, что у нас пороговая функция активации.\n"
   ],
   "metadata": {
    "collapsed": false
   }
  },
  {
   "cell_type": "markdown",
   "source": [
    "$ \\begin{cases}\n",
    "w_1 \\cdot 1 + w_2 \\cdot 1 + b > 0\\\\\n",
    "w_1 \\cdot 1 + w_2 \\cdot 0 + b > 0\\\\\n",
    "w_1 \\cdot 0 + w_2 \\cdot 1 + b > 0\\\\\n",
    "w_1 \\cdot 0 + w_2 \\cdot 0 + b <= 0\\\\\n",
    "\\end{cases} $"
   ],
   "metadata": {
    "collapsed": false
   }
  },
  {
   "cell_type": "code",
   "execution_count": 286,
   "outputs": [
    {
     "data": {
      "text/plain": "<Figure size 640x480 with 1 Axes>",
      "image/png": "[encoded data removed]"
     },
     "metadata": {},
     "output_type": "display_data"
    },
    {
     "name": "stdout",
     "output_type": "stream",
     "text": [
      "w1 = 1.5\n",
      "w2 = 1.7\n",
      "b = -0.8\n"
     ]
    }
   ],
   "source": [
    "# Перцептрон, обучение \"ИЛИ\" (\"OR\")\n",
    "# для воспроизводимости результатов\n",
    "np.random.seed(17)\n",
    "\n",
    "# генерируем диапазон зелёных точек, где 1\n",
    "x1x2_green = np.array([[1., 1.], [0., 1.], [1., 0.]])\n",
    "\n",
    "# генерируем диапазон красных точек, где 0\n",
    "x1x2_red = np.array([[0., 0.], [0., 0.], [0., 0.]])\n",
    "\n",
    "# объединяем все точки в единый массив\n",
    "x1x2 = np.concatenate((x1x2_green, x1x2_red))\n",
    "\n",
    "# проставляем классы: зелёные +1, красные -1\n",
    "labels = np.concatenate((np.ones(x1x2_green.shape[0]), -np.ones(x1x2_red.shape[0])))\n",
    "\n",
    "# хорошенько перемешиваем\n",
    "indices = np.array(range(x1x2.shape[0]))\n",
    "np.random.shuffle(indices)\n",
    "x1x2 = x1x2[indices]\n",
    "labels = labels[indices]\n",
    "\n",
    "# выставляем случайные начальные веса\n",
    "w1 = 0.5\n",
    "w2 = 0.7\n",
    "b = -1.8\n",
    "\n",
    "# разделяющая гиперплоскость (граница решений)\n",
    "def lr_line(x1, x2):\n",
    "    return w1 * x1 + w2 * x2 + b\n",
    "\n",
    "# ниже границы -1\n",
    "# выше границы +1\n",
    "def decision_unit(value):\n",
    "    return -1 if value <= 0 else 1\n",
    "\n",
    "# добавляем начальное разбиение в список\n",
    "lines = [[w1, w2, b]]\n",
    "\n",
    "for max_iter in range(100):\n",
    "    # счётчик неверно классифицированных примеров\n",
    "    # для ранней остановки\n",
    "    mismatch_count = 0\n",
    "\n",
    "    # по всем образцам\n",
    "    for i, (x1, x2) in enumerate(x1x2):\n",
    "        # считаем значение линейной комбинации на гиперплоскости\n",
    "        value = lr_line(x1, x2)\n",
    "\n",
    "        # класс из тренировочного набора (-1, +1)\n",
    "        true_label = int(labels[i])\n",
    "\n",
    "        # предсказанный класс (-1, +1)\n",
    "        pred_label = decision_unit(value)\n",
    "\n",
    "        # если имеет место ошибка классификации\n",
    "        if (true_label != pred_label):\n",
    "            # корректируем веса в сторону верного класса, т.е.\n",
    "            # идём по нормали — (x1, x2) — в случае класса +1\n",
    "            # или против нормали — (-x1, -x2) — в случае класса -1\n",
    "            # т.к. нормаль всегда указывает в сторону +1\n",
    "            w1 = w1 + x1 * true_label\n",
    "            w2 = w2 + x2 * true_label\n",
    "\n",
    "            # смещение корректируется по схожему принципу\n",
    "            b = b + true_label\n",
    "\n",
    "            # считаем количество неверно классифицированных примеров\n",
    "            mismatch_count += 1\n",
    "\n",
    "    # если была хотя бы одна коррекция\n",
    "    if (mismatch_count > 0):\n",
    "        # запоминаем границу решений\n",
    "        lines.append([w1, w2, b])\n",
    "    else:\n",
    "        # иначе — ранняя остановка\n",
    "        break\n",
    "\n",
    "# рисуем точки (по последней границе решений)\n",
    "for i, (x1, x2) in enumerate(x1x2):\n",
    "    pred_label = decision_unit(lr_line(x1, x2))\n",
    "\n",
    "    if (pred_label < 0):\n",
    "        plt.plot(x1, x2, 'ro', color='red')\n",
    "    else:\n",
    "        plt.plot(x1, x2, 'ro', color='green')\n",
    "\n",
    "# выставляем равное пиксельное разрешение по осям\n",
    "plt.gca().set_aspect('equal', adjustable='box')\n",
    "\n",
    "# проставляем названия осей\n",
    "plt.xlabel('x1')\n",
    "plt.ylabel('x2')\n",
    "\n",
    "# служебный диапазон для визуализации границы решений\n",
    "x1_range = np.arange(-3, 3, 0.1)\n",
    "\n",
    "# функционал, возвращающий границу решений в пригодном для отрисовки виде\n",
    "# x2 = f(x1) = -(w1 * x1 + b) / w2\n",
    "def f_lr_line(w1, w2, b):\n",
    "    def lr_line(x1):\n",
    "        return -(w1 * x1 + b) / w2\n",
    "    return lr_line\n",
    "\n",
    "# отрисовываем историю изменения границы решений\n",
    "it = 0\n",
    "for coeff in lines:\n",
    "    lr_line = f_lr_line(coeff[0], coeff[1], coeff[2])\n",
    "    plt.plot(x1_range, lr_line(x1_range), label = 'it: ' + str(it))\n",
    "    it += 1\n",
    "\n",
    "# зум\n",
    "plt.axis([-2, 3, -2, 3])\n",
    "# легенда\n",
    "plt.legend(loc = 'lower left')\n",
    "# любуемся графиком!\n",
    "plt.show()\n",
    "\n",
    "# выводим найденные значения для коэффициентов w1, w2 и b\n",
    "print(f'w1 = {w1}\\nw2 = {w2}\\nb = {b}')"
   ],
   "metadata": {
    "collapsed": false,
    "ExecuteTime": {
     "start_time": "2023-05-23T17:30:32.693340Z",
     "end_time": "2023-05-23T17:30:33.025485Z"
    }
   }
  },
  {
   "cell_type": "markdown",
   "source": [
    "Теперь попробуйте смоделировать нейрон ИСКЛЮЧАЮЩЕЕ ИЛИ: введите $w_1,  w_2, b$  при которых нейрон, смоделированный функцией  $y ( x 1 , x 2 ) = s t e p ( w 1 ⋅ x 1 + w 2 ⋅ x 2 + b )$ будет удовлетворять таблице истинности функции AND:  $y ( 0 , 0 ) = 0,  y ( 0 , 1 ) = 1,  y ( 1 , 0 ) = 1$ и  $y ( 1 , 1 ) = 0$. Не забудьте, что у нас пороговая функция активации.\n"
   ],
   "metadata": {
    "collapsed": false
   }
  },
  {
   "cell_type": "code",
   "execution_count": null,
   "outputs": [],
   "source": [
    "# neuron(neuron(x2 - x1) + neuron(x1 - x2))"
   ],
   "metadata": {
    "collapsed": false,
    "ExecuteTime": {
     "start_time": "2023-05-23T17:12:49.249673Z",
     "end_time": "2023-05-23T17:12:49.258447Z"
    }
   }
  },
  {
   "cell_type": "code",
   "execution_count": 313,
   "outputs": [
    {
     "data": {
      "text/plain": "<Figure size 640x480 with 1 Axes>",
      "image/png": "[encoded data removed]"
     },
     "metadata": {},
     "output_type": "display_data"
    }
   ],
   "source": [
    "x1x2 = np.array([[0,0],[1,0],[0,1],[1,1]])\n",
    "\n",
    "def neuron(value):\n",
    "    return -1 if value < 0 else 1\n",
    "\n",
    "for x1, x2 in x1x2:\n",
    "    value = neuron(neuron(-1*x1 + 1*x2 - 0.5) + neuron(1*x1 - 1*x2 - 0.5))\n",
    "\n",
    "    if (value == 0):\n",
    "        plt.plot(x1, x2, 'o', color=\"blue\")\n",
    "    elif (value > 0):\n",
    "        plt.plot(x1, x2, 'o', color=\"green\")\n",
    "    elif (value < 0):\n",
    "        plt.plot(x1, x2, 'o', color=\"red\")\n",
    "\n",
    "plt.gca().set_aspect('equal', adjustable='box')\n",
    "\n",
    "plt.xlabel('x1')\n",
    "plt.ylabel('x2')\n",
    "\n",
    "plt.show()"
   ],
   "metadata": {
    "collapsed": false,
    "ExecuteTime": {
     "start_time": "2023-05-23T18:25:44.018585Z",
     "end_time": "2023-05-23T18:25:44.162782Z"
    }
   }
  },
  {
   "cell_type": "code",
   "execution_count": 314,
   "outputs": [
    {
     "name": "stdout",
     "output_type": "stream",
     "text": [
      "0\n",
      "1\n",
      "1\n",
      "0\n"
     ]
    }
   ],
   "source": [
    "def neuron(value):\n",
    "    return 0 if value <=0 else 1\n",
    "\n",
    "for x1, x2 in [[0, 0], [0, 1], [1, 0], [1, 1]]:\n",
    "    res = neuron(neuron(-2 * x1 + 2 * x2 - 1) + neuron(2 * x1 - 2 * x2 - 1) + 0)\n",
    "    print(res)"
   ],
   "metadata": {
    "collapsed": false,
    "ExecuteTime": {
     "start_time": "2023-05-24T12:34:37.948922Z",
     "end_time": "2023-05-24T12:34:37.952508Z"
    }
   }
  },
  {
   "cell_type": "code",
   "execution_count": null,
   "outputs": [],
   "source": [],
   "metadata": {
    "collapsed": false
   }
  }
 ],
 "metadata": {
  "kernelspec": {
   "display_name": "Python 3",
   "language": "python",
   "name": "python3"
  },
  "language_info": {
   "codemirror_mode": {
    "name": "ipython",
    "version": 2
   },
   "file_extension": ".py",
   "mimetype": "text/x-python",
   "name": "python",
   "nbconvert_exporter": "python",
   "pygments_lexer": "ipython2",
   "version": "2.7.6"
  }
 },
 "nbformat": 4,
 "nbformat_minor": 0
}
