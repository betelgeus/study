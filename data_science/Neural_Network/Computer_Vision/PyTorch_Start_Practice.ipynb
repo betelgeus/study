{
 "cells": [
  {
   "cell_type": "code",
   "execution_count": 19,
   "metadata": {
    "collapsed": true,
    "ExecuteTime": {
     "start_time": "2023-08-21T16:37:21.988436Z",
     "end_time": "2023-08-21T16:37:34.814726Z"
    }
   },
   "outputs": [],
   "source": [
    "# !pip install torch"
   ]
  },
  {
   "cell_type": "code",
   "execution_count": 20,
   "outputs": [],
   "source": [
    "# !pip install torchsummary"
   ],
   "metadata": {
    "collapsed": false,
    "ExecuteTime": {
     "start_time": "2023-08-21T16:37:22.011001Z",
     "end_time": "2023-08-21T16:37:34.830171Z"
    }
   }
  },
  {
   "cell_type": "code",
   "execution_count": 21,
   "outputs": [],
   "source": [
    "# !pip install pyopencl"
   ],
   "metadata": {
    "collapsed": false,
    "ExecuteTime": {
     "start_time": "2023-08-21T16:37:22.025651Z",
     "end_time": "2023-08-21T16:37:34.830326Z"
    }
   }
  },
  {
   "cell_type": "code",
   "execution_count": 22,
   "outputs": [],
   "source": [
    "# !pip install torchvision"
   ],
   "metadata": {
    "collapsed": false,
    "ExecuteTime": {
     "start_time": "2023-08-21T16:37:22.033082Z",
     "end_time": "2023-08-21T16:37:34.830420Z"
    }
   }
  },
  {
   "cell_type": "markdown",
   "source": [
    "## Операции с тензорами"
   ],
   "metadata": {
    "collapsed": false
   }
  },
  {
   "cell_type": "code",
   "execution_count": 23,
   "outputs": [],
   "source": [
    "import torch\n",
    "import numpy as np"
   ],
   "metadata": {
    "collapsed": false,
    "ExecuteTime": {
     "start_time": "2023-08-21T16:37:22.045742Z",
     "end_time": "2023-08-21T16:37:34.830519Z"
    }
   }
  },
  {
   "cell_type": "markdown",
   "source": [
    "Какая операция с тензорами a, b\n",
    "```\n",
    "a = torch.ones([5,4])\n",
    "b = torch.Tensor([[1,2,3,4],\n",
    "                  [5,6,7,8],\n",
    "                  [9,10,11,12],\n",
    "                  [13,14,15,16],\n",
    "                  [17,18,19,20]])\n",
    "```\n",
    "позволяет получить следующий вывод?\n",
    "```\n",
    "tensor([[0., 1., 1., 1.],\n",
    "        [1., 1., 1., 1.],\n",
    "        [1., 1., 1., 1.],\n",
    "        [1., 1., 1., 1.],\n",
    "        [1., 1., 1., 1.]])\n",
    "```"
   ],
   "metadata": {
    "collapsed": false
   }
  },
  {
   "cell_type": "code",
   "execution_count": 24,
   "outputs": [
    {
     "data": {
      "text/plain": "tensor([[0., 1., 1., 1.],\n        [1., 1., 1., 1.],\n        [1., 1., 1., 1.],\n        [1., 1., 1., 1.],\n        [1., 1., 1., 1.]])"
     },
     "execution_count": 24,
     "metadata": {},
     "output_type": "execute_result"
    }
   ],
   "source": [
    "a = torch.ones([5,4])\n",
    "b = torch.Tensor([[1,2,3,4],\n",
    "                  [5,6,7,8],\n",
    "                  [9,10,11,12],\n",
    "                  [13,14,15,16],\n",
    "                  [17,18,19,20]])\n",
    "a % b"
   ],
   "metadata": {
    "collapsed": false,
    "ExecuteTime": {
     "start_time": "2023-08-21T16:37:22.068607Z",
     "end_time": "2023-08-21T16:37:34.863669Z"
    }
   }
  },
  {
   "cell_type": "markdown",
   "source": [
    "Какая операция с тензорами a, b:\n",
    "```\n",
    "a = torch.ones([5,4])\n",
    "b = torch.Tensor([[1,2,3,4], [5,6,7,8], [9,10,11,12], [13,14,15,16], [17,18,19,20]])\n",
    "```\n",
    "позволяет получить следующий вывод?\n",
    "```\n",
    "tensor([2., 3., 4., 5.])\n",
    "```"
   ],
   "metadata": {
    "collapsed": false
   }
  },
  {
   "cell_type": "code",
   "execution_count": 25,
   "outputs": [
    {
     "data": {
      "text/plain": "tensor([2., 3., 4., 5.])"
     },
     "execution_count": 25,
     "metadata": {},
     "output_type": "execute_result"
    }
   ],
   "source": [
    "a = torch.ones([5,4])\n",
    "b = torch.Tensor([[1,2,3,4], [5,6,7,8], [9,10,11,12], [13,14,15,16], [17,18,19,20]])\n",
    "b[0] + a[2]"
   ],
   "metadata": {
    "collapsed": false,
    "ExecuteTime": {
     "start_time": "2023-08-21T16:37:22.166291Z",
     "end_time": "2023-08-21T16:37:34.931291Z"
    }
   }
  },
  {
   "cell_type": "markdown",
   "source": [
    "Реализуйте при помощи pyTorch функцию, которая возвращает сумму (x.sum()) элементов тензора X, строго превышающих значение limit, которое является входным значением алгоритма.\n",
    "\n",
    "Входная матрица:\n",
    "```\n",
    "X = torch.tensor([[1, 2, 3], [4, 5, 6], [7, 8, 9]])\n",
    "```\n",
    "Sample Output:\n",
    "```\n",
    "tensor(44)\n",
    "```"
   ],
   "metadata": {
    "collapsed": false
   }
  },
  {
   "cell_type": "code",
   "execution_count": 26,
   "outputs": [
    {
     "ename": "ValueError",
     "evalue": "invalid literal for int() with base 10: ''",
     "output_type": "error",
     "traceback": [
      "\u001B[0;31m---------------------------------------------------------------------------\u001B[0m",
      "\u001B[0;31mValueError\u001B[0m                                Traceback (most recent call last)",
      "Cell \u001B[0;32mIn [26], line 2\u001B[0m\n\u001B[1;32m      1\u001B[0m X \u001B[38;5;241m=\u001B[39m torch\u001B[38;5;241m.\u001B[39mtensor([[\u001B[38;5;241m1\u001B[39m, \u001B[38;5;241m2\u001B[39m, \u001B[38;5;241m3\u001B[39m], [\u001B[38;5;241m4\u001B[39m, \u001B[38;5;241m5\u001B[39m, \u001B[38;5;241m6\u001B[39m], [\u001B[38;5;241m7\u001B[39m, \u001B[38;5;241m8\u001B[39m, \u001B[38;5;241m9\u001B[39m]])\n\u001B[0;32m----> 2\u001B[0m limit \u001B[38;5;241m=\u001B[39m \u001B[38;5;28;43mint\u001B[39;49m\u001B[43m(\u001B[49m\u001B[38;5;28;43minput\u001B[39;49m\u001B[43m(\u001B[49m\u001B[43m)\u001B[49m\u001B[43m)\u001B[49m\n\u001B[1;32m      4\u001B[0m larger_than_limit_sum \u001B[38;5;241m=\u001B[39m X[X \u001B[38;5;241m>\u001B[39m limit]\u001B[38;5;241m.\u001B[39msum()\n\u001B[1;32m      6\u001B[0m \u001B[38;5;28mprint\u001B[39m(larger_than_limit_sum)\n",
      "\u001B[0;31mValueError\u001B[0m: invalid literal for int() with base 10: ''"
     ]
    }
   ],
   "source": [
    "X = torch.tensor([[1, 2, 3], [4, 5, 6], [7, 8, 9]])\n",
    "limit = int(input())\n",
    "\n",
    "larger_than_limit_sum = X[X > limit].sum()\n",
    "\n",
    "print(larger_than_limit_sum)"
   ],
   "metadata": {
    "collapsed": false,
    "ExecuteTime": {
     "start_time": "2023-05-24T13:14:37.729767Z",
     "end_time": "2023-05-24T13:14:41.628618Z"
    }
   }
  },
  {
   "cell_type": "markdown",
   "source": [
    "Что будет в переменной x в результате выполнения следующего кода?\n",
    "```\n",
    "import torch\n",
    "x = torch.tensor([[1, 2, 3], [4, 5, 6], [7, 8, 9]])\n",
    "y = x\n",
    "y[2] = torch.ones(3)\n",
    "```"
   ],
   "metadata": {
    "collapsed": false
   }
  },
  {
   "cell_type": "code",
   "execution_count": null,
   "outputs": [],
   "source": [
    "x = torch.tensor([[1, 2, 3], [4, 5, 6], [7, 8, 9]])\n",
    "y = x\n",
    "y[2] = torch.ones(3)"
   ],
   "metadata": {
    "collapsed": false,
    "ExecuteTime": {
     "start_time": "2023-05-24T13:18:53.025934Z",
     "end_time": "2023-05-24T13:18:53.032414Z"
    }
   }
  },
  {
   "cell_type": "code",
   "execution_count": null,
   "outputs": [],
   "source": [
    "x"
   ],
   "metadata": {
    "collapsed": false,
    "ExecuteTime": {
     "start_time": "2023-05-24T13:19:46.131521Z",
     "end_time": "2023-05-24T13:19:46.143586Z"
    }
   }
  },
  {
   "cell_type": "markdown",
   "source": [
    "В настоящее время существует множество фреймворков глубокого обучения. Разница между ними заключается во внутренних принципах вычислений. Например, в **[Caffe](http://caffe.berkeleyvision.org/)** и **[Caffe2](https://caffe2.ai/)** вы пишете код, используя некоторые «готовые блоки» \"(как и $ LEGO ^ {TM} $ :). В **[TensorFlow](https://www.tensorflow.org/)** и **[Theano](http://deeplearning.net/software/theano/)** вы сначала объявляете граф вычислений, затем компилируйте его и используйте для вывода / обучения (`tf.session ()`). Кстати, теперь в TensorFlow (начиная с версии 1.10) есть функция [Eager Execution](https://www.tensorflow.org/guide/eager), которая может быть полезна для быстрого прототипирования и отладки. **[Keras](https://keras.io/)** - очень популярный и полезный фреймворк DL, который позволяет быстро реализовывать нейронный сети и имеет множество полезных функций.\n"
   ],
   "metadata": {
    "collapsed": false
   }
  },
  {
   "cell_type": "markdown",
   "source": [
    "<p style=\"align: center;\"><img src=\"https://habrastorage.org/web/e3e/c3e/b78/e3ec3eb78d714a7993a6b922911c0866.png\" width=500 height=500></p>\n",
    "<p style=\"text-align: center;\"><i>Image credit: https://habr.com/post/334380/</i><p>"
   ],
   "metadata": {
    "collapsed": false
   }
  },
  {
   "cell_type": "markdown",
   "source": [
    "Мы будем использовать **PyTorch**, поскольку он активно развивается и поддерживается AI-сообществом"
   ],
   "metadata": {
    "collapsed": false
   }
  },
  {
   "cell_type": "markdown",
   "source": [
    "<h3 style=\"text-align: center;\"><b>Установка</b></h3>"
   ],
   "metadata": {
    "collapsed": false
   }
  },
  {
   "cell_type": "markdown",
   "source": [
    "Подробную инструкцию по установке PyTorch вы можете найти на [официальном сайте PyTorch](https://pytorch.org/)."
   ],
   "metadata": {
    "collapsed": false
   }
  },
  {
   "cell_type": "markdown",
   "source": [
    "## Синтаксис Фреймворка"
   ],
   "metadata": {
    "collapsed": false
   }
  },
  {
   "cell_type": "code",
   "execution_count": null,
   "outputs": [],
   "source": [
    "import torch"
   ],
   "metadata": {
    "collapsed": false,
    "ExecuteTime": {
     "start_time": "2023-05-30T12:57:18.523913Z",
     "end_time": "2023-05-30T12:57:18.589050Z"
    }
   }
  },
  {
   "cell_type": "markdown",
   "source": [
    "Несколько фактов о PyTorch:\n",
    "- динамический граф вычислений\n",
    "- удобные модули `torch.nn` и `torchvision` для быстрого прототипирования нейронных сетей\n",
    "- даже быстрее, чем TensorFlow на некоторых задачах\n",
    "- позволяет легко использовать **GPU**"
   ],
   "metadata": {
    "collapsed": false
   }
  },
  {
   "cell_type": "markdown",
   "source": [
    "По своей сути PyTorch предоставляет две основные функции:\n",
    "\n",
    "- n-мерный тензор, похожий на **numpy**, но может работать на графических процессорах\n",
    "- Автоматическая дифференциация для построения и обучения нейронных сетей"
   ],
   "metadata": {
    "collapsed": false
   }
  },
  {
   "cell_type": "markdown",
   "source": [
    "Если бы PyTorch был формулой, она была бы такой:\n",
    "\n",
    "$$PyTorch = NumPy + CUDA + Autograd$$"
   ],
   "metadata": {
    "collapsed": false
   }
  },
  {
   "cell_type": "markdown",
   "source": [
    "(CUDA - [wiki](https://en.wikipedia.org/wiki/CUDA))"
   ],
   "metadata": {
    "collapsed": false
   }
  },
  {
   "cell_type": "markdown",
   "source": [
    "Давайте посмотрим, как мы можем использовать PyTorch для работы с векторами и тензорами.\n",
    "\n",
    "Напомним, что **тензор** - это многомерный вектор, например :\n",
    "\n",
    "`x = np.array ([1,2,3])` - вектор = тензор с 1 размерностью (точнее: `(3,)`)\n",
    "\n",
    "`y = np.array ([[1, 2, 3], [4, 5, 6]])` - матрица = тензор с двумя измерениями (`(2, 3)` в данном случае)\n",
    "\n",
    "`z = np.array ([[[1, 2, 3], [4, 5, 6], [7, 8, 9]]],\n",
    "               [[1, 2, 3], [4, 5, 6], [7, 8, 9]],\n",
    "               [[1, 2, 3], [4, 5, 6], [7, 8, 9]]]) `-\" куб \"(3, 3, 3) = тензор с тремя измерениями (` ( 3, 3, 3) `в этом случае)\n"
   ],
   "metadata": {
    "collapsed": false
   }
  },
  {
   "cell_type": "markdown",
   "source": [
    "Одним из реальных примеров трехмерного тензора является **изображение**, оно имеет 3 измерения: `высота`, `ширина` и `глубина канала` (глубина канала = 3 для цветных изображений, 1 для оттенков серого). Вы можете думать об этом как о параллелепипеде, состоящем из действительных чисел.\n"
   ],
   "metadata": {
    "collapsed": false
   }
  },
  {
   "cell_type": "markdown",
   "source": [
    "### Типы Тензоров"
   ],
   "metadata": {
    "collapsed": false
   }
  },
  {
   "cell_type": "markdown",
   "source": [
    "В PyTorch мы будем использовать `torch.Tensor` (`FloatTensor`, `IntTensor`, `ByteTensor`) для всех вычислений.\n",
    "\n",
    "Все типы:"
   ],
   "metadata": {
    "collapsed": false
   }
  },
  {
   "cell_type": "code",
   "execution_count": null,
   "outputs": [],
   "source": [
    "torch.HalfTensor      # 16 бит, floating point\n",
    "torch.FloatTensor     # 32 бита, floating point\n",
    "torch.DoubleTensor    # 64 бита, floating point\n",
    "\n",
    "torch.ShortTensor     # 16 бит, integer, signed\n",
    "torch.IntTensor       # 32 бита, integer, signed\n",
    "torch.LongTensor      # 64 бита, integer, signed\n",
    "\n",
    "torch.CharTensor      # 8 бит, integer, signed\n",
    "torch.ByteTensor      # 8 бит, integer, unsigned"
   ],
   "metadata": {
    "collapsed": false,
    "ExecuteTime": {
     "start_time": "2023-05-30T12:58:07.496177Z",
     "end_time": "2023-05-30T12:58:07.586753Z"
    }
   }
  },
  {
   "cell_type": "markdown",
   "source": [
    "Мы будем использовать только `torch.FloatTensor()` и `torch.IntTensor()`."
   ],
   "metadata": {
    "collapsed": false
   }
  },
  {
   "cell_type": "markdown",
   "source": [
    "Начнем уже что-нибудь писать!"
   ],
   "metadata": {
    "collapsed": false
   }
  },
  {
   "cell_type": "markdown",
   "source": [
    "### Создание тензора"
   ],
   "metadata": {
    "collapsed": false
   }
  },
  {
   "cell_type": "code",
   "execution_count": null,
   "outputs": [],
   "source": [
    "a = torch.FloatTensor([1, 2])\n",
    "a\n"
   ],
   "metadata": {
    "collapsed": false,
    "ExecuteTime": {
     "start_time": "2023-05-30T12:58:17.063969Z",
     "end_time": "2023-05-30T12:58:17.143731Z"
    }
   }
  },
  {
   "cell_type": "code",
   "execution_count": null,
   "outputs": [],
   "source": [
    "a.shape"
   ],
   "metadata": {
    "collapsed": false,
    "ExecuteTime": {
     "start_time": "2023-05-30T12:58:18.783535Z",
     "end_time": "2023-05-30T12:58:18.857149Z"
    }
   }
  },
  {
   "cell_type": "code",
   "execution_count": null,
   "outputs": [],
   "source": [
    "b = torch.FloatTensor([[1,2,3], [4,5,6]])\n",
    "b"
   ],
   "metadata": {
    "collapsed": false,
    "ExecuteTime": {
     "start_time": "2023-05-30T12:58:19.448514Z",
     "end_time": "2023-05-30T12:58:19.606729Z"
    }
   }
  },
  {
   "cell_type": "code",
   "execution_count": null,
   "outputs": [],
   "source": [
    "b.shape"
   ],
   "metadata": {
    "collapsed": false,
    "ExecuteTime": {
     "start_time": "2023-05-30T12:58:20.019435Z",
     "end_time": "2023-05-30T12:58:20.203442Z"
    }
   }
  },
  {
   "cell_type": "code",
   "execution_count": null,
   "outputs": [],
   "source": [
    "x = torch.FloatTensor(2,3,4)"
   ],
   "metadata": {
    "collapsed": false,
    "ExecuteTime": {
     "start_time": "2023-05-30T12:58:20.830455Z",
     "end_time": "2023-05-30T12:58:20.916880Z"
    }
   }
  },
  {
   "cell_type": "code",
   "execution_count": null,
   "outputs": [],
   "source": [
    "x"
   ],
   "metadata": {
    "collapsed": false,
    "ExecuteTime": {
     "start_time": "2023-05-30T12:58:21.537484Z",
     "end_time": "2023-05-30T12:58:21.682484Z"
    }
   }
  },
  {
   "cell_type": "code",
   "execution_count": null,
   "outputs": [],
   "source": [
    "x = torch.FloatTensor(100)\n",
    "x"
   ],
   "metadata": {
    "collapsed": false,
    "ExecuteTime": {
     "start_time": "2023-05-30T12:58:22.894499Z",
     "end_time": "2023-05-30T12:58:23.080561Z"
    }
   }
  },
  {
   "cell_type": "code",
   "execution_count": null,
   "outputs": [],
   "source": [
    "x = torch.IntTensor(45, 57, 14, 2)\n",
    "x.shape"
   ],
   "metadata": {
    "collapsed": false,
    "ExecuteTime": {
     "start_time": "2023-05-30T12:58:25.498960Z",
     "end_time": "2023-05-30T12:58:25.679098Z"
    }
   }
  },
  {
   "cell_type": "markdown",
   "source": [
    "**Примечание:** если вы создаете `torch.Tensor` с помощью следующего конструктора, он будет заполнен мусором из \"случайных номеров\":"
   ],
   "metadata": {
    "collapsed": false
   }
  },
  {
   "cell_type": "code",
   "execution_count": null,
   "outputs": [],
   "source": [
    "x = torch.IntTensor(3, 2, 4)\n",
    "x"
   ],
   "metadata": {
    "collapsed": false,
    "ExecuteTime": {
     "start_time": "2023-05-30T12:58:37.137262Z",
     "end_time": "2023-05-30T12:58:37.213474Z"
    }
   }
  },
  {
   "cell_type": "markdown",
   "source": [
    "### Инициализации тензоров"
   ],
   "metadata": {
    "collapsed": false
   }
  },
  {
   "cell_type": "code",
   "execution_count": null,
   "outputs": [],
   "source": [
    "x1 = torch.FloatTensor(3, 2, 4)\n",
    "x1.zero_()\n",
    "x2 = torch.zeros(3, 2, 4)\n",
    "x3 = torch.zeros_like(x1)\n",
    "\n",
    "assert torch.allclose(x1, x2) and torch.allclose(x1, x3)"
   ],
   "metadata": {
    "collapsed": false,
    "ExecuteTime": {
     "start_time": "2023-05-30T12:58:39.612949Z",
     "end_time": "2023-05-30T12:58:39.742775Z"
    }
   }
  },
  {
   "cell_type": "markdown",
   "source": [
    "Инициализация случайного распределения"
   ],
   "metadata": {
    "collapsed": false
   }
  },
  {
   "cell_type": "code",
   "execution_count": null,
   "outputs": [],
   "source": [
    "x = torch.randn((2,3))                # Normal(0, 1) с размером (2, 3)\n",
    "x"
   ],
   "metadata": {
    "collapsed": false,
    "ExecuteTime": {
     "start_time": "2023-05-30T12:58:41.750534Z",
     "end_time": "2023-05-30T12:58:41.929694Z"
    }
   }
  },
  {
   "cell_type": "code",
   "execution_count": null,
   "outputs": [],
   "source": [
    "x.random_(0, 10)                      # Дискретное равномерно U[0, 10]\n",
    "x.uniform_(0, 1)                      # Равномерно U[0, 1]\n",
    "x.normal_(mean=0, std=1)              # Нормальное со средним 0 и дисперсией 1\n",
    "x.bernoulli_(p=0.5)                   # bernoulli with parameter p"
   ],
   "metadata": {
    "collapsed": false,
    "ExecuteTime": {
     "start_time": "2023-05-30T12:58:43.263086Z",
     "end_time": "2023-05-30T12:58:43.502513Z"
    }
   }
  },
  {
   "cell_type": "markdown",
   "source": [
    "## Функции в Torch\n",
    "\n",
    "У всех функций Numpy есть своя пара в Torch! Осталось теперь вспомнить numpy 🙂\n",
    "\n",
    "https://github.com/torch/torch7/wiki/Torch-for-Numpy-users"
   ],
   "metadata": {
    "collapsed": false
   }
  },
  {
   "cell_type": "markdown",
   "source": [
    "### Изменение формы\n",
    "`np.reshape()` == `torch.view()`:"
   ],
   "metadata": {
    "collapsed": false
   }
  },
  {
   "cell_type": "code",
   "execution_count": null,
   "outputs": [],
   "source": [
    "b"
   ],
   "metadata": {
    "collapsed": false,
    "ExecuteTime": {
     "start_time": "2023-05-30T12:58:50.323902Z",
     "end_time": "2023-05-30T12:58:50.400011Z"
    }
   }
  },
  {
   "cell_type": "code",
   "execution_count": null,
   "outputs": [],
   "source": [
    "b.view(3, 2).shape"
   ],
   "metadata": {
    "collapsed": false,
    "ExecuteTime": {
     "start_time": "2023-05-30T12:58:51.559592Z",
     "end_time": "2023-05-30T12:58:51.720527Z"
    }
   }
  },
  {
   "cell_type": "code",
   "execution_count": null,
   "outputs": [],
   "source": [
    "b"
   ],
   "metadata": {
    "collapsed": false,
    "ExecuteTime": {
     "start_time": "2023-05-30T12:58:52.668133Z",
     "end_time": "2023-05-30T12:58:52.839745Z"
    }
   }
  },
  {
   "cell_type": "code",
   "execution_count": null,
   "outputs": [],
   "source": [
    "b, b.stride()"
   ],
   "metadata": {
    "collapsed": false,
    "ExecuteTime": {
     "start_time": "2023-05-30T12:58:53.583658Z",
     "end_time": "2023-05-30T12:58:53.742791Z"
    }
   }
  },
  {
   "cell_type": "code",
   "execution_count": null,
   "outputs": [],
   "source": [
    "b.view(3, 2), b.view(3, 2).stride()"
   ],
   "metadata": {
    "collapsed": false,
    "ExecuteTime": {
     "start_time": "2023-05-30T12:59:00.204855Z",
     "end_time": "2023-05-30T12:59:00.343731Z"
    }
   }
  },
  {
   "cell_type": "markdown",
   "source": [
    "**Примечание:** `torch.view ()` создает новый тензор, но старый остается неизменным"
   ],
   "metadata": {
    "collapsed": false
   }
  },
  {
   "cell_type": "code",
   "execution_count": null,
   "outputs": [],
   "source": [
    "b.view(-1, 2)"
   ],
   "metadata": {
    "collapsed": false,
    "ExecuteTime": {
     "start_time": "2023-05-30T12:59:02.242073Z",
     "end_time": "2023-05-30T12:59:02.323825Z"
    }
   }
  },
  {
   "cell_type": "code",
   "execution_count": null,
   "outputs": [],
   "source": [
    "b"
   ],
   "metadata": {
    "collapsed": false,
    "ExecuteTime": {
     "start_time": "2023-05-30T12:59:03.356686Z",
     "end_time": "2023-05-30T12:59:03.525104Z"
    }
   }
  },
  {
   "cell_type": "code",
   "execution_count": null,
   "outputs": [],
   "source": [
    "b.T.stride(), b.is_contiguous(), b.T.is_contiguous()"
   ],
   "metadata": {
    "collapsed": false,
    "ExecuteTime": {
     "start_time": "2023-05-30T12:59:04.300748Z",
     "end_time": "2023-05-30T12:59:04.471261Z"
    }
   }
  },
  {
   "cell_type": "code",
   "execution_count": null,
   "outputs": [],
   "source": [],
   "metadata": {
    "collapsed": false,
    "ExecuteTime": {
     "start_time": "2023-05-30T12:59:05.277733Z",
     "end_time": "2023-05-30T12:59:05.473826Z"
    }
   }
  },
  {
   "cell_type": "markdown",
   "source": [
    "<img src='https://lh3.googleusercontent.com/proxy/pbQ8C9YLVguU2LzlfE2-57lC3KK3yIRsQnpaTOK9S2UPpopvnZ3JhgeMcT6_kqYL56xq18ZFqddzPhszZg1W9YY--y-qDD2-bJrjVYivMdpQgRqiumwh6PpJYU3cL5Mua9RNeVp6xK0'>"
   ],
   "metadata": {
    "collapsed": false
   }
  },
  {
   "cell_type": "code",
   "execution_count": null,
   "outputs": [],
   "source": [
    "b.reshape(-1) # возвращает view или contigues тензор"
   ],
   "metadata": {
    "collapsed": false,
    "ExecuteTime": {
     "start_time": "2023-05-30T12:59:12.566649Z",
     "end_time": "2023-05-30T12:59:12.642344Z"
    }
   }
  },
  {
   "cell_type": "code",
   "execution_count": null,
   "outputs": [],
   "source": [
    "b"
   ],
   "metadata": {
    "collapsed": false,
    "ExecuteTime": {
     "start_time": "2023-05-30T12:59:13.828055Z",
     "end_time": "2023-05-30T12:59:13.995651Z"
    }
   }
  },
  {
   "cell_type": "markdown",
   "source": [
    "### Изменение типа тензора"
   ],
   "metadata": {
    "collapsed": false
   }
  },
  {
   "cell_type": "code",
   "execution_count": null,
   "outputs": [],
   "source": [
    "a = torch.FloatTensor([1.5, 3.2, -7])"
   ],
   "metadata": {
    "collapsed": false,
    "ExecuteTime": {
     "start_time": "2023-05-30T12:59:15.360809Z",
     "end_time": "2023-05-30T12:59:15.442189Z"
    }
   }
  },
  {
   "cell_type": "code",
   "execution_count": null,
   "outputs": [],
   "source": [
    "a.type_as(torch.IntTensor())"
   ],
   "metadata": {
    "collapsed": false,
    "ExecuteTime": {
     "start_time": "2023-05-30T12:59:16.171321Z",
     "end_time": "2023-05-30T12:59:16.249052Z"
    }
   }
  },
  {
   "cell_type": "code",
   "execution_count": null,
   "outputs": [],
   "source": [
    "a.to(torch.int32)"
   ],
   "metadata": {
    "collapsed": false,
    "ExecuteTime": {
     "start_time": "2023-05-30T12:59:16.895268Z",
     "end_time": "2023-05-30T12:59:17.056343Z"
    }
   }
  },
  {
   "cell_type": "code",
   "execution_count": null,
   "outputs": [],
   "source": [
    "a.type_as(torch.ByteTensor())"
   ],
   "metadata": {
    "collapsed": false,
    "ExecuteTime": {
     "start_time": "2023-05-30T12:59:17.569364Z",
     "end_time": "2023-05-30T12:59:17.657264Z"
    }
   }
  },
  {
   "cell_type": "code",
   "execution_count": null,
   "outputs": [],
   "source": [
    "a.to(torch.uint8)"
   ],
   "metadata": {
    "collapsed": false,
    "ExecuteTime": {
     "start_time": "2023-05-30T12:59:18.580635Z",
     "end_time": "2023-05-30T12:59:18.657415Z"
    }
   }
  },
  {
   "cell_type": "markdown",
   "source": [
    "**Note:** `.type_as()` creates a new tensor, the old one remains unchanged"
   ],
   "metadata": {
    "collapsed": false
   }
  },
  {
   "cell_type": "code",
   "execution_count": null,
   "outputs": [],
   "source": [
    "a"
   ],
   "metadata": {
    "collapsed": false,
    "ExecuteTime": {
     "start_time": "2023-05-30T12:59:20.008198Z",
     "end_time": "2023-05-30T12:59:20.091165Z"
    }
   }
  },
  {
   "cell_type": "markdown",
   "source": [
    "* Indexing is just like in `NumPy`:"
   ],
   "metadata": {
    "collapsed": false
   }
  },
  {
   "cell_type": "code",
   "execution_count": null,
   "outputs": [],
   "source": [
    "a = torch.FloatTensor([[100, 20, 35], [15, 163, 534], [52, 90, 66]])\n",
    "a"
   ],
   "metadata": {
    "collapsed": false,
    "ExecuteTime": {
     "start_time": "2023-05-30T12:59:21.255941Z",
     "end_time": "2023-05-30T12:59:21.400652Z"
    }
   }
  },
  {
   "cell_type": "code",
   "execution_count": null,
   "outputs": [],
   "source": [
    "a[0, 0]"
   ],
   "metadata": {
    "collapsed": false,
    "ExecuteTime": {
     "start_time": "2023-05-30T12:59:22.133819Z",
     "end_time": "2023-05-30T12:59:22.212094Z"
    }
   }
  },
  {
   "cell_type": "code",
   "execution_count": null,
   "outputs": [],
   "source": [
    "a[0:2, 1]"
   ],
   "metadata": {
    "collapsed": false,
    "ExecuteTime": {
     "start_time": "2023-05-30T12:59:22.833755Z",
     "end_time": "2023-05-30T12:59:22.989830Z"
    }
   }
  },
  {
   "cell_type": "markdown",
   "source": [
    "### Арифметические операции\n",
    "\n",
    "| операция | аналоги |\n",
    "|:-:|:-:|\n",
    "|`+`| `torch.add()` |\n",
    "|`-`| `torch.sub()` |\n",
    "|`*`| `torch.mul()` |\n",
    "|`/`| `torch.div()` |"
   ],
   "metadata": {
    "collapsed": false
   }
  },
  {
   "cell_type": "markdown",
   "source": [
    "#### Сложение"
   ],
   "metadata": {
    "collapsed": false
   }
  },
  {
   "cell_type": "code",
   "execution_count": null,
   "outputs": [],
   "source": [
    "a = torch.FloatTensor([[1, 2, 3], [10, 20, 30], [100, 200, 300]])\n",
    "b = torch.FloatTensor([[-1, -2, -3], [-10, -20, -30], [100, 200, 300]])"
   ],
   "metadata": {
    "collapsed": false,
    "ExecuteTime": {
     "start_time": "2023-05-30T12:59:26.849176Z",
     "end_time": "2023-05-30T12:59:27.031206Z"
    }
   }
  },
  {
   "cell_type": "code",
   "execution_count": null,
   "outputs": [],
   "source": [
    "a + b"
   ],
   "metadata": {
    "collapsed": false,
    "ExecuteTime": {
     "start_time": "2023-05-30T12:59:27.626531Z",
     "end_time": "2023-05-30T12:59:27.800754Z"
    }
   }
  },
  {
   "cell_type": "code",
   "execution_count": null,
   "outputs": [],
   "source": [
    "a.add(b)"
   ],
   "metadata": {
    "collapsed": false,
    "ExecuteTime": {
     "start_time": "2023-05-30T12:59:28.693132Z",
     "end_time": "2023-05-30T12:59:28.770898Z"
    }
   }
  },
  {
   "cell_type": "code",
   "execution_count": null,
   "outputs": [],
   "source": [
    "b = -a\n",
    "b"
   ],
   "metadata": {
    "collapsed": false,
    "ExecuteTime": {
     "start_time": "2023-05-30T12:59:29.423009Z",
     "end_time": "2023-05-30T12:59:29.595156Z"
    }
   }
  },
  {
   "cell_type": "code",
   "execution_count": null,
   "outputs": [],
   "source": [
    "a + b"
   ],
   "metadata": {
    "collapsed": false,
    "ExecuteTime": {
     "start_time": "2023-05-30T12:59:30.208163Z",
     "end_time": "2023-05-30T12:59:30.286050Z"
    }
   }
  },
  {
   "cell_type": "markdown",
   "source": [
    "#### Вычитание"
   ],
   "metadata": {
    "collapsed": false
   }
  },
  {
   "cell_type": "code",
   "execution_count": null,
   "outputs": [],
   "source": [
    "a - b"
   ],
   "metadata": {
    "collapsed": false,
    "ExecuteTime": {
     "start_time": "2023-05-30T12:59:31.378960Z",
     "end_time": "2023-05-30T12:59:31.512928Z"
    }
   }
  },
  {
   "cell_type": "code",
   "execution_count": null,
   "outputs": [],
   "source": [
    "a.sub(b) # copy"
   ],
   "metadata": {
    "collapsed": false,
    "ExecuteTime": {
     "start_time": "2023-05-30T12:59:32.473825Z",
     "end_time": "2023-05-30T12:59:32.940851Z"
    }
   }
  },
  {
   "cell_type": "code",
   "execution_count": null,
   "outputs": [],
   "source": [
    "a.sub_(b) # inplace"
   ],
   "metadata": {
    "collapsed": false,
    "ExecuteTime": {
     "start_time": "2023-05-30T12:59:32.889265Z",
     "end_time": "2023-05-30T12:59:33.955731Z"
    }
   }
  },
  {
   "cell_type": "markdown",
   "source": [
    "#### Умножение (поэлементное)"
   ],
   "metadata": {
    "collapsed": false
   }
  },
  {
   "cell_type": "code",
   "execution_count": null,
   "outputs": [],
   "source": [
    "a * b"
   ],
   "metadata": {
    "collapsed": false,
    "ExecuteTime": {
     "start_time": "2023-05-30T12:59:33.626246Z",
     "end_time": "2023-05-30T12:59:34.409361Z"
    }
   }
  },
  {
   "cell_type": "code",
   "execution_count": null,
   "outputs": [],
   "source": [
    "a.mul(b)"
   ],
   "metadata": {
    "collapsed": false,
    "ExecuteTime": {
     "start_time": "2023-05-30T12:59:33.681552Z",
     "end_time": "2023-05-30T12:59:35.425965Z"
    }
   }
  },
  {
   "cell_type": "markdown",
   "source": [
    "#### Деление (поэлементное):"
   ],
   "metadata": {
    "collapsed": false
   }
  },
  {
   "cell_type": "code",
   "execution_count": null,
   "outputs": [],
   "source": [
    "a = torch.FloatTensor([[1, 2, 3], [10, 20, 30], [100, 200, 300]])\n",
    "b = torch.FloatTensor([[-1, -2, -3], [-10, -20, -30], [100, 200, 300]])"
   ],
   "metadata": {
    "collapsed": false,
    "ExecuteTime": {
     "start_time": "2023-05-30T12:59:33.909702Z",
     "end_time": "2023-05-30T12:59:36.200061Z"
    }
   }
  },
  {
   "cell_type": "code",
   "execution_count": null,
   "outputs": [],
   "source": [
    "a / b"
   ],
   "metadata": {
    "collapsed": false,
    "ExecuteTime": {
     "start_time": "2023-05-30T12:59:34.349460Z",
     "end_time": "2023-05-30T12:59:36.532071Z"
    }
   }
  },
  {
   "cell_type": "code",
   "execution_count": null,
   "outputs": [],
   "source": [
    "a.div(b)"
   ],
   "metadata": {
    "collapsed": false,
    "ExecuteTime": {
     "start_time": "2023-05-30T12:59:34.753877Z",
     "end_time": "2023-05-30T12:59:37.203216Z"
    }
   }
  },
  {
   "cell_type": "markdown",
   "source": [
    "**Примечание:** все эти операции создают новые тензоры, старые тензоры остаются неизменными."
   ],
   "metadata": {
    "collapsed": false
   }
  },
  {
   "cell_type": "code",
   "execution_count": null,
   "outputs": [],
   "source": [
    "a"
   ],
   "metadata": {
    "collapsed": false,
    "ExecuteTime": {
     "start_time": "2023-05-30T12:59:35.023444Z",
     "end_time": "2023-05-30T12:59:38.723091Z"
    }
   }
  },
  {
   "cell_type": "code",
   "execution_count": null,
   "outputs": [],
   "source": [
    "b"
   ],
   "metadata": {
    "collapsed": false,
    "ExecuteTime": {
     "start_time": "2023-05-30T12:59:35.382955Z",
     "end_time": "2023-05-30T12:59:39.477039Z"
    }
   }
  },
  {
   "cell_type": "markdown",
   "source": [
    "### Операторы сравнения"
   ],
   "metadata": {
    "collapsed": false
   }
  },
  {
   "cell_type": "code",
   "execution_count": null,
   "outputs": [],
   "source": [
    "a = torch.FloatTensor([[1, 2, 3], [10, 20, 30], [100, 200, 300]])\n",
    "b = torch.FloatTensor([[-1, -2, -3], [-10, -20, -30], [100, 200, 300]])"
   ],
   "metadata": {
    "collapsed": false,
    "ExecuteTime": {
     "start_time": "2023-05-30T12:59:35.966240Z",
     "end_time": "2023-05-30T12:59:39.822395Z"
    }
   }
  },
  {
   "cell_type": "code",
   "execution_count": null,
   "outputs": [],
   "source": [
    "a == b"
   ],
   "metadata": {
    "collapsed": false,
    "ExecuteTime": {
     "start_time": "2023-05-30T12:59:36.013827Z",
     "end_time": "2023-05-30T12:59:39.846863Z"
    }
   }
  },
  {
   "cell_type": "code",
   "execution_count": null,
   "outputs": [],
   "source": [
    "a != b"
   ],
   "metadata": {
    "collapsed": false,
    "ExecuteTime": {
     "start_time": "2023-05-30T12:59:36.157963Z",
     "end_time": "2023-05-30T12:59:39.905028Z"
    }
   }
  },
  {
   "cell_type": "code",
   "execution_count": null,
   "outputs": [],
   "source": [
    "a < b"
   ],
   "metadata": {
    "collapsed": false,
    "ExecuteTime": {
     "start_time": "2023-05-30T12:59:36.466871Z",
     "end_time": "2023-05-30T12:59:40.283422Z"
    }
   }
  },
  {
   "cell_type": "code",
   "execution_count": null,
   "outputs": [],
   "source": [
    "a > b"
   ],
   "metadata": {
    "collapsed": false,
    "ExecuteTime": {
     "start_time": "2023-05-30T12:59:36.801369Z",
     "end_time": "2023-05-30T12:59:40.314080Z"
    }
   }
  },
  {
   "cell_type": "markdown",
   "source": [
    "### Использование индексации по логической маске"
   ],
   "metadata": {
    "collapsed": false
   }
  },
  {
   "cell_type": "code",
   "execution_count": null,
   "outputs": [],
   "source": [
    "a[a > b]"
   ],
   "metadata": {
    "collapsed": false,
    "ExecuteTime": {
     "start_time": "2023-05-30T12:59:37.479640Z",
     "end_time": "2023-05-30T12:59:40.740793Z"
    }
   }
  },
  {
   "cell_type": "code",
   "execution_count": null,
   "outputs": [],
   "source": [
    "b[a == b]"
   ],
   "metadata": {
    "collapsed": false,
    "ExecuteTime": {
     "start_time": "2023-05-30T12:59:37.579574Z",
     "end_time": "2023-05-30T12:59:40.780948Z"
    }
   }
  },
  {
   "cell_type": "markdown",
   "source": [
    "### Поэлементное применение **универсальных функций**"
   ],
   "metadata": {
    "collapsed": false
   }
  },
  {
   "cell_type": "code",
   "execution_count": null,
   "outputs": [],
   "source": [
    "a = torch.FloatTensor([[1, 2, 3], [10, 20, 30], [100, 200, 300]])"
   ],
   "metadata": {
    "collapsed": false,
    "ExecuteTime": {
     "start_time": "2023-05-30T12:59:38.216192Z",
     "end_time": "2023-05-30T12:59:41.111024Z"
    }
   }
  },
  {
   "cell_type": "code",
   "execution_count": null,
   "outputs": [],
   "source": [
    "a.sin()"
   ],
   "metadata": {
    "collapsed": false,
    "ExecuteTime": {
     "start_time": "2023-05-30T12:59:38.303486Z",
     "end_time": "2023-05-30T12:59:41.589880Z"
    }
   }
  },
  {
   "cell_type": "code",
   "execution_count": null,
   "outputs": [],
   "source": [
    "torch.sin(a)"
   ],
   "metadata": {
    "collapsed": false,
    "ExecuteTime": {
     "start_time": "2023-05-30T12:59:38.654202Z",
     "end_time": "2023-05-30T12:59:41.645741Z"
    }
   }
  },
  {
   "cell_type": "code",
   "execution_count": null,
   "outputs": [],
   "source": [
    "a.tan()"
   ],
   "metadata": {
    "collapsed": false,
    "ExecuteTime": {
     "start_time": "2023-05-30T12:59:39.011406Z",
     "end_time": "2023-05-30T12:59:41.692993Z"
    }
   }
  },
  {
   "cell_type": "code",
   "execution_count": null,
   "outputs": [],
   "source": [
    "a.exp()"
   ],
   "metadata": {
    "collapsed": false,
    "ExecuteTime": {
     "start_time": "2023-05-30T12:59:39.106869Z",
     "end_time": "2023-05-30T12:59:41.727843Z"
    }
   }
  },
  {
   "cell_type": "code",
   "execution_count": null,
   "outputs": [],
   "source": [
    "a.log()"
   ],
   "metadata": {
    "collapsed": false,
    "ExecuteTime": {
     "start_time": "2023-05-30T12:59:39.430065Z",
     "end_time": "2023-05-30T12:59:41.791599Z"
    }
   }
  },
  {
   "cell_type": "code",
   "execution_count": null,
   "outputs": [],
   "source": [
    "b = -a\n",
    "b"
   ],
   "metadata": {
    "collapsed": false,
    "ExecuteTime": {
     "start_time": "2023-05-30T12:59:39.703288Z",
     "end_time": "2023-05-30T12:59:41.835406Z"
    }
   }
  },
  {
   "cell_type": "code",
   "execution_count": null,
   "outputs": [],
   "source": [
    "b.abs()"
   ],
   "metadata": {
    "collapsed": false,
    "ExecuteTime": {
     "start_time": "2023-05-30T12:59:40.138871Z",
     "end_time": "2023-05-30T12:59:41.908527Z"
    }
   }
  },
  {
   "cell_type": "markdown",
   "source": [
    "### Агрегация и работа с осями\n",
    "#### sum, mean, max, min:"
   ],
   "metadata": {
    "collapsed": false
   }
  },
  {
   "cell_type": "code",
   "execution_count": null,
   "outputs": [],
   "source": [
    "a.sum(dim=1)"
   ],
   "metadata": {
    "collapsed": false,
    "ExecuteTime": {
     "start_time": "2023-05-30T12:59:41.055346Z",
     "end_time": "2023-05-30T12:59:41.991020Z"
    }
   }
  },
  {
   "cell_type": "code",
   "execution_count": null,
   "outputs": [],
   "source": [
    "a.mean()"
   ],
   "metadata": {
    "collapsed": false,
    "ExecuteTime": {
     "start_time": "2023-05-30T12:59:43.474870Z",
     "end_time": "2023-05-30T12:59:43.637831Z"
    }
   }
  },
  {
   "cell_type": "markdown",
   "source": [
    "#### Применение функции вдоль оси"
   ],
   "metadata": {
    "collapsed": false
   }
  },
  {
   "cell_type": "code",
   "execution_count": null,
   "outputs": [],
   "source": [
    "a"
   ],
   "metadata": {
    "collapsed": false,
    "ExecuteTime": {
     "start_time": "2023-05-30T12:59:45.245089Z",
     "end_time": "2023-05-30T12:59:45.328414Z"
    }
   }
  },
  {
   "cell_type": "code",
   "execution_count": null,
   "outputs": [],
   "source": [
    "a.sum(dim=0)"
   ],
   "metadata": {
    "collapsed": false,
    "ExecuteTime": {
     "start_time": "2023-05-30T12:59:45.957740Z",
     "end_time": "2023-05-30T12:59:46.127912Z"
    }
   }
  },
  {
   "cell_type": "code",
   "execution_count": null,
   "outputs": [],
   "source": [
    "a.sum(dim=1)"
   ],
   "metadata": {
    "collapsed": false,
    "ExecuteTime": {
     "start_time": "2023-05-30T12:59:46.631742Z",
     "end_time": "2023-05-30T12:59:46.792400Z"
    }
   }
  },
  {
   "cell_type": "code",
   "execution_count": null,
   "outputs": [],
   "source": [
    "a.max()"
   ],
   "metadata": {
    "collapsed": false,
    "ExecuteTime": {
     "start_time": "2023-05-30T12:59:47.314576Z",
     "end_time": "2023-05-30T12:59:47.389259Z"
    }
   }
  },
  {
   "cell_type": "code",
   "execution_count": null,
   "outputs": [],
   "source": [
    "a.max(0)"
   ],
   "metadata": {
    "collapsed": false,
    "ExecuteTime": {
     "start_time": "2023-05-30T12:59:47.972702Z",
     "end_time": "2023-05-30T12:59:48.142859Z"
    }
   }
  },
  {
   "cell_type": "markdown",
   "source": [
    "**Примечание:** второй тензор, возвращаемый `.max()`, содержит индексы элементов max вдоль этой оси. Например. в этом случае `a.max ()` вернула `(100, 200, 300)`, которые являются минимальными элементами по оси 0 (вдоль столбцов), а их индексы по оси 0 равны `(2, 2, 2)`.\n"
   ],
   "metadata": {
    "collapsed": false
   }
  },
  {
   "cell_type": "markdown",
   "source": [
    "#### Фиктивные оси\n",
    "\n",
    "Иногда очень сложно бывает разобраться, как правильно выбрать оси для применения операций с многомерными массивами. Поэтому сейчас мы решим на эту тему пару задач.\n",
    "Сначала посмотрим, как создавать у массивов новые фиктивные оси, это нам пригодится."
   ],
   "metadata": {
    "collapsed": false
   }
  },
  {
   "cell_type": "code",
   "execution_count": null,
   "outputs": [],
   "source": [
    "# получем тензор с размерностью 3x3\n",
    "a = torch.FloatTensor([[1, 2, 3], [10, 20, 30], [100, 200, 300]])\n",
    "\n",
    "# добавляем еще одно измерение с помощью None\n",
    "a[:, None, :].shape"
   ],
   "metadata": {
    "collapsed": false,
    "ExecuteTime": {
     "start_time": "2023-05-30T12:59:54.638437Z",
     "end_time": "2023-05-30T12:59:54.727746Z"
    }
   }
  },
  {
   "cell_type": "code",
   "execution_count": null,
   "outputs": [],
   "source": [
    "a[:, :, None]"
   ],
   "metadata": {
    "collapsed": false,
    "ExecuteTime": {
     "start_time": "2023-05-30T12:59:56.825535Z",
     "end_time": "2023-05-30T12:59:56.965174Z"
    }
   }
  },
  {
   "cell_type": "markdown",
   "source": [
    "#### Безобидная задача на кумулятивные суммы\n",
    "Дана матрица $M \\times N$. Напишите функцию, которая возвращает вектор средних значений по вертикали.\n",
    "\n"
   ],
   "metadata": {
    "collapsed": false
   }
  },
  {
   "cell_type": "code",
   "execution_count": null,
   "outputs": [],
   "source": [
    "def vertical_means(A):\n",
    "    # dim=0 по вертикальной оси\n",
    "    result = A.mean(dim=0)\n",
    "    return result\n",
    "\n",
    "A = torch.FloatTensor([[1, 4],\n",
    "                       [2, 7]] )\n",
    "\n",
    "vertical_means(A)"
   ],
   "metadata": {
    "collapsed": false,
    "ExecuteTime": {
     "start_time": "2023-05-30T12:59:58.883902Z",
     "end_time": "2023-05-30T12:59:58.967040Z"
    }
   }
  },
  {
   "cell_type": "markdown",
   "source": [
    "**Проблемы:**\n",
    "\n",
    "* Что такое вертикальная ось?\n",
    "* По какой оси необходимо суммировать?\n",
    "* Как не ошибиться?\n",
    "\n",
    "**Ответ:** Операции всегда производятся по той оси, которая **исчезнет** после применения операции."
   ],
   "metadata": {
    "collapsed": false
   }
  },
  {
   "cell_type": "markdown",
   "source": [
    "#### Задача на нормализацию изображения\n",
    "Реализуйте функцию ``normalize_pictures(A)``, которая принимает на вход четырёхмерный тензор --- батч из ``batch_size`` изображений, каждое из которых является трехмерным тензором формы (num_channels, width, height). Нужно стандартизировать изображение по каждому каналу, то есть сделать так, чтобы среднее значение яркости каждого канала (по всем изображениям и всем пикселям) было равно 0, а стандартное отклонение --- 1."
   ],
   "metadata": {
    "collapsed": false
   }
  },
  {
   "cell_type": "code",
   "execution_count": null,
   "outputs": [],
   "source": [
    "def normalize_pictures(A):\n",
    "    # param A: torch.Tensor[batch_size, num_channels, width, height]\n",
    "    m = A.mean(dim=(2,3))\n",
    "    sigma = A.std(dim =(2, 3))\n",
    "    # с помощью None добавляем необходимые измерения до 4 шт. как в size\n",
    "    result = (A - m[:, :, None, None])/sigma[:, :, None, None]\n",
    "    return result"
   ],
   "metadata": {
    "collapsed": false,
    "ExecuteTime": {
     "start_time": "2023-05-30T13:00:00.956536Z",
     "end_time": "2023-05-30T13:00:01.047368Z"
    }
   }
  },
  {
   "cell_type": "code",
   "execution_count": null,
   "outputs": [],
   "source": [
    "# low: минимальное число, high: максимальное число, size: размер тензора\n",
    "# кол-во картинок, кол-во каналов (цветов), размер картинок ширина, высота\n",
    "batch = torch.randint(low=0, high=156, size=(64, 3, 300, 300), dtype=torch.float32)"
   ],
   "metadata": {
    "collapsed": false,
    "ExecuteTime": {
     "start_time": "2023-05-30T13:22:42.207418Z",
     "end_time": "2023-05-30T13:22:42.435871Z"
    }
   }
  },
  {
   "cell_type": "code",
   "execution_count": null,
   "outputs": [],
   "source": [
    "batch.shape"
   ],
   "metadata": {
    "collapsed": false,
    "ExecuteTime": {
     "start_time": "2023-05-30T13:22:55.782642Z",
     "end_time": "2023-05-30T13:22:55.944906Z"
    }
   }
  },
  {
   "cell_type": "code",
   "execution_count": null,
   "outputs": [],
   "source": [
    "batch.mean(dim=(0,1)).shape"
   ],
   "metadata": {
    "collapsed": false,
    "ExecuteTime": {
     "start_time": "2023-05-30T13:25:06.880559Z",
     "end_time": "2023-05-30T13:25:07.071952Z"
    }
   }
  },
  {
   "cell_type": "code",
   "execution_count": null,
   "outputs": [],
   "source": [
    "batch.mean(dim=(2,3)).shape"
   ],
   "metadata": {
    "collapsed": false,
    "ExecuteTime": {
     "start_time": "2023-05-30T13:22:49.056402Z",
     "end_time": "2023-05-30T13:22:49.209166Z"
    }
   }
  },
  {
   "cell_type": "code",
   "execution_count": null,
   "outputs": [],
   "source": [
    "batch = torch.randint(0, 256, (64, 3, 300, 300), dtype=torch.float32)\n",
    "\n",
    "B = normalize_pictures(batch)\n",
    "print(B.mean(dim=(2,3)).shape)"
   ],
   "metadata": {
    "collapsed": false,
    "ExecuteTime": {
     "start_time": "2023-05-30T13:25:36.852683Z",
     "end_time": "2023-05-30T13:25:37.188904Z"
    }
   }
  },
  {
   "cell_type": "code",
   "execution_count": null,
   "outputs": [],
   "source": [
    "print(B.std(dim=(2,3))[0])"
   ],
   "metadata": {
    "collapsed": false,
    "ExecuteTime": {
     "start_time": "2023-05-30T13:26:05.178818Z",
     "end_time": "2023-05-30T13:26:05.450406Z"
    }
   }
  },
  {
   "cell_type": "markdown",
   "source": [
    "## Матричные операции"
   ],
   "metadata": {
    "collapsed": false
   }
  },
  {
   "cell_type": "markdown",
   "source": [
    "#### Транспонирование тензора"
   ],
   "metadata": {
    "collapsed": false
   }
  },
  {
   "cell_type": "code",
   "execution_count": null,
   "outputs": [],
   "source": [
    "a = torch.FloatTensor([[1, 2, 3], [10, 20, 30], [100, 200, 300]])\n",
    "a"
   ],
   "metadata": {
    "collapsed": false,
    "ExecuteTime": {
     "start_time": "2023-05-30T13:00:04.986229Z",
     "end_time": "2023-05-30T13:00:05.069978Z"
    }
   }
  },
  {
   "cell_type": "code",
   "execution_count": null,
   "outputs": [],
   "source": [
    "a.t()"
   ],
   "metadata": {
    "collapsed": false,
    "ExecuteTime": {
     "start_time": "2023-05-30T13:00:05.619748Z",
     "end_time": "2023-05-30T13:00:06.060223Z"
    }
   }
  },
  {
   "cell_type": "markdown",
   "source": [
    "Это тоже не inplace-операция:"
   ],
   "metadata": {
    "collapsed": false
   }
  },
  {
   "cell_type": "code",
   "execution_count": null,
   "outputs": [],
   "source": [
    "a"
   ],
   "metadata": {
    "collapsed": false,
    "ExecuteTime": {
     "start_time": "2023-05-30T13:00:06.350089Z",
     "end_time": "2023-05-30T13:00:06.744478Z"
    }
   }
  },
  {
   "cell_type": "markdown",
   "source": [
    "#### Скалярное произведение векторов"
   ],
   "metadata": {
    "collapsed": false
   }
  },
  {
   "cell_type": "code",
   "execution_count": null,
   "outputs": [],
   "source": [
    "a = torch.FloatTensor([1, 2, 3, 4, 5, 6])\n",
    "b = torch.FloatTensor([-1, -2, -4, -6, -8, -10])"
   ],
   "metadata": {
    "collapsed": false,
    "ExecuteTime": {
     "start_time": "2023-05-30T13:00:07.103812Z",
     "end_time": "2023-05-30T13:00:07.412378Z"
    }
   }
  },
  {
   "cell_type": "code",
   "execution_count": null,
   "outputs": [],
   "source": [
    "a.dot(b)"
   ],
   "metadata": {
    "collapsed": false,
    "ExecuteTime": {
     "start_time": "2023-05-30T13:00:07.290776Z",
     "end_time": "2023-05-30T13:00:07.540650Z"
    }
   }
  },
  {
   "cell_type": "code",
   "execution_count": null,
   "outputs": [],
   "source": [
    "a.shape, b.shape"
   ],
   "metadata": {
    "collapsed": false,
    "ExecuteTime": {
     "start_time": "2023-05-30T13:00:07.804510Z",
     "end_time": "2023-05-30T13:00:08.145068Z"
    }
   }
  },
  {
   "cell_type": "code",
   "execution_count": null,
   "outputs": [],
   "source": [
    "# аналог dot для векторного перемножения\n",
    "a @ b"
   ],
   "metadata": {
    "collapsed": false,
    "ExecuteTime": {
     "start_time": "2023-05-30T13:00:07.987744Z",
     "end_time": "2023-05-30T13:00:08.252966Z"
    }
   }
  },
  {
   "cell_type": "code",
   "execution_count": null,
   "outputs": [],
   "source": [
    "type(a)"
   ],
   "metadata": {
    "collapsed": false,
    "ExecuteTime": {
     "start_time": "2023-05-30T13:00:08.628860Z",
     "end_time": "2023-05-30T13:00:08.982049Z"
    }
   }
  },
  {
   "cell_type": "code",
   "execution_count": null,
   "outputs": [],
   "source": [
    "type(b)"
   ],
   "metadata": {
    "collapsed": false,
    "ExecuteTime": {
     "start_time": "2023-05-30T13:00:08.767180Z",
     "end_time": "2023-05-30T13:00:09.079260Z"
    }
   }
  },
  {
   "cell_type": "code",
   "execution_count": null,
   "outputs": [],
   "source": [
    "type(a @ b)"
   ],
   "metadata": {
    "collapsed": false,
    "ExecuteTime": {
     "start_time": "2023-05-30T13:00:09.310028Z",
     "end_time": "2023-05-30T13:00:10.106156Z"
    }
   }
  },
  {
   "cell_type": "markdown",
   "source": [
    "#### Матричное произведение"
   ],
   "metadata": {
    "collapsed": false
   }
  },
  {
   "cell_type": "code",
   "execution_count": null,
   "outputs": [],
   "source": [
    "a = torch.FloatTensor([[1, 2, 3], [10, 20, 30], [100, 200, 300]])\n",
    "b = torch.FloatTensor([[-1, -2, -3], [-10, -20, -30], [100, 200, 300]])"
   ],
   "metadata": {
    "collapsed": false,
    "ExecuteTime": {
     "start_time": "2023-05-30T14:23:34.015749Z",
     "end_time": "2023-05-30T14:23:34.101822Z"
    }
   }
  },
  {
   "cell_type": "code",
   "execution_count": null,
   "outputs": [],
   "source": [
    "# перемножаются две последние размерности матрицы\n",
    "a.mm(b)"
   ],
   "metadata": {
    "collapsed": false,
    "ExecuteTime": {
     "start_time": "2023-05-30T14:23:36.445071Z",
     "end_time": "2023-05-30T14:23:36.666094Z"
    }
   }
  },
  {
   "cell_type": "code",
   "execution_count": null,
   "outputs": [],
   "source": [
    "# аналог mm для матричного перемножения и dot в numpy\n",
    "a @ b"
   ],
   "metadata": {
    "collapsed": false,
    "ExecuteTime": {
     "start_time": "2023-05-30T13:00:10.686480Z",
     "end_time": "2023-05-30T13:00:11.389187Z"
    }
   }
  },
  {
   "cell_type": "code",
   "execution_count": null,
   "outputs": [],
   "source": [
    "a = np.array([[1, 2, 3], [10, 20, 30], [100, 200, 300]])\n",
    "b = np.array([[-1, -2, -3], [-10, -20, -30], [100, 200, 300]])\n",
    "a.dot(b)"
   ],
   "metadata": {
    "collapsed": false,
    "ExecuteTime": {
     "start_time": "2023-05-30T14:25:02.225806Z",
     "end_time": "2023-05-30T14:25:02.392155Z"
    }
   }
  },
  {
   "cell_type": "code",
   "execution_count": null,
   "outputs": [],
   "source": [
    "a = torch.FloatTensor([[1, 2, 3], [10, 20, 30]])\n",
    "b = torch.FloatTensor([[-1], [-10], [100]])"
   ],
   "metadata": {
    "collapsed": false,
    "ExecuteTime": {
     "start_time": "2023-05-30T14:27:02.593477Z",
     "end_time": "2023-05-30T14:27:02.741637Z"
    }
   }
  },
  {
   "cell_type": "code",
   "execution_count": null,
   "outputs": [],
   "source": [
    "print(a.shape, b.shape)"
   ],
   "metadata": {
    "collapsed": false,
    "ExecuteTime": {
     "start_time": "2023-05-30T14:27:03.468577Z",
     "end_time": "2023-05-30T14:27:03.631407Z"
    }
   }
  },
  {
   "cell_type": "code",
   "execution_count": null,
   "outputs": [],
   "source": [
    "c = a @ b\n",
    "print(c, c.shape)"
   ],
   "metadata": {
    "collapsed": false,
    "ExecuteTime": {
     "start_time": "2023-05-30T14:27:28.957284Z",
     "end_time": "2023-05-30T14:27:29.136662Z"
    }
   }
  },
  {
   "cell_type": "markdown",
   "source": [
    "Тензор `b` можно развернуть в одномерный массив с помощью функции `torch.view(-1)`, чтобы результат был вектором"
   ],
   "metadata": {
    "collapsed": false
   }
  },
  {
   "cell_type": "code",
   "execution_count": null,
   "outputs": [],
   "source": [
    "b"
   ],
   "metadata": {
    "collapsed": false,
    "ExecuteTime": {
     "start_time": "2023-05-30T14:33:50.307283Z",
     "end_time": "2023-05-30T14:33:50.387619Z"
    }
   }
  },
  {
   "cell_type": "code",
   "execution_count": null,
   "outputs": [],
   "source": [
    "b.view(-1)"
   ],
   "metadata": {
    "collapsed": false,
    "ExecuteTime": {
     "start_time": "2023-05-30T14:33:51.270267Z",
     "end_time": "2023-05-30T14:33:51.441190Z"
    }
   }
  },
  {
   "cell_type": "code",
   "execution_count": null,
   "outputs": [],
   "source": [
    "a @ b.view(-1)"
   ],
   "metadata": {
    "collapsed": false,
    "ExecuteTime": {
     "start_time": "2023-05-30T14:33:57.513997Z",
     "end_time": "2023-05-30T14:33:57.637982Z"
    }
   }
  },
  {
   "cell_type": "code",
   "execution_count": null,
   "outputs": [],
   "source": [
    "a.mv(b.view(-1))"
   ],
   "metadata": {
    "collapsed": false,
    "ExecuteTime": {
     "start_time": "2023-05-30T14:34:05.101880Z",
     "end_time": "2023-05-30T14:34:05.177899Z"
    }
   }
  },
  {
   "cell_type": "code",
   "execution_count": null,
   "outputs": [],
   "source": [
    "y = torch.Tensor(2, 3, 4, 5)\n",
    "z = torch.Tensor(2, 3, 5, 6)\n",
    "(y @ z).shape"
   ],
   "metadata": {
    "collapsed": false,
    "ExecuteTime": {
     "start_time": "2023-05-30T14:34:06.963951Z",
     "end_time": "2023-05-30T14:34:07.159691Z"
    }
   }
  },
  {
   "cell_type": "markdown",
   "source": [
    "## Конвертация\n",
    "#### Конвертация из Numpy в Pytorch:"
   ],
   "metadata": {
    "collapsed": false
   }
  },
  {
   "cell_type": "code",
   "execution_count": null,
   "outputs": [],
   "source": [
    "a = np.random.rand(3, 3)\n",
    "a"
   ],
   "metadata": {
    "collapsed": false,
    "ExecuteTime": {
     "start_time": "2023-05-30T14:34:26.798651Z",
     "end_time": "2023-05-30T14:34:26.876351Z"
    }
   }
  },
  {
   "cell_type": "code",
   "execution_count": null,
   "outputs": [],
   "source": [
    "b = torch.from_numpy(a)\n",
    "b"
   ],
   "metadata": {
    "collapsed": false,
    "ExecuteTime": {
     "start_time": "2023-05-30T14:34:28.032389Z",
     "end_time": "2023-05-30T14:34:28.190246Z"
    }
   }
  },
  {
   "cell_type": "markdown",
   "source": [
    "**Внимание!** `a` и `b` хранятся в одной и той же ячейке данных. Если именить один тензор, то изменится и другой."
   ],
   "metadata": {
    "collapsed": false
   }
  },
  {
   "cell_type": "code",
   "execution_count": null,
   "outputs": [],
   "source": [
    "b -= b\n",
    "b"
   ],
   "metadata": {
    "collapsed": false,
    "ExecuteTime": {
     "start_time": "2023-05-30T14:34:30.823651Z",
     "end_time": "2023-05-30T14:34:30.898487Z"
    }
   }
  },
  {
   "cell_type": "code",
   "execution_count": null,
   "outputs": [],
   "source": [
    "a"
   ],
   "metadata": {
    "collapsed": false,
    "ExecuteTime": {
     "start_time": "2023-05-30T14:34:32.634728Z",
     "end_time": "2023-05-30T14:34:32.847603Z"
    }
   }
  },
  {
   "cell_type": "markdown",
   "source": [
    "#### Конвертация из Torch в Numpy"
   ],
   "metadata": {
    "collapsed": false
   }
  },
  {
   "cell_type": "code",
   "execution_count": null,
   "outputs": [],
   "source": [
    "a = torch.FloatTensor(2, 3, 4)\n",
    "a"
   ],
   "metadata": {
    "collapsed": false,
    "ExecuteTime": {
     "start_time": "2023-05-30T14:34:37.816814Z",
     "end_time": "2023-05-30T14:34:37.891708Z"
    }
   }
  },
  {
   "cell_type": "code",
   "execution_count": null,
   "outputs": [],
   "source": [
    "type(a)"
   ],
   "metadata": {
    "collapsed": false,
    "ExecuteTime": {
     "start_time": "2023-05-30T14:34:38.436566Z",
     "end_time": "2023-05-30T14:34:38.586799Z"
    }
   }
  },
  {
   "cell_type": "code",
   "execution_count": null,
   "outputs": [],
   "source": [
    "x = a.numpy()\n",
    "x"
   ],
   "metadata": {
    "collapsed": false,
    "ExecuteTime": {
     "start_time": "2023-05-30T14:34:39.381266Z",
     "end_time": "2023-05-30T14:34:39.458389Z"
    }
   }
  },
  {
   "cell_type": "code",
   "execution_count": null,
   "outputs": [],
   "source": [
    "x.shape"
   ],
   "metadata": {
    "collapsed": false,
    "ExecuteTime": {
     "start_time": "2023-05-30T14:34:40.498129Z",
     "end_time": "2023-05-30T14:34:40.653197Z"
    }
   }
  },
  {
   "cell_type": "code",
   "execution_count": null,
   "outputs": [],
   "source": [
    "type(x)"
   ],
   "metadata": {
    "collapsed": false,
    "ExecuteTime": {
     "start_time": "2023-05-30T14:34:41.633091Z",
     "end_time": "2023-05-30T14:34:41.793314Z"
    }
   }
  },
  {
   "cell_type": "code",
   "execution_count": null,
   "outputs": [],
   "source": [
    "x -= x"
   ],
   "metadata": {
    "collapsed": false,
    "ExecuteTime": {
     "start_time": "2023-05-30T14:34:42.355252Z",
     "end_time": "2023-05-30T14:34:42.429962Z"
    }
   }
  },
  {
   "cell_type": "code",
   "execution_count": null,
   "outputs": [],
   "source": [
    "a"
   ],
   "metadata": {
    "collapsed": false,
    "ExecuteTime": {
     "start_time": "2023-05-30T14:34:42.928361Z",
     "end_time": "2023-05-30T14:34:43.148539Z"
    }
   }
  },
  {
   "cell_type": "markdown",
   "source": [
    "#### Задание. Реализация функции forward\n",
    "Реализуйте функцию `forward_pass(X, w)` для одного нейрона нейронной сети с активацией ``sigmoid``. Используйте библиотеку PyTorch"
   ],
   "metadata": {
    "collapsed": false
   }
  },
  {
   "cell_type": "markdown",
   "source": [
    "<img src='https://radioprog.ru/uploads/media/articles/0001/05/267ad35a9e64a7b92c2e3b94940f686816ea6bf8.jpeg'>"
   ],
   "metadata": {
    "collapsed": false
   }
  },
  {
   "cell_type": "code",
   "execution_count": null,
   "outputs": [],
   "source": [
    "def forward_pass(X, w):\n",
    "    logits = X @ w\n",
    "    result  = torch.sigmoid(logits)\n",
    "    return result"
   ],
   "metadata": {
    "collapsed": false,
    "ExecuteTime": {
     "start_time": "2023-05-30T14:35:01.840991Z",
     "end_time": "2023-05-30T14:35:01.986491Z"
    }
   }
  },
  {
   "cell_type": "code",
   "execution_count": null,
   "outputs": [],
   "source": [
    "# матрица признаков размерностью 3x2\n",
    "X = torch.FloatTensor([[-5, 5], [2, 3], [1, -1]])\n",
    "print(X.shape)\n",
    "# вектор весов размерностью 2x1\n",
    "w = torch.FloatTensor([[-0.5], [2.5]])\n",
    "print(w.shape)\n",
    "# результат выполнения функции\n",
    "result = forward_pass(X, w)\n",
    "print('result: {}'.format(result))"
   ],
   "metadata": {
    "collapsed": false,
    "ExecuteTime": {
     "start_time": "2023-05-30T14:36:54.919969Z",
     "end_time": "2023-05-30T14:36:55.039035Z"
    }
   }
  },
  {
   "cell_type": "markdown",
   "source": [
    "## <h1 style=\"text-align: center;\"><a href=\"https://ru.wikipedia.org/wiki/CUDA\">CUDA</a></h3>\n",
    "\n",
    "CUDA --- это программно-аппаратная архитектура параллельных вычислений, которая позволяет существенно увеличить вычислительную производительность благодаря использованию графических процессоров фирмы Nvidia. Для нас CUDA --- это драйвер, который позволяет нам проводить вычисления на GPU."
   ],
   "metadata": {
    "collapsed": false
   }
  },
  {
   "cell_type": "markdown",
   "source": [
    "[CUDA documentation](https://docs.nvidia.com/cuda/)"
   ],
   "metadata": {
    "collapsed": false
   }
  },
  {
   "cell_type": "markdown",
   "source": [
    "Для вычислений на Pytorch мы можем использовать как CPU (Central Processing Unit), так и GPU (Graphical Processing Unit). Между ними можно легко переключаться, и это очень важно!"
   ],
   "metadata": {
    "collapsed": false
   }
  },
  {
   "cell_type": "code",
   "execution_count": null,
   "outputs": [],
   "source": [
    "x = torch.FloatTensor(1024, 10024).uniform_()\n",
    "x"
   ],
   "metadata": {
    "collapsed": false,
    "ExecuteTime": {
     "start_time": "2023-05-30T15:04:54.852056Z",
     "end_time": "2023-05-30T15:04:55.019530Z"
    }
   }
  },
  {
   "cell_type": "code",
   "execution_count": null,
   "outputs": [],
   "source": [
    "x.is_cuda"
   ],
   "metadata": {
    "collapsed": false,
    "ExecuteTime": {
     "start_time": "2023-05-30T15:04:58.081885Z",
     "end_time": "2023-05-30T15:04:58.256961Z"
    }
   }
  },
  {
   "cell_type": "markdown",
   "source": [
    "#### Кладём тензор на GPU"
   ],
   "metadata": {
    "collapsed": false
   }
  },
  {
   "cell_type": "code",
   "execution_count": null,
   "outputs": [],
   "source": [
    "# проверяем состояние памяти GPU\n",
    "# !nvidia-smi"
   ],
   "metadata": {
    "collapsed": false,
    "ExecuteTime": {
     "start_time": "2023-05-30T15:05:00.377050Z",
     "end_time": "2023-05-30T15:05:00.454713Z"
    }
   }
  },
  {
   "cell_type": "code",
   "execution_count": null,
   "outputs": [],
   "source": [
    "# загружаем тензор в память GPU\n",
    "# x = x.cuda()"
   ],
   "metadata": {
    "collapsed": false,
    "ExecuteTime": {
     "start_time": "2023-05-30T15:05:00.984492Z",
     "end_time": "2023-05-30T15:05:01.124655Z"
    }
   }
  },
  {
   "cell_type": "code",
   "execution_count": null,
   "outputs": [],
   "source": [
    "# проверяем результат\n",
    "# !nvidia-smi"
   ],
   "metadata": {
    "collapsed": false,
    "ExecuteTime": {
     "start_time": "2023-05-30T15:05:02.194841Z",
     "end_time": "2023-05-30T15:05:02.284889Z"
    }
   }
  },
  {
   "cell_type": "code",
   "execution_count": null,
   "outputs": [],
   "source": [
    "x"
   ],
   "metadata": {
    "collapsed": false,
    "ExecuteTime": {
     "start_time": "2023-05-30T15:05:03.623757Z",
     "end_time": "2023-05-30T15:05:03.735518Z"
    }
   }
  },
  {
   "cell_type": "code",
   "execution_count": null,
   "outputs": [],
   "source": [
    "# переносим на CPU\n",
    "x = x.cpu()\n",
    "# !nvidia-smi\n",
    "\n",
    "torch.cuda.empty_cache()\n",
    "#  !nvidia-smi"
   ],
   "metadata": {
    "collapsed": false,
    "ExecuteTime": {
     "start_time": "2023-05-30T15:05:40.740713Z",
     "end_time": "2023-05-30T15:05:40.877625Z"
    }
   }
  },
  {
   "cell_type": "code",
   "execution_count": null,
   "outputs": [],
   "source": [
    "device = torch.device(\"cuda:0\") if torch.cuda.is_available() else torch.device(\"cpu\")\n",
    "\n",
    "x = x.to(device)\n",
    "x"
   ],
   "metadata": {
    "collapsed": false,
    "ExecuteTime": {
     "start_time": "2023-05-30T15:05:45.291047Z",
     "end_time": "2023-05-30T15:05:45.403572Z"
    }
   }
  },
  {
   "cell_type": "markdown",
   "source": [
    "Умножим два тензора в GPU и вернём результат обратно на CPU:"
   ],
   "metadata": {
    "collapsed": false
   }
  },
  {
   "cell_type": "code",
   "execution_count": null,
   "outputs": [],
   "source": [
    "a = torch.FloatTensor(10000, 10000).uniform_()\n",
    "b = torch.FloatTensor(10000, 10000).uniform_()\n",
    "# c = a.cuda().mul(b.cuda()).cpu()\n",
    "c = a.mul(b)"
   ],
   "metadata": {
    "collapsed": false,
    "ExecuteTime": {
     "start_time": "2023-05-30T15:06:37.296523Z",
     "end_time": "2023-05-30T15:06:40.164106Z"
    }
   }
  },
  {
   "cell_type": "code",
   "execution_count": null,
   "outputs": [],
   "source": [
    "c"
   ],
   "metadata": {
    "collapsed": false,
    "ExecuteTime": {
     "start_time": "2023-05-30T15:06:41.581499Z",
     "end_time": "2023-05-30T15:06:41.654727Z"
    }
   }
  },
  {
   "cell_type": "code",
   "execution_count": null,
   "outputs": [],
   "source": [
    "a"
   ],
   "metadata": {
    "collapsed": false,
    "ExecuteTime": {
     "start_time": "2023-05-30T15:06:42.760831Z",
     "end_time": "2023-05-30T15:06:42.873044Z"
    }
   }
  },
  {
   "cell_type": "markdown",
   "source": [
    "Тензоры из разных областей памяти не совместимы:"
   ],
   "metadata": {
    "collapsed": false
   }
  },
  {
   "cell_type": "code",
   "execution_count": null,
   "outputs": [],
   "source": [
    "a = torch.FloatTensor(10000, 10000).uniform_().cpu()\n",
    "b = torch.FloatTensor(10000, 10000).uniform_().cuda()"
   ],
   "metadata": {
    "collapsed": false
   }
  },
  {
   "cell_type": "code",
   "execution_count": null,
   "outputs": [],
   "source": [
    "a + b"
   ],
   "metadata": {
    "collapsed": false,
    "ExecuteTime": {
     "start_time": "2023-05-30T15:06:52.136257Z",
     "end_time": "2023-05-30T15:06:52.391080Z"
    }
   }
  },
  {
   "cell_type": "markdown",
   "source": [
    "### Пример работы на GPU"
   ],
   "metadata": {
    "collapsed": false
   }
  },
  {
   "cell_type": "code",
   "execution_count": null,
   "outputs": [],
   "source": [
    "device = 'cuda' if torch.cuda.is_available() else 'cpu'"
   ],
   "metadata": {
    "collapsed": false,
    "ExecuteTime": {
     "start_time": "2023-05-30T15:07:10.131292Z",
     "end_time": "2023-05-30T15:07:10.207139Z"
    }
   }
  },
  {
   "cell_type": "code",
   "execution_count": null,
   "outputs": [],
   "source": [
    "x = torch.FloatTensor(5, 5, 5).uniform_()\n",
    "\n",
    "# проверить наличие CUDA (NVIDIA GPU)\n",
    "if torch.cuda.is_available():\n",
    "    # получить имя устройства CUDA\n",
    "    device = torch.device('cuda')          # Объект CUDA-устройства\n",
    "    y = torch.ones_like(x, device=device)  # создаем тензор на GPU\n",
    "    x = x.to(device)                       # или просто `.to(\"cuda\")`\n",
    "    z = x + y\n",
    "    print(z)\n",
    "    # вы можете установить тип во время операции `.to`\n",
    "    print(z.to(\"cpu\", torch.double))"
   ],
   "metadata": {
    "collapsed": false,
    "ExecuteTime": {
     "start_time": "2023-05-30T15:07:26.551603Z",
     "end_time": "2023-05-30T15:07:26.641610Z"
    }
   }
  },
  {
   "cell_type": "markdown",
   "source": [
    "## AutoGrad\n",
    "\n",
    "За что мы любим PyTorch --- за то, что в нём можно автоматически дифференцировать функции! Об этом можно было бы только мечтать в Numpy. Дифференцирование функций происходит по формуле производной композиции."
   ],
   "metadata": {
    "collapsed": false
   }
  },
  {
   "cell_type": "markdown",
   "source": [
    "**Правило производной композиции (a.k.a. backpropagation)**\n",
    "\n",
    "Пусть есть функция $f(w(\\theta))$. Вычислим её производную:\n",
    "$${\\frac  {\\partial{f}}{\\partial{\\theta}}}\n",
    "={\\frac  {\\partial{f}}{\\partial{w}}}\\cdot {\\frac  {\\partial{w}}{\\partial{\\theta}}}$$\n",
    "\n",
    "\n",
    "*Как рассказывалось на лекции, в многомерном случае можно записать аналог этой формулы:*\n",
    "$$\n",
    "D_\\theta(f\\circ w) = D_{w(\\theta)}(f)\\circ D_\\theta(w)\n",
    "$$\n",
    "\n",
    "Простой пример обратного распространения градиента:\n",
    "\n",
    "$$y = \\sin \\left(x_2^2(x_1 + x_2)\\right)$$\n",
    "\n",
    "<img src=\"https://ars.els-cdn.com/content/image/1-s2.0-S0010465515004099-gr1.jpg\" width=700></img>\n"
   ],
   "metadata": {
    "collapsed": false
   }
  },
  {
   "cell_type": "markdown",
   "source": [
    "Autograd позволяет производить автоматическое дифференцирование для всех операций на тензорах. Граф вычислений, в отличие от Tensorflow, строится динамически. Давайте посмотрим, как это работает."
   ],
   "metadata": {
    "collapsed": false
   }
  },
  {
   "cell_type": "markdown",
   "source": [
    "#### Задание. Реализуйте обучение в логистической регрессии"
   ],
   "metadata": {
    "collapsed": false
   }
  },
  {
   "cell_type": "code",
   "execution_count": null,
   "outputs": [],
   "source": [
    "# Разберем пример: применим линейную регрессию цен на жилье в Бостоне."
   ],
   "metadata": {
    "collapsed": false,
    "ExecuteTime": {
     "start_time": "2023-05-30T15:24:05.274368Z",
     "end_time": "2023-05-30T15:24:05.337073Z"
    }
   }
  },
  {
   "cell_type": "code",
   "execution_count": null,
   "outputs": [],
   "source": [
    "import matplotlib.pyplot as plt\n",
    "import torch\n",
    "%matplotlib inline\n",
    "\n",
    "from sklearn.datasets import load_boston\n",
    "boston = load_boston()\n",
    "plt.scatter(boston.data[:, -1], boston.target)"
   ],
   "metadata": {
    "collapsed": false,
    "ExecuteTime": {
     "start_time": "2023-05-30T15:24:09.496491Z",
     "end_time": "2023-05-30T15:24:11.387618Z"
    }
   }
  },
  {
   "cell_type": "code",
   "execution_count": null,
   "outputs": [],
   "source": [
    "w = torch.zeros(1, requires_grad=True)\n",
    "b = torch.zeros(1, requires_grad=True)\n",
    "\n",
    "x = torch.tensor(boston.data[:, -1] / 10, dtype=torch.float32)\n",
    "y = torch.tensor(boston.target, dtype=torch.float32)"
   ],
   "metadata": {
    "collapsed": false,
    "ExecuteTime": {
     "start_time": "2023-05-30T15:24:16.631759Z",
     "end_time": "2023-05-30T15:24:16.780779Z"
    }
   }
  },
  {
   "cell_type": "code",
   "execution_count": null,
   "outputs": [],
   "source": [
    "y_pred = w * x + b\n",
    "loss = torch.mean((y_pred - y)**2)\n",
    "\n",
    "# propagete gradients\n",
    "loss.backward()"
   ],
   "metadata": {
    "collapsed": false,
    "ExecuteTime": {
     "start_time": "2023-05-30T15:24:17.654916Z",
     "end_time": "2023-05-30T15:24:17.807645Z"
    }
   }
  },
  {
   "cell_type": "code",
   "execution_count": null,
   "outputs": [],
   "source": [
    "print(\"dL/dw = \\n\", w.grad)\n",
    "print(\"dL/db = \\n\", b.grad)"
   ],
   "metadata": {
    "collapsed": false,
    "ExecuteTime": {
     "start_time": "2023-05-30T15:24:18.587067Z",
     "end_time": "2023-05-30T15:24:18.665326Z"
    }
   }
  },
  {
   "cell_type": "code",
   "execution_count": null,
   "outputs": [],
   "source": [
    "from IPython.display import clear_output\n",
    "\n",
    "for i in range(100):\n",
    "    y_pred = w * x + b\n",
    "\n",
    "    # Вычисляем функцию ошибок\n",
    "    loss = torch.mean((y_pred - y)**2)\n",
    "\n",
    "    # Вычисляем градиенты\n",
    "    loss.backward()\n",
    "\n",
    "    # Делаем шаг градиентного спуска по матрице весов\n",
    "    w.data -= 0.05*w.grad.data\n",
    "    b.data -= 0.05*b.grad.data\n",
    "\n",
    "    # обнуляем градиенты\n",
    "    w.grad.data.zero_()\n",
    "    b.grad.data.zero_()\n",
    "\n",
    "    # the rest of code is just bells and whistles\n",
    "    if (i+1) % 5 == 0:\n",
    "        clear_output(True)\n",
    "        plt.scatter(x.data.numpy(), y.data.numpy())\n",
    "        plt.scatter(x.data.numpy(), y_pred.data.numpy(),\n",
    "                    color='orange', linewidth=5)\n",
    "        plt.show()\n",
    "\n",
    "        print(\"loss = \", loss.data.numpy())\n",
    "        if loss.data.numpy() < 0.5:\n",
    "            print(\"Done!\")\n",
    "            break"
   ],
   "metadata": {
    "collapsed": false,
    "ExecuteTime": {
     "start_time": "2023-05-30T15:24:20.556568Z",
     "end_time": "2023-05-30T15:24:24.081932Z"
    }
   }
  },
  {
   "cell_type": "code",
   "execution_count": null,
   "outputs": [],
   "source": [],
   "metadata": {
    "collapsed": false,
    "ExecuteTime": {
     "start_time": "2023-08-21T12:00:03.850380Z",
     "end_time": "2023-08-21T12:00:04.113445Z"
    }
   }
  },
  {
   "cell_type": "markdown",
   "source": [
    "### Посмотрим градиенты на примере двухслойной сети"
   ],
   "metadata": {
    "collapsed": false
   }
  },
  {
   "cell_type": "code",
   "execution_count": null,
   "outputs": [],
   "source": [
    "dtype = torch.float\n",
    "device = torch.device(\"cuda:0\") if torch.cuda.is_available() else torch.device(\"cpu\")\n",
    "\n",
    "N = 64  # N - размер батча;\n",
    "D_in = 3 # D_in - входной размер;\n",
    "H = 3 # H - размер скрытого слоя;\n",
    "D_out = 10 # D_out - размер вывода."
   ],
   "metadata": {
    "collapsed": false,
    "ExecuteTime": {
     "start_time": "2023-08-21T12:00:05.727782Z",
     "end_time": "2023-08-21T12:00:05.896335Z"
    }
   }
  },
  {
   "cell_type": "code",
   "execution_count": null,
   "outputs": [],
   "source": [
    "# Создание случайных тензоров для хранения входных и выходных данных.\n",
    "# Настройка requires_grad = False указывает, что нам не нужно вычислять градиенты\n",
    "# по отношению к этим тензорам во время обратного прохода.\n",
    "x = torch.randn(N, D_in, device=device, dtype=dtype, requires_grad=False)\n",
    "y = torch.randn(N, D_out, device=device, dtype=dtype, requires_grad=False)"
   ],
   "metadata": {
    "collapsed": false,
    "ExecuteTime": {
     "start_time": "2023-08-21T12:00:07.060159Z",
     "end_time": "2023-08-21T12:00:07.252528Z"
    }
   }
  },
  {
   "cell_type": "code",
   "execution_count": null,
   "outputs": [],
   "source": [
    "print(x.shape)\n",
    "print(y.shape)"
   ],
   "metadata": {
    "collapsed": false,
    "ExecuteTime": {
     "start_time": "2023-08-21T12:00:08.741596Z",
     "end_time": "2023-08-21T12:00:08.941170Z"
    }
   }
  },
  {
   "cell_type": "code",
   "execution_count": null,
   "outputs": [],
   "source": [
    "# Создаем тензоры случайных весов.\n",
    "# Настройка requires_grad = True указывает, что мы хотим вычислять градиенты с\n",
    "# уважением к этим тензорам во время обратного прохода.\n",
    "w1 = torch.randn(D_in, H, device=device, dtype=dtype, requires_grad=True)\n",
    "w2 = torch.randn(H, D_out, device=device, dtype=dtype, requires_grad=True)"
   ],
   "metadata": {
    "collapsed": false,
    "ExecuteTime": {
     "start_time": "2023-08-21T12:00:11.672483Z",
     "end_time": "2023-08-21T12:00:11.820716Z"
    }
   }
  },
  {
   "cell_type": "code",
   "execution_count": null,
   "outputs": [],
   "source": [
    "print(w1.shape)\n",
    "print(w2.shape)"
   ],
   "metadata": {
    "collapsed": false,
    "ExecuteTime": {
     "start_time": "2023-08-21T12:00:13.026489Z",
     "end_time": "2023-08-21T12:00:13.250480Z"
    }
   }
  },
  {
   "cell_type": "code",
   "execution_count": null,
   "outputs": [],
   "source": [
    "# clamp преобразует значения менее нуля в ноль\n",
    "# matmul матричное произведение\n",
    "y_pred = (x @ w1).clamp(min=0).matmul(w2)\n",
    "y_pred.shape"
   ],
   "metadata": {
    "collapsed": false,
    "ExecuteTime": {
     "start_time": "2023-08-21T12:00:14.388303Z",
     "end_time": "2023-08-21T12:00:14.627551Z"
    }
   }
  },
  {
   "cell_type": "code",
   "execution_count": null,
   "outputs": [],
   "source": [
    "# определяем функцию потерь\n",
    "loss = (y_pred - y).pow(2).sum()\n",
    "\n",
    "# вычисляем градиенты\n",
    "loss.backward()"
   ],
   "metadata": {
    "collapsed": false,
    "ExecuteTime": {
     "start_time": "2023-08-21T12:00:19.527240Z",
     "end_time": "2023-08-21T12:00:19.799068Z"
    }
   }
  },
  {
   "cell_type": "code",
   "execution_count": null,
   "outputs": [],
   "source": [
    "print((y_pred - y).pow(2).sum())"
   ],
   "metadata": {
    "collapsed": false,
    "ExecuteTime": {
     "start_time": "2023-08-21T12:00:21.424953Z",
     "end_time": "2023-08-21T12:00:21.650609Z"
    }
   }
  },
  {
   "cell_type": "code",
   "execution_count": null,
   "outputs": [],
   "source": [
    "w1.grad, w2.grad"
   ],
   "metadata": {
    "collapsed": false,
    "ExecuteTime": {
     "start_time": "2023-08-21T12:00:25.921777Z",
     "end_time": "2023-08-21T12:00:26.095260Z"
    }
   }
  },
  {
   "cell_type": "code",
   "execution_count": null,
   "outputs": [],
   "source": [
    "loss.grad # нет доступа к нелистовым градиентам в дереве AD"
   ],
   "metadata": {
    "collapsed": false,
    "ExecuteTime": {
     "start_time": "2023-08-21T12:00:29.136643Z",
     "end_time": "2023-08-21T12:00:29.311766Z"
    }
   }
  },
  {
   "cell_type": "code",
   "execution_count": null,
   "outputs": [],
   "source": [
    "# заставляем переменную запоминать градиенты функции потерь\n",
    "y_pred = (x @ w1).clamp(min=0).matmul(w2)\n",
    "y_pred.retain_grad()\n",
    "\n",
    "loss = (y_pred - y).pow(2).sum()\n",
    "loss.retain_grad()\n",
    "\n",
    "loss.backward()"
   ],
   "metadata": {
    "collapsed": false,
    "ExecuteTime": {
     "start_time": "2023-08-21T12:00:32.589955Z",
     "end_time": "2023-08-21T12:00:32.814101Z"
    }
   }
  },
  {
   "cell_type": "code",
   "execution_count": null,
   "outputs": [],
   "source": [
    "loss.grad"
   ],
   "metadata": {
    "collapsed": false,
    "ExecuteTime": {
     "start_time": "2023-08-21T12:00:40.235263Z",
     "end_time": "2023-08-21T12:00:40.394871Z"
    }
   }
  },
  {
   "cell_type": "code",
   "execution_count": null,
   "outputs": [],
   "source": [
    "x.grad # не требует градиента"
   ],
   "metadata": {
    "collapsed": false,
    "ExecuteTime": {
     "start_time": "2023-08-21T12:00:49.212934Z",
     "end_time": "2023-08-21T12:00:49.337911Z"
    }
   }
  },
  {
   "cell_type": "code",
   "execution_count": null,
   "outputs": [],
   "source": [
    "y.grad # не требует градиента"
   ],
   "metadata": {
    "collapsed": false,
    "ExecuteTime": {
     "start_time": "2023-08-21T12:00:49.868549Z",
     "end_time": "2023-08-21T12:00:49.994516Z"
    }
   }
  },
  {
   "cell_type": "markdown",
   "source": [
    "**Замечание:** Градиенты помещаются в поле `.grad` тензоров, на которых они вычисляются."
   ],
   "metadata": {
    "collapsed": false
   }
  },
  {
   "cell_type": "code",
   "execution_count": null,
   "outputs": [],
   "source": [
    "w1"
   ],
   "metadata": {
    "collapsed": false,
    "ExecuteTime": {
     "start_time": "2023-08-21T12:00:51.468703Z",
     "end_time": "2023-08-21T12:00:51.630951Z"
    }
   }
  },
  {
   "cell_type": "code",
   "execution_count": null,
   "outputs": [],
   "source": [
    "with torch.no_grad():\n",
    "\n",
    "    pass"
   ],
   "metadata": {
    "collapsed": false,
    "ExecuteTime": {
     "start_time": "2023-08-21T12:00:53.986843Z",
     "end_time": "2023-08-21T12:00:54.134363Z"
    }
   }
  },
  {
   "cell_type": "code",
   "execution_count": null,
   "outputs": [],
   "source": [],
   "metadata": {
    "collapsed": false
   }
  },
  {
   "cell_type": "markdown",
   "source": [
    "### Пример увеличения проивзодительности на GPU"
   ],
   "metadata": {
    "collapsed": false
   }
  },
  {
   "cell_type": "code",
   "execution_count": null,
   "outputs": [],
   "source": [
    "x = torch.rand([2000,3000])\n",
    "# x"
   ],
   "metadata": {
    "collapsed": false,
    "ExecuteTime": {
     "start_time": "2023-05-30T15:34:29.559938Z",
     "end_time": "2023-05-30T15:34:29.770508Z"
    }
   }
  },
  {
   "cell_type": "code",
   "execution_count": null,
   "outputs": [],
   "source": [
    "torch.cuda.is_available()"
   ],
   "metadata": {
    "collapsed": false,
    "ExecuteTime": {
     "start_time": "2023-05-30T13:01:01.057019Z",
     "end_time": "2023-05-30T13:01:02.113876Z"
    }
   }
  },
  {
   "cell_type": "code",
   "execution_count": null,
   "outputs": [],
   "source": [
    "torch.device('cuda:0')"
   ],
   "metadata": {
    "collapsed": false,
    "ExecuteTime": {
     "start_time": "2023-05-30T13:01:01.524322Z",
     "end_time": "2023-05-30T13:01:02.593971Z"
    }
   }
  },
  {
   "cell_type": "code",
   "execution_count": null,
   "outputs": [],
   "source": [
    "torch.device('cpu')"
   ],
   "metadata": {
    "collapsed": false,
    "ExecuteTime": {
     "start_time": "2023-05-30T13:01:01.909228Z",
     "end_time": "2023-05-30T13:01:03.130479Z"
    }
   }
  },
  {
   "cell_type": "code",
   "execution_count": null,
   "outputs": [],
   "source": [
    "device = torch.device('cuda:0' if torch.cuda.is_available() else 'cpu')\n",
    "device"
   ],
   "metadata": {
    "collapsed": false,
    "ExecuteTime": {
     "start_time": "2023-05-30T13:01:01.962136Z",
     "end_time": "2023-05-30T13:01:03.160359Z"
    }
   }
  },
  {
   "cell_type": "code",
   "execution_count": null,
   "outputs": [],
   "source": [
    "x_cuda = x.to(device)\n",
    "# x_cuda"
   ],
   "metadata": {
    "collapsed": false,
    "ExecuteTime": {
     "start_time": "2023-05-30T13:01:02.070510Z",
     "end_time": "2023-05-30T13:01:03.226452Z"
    }
   }
  },
  {
   "cell_type": "code",
   "execution_count": null,
   "outputs": [],
   "source": [
    "%time y = (x - x + x * 10.0) ** 2"
   ],
   "metadata": {
    "collapsed": false,
    "ExecuteTime": {
     "start_time": "2023-05-30T13:01:02.498245Z",
     "end_time": "2023-05-30T13:01:03.813733Z"
    }
   }
  },
  {
   "cell_type": "markdown",
   "source": [
    "На больших объемах данных должно было быть заметно ускорение, если будет доступна видеокарта!"
   ],
   "metadata": {
    "collapsed": false
   }
  },
  {
   "cell_type": "code",
   "execution_count": null,
   "outputs": [],
   "source": [
    "%time y_cuda = (x_cuda - x_cuda + x_cuda * 10.0) ** 2"
   ],
   "metadata": {
    "collapsed": false,
    "ExecuteTime": {
     "start_time": "2023-05-30T13:01:03.680342Z",
     "end_time": "2023-05-30T13:01:04.125730Z"
    }
   }
  },
  {
   "cell_type": "markdown",
   "source": [
    "### Запуск на видеокарте\n",
    "https://towardsdatascience.com/gpu-accelerated-machine-learning-on-macos-48d53ef1b545"
   ],
   "metadata": {
    "collapsed": false
   }
  },
  {
   "cell_type": "code",
   "execution_count": null,
   "outputs": [],
   "source": [
    "from __future__ import absolute_import, print_function\n",
    "import pyopencl as cl"
   ],
   "metadata": {
    "collapsed": false,
    "ExecuteTime": {
     "start_time": "2023-05-24T13:41:17.913476Z",
     "end_time": "2023-05-24T13:41:17.927659Z"
    }
   }
  },
  {
   "cell_type": "code",
   "execution_count": null,
   "outputs": [],
   "source": [
    "a_np = np.random.rand(50000).astype(np.float32)\n",
    "b_np = np.random.rand(50000).astype(np.float32)\n",
    "ctx = cl.create_some_context()\n",
    "queue = cl.CommandQueue(ctx)\n",
    "mf = cl.mem_flags\n",
    "a_g = cl.Buffer(ctx, mf.READ_ONLY | mf.COPY_HOST_PTR, hostbuf=a_np)\n",
    "b_g = cl.Buffer(ctx, mf.READ_ONLY | mf.COPY_HOST_PTR, hostbuf=b_np)\n",
    "kernel = \"\"\"\n",
    "__kernel void sum(\n",
    "    __global const float *a_g, __global const float *b_g, __global float *res_g)\n",
    "{\n",
    "  int gid = get_global_id(0);\n",
    "  res_g[gid] = a_g[gid] + b_g[gid];\n",
    "}\n",
    "\"\"\"\n",
    "prg = cl.Program(ctx, kernel).build()\n",
    "res_g = cl.Buffer(ctx, mf.WRITE_ONLY, a_np.nbytes)\n",
    "prg.sum(queue, a_np.shape, None, a_g, b_g, res_g)\n",
    "res_np = np.empty_like(a_np)\n",
    "cl.enqueue_copy(queue, res_np, res_g)\n",
    "# Check on CPU with Numpy:\n",
    "print(res_np - (a_np + b_np))\n",
    "print(np.linalg.norm(res_np - (a_np + b_np)))\n",
    "assert np.allclose(res_np, a_np + b_np)"
   ],
   "metadata": {
    "collapsed": false,
    "ExecuteTime": {
     "start_time": "2023-05-24T13:41:29.584658Z",
     "end_time": "2023-05-24T13:41:30.252228Z"
    }
   }
  },
  {
   "cell_type": "code",
   "execution_count": null,
   "outputs": [],
   "source": [
    "w = torch.tensor([[1.,2.],[4.,5.]])\n",
    "w"
   ],
   "metadata": {
    "collapsed": false,
    "ExecuteTime": {
     "start_time": "2023-05-25T16:13:53.575209Z",
     "end_time": "2023-05-25T16:13:53.587000Z"
    }
   }
  },
  {
   "cell_type": "markdown",
   "source": [
    "## Реализация градиентного спуска"
   ],
   "metadata": {
    "collapsed": false
   }
  },
  {
   "cell_type": "code",
   "execution_count": null,
   "outputs": [],
   "source": [
    "x = torch.tensor(\n",
    "    [[1.,  2.,  3.,  4.],\n",
    "     [5.,  6.,  7.,  8.],\n",
    "     [9., 10., 11., 12.]], requires_grad=True)\n",
    "\n",
    "function = 10 * (x ** 2).sum()\n",
    "\n",
    "function.backward()\n",
    "\n",
    "print(x.grad, '<- gradient')"
   ],
   "metadata": {
    "collapsed": false,
    "ExecuteTime": {
     "start_time": "2023-05-25T16:34:27.688651Z",
     "end_time": "2023-05-25T16:34:27.743346Z"
    }
   }
  },
  {
   "cell_type": "code",
   "execution_count": null,
   "outputs": [],
   "source": [
    "print(function.grad_fn)\n",
    "print(function.grad_fn.next_functions[0][0])\n",
    "print(function.grad_fn.next_functions[0][0].next_functions[0][0])\n",
    "print(function.grad_fn.next_functions[0][0].next_functions[0][0].next_functions[0][0])"
   ],
   "metadata": {
    "collapsed": false,
    "ExecuteTime": {
     "start_time": "2023-05-25T16:34:48.085788Z",
     "end_time": "2023-05-25T16:34:48.126199Z"
    }
   }
  },
  {
   "cell_type": "markdown",
   "source": [
    "Реализуйте расчет градиента для функции $f(w) = \\prod_{i,j}{log_e(log_e(w_{i,j} + 7))} $ в точке $ w =[[5,10],[1,2]]$\n",
    "\n",
    "Подсказка: перемножить все значения функции можно с помощью метода .prod()"
   ],
   "metadata": {
    "collapsed": false
   }
  },
  {
   "cell_type": "code",
   "execution_count": null,
   "outputs": [],
   "source": [
    "w = torch.tensor([[5.,10.],[1.,2.]], requires_grad=True) # put our code here\n",
    "\n",
    "function = torch.log(torch.log(w + 7)).prod() # put our code here\n",
    "function.backward()\n",
    "\n",
    "w.grad"
   ],
   "metadata": {
    "collapsed": false,
    "ExecuteTime": {
     "start_time": "2023-05-25T16:57:00.856350Z",
     "end_time": "2023-05-25T16:57:00.874940Z"
    }
   }
  },
  {
   "cell_type": "markdown",
   "source": [
    "Реализуйте градиентный спуск для той же функции $f(w) = \\prod_{i,j}{log_e(log_e(w_{i,j} + 7))} $\n",
    "Пусть начальным приближением будет  $ w^{t=0} = [[5 , 10], [1, 2]] $, шаг градиентного спуска  $ alpha=0.001 $.  Чему будет равен  $ w^{t=500}  $ ?"
   ],
   "metadata": {
    "collapsed": false
   }
  },
  {
   "cell_type": "code",
   "execution_count": null,
   "outputs": [],
   "source": [
    "w = torch.tensor([[5., 10.], [1., 2.]], requires_grad=True)\n",
    "alpha = 0.001\n",
    "\n",
    "for _ in range(500):\n",
    "    # задаем функцию\n",
    "    function = (w + 7).log().log().prod()\n",
    "    # находим градиент\n",
    "    function.backward()\n",
    "    # обновляем значения, важно использовать .data\n",
    "    w.data -= alpha * w.grad\n",
    "    # обнуляем значения градиента\n",
    "    w.grad.zero_()\n",
    "print(w)"
   ],
   "metadata": {
    "collapsed": false,
    "ExecuteTime": {
     "start_time": "2023-05-25T17:10:09.071460Z",
     "end_time": "2023-05-25T17:10:09.136312Z"
    }
   }
  },
  {
   "cell_type": "code",
   "execution_count": null,
   "outputs": [],
   "source": [
    "# реализуем аналогичный градиентный спуск с помощью функций\n",
    "x = torch.tensor(\n",
    "    [8., 8.], requires_grad=True)\n",
    "var_history = []\n",
    "fn_history = []\n",
    "\n",
    "def function_parabola(variable):\n",
    "    return 10 * (variable ** 2).sum()\n",
    "\n",
    "def make_gradient_step(function, variable):\n",
    "    function_result = function(variable)\n",
    "    function_result.backward()\n",
    "    variable.data -= 0.001 * variable.grad\n",
    "    variable.grad.zero_()\n",
    "\n",
    "for i in range(500):\n",
    "    var_history.append(x.data.cpu().numpy().copy())\n",
    "    fn_history.append(function_parabola(x).data.cpu().numpy().copy())\n",
    "    make_gradient_step(function_parabola, x)"
   ],
   "metadata": {
    "collapsed": false,
    "ExecuteTime": {
     "start_time": "2023-05-29T16:59:08.497204Z",
     "end_time": "2023-05-29T16:59:08.663354Z"
    }
   }
  },
  {
   "cell_type": "code",
   "execution_count": null,
   "outputs": [],
   "source": [
    "# аналогичный функционалу выше с использованием оптимайзера\n",
    "x = torch.tensor(\n",
    "    [8., 8.], requires_grad=True)\n",
    "var_history = []\n",
    "fn_history = []\n",
    "\n",
    "# метод optim позволяет автоматически реализовать различные способы оптимизации\n",
    "optimizer = torch.optim.SGD([x], lr=0.001)\n",
    "\n",
    "def function_parabola(variable):\n",
    "    return 10 * (variable ** 2).sum()\n",
    "\n",
    "def make_gradient_step(function, variable):\n",
    "    function_result = function(variable)\n",
    "    function_result.backward()\n",
    "    optimizer.step()\n",
    "    optimizer.zero_grad()\n",
    "\n",
    "for i in range(500):\n",
    "    var_history.append(x.data.numpy().copy())\n",
    "    fn_history.append(function_parabola(x).data.cpu().numpy().copy())\n",
    "    make_gradient_step(function_parabola, x)"
   ],
   "metadata": {
    "collapsed": false,
    "ExecuteTime": {
     "start_time": "2023-05-25T17:32:39.346413Z",
     "end_time": "2023-05-25T17:32:39.408999Z"
    }
   }
  },
  {
   "cell_type": "markdown",
   "source": [
    "Перепишите пример, используя torch.optim.SGD"
   ],
   "metadata": {
    "collapsed": false
   }
  },
  {
   "cell_type": "code",
   "execution_count": null,
   "outputs": [],
   "source": [
    "w = torch.tensor([[5., 10.], [1., 2.]], requires_grad=True)\n",
    "alpha = 0.001\n",
    "# создаем шаг оптимизации стохастического градиентного спуска\n",
    "optimizer = torch.optim.SGD([w], lr=alpha)\n",
    "\n",
    "for _ in range(500):\n",
    "    function = (w + 7).log().log().prod()\n",
    "    # найдем градиент\n",
    "    function.backward()\n",
    "    # выполним шаг градиентного спуска\n",
    "    optimizer.step()\n",
    "    # обнулим значения градиента\n",
    "    optimizer.zero_grad()\n",
    "\n",
    "w"
   ],
   "metadata": {
    "collapsed": false,
    "ExecuteTime": {
     "start_time": "2023-05-25T17:43:04.274809Z",
     "end_time": "2023-05-25T17:43:04.381174Z"
    }
   }
  },
  {
   "cell_type": "markdown",
   "source": [
    "Нам дана функция  $f(x)=x^2 $  и начальная точка  $ x^{t=0} =1 $  При каком  $ α>0 $ градиентный спуск перестает сходиться (итерации не приводят к минизации функции)?  P.S: Ответ можно вывести аналитически, а можно подобрать"
   ],
   "metadata": {
    "collapsed": false
   }
  },
  {
   "cell_type": "code",
   "execution_count": null,
   "outputs": [],
   "source": [
    "x = 1\n",
    "lr = 0.99\n",
    "\n",
    "for _ in range(10):\n",
    "    derr_f_x = 2 * x\n",
    "    x -= lr*derr_f_x\n",
    "    print(x)"
   ],
   "metadata": {
    "collapsed": false,
    "ExecuteTime": {
     "start_time": "2023-05-25T17:49:46.930897Z",
     "end_time": "2023-05-25T17:49:46.940494Z"
    }
   }
  },
  {
   "cell_type": "code",
   "execution_count": null,
   "outputs": [],
   "source": [
    "import matplotlib.pyplot as plt\n",
    "\n",
    "def show_contours(objective,\n",
    "                  x_lims=[-10.0, 10.0],\n",
    "                  y_lims=[-10.0, 10.0],\n",
    "                  x_ticks=100,\n",
    "                  y_ticks=100):\n",
    "    x_step = (x_lims[1] - x_lims[0]) / x_ticks\n",
    "    y_step = (y_lims[1] - y_lims[0]) / y_ticks\n",
    "    X, Y = np.mgrid[x_lims[0]:x_lims[1]:x_step, y_lims[0]:y_lims[1]:y_step]\n",
    "    res = []\n",
    "    for x_index in range(X.shape[0]):\n",
    "        res.append([])\n",
    "        for y_index in range(X.shape[1]):\n",
    "            x_val = X[x_index, y_index]\n",
    "            y_val = Y[x_index, y_index]\n",
    "            res[-1].append(objective(np.array([[x_val, y_val]]).T))\n",
    "    res = np.array(res)\n",
    "    plt.figure(figsize=(7,7))\n",
    "    plt.contour(X, Y, res, 100)\n",
    "    plt.xlabel('$x_1$')\n",
    "    plt.ylabel('$x_2$')"
   ],
   "metadata": {
    "collapsed": false,
    "ExecuteTime": {
     "start_time": "2023-05-25T17:51:49.215465Z",
     "end_time": "2023-05-25T17:51:50.508534Z"
    }
   }
  },
  {
   "cell_type": "code",
   "execution_count": null,
   "outputs": [],
   "source": [
    "show_contours(function_parabola)\n",
    "plt.scatter(np.array(var_history)[:,0], np.array(var_history)[:,1], s=10, c='r');"
   ],
   "metadata": {
    "collapsed": false,
    "ExecuteTime": {
     "start_time": "2023-05-25T17:51:51.694664Z",
     "end_time": "2023-05-25T17:51:52.904095Z"
    }
   }
  },
  {
   "cell_type": "code",
   "execution_count": null,
   "outputs": [],
   "source": [
    "plt.figure(figsize=(7,7))\n",
    "plt.plot(fn_history);\n",
    "plt.xlabel('step')\n",
    "plt.ylabel('function value');"
   ],
   "metadata": {
    "collapsed": false,
    "ExecuteTime": {
     "start_time": "2023-05-25T17:52:14.858073Z",
     "end_time": "2023-05-25T17:52:15.036202Z"
    }
   }
  },
  {
   "cell_type": "code",
   "execution_count": null,
   "outputs": [],
   "source": [
    "plt.figure(figsize=(7,7))\n",
    "plt.semilogy(fn_history);\n",
    "plt.xlabel('step')\n",
    "plt.ylabel('function value');"
   ],
   "metadata": {
    "collapsed": false,
    "ExecuteTime": {
     "start_time": "2023-05-25T17:52:24.989846Z",
     "end_time": "2023-05-25T17:52:25.264280Z"
    }
   }
  },
  {
   "cell_type": "code",
   "execution_count": null,
   "outputs": [],
   "source": [
    "def function_skewed(variable):\n",
    "    gramma = torch.tensor([[1., -1.], [1., 1.]]) @ torch.tensor([[1.0, 0.0], [0.0, 4.0]])\n",
    "    res = 10 * (variable.unsqueeze(0) @ (gramma @ variable.unsqueeze(1))).sum()\n",
    "    return res\n",
    "\n",
    "def function_skewed_np(variable):\n",
    "    gramma = np.array([[1, -1], [1, 1]]) @ np.array([[1.0, 0.0], [0.0, 4.0]])\n",
    "    res = 10 * (variable.transpose(1, 0) @ (gramma @ variable)).sum()\n",
    "    return res\n",
    "\n",
    "show_contours(function_skewed_np)"
   ],
   "metadata": {
    "collapsed": false,
    "ExecuteTime": {
     "start_time": "2023-05-25T17:52:55.375406Z",
     "end_time": "2023-05-25T17:52:56.030888Z"
    }
   }
  },
  {
   "cell_type": "code",
   "execution_count": null,
   "outputs": [],
   "source": [
    "x = torch.tensor(\n",
    "    [8., 8.], requires_grad=True)\n",
    "var_history = []\n",
    "fn_history = []\n",
    "\n",
    "optimizer = torch.optim.SGD([x], lr=0.001)\n",
    "\n",
    "for i in range(500):\n",
    "    var_history.append(x.data.cpu().numpy().copy())\n",
    "    fn_history.append(function_skewed(x).data.cpu().numpy().copy())\n",
    "    make_gradient_step(function_skewed, x)"
   ],
   "metadata": {
    "collapsed": false,
    "ExecuteTime": {
     "start_time": "2023-05-25T17:53:05.365874Z",
     "end_time": "2023-05-25T17:53:05.586905Z"
    }
   }
  },
  {
   "cell_type": "code",
   "execution_count": null,
   "outputs": [],
   "source": [
    "show_contours(function_skewed_np)\n",
    "plt.scatter(np.array(var_history)[:,0], np.array(var_history)[:,1], s=10, c='r');"
   ],
   "metadata": {
    "collapsed": false,
    "ExecuteTime": {
     "start_time": "2023-05-25T17:53:12.463543Z",
     "end_time": "2023-05-25T17:53:13.908777Z"
    }
   }
  },
  {
   "cell_type": "markdown",
   "source": [
    "## Простейшая нейронная сеть"
   ],
   "metadata": {
    "collapsed": false
   }
  },
  {
   "cell_type": "code",
   "execution_count": null,
   "outputs": [],
   "source": [
    "from torchvision.datasets import MNIST\n",
    "import torchvision.transforms as tfs"
   ],
   "metadata": {
    "collapsed": false,
    "ExecuteTime": {
     "start_time": "2023-05-30T17:00:52.331729Z",
     "end_time": "2023-05-30T17:00:52.904209Z"
    }
   }
  },
  {
   "cell_type": "markdown",
   "source": [
    "## Подготовка датасета\n",
    "\n",
    "Здесь мы узнаем некоторые базовые функции и классы подготовки данных из **PyTorch** как:\n",
    "\n",
    "- `torch.utils.data.Dataset` and `torch.utils.data.DataLoader`\n",
    "- dataset downloading api\n",
    "\n",
    "Для начала мы определим нашу проблему. Здесь мы загружаем набор данных MNIST (с PyTorch API)\n",
    "\n",
    "MNIST:\n",
    "- 28x28 изображений из `0`, `1`, .. `9`\n",
    "- каждый пиксель серый (float value in [0, 1))\n",
    "- targets это целое значение в диапазоне [0, 9] (10 классов)\n",
    "- объекты ($x_i$, $y_i$), где $x_i$ размера (1, 28, 28), $y_i$ это значение int\n",
    "\n",
    "Для наших целей мы вытяним входные данные ($ x $), чтобы наши данные во время обучения имели формы:\n",
    "\n",
    "- `x_batch` размера `(batch_size, 784)`\n",
    "- `y_batch` размера `(batch_size)`\n",
    "\n",
    "28 x 28 = 784\n"
   ],
   "metadata": {
    "collapsed": false
   }
  },
  {
   "cell_type": "code",
   "execution_count": null,
   "outputs": [],
   "source": [
    "data_tfs = tfs.Compose([\n",
    "  tfs.ToTensor(),\n",
    "  tfs.Normalize((0.5), (0.5))\n",
    "])"
   ],
   "metadata": {
    "collapsed": false,
    "ExecuteTime": {
     "start_time": "2023-05-31T16:42:27.444226Z",
     "end_time": "2023-05-31T16:42:27.582568Z"
    }
   }
  },
  {
   "cell_type": "code",
   "execution_count": null,
   "outputs": [],
   "source": [
    "# install for train and test\n",
    "root = './'\n",
    "train = MNIST(root, train=True,  transform=data_tfs, download=True)\n",
    "test  = MNIST(root, train=False, transform=data_tfs, download=True)"
   ],
   "metadata": {
    "collapsed": false,
    "ExecuteTime": {
     "start_time": "2023-05-31T16:45:09.279955Z",
     "end_time": "2023-05-31T16:45:09.531248Z"
    }
   }
  },
  {
   "cell_type": "code",
   "execution_count": null,
   "outputs": [],
   "source": [
    "print(f'Data size:\\n\\t train {len(train)},\\n\\t test {len(test)}')\n",
    "print(f'Data shape:\\n\\t features {train[0][0].shape},\\n\\t target {type(test[0][1])}')"
   ],
   "metadata": {
    "collapsed": false,
    "ExecuteTime": {
     "start_time": "2023-05-31T16:45:09.798748Z",
     "end_time": "2023-05-31T16:45:10.210069Z"
    }
   }
  },
  {
   "cell_type": "code",
   "execution_count": null,
   "outputs": [],
   "source": [
    "from torch.utils.data import DataLoader"
   ],
   "metadata": {
    "collapsed": false,
    "ExecuteTime": {
     "start_time": "2023-05-31T16:45:10.719772Z",
     "end_time": "2023-05-31T16:45:11.037294Z"
    }
   }
  },
  {
   "cell_type": "code",
   "execution_count": null,
   "outputs": [],
   "source": [
    "batch_size = 128\n",
    "\n",
    "train_loader = DataLoader(train, batch_size=batch_size, drop_last=True)\n",
    "test_loader = DataLoader(test, batch_size=batch_size, drop_last=True)"
   ],
   "metadata": {
    "collapsed": false,
    "ExecuteTime": {
     "start_time": "2023-05-31T16:45:11.668505Z",
     "end_time": "2023-05-31T16:45:11.760692Z"
    }
   }
  },
  {
   "cell_type": "code",
   "execution_count": null,
   "outputs": [],
   "source": [
    "x_batch, y_batch = next(iter(train_loader))\n",
    "x_batch.shape, y_batch.shape"
   ],
   "metadata": {
    "collapsed": false,
    "ExecuteTime": {
     "start_time": "2023-05-31T16:45:12.577780Z",
     "end_time": "2023-05-31T16:45:12.702487Z"
    }
   }
  },
  {
   "cell_type": "code",
   "execution_count": null,
   "outputs": [],
   "source": [
    "# Размер картинки: 28 x 28, итого 784 пикселей со значением 0 или 1\n",
    "features = 784\n",
    "\n",
    "# 10 цифр: 1, 2, ... 10\n",
    "classes = 10"
   ],
   "metadata": {
    "collapsed": false,
    "ExecuteTime": {
     "start_time": "2023-05-31T16:45:13.321189Z",
     "end_time": "2023-05-31T16:45:13.519166Z"
    }
   }
  },
  {
   "cell_type": "code",
   "execution_count": null,
   "outputs": [],
   "source": [
    "# Создаем вектор весов и заполняем его константными значениями\n",
    "W = torch.FloatTensor(features, classes).uniform_(-1, 1) / features**0.5\n",
    "W.requires_grad_()"
   ],
   "metadata": {
    "collapsed": false,
    "ExecuteTime": {
     "start_time": "2023-05-31T16:45:14.089859Z",
     "end_time": "2023-05-31T16:45:14.163827Z"
    }
   }
  },
  {
   "cell_type": "code",
   "execution_count": null,
   "outputs": [],
   "source": [
    "# 784 строки, соответствующих каждому пикселю и 10 колонок, заполненных весами для каждой цифры\n",
    "W.shape"
   ],
   "metadata": {
    "collapsed": false,
    "ExecuteTime": {
     "start_time": "2023-05-31T16:45:14.887332Z",
     "end_time": "2023-05-31T16:45:14.983098Z"
    }
   }
  },
  {
   "cell_type": "code",
   "execution_count": null,
   "outputs": [],
   "source": [
    "epochs = 5\n",
    "lr=1e-2\n",
    "history = []"
   ],
   "metadata": {
    "collapsed": false,
    "ExecuteTime": {
     "start_time": "2023-05-31T16:45:15.483633Z",
     "end_time": "2023-05-31T16:45:15.597596Z"
    }
   }
  },
  {
   "cell_type": "code",
   "execution_count": null,
   "outputs": [],
   "source": [
    "from tqdm import tqdm"
   ],
   "metadata": {
    "collapsed": false,
    "ExecuteTime": {
     "start_time": "2023-05-31T16:45:19.061443Z",
     "end_time": "2023-05-31T16:45:19.210653Z"
    }
   }
  },
  {
   "cell_type": "code",
   "execution_count": null,
   "outputs": [],
   "source": [
    "#КРОСС-ЭНТРОПИЯ ЗДЕСЬ БЕРЁТСЯ ОТ ЛОГИТОВ, А НЕ ОТ ВЕРОЯТНОСТЕЙ!"
   ],
   "metadata": {
    "collapsed": false,
    "ExecuteTime": {
     "start_time": "2023-05-31T16:45:19.417225Z",
     "end_time": "2023-05-31T16:45:19.690871Z"
    }
   }
  },
  {
   "cell_type": "code",
   "execution_count": null,
   "outputs": [],
   "source": [
    "len(train_loader)"
   ],
   "metadata": {
    "collapsed": false,
    "ExecuteTime": {
     "start_time": "2023-05-31T16:45:19.587935Z",
     "end_time": "2023-05-31T16:45:19.728034Z"
    }
   }
  },
  {
   "cell_type": "markdown",
   "source": [
    "### Реализуем простейшую нейронную сеть\n",
    "**АРХИТЕКТУРА СЕТИ**\n",
    "- один скрытый слой с 1 нейроном\n",
    "- функция активации: softmax\n",
    "- loss: cross entropy"
   ],
   "metadata": {
    "collapsed": false
   }
  },
  {
   "cell_type": "code",
   "execution_count": null,
   "outputs": [],
   "source": [
    "for i in tqdm(range(epochs)):\n",
    "  for x_batch, y_batch in train_loader:\n",
    "\n",
    "    # загружаем батч данных (вытянутый в линию)\n",
    "    x_batch = x_batch.reshape(x_batch.shape[0], -1)\n",
    "\n",
    "    # предскажем вероятности для каждого класса (цифры)\n",
    "    # найдем значения функции линейной регрессии, чтобы получить шансы, аналогично логистической регрессии\n",
    "    logits = x_batch @ W\n",
    "    # выполним логит преобразование шансов с помощью softmax, чтобы получить вероятности\n",
    "    probabilities = torch.exp(logits) / torch.exp(logits).sum(dim=1, keepdims=True)\n",
    "\n",
    "    # вычисляем функцию потерь (log loss, также известная как кросс-энтропия)\n",
    "    # probabilities[range(batch_size), y_batch]) выбираем вероятности для истинного класса\n",
    "    # например\n",
    "    # probabilities[range(batch_size)]: [[4.9001e-03, 1.4735e-08, 1.0494e-03, 5.5552e-07, 3.4151e-04, 1.0752e-02,\n",
    "    #  9.8295e-01, 1.3779e-06, 1.1725e-06, 4.3293e-06], ... ]\n",
    "    # y_batch: [1, 3]\n",
    "    # probabilities[range(batch_size), y_batch]: [[1.4735e-08, 5.5552e-07], ...]\n",
    "    loss = -torch.log(probabilities[range(batch_size), y_batch]).mean()\n",
    "    # сохраним полученные значения\n",
    "    history.append(loss.item())\n",
    "\n",
    "    # вычисляем градиенты\n",
    "    loss.backward()\n",
    "\n",
    "    # делаем шаг градиентного спуска\n",
    "    grad = W.grad\n",
    "    with torch.no_grad():\n",
    "      W -= lr * grad\n",
    "    # обнулим значения градиентов\n",
    "    W.grad.zero_()\n",
    "\n",
    "  print(f'{i+1},\\t loss: {history[-1]}')"
   ],
   "metadata": {
    "collapsed": false,
    "ExecuteTime": {
     "start_time": "2023-05-31T15:06:43.935323Z",
     "end_time": "2023-05-31T15:07:46.497144Z"
    }
   }
  },
  {
   "cell_type": "code",
   "execution_count": null,
   "outputs": [],
   "source": [
    "plt.figure(figsize=(10, 7))\n",
    "plt.plot(history)\n",
    "plt.title('Loss by batch iterations')\n",
    "plt.ylabel('Entropy Loss')\n",
    "plt.xlabel('batches')\n",
    "plt.show()"
   ],
   "metadata": {
    "collapsed": false,
    "ExecuteTime": {
     "start_time": "2023-05-31T15:07:52.098531Z",
     "end_time": "2023-05-31T15:07:52.403417Z"
    }
   }
  },
  {
   "cell_type": "code",
   "execution_count": null,
   "outputs": [],
   "source": [
    "# проверим точность предсказания на тестовой выборке\n",
    "acc = 0\n",
    "batches = 0\n",
    "\n",
    "for x_batch, y_batch in test_loader:\n",
    "    # загружаем батч данных (вытянутый в линию)\n",
    "    batches += 1\n",
    "    x_batch = x_batch.view(x_batch.shape[0], -1)\n",
    "    y_batch = y_batch\n",
    "\n",
    "    # Предскажем вероятность класса, использовав полученные веса\n",
    "    # и выбрав id класса с наибольшей вероятностью. Ниже пример argmax\n",
    "    # dim это аналог axis\n",
    "    preds = torch.argmax(x_batch @ W, dim=1)\n",
    "    # найдем точность\n",
    "    acc += (preds==y_batch).cpu().numpy().mean()\n",
    "\n",
    "print(f'Test accuracy {acc / batches:.3}')"
   ],
   "metadata": {
    "collapsed": false,
    "ExecuteTime": {
     "start_time": "2023-05-31T15:26:28.979218Z",
     "end_time": "2023-05-31T15:26:33.317792Z"
    }
   }
  },
  {
   "cell_type": "code",
   "execution_count": null,
   "outputs": [],
   "source": [
    "a = torch.randn(4, 4)\n",
    "a"
   ],
   "metadata": {
    "collapsed": false,
    "ExecuteTime": {
     "start_time": "2023-05-30T12:03:52.103532Z",
     "end_time": "2023-05-30T12:03:52.241088Z"
    }
   }
  },
  {
   "cell_type": "code",
   "execution_count": null,
   "outputs": [],
   "source": [
    "torch.argmax(a)"
   ],
   "metadata": {
    "collapsed": false,
    "ExecuteTime": {
     "start_time": "2023-05-30T12:03:53.749742Z",
     "end_time": "2023-05-30T12:03:53.851619Z"
    }
   }
  },
  {
   "cell_type": "markdown",
   "source": [
    "### Реализуем сеть из двух скрытых слоев\n",
    "**АРХИТЕКТУРА СЕТИ**\n",
    "- два скрытых слоя по 32 нейрона\n",
    "- функция активации первого слоя: relu\n",
    "- функция активации второго слоя: softmax\n",
    "- loss: cross entropy\n"
   ],
   "metadata": {
    "collapsed": false
   }
  },
  {
   "cell_type": "code",
   "execution_count": null,
   "outputs": [],
   "source": [
    "# full connected (fc)\n",
    "def two_layer_fc(x, weights):\n",
    "    x = x.reshape(x.shape[0], -1)\n",
    "    w1, w2 = weights\n",
    "\n",
    "    '''\n",
    "    Forward pass: вычисление предсказанного значения y с использованием операций\n",
    "    над тензорами. Поскольку у тензоров w1 и w2 параметр requires_grad=True,\n",
    "    операции, включающие эти тензоры, приведут к построению вычислительного графа\n",
    "    в PyTorch, что позволит автоматическое вычисление градиентов.\n",
    "\n",
    "    .clamp(min=0) аналог F.relu(x)\n",
    "    torch.exp(x)/torch.exp(x).sum() аналог F.softmax(x, dim=1)\n",
    "\n",
    "    Короткая запись:\n",
    "    y_pred = F.softmax(F.relu(x.mm(w1)).mm(w2), dim=1)\n",
    "\n",
    "    F.softmax() не требует преобразование логитов в вероятности\n",
    "\n",
    "    Чуть длиннее:\n",
    "    x1 = F.relu(x.mm(w1))\n",
    "    y_pred = F.softmax(x1.mm(w2), dim=1)\n",
    "    '''\n",
    "    # первый скрытый слой\n",
    "    # суммирующая функция\n",
    "    x1 = x @ w1\n",
    "    # функция активации relu\n",
    "    x1 = x1.clamp(min=0)\n",
    "\n",
    "    # второй скрытый слой\n",
    "    # суммирующая функция\n",
    "    y_pred = x1 @ w2\n",
    "    # функция активации softmax\n",
    "    y_pred = torch.exp(y_pred) / torch.exp(y_pred).sum(dim=1, keepdims=True)\n",
    "    return y_pred"
   ],
   "metadata": {
    "collapsed": false,
    "ExecuteTime": {
     "start_time": "2023-05-31T16:42:53.495141Z",
     "end_time": "2023-05-31T16:42:53.613278Z"
    }
   }
  },
  {
   "cell_type": "code",
   "execution_count": null,
   "outputs": [],
   "source": [
    "device = torch.device('cuda:0' if torch.cuda.is_available() else 'cpu')\n",
    "dtype = torch.float\n",
    "\n",
    "def check_accuracy(loader, model_fn, weights):\n",
    "\n",
    "    split = 'val' if loader.dataset.train else 'test'\n",
    "    print('Checking accuracy on the %s set' % split)\n",
    "    num_correct, num_samples = 0, 0\n",
    "\n",
    "    with torch.no_grad():\n",
    "        for x, y in loader:\n",
    "            # перенос тензора в память GPU/ CPU\n",
    "            x = x.to(device=device, dtype=dtype)\n",
    "            y = y.to(device=device, dtype=torch.int64)\n",
    "\n",
    "            scores = model_fn(x, weights)\n",
    "            _, preds = scores.max(1)\n",
    "            num_correct += (preds == y).sum()\n",
    "            num_samples += preds.size(0)\n",
    "\n",
    "        acc = float(num_correct) / num_samples\n",
    "        print('Got %d / %d correct (%.2f%%)' % (num_samples, num_correct, 100 * acc))\n",
    "        acc_hist.append(acc)\n",
    "    return acc_hist"
   ],
   "metadata": {
    "collapsed": false,
    "ExecuteTime": {
     "start_time": "2023-05-31T16:45:39.562114Z",
     "end_time": "2023-05-31T16:45:39.743851Z"
    }
   }
  },
  {
   "cell_type": "code",
   "execution_count": null,
   "outputs": [],
   "source": [
    "import torch.nn.functional as F"
   ],
   "metadata": {
    "collapsed": false
   }
  },
  {
   "cell_type": "code",
   "execution_count": null,
   "outputs": [],
   "source": [
    "def train(model_fn, params, lr):\n",
    "    for i in range(epochs):\n",
    "        print(f'======= Epoch №{i+1} =========')\n",
    "        for t, (x, y) in enumerate(train_loader):\n",
    "            # перенос тензора в память GPU/ CPU\n",
    "            x = x.to(device=device, dtype=dtype)\n",
    "            y = y.to(device=device, dtype=torch.long)\n",
    "\n",
    "            # Forward pass: считаем предикт и функцию потерь\n",
    "            y_pred = model_fn(x, params)\n",
    "            loss = -torch.log(y_pred[range(batch_size), y]).mean()\n",
    "            # можно так, но тогда softmax в последнем скрытом слое не нужен\n",
    "            # loss = F.cross_entropy(y_pred, y)\n",
    "            l_hist.append(loss.item())\n",
    "\n",
    "            '''\n",
    "            Backward pass: PyTorch определяет, какие тензоры в вычислительном графе\n",
    "            имеют параметр requires_grad=True и использует обратное распространение\n",
    "            (backpropagation) для вычисления градиента потери по отношению к этим\n",
    "            тензорам. Затем градиенты сохраняются в атрибуте .grad каждого тензора.\n",
    "            '''\n",
    "\n",
    "            loss.backward()\n",
    "\n",
    "            '''\n",
    "            Функция torch.no_grad() в PyTorch используется для временного\n",
    "            отключения вычисления и сохранения градиентов. Когда код находится\n",
    "            внутри блока torch.no_grad(), PyTorch не будет строить вычислительный\n",
    "            граф или сохранять градиенты для операций, выполняемых внутри блока.\n",
    "            Это полезно, например, при обновлении параметров модели, когда мы не\n",
    "            хотим, чтобы эти обновления влияли на градиенты и обратное\n",
    "            распространение. Таким образом, torch.no_grad() позволяет ускорить\n",
    "            вычисления и экономить память, особенно при инференсе или при\n",
    "            обновлении параметров без обратного распространения ошибки.\n",
    "            '''\n",
    "\n",
    "            with torch.no_grad():\n",
    "                for w in params:\n",
    "                    w -= lr * w.grad\n",
    "\n",
    "                    # Обнуляем значение градиентов\n",
    "                    w.grad.zero_()\n",
    "\n",
    "            if t % print_every == 0:\n",
    "                print('Iteration %d, loss = %.4f' % (t, loss.item()))\n",
    "                acc_hist = check_accuracy(test_loader, model_fn, params)\n",
    "                print()\n",
    "    return l_hist, acc_hist"
   ],
   "metadata": {
    "collapsed": false,
    "ExecuteTime": {
     "start_time": "2023-05-31T16:45:40.009970Z",
     "end_time": "2023-05-31T16:45:40.360253Z"
    }
   }
  },
  {
   "cell_type": "code",
   "execution_count": null,
   "outputs": [],
   "source": [
    "l_hist = []\n",
    "acc_hist = []\n",
    "features = 784\n",
    "classes = 10\n",
    "hidden = 32\n",
    "epochs = 5\n",
    "lr=1e-2\n",
    "print_every = 100"
   ],
   "metadata": {
    "collapsed": false,
    "ExecuteTime": {
     "start_time": "2023-05-31T16:45:41.016274Z",
     "end_time": "2023-05-31T16:45:41.132344Z"
    }
   }
  },
  {
   "cell_type": "code",
   "execution_count": null,
   "outputs": [],
   "source": [
    "w1 = torch.FloatTensor(features, hidden).uniform_(-1, 1) / features**0.5\n",
    "w1.requires_grad_()\n",
    "\n",
    "w2 = torch.FloatTensor(hidden, classes).uniform_(-1, 1) / features**0.5\n",
    "w2.requires_grad_()\n",
    "\n",
    "l_hist, acc_hist = train(two_layer_fc, [w1, w2], lr)"
   ],
   "metadata": {
    "collapsed": false,
    "ExecuteTime": {
     "start_time": "2023-05-31T16:45:42.121669Z",
     "end_time": "2023-05-31T16:47:53.357533Z"
    }
   }
  },
  {
   "cell_type": "code",
   "execution_count": null,
   "outputs": [],
   "source": [
    "plt.figure(figsize=(10, 7))\n",
    "plt.plot(l_hist)\n",
    "plt.title(f'Loss by batch iterations {round(l_hist[-1], 3)}')\n",
    "plt.ylabel('Entropy Loss')\n",
    "plt.xlabel('batches')\n",
    "plt.show()"
   ],
   "metadata": {
    "collapsed": false,
    "ExecuteTime": {
     "start_time": "2023-05-31T16:47:53.367589Z",
     "end_time": "2023-05-31T16:47:53.654511Z"
    }
   }
  },
  {
   "cell_type": "code",
   "execution_count": null,
   "outputs": [],
   "source": [
    "plt.figure(figsize=(10, 7))\n",
    "plt.plot(acc_hist)\n",
    "plt.title(f'Accuracy by batch iterations {round(acc_hist[-1], 3)}')\n",
    "plt.ylabel('Accuracy')\n",
    "plt.xlabel('batches')\n",
    "plt.show()"
   ],
   "metadata": {
    "collapsed": false,
    "ExecuteTime": {
     "start_time": "2023-05-31T16:47:53.659243Z",
     "end_time": "2023-05-31T16:47:53.943608Z"
    }
   }
  },
  {
   "cell_type": "markdown",
   "source": [
    "## Модель\n",
    "\n",
    "PyTorch - это гибкий фреймворк для построения любой нейронной сети.\n",
    "\n",
    "Вот таблица сравнения:\n",
    "\n",
    "```\n",
    "| API             | Flexibility | Convenience |,\n",
    "|-----------------|-------------|-------------|,\n",
    "| Barebone        | High        | Low         |,\n",
    "| `nn.Module`     | High        | Medium      |,\n",
    "| `nn.Sequential` | Low         | High        |\n",
    "```"
   ],
   "metadata": {
    "collapsed": false
   }
  },
  {
   "cell_type": "markdown",
   "source": [
    "1. barebone - это подход, при котором мы напрямую манипулируем тернсорами. В приведенном выше примере у нас была целевая функция, напрямую выраженная весами. Если мы реализумем этот метод с использованием классов, мы получим API такого уровня: **На этом уровне мы сами кодируем модули**\n",
    "\n",
    "2. [`nn.Module`] (https://pytorch.org/docs/stable/nn.html) - родительский класс для многих модулей, представленных PyTorch. Их много. Их достаточно, чтобы использовать их в готовом виде с необходимыми параметрами. В основном мы используем:\n",
    "\n",
    "- `nn.Linear`\n",
    "- `nn.Softmax`, `nn.LogSoftmax`\n",
    "- `nn.ReLU`, `nn.ELU`, `nn.LeakyReLU`\n",
    "- `nn.Tanh`, `nn.Sigmoid`\n",
    "- `nn.LSTM`, `nn.GRU`\n",
    "- `nn.Conv1d`, `nn.Conv2d`\n",
    "- `nn.MaxPool1d`, `nn.AdaptiveMaxPool1d` and others pooling\n",
    "- `nn.BatchNorm1d`, `nn.BatchNorm2d`\n",
    "- `nn.Dropout`\n",
    "- losses: `nn.CrossEntropyLoss`, `nn.NLLLoss`, `nn.MSELoss`\n",
    "- etc\n",
    "\n",
    "3. `nn.Sequential` - это не более чем последовательность различных модулей на основе` nn.Module`. Они инициируются списком модулей, где выходные данные одного модуля идут в качестве входных данных для следующего по порядку."
   ],
   "metadata": {
    "collapsed": false
   }
  },
  {
   "cell_type": "markdown",
   "source": [
    "### Примеры\n",
    "```\n",
    "class CustomNet(nn.Module):\n",
    "    def __init__(self):\n",
    "        super(CustomNet, self).__init__()\n",
    "        self.conv1 = nn.Conv2d(in_channels=3, out_channels=64, kernel_size=3)\n",
    "        self.relu = nn.ReLU()\n",
    "        self.fc = nn.Linear(in_features=64, out_features=10)\n",
    "\n",
    "    def forward(self, x):\n",
    "        x = self.conv1(x)\n",
    "        x = self.relu(x)\n",
    "        x = x.view(x.size(0), -1)\n",
    "        x = self.fc(x)\n",
    "        return x\n",
    "\n",
    "```\n",
    "\n",
    "```\n",
    "simple_net = nn.Sequential(\n",
    "    nn.Conv2d(in_channels=3, out_channels=64, kernel_size=3),\n",
    "    nn.ReLU(),\n",
    "    nn.Linear(in_features=64, out_features=10)\n",
    ")\n",
    "\n",
    "```\n",
    "\n",
    "Основная разница заключается в уровне гибкости и структуре. nn.Module предоставляет более гибкий способ определения архитектуры, что может быть полезным при создании сложных сетей с несколькими ветвями и пользовательскими операциями. С другой стороны, nn.Sequential упрощает создание простых последовательных архитектур, но может оказаться менее удобным, когда требуется более сложная структура."
   ],
   "metadata": {
    "collapsed": false
   }
  },
  {
   "cell_type": "markdown",
   "source": [
    "Давайте **разработаем простую последовательность** для классификацию MNIST с использованием **модели** двух линейных слоев и `nn.Sequential`."
   ],
   "metadata": {
    "collapsed": false
   }
  },
  {
   "cell_type": "code",
   "execution_count": null,
   "outputs": [],
   "source": [
    "import torch.nn as nn\n",
    "from torchsummary import summary"
   ],
   "metadata": {
    "collapsed": false,
    "ExecuteTime": {
     "start_time": "2023-05-31T16:30:55.877472Z",
     "end_time": "2023-05-31T16:30:55.981820Z"
    }
   }
  },
  {
   "cell_type": "code",
   "execution_count": null,
   "outputs": [],
   "source": [
    "# Linear(in_features, out_features, bias=True, device=None, dtype=None)\n",
    "model = nn.Sequential(\n",
    "    nn.Linear(features, hidden),\n",
    "    nn.ReLU(),\n",
    "    nn.Linear(hidden, classes)\n",
    "    # НЕ НУЖНЕН СОФТМАКС\n",
    ")\n",
    "\n",
    "# It is the same as:\n",
    "#\n",
    "# model = nn.Sequential()\n",
    "# model.add_module('0', nn.Linear(features, 64))\n",
    "# model.add_module('1', nn.Linear(64, classes))\n",
    "\n",
    "model.to(device)"
   ],
   "metadata": {
    "collapsed": false,
    "ExecuteTime": {
     "start_time": "2023-05-31T16:35:31.355266Z",
     "end_time": "2023-05-31T16:35:31.510072Z"
    }
   }
  },
  {
   "cell_type": "markdown",
   "source": [
    "Проверить, все ли в порядке со скрытыми слоями, можно с помощью torchsummary.summary. Форма входных данных необходима для визуализации модели."
   ],
   "metadata": {
    "collapsed": false
   }
  },
  {
   "cell_type": "code",
   "execution_count": null,
   "outputs": [],
   "source": [
    "summary(model, (features,), batch_size=256)"
   ],
   "metadata": {
    "collapsed": false,
    "ExecuteTime": {
     "start_time": "2023-05-31T16:35:37.874572Z",
     "end_time": "2023-05-31T16:35:37.940087Z"
    }
   }
  },
  {
   "cell_type": "markdown",
   "source": [
    "## Обучение\n",
    "\n",
    "Как известно, при решении проблемы важны следующие **3 вещи**:\n",
    "\n",
    "1. Модель\n",
    "2. Цель (функция потерь / loss)\n",
    "3. Оптимизация (для параметров модели)\n",
    "\n",
    "Хорошо, все, что мы должны делать при использовании PyTorch, - это** определить следующие 3 вещи**:\n",
    "\n",
    "1. Модель: из API `nn.Module`\n",
    "2. Функция потерь (loss): опять же, `nn.Module` или [` nn.functional`] (https://pytorch.org/docs/stable/nn.functional.html) API.\n",
    "3. Оптимизатор: основан на [`torch.optim.Optimizer`] (https://pytorch.org/docs/stable/optim.html).\n",
    "\n",
    "\n",
    "\n",
    "В предыдущих задачах, когда дело доходило до оптимизации параметров, мы использовали **явное решения или градиентный спуск**\n",
    "\n",
    "Конечно, есть множество улучшений градиентного спуска. Он может использовать **адаптивное значение шага**, **градиенты предыдущего шага** и другие. PyTorch также предоставляет несколько классов для оптимизации градиента. Они инициализируются с параметрами, которые они должны настроить для лучшего значения потерь, и во время спуска они делают шаг в методе спуска на основе градиента.\n",
    "\n",
    "Вот наиболее часто используемые оптимизаторы, на основе которых используется алгоритм спуска:\n",
    "\n",
    "- `torch.optim.Adam` использует как второй, так и первый импульс градиента, очень популярный благодаря своей скорости сходимости и простоте. [бумага] (https://arxiv.org/abs/1412.6980)\n",
    "\n",
    "- `torch.optim.SGD` - старый добрый стохастический градиентный спуск. Может использоваться с оптимизацией импульса Нестерова\n",
    "\n",
    "- `torch.optim.Adagrad` - [статья] (https://jmlr.org/papers/v12/duchi11a.html)\n",
    "\n",
    "- `torch.optim.RMSprop` - введено в [слайды] (https://www.cs.toronto.edu/~tijmen/csc321/slides/lecture_slides_lec6.pdf)\n"
   ],
   "metadata": {
    "collapsed": false
   }
  },
  {
   "cell_type": "markdown",
   "source": [
    "Сначала определим последние 2 вещи: критерий и оптимизатор."
   ],
   "metadata": {
    "collapsed": false
   }
  },
  {
   "cell_type": "code",
   "execution_count": null,
   "outputs": [],
   "source": [
    "# (logsoftmax + negative likelihood) в своей основе применительно к логитам (logits)\n",
    "criterion = nn.CrossEntropyLoss()\n",
    "\n",
    "optimizer = torch.optim.Adam(model.parameters(), lr=1e-3, betas=(0.9, 0.99))"
   ],
   "metadata": {
    "collapsed": false,
    "ExecuteTime": {
     "start_time": "2023-05-31T16:35:42.236185Z",
     "end_time": "2023-05-31T16:35:42.381746Z"
    }
   }
  },
  {
   "cell_type": "markdown",
   "source": [
    "Наконец, мы переходим в циклу обучения!\n",
    "Ранее мы итерировались по эпохам и батчам (batch) (это называется обучающим циклом). Итак, давайте повторим это здесь"
   ],
   "metadata": {
    "collapsed": false
   }
  },
  {
   "cell_type": "code",
   "execution_count": null,
   "outputs": [],
   "source": [
    "epochs = 5\n",
    "history = []"
   ],
   "metadata": {
    "collapsed": false,
    "ExecuteTime": {
     "start_time": "2023-05-31T16:35:45.870516Z",
     "end_time": "2023-05-31T16:35:45.961712Z"
    }
   }
  },
  {
   "cell_type": "code",
   "execution_count": null,
   "outputs": [],
   "source": [
    "for i in tqdm(range(epochs)):\n",
    "    for x_batch, y_batch in train_loader:\n",
    "        # 1. загружаем батч данных (вытянутый в линию)\n",
    "        x_batch = x_batch.view(x_batch.shape[0], -1).to(device)\n",
    "        y_batch = y_batch.to(device)\n",
    "\n",
    "        # 2. вычисляем скор с помощью прямого распространения ( .forward or .__call__ )\n",
    "        y_pred = model(x_batch)\n",
    "\n",
    "        # 3. вычисляем функцию потерь (loss)\n",
    "        loss = criterion(y_pred, y_batch)\n",
    "        history.append(loss.item())\n",
    "\n",
    "        # 4. вычисляем градиенты\n",
    "        optimizer.zero_grad()\n",
    "        loss.backward()\n",
    "\n",
    "        # 5. шаг градиентного спуска\n",
    "        optimizer.step()\n",
    "\n",
    "print(f'{i+1},\\t loss: {history[-1]}')"
   ],
   "metadata": {
    "collapsed": false,
    "ExecuteTime": {
     "start_time": "2023-05-31T16:35:48.451925Z",
     "end_time": "2023-05-31T16:36:51.714244Z"
    }
   }
  },
  {
   "cell_type": "code",
   "execution_count": null,
   "outputs": [],
   "source": [
    "plt.figure(figsize=(10, 7))\n",
    "plt.plot(history)\n",
    "plt.title('Loss by batch iterations')\n",
    "plt.ylabel('Entropy Loss')\n",
    "plt.xlabel('batches')\n",
    "plt.show()"
   ],
   "metadata": {
    "collapsed": false,
    "ExecuteTime": {
     "start_time": "2023-05-31T16:37:01.589291Z",
     "end_time": "2023-05-31T16:37:01.834039Z"
    }
   }
  },
  {
   "cell_type": "code",
   "execution_count": null,
   "outputs": [],
   "source": [
    "acc = 0\n",
    "batches = 0\n",
    "\n",
    "for x_batch, y_batch in test_loader:\n",
    "    # загружаем батч данных (вытянутый в линию)\n",
    "    batches += 1\n",
    "    x_batch = x_batch.view(x_batch.shape[0], -1).to(device)\n",
    "    y_batch = y_batch.to(device)\n",
    "\n",
    "    preds = torch.argmax(model(x_batch), dim=1)\n",
    "    acc += (preds==y_batch).cpu().numpy().mean()\n",
    "\n",
    "print(f'Test accuracy {acc / batches:.3}')"
   ],
   "metadata": {
    "collapsed": false,
    "ExecuteTime": {
     "start_time": "2023-05-31T16:38:03.478452Z",
     "end_time": "2023-05-31T16:38:06.799813Z"
    }
   }
  },
  {
   "cell_type": "markdown",
   "source": [
    "## Резюмируем!\n",
    "\n",
    "Мы построили и обучили простейшую нейронную сеть. Это было сделано путем определения:\n",
    "\n",
    "1. `Модели`\n",
    "2. \"Критерия (Лосса)\"\n",
    "1. `Оптимизатора`\n",
    "\n",
    "Запомните эти шаги, необходимые во время обучения одного батча данных:\n",
    "\n",
    "1. загрузить батч\n",
    "2. выполнить прямой проход модели (получить «логиты» / выходы модели)\n",
    "3. рассчитать `loss` (используя критерий и «логиты» и истинные метки партии)\n",
    "4. выполнить `loss.backward ()` (вычислить градиенты функции потери относительно параметров модели)\n",
    "5. выполнить шаг оптимизации (`optimizer.step ()`)\n",
    "* обнуляйте градиенты (производите в любой момент, но не между шагами 4 и 5)\n",
    "* проверка (валидация) (после каждой эпохи)\n",
    "\n"
   ],
   "metadata": {
    "collapsed": false
   }
  },
  {
   "cell_type": "markdown",
   "source": [
    "Использованные материалы:\n",
    "\n",
    "<a href='https://github.com/DLSchool/deep-learning-school/blob/fall_2021_part1/08_Neural_networks_basics_Pytorch/%5Bseminar%5Dpytorch_simple_NN.ipynb'>seminar_pytorch_simple_NN</a>\n",
    "\n",
    "<a href='https://github.com/DLSchool/deep-learning-school/blob/fall_2021_part1/08_Neural_networks_basics_Pytorch/%5Bseminar%5Dpytorch_basics.ipynb'>seminar_pytorch_basics</a>\n",
    "\n",
    "<a href='https://github.com/haofeixu/cs231n/blob/master/assignment2/PyTorch.ipynb'>!!! Barebones PyTorch: Two-Layer Network</a>\n",
    "\n",
    "<a href='https://colab.research.google.com/github/adf-telkomuniv/CV2020_Exercises/blob/main/CV2020%20-%2011%20-%20PyTorch.ipynb'>CV2020 - 11 - PyTorch</a>"
   ],
   "metadata": {
    "collapsed": false
   }
  },
  {
   "cell_type": "code",
   "execution_count": null,
   "outputs": [],
   "source": [],
   "metadata": {
    "collapsed": false
   }
  }
 ],
 "metadata": {
  "kernelspec": {
   "display_name": "Python 3",
   "language": "python",
   "name": "python3"
  },
  "language_info": {
   "codemirror_mode": {
    "name": "ipython",
    "version": 2
   },
   "file_extension": ".py",
   "mimetype": "text/x-python",
   "name": "python",
   "nbconvert_exporter": "python",
   "pygments_lexer": "ipython2",
   "version": "2.7.6"
  }
 },
 "nbformat": 4,
 "nbformat_minor": 0
}
