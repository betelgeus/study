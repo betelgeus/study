{
 "cells": [
  {
   "cell_type": "code",
   "execution_count": 323,
   "metadata": {
    "collapsed": true,
    "ExecuteTime": {
     "start_time": "2023-08-16T16:59:48.241943Z",
     "end_time": "2023-08-16T16:59:48.270694Z"
    }
   },
   "outputs": [],
   "source": [
    "import torch\n",
    "import numpy as np\n",
    "import matplotlib.pyplot as plt\n",
    "from IPython.display import clear_output\n",
    "# %matplotlib inline\n",
    "\n",
    "from sklearn.datasets import load_boston"
   ]
  },
  {
   "cell_type": "code",
   "execution_count": 324,
   "outputs": [],
   "source": [
    "boston = load_boston()"
   ],
   "metadata": {
    "collapsed": false,
    "ExecuteTime": {
     "start_time": "2023-08-16T16:59:52.301263Z",
     "end_time": "2023-08-16T16:59:52.353672Z"
    }
   }
  },
  {
   "cell_type": "markdown",
   "source": [
    "## Задание. Реализация функции forward\n",
    "Реализуйте функцию `forward_pass(X, w)` для одного нейрона нейронной сети с активацией ``sigmoid``. Используйте библиотеку PyTorch\n",
    "\n",
    "<img src='https://radioprog.ru/uploads/media/articles/0001/05/267ad35a9e64a7b92c2e3b94940f686816ea6bf8.jpeg'>"
   ],
   "metadata": {
    "collapsed": false
   }
  },
  {
   "cell_type": "code",
   "execution_count": 26,
   "outputs": [
    {
     "data": {
      "text/plain": "tensor([[-1.4821, -0.2048, -1.6399, -0.1251, -0.9498],\n        [ 0.9181, -0.4202,  0.0055,  0.2213, -0.4224],\n        [-1.3917,  0.3433,  0.5768, -0.9773,  0.5585],\n        [ 0.8618,  0.9989, -0.2410, -0.5178,  0.0080],\n        [ 1.0398,  0.5916,  0.1824,  0.1117, -0.4617],\n        [-1.0756, -1.2728,  1.7267, -0.1553,  1.6680],\n        [ 0.1277,  0.2221, -0.7187,  0.6119, -0.0464],\n        [ 1.3708, -0.1892, -1.3305,  0.5563, -0.4192],\n        [ 0.2003, -2.6567, -0.5676,  0.0163, -0.6296],\n        [ 0.3757,  0.6775, -1.4609,  0.2220,  0.1984]])"
     },
     "execution_count": 26,
     "metadata": {},
     "output_type": "execute_result"
    }
   ],
   "source": [
    "X = torch.randn(10, 5)\n",
    "X"
   ],
   "metadata": {
    "collapsed": false,
    "ExecuteTime": {
     "start_time": "2023-08-16T13:29:06.299431Z",
     "end_time": "2023-08-16T13:29:06.326021Z"
    }
   }
  },
  {
   "cell_type": "code",
   "execution_count": 27,
   "outputs": [
    {
     "data": {
      "text/plain": "tensor([[ 0.5547],\n        [ 0.0178],\n        [ 1.3815],\n        [-1.7969],\n        [ 0.5252]])"
     },
     "execution_count": 27,
     "metadata": {},
     "output_type": "execute_result"
    }
   ],
   "source": [
    "w = torch.randn(5, 1)\n",
    "w"
   ],
   "metadata": {
    "collapsed": false,
    "ExecuteTime": {
     "start_time": "2023-08-16T13:29:16.495362Z",
     "end_time": "2023-08-16T13:29:16.519450Z"
    }
   }
  },
  {
   "cell_type": "code",
   "execution_count": 31,
   "outputs": [],
   "source": [
    "def forward_pass(X, w):\n",
    "    logit = X @ w\n",
    "    y = torch.sigmoid(logit)\n",
    "    return y"
   ],
   "metadata": {
    "collapsed": false,
    "ExecuteTime": {
     "start_time": "2023-08-16T13:30:27.153965Z",
     "end_time": "2023-08-16T13:30:27.182427Z"
    }
   }
  },
  {
   "cell_type": "code",
   "execution_count": 32,
   "outputs": [
    {
     "data": {
      "text/plain": "tensor([[0.0334],\n        [0.4725],\n        [0.8890],\n        [0.7498],\n        [0.5978],\n        [0.9489],\n        [0.1149],\n        [0.0911],\n        [0.2535],\n        [0.1098]])"
     },
     "execution_count": 32,
     "metadata": {},
     "output_type": "execute_result"
    }
   ],
   "source": [
    "forward_pass(X, w)"
   ],
   "metadata": {
    "collapsed": false,
    "ExecuteTime": {
     "start_time": "2023-08-16T13:30:27.750854Z",
     "end_time": "2023-08-16T13:30:27.777967Z"
    }
   }
  },
  {
   "cell_type": "markdown",
   "source": [
    "## Задание. Реализуйте обучение в линейной регрессии\n",
    "Разберем пример: применим линейную регрессию цен на жилье в Бостоне."
   ],
   "metadata": {
    "collapsed": false
   }
  },
  {
   "cell_type": "code",
   "execution_count": 43,
   "outputs": [
    {
     "data": {
      "text/plain": "array([[6.3200e-03, 1.8000e+01, 2.3100e+00, 0.0000e+00, 5.3800e-01,\n        6.5750e+00, 6.5200e+01, 4.0900e+00, 1.0000e+00, 2.9600e+02,\n        1.5300e+01, 3.9690e+02, 4.9800e+00],\n       [2.7310e-02, 0.0000e+00, 7.0700e+00, 0.0000e+00, 4.6900e-01,\n        6.4210e+00, 7.8900e+01, 4.9671e+00, 2.0000e+00, 2.4200e+02,\n        1.7800e+01, 3.9690e+02, 9.1400e+00],\n       [2.7290e-02, 0.0000e+00, 7.0700e+00, 0.0000e+00, 4.6900e-01,\n        7.1850e+00, 6.1100e+01, 4.9671e+00, 2.0000e+00, 2.4200e+02,\n        1.7800e+01, 3.9283e+02, 4.0300e+00],\n       [3.2370e-02, 0.0000e+00, 2.1800e+00, 0.0000e+00, 4.5800e-01,\n        6.9980e+00, 4.5800e+01, 6.0622e+00, 3.0000e+00, 2.2200e+02,\n        1.8700e+01, 3.9463e+02, 2.9400e+00],\n       [6.9050e-02, 0.0000e+00, 2.1800e+00, 0.0000e+00, 4.5800e-01,\n        7.1470e+00, 5.4200e+01, 6.0622e+00, 3.0000e+00, 2.2200e+02,\n        1.8700e+01, 3.9690e+02, 5.3300e+00]])"
     },
     "execution_count": 43,
     "metadata": {},
     "output_type": "execute_result"
    }
   ],
   "source": [
    "boston.data[:5, ]"
   ],
   "metadata": {
    "collapsed": false,
    "ExecuteTime": {
     "start_time": "2023-08-16T14:27:57.309320Z",
     "end_time": "2023-08-16T14:27:57.334888Z"
    }
   }
  },
  {
   "cell_type": "code",
   "execution_count": 36,
   "outputs": [
    {
     "data": {
      "text/plain": "<matplotlib.collections.PathCollection at 0x14e067220>"
     },
     "execution_count": 36,
     "metadata": {},
     "output_type": "execute_result"
    },
    {
     "data": {
      "text/plain": "<Figure size 640x480 with 1 Axes>",
      "image/png": "[encoded data removed]"
     },
     "metadata": {},
     "output_type": "display_data"
    }
   ],
   "source": [
    "plt.scatter(boston.data[:, -1], boston.target)"
   ],
   "metadata": {
    "collapsed": false,
    "ExecuteTime": {
     "start_time": "2023-08-16T14:26:24.544087Z",
     "end_time": "2023-08-16T14:26:24.728238Z"
    }
   }
  },
  {
   "cell_type": "markdown",
   "source": [
    "#### Реализация без PyTorch"
   ],
   "metadata": {
    "collapsed": false
   }
  },
  {
   "cell_type": "code",
   "execution_count": 294,
   "outputs": [],
   "source": [
    "w = np.ones((14, 1))\n",
    "X = boston.data\n",
    "y = boston.target"
   ],
   "metadata": {
    "collapsed": false,
    "ExecuteTime": {
     "start_time": "2023-08-16T16:51:23.770796Z",
     "end_time": "2023-08-16T16:51:23.831921Z"
    }
   }
  },
  {
   "cell_type": "code",
   "execution_count": 295,
   "outputs": [],
   "source": [
    "X = (X - X.mean(axis=0)) / X.std(axis=0)\n",
    "X = np.hstack((np.ones((X.shape[0], 1)), X))\n",
    "y = y.reshape(y.shape[0], 1)"
   ],
   "metadata": {
    "collapsed": false,
    "ExecuteTime": {
     "start_time": "2023-08-16T16:51:24.044718Z",
     "end_time": "2023-08-16T16:51:24.103973Z"
    }
   }
  },
  {
   "cell_type": "code",
   "execution_count": 296,
   "outputs": [
    {
     "name": "stdout",
     "output_type": "stream",
     "text": [
      "(506, 14)\n",
      "(14, 1)\n",
      "(506, 1)\n"
     ]
    }
   ],
   "source": [
    "print(X.shape)\n",
    "print(w.shape)\n",
    "print(y.shape)"
   ],
   "metadata": {
    "collapsed": false,
    "ExecuteTime": {
     "start_time": "2023-08-16T16:51:24.248534Z",
     "end_time": "2023-08-16T16:51:24.331462Z"
    }
   }
  },
  {
   "cell_type": "code",
   "execution_count": 297,
   "outputs": [],
   "source": [
    "eta = 1.e-2"
   ],
   "metadata": {
    "collapsed": false,
    "ExecuteTime": {
     "start_time": "2023-08-16T16:51:25.374406Z",
     "end_time": "2023-08-16T16:51:25.427054Z"
    }
   }
  },
  {
   "cell_type": "code",
   "execution_count": 298,
   "outputs": [
    {
     "name": "stdout",
     "output_type": "stream",
     "text": [
      "mse:  23.06619294549287\n"
     ]
    },
    {
     "data": {
      "text/plain": "<Figure size 640x480 with 1 Axes>",
      "image/png": "[encoded data removed]"
     },
     "metadata": {},
     "output_type": "display_data"
    }
   ],
   "source": [
    "def linear_gradient_descent(X, y, w, eta=0.1, max_iter=10):\n",
    "    mse_hist = []\n",
    "    for _ in range(max_iter):\n",
    "        # предскажем значение целевой переменной\n",
    "        y_pred = np.dot(X, w)\n",
    "        # найдем значение функции потерь\n",
    "        mse = np.mean((y - y_pred)**2)\n",
    "        mse_hist.append(mse)\n",
    "        # найдем градиент\n",
    "        delta_w =  np.dot(X.T, (np.dot(X, w)-y)) / len(X)\n",
    "        # обновим значения весов\n",
    "        w -= eta * delta_w\n",
    "    return y_pred, mse_hist\n",
    "\n",
    "# зададим константные значения весов\n",
    "y_pred, mse_hist = linear_gradient_descent(X, y, w, eta, max_iter=500)\n",
    "print('mse: ', mse_hist[-1])\n",
    "plt.plot(mse_hist)\n",
    "plt.show()"
   ],
   "metadata": {
    "collapsed": false,
    "ExecuteTime": {
     "start_time": "2023-08-16T16:51:26.233989Z",
     "end_time": "2023-08-16T16:51:26.418984Z"
    }
   }
  },
  {
   "cell_type": "code",
   "execution_count": 299,
   "outputs": [
    {
     "data": {
      "text/plain": "<Figure size 640x480 with 1 Axes>",
      "image/png": "[encoded data removed]"
     },
     "metadata": {},
     "output_type": "display_data"
    }
   ],
   "source": [
    "plt.scatter(X[:, -1], y)\n",
    "plt.scatter(X[:, -1], y_pred, color='orange', linewidth=1)\n",
    "plt.show()"
   ],
   "metadata": {
    "collapsed": false,
    "ExecuteTime": {
     "start_time": "2023-08-16T16:51:28.837598Z",
     "end_time": "2023-08-16T16:51:29.007681Z"
    }
   }
  },
  {
   "cell_type": "code",
   "execution_count": null,
   "outputs": [],
   "source": [],
   "metadata": {
    "collapsed": false
   }
  },
  {
   "cell_type": "markdown",
   "source": [
    "#### Реализация на PyTorch"
   ],
   "metadata": {
    "collapsed": false
   }
  },
  {
   "cell_type": "code",
   "execution_count": 387,
   "outputs": [],
   "source": [
    "w = torch.zeros((14,1), requires_grad=True)\n",
    "X = torch.tensor(boston.data[:], dtype=torch.float32)\n",
    "y = torch.tensor(boston.target, dtype=torch.float32)\n",
    "y = y.unsqueeze(1)"
   ],
   "metadata": {
    "collapsed": false,
    "ExecuteTime": {
     "start_time": "2023-08-16T17:14:31.497162Z",
     "end_time": "2023-08-16T17:14:31.538506Z"
    }
   }
  },
  {
   "cell_type": "code",
   "execution_count": 388,
   "outputs": [],
   "source": [
    "X = (X - X.mean(axis=0)) / X.std(axis=0)"
   ],
   "metadata": {
    "collapsed": false,
    "ExecuteTime": {
     "start_time": "2023-08-16T17:14:31.850172Z",
     "end_time": "2023-08-16T17:14:31.902573Z"
    }
   }
  },
  {
   "cell_type": "code",
   "execution_count": 389,
   "outputs": [],
   "source": [
    "X = torch.concatenate((torch.ones((X.shape[0], 1)),X), dim=1)"
   ],
   "metadata": {
    "collapsed": false,
    "ExecuteTime": {
     "start_time": "2023-08-16T17:14:32.329819Z",
     "end_time": "2023-08-16T17:14:32.370063Z"
    }
   }
  },
  {
   "cell_type": "code",
   "execution_count": 390,
   "outputs": [
    {
     "name": "stdout",
     "output_type": "stream",
     "text": [
      "torch.Size([506, 14])\n",
      "torch.Size([14, 1])\n",
      "torch.Size([506, 1])\n"
     ]
    }
   ],
   "source": [
    "print(X.shape)\n",
    "print(w.shape)\n",
    "print(y.shape)"
   ],
   "metadata": {
    "collapsed": false,
    "ExecuteTime": {
     "start_time": "2023-08-16T17:14:32.988688Z",
     "end_time": "2023-08-16T17:14:33.036203Z"
    }
   }
  },
  {
   "cell_type": "code",
   "execution_count": 391,
   "outputs": [],
   "source": [
    "y_pred = X @ w\n",
    "loss = torch.mean((y_pred - y)**2)\n",
    "\n",
    "# propagete gradients\n",
    "loss.backward()"
   ],
   "metadata": {
    "collapsed": false,
    "ExecuteTime": {
     "start_time": "2023-08-16T17:14:33.763308Z",
     "end_time": "2023-08-16T17:14:33.811921Z"
    }
   }
  },
  {
   "cell_type": "code",
   "execution_count": 392,
   "outputs": [
    {
     "name": "stdout",
     "output_type": "stream",
     "text": [
      "dL/dw = \n",
      " tensor([[-45.0656],\n",
      "        [  7.1284],\n",
      "        [ -6.6170],\n",
      "        [  8.8802],\n",
      "        [ -3.2174],\n",
      "        [  7.8447],\n",
      "        [-12.7653],\n",
      "        [  6.9201],\n",
      "        [ -4.5882],\n",
      "        [  7.0058],\n",
      "        [  8.6013],\n",
      "        [  9.3219],\n",
      "        [ -6.1216],\n",
      "        [ 13.5419]])\n"
     ]
    }
   ],
   "source": [
    "print(\"dL/dw = \\n\", w.grad)"
   ],
   "metadata": {
    "collapsed": false,
    "ExecuteTime": {
     "start_time": "2023-08-16T17:14:34.888906Z",
     "end_time": "2023-08-16T17:14:34.924691Z"
    }
   }
  },
  {
   "cell_type": "code",
   "execution_count": 393,
   "outputs": [],
   "source": [
    "eta = 1.e-1"
   ],
   "metadata": {
    "collapsed": false,
    "ExecuteTime": {
     "start_time": "2023-08-16T17:14:36.124492Z",
     "end_time": "2023-08-16T17:14:36.169709Z"
    }
   }
  },
  {
   "cell_type": "code",
   "execution_count": 394,
   "outputs": [
    {
     "data": {
      "text/plain": "<Figure size 640x480 with 1 Axes>",
      "image/png": "[encoded data removed]"
     },
     "metadata": {},
     "output_type": "display_data"
    },
    {
     "name": "stdout",
     "output_type": "stream",
     "text": [
      "loss =  21.898539\n"
     ]
    }
   ],
   "source": [
    "for i in range(250):\n",
    "    if i > 200:\n",
    "        eta = 1.e-2\n",
    "\n",
    "    y_pred = X @ w\n",
    "\n",
    "    # Вычисляем функцию ошибок\n",
    "    loss = torch.mean((y_pred - y)**2)\n",
    "\n",
    "    # Вычисляем градиенты\n",
    "    loss.backward()\n",
    "\n",
    "    # Делаем шаг градиентного спуска по матрице весов\n",
    "    w.data -= eta*w.grad.data\n",
    "\n",
    "    # обнуляем градиенты\n",
    "    w.grad.data.zero_()\n",
    "\n",
    "    clear_output(True)\n",
    "    plt.scatter(X[:, -1].data.numpy(), y.data.numpy())\n",
    "    plt.scatter(X[:, -1].data.numpy(), y_pred.data.numpy(),\n",
    "                color='orange', linewidth=5)\n",
    "    plt.show()\n",
    "\n",
    "    print(\"loss = \", loss.data.numpy())\n",
    "    if loss.data.numpy() < 0.5:\n",
    "        print(\"Done!\")\n",
    "        break"
   ],
   "metadata": {
    "collapsed": false,
    "ExecuteTime": {
     "start_time": "2023-08-16T17:14:36.848668Z",
     "end_time": "2023-08-16T17:15:20.537380Z"
    }
   }
  },
  {
   "cell_type": "markdown",
   "source": [
    "## Простейшая нейронная сеть"
   ],
   "metadata": {
    "collapsed": false
   }
  },
  {
   "cell_type": "markdown",
   "source": [
    "#### Загрузим данные"
   ],
   "metadata": {
    "collapsed": false
   }
  },
  {
   "cell_type": "code",
   "execution_count": 420,
   "outputs": [],
   "source": [
    "from torchvision.datasets import MNIST\n",
    "import torchvision.transforms as T"
   ],
   "metadata": {
    "collapsed": false,
    "ExecuteTime": {
     "start_time": "2023-08-21T12:07:36.215334Z",
     "end_time": "2023-08-21T12:07:36.241733Z"
    }
   }
  },
  {
   "cell_type": "code",
   "execution_count": 422,
   "outputs": [],
   "source": [
    "data_transforms = T.Compose([\n",
    "  T.ToTensor(),\n",
    "  T.Normalize((0.5), (0.5))\n",
    "])"
   ],
   "metadata": {
    "collapsed": false,
    "ExecuteTime": {
     "start_time": "2023-08-21T12:10:37.976706Z",
     "end_time": "2023-08-21T12:10:38.005508Z"
    }
   }
  },
  {
   "cell_type": "code",
   "execution_count": 423,
   "outputs": [
    {
     "name": "stdout",
     "output_type": "stream",
     "text": [
      "Downloading http://yann.lecun.com/exdb/mnist/train-images-idx3-ubyte.gz\n",
      "Downloading http://yann.lecun.com/exdb/mnist/train-images-idx3-ubyte.gz to ./MNIST/raw/train-images-idx3-ubyte.gz\n"
     ]
    },
    {
     "name": "stderr",
     "output_type": "stream",
     "text": [
      "100%|██████████| 9912422/9912422 [00:01<00:00, 7834159.34it/s] \n"
     ]
    },
    {
     "name": "stdout",
     "output_type": "stream",
     "text": [
      "Extracting ./MNIST/raw/train-images-idx3-ubyte.gz to ./MNIST/raw\n",
      "\n",
      "Downloading http://yann.lecun.com/exdb/mnist/train-labels-idx1-ubyte.gz\n",
      "Downloading http://yann.lecun.com/exdb/mnist/train-labels-idx1-ubyte.gz to ./MNIST/raw/train-labels-idx1-ubyte.gz\n"
     ]
    },
    {
     "name": "stderr",
     "output_type": "stream",
     "text": [
      "100%|██████████| 28881/28881 [00:00<00:00, 25496883.57it/s]\n"
     ]
    },
    {
     "name": "stdout",
     "output_type": "stream",
     "text": [
      "Extracting ./MNIST/raw/train-labels-idx1-ubyte.gz to ./MNIST/raw\n",
      "\n",
      "Downloading http://yann.lecun.com/exdb/mnist/t10k-images-idx3-ubyte.gz\n",
      "Downloading http://yann.lecun.com/exdb/mnist/t10k-images-idx3-ubyte.gz to ./MNIST/raw/t10k-images-idx3-ubyte.gz\n"
     ]
    },
    {
     "name": "stderr",
     "output_type": "stream",
     "text": [
      "100%|██████████| 1648877/1648877 [00:00<00:00, 7139537.41it/s]\n"
     ]
    },
    {
     "name": "stdout",
     "output_type": "stream",
     "text": [
      "Extracting ./MNIST/raw/t10k-images-idx3-ubyte.gz to ./MNIST/raw\n",
      "\n",
      "Downloading http://yann.lecun.com/exdb/mnist/t10k-labels-idx1-ubyte.gz\n",
      "Downloading http://yann.lecun.com/exdb/mnist/t10k-labels-idx1-ubyte.gz to ./MNIST/raw/t10k-labels-idx1-ubyte.gz\n"
     ]
    },
    {
     "name": "stderr",
     "output_type": "stream",
     "text": [
      "100%|██████████| 4542/4542 [00:00<00:00, 7608038.65it/s]"
     ]
    },
    {
     "name": "stdout",
     "output_type": "stream",
     "text": [
      "Extracting ./MNIST/raw/t10k-labels-idx1-ubyte.gz to ./MNIST/raw\n",
      "\n"
     ]
    },
    {
     "name": "stderr",
     "output_type": "stream",
     "text": [
      "\n"
     ]
    }
   ],
   "source": [
    "root = './'\n",
    "train = MNIST(root, train=True,  transform=data_transforms, download=True)\n",
    "test  = MNIST(root, train=False, transform=data_transforms, download=True)"
   ],
   "metadata": {
    "collapsed": false,
    "ExecuteTime": {
     "start_time": "2023-08-21T12:10:38.770997Z",
     "end_time": "2023-08-21T12:10:41.987767Z"
    }
   }
  },
  {
   "cell_type": "code",
   "execution_count": 424,
   "outputs": [
    {
     "name": "stdout",
     "output_type": "stream",
     "text": [
      "Data size:\n",
      "\t train 60000,\n",
      "\t test 10000\n",
      "Data shape:\n",
      "\t features torch.Size([1, 28, 28]),\n",
      "\t target <class 'int'>\n"
     ]
    }
   ],
   "source": [
    "print(f'Data size:\\n\\t train {len(train)},\\n\\t test {len(test)}')\n",
    "print(f'Data shape:\\n\\t features {train[0][0].shape},\\n\\t target {type(test[0][1])}')"
   ],
   "metadata": {
    "collapsed": false,
    "ExecuteTime": {
     "start_time": "2023-08-21T12:11:13.404644Z",
     "end_time": "2023-08-21T12:11:13.530333Z"
    }
   }
  },
  {
   "cell_type": "markdown",
   "source": [
    "#### Реализуем Dataloader"
   ],
   "metadata": {
    "collapsed": false
   }
  },
  {
   "cell_type": "code",
   "execution_count": 438,
   "outputs": [],
   "source": [
    "from torch.utils.data import DataLoader\n",
    "from tqdm import tqdm"
   ],
   "metadata": {
    "collapsed": false,
    "ExecuteTime": {
     "start_time": "2023-08-21T12:16:24.312461Z",
     "end_time": "2023-08-21T12:16:24.358052Z"
    }
   }
  },
  {
   "cell_type": "code",
   "execution_count": 442,
   "outputs": [],
   "source": [
    "batch_size = 128\n",
    "\n",
    "train_loader = DataLoader(train, batch_size=batch_size, drop_last=True)\n",
    "test_loader = DataLoader(test, batch_size=batch_size, drop_last=True)"
   ],
   "metadata": {
    "collapsed": false,
    "ExecuteTime": {
     "start_time": "2023-08-21T12:21:02.316416Z",
     "end_time": "2023-08-21T12:21:02.348527Z"
    }
   }
  },
  {
   "cell_type": "code",
   "execution_count": 443,
   "outputs": [
    {
     "data": {
      "text/plain": "468"
     },
     "execution_count": 443,
     "metadata": {},
     "output_type": "execute_result"
    }
   ],
   "source": [
    "# количество батчей\n",
    "len(train_loader)"
   ],
   "metadata": {
    "collapsed": false,
    "ExecuteTime": {
     "start_time": "2023-08-21T12:21:16.291435Z",
     "end_time": "2023-08-21T12:21:16.323441Z"
    }
   }
  },
  {
   "cell_type": "code",
   "execution_count": 427,
   "outputs": [
    {
     "data": {
      "text/plain": "(torch.Size([128, 1, 28, 28]), torch.Size([128]))"
     },
     "execution_count": 427,
     "metadata": {},
     "output_type": "execute_result"
    }
   ],
   "source": [
    "x_batch, y_batch = next(iter(train_loader))\n",
    "x_batch.shape, y_batch.shape"
   ],
   "metadata": {
    "collapsed": false,
    "ExecuteTime": {
     "start_time": "2023-08-21T12:11:57.859970Z",
     "end_time": "2023-08-21T12:11:57.955029Z"
    }
   }
  },
  {
   "cell_type": "markdown",
   "source": [
    "#### Зададим параметры сети"
   ],
   "metadata": {
    "collapsed": false
   }
  },
  {
   "cell_type": "code",
   "execution_count": 447,
   "outputs": [],
   "source": [
    "# Размер картинки: 28 x 28, итого 784 пикселей со значением 0 или 1\n",
    "features = 784\n",
    "\n",
    "# 10 цифр: 1, 2, ... 10\n",
    "classes = 10"
   ],
   "metadata": {
    "collapsed": false,
    "ExecuteTime": {
     "start_time": "2023-08-21T12:46:55.993608Z",
     "end_time": "2023-08-21T12:46:56.031635Z"
    }
   }
  },
  {
   "cell_type": "code",
   "execution_count": 454,
   "outputs": [
    {
     "data": {
      "text/plain": "tensor([[-0.0282,  0.0169,  0.0142,  ...,  0.0072, -0.0063, -0.0158],\n        [ 0.0313,  0.0233, -0.0205,  ..., -0.0217, -0.0262,  0.0081],\n        [-0.0021,  0.0347,  0.0119,  ..., -0.0100,  0.0131, -0.0157],\n        ...,\n        [-0.0197,  0.0195, -0.0273,  ...,  0.0223, -0.0294,  0.0027],\n        [ 0.0194,  0.0088, -0.0090,  ...,  0.0269,  0.0286, -0.0064],\n        [ 0.0050, -0.0101, -0.0283,  ...,  0.0158, -0.0261,  0.0241]],\n       requires_grad=True)"
     },
     "execution_count": 454,
     "metadata": {},
     "output_type": "execute_result"
    }
   ],
   "source": [
    "W = torch.FloatTensor(features, classes).uniform_(-1, 1) / features ** 0.5\n",
    "W.requires_grad_()"
   ],
   "metadata": {
    "collapsed": false,
    "ExecuteTime": {
     "start_time": "2023-08-21T12:49:17.304711Z",
     "end_time": "2023-08-21T12:49:17.337211Z"
    }
   }
  },
  {
   "cell_type": "code",
   "execution_count": 455,
   "outputs": [
    {
     "data": {
      "text/plain": "torch.Size([784, 10])"
     },
     "execution_count": 455,
     "metadata": {},
     "output_type": "execute_result"
    }
   ],
   "source": [
    "# 784 строки, соответствующих каждому пикселю и 10 колонок, заполненных весами для каждой цифры\n",
    "W.shape"
   ],
   "metadata": {
    "collapsed": false,
    "ExecuteTime": {
     "start_time": "2023-08-21T12:49:18.549507Z",
     "end_time": "2023-08-21T12:49:18.596982Z"
    }
   }
  },
  {
   "cell_type": "code",
   "execution_count": 456,
   "outputs": [],
   "source": [
    "epochs = 7\n",
    "lr=1e-2\n",
    "history = []"
   ],
   "metadata": {
    "collapsed": false,
    "ExecuteTime": {
     "start_time": "2023-08-21T12:49:19.655202Z",
     "end_time": "2023-08-21T12:49:19.733753Z"
    }
   }
  },
  {
   "cell_type": "markdown",
   "source": [
    "**АРХИТЕКТУРА СЕТИ**\n",
    "- один скрытый слой с 1 нейроном\n",
    "- функция активации: softmax\n",
    "- loss: cross entropy"
   ],
   "metadata": {
    "collapsed": false
   }
  },
  {
   "cell_type": "code",
   "execution_count": 457,
   "outputs": [
    {
     "name": "stderr",
     "output_type": "stream",
     "text": [
      " 14%|█▍        | 1/7 [00:13<01:20, 13.43s/it]"
     ]
    },
    {
     "name": "stdout",
     "output_type": "stream",
     "text": [
      "1,\t loss: 0.19493389129638672\n"
     ]
    },
    {
     "name": "stderr",
     "output_type": "stream",
     "text": [
      " 29%|██▊       | 2/7 [00:27<01:08, 13.69s/it]"
     ]
    },
    {
     "name": "stdout",
     "output_type": "stream",
     "text": [
      "2,\t loss: 0.139077290892601\n"
     ]
    },
    {
     "name": "stderr",
     "output_type": "stream",
     "text": [
      " 43%|████▎     | 3/7 [00:43<00:59, 15.00s/it]"
     ]
    },
    {
     "name": "stdout",
     "output_type": "stream",
     "text": [
      "3,\t loss: 0.11882150173187256\n"
     ]
    },
    {
     "name": "stderr",
     "output_type": "stream",
     "text": [
      " 57%|█████▋    | 4/7 [00:57<00:43, 14.50s/it]"
     ]
    },
    {
     "name": "stdout",
     "output_type": "stream",
     "text": [
      "4,\t loss: 0.10798230022192001\n"
     ]
    },
    {
     "name": "stderr",
     "output_type": "stream",
     "text": [
      " 71%|███████▏  | 5/7 [01:10<00:27, 13.90s/it]"
     ]
    },
    {
     "name": "stdout",
     "output_type": "stream",
     "text": [
      "5,\t loss: 0.10104377567768097\n"
     ]
    },
    {
     "name": "stderr",
     "output_type": "stream",
     "text": [
      " 86%|████████▌ | 6/7 [01:22<00:13, 13.44s/it]"
     ]
    },
    {
     "name": "stdout",
     "output_type": "stream",
     "text": [
      "6,\t loss: 0.09611936658620834\n"
     ]
    },
    {
     "name": "stderr",
     "output_type": "stream",
     "text": [
      "100%|██████████| 7/7 [01:35<00:00, 13.70s/it]"
     ]
    },
    {
     "name": "stdout",
     "output_type": "stream",
     "text": [
      "7,\t loss: 0.09238506853580475\n"
     ]
    },
    {
     "name": "stderr",
     "output_type": "stream",
     "text": [
      "\n"
     ]
    }
   ],
   "source": [
    "for i in tqdm(range(epochs)):\n",
    "  for x_batch, y_batch in train_loader:\n",
    "\n",
    "    # загружаем батч данных (вытянутый в линию)\n",
    "    x_batch = x_batch.reshape(x_batch.shape[0], -1)\n",
    "\n",
    "    # предскажем вероятности для каждого класса (цифры)\n",
    "    # найдем значения функции линейной регрессии, чтобы получить шансы, аналогично логистической регрессии\n",
    "    logits = x_batch @ W\n",
    "\n",
    "    # выполним логит преобразование шансов с помощью softmax, чтобы получить вероятности\n",
    "    probabilities = torch.exp(logits) / torch.exp(logits).sum(dim=1, keepdims=True)\n",
    "\n",
    "    # вычисляем функцию потерь (log loss, также известная как кросс-энтропия)\n",
    "    # probabilities[range(batch_size), y_batch]) выбираем вероятности для истинного класса\n",
    "    loss = -torch.log(probabilities[range(batch_size), y_batch]).mean()\n",
    "    # сохраним полученные значения\n",
    "    history.append(loss.item())\n",
    "\n",
    "    # вычисляем градиенты\n",
    "    loss.backward()\n",
    "\n",
    "    # делаем шаг градиентного спуска\n",
    "    grad = W.grad\n",
    "    with torch.no_grad():\n",
    "      W -= lr * grad\n",
    "    # обнулим значения градиентов\n",
    "    W.grad.zero_()\n",
    "\n",
    "  print(f'{i+1},\\t loss: {history[-1]}')"
   ],
   "metadata": {
    "collapsed": false,
    "ExecuteTime": {
     "start_time": "2023-08-21T12:49:21.351271Z",
     "end_time": "2023-08-21T12:50:57.300594Z"
    }
   }
  },
  {
   "cell_type": "code",
   "execution_count": 458,
   "outputs": [
    {
     "data": {
      "text/plain": "<Figure size 1000x700 with 1 Axes>",
      "image/png": "[encoded data removed]"
     },
     "metadata": {},
     "output_type": "display_data"
    }
   ],
   "source": [
    "plt.figure(figsize=(10, 7))\n",
    "plt.plot(history)\n",
    "plt.title('Loss by batch iterations')\n",
    "plt.ylabel('Entropy Loss')\n",
    "plt.xlabel('batches')\n",
    "plt.show()"
   ],
   "metadata": {
    "collapsed": false,
    "ExecuteTime": {
     "start_time": "2023-08-21T12:51:00.972346Z",
     "end_time": "2023-08-21T12:51:01.217702Z"
    }
   }
  },
  {
   "cell_type": "code",
   "execution_count": 459,
   "outputs": [
    {
     "name": "stdout",
     "output_type": "stream",
     "text": [
      "Test accuracy 0.909\n"
     ]
    }
   ],
   "source": [
    "# проверим точность предсказания на тестовой выборке\n",
    "acc = 0\n",
    "batches = 0\n",
    "\n",
    "for x_batch, y_batch in test_loader:\n",
    "    # загружаем батч данных (вытянутый в линию)\n",
    "    batches += 1\n",
    "    x_batch = x_batch.view(x_batch.shape[0], -1)\n",
    "    y_batch = y_batch\n",
    "\n",
    "    # Предскажем вероятность класса, использовав полученные веса\n",
    "    # и выбрав id класса с наибольшей вероятностью. Ниже пример argmax\n",
    "    # dim это аналог axis\n",
    "    preds = torch.argmax(x_batch @ W, dim=1)\n",
    "    # найдем точность\n",
    "    acc += (preds==y_batch).cpu().numpy().mean()\n",
    "\n",
    "print(f'Test accuracy {acc / batches:.3}')"
   ],
   "metadata": {
    "collapsed": false,
    "ExecuteTime": {
     "start_time": "2023-08-21T12:51:05.363682Z",
     "end_time": "2023-08-21T12:51:07.881999Z"
    }
   }
  },
  {
   "cell_type": "markdown",
   "source": [
    "### Реализуем сеть из двух скрытых слоев\n",
    "**АРХИТЕКТУРА СЕТИ**\n",
    "- два скрытых слоя по 32 нейрона\n",
    "- функция активации первого слоя: relu\n",
    "- функция активации второго слоя: softmax\n",
    "- loss: cross entropy\n"
   ],
   "metadata": {
    "collapsed": false
   }
  },
  {
   "cell_type": "code",
   "execution_count": 466,
   "outputs": [],
   "source": [
    "features = 784\n",
    "hidden = 32\n",
    "classes = 10"
   ],
   "metadata": {
    "collapsed": false,
    "ExecuteTime": {
     "start_time": "2023-08-21T12:59:35.205471Z",
     "end_time": "2023-08-21T12:59:35.248224Z"
    }
   }
  },
  {
   "cell_type": "code",
   "execution_count": 480,
   "outputs": [
    {
     "data": {
      "text/plain": "tensor([[-9.3584e-03,  1.3323e-02, -3.4010e-02, -8.4384e-03,  3.4631e-02,\n          3.4344e-02, -1.9649e-02,  7.6556e-03, -1.7408e-02,  9.6269e-03],\n        [ 1.8755e-02,  1.6347e-02,  2.6123e-02,  3.2145e-02,  5.9824e-03,\n         -2.7057e-02, -5.0340e-03, -1.8530e-02, -2.5572e-02, -1.1749e-02],\n        [ 1.3504e-02, -2.5369e-02,  8.9595e-03,  2.8935e-02,  2.5381e-02,\n         -3.1170e-02, -1.1772e-02, -1.7432e-02,  2.6557e-02, -3.2926e-02],\n        [-8.1653e-03,  2.5875e-02, -2.1084e-02, -1.1885e-02,  2.9686e-02,\n         -2.9630e-02,  1.6858e-02,  1.8408e-02,  4.8671e-04, -2.1665e-02],\n        [ 2.2168e-02, -2.9208e-02, -3.5394e-02, -4.6202e-03,  8.4284e-03,\n         -9.9047e-03, -4.5115e-03, -2.9988e-02, -1.5638e-02,  2.4268e-03],\n        [-2.1976e-02, -2.2445e-02, -1.1446e-02,  1.3394e-03, -1.9774e-02,\n          2.8114e-03,  2.2129e-02, -3.5150e-02,  2.7718e-02,  1.4919e-02],\n        [ 1.6653e-02,  1.9287e-02,  9.4600e-03, -2.9506e-02, -1.2372e-02,\n         -2.7400e-02, -3.2618e-02,  3.2603e-02, -1.6328e-02, -1.6298e-02],\n        [-3.0839e-02, -4.1934e-03,  2.6622e-02, -4.2709e-03,  2.4716e-03,\n         -3.0020e-02, -3.3883e-02, -2.8008e-02,  3.0115e-02, -1.8327e-02],\n        [ 1.8863e-02,  3.4285e-02,  6.3962e-03,  2.2218e-02, -2.1854e-02,\n          3.0588e-02,  2.7097e-02,  2.2022e-02,  2.8527e-02, -3.3665e-02],\n        [-2.3814e-02,  1.7430e-02, -2.5521e-02,  2.1977e-02,  3.0543e-02,\n         -1.5624e-03,  2.8948e-02, -1.2642e-02, -1.6980e-02,  1.4391e-02],\n        [ 2.0828e-02, -1.7011e-02, -1.6820e-02, -2.2906e-02, -2.7920e-02,\n          3.3601e-03,  1.5857e-02,  2.8806e-02, -4.7414e-03, -2.0880e-02],\n        [ 4.9847e-03, -5.6080e-03, -4.8166e-03, -7.5298e-05, -9.9863e-03,\n         -1.0598e-02, -3.1688e-02, -3.6318e-03, -1.5894e-02, -1.2625e-02],\n        [ 2.7119e-03, -2.2735e-02, -3.0662e-02,  2.9625e-02, -2.8236e-02,\n         -3.3114e-02, -3.2827e-02,  1.6626e-02, -2.1198e-02, -3.2913e-02],\n        [-1.3181e-02,  7.8358e-03, -2.3237e-02, -1.5879e-02,  3.1441e-02,\n         -1.4977e-02,  3.1765e-03,  2.8747e-02,  3.5208e-02, -3.4009e-02],\n        [ 2.0782e-02,  1.3741e-02, -1.7385e-03,  8.7513e-03, -1.5502e-02,\n         -9.9411e-03,  2.1240e-03, -7.1621e-03,  1.6785e-02, -2.7604e-02],\n        [-6.2719e-03,  1.8686e-02,  1.7361e-02,  2.0415e-02,  6.2973e-04,\n         -3.0742e-02,  5.7186e-03,  2.1705e-02,  2.0711e-02,  8.2770e-03],\n        [ 6.2496e-03,  2.3389e-02,  1.3549e-02,  1.9464e-02, -4.6781e-03,\n          3.1051e-02, -2.5051e-03, -3.7675e-03, -1.6428e-02, -2.7655e-02],\n        [-1.2330e-02, -1.1859e-02, -3.3427e-02,  2.2244e-02,  3.3770e-02,\n         -2.4739e-02,  2.5841e-02, -2.0788e-02, -2.5766e-02,  4.9997e-03],\n        [-2.5678e-02, -1.1280e-02, -9.5973e-03,  1.9422e-02, -1.5893e-02,\n          2.7899e-03, -1.2478e-02, -1.9090e-02, -2.3471e-02, -3.4283e-02],\n        [ 2.9104e-05,  6.4435e-03, -8.9796e-03,  3.1959e-02,  1.4429e-02,\n         -3.3290e-03, -4.1140e-03, -3.4777e-02,  2.8421e-02, -8.8734e-03],\n        [-3.4121e-02, -6.5643e-03, -2.1337e-02,  1.1167e-02,  1.0713e-02,\n          2.8351e-02, -8.4509e-03, -1.0347e-02, -3.4249e-02, -3.2353e-02],\n        [ 2.1954e-02, -2.4522e-02, -1.6375e-02, -2.4225e-02,  2.8565e-02,\n          1.7455e-02, -1.4243e-02, -1.6166e-03,  3.4351e-03, -3.0776e-02],\n        [-1.4104e-02,  3.1744e-02, -1.3748e-02,  2.0288e-02,  6.8196e-03,\n         -3.0958e-03,  1.6995e-02, -1.7392e-02, -2.4457e-02, -2.6706e-02],\n        [ 1.3069e-02,  3.3078e-02,  1.9207e-02,  2.9632e-02, -3.4759e-02,\n         -1.4793e-02,  5.6320e-03,  1.4314e-02,  8.5031e-03,  1.2167e-03],\n        [ 8.5319e-04, -7.6936e-03, -3.5478e-02,  3.3808e-02, -7.0097e-03,\n         -1.7017e-02, -7.5762e-03,  1.1087e-02, -3.1009e-02,  6.4657e-03],\n        [ 1.6830e-02, -3.0270e-02, -1.1951e-02,  1.8993e-02, -1.1802e-02,\n         -3.4855e-03,  2.9439e-02, -3.2301e-02, -1.7483e-02,  1.2873e-02],\n        [-5.1956e-03, -6.0856e-03, -2.0250e-02,  4.9417e-03, -3.1993e-02,\n         -1.5031e-02, -8.0589e-03, -6.4001e-03,  1.2789e-02, -2.6329e-02],\n        [ 2.7264e-02, -2.0821e-02,  8.7641e-03,  3.3082e-02,  1.1645e-03,\n          3.0487e-02, -2.9906e-02, -3.2829e-02,  2.0017e-02,  2.1020e-02],\n        [-1.6977e-02, -2.8352e-02, -1.2607e-02,  1.0780e-02, -1.0001e-02,\n         -5.6909e-03,  3.3540e-02,  2.0836e-02, -3.0087e-02, -3.2957e-02],\n        [-7.3560e-03, -1.3091e-02,  1.2596e-03,  2.9132e-02,  2.7818e-03,\n         -2.7797e-02, -1.9129e-02, -3.2737e-02,  2.3542e-02, -3.0433e-02],\n        [ 2.8298e-03,  2.8905e-02,  1.8166e-02,  4.4254e-03, -2.8692e-02,\n         -1.2221e-02,  1.6714e-02,  1.4685e-02, -2.8692e-02, -1.5931e-02],\n        [ 9.6234e-03, -2.8037e-02, -2.1606e-02, -1.2219e-02, -6.0154e-03,\n          6.7828e-03, -1.7790e-02,  9.6369e-03,  2.4109e-02,  2.5457e-02]],\n       requires_grad=True)"
     },
     "execution_count": 480,
     "metadata": {},
     "output_type": "execute_result"
    }
   ],
   "source": [
    "w1 = torch.FloatTensor(features, hidden).uniform_(-1, 1) / features ** 0.5\n",
    "w1.requires_grad_()\n",
    "w2 = torch.FloatTensor(hidden, classes).uniform_(-1, 1) / features ** 0.5\n",
    "w2.requires_grad_()"
   ],
   "metadata": {
    "collapsed": false,
    "ExecuteTime": {
     "start_time": "2023-08-21T13:09:20.114263Z",
     "end_time": "2023-08-21T13:09:20.146580Z"
    }
   }
  },
  {
   "cell_type": "code",
   "execution_count": 481,
   "outputs": [],
   "source": [
    "epochs = 7\n",
    "lr=1e-2\n",
    "history = []"
   ],
   "metadata": {
    "collapsed": false,
    "ExecuteTime": {
     "start_time": "2023-08-21T13:09:53.452476Z",
     "end_time": "2023-08-21T13:09:53.497099Z"
    }
   }
  },
  {
   "cell_type": "code",
   "execution_count": 496,
   "outputs": [
    {
     "name": "stderr",
     "output_type": "stream",
     "text": [
      " 14%|█▍        | 1/7 [00:12<01:16, 12.70s/it]"
     ]
    },
    {
     "name": "stdout",
     "output_type": "stream",
     "text": [
      "1,\t loss: 0.6054866909980774\n"
     ]
    },
    {
     "name": "stderr",
     "output_type": "stream",
     "text": [
      " 29%|██▊       | 2/7 [00:25<01:02, 12.50s/it]"
     ]
    },
    {
     "name": "stdout",
     "output_type": "stream",
     "text": [
      "2,\t loss: 0.2011353224515915\n"
     ]
    },
    {
     "name": "stderr",
     "output_type": "stream",
     "text": [
      " 43%|████▎     | 3/7 [00:37<00:50, 12.59s/it]"
     ]
    },
    {
     "name": "stdout",
     "output_type": "stream",
     "text": [
      "3,\t loss: 0.14191700518131256\n"
     ]
    },
    {
     "name": "stderr",
     "output_type": "stream",
     "text": [
      " 57%|█████▋    | 4/7 [00:50<00:37, 12.64s/it]"
     ]
    },
    {
     "name": "stdout",
     "output_type": "stream",
     "text": [
      "4,\t loss: 0.12044919282197952\n"
     ]
    },
    {
     "name": "stderr",
     "output_type": "stream",
     "text": [
      " 71%|███████▏  | 5/7 [01:03<00:25, 12.93s/it]"
     ]
    },
    {
     "name": "stdout",
     "output_type": "stream",
     "text": [
      "5,\t loss: 0.10827505588531494\n"
     ]
    },
    {
     "name": "stderr",
     "output_type": "stream",
     "text": [
      " 86%|████████▌ | 6/7 [01:16<00:12, 12.85s/it]"
     ]
    },
    {
     "name": "stdout",
     "output_type": "stream",
     "text": [
      "6,\t loss: 0.09981026500463486\n"
     ]
    },
    {
     "name": "stderr",
     "output_type": "stream",
     "text": [
      "100%|██████████| 7/7 [01:30<00:00, 12.87s/it]"
     ]
    },
    {
     "name": "stdout",
     "output_type": "stream",
     "text": [
      "7,\t loss: 0.09325231611728668\n"
     ]
    },
    {
     "name": "stderr",
     "output_type": "stream",
     "text": [
      "\n"
     ]
    }
   ],
   "source": [
    "for i in tqdm(range(epochs)):\n",
    "    for x_batch, y_batch in train_loader:\n",
    "        x_batch = x_batch.reshape(batch_size, -1)\n",
    "        out_1 = (x_batch @ w1).clamp(min=0)\n",
    "        out_2 = out_1 @ w2\n",
    "        y_pred = torch.exp(out_2) / torch.exp(out_2).sum(dim=1, keepdims=True)\n",
    "        loss = -torch.log(y_pred[range(batch_size), y_batch]).mean()\n",
    "        history.append(loss.item())\n",
    "\n",
    "        loss.backward()\n",
    "\n",
    "        w1_grad = w1.grad\n",
    "        w2_grad = w2.grad\n",
    "        with torch.no_grad():\n",
    "            w1 -= lr * w1_grad\n",
    "            w2 -= lr * w2_grad\n",
    "        w1.grad.zero_()\n",
    "        w2.grad.zero_()\n",
    "\n",
    "    print(f'{i+1},\\t loss: {history[-1]}')"
   ],
   "metadata": {
    "collapsed": false,
    "ExecuteTime": {
     "start_time": "2023-08-21T13:25:52.878269Z",
     "end_time": "2023-08-21T13:27:23.003358Z"
    }
   }
  },
  {
   "cell_type": "code",
   "execution_count": 498,
   "outputs": [
    {
     "name": "stdout",
     "output_type": "stream",
     "text": [
      "Test accuracy 0.907\n"
     ]
    }
   ],
   "source": [
    "# проверим точность предсказания на тестовой выборке\n",
    "acc = 0\n",
    "batches = 0\n",
    "\n",
    "for x_batch, y_batch in test_loader:\n",
    "    # загружаем батч данных (вытянутый в линию)\n",
    "    batches += 1\n",
    "    x_batch = x_batch.reshape(batch_size, -1)\n",
    "\n",
    "    # Предскажем вероятность класса, использовав полученные веса\n",
    "    # и выбрав id класса с наибольшей вероятностью. Ниже пример argmax\n",
    "    # dim это аналог axis\n",
    "    out_1 = (x_batch @ w1).clamp(min=0)\n",
    "    preds = torch.argmax(out_1 @ w2, dim=1)\n",
    "    # найдем точность\n",
    "    acc += (preds==y_batch).cpu().numpy().mean()\n",
    "\n",
    "print(f'Test accuracy {acc / batches:.3}')"
   ],
   "metadata": {
    "collapsed": false,
    "ExecuteTime": {
     "start_time": "2023-08-21T13:30:25.402511Z",
     "end_time": "2023-08-21T13:30:28.354871Z"
    }
   }
  },
  {
   "cell_type": "markdown",
   "source": [
    "### Решение на базе PyTorch (API)"
   ],
   "metadata": {
    "collapsed": false
   }
  },
  {
   "cell_type": "code",
   "execution_count": 549,
   "outputs": [],
   "source": [
    "import torch.nn as nn\n",
    "import torch.nn.functional as F"
   ],
   "metadata": {
    "collapsed": false,
    "ExecuteTime": {
     "start_time": "2023-08-21T16:01:22.754887Z",
     "end_time": "2023-08-21T16:01:22.794057Z"
    }
   }
  },
  {
   "cell_type": "markdown",
   "source": [
    "#### 3 слоя"
   ],
   "metadata": {
    "collapsed": false
   }
  },
  {
   "cell_type": "code",
   "execution_count": 550,
   "outputs": [],
   "source": [
    "features = 784\n",
    "hidden = 512\n",
    "classes = 10"
   ],
   "metadata": {
    "collapsed": false,
    "ExecuteTime": {
     "start_time": "2023-08-21T16:01:23.085686Z",
     "end_time": "2023-08-21T16:01:23.127383Z"
    }
   }
  },
  {
   "cell_type": "code",
   "execution_count": 554,
   "outputs": [
    {
     "data": {
      "text/plain": "tensor([[ 0.0263,  0.0170,  0.0254,  ..., -0.0259, -0.0026, -0.0130],\n        [ 0.0012, -0.0329,  0.0116,  ..., -0.0087, -0.0348,  0.0059],\n        [-0.0280,  0.0318,  0.0105,  ..., -0.0072, -0.0183,  0.0324],\n        ...,\n        [-0.0134, -0.0196,  0.0043,  ...,  0.0284,  0.0206,  0.0215],\n        [-0.0230,  0.0226, -0.0303,  ..., -0.0198, -0.0257,  0.0311],\n        [-0.0071, -0.0164, -0.0033,  ...,  0.0235, -0.0353,  0.0175]],\n       requires_grad=True)"
     },
     "execution_count": 554,
     "metadata": {},
     "output_type": "execute_result"
    }
   ],
   "source": [
    "w1 = torch.FloatTensor(features, hidden).uniform_(-1, 1) / features ** 0.5\n",
    "w1.requires_grad_()\n",
    "w2 = torch.FloatTensor(hidden, hidden).uniform_(-1, 1) / features ** 0.5\n",
    "w2.requires_grad_()\n",
    "w3 = torch.FloatTensor(hidden, classes).uniform_(-1, 1) / features ** 0.5\n",
    "w3.requires_grad_()"
   ],
   "metadata": {
    "collapsed": false,
    "ExecuteTime": {
     "start_time": "2023-08-21T16:04:44.262511Z",
     "end_time": "2023-08-21T16:04:44.310204Z"
    }
   }
  },
  {
   "cell_type": "code",
   "execution_count": 555,
   "outputs": [
    {
     "name": "stderr",
     "output_type": "stream",
     "text": [
      " 14%|█▍        | 1/7 [00:19<01:59, 19.95s/it]"
     ]
    },
    {
     "name": "stdout",
     "output_type": "stream",
     "text": [
      "1,\t loss: 0.40883806347846985\n"
     ]
    },
    {
     "name": "stderr",
     "output_type": "stream",
     "text": [
      " 29%|██▊       | 2/7 [00:38<01:36, 19.26s/it]"
     ]
    },
    {
     "name": "stdout",
     "output_type": "stream",
     "text": [
      "2,\t loss: 0.1420188695192337\n"
     ]
    },
    {
     "name": "stderr",
     "output_type": "stream",
     "text": [
      " 43%|████▎     | 3/7 [00:59<01:19, 19.98s/it]"
     ]
    },
    {
     "name": "stdout",
     "output_type": "stream",
     "text": [
      "3,\t loss: 0.10446728765964508\n"
     ]
    },
    {
     "name": "stderr",
     "output_type": "stream",
     "text": [
      " 57%|█████▋    | 4/7 [01:15<00:55, 18.47s/it]"
     ]
    },
    {
     "name": "stdout",
     "output_type": "stream",
     "text": [
      "4,\t loss: 0.08987055718898773\n"
     ]
    },
    {
     "name": "stderr",
     "output_type": "stream",
     "text": [
      " 71%|███████▏  | 5/7 [01:32<00:35, 17.90s/it]"
     ]
    },
    {
     "name": "stdout",
     "output_type": "stream",
     "text": [
      "5,\t loss: 0.08087794482707977\n"
     ]
    },
    {
     "name": "stderr",
     "output_type": "stream",
     "text": [
      " 86%|████████▌ | 6/7 [01:49<00:17, 17.57s/it]"
     ]
    },
    {
     "name": "stdout",
     "output_type": "stream",
     "text": [
      "6,\t loss: 0.07422745227813721\n"
     ]
    },
    {
     "name": "stderr",
     "output_type": "stream",
     "text": [
      "100%|██████████| 7/7 [02:07<00:00, 18.21s/it]"
     ]
    },
    {
     "name": "stdout",
     "output_type": "stream",
     "text": [
      "7,\t loss: 0.06863876432180405\n"
     ]
    },
    {
     "name": "stderr",
     "output_type": "stream",
     "text": [
      "\n"
     ]
    }
   ],
   "source": [
    "flatten = nn.Flatten()\n",
    "for i in tqdm(range(epochs)):\n",
    "    for x_batch, y_batch in train_loader:\n",
    "        x_batch = flatten(x_batch)\n",
    "        out_1 = F.relu(x_batch @ w1)\n",
    "        out_2 = F.relu(out_1 @ w2)\n",
    "        y_pred = out_2 @ w3\n",
    "        # F.cross_entropy() не требует преобразования логитов в вероятности\n",
    "        loss = F.cross_entropy(y_pred, y_batch)\n",
    "        history.append(loss.item())\n",
    "\n",
    "        loss.backward()\n",
    "\n",
    "        w1_grad = w1.grad\n",
    "        w2_grad = w2.grad\n",
    "        w3_grad = w3.grad\n",
    "        with torch.no_grad():\n",
    "            w1 -= lr * w1_grad\n",
    "            w2 -= lr * w2_grad\n",
    "            w3 -= lr * w3_grad\n",
    "        w1.grad.zero_()\n",
    "        w2.grad.zero_()\n",
    "        w3.grad.zero_()\n",
    "\n",
    "    print(f'{i+1},\\t loss: {history[-1]}')"
   ],
   "metadata": {
    "collapsed": false,
    "ExecuteTime": {
     "start_time": "2023-08-21T16:04:45.150364Z",
     "end_time": "2023-08-21T16:06:52.656608Z"
    }
   }
  },
  {
   "cell_type": "code",
   "execution_count": 556,
   "outputs": [
    {
     "name": "stdout",
     "output_type": "stream",
     "text": [
      "Test accuracy 0.92\n"
     ]
    }
   ],
   "source": [
    "# проверим точность предсказания на тестовой выборке\n",
    "acc = 0\n",
    "batches = 0\n",
    "\n",
    "for x_batch, y_batch in test_loader:\n",
    "    batches += 1\n",
    "    x_batch = flatten(x_batch)\n",
    "    out_1 = F.relu(x_batch @ w1)\n",
    "    out_2 = F.relu(out_1 @ w2)\n",
    "    y_pred = out_2 @ w3\n",
    "    preds = torch.argmax(y_pred, dim=1)\n",
    "    # найдем точность\n",
    "    acc += (preds==y_batch).numpy().mean()\n",
    "\n",
    "print(f'Test accuracy {acc / batches:.3}')"
   ],
   "metadata": {
    "collapsed": false,
    "ExecuteTime": {
     "start_time": "2023-08-21T16:07:34.807104Z",
     "end_time": "2023-08-21T16:07:37.686232Z"
    }
   }
  },
  {
   "cell_type": "code",
   "execution_count": null,
   "outputs": [],
   "source": [],
   "metadata": {
    "collapsed": false
   }
  },
  {
   "cell_type": "markdown",
   "source": [
    "#### 4 слоя"
   ],
   "metadata": {
    "collapsed": false
   }
  },
  {
   "cell_type": "code",
   "execution_count": 564,
   "outputs": [],
   "source": [
    "features = 784\n",
    "hidden = 1024\n",
    "classes = 10\n",
    "\n",
    "lr=1e-2"
   ],
   "metadata": {
    "collapsed": false,
    "ExecuteTime": {
     "start_time": "2023-08-21T16:16:50.223781Z",
     "end_time": "2023-08-21T16:16:50.266574Z"
    }
   }
  },
  {
   "cell_type": "code",
   "execution_count": 565,
   "outputs": [
    {
     "data": {
      "text/plain": "tensor([[ 0.0036,  0.0013, -0.0238,  ..., -0.0208,  0.0182,  0.0345],\n        [-0.0016, -0.0221,  0.0259,  ..., -0.0136,  0.0305,  0.0121],\n        [ 0.0017, -0.0097, -0.0268,  ..., -0.0125, -0.0272,  0.0294],\n        ...,\n        [ 0.0338, -0.0334, -0.0210,  ...,  0.0169,  0.0349, -0.0180],\n        [-0.0176,  0.0178, -0.0123,  ...,  0.0090, -0.0246, -0.0094],\n        [ 0.0096, -0.0222, -0.0147,  ..., -0.0131,  0.0190,  0.0256]],\n       requires_grad=True)"
     },
     "execution_count": 565,
     "metadata": {},
     "output_type": "execute_result"
    }
   ],
   "source": [
    "w1 = torch.FloatTensor(features, hidden).uniform_(-1, 1) / features ** 0.5\n",
    "w1.requires_grad_()\n",
    "w2 = torch.FloatTensor(hidden, hidden).uniform_(-1, 1) / features ** 0.5\n",
    "w2.requires_grad_()\n",
    "w3 = torch.FloatTensor(hidden, hidden).uniform_(-1, 1) / features ** 0.5\n",
    "w3.requires_grad_()\n",
    "w4 = torch.FloatTensor(hidden, classes).uniform_(-1, 1) / features ** 0.5\n",
    "w4.requires_grad_()"
   ],
   "metadata": {
    "collapsed": false,
    "ExecuteTime": {
     "start_time": "2023-08-21T16:16:50.584983Z",
     "end_time": "2023-08-21T16:16:50.708746Z"
    }
   }
  },
  {
   "cell_type": "code",
   "execution_count": 566,
   "outputs": [
    {
     "name": "stderr",
     "output_type": "stream",
     "text": [
      " 14%|█▍        | 1/7 [00:38<03:53, 38.90s/it]"
     ]
    },
    {
     "name": "stdout",
     "output_type": "stream",
     "text": [
      "1,\t loss: 0.3014327883720398\n"
     ]
    },
    {
     "name": "stderr",
     "output_type": "stream",
     "text": [
      " 29%|██▊       | 2/7 [01:07<02:44, 32.93s/it]"
     ]
    },
    {
     "name": "stdout",
     "output_type": "stream",
     "text": [
      "2,\t loss: 0.11694182455539703\n"
     ]
    },
    {
     "name": "stderr",
     "output_type": "stream",
     "text": [
      " 43%|████▎     | 3/7 [01:36<02:05, 31.29s/it]"
     ]
    },
    {
     "name": "stdout",
     "output_type": "stream",
     "text": [
      "3,\t loss: 0.093524269759655\n"
     ]
    },
    {
     "name": "stderr",
     "output_type": "stream",
     "text": [
      " 57%|█████▋    | 4/7 [02:01<01:25, 28.48s/it]"
     ]
    },
    {
     "name": "stdout",
     "output_type": "stream",
     "text": [
      "4,\t loss: 0.0814828872680664\n"
     ]
    },
    {
     "name": "stderr",
     "output_type": "stream",
     "text": [
      " 71%|███████▏  | 5/7 [02:25<00:54, 27.09s/it]"
     ]
    },
    {
     "name": "stdout",
     "output_type": "stream",
     "text": [
      "5,\t loss: 0.0715910941362381\n"
     ]
    },
    {
     "name": "stderr",
     "output_type": "stream",
     "text": [
      " 86%|████████▌ | 6/7 [02:49<00:25, 25.88s/it]"
     ]
    },
    {
     "name": "stdout",
     "output_type": "stream",
     "text": [
      "6,\t loss: 0.0635257437825203\n"
     ]
    },
    {
     "name": "stderr",
     "output_type": "stream",
     "text": [
      "100%|██████████| 7/7 [03:15<00:00, 27.90s/it]"
     ]
    },
    {
     "name": "stdout",
     "output_type": "stream",
     "text": [
      "7,\t loss: 0.056396111845970154\n"
     ]
    },
    {
     "name": "stderr",
     "output_type": "stream",
     "text": [
      "\n"
     ]
    }
   ],
   "source": [
    "flatten = nn.Flatten()\n",
    "for i in tqdm(range(epochs)):\n",
    "    for x_batch, y_batch in train_loader:\n",
    "        x_batch = flatten(x_batch)\n",
    "        out_1 = F.relu(x_batch @ w1)\n",
    "        out_2 = F.relu(out_1 @ w2)\n",
    "        out_3 = F.relu(out_2 @ w3)\n",
    "        y_pred = out_3 @ w4\n",
    "        # F.cross_entropy() не требует преобразования логитов в вероятности\n",
    "        loss = F.cross_entropy(y_pred, y_batch)\n",
    "        history.append(loss.item())\n",
    "\n",
    "        loss.backward()\n",
    "\n",
    "        w1_grad = w1.grad\n",
    "        w2_grad = w2.grad\n",
    "        w3_grad = w3.grad\n",
    "        w4_grad = w4.grad\n",
    "        with torch.no_grad():\n",
    "            w1 -= lr * w1_grad\n",
    "            w2 -= lr * w2_grad\n",
    "            w3 -= lr * w3_grad\n",
    "            w4 -= lr * w4_grad\n",
    "        w1.grad.zero_()\n",
    "        w2.grad.zero_()\n",
    "        w3.grad.zero_()\n",
    "        w4.grad.zero_()\n",
    "\n",
    "    print(f'{i+1},\\t loss: {history[-1]}')"
   ],
   "metadata": {
    "collapsed": false,
    "ExecuteTime": {
     "start_time": "2023-08-21T16:16:51.441043Z",
     "end_time": "2023-08-21T16:20:06.734902Z"
    }
   }
  },
  {
   "cell_type": "code",
   "execution_count": 567,
   "outputs": [
    {
     "name": "stdout",
     "output_type": "stream",
     "text": [
      "Test accuracy 0.929\n"
     ]
    }
   ],
   "source": [
    "# проверим точность предсказания на тестовой выборке\n",
    "acc = 0\n",
    "batches = 0\n",
    "\n",
    "for x_batch, y_batch in test_loader:\n",
    "    batches += 1\n",
    "    x_batch = flatten(x_batch)\n",
    "    out_1 = F.relu(x_batch @ w1)\n",
    "    out_2 = F.relu(out_1 @ w2)\n",
    "    out_3 = F.relu(out_2 @ w3)\n",
    "    y_pred = out_3 @ w4\n",
    "    preds = torch.argmax(y_pred, dim=1)\n",
    "    # найдем точность\n",
    "    acc += (preds==y_batch).numpy().mean()\n",
    "\n",
    "print(f'Test accuracy {acc / batches:.3}')"
   ],
   "metadata": {
    "collapsed": false,
    "ExecuteTime": {
     "start_time": "2023-08-21T16:20:06.739262Z",
     "end_time": "2023-08-21T16:20:10.050310Z"
    }
   }
  },
  {
   "cell_type": "code",
   "execution_count": null,
   "outputs": [],
   "source": [],
   "metadata": {
    "collapsed": false
   }
  },
  {
   "cell_type": "markdown",
   "source": [
    "### Решение на базе PyTorch nn.Module()"
   ],
   "metadata": {
    "collapsed": false
   }
  },
  {
   "cell_type": "code",
   "execution_count": 573,
   "outputs": [],
   "source": [
    "# Гиперпараметры\n",
    "batch_size = 128\n",
    "learning_rate = 1e-2\n",
    "epochs = 5"
   ],
   "metadata": {
    "collapsed": false,
    "ExecuteTime": {
     "start_time": "2023-08-21T16:27:35.061850Z",
     "end_time": "2023-08-21T16:27:35.107671Z"
    }
   }
  },
  {
   "cell_type": "code",
   "execution_count": 593,
   "outputs": [],
   "source": [
    "# Определение модели\n",
    "class Three_Layers_NN(nn.Module):\n",
    "    def __init__(self, input_size, hidden_size, num_classes):\n",
    "        super(Three_Layers_NN, self).__init__()\n",
    "        self.fc1 = nn.Linear(input_size, hidden_size)\n",
    "        self.fc2 = nn.Linear(hidden_size, hidden_size)\n",
    "        self.fc3 = nn.Linear(hidden_size, num_classes)\n",
    "\n",
    "    def forward(self, x):\n",
    "        x = F.relu(self.fc1(x))\n",
    "        x = F.relu(self.fc2(x))\n",
    "        x = self.fc3(x)\n",
    "        return x"
   ],
   "metadata": {
    "collapsed": false,
    "ExecuteTime": {
     "start_time": "2023-08-21T16:41:58.615042Z",
     "end_time": "2023-08-21T16:41:58.727757Z"
    }
   }
  },
  {
   "cell_type": "code",
   "execution_count": 594,
   "outputs": [],
   "source": [
    "# Создание модели\n",
    "features = 784\n",
    "hidden = 512\n",
    "classes = 10\n",
    "\n",
    "model = Three_Layers_NN(features, hidden, classes)"
   ],
   "metadata": {
    "collapsed": false,
    "ExecuteTime": {
     "start_time": "2023-08-21T16:42:01.427028Z",
     "end_time": "2023-08-21T16:42:01.506339Z"
    }
   }
  },
  {
   "cell_type": "code",
   "execution_count": 595,
   "outputs": [],
   "source": [
    "# Определение функции потерь и оптимизатора\n",
    "criterion = nn.CrossEntropyLoss()\n",
    "optimizer = torch.optim.SGD(model.parameters(), lr=learning_rate)"
   ],
   "metadata": {
    "collapsed": false,
    "ExecuteTime": {
     "start_time": "2023-08-21T16:42:12.961884Z",
     "end_time": "2023-08-21T16:42:13.028351Z"
    }
   }
  },
  {
   "cell_type": "code",
   "execution_count": 596,
   "outputs": [
    {
     "name": "stdout",
     "output_type": "stream",
     "text": [
      "Epoch [1/5], Loss: 0.2712\n",
      "Epoch [2/5], Loss: 0.1161\n",
      "Epoch [3/5], Loss: 0.0915\n",
      "Epoch [4/5], Loss: 0.0813\n",
      "Epoch [5/5], Loss: 0.0746\n",
      "Training finished!\n"
     ]
    }
   ],
   "source": [
    "# Обучение модели\n",
    "for epoch in range(epochs):\n",
    "    for inputs, labels in train_loader:\n",
    "        inputs = inputs.view(inputs.shape[0], -1)\n",
    "        optimizer.zero_grad()\n",
    "        outputs = model(inputs)\n",
    "        loss = criterion(outputs, labels)\n",
    "        loss.backward()\n",
    "        optimizer.step()\n",
    "    print(f'Epoch [{epoch+1}/{epochs}], Loss: {loss.item():.4f}')\n",
    "\n",
    "print(\"Training finished!\")"
   ],
   "metadata": {
    "collapsed": false,
    "ExecuteTime": {
     "start_time": "2023-08-21T16:42:13.628781Z",
     "end_time": "2023-08-21T16:43:35.659950Z"
    }
   }
  },
  {
   "cell_type": "code",
   "execution_count": 597,
   "outputs": [
    {
     "name": "stdout",
     "output_type": "stream",
     "text": [
      "Accuracy on the 59904 training images: 91.15%\n"
     ]
    }
   ],
   "source": [
    "# Оценка модели\n",
    "model.eval()\n",
    "correct = 0\n",
    "total = 0\n",
    "with torch.no_grad():\n",
    "    for inputs, labels in test_loader:\n",
    "        inputs = inputs.view(inputs.shape[0], -1)\n",
    "        outputs = model(inputs)\n",
    "        _, predicted = torch.max(outputs.data, 1)\n",
    "        total += labels.size(0)\n",
    "        correct += (predicted == labels).sum().item()\n",
    "\n",
    "print(f'Accuracy on the {total} training images: {100 * correct / total:.2f}%')"
   ],
   "metadata": {
    "collapsed": false,
    "ExecuteTime": {
     "start_time": "2023-08-21T16:43:35.662410Z",
     "end_time": "2023-08-21T16:43:48.606814Z"
    }
   }
  },
  {
   "cell_type": "code",
   "execution_count": null,
   "outputs": [],
   "source": [],
   "metadata": {
    "collapsed": false
   }
  },
  {
   "cell_type": "markdown",
   "source": [
    "### Решение на базе PyTorch nn.Sequential()"
   ],
   "metadata": {
    "collapsed": false
   }
  },
  {
   "cell_type": "code",
   "execution_count": 588,
   "outputs": [],
   "source": [
    "from torchsummary import summary"
   ],
   "metadata": {
    "collapsed": false,
    "ExecuteTime": {
     "start_time": "2023-08-21T16:37:56.002647Z",
     "end_time": "2023-08-21T16:37:56.099315Z"
    }
   }
  },
  {
   "cell_type": "code",
   "execution_count": 585,
   "outputs": [],
   "source": [
    "# Гиперпараметры\n",
    "batch_size = 128\n",
    "learning_rate = 1e-2\n",
    "epochs = 5\n",
    "\n",
    "# Параметры модели\n",
    "features = 784\n",
    "hidden = 512\n",
    "classes = 10"
   ],
   "metadata": {
    "collapsed": false,
    "ExecuteTime": {
     "start_time": "2023-08-21T16:35:42.646854Z",
     "end_time": "2023-08-21T16:35:42.764705Z"
    }
   }
  },
  {
   "cell_type": "code",
   "execution_count": 587,
   "outputs": [],
   "source": [
    "model = nn.Sequential(\n",
    "    nn.Linear(features, hidden),\n",
    "    nn.ReLU(),\n",
    "    nn.Linear(hidden, hidden),\n",
    "    nn.ReLU(),\n",
    "    nn.Linear(hidden, classes)\n",
    ")"
   ],
   "metadata": {
    "collapsed": false,
    "ExecuteTime": {
     "start_time": "2023-08-21T16:36:54.779187Z",
     "end_time": "2023-08-21T16:36:54.823030Z"
    }
   }
  },
  {
   "cell_type": "code",
   "execution_count": 589,
   "outputs": [
    {
     "name": "stdout",
     "output_type": "stream",
     "text": [
      "----------------------------------------------------------------\n",
      "        Layer (type)               Output Shape         Param #\n",
      "================================================================\n",
      "            Linear-1                 [128, 512]         401,920\n",
      "              ReLU-2                 [128, 512]               0\n",
      "            Linear-3                 [128, 512]         262,656\n",
      "              ReLU-4                 [128, 512]               0\n",
      "            Linear-5                  [128, 10]           5,130\n",
      "================================================================\n",
      "Total params: 669,706\n",
      "Trainable params: 669,706\n",
      "Non-trainable params: 0\n",
      "----------------------------------------------------------------\n",
      "Input size (MB): 0.38\n",
      "Forward/backward pass size (MB): 2.01\n",
      "Params size (MB): 2.55\n",
      "Estimated Total Size (MB): 4.95\n",
      "----------------------------------------------------------------\n"
     ]
    }
   ],
   "source": [
    "summary(model, (features,), batch_size=batch_size)"
   ],
   "metadata": {
    "collapsed": false,
    "ExecuteTime": {
     "start_time": "2023-08-21T16:38:00.678356Z",
     "end_time": "2023-08-21T16:38:00.852887Z"
    }
   }
  },
  {
   "cell_type": "code",
   "execution_count": 590,
   "outputs": [],
   "source": [
    "# Определение функции потерь и оптимизатора\n",
    "criterion = nn.CrossEntropyLoss()\n",
    "optimizer = torch.optim.SGD(model.parameters(), lr=learning_rate)"
   ],
   "metadata": {
    "collapsed": false,
    "ExecuteTime": {
     "start_time": "2023-08-21T16:38:52.943355Z",
     "end_time": "2023-08-21T16:38:53.066262Z"
    }
   }
  },
  {
   "cell_type": "code",
   "execution_count": 591,
   "outputs": [
    {
     "name": "stdout",
     "output_type": "stream",
     "text": [
      "Epoch [1/5], Loss: 0.2856\n",
      "Epoch [2/5], Loss: 0.1214\n",
      "Epoch [3/5], Loss: 0.0940\n",
      "Epoch [4/5], Loss: 0.0824\n",
      "Epoch [5/5], Loss: 0.0749\n",
      "Training finished!\n"
     ]
    }
   ],
   "source": [
    "# Обучение модели\n",
    "for epoch in range(epochs):\n",
    "    for inputs, labels in train_loader:\n",
    "        inputs = inputs.view(inputs.shape[0], -1)\n",
    "        optimizer.zero_grad()\n",
    "        outputs = model(inputs)\n",
    "        loss = criterion(outputs, labels)\n",
    "        loss.backward()\n",
    "        optimizer.step()\n",
    "    print(f'Epoch [{epoch+1}/{epochs}], Loss: {loss.item():.4f}')\n",
    "\n",
    "print(\"Training finished!\")"
   ],
   "metadata": {
    "collapsed": false,
    "ExecuteTime": {
     "start_time": "2023-08-21T16:39:03.022388Z",
     "end_time": "2023-08-21T16:40:23.945980Z"
    }
   }
  },
  {
   "cell_type": "code",
   "execution_count": 592,
   "outputs": [
    {
     "name": "stdout",
     "output_type": "stream",
     "text": [
      "Accuracy on the 59904 training images: 91.05%\n"
     ]
    }
   ],
   "source": [
    "# Оценка модели\n",
    "model.eval()\n",
    "correct = 0\n",
    "total = 0\n",
    "with torch.no_grad():\n",
    "    for inputs, labels in test_loader:\n",
    "        inputs = inputs.view(inputs.shape[0], -1)\n",
    "        outputs = model(inputs)\n",
    "        _, predicted = torch.max(outputs.data, 1)\n",
    "        total += labels.size(0)\n",
    "        correct += (predicted == labels).sum().item()\n",
    "\n",
    "print(f'Accuracy on the {total} training images: {100 * correct / total:.2f}%')"
   ],
   "metadata": {
    "collapsed": false,
    "ExecuteTime": {
     "start_time": "2023-08-21T16:40:25.988465Z",
     "end_time": "2023-08-21T16:40:40.428715Z"
    }
   }
  },
  {
   "cell_type": "code",
   "execution_count": null,
   "outputs": [],
   "source": [],
   "metadata": {
    "collapsed": false
   }
  },
  {
   "cell_type": "markdown",
   "source": [
    "### Пример нейронной сети для датасета Boston (регрессия)"
   ],
   "metadata": {
    "collapsed": false
   }
  },
  {
   "cell_type": "code",
   "execution_count": 797,
   "outputs": [],
   "source": [
    "from sklearn.model_selection import train_test_split\n",
    "from sklearn.preprocessing import StandardScaler"
   ],
   "metadata": {
    "collapsed": false,
    "ExecuteTime": {
     "start_time": "2023-08-22T16:12:38.590097Z",
     "end_time": "2023-08-22T16:12:38.641737Z"
    }
   }
  },
  {
   "cell_type": "code",
   "execution_count": 798,
   "outputs": [],
   "source": [
    "X = boston.data\n",
    "y = boston.target"
   ],
   "metadata": {
    "collapsed": false,
    "ExecuteTime": {
     "start_time": "2023-08-22T16:12:38.950039Z",
     "end_time": "2023-08-22T16:12:39.049281Z"
    }
   }
  },
  {
   "cell_type": "code",
   "execution_count": 799,
   "outputs": [],
   "source": [
    "X_train, X_test, Y_train, Y_test = train_test_split(X, y, test_size=0.1, random_state=42)"
   ],
   "metadata": {
    "collapsed": false,
    "ExecuteTime": {
     "start_time": "2023-08-22T16:12:39.496457Z",
     "end_time": "2023-08-22T16:12:39.552453Z"
    }
   }
  },
  {
   "cell_type": "code",
   "execution_count": 800,
   "outputs": [],
   "source": [
    "scaler = StandardScaler()\n",
    "X_train = scaler.fit_transform(X_train)\n",
    "X_test = scaler.transform(X_test)"
   ],
   "metadata": {
    "collapsed": false,
    "ExecuteTime": {
     "start_time": "2023-08-22T16:12:40.359418Z",
     "end_time": "2023-08-22T16:12:40.416935Z"
    }
   }
  },
  {
   "cell_type": "code",
   "execution_count": 801,
   "outputs": [],
   "source": [
    "X_train = torch.tensor(X_train, dtype=torch.float)\n",
    "X_test = torch.tensor(X_test, dtype=torch.float)\n",
    "Y_train = torch.tensor(Y_train, dtype=torch.float).view(-1, 1)\n",
    "Y_test = torch.tensor(Y_test, dtype=torch.float).view(-1, 1)"
   ],
   "metadata": {
    "collapsed": false,
    "ExecuteTime": {
     "start_time": "2023-08-22T16:12:41.077555Z",
     "end_time": "2023-08-22T16:12:41.133056Z"
    }
   }
  },
  {
   "cell_type": "code",
   "execution_count": 802,
   "outputs": [],
   "source": [
    "train = torch.utils.data.TensorDataset(X_train, Y_train)\n",
    "test = torch.utils.data.TensorDataset(X_test, Y_test)"
   ],
   "metadata": {
    "collapsed": false,
    "ExecuteTime": {
     "start_time": "2023-08-22T16:12:41.750615Z",
     "end_time": "2023-08-22T16:12:41.815050Z"
    }
   }
  },
  {
   "cell_type": "code",
   "execution_count": 803,
   "outputs": [],
   "source": [
    "batch_size = 64\n",
    "\n",
    "train_loader = DataLoader(train, batch_size=batch_size, shuffle=True)\n",
    "test_loader = DataLoader(test, batch_size=batch_size)"
   ],
   "metadata": {
    "collapsed": false,
    "ExecuteTime": {
     "start_time": "2023-08-22T16:12:42.389367Z",
     "end_time": "2023-08-22T16:12:42.448330Z"
    }
   }
  },
  {
   "cell_type": "code",
   "execution_count": 804,
   "outputs": [],
   "source": [
    "# Гиперпараметры\n",
    "learning_rate = 1e-3\n",
    "epochs = 1000"
   ],
   "metadata": {
    "collapsed": false,
    "ExecuteTime": {
     "start_time": "2023-08-22T16:12:47.951793Z",
     "end_time": "2023-08-22T16:12:48.010796Z"
    }
   }
  },
  {
   "cell_type": "code",
   "execution_count": 805,
   "outputs": [],
   "source": [
    "class SimpleRegressionNN(nn.Module):\n",
    "    def __init__(self, input_size, hidden_size):\n",
    "        super(SimpleRegressionNN, self).__init__()\n",
    "        self.fc1 = nn.Linear(input_size, hidden_size)\n",
    "        self.fc2 = nn.Linear(hidden_size, hidden_size)\n",
    "        self.fc3 = nn.Linear(hidden_size, 1)\n",
    "\n",
    "    def forward(self, x):\n",
    "        x = F.relu(self.fc1(x))\n",
    "        x = F.relu(self.fc2(x))\n",
    "        x = self.fc3(x)\n",
    "        return x"
   ],
   "metadata": {
    "collapsed": false,
    "ExecuteTime": {
     "start_time": "2023-08-22T16:12:48.601526Z",
     "end_time": "2023-08-22T16:12:48.675405Z"
    }
   }
  },
  {
   "cell_type": "code",
   "execution_count": 806,
   "outputs": [],
   "source": [
    "# Параметры модели\n",
    "input_size = X.shape[1]\n",
    "hidden_size = 32\n",
    "model = SimpleRegressionNN(input_size, hidden_size)"
   ],
   "metadata": {
    "collapsed": false,
    "ExecuteTime": {
     "start_time": "2023-08-22T16:12:49.119820Z",
     "end_time": "2023-08-22T16:12:49.179316Z"
    }
   }
  },
  {
   "cell_type": "code",
   "execution_count": 807,
   "outputs": [],
   "source": [
    "# Определение функции потерь и оптимизатора\n",
    "criterion = nn.MSELoss()\n",
    "optimizer = torch.optim.SGD(model.parameters(), lr=learning_rate)"
   ],
   "metadata": {
    "collapsed": false,
    "ExecuteTime": {
     "start_time": "2023-08-22T16:12:49.713873Z",
     "end_time": "2023-08-22T16:12:49.783877Z"
    }
   }
  },
  {
   "cell_type": "code",
   "execution_count": 808,
   "outputs": [
    {
     "name": "stdout",
     "output_type": "stream",
     "text": [
      "Epoch [1/1000], Loss: 560.7596\n",
      "Epoch [2/1000], Loss: 705.0175\n",
      "Epoch [3/1000], Loss: 87.8171\n",
      "Epoch [4/1000], Loss: 60.0184\n",
      "Epoch [5/1000], Loss: 26.2102\n",
      "Epoch [6/1000], Loss: 16.7952\n",
      "Epoch [7/1000], Loss: 7.8898\n",
      "Epoch [8/1000], Loss: 13.7069\n",
      "Epoch [9/1000], Loss: 10.5483\n",
      "Epoch [10/1000], Loss: 27.3071\n",
      "Epoch [11/1000], Loss: 5.4514\n",
      "Epoch [12/1000], Loss: 5.3006\n",
      "Epoch [13/1000], Loss: 30.6620\n",
      "Epoch [14/1000], Loss: 10.8948\n",
      "Epoch [15/1000], Loss: 11.1820\n",
      "Epoch [16/1000], Loss: 19.0655\n",
      "Epoch [17/1000], Loss: 7.5313\n",
      "Epoch [18/1000], Loss: 33.7470\n",
      "Epoch [19/1000], Loss: 3.8132\n",
      "Epoch [20/1000], Loss: 3.1057\n",
      "Epoch [21/1000], Loss: 2.6767\n",
      "Epoch [22/1000], Loss: 10.5894\n",
      "Epoch [23/1000], Loss: 9.2472\n",
      "Epoch [24/1000], Loss: 18.1000\n",
      "Epoch [25/1000], Loss: 11.3371\n",
      "Epoch [26/1000], Loss: 5.9288\n",
      "Epoch [27/1000], Loss: 6.0756\n",
      "Epoch [28/1000], Loss: 6.8202\n",
      "Epoch [29/1000], Loss: 9.7874\n",
      "Epoch [30/1000], Loss: 7.2299\n",
      "Epoch [31/1000], Loss: 5.4872\n",
      "Epoch [32/1000], Loss: 6.1524\n",
      "Epoch [33/1000], Loss: 4.9184\n",
      "Epoch [34/1000], Loss: 20.3716\n",
      "Epoch [35/1000], Loss: 4.9343\n",
      "Epoch [36/1000], Loss: 27.9388\n",
      "Epoch [37/1000], Loss: 4.8111\n",
      "Epoch [38/1000], Loss: 5.0477\n",
      "Epoch [39/1000], Loss: 3.8019\n",
      "Epoch [40/1000], Loss: 19.1152\n",
      "Epoch [41/1000], Loss: 4.9179\n",
      "Epoch [42/1000], Loss: 9.6705\n",
      "Epoch [43/1000], Loss: 5.1429\n",
      "Epoch [44/1000], Loss: 8.7268\n",
      "Epoch [45/1000], Loss: 9.3205\n",
      "Epoch [46/1000], Loss: 25.8563\n",
      "Epoch [47/1000], Loss: 1.9723\n",
      "Epoch [48/1000], Loss: 4.9353\n",
      "Epoch [49/1000], Loss: 23.2042\n",
      "Epoch [50/1000], Loss: 5.1192\n",
      "Epoch [51/1000], Loss: 6.2351\n",
      "Epoch [52/1000], Loss: 7.4911\n",
      "Epoch [53/1000], Loss: 5.2202\n",
      "Epoch [54/1000], Loss: 20.2442\n",
      "Epoch [55/1000], Loss: 6.8678\n",
      "Epoch [56/1000], Loss: 17.7644\n",
      "Epoch [57/1000], Loss: 8.1203\n",
      "Epoch [58/1000], Loss: 2.3387\n",
      "Epoch [59/1000], Loss: 12.4317\n",
      "Epoch [60/1000], Loss: 3.1083\n",
      "Epoch [61/1000], Loss: 13.8182\n",
      "Epoch [62/1000], Loss: 10.7669\n",
      "Epoch [63/1000], Loss: 60.0920\n",
      "Epoch [64/1000], Loss: 8.7890\n",
      "Epoch [65/1000], Loss: 3.2260\n",
      "Epoch [66/1000], Loss: 11.6260\n",
      "Epoch [67/1000], Loss: 8.0425\n",
      "Epoch [68/1000], Loss: 5.5796\n",
      "Epoch [69/1000], Loss: 4.6137\n",
      "Epoch [70/1000], Loss: 1.1965\n",
      "Epoch [71/1000], Loss: 4.5059\n",
      "Epoch [72/1000], Loss: 4.3658\n",
      "Epoch [73/1000], Loss: 6.7992\n",
      "Epoch [74/1000], Loss: 14.6077\n",
      "Epoch [75/1000], Loss: 4.7466\n",
      "Epoch [76/1000], Loss: 20.0360\n",
      "Epoch [77/1000], Loss: 13.3718\n",
      "Epoch [78/1000], Loss: 25.1754\n",
      "Epoch [79/1000], Loss: 3.3687\n",
      "Epoch [80/1000], Loss: 13.7900\n",
      "Epoch [81/1000], Loss: 8.8073\n",
      "Epoch [82/1000], Loss: 8.1845\n",
      "Epoch [83/1000], Loss: 3.2979\n",
      "Epoch [84/1000], Loss: 14.5039\n",
      "Epoch [85/1000], Loss: 6.1414\n",
      "Epoch [86/1000], Loss: 8.3173\n",
      "Epoch [87/1000], Loss: 4.9252\n",
      "Epoch [88/1000], Loss: 1.6238\n",
      "Epoch [89/1000], Loss: 17.9519\n",
      "Epoch [90/1000], Loss: 2.7235\n",
      "Epoch [91/1000], Loss: 19.7737\n",
      "Epoch [92/1000], Loss: 8.7329\n",
      "Epoch [93/1000], Loss: 2.2624\n",
      "Epoch [94/1000], Loss: 39.3064\n",
      "Epoch [95/1000], Loss: 9.1991\n",
      "Epoch [96/1000], Loss: 3.8383\n",
      "Epoch [97/1000], Loss: 10.5639\n",
      "Epoch [98/1000], Loss: 7.2928\n",
      "Epoch [99/1000], Loss: 16.2917\n",
      "Epoch [100/1000], Loss: 5.4290\n",
      "Epoch [101/1000], Loss: 6.8964\n",
      "Epoch [102/1000], Loss: 7.4677\n",
      "Epoch [103/1000], Loss: 5.0297\n",
      "Epoch [104/1000], Loss: 17.2965\n",
      "Epoch [105/1000], Loss: 10.4286\n",
      "Epoch [106/1000], Loss: 4.7385\n",
      "Epoch [107/1000], Loss: 5.3666\n",
      "Epoch [108/1000], Loss: 7.0070\n",
      "Epoch [109/1000], Loss: 3.2034\n",
      "Epoch [110/1000], Loss: 8.6746\n",
      "Epoch [111/1000], Loss: 5.5679\n",
      "Epoch [112/1000], Loss: 3.7532\n",
      "Epoch [113/1000], Loss: 3.3026\n",
      "Epoch [114/1000], Loss: 7.2162\n",
      "Epoch [115/1000], Loss: 1.4877\n",
      "Epoch [116/1000], Loss: 3.4734\n",
      "Epoch [117/1000], Loss: 1.3994\n",
      "Epoch [118/1000], Loss: 8.8094\n",
      "Epoch [119/1000], Loss: 17.9812\n",
      "Epoch [120/1000], Loss: 2.2731\n",
      "Epoch [121/1000], Loss: 2.6089\n",
      "Epoch [122/1000], Loss: 10.4233\n",
      "Epoch [123/1000], Loss: 4.3907\n",
      "Epoch [124/1000], Loss: 3.1889\n",
      "Epoch [125/1000], Loss: 9.0881\n",
      "Epoch [126/1000], Loss: 5.3214\n",
      "Epoch [127/1000], Loss: 7.3044\n",
      "Epoch [128/1000], Loss: 3.3031\n",
      "Epoch [129/1000], Loss: 9.5982\n",
      "Epoch [130/1000], Loss: 6.6592\n",
      "Epoch [131/1000], Loss: 1.8739\n",
      "Epoch [132/1000], Loss: 25.1924\n",
      "Epoch [133/1000], Loss: 4.5037\n",
      "Epoch [134/1000], Loss: 4.6168\n",
      "Epoch [135/1000], Loss: 8.9398\n",
      "Epoch [136/1000], Loss: 12.5139\n",
      "Epoch [137/1000], Loss: 2.1965\n",
      "Epoch [138/1000], Loss: 3.3215\n",
      "Epoch [139/1000], Loss: 4.8048\n",
      "Epoch [140/1000], Loss: 7.0520\n",
      "Epoch [141/1000], Loss: 8.0446\n",
      "Epoch [142/1000], Loss: 6.8681\n",
      "Epoch [143/1000], Loss: 1.6188\n",
      "Epoch [144/1000], Loss: 6.4657\n",
      "Epoch [145/1000], Loss: 16.5183\n",
      "Epoch [146/1000], Loss: 41.0717\n",
      "Epoch [147/1000], Loss: 8.4300\n",
      "Epoch [148/1000], Loss: 9.7806\n",
      "Epoch [149/1000], Loss: 14.6767\n",
      "Epoch [150/1000], Loss: 8.4993\n",
      "Epoch [151/1000], Loss: 5.0097\n",
      "Epoch [152/1000], Loss: 2.4870\n",
      "Epoch [153/1000], Loss: 1.5854\n",
      "Epoch [154/1000], Loss: 9.6413\n",
      "Epoch [155/1000], Loss: 21.8930\n",
      "Epoch [156/1000], Loss: 1.9773\n",
      "Epoch [157/1000], Loss: 8.8558\n",
      "Epoch [158/1000], Loss: 6.1770\n",
      "Epoch [159/1000], Loss: 11.8205\n",
      "Epoch [160/1000], Loss: 9.8863\n",
      "Epoch [161/1000], Loss: 5.7361\n",
      "Epoch [162/1000], Loss: 7.9821\n",
      "Epoch [163/1000], Loss: 9.6577\n",
      "Epoch [164/1000], Loss: 3.1174\n",
      "Epoch [165/1000], Loss: 7.4314\n",
      "Epoch [166/1000], Loss: 7.4730\n",
      "Epoch [167/1000], Loss: 5.6947\n",
      "Epoch [168/1000], Loss: 13.8325\n",
      "Epoch [169/1000], Loss: 6.9328\n",
      "Epoch [170/1000], Loss: 6.2635\n",
      "Epoch [171/1000], Loss: 5.4947\n",
      "Epoch [172/1000], Loss: 39.9216\n",
      "Epoch [173/1000], Loss: 6.5125\n",
      "Epoch [174/1000], Loss: 4.0980\n",
      "Epoch [175/1000], Loss: 13.7347\n",
      "Epoch [176/1000], Loss: 3.7084\n",
      "Epoch [177/1000], Loss: 8.0740\n",
      "Epoch [178/1000], Loss: 6.4752\n",
      "Epoch [179/1000], Loss: 6.2982\n",
      "Epoch [180/1000], Loss: 4.6216\n",
      "Epoch [181/1000], Loss: 2.8702\n",
      "Epoch [182/1000], Loss: 11.4251\n",
      "Epoch [183/1000], Loss: 6.1967\n",
      "Epoch [184/1000], Loss: 6.1161\n",
      "Epoch [185/1000], Loss: 2.3060\n",
      "Epoch [186/1000], Loss: 7.9289\n",
      "Epoch [187/1000], Loss: 3.2732\n",
      "Epoch [188/1000], Loss: 9.6078\n",
      "Epoch [189/1000], Loss: 5.4452\n",
      "Epoch [190/1000], Loss: 4.5999\n",
      "Epoch [191/1000], Loss: 7.2692\n",
      "Epoch [192/1000], Loss: 9.4779\n",
      "Epoch [193/1000], Loss: 6.5414\n",
      "Epoch [194/1000], Loss: 11.5201\n",
      "Epoch [195/1000], Loss: 4.2528\n",
      "Epoch [196/1000], Loss: 4.6751\n",
      "Epoch [197/1000], Loss: 2.5402\n",
      "Epoch [198/1000], Loss: 6.1879\n",
      "Epoch [199/1000], Loss: 4.0141\n",
      "Epoch [200/1000], Loss: 5.1109\n",
      "Epoch [201/1000], Loss: 9.4818\n",
      "Epoch [202/1000], Loss: 4.6373\n",
      "Epoch [203/1000], Loss: 7.5157\n",
      "Epoch [204/1000], Loss: 5.0684\n",
      "Epoch [205/1000], Loss: 9.6835\n",
      "Epoch [206/1000], Loss: 9.7343\n",
      "Epoch [207/1000], Loss: 0.9496\n",
      "Epoch [208/1000], Loss: 2.2441\n",
      "Epoch [209/1000], Loss: 5.3823\n",
      "Epoch [210/1000], Loss: 28.6615\n",
      "Epoch [211/1000], Loss: 6.1306\n",
      "Epoch [212/1000], Loss: 18.9532\n",
      "Epoch [213/1000], Loss: 3.6766\n",
      "Epoch [214/1000], Loss: 6.1731\n",
      "Epoch [215/1000], Loss: 7.1356\n",
      "Epoch [216/1000], Loss: 20.4744\n",
      "Epoch [217/1000], Loss: 3.8640\n",
      "Epoch [218/1000], Loss: 12.0097\n",
      "Epoch [219/1000], Loss: 12.7571\n",
      "Epoch [220/1000], Loss: 7.1896\n",
      "Epoch [221/1000], Loss: 10.7628\n",
      "Epoch [222/1000], Loss: 2.5997\n",
      "Epoch [223/1000], Loss: 2.4302\n",
      "Epoch [224/1000], Loss: 5.9795\n",
      "Epoch [225/1000], Loss: 4.7701\n",
      "Epoch [226/1000], Loss: 25.1857\n",
      "Epoch [227/1000], Loss: 9.9607\n",
      "Epoch [228/1000], Loss: 14.5230\n",
      "Epoch [229/1000], Loss: 23.2669\n",
      "Epoch [230/1000], Loss: 19.0997\n",
      "Epoch [231/1000], Loss: 3.4089\n",
      "Epoch [232/1000], Loss: 26.9399\n",
      "Epoch [233/1000], Loss: 8.2152\n",
      "Epoch [234/1000], Loss: 7.7968\n",
      "Epoch [235/1000], Loss: 7.0199\n",
      "Epoch [236/1000], Loss: 3.6399\n",
      "Epoch [237/1000], Loss: 3.7471\n",
      "Epoch [238/1000], Loss: 9.6221\n",
      "Epoch [239/1000], Loss: 15.1944\n",
      "Epoch [240/1000], Loss: 3.6420\n",
      "Epoch [241/1000], Loss: 13.2191\n",
      "Epoch [242/1000], Loss: 5.0782\n",
      "Epoch [243/1000], Loss: 0.8826\n",
      "Epoch [244/1000], Loss: 10.9931\n",
      "Epoch [245/1000], Loss: 4.8579\n",
      "Epoch [246/1000], Loss: 6.3651\n",
      "Epoch [247/1000], Loss: 8.1092\n",
      "Epoch [248/1000], Loss: 9.6544\n",
      "Epoch [249/1000], Loss: 27.9311\n",
      "Epoch [250/1000], Loss: 5.1470\n",
      "Epoch [251/1000], Loss: 7.3987\n",
      "Epoch [252/1000], Loss: 4.9200\n",
      "Epoch [253/1000], Loss: 5.2151\n",
      "Epoch [254/1000], Loss: 13.2754\n",
      "Epoch [255/1000], Loss: 1.5795\n",
      "Epoch [256/1000], Loss: 15.0432\n",
      "Epoch [257/1000], Loss: 2.9399\n",
      "Epoch [258/1000], Loss: 4.9547\n",
      "Epoch [259/1000], Loss: 2.8576\n",
      "Epoch [260/1000], Loss: 3.9834\n",
      "Epoch [261/1000], Loss: 48.7257\n",
      "Epoch [262/1000], Loss: 14.8312\n",
      "Epoch [263/1000], Loss: 3.3489\n",
      "Epoch [264/1000], Loss: 3.9291\n",
      "Epoch [265/1000], Loss: 4.5747\n",
      "Epoch [266/1000], Loss: 3.3780\n",
      "Epoch [267/1000], Loss: 8.6834\n",
      "Epoch [268/1000], Loss: 9.2220\n",
      "Epoch [269/1000], Loss: 54.0583\n",
      "Epoch [270/1000], Loss: 10.9976\n",
      "Epoch [271/1000], Loss: 5.2214\n",
      "Epoch [272/1000], Loss: 2.2441\n",
      "Epoch [273/1000], Loss: 7.6592\n",
      "Epoch [274/1000], Loss: 2.8771\n",
      "Epoch [275/1000], Loss: 13.8741\n",
      "Epoch [276/1000], Loss: 5.9286\n",
      "Epoch [277/1000], Loss: 15.9050\n",
      "Epoch [278/1000], Loss: 2.3773\n",
      "Epoch [279/1000], Loss: 3.1107\n",
      "Epoch [280/1000], Loss: 16.4950\n",
      "Epoch [281/1000], Loss: 6.4655\n",
      "Epoch [282/1000], Loss: 20.7537\n",
      "Epoch [283/1000], Loss: 7.4723\n",
      "Epoch [284/1000], Loss: 4.1866\n",
      "Epoch [285/1000], Loss: 3.5472\n",
      "Epoch [286/1000], Loss: 4.2969\n",
      "Epoch [287/1000], Loss: 9.3172\n",
      "Epoch [288/1000], Loss: 3.5630\n",
      "Epoch [289/1000], Loss: 28.5563\n",
      "Epoch [290/1000], Loss: 0.7504\n",
      "Epoch [291/1000], Loss: 21.7570\n",
      "Epoch [292/1000], Loss: 6.1362\n",
      "Epoch [293/1000], Loss: 15.4088\n",
      "Epoch [294/1000], Loss: 8.0059\n",
      "Epoch [295/1000], Loss: 8.9848\n",
      "Epoch [296/1000], Loss: 3.9342\n",
      "Epoch [297/1000], Loss: 16.2664\n",
      "Epoch [298/1000], Loss: 6.8187\n",
      "Epoch [299/1000], Loss: 7.7513\n",
      "Epoch [300/1000], Loss: 2.1963\n",
      "Epoch [301/1000], Loss: 3.3483\n",
      "Epoch [302/1000], Loss: 8.0605\n",
      "Epoch [303/1000], Loss: 23.6500\n",
      "Epoch [304/1000], Loss: 8.0627\n",
      "Epoch [305/1000], Loss: 7.3823\n",
      "Epoch [306/1000], Loss: 4.7460\n",
      "Epoch [307/1000], Loss: 3.7097\n",
      "Epoch [308/1000], Loss: 4.1664\n",
      "Epoch [309/1000], Loss: 6.3987\n",
      "Epoch [310/1000], Loss: 3.1429\n",
      "Epoch [311/1000], Loss: 2.1088\n",
      "Epoch [312/1000], Loss: 3.6388\n",
      "Epoch [313/1000], Loss: 3.1619\n",
      "Epoch [314/1000], Loss: 8.9090\n",
      "Epoch [315/1000], Loss: 5.6857\n",
      "Epoch [316/1000], Loss: 1.7111\n",
      "Epoch [317/1000], Loss: 14.2604\n",
      "Epoch [318/1000], Loss: 22.4191\n",
      "Epoch [319/1000], Loss: 3.7580\n",
      "Epoch [320/1000], Loss: 6.2056\n",
      "Epoch [321/1000], Loss: 2.8869\n",
      "Epoch [322/1000], Loss: 6.7593\n",
      "Epoch [323/1000], Loss: 13.7951\n",
      "Epoch [324/1000], Loss: 3.3190\n",
      "Epoch [325/1000], Loss: 40.9364\n",
      "Epoch [326/1000], Loss: 2.9830\n",
      "Epoch [327/1000], Loss: 6.4376\n",
      "Epoch [328/1000], Loss: 2.5452\n",
      "Epoch [329/1000], Loss: 5.3418\n",
      "Epoch [330/1000], Loss: 5.0459\n",
      "Epoch [331/1000], Loss: 3.7093\n",
      "Epoch [332/1000], Loss: 2.1926\n",
      "Epoch [333/1000], Loss: 11.2093\n",
      "Epoch [334/1000], Loss: 6.4112\n",
      "Epoch [335/1000], Loss: 1.3755\n",
      "Epoch [336/1000], Loss: 2.7710\n",
      "Epoch [337/1000], Loss: 1.5157\n",
      "Epoch [338/1000], Loss: 9.9140\n",
      "Epoch [339/1000], Loss: 1.4367\n",
      "Epoch [340/1000], Loss: 1.4437\n",
      "Epoch [341/1000], Loss: 5.4670\n",
      "Epoch [342/1000], Loss: 3.8257\n",
      "Epoch [343/1000], Loss: 10.2338\n",
      "Epoch [344/1000], Loss: 6.9152\n",
      "Epoch [345/1000], Loss: 4.7074\n",
      "Epoch [346/1000], Loss: 7.5389\n",
      "Epoch [347/1000], Loss: 6.5737\n",
      "Epoch [348/1000], Loss: 3.5361\n",
      "Epoch [349/1000], Loss: 2.4358\n",
      "Epoch [350/1000], Loss: 2.0971\n",
      "Epoch [351/1000], Loss: 3.1178\n",
      "Epoch [352/1000], Loss: 7.2087\n",
      "Epoch [353/1000], Loss: 8.8765\n",
      "Epoch [354/1000], Loss: 4.8383\n",
      "Epoch [355/1000], Loss: 3.7646\n",
      "Epoch [356/1000], Loss: 3.7453\n",
      "Epoch [357/1000], Loss: 5.5265\n",
      "Epoch [358/1000], Loss: 2.2930\n",
      "Epoch [359/1000], Loss: 8.3449\n",
      "Epoch [360/1000], Loss: 2.4369\n",
      "Epoch [361/1000], Loss: 6.6620\n",
      "Epoch [362/1000], Loss: 3.0533\n",
      "Epoch [363/1000], Loss: 0.9011\n",
      "Epoch [364/1000], Loss: 6.4738\n",
      "Epoch [365/1000], Loss: 7.5483\n",
      "Epoch [366/1000], Loss: 5.2989\n",
      "Epoch [367/1000], Loss: 13.4677\n",
      "Epoch [368/1000], Loss: 14.0718\n",
      "Epoch [369/1000], Loss: 2.6327\n",
      "Epoch [370/1000], Loss: 3.3059\n",
      "Epoch [371/1000], Loss: 35.4557\n",
      "Epoch [372/1000], Loss: 8.3973\n",
      "Epoch [373/1000], Loss: 2.4773\n",
      "Epoch [374/1000], Loss: 7.1079\n",
      "Epoch [375/1000], Loss: 5.7469\n",
      "Epoch [376/1000], Loss: 5.8638\n",
      "Epoch [377/1000], Loss: 6.9511\n",
      "Epoch [378/1000], Loss: 0.9187\n",
      "Epoch [379/1000], Loss: 18.6293\n",
      "Epoch [380/1000], Loss: 6.6577\n",
      "Epoch [381/1000], Loss: 5.0309\n",
      "Epoch [382/1000], Loss: 4.8195\n",
      "Epoch [383/1000], Loss: 3.3579\n",
      "Epoch [384/1000], Loss: 6.7825\n",
      "Epoch [385/1000], Loss: 14.9376\n",
      "Epoch [386/1000], Loss: 14.4790\n",
      "Epoch [387/1000], Loss: 2.5193\n",
      "Epoch [388/1000], Loss: 11.1540\n",
      "Epoch [389/1000], Loss: 3.6299\n",
      "Epoch [390/1000], Loss: 0.7652\n",
      "Epoch [391/1000], Loss: 3.1603\n",
      "Epoch [392/1000], Loss: 1.1632\n",
      "Epoch [393/1000], Loss: 7.8353\n",
      "Epoch [394/1000], Loss: 2.0240\n",
      "Epoch [395/1000], Loss: 3.2230\n",
      "Epoch [396/1000], Loss: 8.7768\n",
      "Epoch [397/1000], Loss: 6.5585\n",
      "Epoch [398/1000], Loss: 5.6199\n",
      "Epoch [399/1000], Loss: 11.6863\n",
      "Epoch [400/1000], Loss: 3.1567\n",
      "Epoch [401/1000], Loss: 5.0036\n",
      "Epoch [402/1000], Loss: 12.7362\n",
      "Epoch [403/1000], Loss: 11.6324\n",
      "Epoch [404/1000], Loss: 14.8426\n",
      "Epoch [405/1000], Loss: 3.5800\n",
      "Epoch [406/1000], Loss: 3.4162\n",
      "Epoch [407/1000], Loss: 3.9725\n",
      "Epoch [408/1000], Loss: 2.2165\n",
      "Epoch [409/1000], Loss: 4.0142\n",
      "Epoch [410/1000], Loss: 3.3514\n",
      "Epoch [411/1000], Loss: 17.0350\n",
      "Epoch [412/1000], Loss: 3.3903\n",
      "Epoch [413/1000], Loss: 1.2870\n",
      "Epoch [414/1000], Loss: 2.6445\n",
      "Epoch [415/1000], Loss: 5.8899\n",
      "Epoch [416/1000], Loss: 4.2329\n",
      "Epoch [417/1000], Loss: 6.4762\n",
      "Epoch [418/1000], Loss: 1.6209\n",
      "Epoch [419/1000], Loss: 7.2326\n",
      "Epoch [420/1000], Loss: 3.6787\n",
      "Epoch [421/1000], Loss: 3.3257\n",
      "Epoch [422/1000], Loss: 10.3256\n",
      "Epoch [423/1000], Loss: 3.6121\n",
      "Epoch [424/1000], Loss: 2.6025\n",
      "Epoch [425/1000], Loss: 11.8007\n",
      "Epoch [426/1000], Loss: 6.5482\n",
      "Epoch [427/1000], Loss: 4.3753\n",
      "Epoch [428/1000], Loss: 6.1259\n",
      "Epoch [429/1000], Loss: 3.3873\n",
      "Epoch [430/1000], Loss: 1.4285\n",
      "Epoch [431/1000], Loss: 3.9347\n",
      "Epoch [432/1000], Loss: 3.4700\n",
      "Epoch [433/1000], Loss: 7.4552\n",
      "Epoch [434/1000], Loss: 3.1478\n",
      "Epoch [435/1000], Loss: 7.4040\n",
      "Epoch [436/1000], Loss: 9.4902\n",
      "Epoch [437/1000], Loss: 0.6364\n",
      "Epoch [438/1000], Loss: 2.9090\n",
      "Epoch [439/1000], Loss: 2.6466\n",
      "Epoch [440/1000], Loss: 32.3397\n",
      "Epoch [441/1000], Loss: 0.7591\n",
      "Epoch [442/1000], Loss: 25.6514\n",
      "Epoch [443/1000], Loss: 0.6209\n",
      "Epoch [444/1000], Loss: 3.0524\n",
      "Epoch [445/1000], Loss: 5.4731\n",
      "Epoch [446/1000], Loss: 10.3491\n",
      "Epoch [447/1000], Loss: 5.4054\n",
      "Epoch [448/1000], Loss: 1.8394\n",
      "Epoch [449/1000], Loss: 2.8981\n",
      "Epoch [450/1000], Loss: 2.8413\n",
      "Epoch [451/1000], Loss: 3.1874\n",
      "Epoch [452/1000], Loss: 5.5733\n",
      "Epoch [453/1000], Loss: 3.0136\n",
      "Epoch [454/1000], Loss: 1.4032\n",
      "Epoch [455/1000], Loss: 3.0190\n",
      "Epoch [456/1000], Loss: 1.9751\n",
      "Epoch [457/1000], Loss: 10.8604\n",
      "Epoch [458/1000], Loss: 2.3806\n",
      "Epoch [459/1000], Loss: 3.9287\n",
      "Epoch [460/1000], Loss: 5.9159\n",
      "Epoch [461/1000], Loss: 3.5454\n",
      "Epoch [462/1000], Loss: 3.8061\n",
      "Epoch [463/1000], Loss: 1.0430\n",
      "Epoch [464/1000], Loss: 6.1903\n",
      "Epoch [465/1000], Loss: 4.0038\n",
      "Epoch [466/1000], Loss: 1.6382\n",
      "Epoch [467/1000], Loss: 5.6720\n",
      "Epoch [468/1000], Loss: 3.7951\n",
      "Epoch [469/1000], Loss: 1.8372\n",
      "Epoch [470/1000], Loss: 5.6128\n",
      "Epoch [471/1000], Loss: 4.9780\n",
      "Epoch [472/1000], Loss: 0.9357\n",
      "Epoch [473/1000], Loss: 4.0034\n",
      "Epoch [474/1000], Loss: 5.3040\n",
      "Epoch [475/1000], Loss: 5.5144\n",
      "Epoch [476/1000], Loss: 3.8032\n",
      "Epoch [477/1000], Loss: 8.8819\n",
      "Epoch [478/1000], Loss: 4.6054\n",
      "Epoch [479/1000], Loss: 3.2388\n",
      "Epoch [480/1000], Loss: 0.8108\n",
      "Epoch [481/1000], Loss: 6.6904\n",
      "Epoch [482/1000], Loss: 4.7161\n",
      "Epoch [483/1000], Loss: 2.5507\n",
      "Epoch [484/1000], Loss: 5.7163\n",
      "Epoch [485/1000], Loss: 2.4080\n",
      "Epoch [486/1000], Loss: 5.8683\n",
      "Epoch [487/1000], Loss: 17.7652\n",
      "Epoch [488/1000], Loss: 2.4732\n",
      "Epoch [489/1000], Loss: 4.5728\n",
      "Epoch [490/1000], Loss: 2.4121\n",
      "Epoch [491/1000], Loss: 0.5761\n",
      "Epoch [492/1000], Loss: 10.3533\n",
      "Epoch [493/1000], Loss: 1.9913\n",
      "Epoch [494/1000], Loss: 6.1713\n",
      "Epoch [495/1000], Loss: 2.3493\n",
      "Epoch [496/1000], Loss: 4.8660\n",
      "Epoch [497/1000], Loss: 18.0024\n",
      "Epoch [498/1000], Loss: 10.3713\n",
      "Epoch [499/1000], Loss: 2.3784\n",
      "Epoch [500/1000], Loss: 2.2853\n",
      "Epoch [501/1000], Loss: 2.1916\n",
      "Epoch [502/1000], Loss: 0.8033\n",
      "Epoch [503/1000], Loss: 2.5525\n",
      "Epoch [504/1000], Loss: 4.9490\n",
      "Epoch [505/1000], Loss: 7.1900\n",
      "Epoch [506/1000], Loss: 5.8047\n",
      "Epoch [507/1000], Loss: 4.2349\n",
      "Epoch [508/1000], Loss: 9.3142\n",
      "Epoch [509/1000], Loss: 5.1068\n",
      "Epoch [510/1000], Loss: 4.4645\n",
      "Epoch [511/1000], Loss: 3.0744\n",
      "Epoch [512/1000], Loss: 5.7408\n",
      "Epoch [513/1000], Loss: 26.6389\n",
      "Epoch [514/1000], Loss: 8.5158\n",
      "Epoch [515/1000], Loss: 5.5362\n",
      "Epoch [516/1000], Loss: 11.7935\n",
      "Epoch [517/1000], Loss: 2.1504\n",
      "Epoch [518/1000], Loss: 2.3017\n",
      "Epoch [519/1000], Loss: 10.1067\n",
      "Epoch [520/1000], Loss: 1.2563\n",
      "Epoch [521/1000], Loss: 9.9277\n",
      "Epoch [522/1000], Loss: 2.1727\n",
      "Epoch [523/1000], Loss: 2.7228\n",
      "Epoch [524/1000], Loss: 4.1583\n",
      "Epoch [525/1000], Loss: 8.7337\n",
      "Epoch [526/1000], Loss: 2.4963\n",
      "Epoch [527/1000], Loss: 4.0131\n",
      "Epoch [528/1000], Loss: 3.2229\n",
      "Epoch [529/1000], Loss: 4.3465\n",
      "Epoch [530/1000], Loss: 6.3544\n",
      "Epoch [531/1000], Loss: 2.0744\n",
      "Epoch [532/1000], Loss: 1.9541\n",
      "Epoch [533/1000], Loss: 7.8095\n",
      "Epoch [534/1000], Loss: 4.3043\n",
      "Epoch [535/1000], Loss: 3.1867\n",
      "Epoch [536/1000], Loss: 4.0623\n",
      "Epoch [537/1000], Loss: 2.7938\n",
      "Epoch [538/1000], Loss: 4.7996\n",
      "Epoch [539/1000], Loss: 10.6353\n",
      "Epoch [540/1000], Loss: 7.3342\n",
      "Epoch [541/1000], Loss: 6.8099\n",
      "Epoch [542/1000], Loss: 1.4994\n",
      "Epoch [543/1000], Loss: 2.0227\n",
      "Epoch [544/1000], Loss: 10.6375\n",
      "Epoch [545/1000], Loss: 7.5404\n",
      "Epoch [546/1000], Loss: 1.3035\n",
      "Epoch [547/1000], Loss: 4.0157\n",
      "Epoch [548/1000], Loss: 1.8529\n",
      "Epoch [549/1000], Loss: 2.8599\n",
      "Epoch [550/1000], Loss: 10.3487\n",
      "Epoch [551/1000], Loss: 2.5700\n",
      "Epoch [552/1000], Loss: 0.6217\n",
      "Epoch [553/1000], Loss: 3.6738\n",
      "Epoch [554/1000], Loss: 1.2010\n",
      "Epoch [555/1000], Loss: 3.2070\n",
      "Epoch [556/1000], Loss: 2.9506\n",
      "Epoch [557/1000], Loss: 9.2538\n",
      "Epoch [558/1000], Loss: 11.6949\n",
      "Epoch [559/1000], Loss: 8.3532\n",
      "Epoch [560/1000], Loss: 4.7938\n",
      "Epoch [561/1000], Loss: 5.5387\n",
      "Epoch [562/1000], Loss: 3.8035\n",
      "Epoch [563/1000], Loss: 1.5644\n",
      "Epoch [564/1000], Loss: 4.4085\n",
      "Epoch [565/1000], Loss: 6.3395\n",
      "Epoch [566/1000], Loss: 5.9527\n",
      "Epoch [567/1000], Loss: 2.5287\n",
      "Epoch [568/1000], Loss: 10.3748\n",
      "Epoch [569/1000], Loss: 7.9124\n",
      "Epoch [570/1000], Loss: 1.5936\n",
      "Epoch [571/1000], Loss: 3.5932\n",
      "Epoch [572/1000], Loss: 4.7388\n",
      "Epoch [573/1000], Loss: 3.5410\n",
      "Epoch [574/1000], Loss: 6.5127\n",
      "Epoch [575/1000], Loss: 1.4807\n",
      "Epoch [576/1000], Loss: 3.4319\n",
      "Epoch [577/1000], Loss: 3.0960\n",
      "Epoch [578/1000], Loss: 4.4939\n",
      "Epoch [579/1000], Loss: 8.5223\n",
      "Epoch [580/1000], Loss: 13.9755\n",
      "Epoch [581/1000], Loss: 2.9232\n",
      "Epoch [582/1000], Loss: 1.5485\n",
      "Epoch [583/1000], Loss: 6.4787\n",
      "Epoch [584/1000], Loss: 4.0405\n",
      "Epoch [585/1000], Loss: 0.6774\n",
      "Epoch [586/1000], Loss: 4.5683\n",
      "Epoch [587/1000], Loss: 3.0208\n",
      "Epoch [588/1000], Loss: 26.7182\n",
      "Epoch [589/1000], Loss: 7.9805\n",
      "Epoch [590/1000], Loss: 0.4506\n",
      "Epoch [591/1000], Loss: 6.8357\n",
      "Epoch [592/1000], Loss: 2.4964\n",
      "Epoch [593/1000], Loss: 1.6230\n",
      "Epoch [594/1000], Loss: 4.6442\n",
      "Epoch [595/1000], Loss: 12.0575\n",
      "Epoch [596/1000], Loss: 3.7191\n",
      "Epoch [597/1000], Loss: 1.9733\n",
      "Epoch [598/1000], Loss: 6.6275\n",
      "Epoch [599/1000], Loss: 6.2905\n",
      "Epoch [600/1000], Loss: 3.7272\n",
      "Epoch [601/1000], Loss: 3.2371\n",
      "Epoch [602/1000], Loss: 2.0267\n",
      "Epoch [603/1000], Loss: 2.7595\n",
      "Epoch [604/1000], Loss: 3.1777\n",
      "Epoch [605/1000], Loss: 5.3666\n",
      "Epoch [606/1000], Loss: 2.6567\n",
      "Epoch [607/1000], Loss: 6.2389\n",
      "Epoch [608/1000], Loss: 8.9214\n",
      "Epoch [609/1000], Loss: 1.4258\n",
      "Epoch [610/1000], Loss: 1.7089\n",
      "Epoch [611/1000], Loss: 1.6097\n",
      "Epoch [612/1000], Loss: 3.7822\n",
      "Epoch [613/1000], Loss: 1.7491\n",
      "Epoch [614/1000], Loss: 0.8668\n",
      "Epoch [615/1000], Loss: 5.4867\n",
      "Epoch [616/1000], Loss: 3.9613\n",
      "Epoch [617/1000], Loss: 7.0031\n",
      "Epoch [618/1000], Loss: 4.4079\n",
      "Epoch [619/1000], Loss: 1.8560\n",
      "Epoch [620/1000], Loss: 9.6247\n",
      "Epoch [621/1000], Loss: 9.6233\n",
      "Epoch [622/1000], Loss: 24.9958\n",
      "Epoch [623/1000], Loss: 2.6893\n",
      "Epoch [624/1000], Loss: 3.2290\n",
      "Epoch [625/1000], Loss: 9.3552\n",
      "Epoch [626/1000], Loss: 1.0054\n",
      "Epoch [627/1000], Loss: 2.2276\n",
      "Epoch [628/1000], Loss: 6.8400\n",
      "Epoch [629/1000], Loss: 0.9581\n",
      "Epoch [630/1000], Loss: 1.8322\n",
      "Epoch [631/1000], Loss: 5.8149\n",
      "Epoch [632/1000], Loss: 7.1168\n",
      "Epoch [633/1000], Loss: 5.1135\n",
      "Epoch [634/1000], Loss: 6.6556\n",
      "Epoch [635/1000], Loss: 3.8276\n",
      "Epoch [636/1000], Loss: 1.5568\n",
      "Epoch [637/1000], Loss: 1.1677\n",
      "Epoch [638/1000], Loss: 17.1095\n",
      "Epoch [639/1000], Loss: 2.0698\n",
      "Epoch [640/1000], Loss: 3.2236\n",
      "Epoch [641/1000], Loss: 1.5046\n",
      "Epoch [642/1000], Loss: 4.8820\n",
      "Epoch [643/1000], Loss: 10.8420\n",
      "Epoch [644/1000], Loss: 4.6876\n",
      "Epoch [645/1000], Loss: 4.0365\n",
      "Epoch [646/1000], Loss: 2.6621\n",
      "Epoch [647/1000], Loss: 2.0999\n",
      "Epoch [648/1000], Loss: 9.5274\n",
      "Epoch [649/1000], Loss: 3.8499\n",
      "Epoch [650/1000], Loss: 3.2224\n",
      "Epoch [651/1000], Loss: 3.6365\n",
      "Epoch [652/1000], Loss: 8.7030\n",
      "Epoch [653/1000], Loss: 0.8400\n",
      "Epoch [654/1000], Loss: 3.9509\n",
      "Epoch [655/1000], Loss: 4.6360\n",
      "Epoch [656/1000], Loss: 11.1042\n",
      "Epoch [657/1000], Loss: 2.1726\n",
      "Epoch [658/1000], Loss: 1.4165\n",
      "Epoch [659/1000], Loss: 3.4306\n",
      "Epoch [660/1000], Loss: 1.1647\n",
      "Epoch [661/1000], Loss: 5.5437\n",
      "Epoch [662/1000], Loss: 8.2674\n",
      "Epoch [663/1000], Loss: 2.5104\n",
      "Epoch [664/1000], Loss: 3.5841\n",
      "Epoch [665/1000], Loss: 2.8830\n",
      "Epoch [666/1000], Loss: 3.2295\n",
      "Epoch [667/1000], Loss: 2.5381\n",
      "Epoch [668/1000], Loss: 2.5962\n",
      "Epoch [669/1000], Loss: 4.3893\n",
      "Epoch [670/1000], Loss: 6.1947\n",
      "Epoch [671/1000], Loss: 8.7172\n",
      "Epoch [672/1000], Loss: 3.0778\n",
      "Epoch [673/1000], Loss: 10.8768\n",
      "Epoch [674/1000], Loss: 3.2470\n",
      "Epoch [675/1000], Loss: 2.7778\n",
      "Epoch [676/1000], Loss: 2.9121\n",
      "Epoch [677/1000], Loss: 1.6670\n",
      "Epoch [678/1000], Loss: 2.1616\n",
      "Epoch [679/1000], Loss: 2.8066\n",
      "Epoch [680/1000], Loss: 5.1459\n",
      "Epoch [681/1000], Loss: 4.1165\n",
      "Epoch [682/1000], Loss: 6.4294\n",
      "Epoch [683/1000], Loss: 0.8234\n",
      "Epoch [684/1000], Loss: 3.2881\n",
      "Epoch [685/1000], Loss: 1.6596\n",
      "Epoch [686/1000], Loss: 4.6214\n",
      "Epoch [687/1000], Loss: 8.4839\n",
      "Epoch [688/1000], Loss: 4.7991\n",
      "Epoch [689/1000], Loss: 2.8911\n",
      "Epoch [690/1000], Loss: 5.3604\n",
      "Epoch [691/1000], Loss: 10.5773\n",
      "Epoch [692/1000], Loss: 2.2138\n",
      "Epoch [693/1000], Loss: 2.6236\n",
      "Epoch [694/1000], Loss: 3.5085\n",
      "Epoch [695/1000], Loss: 6.1416\n",
      "Epoch [696/1000], Loss: 17.5318\n",
      "Epoch [697/1000], Loss: 1.4585\n",
      "Epoch [698/1000], Loss: 5.3301\n",
      "Epoch [699/1000], Loss: 6.2925\n",
      "Epoch [700/1000], Loss: 12.1563\n",
      "Epoch [701/1000], Loss: 2.5156\n",
      "Epoch [702/1000], Loss: 3.8563\n",
      "Epoch [703/1000], Loss: 1.3497\n",
      "Epoch [704/1000], Loss: 10.2237\n",
      "Epoch [705/1000], Loss: 3.8213\n",
      "Epoch [706/1000], Loss: 4.2023\n",
      "Epoch [707/1000], Loss: 3.5728\n",
      "Epoch [708/1000], Loss: 6.9020\n",
      "Epoch [709/1000], Loss: 6.8552\n",
      "Epoch [710/1000], Loss: 1.7674\n",
      "Epoch [711/1000], Loss: 5.2754\n",
      "Epoch [712/1000], Loss: 3.1400\n",
      "Epoch [713/1000], Loss: 5.8541\n",
      "Epoch [714/1000], Loss: 1.8099\n",
      "Epoch [715/1000], Loss: 3.3584\n",
      "Epoch [716/1000], Loss: 4.4720\n",
      "Epoch [717/1000], Loss: 5.9621\n",
      "Epoch [718/1000], Loss: 5.0432\n",
      "Epoch [719/1000], Loss: 2.5236\n",
      "Epoch [720/1000], Loss: 5.3529\n",
      "Epoch [721/1000], Loss: 3.8707\n",
      "Epoch [722/1000], Loss: 0.9565\n",
      "Epoch [723/1000], Loss: 3.0197\n",
      "Epoch [724/1000], Loss: 1.5974\n",
      "Epoch [725/1000], Loss: 3.7742\n",
      "Epoch [726/1000], Loss: 7.1516\n",
      "Epoch [727/1000], Loss: 6.5187\n",
      "Epoch [728/1000], Loss: 4.2104\n",
      "Epoch [729/1000], Loss: 9.2739\n",
      "Epoch [730/1000], Loss: 7.8852\n",
      "Epoch [731/1000], Loss: 22.0930\n",
      "Epoch [732/1000], Loss: 4.3720\n",
      "Epoch [733/1000], Loss: 3.0402\n",
      "Epoch [734/1000], Loss: 20.6228\n",
      "Epoch [735/1000], Loss: 1.4520\n",
      "Epoch [736/1000], Loss: 3.1486\n",
      "Epoch [737/1000], Loss: 13.1548\n",
      "Epoch [738/1000], Loss: 2.8656\n",
      "Epoch [739/1000], Loss: 5.0962\n",
      "Epoch [740/1000], Loss: 10.1349\n",
      "Epoch [741/1000], Loss: 1.7070\n",
      "Epoch [742/1000], Loss: 2.3478\n",
      "Epoch [743/1000], Loss: 1.6649\n",
      "Epoch [744/1000], Loss: 2.7523\n",
      "Epoch [745/1000], Loss: 6.9210\n",
      "Epoch [746/1000], Loss: 9.1798\n",
      "Epoch [747/1000], Loss: 2.8707\n",
      "Epoch [748/1000], Loss: 1.6597\n",
      "Epoch [749/1000], Loss: 1.8091\n",
      "Epoch [750/1000], Loss: 1.3432\n",
      "Epoch [751/1000], Loss: 4.5001\n",
      "Epoch [752/1000], Loss: 0.9762\n",
      "Epoch [753/1000], Loss: 2.3603\n",
      "Epoch [754/1000], Loss: 2.3012\n",
      "Epoch [755/1000], Loss: 0.8659\n",
      "Epoch [756/1000], Loss: 1.9437\n",
      "Epoch [757/1000], Loss: 6.2317\n",
      "Epoch [758/1000], Loss: 2.2684\n",
      "Epoch [759/1000], Loss: 2.1935\n",
      "Epoch [760/1000], Loss: 4.9481\n",
      "Epoch [761/1000], Loss: 4.1299\n",
      "Epoch [762/1000], Loss: 5.6052\n",
      "Epoch [763/1000], Loss: 1.4009\n",
      "Epoch [764/1000], Loss: 2.8007\n",
      "Epoch [765/1000], Loss: 1.2926\n",
      "Epoch [766/1000], Loss: 7.0590\n",
      "Epoch [767/1000], Loss: 3.0652\n",
      "Epoch [768/1000], Loss: 1.5778\n",
      "Epoch [769/1000], Loss: 2.9772\n",
      "Epoch [770/1000], Loss: 2.4438\n",
      "Epoch [771/1000], Loss: 1.9087\n",
      "Epoch [772/1000], Loss: 4.8383\n",
      "Epoch [773/1000], Loss: 4.1954\n",
      "Epoch [774/1000], Loss: 4.1814\n",
      "Epoch [775/1000], Loss: 4.2176\n",
      "Epoch [776/1000], Loss: 1.6575\n",
      "Epoch [777/1000], Loss: 2.0770\n",
      "Epoch [778/1000], Loss: 5.5566\n",
      "Epoch [779/1000], Loss: 2.9582\n",
      "Epoch [780/1000], Loss: 1.3455\n",
      "Epoch [781/1000], Loss: 2.2246\n",
      "Epoch [782/1000], Loss: 3.7173\n",
      "Epoch [783/1000], Loss: 8.7441\n",
      "Epoch [784/1000], Loss: 4.7900\n",
      "Epoch [785/1000], Loss: 4.6212\n",
      "Epoch [786/1000], Loss: 2.9933\n",
      "Epoch [787/1000], Loss: 7.8390\n",
      "Epoch [788/1000], Loss: 2.7722\n",
      "Epoch [789/1000], Loss: 0.7311\n",
      "Epoch [790/1000], Loss: 2.8607\n",
      "Epoch [791/1000], Loss: 1.6874\n",
      "Epoch [792/1000], Loss: 3.4735\n",
      "Epoch [793/1000], Loss: 1.1153\n",
      "Epoch [794/1000], Loss: 12.1332\n",
      "Epoch [795/1000], Loss: 3.7952\n",
      "Epoch [796/1000], Loss: 1.4037\n",
      "Epoch [797/1000], Loss: 4.2102\n",
      "Epoch [798/1000], Loss: 3.6495\n",
      "Epoch [799/1000], Loss: 8.0380\n",
      "Epoch [800/1000], Loss: 1.6942\n",
      "Epoch [801/1000], Loss: 13.4693\n",
      "Epoch [802/1000], Loss: 2.2291\n",
      "Epoch [803/1000], Loss: 6.1560\n",
      "Epoch [804/1000], Loss: 3.2572\n",
      "Epoch [805/1000], Loss: 2.6902\n",
      "Epoch [806/1000], Loss: 1.7952\n",
      "Epoch [807/1000], Loss: 1.7727\n",
      "Epoch [808/1000], Loss: 2.5938\n",
      "Epoch [809/1000], Loss: 0.6940\n",
      "Epoch [810/1000], Loss: 1.9642\n",
      "Epoch [811/1000], Loss: 3.4227\n",
      "Epoch [812/1000], Loss: 24.2110\n",
      "Epoch [813/1000], Loss: 2.2897\n",
      "Epoch [814/1000], Loss: 2.9956\n",
      "Epoch [815/1000], Loss: 12.7671\n",
      "Epoch [816/1000], Loss: 1.9208\n",
      "Epoch [817/1000], Loss: 3.0682\n",
      "Epoch [818/1000], Loss: 1.9927\n",
      "Epoch [819/1000], Loss: 0.5905\n",
      "Epoch [820/1000], Loss: 1.6174\n",
      "Epoch [821/1000], Loss: 2.5883\n",
      "Epoch [822/1000], Loss: 5.9242\n",
      "Epoch [823/1000], Loss: 1.1672\n",
      "Epoch [824/1000], Loss: 5.0340\n",
      "Epoch [825/1000], Loss: 0.2756\n",
      "Epoch [826/1000], Loss: 4.7090\n",
      "Epoch [827/1000], Loss: 2.7759\n",
      "Epoch [828/1000], Loss: 1.2741\n",
      "Epoch [829/1000], Loss: 12.4585\n",
      "Epoch [830/1000], Loss: 9.8640\n",
      "Epoch [831/1000], Loss: 12.0900\n",
      "Epoch [832/1000], Loss: 8.2175\n",
      "Epoch [833/1000], Loss: 2.2753\n",
      "Epoch [834/1000], Loss: 2.4978\n",
      "Epoch [835/1000], Loss: 1.4345\n",
      "Epoch [836/1000], Loss: 8.4647\n",
      "Epoch [837/1000], Loss: 5.5976\n",
      "Epoch [838/1000], Loss: 8.2797\n",
      "Epoch [839/1000], Loss: 3.4039\n",
      "Epoch [840/1000], Loss: 4.2835\n",
      "Epoch [841/1000], Loss: 1.9869\n",
      "Epoch [842/1000], Loss: 3.4601\n",
      "Epoch [843/1000], Loss: 3.5834\n",
      "Epoch [844/1000], Loss: 1.2260\n",
      "Epoch [845/1000], Loss: 2.0810\n",
      "Epoch [846/1000], Loss: 0.8433\n",
      "Epoch [847/1000], Loss: 4.5663\n",
      "Epoch [848/1000], Loss: 2.2526\n",
      "Epoch [849/1000], Loss: 1.5691\n",
      "Epoch [850/1000], Loss: 0.5395\n",
      "Epoch [851/1000], Loss: 7.7913\n",
      "Epoch [852/1000], Loss: 1.7491\n",
      "Epoch [853/1000], Loss: 2.5935\n",
      "Epoch [854/1000], Loss: 5.3110\n",
      "Epoch [855/1000], Loss: 0.8548\n",
      "Epoch [856/1000], Loss: 2.7235\n",
      "Epoch [857/1000], Loss: 4.6929\n",
      "Epoch [858/1000], Loss: 3.4388\n",
      "Epoch [859/1000], Loss: 1.4256\n",
      "Epoch [860/1000], Loss: 4.6220\n",
      "Epoch [861/1000], Loss: 12.1551\n",
      "Epoch [862/1000], Loss: 3.9728\n",
      "Epoch [863/1000], Loss: 5.2418\n",
      "Epoch [864/1000], Loss: 3.2534\n",
      "Epoch [865/1000], Loss: 21.7557\n",
      "Epoch [866/1000], Loss: 2.8844\n",
      "Epoch [867/1000], Loss: 5.5715\n",
      "Epoch [868/1000], Loss: 2.2732\n",
      "Epoch [869/1000], Loss: 2.5532\n",
      "Epoch [870/1000], Loss: 6.5158\n",
      "Epoch [871/1000], Loss: 0.3422\n",
      "Epoch [872/1000], Loss: 2.9800\n",
      "Epoch [873/1000], Loss: 3.3292\n",
      "Epoch [874/1000], Loss: 2.9273\n",
      "Epoch [875/1000], Loss: 21.8128\n",
      "Epoch [876/1000], Loss: 1.7078\n",
      "Epoch [877/1000], Loss: 6.6034\n",
      "Epoch [878/1000], Loss: 2.1362\n",
      "Epoch [879/1000], Loss: 2.0055\n",
      "Epoch [880/1000], Loss: 3.1321\n",
      "Epoch [881/1000], Loss: 2.8245\n",
      "Epoch [882/1000], Loss: 5.0834\n",
      "Epoch [883/1000], Loss: 0.9628\n",
      "Epoch [884/1000], Loss: 2.9672\n",
      "Epoch [885/1000], Loss: 1.0065\n",
      "Epoch [886/1000], Loss: 1.6119\n",
      "Epoch [887/1000], Loss: 1.9072\n",
      "Epoch [888/1000], Loss: 3.4309\n",
      "Epoch [889/1000], Loss: 0.5929\n",
      "Epoch [890/1000], Loss: 5.7460\n",
      "Epoch [891/1000], Loss: 3.2681\n",
      "Epoch [892/1000], Loss: 3.9181\n",
      "Epoch [893/1000], Loss: 3.1898\n",
      "Epoch [894/1000], Loss: 5.6531\n",
      "Epoch [895/1000], Loss: 1.6996\n",
      "Epoch [896/1000], Loss: 1.8005\n",
      "Epoch [897/1000], Loss: 18.1904\n",
      "Epoch [898/1000], Loss: 5.3559\n",
      "Epoch [899/1000], Loss: 3.4734\n",
      "Epoch [900/1000], Loss: 2.7677\n",
      "Epoch [901/1000], Loss: 1.0263\n",
      "Epoch [902/1000], Loss: 3.9518\n",
      "Epoch [903/1000], Loss: 2.3107\n",
      "Epoch [904/1000], Loss: 1.8513\n",
      "Epoch [905/1000], Loss: 3.0000\n",
      "Epoch [906/1000], Loss: 4.1075\n",
      "Epoch [907/1000], Loss: 2.0449\n",
      "Epoch [908/1000], Loss: 2.2946\n",
      "Epoch [909/1000], Loss: 2.6540\n",
      "Epoch [910/1000], Loss: 1.2330\n",
      "Epoch [911/1000], Loss: 8.6175\n",
      "Epoch [912/1000], Loss: 2.0758\n",
      "Epoch [913/1000], Loss: 6.8151\n",
      "Epoch [914/1000], Loss: 1.9996\n",
      "Epoch [915/1000], Loss: 2.3084\n",
      "Epoch [916/1000], Loss: 2.0819\n",
      "Epoch [917/1000], Loss: 4.8449\n",
      "Epoch [918/1000], Loss: 2.1414\n",
      "Epoch [919/1000], Loss: 1.3019\n",
      "Epoch [920/1000], Loss: 5.7327\n",
      "Epoch [921/1000], Loss: 6.4546\n",
      "Epoch [922/1000], Loss: 0.6269\n",
      "Epoch [923/1000], Loss: 2.1020\n",
      "Epoch [924/1000], Loss: 2.0292\n",
      "Epoch [925/1000], Loss: 5.8074\n",
      "Epoch [926/1000], Loss: 3.0075\n",
      "Epoch [927/1000], Loss: 5.9967\n",
      "Epoch [928/1000], Loss: 4.2788\n",
      "Epoch [929/1000], Loss: 7.5389\n",
      "Epoch [930/1000], Loss: 2.0212\n",
      "Epoch [931/1000], Loss: 0.7808\n",
      "Epoch [932/1000], Loss: 11.9927\n",
      "Epoch [933/1000], Loss: 1.3768\n",
      "Epoch [934/1000], Loss: 1.8529\n",
      "Epoch [935/1000], Loss: 1.7686\n",
      "Epoch [936/1000], Loss: 1.1227\n",
      "Epoch [937/1000], Loss: 2.3033\n",
      "Epoch [938/1000], Loss: 1.5976\n",
      "Epoch [939/1000], Loss: 0.9367\n",
      "Epoch [940/1000], Loss: 2.2557\n",
      "Epoch [941/1000], Loss: 2.0641\n",
      "Epoch [942/1000], Loss: 1.8504\n",
      "Epoch [943/1000], Loss: 3.9405\n",
      "Epoch [944/1000], Loss: 3.8970\n",
      "Epoch [945/1000], Loss: 2.4410\n",
      "Epoch [946/1000], Loss: 3.4303\n",
      "Epoch [947/1000], Loss: 1.0250\n",
      "Epoch [948/1000], Loss: 3.9437\n",
      "Epoch [949/1000], Loss: 2.6808\n",
      "Epoch [950/1000], Loss: 11.3097\n",
      "Epoch [951/1000], Loss: 7.2882\n",
      "Epoch [952/1000], Loss: 2.5902\n",
      "Epoch [953/1000], Loss: 1.4975\n",
      "Epoch [954/1000], Loss: 1.8708\n",
      "Epoch [955/1000], Loss: 3.3611\n",
      "Epoch [956/1000], Loss: 3.4950\n",
      "Epoch [957/1000], Loss: 4.4053\n",
      "Epoch [958/1000], Loss: 12.9858\n",
      "Epoch [959/1000], Loss: 1.3226\n",
      "Epoch [960/1000], Loss: 2.7135\n",
      "Epoch [961/1000], Loss: 2.9686\n",
      "Epoch [962/1000], Loss: 0.7104\n",
      "Epoch [963/1000], Loss: 2.5551\n",
      "Epoch [964/1000], Loss: 10.0868\n",
      "Epoch [965/1000], Loss: 11.3622\n",
      "Epoch [966/1000], Loss: 1.0509\n",
      "Epoch [967/1000], Loss: 1.0180\n",
      "Epoch [968/1000], Loss: 1.3232\n",
      "Epoch [969/1000], Loss: 7.0091\n",
      "Epoch [970/1000], Loss: 4.8353\n",
      "Epoch [971/1000], Loss: 0.5653\n",
      "Epoch [972/1000], Loss: 1.0925\n",
      "Epoch [973/1000], Loss: 3.3405\n",
      "Epoch [974/1000], Loss: 2.4767\n",
      "Epoch [975/1000], Loss: 1.2268\n",
      "Epoch [976/1000], Loss: 6.7741\n",
      "Epoch [977/1000], Loss: 2.9187\n",
      "Epoch [978/1000], Loss: 0.9432\n",
      "Epoch [979/1000], Loss: 3.3493\n",
      "Epoch [980/1000], Loss: 3.7550\n",
      "Epoch [981/1000], Loss: 5.2299\n",
      "Epoch [982/1000], Loss: 3.0790\n",
      "Epoch [983/1000], Loss: 7.2266\n",
      "Epoch [984/1000], Loss: 3.1813\n",
      "Epoch [985/1000], Loss: 10.5130\n",
      "Epoch [986/1000], Loss: 2.4053\n",
      "Epoch [987/1000], Loss: 1.5366\n",
      "Epoch [988/1000], Loss: 7.0383\n",
      "Epoch [989/1000], Loss: 1.7664\n",
      "Epoch [990/1000], Loss: 1.5913\n",
      "Epoch [991/1000], Loss: 2.5557\n",
      "Epoch [992/1000], Loss: 22.8672\n",
      "Epoch [993/1000], Loss: 2.6757\n",
      "Epoch [994/1000], Loss: 2.0325\n",
      "Epoch [995/1000], Loss: 4.3340\n",
      "Epoch [996/1000], Loss: 3.2421\n",
      "Epoch [997/1000], Loss: 3.4152\n",
      "Epoch [998/1000], Loss: 4.5658\n",
      "Epoch [999/1000], Loss: 4.3650\n",
      "Epoch [1000/1000], Loss: 3.7429\n",
      "Training finished!\n"
     ]
    }
   ],
   "source": [
    "# Обучение модели\n",
    "for epoch in range(epochs):\n",
    "    for inputs, y_true in train_loader:\n",
    "        optimizer.zero_grad()\n",
    "        outputs = model(inputs)\n",
    "        loss = criterion(outputs, y_true)\n",
    "        loss.backward()\n",
    "        optimizer.step()\n",
    "    print(f'Epoch [{epoch+1}/{epochs}], Loss: {loss.item():.4f}')\n",
    "\n",
    "print(\"Training finished!\")"
   ],
   "metadata": {
    "collapsed": false,
    "ExecuteTime": {
     "start_time": "2023-08-22T16:12:50.617664Z",
     "end_time": "2023-08-22T16:13:00.223556Z"
    }
   }
  },
  {
   "cell_type": "code",
   "execution_count": 814,
   "outputs": [
    {
     "name": "stdout",
     "output_type": "stream",
     "text": [
      "8.203206\n"
     ]
    }
   ],
   "source": [
    "# Оценка модели\n",
    "model.eval()\n",
    "total_loss = []\n",
    "with torch.no_grad():\n",
    "    for inputs, y_true in test_loader:\n",
    "        inputs = inputs.view(inputs.shape[0], -1)\n",
    "        outputs = model(inputs)\n",
    "        loss = criterion(outputs, y_true)\n",
    "        total_loss.append(loss)\n",
    "    print(np.mean(total_loss))"
   ],
   "metadata": {
    "collapsed": false,
    "ExecuteTime": {
     "start_time": "2023-08-22T16:15:29.905264Z",
     "end_time": "2023-08-22T16:15:29.949486Z"
    }
   }
  },
  {
   "cell_type": "code",
   "execution_count": 812,
   "outputs": [
    {
     "data": {
      "text/plain": "tensor([[27.0487, 23.6000],\n        [34.3745, 32.4000],\n        [16.0684, 13.6000],\n        [22.2219, 22.8000],\n        [16.6314, 16.1000],\n        [21.0949, 20.0000],\n        [17.1440, 17.8000],\n        [16.7111, 14.0000],\n        [26.6903, 19.6000],\n        [19.8237, 16.8000],\n        [20.0873, 21.5000],\n        [19.6324, 18.9000],\n        [ 6.3556,  7.0000],\n        [19.5233, 21.2000],\n        [18.7093, 18.5000],\n        [23.6794, 29.8000],\n        [19.6452, 18.8000],\n        [10.9465, 10.2000],\n        [43.7727, 50.0000],\n        [12.5762, 14.1000],\n        [24.5149, 25.2000],\n        [25.8077, 29.1000],\n        [14.8082, 12.7000],\n        [22.4626, 22.4000],\n        [18.5097, 14.2000],\n        [21.4146, 13.8000],\n        [19.0638, 20.3000],\n        [11.4314, 14.9000],\n        [20.2111, 21.7000],\n        [19.2539, 18.3000],\n        [22.2321, 23.1000],\n        [23.4616, 23.8000],\n        [22.7650, 15.0000],\n        [23.6445, 20.8000],\n        [15.3879, 19.1000],\n        [16.9047, 19.4000],\n        [31.3016, 34.7000],\n        [20.4717, 19.5000],\n        [21.8327, 24.4000],\n        [23.2144, 23.4000],\n        [18.1655, 19.7000],\n        [29.7009, 28.2000],\n        [48.5388, 50.0000],\n        [17.9979, 17.4000],\n        [25.7551, 22.6000],\n        [16.4359, 15.1000],\n        [14.9376, 13.1000],\n        [24.7874, 24.2000],\n        [19.2267, 19.9000],\n        [23.7215, 24.0000],\n        [20.0665, 18.9000]])"
     },
     "execution_count": 812,
     "metadata": {},
     "output_type": "execute_result"
    }
   ],
   "source": [
    "torch.concatenate((outputs, y_true), dim=1)"
   ],
   "metadata": {
    "collapsed": false,
    "ExecuteTime": {
     "start_time": "2023-08-22T16:14:19.645319Z",
     "end_time": "2023-08-22T16:14:19.687080Z"
    }
   }
  },
  {
   "cell_type": "code",
   "execution_count": null,
   "outputs": [],
   "source": [],
   "metadata": {
    "collapsed": false
   }
  }
 ],
 "metadata": {
  "kernelspec": {
   "display_name": "Python 3",
   "language": "python",
   "name": "python3"
  },
  "language_info": {
   "codemirror_mode": {
    "name": "ipython",
    "version": 2
   },
   "file_extension": ".py",
   "mimetype": "text/x-python",
   "name": "python",
   "nbconvert_exporter": "python",
   "pygments_lexer": "ipython2",
   "version": "2.7.6"
  }
 },
 "nbformat": 4,
 "nbformat_minor": 0
}
