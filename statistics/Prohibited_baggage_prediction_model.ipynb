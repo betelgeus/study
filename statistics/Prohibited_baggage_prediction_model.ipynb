{
 "cells": [
  {
   "cell_type": "markdown",
   "source": [
    "### Постановка задачи\n",
    "Продолжим нашу работу в службе безопасности. Разобравшись с тем, какие предикторы могут помогать нам предсказывать запрещенный багаж, давайте применим наши знания для повышения безопасности в аэропорту. Обучим наш алгоритм различать запрещенный и разрешенный багаж на уже имеющихся данных и применим его для сканирования нового багажа.\n",
    "\n",
    "Напишите функцию, которая принимает на вход два набора данных. Первый dataframe содержит информацию об уже осмотренном багаже (запрещенный или нет, вес, длина, ширина, тип сумки).\n",
    "\n",
    "Второй набор данных — это информация о новом багаже, который сканируется прямо сейчас. В данных также есть информация:  вес, длина, ширина, тип сумки и имя пассажира (смотри описание переменных в примере).\n",
    "\n",
    "Используя первый набор данных, обучите регрессионную модель различать запрещенный и разрешенный багаж. При помощи полученной модели для каждого наблюдения в новых данных предскажите вероятность того, что багаж является запрещенным. Пассажиров, чей багаж получил максимальное значение вероятности, мы попросим пройти дополнительную проверку.\n",
    "\n",
    "Итого, ваша функция принимает два набора данных и возвращает имя пассажира с наиболее подозрительным багажом. Если несколько пассажиров получили максимальное значение вероятности, то верните вектор с несколькими именами.\n",
    "\n",
    "В этой задаче для предсказания будем использовать все предикторы, даже если некоторые из них оказались незначимыми. Для предсказания стройте модель без взаимодействия предикторов.\n",
    "\n",
    "**Данные**\n",
    "Обучающий датасет: https://stepic.org/media/attachments/course/524/test_data_passangers.csv\n",
    "Датасет для предсказания: https://stepic.org/media/attachments/course/524/predict_passangers.csv"
   ],
   "metadata": {
    "collapsed": false
   }
  },
  {
   "cell_type": "code",
   "execution_count": 1,
   "outputs": [],
   "source": [
    "import pandas as pd\n",
    "import numpy as np\n",
    "import statsmodels.formula.api as sf\n",
    "import statsmodels.api as sm"
   ],
   "metadata": {
    "collapsed": false
   }
  },
  {
   "cell_type": "code",
   "execution_count": 2,
   "outputs": [
    {
     "data": {
      "text/plain": "  is_prohibited  weight  length  width      type\n0             0      81      49     13  Suitcase\n1             0      72      49     25  Suitcase\n2             0      79      60     22  Suitcase\n3             0      89      49     24  Suitcase\n4             0      87      54     13  Suitcase\n5             0      91      42     25  Suitcase\n6             0      74      54     17  Suitcase\n7             0      76      49     22  Suitcase\n8             0      74      49     12  Suitcase\n9             0      84      53     26  Suitcase",
      "text/html": "<div>\n<style scoped>\n    .dataframe tbody tr th:only-of-type {\n        vertical-align: middle;\n    }\n\n    .dataframe tbody tr th {\n        vertical-align: top;\n    }\n\n    .dataframe thead th {\n        text-align: right;\n    }\n</style>\n<table border=\"1\" class=\"dataframe\">\n  <thead>\n    <tr style=\"text-align: right;\">\n      <th></th>\n      <th>is_prohibited</th>\n      <th>weight</th>\n      <th>length</th>\n      <th>width</th>\n      <th>type</th>\n    </tr>\n  </thead>\n  <tbody>\n    <tr>\n      <th>0</th>\n      <td>0</td>\n      <td>81</td>\n      <td>49</td>\n      <td>13</td>\n      <td>Suitcase</td>\n    </tr>\n    <tr>\n      <th>1</th>\n      <td>0</td>\n      <td>72</td>\n      <td>49</td>\n      <td>25</td>\n      <td>Suitcase</td>\n    </tr>\n    <tr>\n      <th>2</th>\n      <td>0</td>\n      <td>79</td>\n      <td>60</td>\n      <td>22</td>\n      <td>Suitcase</td>\n    </tr>\n    <tr>\n      <th>3</th>\n      <td>0</td>\n      <td>89</td>\n      <td>49</td>\n      <td>24</td>\n      <td>Suitcase</td>\n    </tr>\n    <tr>\n      <th>4</th>\n      <td>0</td>\n      <td>87</td>\n      <td>54</td>\n      <td>13</td>\n      <td>Suitcase</td>\n    </tr>\n    <tr>\n      <th>5</th>\n      <td>0</td>\n      <td>91</td>\n      <td>42</td>\n      <td>25</td>\n      <td>Suitcase</td>\n    </tr>\n    <tr>\n      <th>6</th>\n      <td>0</td>\n      <td>74</td>\n      <td>54</td>\n      <td>17</td>\n      <td>Suitcase</td>\n    </tr>\n    <tr>\n      <th>7</th>\n      <td>0</td>\n      <td>76</td>\n      <td>49</td>\n      <td>22</td>\n      <td>Suitcase</td>\n    </tr>\n    <tr>\n      <th>8</th>\n      <td>0</td>\n      <td>74</td>\n      <td>49</td>\n      <td>12</td>\n      <td>Suitcase</td>\n    </tr>\n    <tr>\n      <th>9</th>\n      <td>0</td>\n      <td>84</td>\n      <td>53</td>\n      <td>26</td>\n      <td>Suitcase</td>\n    </tr>\n  </tbody>\n</table>\n</div>"
     },
     "execution_count": 2,
     "metadata": {},
     "output_type": "execute_result"
    }
   ],
   "source": [
    "training_data = pd.read_csv('https://stepic.org/media/attachments/course/524/test_data_passangers.csv')\n",
    "training_data['is_prohibited'] = np.where((training_data.is_prohibited == 'No'), 0, training_data.is_prohibited)\n",
    "training_data['is_prohibited'] = np.where((training_data.is_prohibited == 'Yes'), 1, training_data.is_prohibited)\n",
    "training_data.head(10)"
   ],
   "metadata": {
    "collapsed": false
   }
  },
  {
   "cell_type": "code",
   "execution_count": 12,
   "outputs": [
    {
     "data": {
      "text/plain": "<class 'statsmodels.iolib.summary.Summary'>\n\"\"\"\n                            Generalized Linear Model Regression Results                             \n====================================================================================================\nDep. Variable:     ['is_prohibited[0]', 'is_prohibited[1]']   No. Observations:                   30\nModel:                                                  GLM   Df Residuals:                       25\nModel Family:                                      Binomial   Df Model:                            4\nLink Function:                                        Logit   Scale:                          1.0000\nMethod:                                                IRLS   Log-Likelihood:                -13.701\nDate:                                      Mon, 10 Oct 2022   Deviance:                       27.402\nTime:                                              15:17:30   Pearson chi2:                     28.4\nNo. Iterations:                                           5   Pseudo R-squ. (CS):             0.3768\nCovariance Type:                                  nonrobust                                         \n====================================================================================\n                       coef    std err          z      P>|z|      [0.025      0.975]\n------------------------------------------------------------------------------------\nIntercept            2.8485      9.224      0.309      0.757     -15.230      20.927\ntype[T.Suitcase]     2.4760      1.074      2.305      0.021       0.371       4.581\nweight               0.0578      0.091      0.634      0.526      -0.121       0.237\nlength              -0.1254      0.099     -1.264      0.206      -0.320       0.069\nwidth               -0.1033      0.104     -0.996      0.319      -0.307       0.100\n====================================================================================\n\"\"\"",
      "text/html": "<table class=\"simpletable\">\n<caption>Generalized Linear Model Regression Results</caption>\n<tr>\n  <th>Dep. Variable:</th>   <td>['is_prohibited[0]', 'is_prohibited[1]']</td> <th>  No. Observations:  </th>  <td>    30</td> \n</tr>\n<tr>\n  <th>Model:</th>                              <td>GLM</td>                   <th>  Df Residuals:      </th>  <td>    25</td> \n</tr>\n<tr>\n  <th>Model Family:</th>                    <td>Binomial</td>                 <th>  Df Model:          </th>  <td>     4</td> \n</tr>\n<tr>\n  <th>Link Function:</th>                     <td>Logit</td>                  <th>  Scale:             </th> <td>  1.0000</td>\n</tr>\n<tr>\n  <th>Method:</th>                            <td>IRLS</td>                   <th>  Log-Likelihood:    </th> <td> -13.701</td>\n</tr>\n<tr>\n  <th>Date:</th>                        <td>Mon, 10 Oct 2022</td>             <th>  Deviance:          </th> <td>  27.402</td>\n</tr>\n<tr>\n  <th>Time:</th>                            <td>15:17:30</td>                 <th>  Pearson chi2:      </th>  <td>  28.4</td> \n</tr>\n<tr>\n  <th>No. Iterations:</th>                      <td>5</td>                    <th>  Pseudo R-squ. (CS):</th>  <td>0.3768</td> \n</tr>\n<tr>\n  <th>Covariance Type:</th>                 <td>nonrobust</td>                <th>                     </th>     <td> </td>   \n</tr>\n</table>\n<table class=\"simpletable\">\n<tr>\n          <td></td>            <th>coef</th>     <th>std err</th>      <th>z</th>      <th>P>|z|</th>  <th>[0.025</th>    <th>0.975]</th>  \n</tr>\n<tr>\n  <th>Intercept</th>        <td>    2.8485</td> <td>    9.224</td> <td>    0.309</td> <td> 0.757</td> <td>  -15.230</td> <td>   20.927</td>\n</tr>\n<tr>\n  <th>type[T.Suitcase]</th> <td>    2.4760</td> <td>    1.074</td> <td>    2.305</td> <td> 0.021</td> <td>    0.371</td> <td>    4.581</td>\n</tr>\n<tr>\n  <th>weight</th>           <td>    0.0578</td> <td>    0.091</td> <td>    0.634</td> <td> 0.526</td> <td>   -0.121</td> <td>    0.237</td>\n</tr>\n<tr>\n  <th>length</th>           <td>   -0.1254</td> <td>    0.099</td> <td>   -1.264</td> <td> 0.206</td> <td>   -0.320</td> <td>    0.069</td>\n</tr>\n<tr>\n  <th>width</th>            <td>   -0.1033</td> <td>    0.104</td> <td>   -0.996</td> <td> 0.319</td> <td>   -0.307</td> <td>    0.100</td>\n</tr>\n</table>"
     },
     "execution_count": 12,
     "metadata": {},
     "output_type": "execute_result"
    }
   ],
   "source": [
    "glm_binomial = sf.glm('is_prohibited ~ type + weight + length + width', training_data, family=sm.families.Binomial()).fit()\n",
    "glm_binomial.summary()"
   ],
   "metadata": {
    "collapsed": false
   }
  },
  {
   "cell_type": "code",
   "execution_count": 13,
   "outputs": [
    {
     "data": {
      "text/plain": "Intercept           2.848451\ntype[T.Suitcase]    2.476006\nweight              0.057797\nlength             -0.125409\nwidth              -0.103319\ndtype: float64"
     },
     "execution_count": 13,
     "metadata": {},
     "output_type": "execute_result"
    }
   ],
   "source": [
    "coef = sf.glm('is_prohibited ~ type + weight + length + width', training_data, family=sm.families.Binomial()).fit().params\n",
    "coef"
   ],
   "metadata": {
    "collapsed": false
   }
  },
  {
   "cell_type": "code",
   "execution_count": 14,
   "outputs": [],
   "source": [
    "# Suitcase = 1, Bag = 0\n",
    "# Получаем модель:\n",
    "# log(odds) = 2.848451 + (2.476006 * T.Suitcase) + (0.057797 * weight) + (-0.125409 * length) + (-0.103319 * width)"
   ],
   "metadata": {
    "collapsed": false
   }
  },
  {
   "cell_type": "code",
   "execution_count": 15,
   "outputs": [
    {
     "data": {
      "text/plain": "   weight  length  width type passangers\n0      81      56     24    1        Bob\n1      80      47     18    0   Anatoliy\n2      76      54     20    0       Ivan\n3      87      59     19    0     Polina\n4      80      59     19    1    Velimir",
      "text/html": "<div>\n<style scoped>\n    .dataframe tbody tr th:only-of-type {\n        vertical-align: middle;\n    }\n\n    .dataframe tbody tr th {\n        vertical-align: top;\n    }\n\n    .dataframe thead th {\n        text-align: right;\n    }\n</style>\n<table border=\"1\" class=\"dataframe\">\n  <thead>\n    <tr style=\"text-align: right;\">\n      <th></th>\n      <th>weight</th>\n      <th>length</th>\n      <th>width</th>\n      <th>type</th>\n      <th>passangers</th>\n    </tr>\n  </thead>\n  <tbody>\n    <tr>\n      <th>0</th>\n      <td>81</td>\n      <td>56</td>\n      <td>24</td>\n      <td>1</td>\n      <td>Bob</td>\n    </tr>\n    <tr>\n      <th>1</th>\n      <td>80</td>\n      <td>47</td>\n      <td>18</td>\n      <td>0</td>\n      <td>Anatoliy</td>\n    </tr>\n    <tr>\n      <th>2</th>\n      <td>76</td>\n      <td>54</td>\n      <td>20</td>\n      <td>0</td>\n      <td>Ivan</td>\n    </tr>\n    <tr>\n      <th>3</th>\n      <td>87</td>\n      <td>59</td>\n      <td>19</td>\n      <td>0</td>\n      <td>Polina</td>\n    </tr>\n    <tr>\n      <th>4</th>\n      <td>80</td>\n      <td>59</td>\n      <td>19</td>\n      <td>1</td>\n      <td>Velimir</td>\n    </tr>\n  </tbody>\n</table>\n</div>"
     },
     "execution_count": 15,
     "metadata": {},
     "output_type": "execute_result"
    }
   ],
   "source": [
    "df_predict = pd.read_csv('https://stepic.org/media/attachments/course/524/predict_passangers.csv')\n",
    "df_predict['type'] = np.where((df_predict.type == 'Bag'), 0, df_predict.type)\n",
    "df_predict['type'] = np.where((df_predict.type == 'Suitcase'), 1, df_predict.type)\n",
    "df_predict.head()"
   ],
   "metadata": {
    "collapsed": false
   }
  },
  {
   "cell_type": "code",
   "execution_count": 16,
   "outputs": [
    {
     "data": {
      "text/plain": "   weight  length  width type passangers  log_odds\n0      81      56     24    1        Bob  0.503403\n1      80      47     18    0   Anatoliy -0.281802\n2      76      54     20    0       Ivan -1.597492\n3      87      59     19    0     Polina -1.485457\n4      80      59     19    1    Velimir  0.585972",
      "text/html": "<div>\n<style scoped>\n    .dataframe tbody tr th:only-of-type {\n        vertical-align: middle;\n    }\n\n    .dataframe tbody tr th {\n        vertical-align: top;\n    }\n\n    .dataframe thead th {\n        text-align: right;\n    }\n</style>\n<table border=\"1\" class=\"dataframe\">\n  <thead>\n    <tr style=\"text-align: right;\">\n      <th></th>\n      <th>weight</th>\n      <th>length</th>\n      <th>width</th>\n      <th>type</th>\n      <th>passangers</th>\n      <th>log_odds</th>\n    </tr>\n  </thead>\n  <tbody>\n    <tr>\n      <th>0</th>\n      <td>81</td>\n      <td>56</td>\n      <td>24</td>\n      <td>1</td>\n      <td>Bob</td>\n      <td>0.503403</td>\n    </tr>\n    <tr>\n      <th>1</th>\n      <td>80</td>\n      <td>47</td>\n      <td>18</td>\n      <td>0</td>\n      <td>Anatoliy</td>\n      <td>-0.281802</td>\n    </tr>\n    <tr>\n      <th>2</th>\n      <td>76</td>\n      <td>54</td>\n      <td>20</td>\n      <td>0</td>\n      <td>Ivan</td>\n      <td>-1.597492</td>\n    </tr>\n    <tr>\n      <th>3</th>\n      <td>87</td>\n      <td>59</td>\n      <td>19</td>\n      <td>0</td>\n      <td>Polina</td>\n      <td>-1.485457</td>\n    </tr>\n    <tr>\n      <th>4</th>\n      <td>80</td>\n      <td>59</td>\n      <td>19</td>\n      <td>1</td>\n      <td>Velimir</td>\n      <td>0.585972</td>\n    </tr>\n  </tbody>\n</table>\n</div>"
     },
     "execution_count": 16,
     "metadata": {},
     "output_type": "execute_result"
    }
   ],
   "source": [
    "df_predict['log_odds'] = coef[0] + (coef[1] * df_predict['type']) + (coef[2] * df_predict['weight']) + (coef[3] * df_predict['length']) + (coef[4] * df_predict['width'])\n",
    "df_predict.head()"
   ],
   "metadata": {
    "collapsed": false
   }
  },
  {
   "cell_type": "code",
   "execution_count": 17,
   "outputs": [
    {
     "data": {
      "text/plain": "   weight  length  width type passangers  log_odds      odds\n0      81      56     24    1        Bob  0.503403  1.654342\n1      80      47     18    0   Anatoliy -0.281802  0.754423\n2      76      54     20    0       Ivan -1.597492  0.202404\n3      87      59     19    0     Polina -1.485457  0.226399\n4      80      59     19    1    Velimir  0.585972  1.796737",
      "text/html": "<div>\n<style scoped>\n    .dataframe tbody tr th:only-of-type {\n        vertical-align: middle;\n    }\n\n    .dataframe tbody tr th {\n        vertical-align: top;\n    }\n\n    .dataframe thead th {\n        text-align: right;\n    }\n</style>\n<table border=\"1\" class=\"dataframe\">\n  <thead>\n    <tr style=\"text-align: right;\">\n      <th></th>\n      <th>weight</th>\n      <th>length</th>\n      <th>width</th>\n      <th>type</th>\n      <th>passangers</th>\n      <th>log_odds</th>\n      <th>odds</th>\n    </tr>\n  </thead>\n  <tbody>\n    <tr>\n      <th>0</th>\n      <td>81</td>\n      <td>56</td>\n      <td>24</td>\n      <td>1</td>\n      <td>Bob</td>\n      <td>0.503403</td>\n      <td>1.654342</td>\n    </tr>\n    <tr>\n      <th>1</th>\n      <td>80</td>\n      <td>47</td>\n      <td>18</td>\n      <td>0</td>\n      <td>Anatoliy</td>\n      <td>-0.281802</td>\n      <td>0.754423</td>\n    </tr>\n    <tr>\n      <th>2</th>\n      <td>76</td>\n      <td>54</td>\n      <td>20</td>\n      <td>0</td>\n      <td>Ivan</td>\n      <td>-1.597492</td>\n      <td>0.202404</td>\n    </tr>\n    <tr>\n      <th>3</th>\n      <td>87</td>\n      <td>59</td>\n      <td>19</td>\n      <td>0</td>\n      <td>Polina</td>\n      <td>-1.485457</td>\n      <td>0.226399</td>\n    </tr>\n    <tr>\n      <th>4</th>\n      <td>80</td>\n      <td>59</td>\n      <td>19</td>\n      <td>1</td>\n      <td>Velimir</td>\n      <td>0.585972</td>\n      <td>1.796737</td>\n    </tr>\n  </tbody>\n</table>\n</div>"
     },
     "execution_count": 17,
     "metadata": {},
     "output_type": "execute_result"
    }
   ],
   "source": [
    "# Считаем шансы\n",
    "df_predict['odds'] = [np.exp(i) for i in df_predict['log_odds']]\n",
    "df_predict.head()"
   ],
   "metadata": {
    "collapsed": false
   }
  },
  {
   "cell_type": "code",
   "execution_count": 18,
   "outputs": [
    {
     "data": {
      "text/plain": "   weight  length  width type passangers  log_odds      odds  probability\n0      81      56     24    1        Bob  0.503403  1.654342     0.623259\n1      80      47     18    0   Anatoliy -0.281802  0.754423     0.430012\n2      76      54     20    0       Ivan -1.597492  0.202404     0.168332\n3      87      59     19    0     Polina -1.485457  0.226399     0.184605\n4      80      59     19    1    Velimir  0.585972  1.796737     0.642440",
      "text/html": "<div>\n<style scoped>\n    .dataframe tbody tr th:only-of-type {\n        vertical-align: middle;\n    }\n\n    .dataframe tbody tr th {\n        vertical-align: top;\n    }\n\n    .dataframe thead th {\n        text-align: right;\n    }\n</style>\n<table border=\"1\" class=\"dataframe\">\n  <thead>\n    <tr style=\"text-align: right;\">\n      <th></th>\n      <th>weight</th>\n      <th>length</th>\n      <th>width</th>\n      <th>type</th>\n      <th>passangers</th>\n      <th>log_odds</th>\n      <th>odds</th>\n      <th>probability</th>\n    </tr>\n  </thead>\n  <tbody>\n    <tr>\n      <th>0</th>\n      <td>81</td>\n      <td>56</td>\n      <td>24</td>\n      <td>1</td>\n      <td>Bob</td>\n      <td>0.503403</td>\n      <td>1.654342</td>\n      <td>0.623259</td>\n    </tr>\n    <tr>\n      <th>1</th>\n      <td>80</td>\n      <td>47</td>\n      <td>18</td>\n      <td>0</td>\n      <td>Anatoliy</td>\n      <td>-0.281802</td>\n      <td>0.754423</td>\n      <td>0.430012</td>\n    </tr>\n    <tr>\n      <th>2</th>\n      <td>76</td>\n      <td>54</td>\n      <td>20</td>\n      <td>0</td>\n      <td>Ivan</td>\n      <td>-1.597492</td>\n      <td>0.202404</td>\n      <td>0.168332</td>\n    </tr>\n    <tr>\n      <th>3</th>\n      <td>87</td>\n      <td>59</td>\n      <td>19</td>\n      <td>0</td>\n      <td>Polina</td>\n      <td>-1.485457</td>\n      <td>0.226399</td>\n      <td>0.184605</td>\n    </tr>\n    <tr>\n      <th>4</th>\n      <td>80</td>\n      <td>59</td>\n      <td>19</td>\n      <td>1</td>\n      <td>Velimir</td>\n      <td>0.585972</td>\n      <td>1.796737</td>\n      <td>0.642440</td>\n    </tr>\n  </tbody>\n</table>\n</div>"
     },
     "execution_count": 18,
     "metadata": {},
     "output_type": "execute_result"
    }
   ],
   "source": [
    "# Считаем вероятность\n",
    "df_predict['probability'] = df_predict['odds'] / (1 + df_predict['odds'])\n",
    "df_predict.head()"
   ],
   "metadata": {
    "collapsed": false
   }
  },
  {
   "cell_type": "code",
   "execution_count": 19,
   "outputs": [
    {
     "data": {
      "text/plain": "['Vsevolod']"
     },
     "execution_count": 19,
     "metadata": {},
     "output_type": "execute_result"
    }
   ],
   "source": [
    "# Находим пассажиров\n",
    "passengers = [df_predict['passangers'][i] for i in range(len(df_predict['passangers']))\n",
    "                  if df_predict['probability'][i] == df_predict['probability'].max()]\n",
    "passengers"
   ],
   "metadata": {
    "collapsed": false
   }
  }
 ],
 "metadata": {
  "kernelspec": {
   "display_name": "Python 3",
   "language": "python",
   "name": "python3"
  },
  "language_info": {
   "codemirror_mode": {
    "name": "ipython",
    "version": 2
   },
   "file_extension": ".py",
   "mimetype": "text/x-python",
   "name": "python",
   "nbconvert_exporter": "python",
   "pygments_lexer": "ipython2",
   "version": "2.7.6"
  }
 },
 "nbformat": 4,
 "nbformat_minor": 0
}
