{
 "cells": [
  {
   "cell_type": "markdown",
   "source": [
    "### Хи-квадрат Пирсона (Chi-squared)\n",
    "**Исследование взаимосвязи между двумя номинативными переменными**\n",
    "\n",
    "Хи-квадрат Пирсона это непараметрический метод, который позволяет оценить значимость различий между фактическим\n",
    "(выявленным в результате исследования) количеством исходов или качественных характеристик выборки,\n",
    "попадающих в каждую категорию, и теоретическим количеством, которое можно ожидать в изучаемых группах при справедливости нулевой гипотезы.\n",
    "Выражаясь проще, метод позволяет оценить статистическую значимость различий двух или нескольких относительных показателей (частот, долей).\n",
    "\n",
    "**Основные шаги**\n",
    "1. Сформулировать задачу, H0 и HA\n",
    "2. Провести разведывательный анализ данных, чтобы убедится в том, что данные отвечают требованиям\n",
    "3. Получить значения chi2 (показывает силу отклонения), P-value (вероятность отклонить верную H0), degrees of freedom (нужны для расчета критического значения chi2), критическое значение chi2 (сравнив фактическое можно сделать вывод о значимости влияния).\n",
    "\n",
    "<a href=\"https://lit-review.ru/biostatistika/kriterijj-khi-kvadrat-pirsona/\">Последовательность действий подробнее</a>\n",
    "\n",
    "** Требования к данным:**\n",
    "1. Номинативные переменные с бинарными или порядковыми значениями. Более точный результат будет получен для бинарных номинативных переменных.\n",
    "2. Независимость и случайность выборок\n",
    "3. Общее количество наблюдений было более 20. С увеличением объема выборки точность критерия повышается;\n",
    "4. Теоретическая (ожидаемая) частота для каждого выборочного интервала (соответствующая нулевой\n",
    "гипотезе) должна, быть **более 5**. Если ожидаемое явление принимает значение менее 5, то необходимо\n",
    "использовать точный критерий Фишера;\n",
    "5. Если теоретическая (ожидаемая) частота в случае использования четырехпольных таблиц (2х2) принимает\n",
    "значение **менее 10 (а именно 5<x<10)**, необходим расчет поправки Йетса;\n",
    "6. Сравниваемые частоты должны быть примерно **одного размера**;\n",
    "\n",
    "\n",
    "<a href=\"https://www.statology.org/correlation-between-categorical-variables/\">Тесты для датасетов, которые не отвечают критериям</a>"
   ],
   "metadata": {
    "collapsed": false
   }
  },
  {
   "cell_type": "code",
   "execution_count": 19,
   "outputs": [],
   "source": [
    "import pandas as pd\n",
    "import numpy as np\n",
    "import statsmodels.api as sm\n",
    "import scipy.stats\n",
    "from scipy.stats import chi2_contingency"
   ],
   "metadata": {
    "collapsed": false
   }
  },
  {
   "cell_type": "markdown",
   "source": [
    "### Постановка задачи\n",
    "Провести исследование взаимосвязи двух номинативных переменных Cargo count и Passengers count"
   ],
   "metadata": {
    "collapsed": false
   }
  },
  {
   "cell_type": "code",
   "execution_count": 20,
   "outputs": [
    {
     "data": {
      "text/plain": "   Cargo count  Passengers count\n0            0                 0\n1            2                 2\n2            2                 2\n3            0                 0\n4            1                 1",
      "text/html": "<div>\n<style scoped>\n    .dataframe tbody tr th:only-of-type {\n        vertical-align: middle;\n    }\n\n    .dataframe tbody tr th {\n        vertical-align: top;\n    }\n\n    .dataframe thead th {\n        text-align: right;\n    }\n</style>\n<table border=\"1\" class=\"dataframe\">\n  <thead>\n    <tr style=\"text-align: right;\">\n      <th></th>\n      <th>Cargo count</th>\n      <th>Passengers count</th>\n    </tr>\n  </thead>\n  <tbody>\n    <tr>\n      <th>0</th>\n      <td>0</td>\n      <td>0</td>\n    </tr>\n    <tr>\n      <th>1</th>\n      <td>2</td>\n      <td>2</td>\n    </tr>\n    <tr>\n      <th>2</th>\n      <td>2</td>\n      <td>2</td>\n    </tr>\n    <tr>\n      <th>3</th>\n      <td>0</td>\n      <td>0</td>\n    </tr>\n    <tr>\n      <th>4</th>\n      <td>1</td>\n      <td>1</td>\n    </tr>\n  </tbody>\n</table>\n</div>"
     },
     "execution_count": 20,
     "metadata": {},
     "output_type": "execute_result"
    }
   ],
   "source": [
    "df = pd.read_csv('/Users/mitya/Desktop/cargo_passengers.csv')\n",
    "df.head()"
   ],
   "metadata": {
    "collapsed": false
   }
  },
  {
   "cell_type": "code",
   "execution_count": 21,
   "outputs": [
    {
     "data": {
      "text/plain": "Passengers count     0    1     2   3\nCargo count                          \n0                 1555   11    23   4\n1                  146  538     9   1\n2                  273   43  1077   2\n3                   16    1     4  72\n4                   14    5    19   0",
      "text/html": "<div>\n<style scoped>\n    .dataframe tbody tr th:only-of-type {\n        vertical-align: middle;\n    }\n\n    .dataframe tbody tr th {\n        vertical-align: top;\n    }\n\n    .dataframe thead th {\n        text-align: right;\n    }\n</style>\n<table border=\"1\" class=\"dataframe\">\n  <thead>\n    <tr style=\"text-align: right;\">\n      <th>Passengers count</th>\n      <th>0</th>\n      <th>1</th>\n      <th>2</th>\n      <th>3</th>\n    </tr>\n    <tr>\n      <th>Cargo count</th>\n      <th></th>\n      <th></th>\n      <th></th>\n      <th></th>\n    </tr>\n  </thead>\n  <tbody>\n    <tr>\n      <th>0</th>\n      <td>1555</td>\n      <td>11</td>\n      <td>23</td>\n      <td>4</td>\n    </tr>\n    <tr>\n      <th>1</th>\n      <td>146</td>\n      <td>538</td>\n      <td>9</td>\n      <td>1</td>\n    </tr>\n    <tr>\n      <th>2</th>\n      <td>273</td>\n      <td>43</td>\n      <td>1077</td>\n      <td>2</td>\n    </tr>\n    <tr>\n      <th>3</th>\n      <td>16</td>\n      <td>1</td>\n      <td>4</td>\n      <td>72</td>\n    </tr>\n    <tr>\n      <th>4</th>\n      <td>14</td>\n      <td>5</td>\n      <td>19</td>\n      <td>0</td>\n    </tr>\n  </tbody>\n</table>\n</div>"
     },
     "execution_count": 21,
     "metadata": {},
     "output_type": "execute_result"
    }
   ],
   "source": [
    "table = sm.stats.Table.from_data(df[['Cargo count', 'Passengers count']])\n",
    "contingency_table = table.table_orig\n",
    "contingency_table\n",
    "# Важно! Хи-квадрат Пирсона не поодходит для датасета т.к. есть экстремально низкие значения > 5"
   ],
   "metadata": {
    "collapsed": false
   }
  },
  {
   "cell_type": "code",
   "execution_count": 22,
   "outputs": [
    {
     "data": {
      "text/plain": "Passengers count           0           1           2          3\nCargo count                                                    \n0                 837.123902  249.800446  472.866396  33.209257\n1                 364.698046  108.827062  206.007080  14.467812\n2                 733.074603  218.751803  414.092041  29.081552\n3                  48.871640   14.583454   27.606136   1.938770\n4                  20.231808    6.037236   11.428347   0.802609",
      "text/html": "<div>\n<style scoped>\n    .dataframe tbody tr th:only-of-type {\n        vertical-align: middle;\n    }\n\n    .dataframe tbody tr th {\n        vertical-align: top;\n    }\n\n    .dataframe thead th {\n        text-align: right;\n    }\n</style>\n<table border=\"1\" class=\"dataframe\">\n  <thead>\n    <tr style=\"text-align: right;\">\n      <th>Passengers count</th>\n      <th>0</th>\n      <th>1</th>\n      <th>2</th>\n      <th>3</th>\n    </tr>\n    <tr>\n      <th>Cargo count</th>\n      <th></th>\n      <th></th>\n      <th></th>\n      <th></th>\n    </tr>\n  </thead>\n  <tbody>\n    <tr>\n      <th>0</th>\n      <td>837.123902</td>\n      <td>249.800446</td>\n      <td>472.866396</td>\n      <td>33.209257</td>\n    </tr>\n    <tr>\n      <th>1</th>\n      <td>364.698046</td>\n      <td>108.827062</td>\n      <td>206.007080</td>\n      <td>14.467812</td>\n    </tr>\n    <tr>\n      <th>2</th>\n      <td>733.074603</td>\n      <td>218.751803</td>\n      <td>414.092041</td>\n      <td>29.081552</td>\n    </tr>\n    <tr>\n      <th>3</th>\n      <td>48.871640</td>\n      <td>14.583454</td>\n      <td>27.606136</td>\n      <td>1.938770</td>\n    </tr>\n    <tr>\n      <th>4</th>\n      <td>20.231808</td>\n      <td>6.037236</td>\n      <td>11.428347</td>\n      <td>0.802609</td>\n    </tr>\n  </tbody>\n</table>\n</div>"
     },
     "execution_count": 22,
     "metadata": {},
     "output_type": "execute_result"
    }
   ],
   "source": [
    "fit_val_table = table.fittedvalues\n",
    "fit_val_table"
   ],
   "metadata": {
    "collapsed": false
   }
  },
  {
   "cell_type": "code",
   "execution_count": 23,
   "outputs": [
    {
     "data": {
      "text/plain": "Passengers count          0          1          2          3\nCargo count                                                 \n0                 24.811592 -15.109098 -20.687801  -5.068634\n1                -11.451917  41.139961 -13.725898  -3.540753\n2                -16.992379 -11.882942  32.576528  -5.021862\n3                 -4.702111  -3.556968  -4.492852  50.316983\n4                 -1.385469  -0.422142   2.239747  -0.337777",
      "text/html": "<div>\n<style scoped>\n    .dataframe tbody tr th:only-of-type {\n        vertical-align: middle;\n    }\n\n    .dataframe tbody tr th {\n        vertical-align: top;\n    }\n\n    .dataframe thead th {\n        text-align: right;\n    }\n</style>\n<table border=\"1\" class=\"dataframe\">\n  <thead>\n    <tr style=\"text-align: right;\">\n      <th>Passengers count</th>\n      <th>0</th>\n      <th>1</th>\n      <th>2</th>\n      <th>3</th>\n    </tr>\n    <tr>\n      <th>Cargo count</th>\n      <th></th>\n      <th></th>\n      <th></th>\n      <th></th>\n    </tr>\n  </thead>\n  <tbody>\n    <tr>\n      <th>0</th>\n      <td>24.811592</td>\n      <td>-15.109098</td>\n      <td>-20.687801</td>\n      <td>-5.068634</td>\n    </tr>\n    <tr>\n      <th>1</th>\n      <td>-11.451917</td>\n      <td>41.139961</td>\n      <td>-13.725898</td>\n      <td>-3.540753</td>\n    </tr>\n    <tr>\n      <th>2</th>\n      <td>-16.992379</td>\n      <td>-11.882942</td>\n      <td>32.576528</td>\n      <td>-5.021862</td>\n    </tr>\n    <tr>\n      <th>3</th>\n      <td>-4.702111</td>\n      <td>-3.556968</td>\n      <td>-4.492852</td>\n      <td>50.316983</td>\n    </tr>\n    <tr>\n      <th>4</th>\n      <td>-1.385469</td>\n      <td>-0.422142</td>\n      <td>2.239747</td>\n      <td>-0.337777</td>\n    </tr>\n  </tbody>\n</table>\n</div>"
     },
     "execution_count": 23,
     "metadata": {},
     "output_type": "execute_result"
    }
   ],
   "source": [
    "resid_table = table.resid_pearson\n",
    "resid_table"
   ],
   "metadata": {
    "collapsed": false
   }
  },
  {
   "cell_type": "code",
   "execution_count": 24,
   "outputs": [
    {
     "name": "stdout",
     "output_type": "stream",
     "text": [
      "chi2 7432.525215499285\n",
      "p_value 0.0\n",
      "df 12\n"
     ]
    }
   ],
   "source": [
    "chi2, df, p_value = table.test_nominal_association().statistic, table.test_nominal_association().df, table.test_nominal_association().pvalue\n",
    "print('chi2', chi2)\n",
    "print('p_value', p_value)\n",
    "print('df', df)"
   ],
   "metadata": {
    "collapsed": false
   }
  },
  {
   "cell_type": "code",
   "execution_count": 25,
   "outputs": [
    {
     "name": "stdout",
     "output_type": "stream",
     "text": [
      "chi2 7448.762084141021\n",
      "p_value 0.0\n",
      "df 12\n"
     ]
    }
   ],
   "source": [
    "chi2, p_val, dof, exp = chi2_contingency(contingency_table, correction=True)\n",
    "print('chi2', chi2)\n",
    "print('p_value', p_val)\n",
    "print('df', dof)"
   ],
   "metadata": {
    "collapsed": false
   }
  },
  {
   "cell_type": "code",
   "execution_count": 26,
   "outputs": [
    {
     "data": {
      "text/plain": "32.90949040736021"
     },
     "execution_count": 26,
     "metadata": {},
     "output_type": "execute_result"
    }
   ],
   "source": [
    "critical_value = scipy.stats.chi2.ppf(1-.001, df=df)\n",
    "critical_value"
   ],
   "metadata": {
    "collapsed": false
   }
  },
  {
   "cell_type": "code",
   "execution_count": 27,
   "outputs": [],
   "source": [
    "# Отклоняем H0. Фактическое значение chi2 значительно превышает критическое значение chi2 при α = 0.1% и df=32\n",
    "# Помним, что Хи-квадрат не подходит для датасета, возможны некорректные результаты теста."
   ],
   "metadata": {
    "collapsed": false
   }
  },
  {
   "cell_type": "code",
   "execution_count": 28,
   "outputs": [
    {
     "data": {
      "text/plain": "0.8069525930731775"
     },
     "execution_count": 28,
     "metadata": {},
     "output_type": "execute_result"
    }
   ],
   "source": [
    "# Cramer’s V (коэффициент корреляции двух номинативных переменных, который применяют для таблиц более 2x2) принимает значение от 0 до 1\n",
    "# Interpretation of effect size\n",
    "# ES ≤ 0.2 The result is weak. Although the result is statistically significant, the fields are only weakly associated.\n",
    "# 0.2 < ES ≤ 0.6 The result is moderate. The fields are moderately associated.\n",
    "# ES > 0.6 The result is strong. The fields are strongly associated.\n",
    "contingency_table = np.array(contingency_table)\n",
    "N = np.sum(contingency_table)\n",
    "minimum_dimension = min(contingency_table.shape)-1\n",
    "\n",
    "# Calculate Cramer's V\n",
    "result = np.sqrt((chi2 / N) / minimum_dimension)\n",
    "result"
   ],
   "metadata": {
    "collapsed": false
   }
  },
  {
   "cell_type": "code",
   "execution_count": 29,
   "outputs": [],
   "source": [
    "# Отклоняем H0"
   ],
   "metadata": {
    "collapsed": false
   }
  },
  {
   "cell_type": "markdown",
   "source": [
    "### Постановка задачи\n",
    "Провести исследование взаимосвязи двух номинативных переменных Passengers и Individual"
   ],
   "metadata": {
    "collapsed": false
   }
  },
  {
   "cell_type": "code",
   "execution_count": 30,
   "outputs": [
    {
     "data": {
      "text/plain": "   Passengers  Individual calc\n0           0                0\n1           2                0\n2           2                0\n3           0                0\n4           1                0",
      "text/html": "<div>\n<style scoped>\n    .dataframe tbody tr th:only-of-type {\n        vertical-align: middle;\n    }\n\n    .dataframe tbody tr th {\n        vertical-align: top;\n    }\n\n    .dataframe thead th {\n        text-align: right;\n    }\n</style>\n<table border=\"1\" class=\"dataframe\">\n  <thead>\n    <tr style=\"text-align: right;\">\n      <th></th>\n      <th>Passengers</th>\n      <th>Individual calc</th>\n    </tr>\n  </thead>\n  <tbody>\n    <tr>\n      <th>0</th>\n      <td>0</td>\n      <td>0</td>\n    </tr>\n    <tr>\n      <th>1</th>\n      <td>2</td>\n      <td>0</td>\n    </tr>\n    <tr>\n      <th>2</th>\n      <td>2</td>\n      <td>0</td>\n    </tr>\n    <tr>\n      <th>3</th>\n      <td>0</td>\n      <td>0</td>\n    </tr>\n    <tr>\n      <th>4</th>\n      <td>1</td>\n      <td>0</td>\n    </tr>\n  </tbody>\n</table>\n</div>"
     },
     "execution_count": 30,
     "metadata": {},
     "output_type": "execute_result"
    }
   ],
   "source": [
    "df = pd.read_csv('/Users/mitya/Desktop/passengers_individual.csv')\n",
    "df.head()"
   ],
   "metadata": {
    "collapsed": false
   }
  },
  {
   "cell_type": "code",
   "execution_count": 31,
   "outputs": [
    {
     "data": {
      "text/plain": "Passengers          0    1    2   3\nIndividual calc                    \n0                1017  212  333  19\n1                 987  386  799  60",
      "text/html": "<div>\n<style scoped>\n    .dataframe tbody tr th:only-of-type {\n        vertical-align: middle;\n    }\n\n    .dataframe tbody tr th {\n        vertical-align: top;\n    }\n\n    .dataframe thead th {\n        text-align: right;\n    }\n</style>\n<table border=\"1\" class=\"dataframe\">\n  <thead>\n    <tr style=\"text-align: right;\">\n      <th>Passengers</th>\n      <th>0</th>\n      <th>1</th>\n      <th>2</th>\n      <th>3</th>\n    </tr>\n    <tr>\n      <th>Individual calc</th>\n      <th></th>\n      <th></th>\n      <th></th>\n      <th></th>\n    </tr>\n  </thead>\n  <tbody>\n    <tr>\n      <th>0</th>\n      <td>1017</td>\n      <td>212</td>\n      <td>333</td>\n      <td>19</td>\n    </tr>\n    <tr>\n      <th>1</th>\n      <td>987</td>\n      <td>386</td>\n      <td>799</td>\n      <td>60</td>\n    </tr>\n  </tbody>\n</table>\n</div>"
     },
     "execution_count": 31,
     "metadata": {},
     "output_type": "execute_result"
    }
   ],
   "source": [
    "table = sm.stats.Table.from_data(df[['Individual calc', 'Passengers']])\n",
    "contingency_table = table.table_orig\n",
    "contingency_table"
   ],
   "metadata": {
    "collapsed": false
   }
  },
  {
   "cell_type": "code",
   "execution_count": 32,
   "outputs": [
    {
     "data": {
      "text/plain": "Passengers                 0          1           2          3\nIndividual calc                                               \n0                 830.926829  247.95122  469.365854  32.756098\n1                1173.073171  350.04878  662.634146  46.243902",
      "text/html": "<div>\n<style scoped>\n    .dataframe tbody tr th:only-of-type {\n        vertical-align: middle;\n    }\n\n    .dataframe tbody tr th {\n        vertical-align: top;\n    }\n\n    .dataframe thead th {\n        text-align: right;\n    }\n</style>\n<table border=\"1\" class=\"dataframe\">\n  <thead>\n    <tr style=\"text-align: right;\">\n      <th>Passengers</th>\n      <th>0</th>\n      <th>1</th>\n      <th>2</th>\n      <th>3</th>\n    </tr>\n    <tr>\n      <th>Individual calc</th>\n      <th></th>\n      <th></th>\n      <th></th>\n      <th></th>\n    </tr>\n  </thead>\n  <tbody>\n    <tr>\n      <th>0</th>\n      <td>830.926829</td>\n      <td>247.95122</td>\n      <td>469.365854</td>\n      <td>32.756098</td>\n    </tr>\n    <tr>\n      <th>1</th>\n      <td>1173.073171</td>\n      <td>350.04878</td>\n      <td>662.634146</td>\n      <td>46.243902</td>\n    </tr>\n  </tbody>\n</table>\n</div>"
     },
     "execution_count": 32,
     "metadata": {},
     "output_type": "execute_result"
    }
   ],
   "source": [
    "fit_val_table = table.fittedvalues\n",
    "fit_val_table"
   ],
   "metadata": {
    "collapsed": false
   }
  },
  {
   "cell_type": "code",
   "execution_count": 33,
   "outputs": [
    {
     "name": "stdout",
     "output_type": "stream",
     "text": [
      "chi2 157.6389950100305\n",
      "p_value 0.0\n",
      "df 3\n"
     ]
    }
   ],
   "source": [
    "chi2, df, p_value = table.test_nominal_association().statistic, table.test_nominal_association().df, table.test_nominal_association().pvalue\n",
    "print('chi2', chi2)\n",
    "print('p_value', p_value)\n",
    "print('df', df)"
   ],
   "metadata": {
    "collapsed": false
   }
  },
  {
   "cell_type": "code",
   "execution_count": 34,
   "outputs": [
    {
     "name": "stdout",
     "output_type": "stream",
     "text": [
      "chi2 157.63899501003044\n",
      "p_value 5.924180789938196e-34\n",
      "df 3\n"
     ]
    }
   ],
   "source": [
    "chi2, p_val, dof, exp = chi2_contingency(contingency_table, correction=False)\n",
    "print('chi2', chi2)\n",
    "print('p_value', p_val)\n",
    "print('df', dof)"
   ],
   "metadata": {
    "collapsed": false
   }
  },
  {
   "cell_type": "code",
   "execution_count": 35,
   "outputs": [
    {
     "data": {
      "text/plain": "16.26623619623813"
     },
     "execution_count": 35,
     "metadata": {},
     "output_type": "execute_result"
    }
   ],
   "source": [
    "critical_value = scipy.stats.chi2.ppf(1-.001, df=df)\n",
    "critical_value"
   ],
   "metadata": {
    "collapsed": false
   }
  },
  {
   "cell_type": "code",
   "execution_count": 36,
   "outputs": [],
   "source": [
    "# Отклоняем H0. Фактическое значение chi2 значительно превышает критическое значение chi2 при α = 0.1% и df=3\n",
    "# Помним, что Хи-квадрат не подходит для датасета, возможны некорректные результаты теста."
   ],
   "metadata": {
    "collapsed": false
   }
  },
  {
   "cell_type": "code",
   "execution_count": 37,
   "outputs": [
    {
     "data": {
      "text/plain": "0.20332857927185197"
     },
     "execution_count": 37,
     "metadata": {},
     "output_type": "execute_result"
    }
   ],
   "source": [
    "# Cramer’s V (коэффициент корреляции двух номинативных переменных, который применяют для таблиц более 2x2) принимает значение от 0 до 1\n",
    "# Interpretation of effect size\n",
    "# ES ≤ 0.2 The result is weak. Although the result is statistically significant, the fields are only weakly associated.\n",
    "# 0.2 < ES ≤ 0.6 The result is moderate. The fields are moderately associated.\n",
    "# ES > 0.6 The result is strong. The fields are strongly associated.\n",
    "contingency_table = np.array(contingency_table)\n",
    "N = np.sum(contingency_table)\n",
    "minimum_dimension = min(contingency_table.shape)-1\n",
    "\n",
    "# Calculate Cramer's V\n",
    "result = np.sqrt((chi2 / N) / minimum_dimension)\n",
    "result"
   ],
   "metadata": {
    "collapsed": false
   }
  },
  {
   "cell_type": "code",
   "execution_count": 38,
   "outputs": [],
   "source": [
    "# Отклоняем H0"
   ],
   "metadata": {
    "collapsed": false
   }
  },
  {
   "cell_type": "code",
   "execution_count": null,
   "outputs": [],
   "source": [],
   "metadata": {
    "collapsed": false
   }
  }
 ],
 "metadata": {
  "kernelspec": {
   "display_name": "Python 3",
   "language": "python",
   "name": "python3"
  },
  "language_info": {
   "codemirror_mode": {
    "name": "ipython",
    "version": 2
   },
   "file_extension": ".py",
   "mimetype": "text/x-python",
   "name": "python",
   "nbconvert_exporter": "python",
   "pygments_lexer": "ipython2",
   "version": "2.7.6"
  }
 },
 "nbformat": 4,
 "nbformat_minor": 0
}
