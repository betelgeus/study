{
 "cells": [
  {
   "cell_type": "code",
   "execution_count": 1,
   "metadata": {
    "collapsed": true
   },
   "outputs": [],
   "source": [
    "import pandas as pd\n",
    "import pymysql\n",
    "import logging\n",
    "import sshtunnel\n",
    "from creds import Creds\n",
    "from sshtunnel import SSHTunnelForwarder"
   ]
  },
  {
   "cell_type": "code",
   "execution_count": 17,
   "outputs": [],
   "source": [
    "ssh_host = Creds.ssh_host\n",
    "ssh_username = Creds.ssh_username\n",
    "ssh_password = Creds.ssh_password\n",
    "database_username = Creds.database_username\n",
    "database_password = Creds.database_password\n",
    "database_name = Creds.database_name\n",
    "localhost = Creds.localhost"
   ],
   "metadata": {
    "collapsed": false
   }
  },
  {
   "cell_type": "code",
   "execution_count": 18,
   "outputs": [],
   "source": [
    "def open_ssh_tunnel(verbose=False):\n",
    "    \"\"\"Open an SSH tunnel and connect using a username and password.\n",
    "\n",
    "    :param verbose: Set to True to show logging\n",
    "    :return tunnel: Global SSH tunnel connection\n",
    "    \"\"\"\n",
    "\n",
    "    if verbose:\n",
    "        sshtunnel.DEFAULT_LOGLEVEL = logging.DEBUG\n",
    "\n",
    "    global tunnel\n",
    "    tunnel = SSHTunnelForwarder(\n",
    "        (ssh_host, 22),\n",
    "        ssh_username = ssh_username,\n",
    "        ssh_password = ssh_password,\n",
    "        remote_bind_address = ('127.0.0.1', 3306)\n",
    "    )\n",
    "\n",
    "    tunnel.start()"
   ],
   "metadata": {
    "collapsed": false
   }
  },
  {
   "cell_type": "code",
   "execution_count": 19,
   "outputs": [],
   "source": [
    "def mysql_connect():\n",
    "    \"\"\"Connect to a MySQL server using the SSH tunnel connection\n",
    "\n",
    "    :return connection: Global MySQL database connection\n",
    "    \"\"\"\n",
    "\n",
    "    global connection\n",
    "\n",
    "    connection = pymysql.connect(\n",
    "        host=localhost,\n",
    "        user=database_username,\n",
    "        passwd=database_password,\n",
    "        db=database_name,\n",
    "        port=tunnel.local_bind_port\n",
    "    )"
   ],
   "metadata": {
    "collapsed": false
   }
  },
  {
   "cell_type": "code",
   "execution_count": 20,
   "outputs": [],
   "source": [
    "def run_query(sql):\n",
    "    \"\"\"Runs a given SQL query via the global database connection.\n",
    "\n",
    "    :param sql: MySQL query\n",
    "    :return: Pandas dataframe containing results\n",
    "    \"\"\"\n",
    "\n",
    "    return pd.read_sql_query(sql, connection)"
   ],
   "metadata": {
    "collapsed": false
   }
  },
  {
   "cell_type": "code",
   "execution_count": 21,
   "outputs": [
    {
     "ename": "OperationalError",
     "evalue": "(1045, \"Access denied for user 'mityashekhov'@'localhost' (using password: YES)\")",
     "output_type": "error",
     "traceback": [
      "\u001B[0;31m---------------------------------------------------------------------------\u001B[0m",
      "\u001B[0;31mOperationalError\u001B[0m                          Traceback (most recent call last)",
      "Cell \u001B[0;32mIn [21], line 2\u001B[0m\n\u001B[1;32m      1\u001B[0m open_ssh_tunnel()\n\u001B[0;32m----> 2\u001B[0m \u001B[43mmysql_connect\u001B[49m\u001B[43m(\u001B[49m\u001B[43m)\u001B[49m\n\u001B[1;32m      3\u001B[0m df \u001B[38;5;241m=\u001B[39m run_query(\u001B[38;5;124m'\u001B[39m\u001B[38;5;124mSELECT * FROM deals LIMIT 100\u001B[39m\u001B[38;5;124m'\u001B[39m)\n\u001B[1;32m      4\u001B[0m df\u001B[38;5;241m.\u001B[39mhead()\n",
      "Cell \u001B[0;32mIn [19], line 9\u001B[0m, in \u001B[0;36mmysql_connect\u001B[0;34m()\u001B[0m\n\u001B[1;32m      2\u001B[0m \u001B[38;5;124;03m\"\"\"Connect to a MySQL server using the SSH tunnel connection\u001B[39;00m\n\u001B[1;32m      3\u001B[0m \n\u001B[1;32m      4\u001B[0m \u001B[38;5;124;03m:return connection: Global MySQL database connection\u001B[39;00m\n\u001B[1;32m      5\u001B[0m \u001B[38;5;124;03m\"\"\"\u001B[39;00m\n\u001B[1;32m      7\u001B[0m \u001B[38;5;28;01mglobal\u001B[39;00m connection\n\u001B[0;32m----> 9\u001B[0m connection \u001B[38;5;241m=\u001B[39m \u001B[43mpymysql\u001B[49m\u001B[38;5;241;43m.\u001B[39;49m\u001B[43mconnect\u001B[49m\u001B[43m(\u001B[49m\n\u001B[1;32m     10\u001B[0m \u001B[43m    \u001B[49m\u001B[43mhost\u001B[49m\u001B[38;5;241;43m=\u001B[39;49m\u001B[43mlocalhost\u001B[49m\u001B[43m,\u001B[49m\n\u001B[1;32m     11\u001B[0m \u001B[43m    \u001B[49m\u001B[43muser\u001B[49m\u001B[38;5;241;43m=\u001B[39;49m\u001B[43mdatabase_username\u001B[49m\u001B[43m,\u001B[49m\n\u001B[1;32m     12\u001B[0m \u001B[43m    \u001B[49m\u001B[43mpasswd\u001B[49m\u001B[38;5;241;43m=\u001B[39;49m\u001B[43mdatabase_password\u001B[49m\u001B[43m,\u001B[49m\n\u001B[1;32m     13\u001B[0m \u001B[43m    \u001B[49m\u001B[43mdb\u001B[49m\u001B[38;5;241;43m=\u001B[39;49m\u001B[43mdatabase_name\u001B[49m\u001B[43m,\u001B[49m\n\u001B[1;32m     14\u001B[0m \u001B[43m    \u001B[49m\u001B[43mport\u001B[49m\u001B[38;5;241;43m=\u001B[39;49m\u001B[43mtunnel\u001B[49m\u001B[38;5;241;43m.\u001B[39;49m\u001B[43mlocal_bind_port\u001B[49m\n\u001B[1;32m     15\u001B[0m \u001B[43m\u001B[49m\u001B[43m)\u001B[49m\n",
      "File \u001B[0;32m~/venv/lib/python3.10/site-packages/pymysql/connections.py:353\u001B[0m, in \u001B[0;36mConnection.__init__\u001B[0;34m(self, user, password, host, database, unix_socket, port, charset, sql_mode, read_default_file, conv, use_unicode, client_flag, cursorclass, init_command, connect_timeout, read_default_group, autocommit, local_infile, max_allowed_packet, defer_connect, auth_plugin_map, read_timeout, write_timeout, bind_address, binary_prefix, program_name, server_public_key, ssl, ssl_ca, ssl_cert, ssl_disabled, ssl_key, ssl_verify_cert, ssl_verify_identity, compress, named_pipe, passwd, db)\u001B[0m\n\u001B[1;32m    351\u001B[0m     \u001B[38;5;28mself\u001B[39m\u001B[38;5;241m.\u001B[39m_sock \u001B[38;5;241m=\u001B[39m \u001B[38;5;28;01mNone\u001B[39;00m\n\u001B[1;32m    352\u001B[0m \u001B[38;5;28;01melse\u001B[39;00m:\n\u001B[0;32m--> 353\u001B[0m     \u001B[38;5;28;43mself\u001B[39;49m\u001B[38;5;241;43m.\u001B[39;49m\u001B[43mconnect\u001B[49m\u001B[43m(\u001B[49m\u001B[43m)\u001B[49m\n",
      "File \u001B[0;32m~/venv/lib/python3.10/site-packages/pymysql/connections.py:633\u001B[0m, in \u001B[0;36mConnection.connect\u001B[0;34m(self, sock)\u001B[0m\n\u001B[1;32m    630\u001B[0m \u001B[38;5;28mself\u001B[39m\u001B[38;5;241m.\u001B[39m_next_seq_id \u001B[38;5;241m=\u001B[39m \u001B[38;5;241m0\u001B[39m\n\u001B[1;32m    632\u001B[0m \u001B[38;5;28mself\u001B[39m\u001B[38;5;241m.\u001B[39m_get_server_information()\n\u001B[0;32m--> 633\u001B[0m \u001B[38;5;28;43mself\u001B[39;49m\u001B[38;5;241;43m.\u001B[39;49m\u001B[43m_request_authentication\u001B[49m\u001B[43m(\u001B[49m\u001B[43m)\u001B[49m\n\u001B[1;32m    635\u001B[0m \u001B[38;5;28;01mif\u001B[39;00m \u001B[38;5;28mself\u001B[39m\u001B[38;5;241m.\u001B[39msql_mode \u001B[38;5;129;01mis\u001B[39;00m \u001B[38;5;129;01mnot\u001B[39;00m \u001B[38;5;28;01mNone\u001B[39;00m:\n\u001B[1;32m    636\u001B[0m     c \u001B[38;5;241m=\u001B[39m \u001B[38;5;28mself\u001B[39m\u001B[38;5;241m.\u001B[39mcursor()\n",
      "File \u001B[0;32m~/venv/lib/python3.10/site-packages/pymysql/connections.py:907\u001B[0m, in \u001B[0;36mConnection._request_authentication\u001B[0;34m(self)\u001B[0m\n\u001B[1;32m    904\u001B[0m     data \u001B[38;5;241m+\u001B[39m\u001B[38;5;241m=\u001B[39m struct\u001B[38;5;241m.\u001B[39mpack(\u001B[38;5;124m\"\u001B[39m\u001B[38;5;124mB\u001B[39m\u001B[38;5;124m\"\u001B[39m, \u001B[38;5;28mlen\u001B[39m(connect_attrs)) \u001B[38;5;241m+\u001B[39m connect_attrs\n\u001B[1;32m    906\u001B[0m \u001B[38;5;28mself\u001B[39m\u001B[38;5;241m.\u001B[39mwrite_packet(data)\n\u001B[0;32m--> 907\u001B[0m auth_packet \u001B[38;5;241m=\u001B[39m \u001B[38;5;28;43mself\u001B[39;49m\u001B[38;5;241;43m.\u001B[39;49m\u001B[43m_read_packet\u001B[49m\u001B[43m(\u001B[49m\u001B[43m)\u001B[49m\n\u001B[1;32m    909\u001B[0m \u001B[38;5;66;03m# if authentication method isn't accepted the first byte\u001B[39;00m\n\u001B[1;32m    910\u001B[0m \u001B[38;5;66;03m# will have the octet 254\u001B[39;00m\n\u001B[1;32m    911\u001B[0m \u001B[38;5;28;01mif\u001B[39;00m auth_packet\u001B[38;5;241m.\u001B[39mis_auth_switch_request():\n",
      "File \u001B[0;32m~/venv/lib/python3.10/site-packages/pymysql/connections.py:725\u001B[0m, in \u001B[0;36mConnection._read_packet\u001B[0;34m(self, packet_type)\u001B[0m\n\u001B[1;32m    723\u001B[0m     \u001B[38;5;28;01mif\u001B[39;00m \u001B[38;5;28mself\u001B[39m\u001B[38;5;241m.\u001B[39m_result \u001B[38;5;129;01mis\u001B[39;00m \u001B[38;5;129;01mnot\u001B[39;00m \u001B[38;5;28;01mNone\u001B[39;00m \u001B[38;5;129;01mand\u001B[39;00m \u001B[38;5;28mself\u001B[39m\u001B[38;5;241m.\u001B[39m_result\u001B[38;5;241m.\u001B[39munbuffered_active \u001B[38;5;129;01mis\u001B[39;00m \u001B[38;5;28;01mTrue\u001B[39;00m:\n\u001B[1;32m    724\u001B[0m         \u001B[38;5;28mself\u001B[39m\u001B[38;5;241m.\u001B[39m_result\u001B[38;5;241m.\u001B[39munbuffered_active \u001B[38;5;241m=\u001B[39m \u001B[38;5;28;01mFalse\u001B[39;00m\n\u001B[0;32m--> 725\u001B[0m     \u001B[43mpacket\u001B[49m\u001B[38;5;241;43m.\u001B[39;49m\u001B[43mraise_for_error\u001B[49m\u001B[43m(\u001B[49m\u001B[43m)\u001B[49m\n\u001B[1;32m    726\u001B[0m \u001B[38;5;28;01mreturn\u001B[39;00m packet\n",
      "File \u001B[0;32m~/venv/lib/python3.10/site-packages/pymysql/protocol.py:221\u001B[0m, in \u001B[0;36mMysqlPacket.raise_for_error\u001B[0;34m(self)\u001B[0m\n\u001B[1;32m    219\u001B[0m \u001B[38;5;28;01mif\u001B[39;00m DEBUG:\n\u001B[1;32m    220\u001B[0m     \u001B[38;5;28mprint\u001B[39m(\u001B[38;5;124m\"\u001B[39m\u001B[38;5;124merrno =\u001B[39m\u001B[38;5;124m\"\u001B[39m, errno)\n\u001B[0;32m--> 221\u001B[0m \u001B[43merr\u001B[49m\u001B[38;5;241;43m.\u001B[39;49m\u001B[43mraise_mysql_exception\u001B[49m\u001B[43m(\u001B[49m\u001B[38;5;28;43mself\u001B[39;49m\u001B[38;5;241;43m.\u001B[39;49m\u001B[43m_data\u001B[49m\u001B[43m)\u001B[49m\n",
      "File \u001B[0;32m~/venv/lib/python3.10/site-packages/pymysql/err.py:143\u001B[0m, in \u001B[0;36mraise_mysql_exception\u001B[0;34m(data)\u001B[0m\n\u001B[1;32m    141\u001B[0m \u001B[38;5;28;01mif\u001B[39;00m errorclass \u001B[38;5;129;01mis\u001B[39;00m \u001B[38;5;28;01mNone\u001B[39;00m:\n\u001B[1;32m    142\u001B[0m     errorclass \u001B[38;5;241m=\u001B[39m InternalError \u001B[38;5;28;01mif\u001B[39;00m errno \u001B[38;5;241m<\u001B[39m \u001B[38;5;241m1000\u001B[39m \u001B[38;5;28;01melse\u001B[39;00m OperationalError\n\u001B[0;32m--> 143\u001B[0m \u001B[38;5;28;01mraise\u001B[39;00m errorclass(errno, errval)\n",
      "\u001B[0;31mOperationalError\u001B[0m: (1045, \"Access denied for user 'mityashekhov'@'localhost' (using password: YES)\")"
     ]
    }
   ],
   "source": [
    "open_ssh_tunnel()\n",
    "mysql_connect()\n",
    "df = run_query('SELECT * FROM deals LIMIT 100')\n",
    "df.head()"
   ],
   "metadata": {
    "collapsed": false
   }
  }
 ],
 "metadata": {
  "kernelspec": {
   "display_name": "Python 3",
   "language": "python",
   "name": "python3"
  },
  "language_info": {
   "codemirror_mode": {
    "name": "ipython",
    "version": 2
   },
   "file_extension": ".py",
   "mimetype": "text/x-python",
   "name": "python",
   "nbconvert_exporter": "python",
   "pygments_lexer": "ipython2",
   "version": "2.7.6"
  }
 },
 "nbformat": 4,
 "nbformat_minor": 0
}
