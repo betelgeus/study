{
 "cells": [
  {
   "cell_type": "code",
   "execution_count": 1,
   "metadata": {
    "collapsed": true
   },
   "outputs": [],
   "source": [
    "# manual nested cross-validation for random forest on a classification dataset\n",
    "from numpy import mean\n",
    "from numpy import std\n",
    "from sklearn.datasets import make_classification\n",
    "from sklearn.model_selection import KFold\n",
    "from sklearn.model_selection import GridSearchCV\n",
    "from sklearn.ensemble import RandomForestClassifier\n",
    "from sklearn.metrics import accuracy_score"
   ]
  },
  {
   "cell_type": "code",
   "execution_count": 2,
   "outputs": [],
   "source": [
    "# create dataset\n",
    "X, y = make_classification(n_samples=1000, n_features=20, random_state=1, n_informative=10, n_redundant=10)"
   ],
   "metadata": {
    "collapsed": false
   }
  },
  {
   "cell_type": "code",
   "execution_count": 3,
   "outputs": [],
   "source": [
    "# configure the cross-validation procedure\n",
    "cv_outer = KFold(n_splits=4, shuffle=True, random_state=1)\n",
    "# enumerate splits\n",
    "outer_results = list()"
   ],
   "metadata": {
    "collapsed": false
   }
  },
  {
   "cell_type": "code",
   "execution_count": 4,
   "outputs": [
    {
     "name": "stdout",
     "output_type": "stream",
     "text": [
      "==GridSearchCV==\n",
      "GridSearchCV(cv=KFold(n_splits=3, random_state=1, shuffle=True),\n",
      "             estimator=RandomForestClassifier(random_state=1),\n",
      "             param_grid={'max_features': [2, 4, 6],\n",
      "                         'n_estimators': [10, 100, 500]},\n",
      "             scoring='accuracy', verbose=True)\n",
      "Fitting 3 folds for each of 9 candidates, totalling 27 fits\n",
      "==Best Model==\n",
      "RandomForestClassifier(max_features=4, n_estimators=500, random_state=1)\n",
      "==Inner Score==\n",
      "Accuracy: 0.9293333333333332\n",
      "==Outer Score==\n",
      "Accuracy: 0.908\n",
      "===REPORT===\n",
      ">acc=0.908, est=0.929, cfg={'max_features': 4, 'n_estimators': 500}\n",
      "+++++CYCLE END+++++\n",
      "==GridSearchCV==\n",
      "GridSearchCV(cv=KFold(n_splits=3, random_state=1, shuffle=True),\n",
      "             estimator=RandomForestClassifier(random_state=1),\n",
      "             param_grid={'max_features': [2, 4, 6],\n",
      "                         'n_estimators': [10, 100, 500]},\n",
      "             scoring='accuracy', verbose=True)\n",
      "Fitting 3 folds for each of 9 candidates, totalling 27 fits\n",
      "==Best Model==\n",
      "RandomForestClassifier(max_features=4, n_estimators=500, random_state=1)\n",
      "==Inner Score==\n",
      "Accuracy: 0.9186666666666667\n",
      "==Outer Score==\n",
      "Accuracy: 0.928\n",
      "===REPORT===\n",
      ">acc=0.928, est=0.919, cfg={'max_features': 4, 'n_estimators': 500}\n",
      "+++++CYCLE END+++++\n",
      "==GridSearchCV==\n",
      "GridSearchCV(cv=KFold(n_splits=3, random_state=1, shuffle=True),\n",
      "             estimator=RandomForestClassifier(random_state=1),\n",
      "             param_grid={'max_features': [2, 4, 6],\n",
      "                         'n_estimators': [10, 100, 500]},\n",
      "             scoring='accuracy', verbose=True)\n",
      "Fitting 3 folds for each of 9 candidates, totalling 27 fits\n",
      "==Best Model==\n",
      "RandomForestClassifier(max_features=4, random_state=1)\n",
      "==Inner Score==\n",
      "Accuracy: 0.916\n",
      "==Outer Score==\n",
      "Accuracy: 0.924\n",
      "===REPORT===\n",
      ">acc=0.924, est=0.916, cfg={'max_features': 4, 'n_estimators': 100}\n",
      "+++++CYCLE END+++++\n",
      "==GridSearchCV==\n",
      "GridSearchCV(cv=KFold(n_splits=3, random_state=1, shuffle=True),\n",
      "             estimator=RandomForestClassifier(random_state=1),\n",
      "             param_grid={'max_features': [2, 4, 6],\n",
      "                         'n_estimators': [10, 100, 500]},\n",
      "             scoring='accuracy', verbose=True)\n",
      "Fitting 3 folds for each of 9 candidates, totalling 27 fits\n",
      "==Best Model==\n",
      "RandomForestClassifier(max_features=4, n_estimators=500, random_state=1)\n",
      "==Inner Score==\n",
      "Accuracy: 0.9253333333333332\n",
      "==Outer Score==\n",
      "Accuracy: 0.928\n",
      "===REPORT===\n",
      ">acc=0.928, est=0.925, cfg={'max_features': 4, 'n_estimators': 500}\n",
      "+++++CYCLE END+++++\n",
      "Accuracy: 0.922 (0.008)\n"
     ]
    }
   ],
   "source": [
    "for train_ix, test_ix in cv_outer.split(X):\n",
    "\t# split data\n",
    "\tX_train, X_test = X[train_ix, :], X[test_ix, :]\n",
    "\ty_train, y_test = y[train_ix], y[test_ix]\n",
    "\t# configure the cross-validation procedure\n",
    "\tcv_inner = KFold(n_splits=3, shuffle=True, random_state=1)\n",
    "\t# define the model\n",
    "\tmodel = RandomForestClassifier(random_state=1)\n",
    "\t# define search space\n",
    "\tspace = dict()\n",
    "\tspace['n_estimators'] = [10, 100, 500]\n",
    "\tspace['max_features'] = [2, 4, 6]\n",
    "\t# define search\n",
    "\tsearch = GridSearchCV(model, space, scoring='accuracy', cv=cv_inner, refit=True, verbose=True)\n",
    "\t# execute search\n",
    "\tprint('==GridSearchCV==')\n",
    "\tprint(search)\n",
    "\tresult = search.fit(X_train, y_train)\n",
    "\t# get the best performing model fit on the whole training set\n",
    "\tbest_model = result.best_estimator_\n",
    "\tprint('==Best Model==')\n",
    "\tprint(best_model)\n",
    "\tprint('==Inner Score==')\n",
    "\tprint('Accuracy:', result.best_score_)\n",
    "\t# evaluate model on the hold out dataset\n",
    "\tyhat = best_model.predict(X_test)\n",
    "\t# evaluate the model\n",
    "\tacc = accuracy_score(y_test, yhat)\n",
    "\tprint('==Outer Score==')\n",
    "\tprint('Accuracy:', acc)\n",
    "\t# store the result\n",
    "\touter_results.append(acc)\n",
    "\t# report progress\n",
    "\tprint('===REPORT===')\n",
    "\tprint('>acc=%.3f, est=%.3f, cfg=%s' % (acc, result.best_score_, result.best_params_))\n",
    "\tprint('+++++CYCLE END+++++')\n",
    "# summarize the estimated performance of the model\n",
    "print('Accuracy: %.3f (%.3f)' % (mean(outer_results), std(outer_results)))"
   ],
   "metadata": {
    "collapsed": false
   }
  },
  {
   "cell_type": "code",
   "execution_count": null,
   "outputs": [],
   "source": [],
   "metadata": {
    "collapsed": false
   }
  }
 ],
 "metadata": {
  "kernelspec": {
   "display_name": "Python 3",
   "language": "python",
   "name": "python3"
  },
  "language_info": {
   "codemirror_mode": {
    "name": "ipython",
    "version": 2
   },
   "file_extension": ".py",
   "mimetype": "text/x-python",
   "name": "python",
   "nbconvert_exporter": "python",
   "pygments_lexer": "ipython2",
   "version": "2.7.6"
  }
 },
 "nbformat": 4,
 "nbformat_minor": 0
}
