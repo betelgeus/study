{
 "cells": [
  {
   "cell_type": "code",
   "execution_count": 205,
   "metadata": {
    "collapsed": true,
    "pycharm": {
     "name": "#%%\n"
    }
   },
   "outputs": [],
   "source": [
    "import pandas as pd\n",
    "import numpy as np\n",
    "import matplotlib.pyplot as plt\n",
    "import seaborn as sns\n",
    "import statsmodels.stats.api as sms\n",
    "from scipy.stats import ttest_ind, mannwhitneyu\n",
    "from statsmodels.stats.proportion import proportions_ztest\n",
    "from tqdm import tqdm"
   ]
  },
  {
   "cell_type": "code",
   "execution_count": 206,
   "outputs": [],
   "source": [
    "# Генерируем две случайные выборки с биномиальным распределением, которые принадлежат одной генеральной совокупности.\n",
    "# Проводим Z-тест. P-value должно быть близкое к единице т.к. выборки принадлежат одной совокупности.\n",
    "# Повторяем 1000 раз, смотрим какая доля тестов с P-value менее 0.05"
   ],
   "metadata": {
    "collapsed": false,
    "pycharm": {
     "name": "#%%\n"
    }
   }
  },
  {
   "cell_type": "code",
   "execution_count": 207,
   "outputs": [
    {
     "name": "stderr",
     "output_type": "stream",
     "text": [
      "100%|██████████| 1000/1000 [00:00<00:00, 4002.39it/s]"
     ]
    },
    {
     "name": "stdout",
     "output_type": "stream",
     "text": [
      "0.056\n"
     ]
    },
    {
     "name": "stderr",
     "output_type": "stream",
     "text": [
      "\n"
     ]
    }
   ],
   "source": [
    "result = []\n",
    "for _ in tqdm(range(1000)):\n",
    "    a = np.random.binomial(1, 0.03, 1000)\n",
    "    b = np.random.binomial(1, 0.03, 1000)\n",
    "    p_value = proportions_ztest([a.sum(), b.sum()], [len(a), len(b)])[1]\n",
    "    result.append(p_value)\n",
    "result = pd.Series(result)\n",
    "print((result < 0.05).mean())"
   ],
   "metadata": {
    "collapsed": false,
    "pycharm": {
     "name": "#%%\n"
    }
   }
  },
  {
   "cell_type": "code",
   "execution_count": 208,
   "outputs": [],
   "source": [
    "# Видим, что доля тестов с P-value <= 0.05 около 5%. Значит в 5% случаев тест находит разницу там, где ее на самом деле нет.\n",
    "# Или можно сказать, что тест в 95% верно определяет, что разницы нет. Такая вероятность в статистике определяется значением параметра alpha.\n",
    "# Например, если alpha = 0.05 мы принимаем погрешность, что 5% случаев мы будем отвергать верную нулевую гипотезу."
   ],
   "metadata": {
    "collapsed": false,
    "pycharm": {
     "name": "#%%\n"
    }
   }
  },
  {
   "cell_type": "code",
   "execution_count": 209,
   "outputs": [
    {
     "data": {
      "text/plain": "<AxesSubplot:>"
     },
     "execution_count": 209,
     "metadata": {},
     "output_type": "execute_result"
    },
    {
     "data": {
      "text/plain": "<Figure size 640x480 with 1 Axes>",
      "image/png": "[encoded data removed]"
     },
     "metadata": {},
     "output_type": "display_data"
    }
   ],
   "source": [
    "# Построим гистограмму распределения P-value\n",
    "result.hist()"
   ],
   "metadata": {
    "collapsed": false,
    "pycharm": {
     "name": "#%%\n"
    }
   }
  },
  {
   "cell_type": "code",
   "execution_count": 210,
   "outputs": [],
   "source": [
    "# Изменим условия. Смоделируем ситуацию, когда выборки не принадлежат одной генеральной совокупности.\n",
    "# Посмотрим, какая доля тестов будет с P-value > 0.05."
   ],
   "metadata": {
    "collapsed": false,
    "pycharm": {
     "name": "#%%\n"
    }
   }
  },
  {
   "cell_type": "code",
   "execution_count": 211,
   "outputs": [
    {
     "name": "stderr",
     "output_type": "stream",
     "text": [
      "100%|██████████| 1000/1000 [00:00<00:00, 3753.81it/s]"
     ]
    },
    {
     "name": "stdout",
     "output_type": "stream",
     "text": [
      "0.914\n"
     ]
    },
    {
     "name": "stderr",
     "output_type": "stream",
     "text": [
      "\n"
     ]
    }
   ],
   "source": [
    "result = []\n",
    "for _ in tqdm(range(1000)):\n",
    "    a = np.random.binomial(1, 0.03, 1000)\n",
    "    b = np.random.binomial(1, 0.035, 1000)\n",
    "    p_value = proportions_ztest([a.sum(), b.sum()], [len(a), len(b)])[1]\n",
    "    result.append(p_value)\n",
    "result = pd.Series(result)\n",
    "print((result >= 0.05).mean())"
   ],
   "metadata": {
    "collapsed": false,
    "pycharm": {
     "name": "#%%\n"
    }
   }
  },
  {
   "cell_type": "code",
   "execution_count": 212,
   "outputs": [],
   "source": [
    "# Тест в 90% случаев показывает, что выборки принадлежат одной генеральной совокупности, хотя это не так. Такая ситуация в статистике называется\n",
    "# ошибка второго рода, когда мы принимаем неверную нулевую гипотезу. Можно переформулировать, что мы не смогли обнаружить отличия там где они есть.\n",
    "# Параметр, который отвечает за вероятность найти отличия в ситуации когда они есть называется мощность. В нашем случае он равен 10%, что очень мало.\n",
    "# Предположим, что тест не может определить изменение в 0.5 процентных пункта на выборках в 1000 наблюдений."
   ],
   "metadata": {
    "collapsed": false,
    "pycharm": {
     "name": "#%%\n"
    }
   }
  },
  {
   "cell_type": "code",
   "execution_count": 213,
   "outputs": [],
   "source": [
    "# Изменим условия теста: увеличим размер выборки до 10 000 наблюдений, P-value <= 0.05"
   ],
   "metadata": {
    "collapsed": false,
    "pycharm": {
     "name": "#%%\n"
    }
   }
  },
  {
   "cell_type": "code",
   "execution_count": 214,
   "outputs": [
    {
     "name": "stderr",
     "output_type": "stream",
     "text": [
      "100%|██████████| 1000/1000 [00:00<00:00, 1761.94it/s]"
     ]
    },
    {
     "name": "stdout",
     "output_type": "stream",
     "text": [
      "0.546\n"
     ]
    },
    {
     "name": "stderr",
     "output_type": "stream",
     "text": [
      "\n"
     ]
    }
   ],
   "source": [
    "result = []\n",
    "for _ in tqdm(range(1000)):\n",
    "    a = np.random.binomial(1, 0.03, 10000)\n",
    "    b = np.random.binomial(1, 0.035, 10000)\n",
    "    p_value = proportions_ztest([a.sum(), b.sum()], [len(a), len(b)])[1]\n",
    "    result.append(p_value)\n",
    "result = pd.Series(result)\n",
    "print((result < 0.05).mean())"
   ],
   "metadata": {
    "collapsed": false,
    "pycharm": {
     "name": "#%%\n"
    }
   }
  },
  {
   "cell_type": "code",
   "execution_count": 215,
   "outputs": [],
   "source": [
    "# Уже лучше. Тест дает ложноположительный результат примерно в 50% случаев. Увеличиваем размер выборки до 20 000 наблюдений."
   ],
   "metadata": {
    "collapsed": false,
    "pycharm": {
     "name": "#%%\n"
    }
   }
  },
  {
   "cell_type": "code",
   "execution_count": 216,
   "outputs": [
    {
     "name": "stderr",
     "output_type": "stream",
     "text": [
      "100%|██████████| 1000/1000 [00:00<00:00, 1210.62it/s]"
     ]
    },
    {
     "name": "stdout",
     "output_type": "stream",
     "text": [
      "0.833\n"
     ]
    },
    {
     "name": "stderr",
     "output_type": "stream",
     "text": [
      "\n"
     ]
    }
   ],
   "source": [
    "result = []\n",
    "for _ in tqdm(range(1000)):\n",
    "    a = np.random.binomial(1, 0.03, 20000)\n",
    "    b = np.random.binomial(1, 0.035, 20000)\n",
    "    p_value = proportions_ztest([a.sum(), b.sum()], [len(a), len(b)])[1]\n",
    "    result.append(p_value)\n",
    "result = pd.Series(result)\n",
    "print((result < 0.05).mean())"
   ],
   "metadata": {
    "collapsed": false,
    "pycharm": {
     "name": "#%%\n"
    }
   }
  },
  {
   "cell_type": "code",
   "execution_count": 217,
   "outputs": [],
   "source": [
    "# Тест верно определяет разницу между выборками в 80% случаев. Что же неплохо. В статистике power=80% считается приемлемым."
   ],
   "metadata": {
    "collapsed": false,
    "pycharm": {
     "name": "#%%\n"
    }
   }
  },
  {
   "cell_type": "code",
   "execution_count": 218,
   "outputs": [
    {
     "data": {
      "text/plain": "<AxesSubplot:>"
     },
     "execution_count": 218,
     "metadata": {},
     "output_type": "execute_result"
    },
    {
     "data": {
      "text/plain": "<Figure size 640x480 with 1 Axes>",
      "image/png": "[encoded data removed]"
     },
     "metadata": {},
     "output_type": "display_data"
    }
   ],
   "source": [
    "# Построим гистограмму распределения\n",
    "result.hist()"
   ],
   "metadata": {
    "collapsed": false,
    "pycharm": {
     "name": "#%%\n"
    }
   }
  },
  {
   "cell_type": "code",
   "execution_count": 219,
   "outputs": [],
   "source": [
    "# Итак, методом тыка мы нашли необходимый размер выборки в 20 000 наблюдений. Вывод: размер выборки влияет на точность теста.\n",
    "# Попробуем более научный подход определения размера выборки. Для этого используем statsmodels.stats.power. NormalIndPower.solve_power\n",
    "# Тест на вход принимает параметры: ожидаемое изменение, размер контрольной выборки, alpha, power, соотношение контрольной и тестовой групп,\n",
    "# тип теста: меньше, больше или двухсторонний. Тест возвращает параметр, который не определен. Например, нам нужно узнать размер выборки.\n",
    "# Не будет его указывать."
   ],
   "metadata": {
    "collapsed": false,
    "pycharm": {
     "name": "#%%\n"
    }
   }
  },
  {
   "cell_type": "code",
   "execution_count": 220,
   "outputs": [
    {
     "name": "stdout",
     "output_type": "stream",
     "text": [
      "-0.02821746104476741\n",
      "19715\n"
     ]
    }
   ],
   "source": [
    "es = sms.proportion_effectsize(0.03, 0.035)\n",
    "sample_size = round(sms.NormalIndPower().solve_power(es, power=0.80, alpha=0.05, ratio=1))\n",
    "print(es)\n",
    "print(sample_size)"
   ],
   "metadata": {
    "collapsed": false,
    "pycharm": {
     "name": "#%%\n"
    }
   }
  },
  {
   "cell_type": "code",
   "execution_count": 221,
   "outputs": [],
   "source": [
    "# Для генерации выборок мы использовали биномиальное распределение, для вычисления P-value использовали Z-тест.\n",
    "# Попробуем другие тесты."
   ],
   "metadata": {
    "collapsed": false,
    "pycharm": {
     "name": "#%%\n"
    }
   }
  },
  {
   "cell_type": "code",
   "execution_count": 222,
   "outputs": [],
   "source": [
    "# Первый в нашей очереди T-тест. Используем ttest_ind из библиотеки scipy.stats. Тест принимает параметры: a, b это две выборки,\n",
    "# которые содержат положительные и отрицательные результаты, в нашем случае массив из нулей и единиц [1, 0, 0, 0, 1], equal_var — по умолчанию False.\n",
    "# False — выборки принадлежат одной генеральной совокупности с одинаковой дисперсией, используется обычный T-тест, True — выборки принадлежат\n",
    "# разным генеральным совокупностям, используется T-тест Уэлча.\n",
    "# !!! Обрати внимание, equal_var=False"
   ],
   "metadata": {
    "collapsed": false,
    "pycharm": {
     "name": "#%%\n"
    }
   }
  },
  {
   "cell_type": "code",
   "execution_count": 223,
   "outputs": [
    {
     "name": "stderr",
     "output_type": "stream",
     "text": [
      "100%|██████████| 1000/1000 [00:01<00:00, 672.62it/s]"
     ]
    },
    {
     "name": "stdout",
     "output_type": "stream",
     "text": [
      "Среднее стандартное отклонение для группы A: 0.17052783085073167\n",
      "Среднее стандартное отклонение для группы B: 0.17046655845158382\n",
      "alpha=0.054\n"
     ]
    },
    {
     "name": "stderr",
     "output_type": "stream",
     "text": [
      "\n"
     ]
    }
   ],
   "source": [
    "result = []\n",
    "a_st_dev = []\n",
    "b_st_dev = []\n",
    "for _ in tqdm(range(1000)):\n",
    "    a = np.random.binomial(1, 0.03, 19715)\n",
    "    a_st_dev.append(np.std(a))\n",
    "    b = np.random.binomial(1, 0.03, 19715)\n",
    "    b_st_dev.append(np.std(b))\n",
    "    p_value = ttest_ind(a, b, equal_var=False)[1]\n",
    "    result.append(p_value)\n",
    "a_result = pd.Series(a_st_dev)\n",
    "b_result = pd.Series(b_st_dev)\n",
    "result = pd.Series(result)\n",
    "print('Среднее стандартное отклонение для группы A:', a_result.mean())\n",
    "print('Среднее стандартное отклонение для группы B:', b_result.mean())\n",
    "print('alpha=', (result < 0.05).mean(), sep='')"
   ],
   "metadata": {
    "collapsed": false,
    "pycharm": {
     "name": "#%%\n"
    }
   }
  },
  {
   "cell_type": "code",
   "execution_count": 224,
   "outputs": [
    {
     "data": {
      "text/plain": "<AxesSubplot:>"
     },
     "execution_count": 224,
     "metadata": {},
     "output_type": "execute_result"
    },
    {
     "data": {
      "text/plain": "<Figure size 640x480 with 1 Axes>",
      "image/png": "[encoded data removed]"
     },
     "metadata": {},
     "output_type": "display_data"
    }
   ],
   "source": [
    "result.hist()"
   ],
   "metadata": {
    "collapsed": false,
    "pycharm": {
     "name": "#%%\n"
    }
   }
  },
  {
   "cell_type": "code",
   "execution_count": 225,
   "outputs": [
    {
     "name": "stderr",
     "output_type": "stream",
     "text": [
      "100%|██████████| 1000/1000 [00:01<00:00, 729.53it/s]"
     ]
    },
    {
     "name": "stdout",
     "output_type": "stream",
     "text": [
      "Среднее стандартное отклонение для группы A: 0.1704797019821507\n",
      "Среднее стандартное отклонение для группы B: 0.1837688023221973\n",
      "power=0.808\n"
     ]
    },
    {
     "name": "stderr",
     "output_type": "stream",
     "text": [
      "\n"
     ]
    }
   ],
   "source": [
    "result = []\n",
    "a_st_dev = []\n",
    "b_st_dev = []\n",
    "for _ in tqdm(range(1000)):\n",
    "    a = np.random.binomial(1, 0.03, 19715)\n",
    "    a_st_dev.append(np.std(a))\n",
    "    b = np.random.binomial(1, 0.035, 19715)\n",
    "    b_st_dev.append(np.std(b))\n",
    "    p_value = ttest_ind(a, b, equal_var=True)[1]\n",
    "    result.append(p_value)\n",
    "a_result = pd.Series(a_st_dev)\n",
    "b_result = pd.Series(b_st_dev)\n",
    "result = pd.Series(result)\n",
    "print('Среднее стандартное отклонение для группы A:', a_result.mean())\n",
    "print('Среднее стандартное отклонение для группы B:', b_result.mean())\n",
    "print('power=', (result < 0.05).mean(), sep='')"
   ],
   "metadata": {
    "collapsed": false,
    "pycharm": {
     "name": "#%%\n"
    }
   }
  },
  {
   "cell_type": "code",
   "execution_count": 226,
   "outputs": [
    {
     "data": {
      "text/plain": "<AxesSubplot:>"
     },
     "execution_count": 226,
     "metadata": {},
     "output_type": "execute_result"
    },
    {
     "data": {
      "text/plain": "<Figure size 640x480 with 1 Axes>",
      "image/png": "[encoded data removed]"
     },
     "metadata": {},
     "output_type": "display_data"
    }
   ],
   "source": [
    "result.hist()"
   ],
   "metadata": {
    "collapsed": false,
    "pycharm": {
     "name": "#%%\n"
    }
   }
  },
  {
   "cell_type": "code",
   "execution_count": 227,
   "outputs": [],
   "source": [
    "# Вывод T-тест дает схожие показатели alpha и power, распределение P-value"
   ],
   "metadata": {
    "collapsed": false,
    "pycharm": {
     "name": "#%%\n"
    }
   }
  },
  {
   "cell_type": "code",
   "execution_count": 228,
   "outputs": [],
   "source": [
    "# Для разнообразия попробуем непараметрический U-тест Манна-Уитни. Он хорош для малых выборок или когда есть значительные выбросы (высокая дисперсия)\n",
    "# или для анализа непрерывных переменных"
   ],
   "metadata": {
    "collapsed": false,
    "pycharm": {
     "name": "#%%\n"
    }
   }
  },
  {
   "cell_type": "code",
   "execution_count": 229,
   "outputs": [
    {
     "name": "stderr",
     "output_type": "stream",
     "text": [
      "100%|██████████| 1000/1000 [00:25<00:00, 38.95it/s]"
     ]
    },
    {
     "name": "stdout",
     "output_type": "stream",
     "text": [
      "alpha=0.059\n"
     ]
    },
    {
     "name": "stderr",
     "output_type": "stream",
     "text": [
      "\n"
     ]
    }
   ],
   "source": [
    "result = []\n",
    "for _ in tqdm(range(1000)):\n",
    "    a = np.random.binomial(1, 0.03, 19715)\n",
    "    b = np.random.binomial(1, 0.03, 19715)\n",
    "    p_value = mannwhitneyu(a, b)[1]\n",
    "    result.append(p_value)\n",
    "result = pd.Series(result)\n",
    "print('alpha=', (result < 0.05).mean(), sep='')"
   ],
   "metadata": {
    "collapsed": false,
    "pycharm": {
     "name": "#%%\n"
    }
   }
  },
  {
   "cell_type": "code",
   "execution_count": 230,
   "outputs": [
    {
     "name": "stderr",
     "output_type": "stream",
     "text": [
      "100%|██████████| 1000/1000 [00:24<00:00, 40.28it/s]"
     ]
    },
    {
     "name": "stdout",
     "output_type": "stream",
     "text": [
      "power=0.804\n"
     ]
    },
    {
     "name": "stderr",
     "output_type": "stream",
     "text": [
      "\n"
     ]
    }
   ],
   "source": [
    "result = []\n",
    "for _ in tqdm(range(1000)):\n",
    "    a = np.random.binomial(1, 0.03, 19715)\n",
    "    b = np.random.binomial(1, 0.035, 19715)\n",
    "    p_value = mannwhitneyu(a, b)[1]\n",
    "    result.append(p_value)\n",
    "result = pd.Series(result)\n",
    "print('power=', (result < 0.05).mean(), sep='')"
   ],
   "metadata": {
    "collapsed": false,
    "pycharm": {
     "name": "#%%\n"
    }
   }
  },
  {
   "cell_type": "code",
   "execution_count": null,
   "outputs": [],
   "source": [
    "# Манн-Уитни дал схожие результаты."
   ],
   "metadata": {
    "collapsed": false,
    "pycharm": {
     "name": "#%%\n"
    }
   }
  }
 ],
 "metadata": {
  "kernelspec": {
   "display_name": "Python 3",
   "language": "python",
   "name": "python3"
  },
  "language_info": {
   "codemirror_mode": {
    "name": "ipython",
    "version": 2
   },
   "file_extension": ".py",
   "mimetype": "text/x-python",
   "name": "python",
   "nbconvert_exporter": "python",
   "pygments_lexer": "ipython2",
   "version": "2.7.6"
  }
 },
 "nbformat": 4,
 "nbformat_minor": 0
}