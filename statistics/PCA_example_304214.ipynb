{
 "cells": [
  {
   "cell_type": "code",
   "execution_count": 1,
   "metadata": {
    "collapsed": true
   },
   "outputs": [],
   "source": [
    "import pandas as pd\n",
    "import numpy as np\n",
    "import matplotlib.pyplot as plt\n",
    "from sklearn.decomposition import PCA"
   ]
  },
  {
   "cell_type": "code",
   "execution_count": 2,
   "outputs": [
    {
     "data": {
      "text/plain": "   x         y\n0  1 -0.061139\n1  2  3.218663\n2  3  4.294068",
      "text/html": "<div>\n<style scoped>\n    .dataframe tbody tr th:only-of-type {\n        vertical-align: middle;\n    }\n\n    .dataframe tbody tr th {\n        vertical-align: top;\n    }\n\n    .dataframe thead th {\n        text-align: right;\n    }\n</style>\n<table border=\"1\" class=\"dataframe\">\n  <thead>\n    <tr style=\"text-align: right;\">\n      <th></th>\n      <th>x</th>\n      <th>y</th>\n    </tr>\n  </thead>\n  <tbody>\n    <tr>\n      <th>0</th>\n      <td>1</td>\n      <td>-0.061139</td>\n    </tr>\n    <tr>\n      <th>1</th>\n      <td>2</td>\n      <td>3.218663</td>\n    </tr>\n    <tr>\n      <th>2</th>\n      <td>3</td>\n      <td>4.294068</td>\n    </tr>\n  </tbody>\n</table>\n</div>"
     },
     "execution_count": 2,
     "metadata": {},
     "output_type": "execute_result"
    }
   ],
   "source": [
    "# создадим 10 случайных наблюдений, где y линейно зависит от x\n",
    "x_1 = np.arange(1,11)\n",
    "y = 2 * x_1 + np.random.randn(10)*2\n",
    "X = pd.DataFrame({'x':x_1, 'y':y})\n",
    "X.head(3)"
   ],
   "metadata": {
    "collapsed": false
   }
  },
  {
   "cell_type": "code",
   "execution_count": 3,
   "outputs": [
    {
     "data": {
      "text/plain": "(5.5, 9.87934944074884)"
     },
     "execution_count": 3,
     "metadata": {},
     "output_type": "execute_result"
    }
   ],
   "source": [
    "# создадим вектор со средними значениями по осям x и y\n",
    "# средние значения пригодятся для преобразования компонент в матрицу исходных значений\n",
    "mean_val_vect = (X['x'].mean(), X['y'].mean())\n",
    "mean_val_vect"
   ],
   "metadata": {
    "collapsed": false
   }
  },
  {
   "cell_type": "code",
   "execution_count": 4,
   "outputs": [
    {
     "data": {
      "text/plain": "<Figure size 640x480 with 1 Axes>",
      "image/png": "[encoded data removed]"
     },
     "metadata": {},
     "output_type": "display_data"
    }
   ],
   "source": [
    "X.plot(kind='scatter', x='x', y='y')\n",
    "plt.show()"
   ],
   "metadata": {
    "collapsed": false
   }
  },
  {
   "cell_type": "code",
   "execution_count": 5,
   "outputs": [
    {
     "data": {
      "text/plain": "<Figure size 640x480 with 1 Axes>",
      "image/png": "[encoded data removed]"
     },
     "metadata": {},
     "output_type": "display_data"
    }
   ],
   "source": [
    "# нормализуем значения со средним равным 0, оставив первоначальную дисперсию\n",
    "Z = pd.DataFrame()\n",
    "Z['x'] = X['x'] - X['x'].mean()\n",
    "Z['y'] = X['y'] - X['y'].mean()\n",
    "Z.plot(kind='scatter', x='x', y='y')\n",
    "plt.show()"
   ],
   "metadata": {
    "collapsed": false
   }
  },
  {
   "cell_type": "code",
   "execution_count": 6,
   "outputs": [
    {
     "data": {
      "text/plain": "array([[-4.5       , -3.5       , -2.5       , -1.5       , -0.5       ,\n         0.5       ,  1.5       ,  2.5       ,  3.5       ,  4.5       ],\n       [-9.94048875, -6.66068681, -5.5852817 , -3.48125062, -1.81257067,\n         0.57576052,  0.98677207,  6.27152377,  6.89365722, 12.75256496]])"
     },
     "execution_count": 6,
     "metadata": {},
     "output_type": "execute_result"
    }
   ],
   "source": [
    "# сделаем преобразование в более подходящий формат\n",
    "Z = Z.to_numpy()\n",
    "Z_T = Z.T\n",
    "Z_T"
   ],
   "metadata": {
    "collapsed": false
   }
  },
  {
   "cell_type": "code",
   "execution_count": 7,
   "outputs": [
    {
     "data": {
      "text/plain": "array([[ 82.5       , 187.09715907],\n       [187.09715907, 440.56560782]])"
     },
     "execution_count": 7,
     "metadata": {},
     "output_type": "execute_result"
    }
   ],
   "source": [
    "# найдем матричное произведение матриц Z и Z транспонированная\n",
    "ZtZ = (Z.T.dot(Z))\n",
    "# и число степеней свободы\n",
    "df = len(x_1) - 1\n",
    "ZtZ"
   ],
   "metadata": {
    "collapsed": false
   }
  },
  {
   "cell_type": "code",
   "execution_count": 8,
   "outputs": [
    {
     "data": {
      "text/plain": "array([[ 9.16666667, 20.78857323],\n       [20.78857323, 48.9517342 ]])"
     },
     "execution_count": 8,
     "metadata": {},
     "output_type": "execute_result"
    }
   ],
   "source": [
    "# найдем ковариационную матрицу\n",
    "cov_matrix = ZtZ / df\n",
    "var_sum = cov_matrix[0,0] + cov_matrix[1,1]\n",
    "cov_matrix"
   ],
   "metadata": {
    "collapsed": false
   }
  },
  {
   "cell_type": "code",
   "execution_count": 9,
   "outputs": [
    {
     "name": "stdout",
     "output_type": "stream",
     "text": [
      "Variance of X:  9.166666666666666\n",
      "Variance of Y:  48.95173420187243\n",
      "Covariance X and Y:  20.788573230538162\n"
     ]
    }
   ],
   "source": [
    "print(\"Variance of X: \", cov_matrix[0,0])\n",
    "print(\"Variance of Y: \", cov_matrix[1,1])\n",
    "print(\"Covariance X and Y: \", cov_matrix[0,1])"
   ],
   "metadata": {
    "collapsed": false
   }
  },
  {
   "cell_type": "code",
   "execution_count": 10,
   "outputs": [
    {
     "data": {
      "text/plain": "array([[ 9.16666667, 20.78857323],\n       [20.78857323, 48.9517342 ]])"
     },
     "execution_count": 10,
     "metadata": {},
     "output_type": "execute_result"
    }
   ],
   "source": [
    "# готовый метод numpy cov()\n",
    "np.cov(Z_T)"
   ],
   "metadata": {
    "collapsed": false
   }
  },
  {
   "cell_type": "code",
   "execution_count": 11,
   "outputs": [
    {
     "name": "stdout",
     "output_type": "stream",
     "text": [
      "eigenvalues:  [ 0.28633689 57.83206398]\n",
      "eigenvector:  [[-0.91960981 -0.39283304]\n",
      " [ 0.39283304 -0.91960981]]\n"
     ]
    }
   ],
   "source": [
    "# найдем собственные значения и собственную матрицу для ковариационной матрицы\n",
    "eigenvalues, eigenvector = np.linalg.eig(cov_matrix)\n",
    "print('eigenvalues: ', eigenvalues)\n",
    "print('eigenvector: ', eigenvector)"
   ],
   "metadata": {
    "collapsed": false
   }
  },
  {
   "cell_type": "code",
   "execution_count": 12,
   "outputs": [
    {
     "data": {
      "text/plain": "array([-10.90911965,  -7.50014857,  -6.11836244])"
     },
     "execution_count": 12,
     "metadata": {},
     "output_type": "execute_result"
    }
   ],
   "source": [
    "# используем второй вектор так, как второе собственное значение больше первого\n",
    "vecs = -eigenvector[:, 1]\n",
    "X_reduced = vecs.dot(Z.T)\n",
    "X_reduced[:3]"
   ],
   "metadata": {
    "collapsed": false
   }
  },
  {
   "cell_type": "code",
   "execution_count": 13,
   "outputs": [
    {
     "name": "stdout",
     "output_type": "stream",
     "text": [
      "Restored:  [10.80133391 22.2896057 ]\n",
      "Original:  [10.0, 22.6319143972007]\n"
     ]
    }
   ],
   "source": [
    "# восстановим случайный элемент\n",
    "n = 9 # номер элемента случайной величины\n",
    "X_restored = vecs.dot(X_reduced[n]) + mean_val_vect\n",
    "print('Restored: ', X_restored)\n",
    "print('Original: ', list(X.loc[n]))"
   ],
   "metadata": {
    "collapsed": false
   }
  },
  {
   "cell_type": "code",
   "execution_count": 14,
   "outputs": [],
   "source": [
    "# восстановим матрицу первоначальных значений\n",
    "X_restored = X_reduced.reshape(len(X_reduced), 1).dot(vecs.reshape(1, len(vecs))) + mean_val_vect"
   ],
   "metadata": {
    "collapsed": false
   }
  },
  {
   "cell_type": "code",
   "execution_count": 15,
   "outputs": [
    {
     "data": {
      "text/plain": "     x         y         0         1    diff_x    diff_y\n0  1.0 -0.061139  1.214537 -0.152784  0.046026  0.008399\n1  2.0  3.218663  2.553694  2.982139  0.306577  0.055943\n2  3.0  4.294068  3.096505  4.252843  0.009313  0.001699\n3  4.0  6.398099  4.010911  6.393438  0.000119  0.000022\n4  5.0  8.066779  4.768044  8.165864  0.053803  0.009818",
      "text/html": "<div>\n<style scoped>\n    .dataframe tbody tr th:only-of-type {\n        vertical-align: middle;\n    }\n\n    .dataframe tbody tr th {\n        vertical-align: top;\n    }\n\n    .dataframe thead th {\n        text-align: right;\n    }\n</style>\n<table border=\"1\" class=\"dataframe\">\n  <thead>\n    <tr style=\"text-align: right;\">\n      <th></th>\n      <th>x</th>\n      <th>y</th>\n      <th>0</th>\n      <th>1</th>\n      <th>diff_x</th>\n      <th>diff_y</th>\n    </tr>\n  </thead>\n  <tbody>\n    <tr>\n      <th>0</th>\n      <td>1.0</td>\n      <td>-0.061139</td>\n      <td>1.214537</td>\n      <td>-0.152784</td>\n      <td>0.046026</td>\n      <td>0.008399</td>\n    </tr>\n    <tr>\n      <th>1</th>\n      <td>2.0</td>\n      <td>3.218663</td>\n      <td>2.553694</td>\n      <td>2.982139</td>\n      <td>0.306577</td>\n      <td>0.055943</td>\n    </tr>\n    <tr>\n      <th>2</th>\n      <td>3.0</td>\n      <td>4.294068</td>\n      <td>3.096505</td>\n      <td>4.252843</td>\n      <td>0.009313</td>\n      <td>0.001699</td>\n    </tr>\n    <tr>\n      <th>3</th>\n      <td>4.0</td>\n      <td>6.398099</td>\n      <td>4.010911</td>\n      <td>6.393438</td>\n      <td>0.000119</td>\n      <td>0.000022</td>\n    </tr>\n    <tr>\n      <th>4</th>\n      <td>5.0</td>\n      <td>8.066779</td>\n      <td>4.768044</td>\n      <td>8.165864</td>\n      <td>0.053803</td>\n      <td>0.009818</td>\n    </tr>\n  </tbody>\n</table>\n</div>"
     },
     "execution_count": 15,
     "metadata": {},
     "output_type": "execute_result"
    }
   ],
   "source": [
    "# сравним и найдем разницу\n",
    "total = pd.concat([X, pd.DataFrame(X_restored)], axis=1)\n",
    "total['diff_x'] = (total['x'] - total[0]) ** 2\n",
    "total['diff_y'] = (total['y'] - total[1]) ** 2\n",
    "total.loc['Total'] = np.sqrt(total.sum())\n",
    "total.head(5)"
   ],
   "metadata": {
    "collapsed": false
   }
  },
  {
   "cell_type": "code",
   "execution_count": 16,
   "outputs": [],
   "source": [
    "# инициируем готовый метод sklearn, с одной компонентой\n",
    "pca = PCA(n_components=1)"
   ],
   "metadata": {
    "collapsed": false
   }
  },
  {
   "cell_type": "code",
   "execution_count": 17,
   "outputs": [],
   "source": [
    "X_sklearn_reduced = pca.fit_transform(X)"
   ],
   "metadata": {
    "collapsed": false
   }
  },
  {
   "cell_type": "code",
   "execution_count": 18,
   "outputs": [
    {
     "data": {
      "text/plain": "      Manual    Sklearn\n0 -10.909120 -10.909120\n1  -7.500149  -7.500149\n2  -6.118362  -6.118362\n3  -3.790642  -3.790642\n4  -1.863274  -1.863274",
      "text/html": "<div>\n<style scoped>\n    .dataframe tbody tr th:only-of-type {\n        vertical-align: middle;\n    }\n\n    .dataframe tbody tr th {\n        vertical-align: top;\n    }\n\n    .dataframe thead th {\n        text-align: right;\n    }\n</style>\n<table border=\"1\" class=\"dataframe\">\n  <thead>\n    <tr style=\"text-align: right;\">\n      <th></th>\n      <th>Manual</th>\n      <th>Sklearn</th>\n    </tr>\n  </thead>\n  <tbody>\n    <tr>\n      <th>0</th>\n      <td>-10.909120</td>\n      <td>-10.909120</td>\n    </tr>\n    <tr>\n      <th>1</th>\n      <td>-7.500149</td>\n      <td>-7.500149</td>\n    </tr>\n    <tr>\n      <th>2</th>\n      <td>-6.118362</td>\n      <td>-6.118362</td>\n    </tr>\n    <tr>\n      <th>3</th>\n      <td>-3.790642</td>\n      <td>-3.790642</td>\n    </tr>\n    <tr>\n      <th>4</th>\n      <td>-1.863274</td>\n      <td>-1.863274</td>\n    </tr>\n  </tbody>\n</table>\n</div>"
     },
     "execution_count": 18,
     "metadata": {},
     "output_type": "execute_result"
    }
   ],
   "source": [
    "# сравним аналитическое и sklearn решения\n",
    "compare = pd.DataFrame()\n",
    "compare['Manual'] = X_reduced\n",
    "compare['Sklearn'] = X_sklearn_reduced\n",
    "compare.head(5)"
   ],
   "metadata": {
    "collapsed": false
   }
  },
  {
   "cell_type": "code",
   "execution_count": 19,
   "outputs": [
    {
     "name": "stdout",
     "output_type": "stream",
     "text": [
      "Mean vector:  [5.5        9.87934944] (5.5, 9.87934944074884)\n",
      "Projection:  [[0.39283304 0.91960981]] [0.39283304 0.91960981]\n",
      "Explained variance:  [57.83206398] 57.832063980615935\n",
      "Explained variance ratio:  [0.99507321] 0.9950732146162995\n"
     ]
    }
   ],
   "source": [
    "# сравним ключевые характеристики\n",
    "print('Mean vector: ', pca.mean_, mean_val_vect)\n",
    "print('Projection: ', pca.components_, vecs)\n",
    "print('Explained variance: ', pca.explained_variance_, eigenvalues[1])\n",
    "print('Explained variance ratio: ', pca.explained_variance_ratio_, eigenvalues[1] / var_sum)"
   ],
   "metadata": {
    "collapsed": false
   }
  },
  {
   "cell_type": "code",
   "execution_count": 27,
   "outputs": [],
   "source": [],
   "metadata": {
    "collapsed": false
   }
  }
 ],
 "metadata": {
  "kernelspec": {
   "display_name": "Python 3",
   "language": "python",
   "name": "python3"
  },
  "language_info": {
   "codemirror_mode": {
    "name": "ipython",
    "version": 2
   },
   "file_extension": ".py",
   "mimetype": "text/x-python",
   "name": "python",
   "nbconvert_exporter": "python",
   "pygments_lexer": "ipython2",
   "version": "2.7.6"
  }
 },
 "nbformat": 4,
 "nbformat_minor": 0
}
