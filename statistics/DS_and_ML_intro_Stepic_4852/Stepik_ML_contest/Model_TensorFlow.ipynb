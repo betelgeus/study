{
 "cells": [
  {
   "cell_type": "code",
   "execution_count": 1,
   "outputs": [
    {
     "name": "stderr",
     "output_type": "stream",
     "text": [
      "2022-11-24 14:40:29.682309: I tensorflow/core/platform/cpu_feature_guard.cc:193] This TensorFlow binary is optimized with oneAPI Deep Neural Network Library (oneDNN) to use the following CPU instructions in performance-critical operations:  AVX2 FMA\n",
      "To enable them in other operations, rebuild TensorFlow with the appropriate compiler flags.\n"
     ]
    }
   ],
   "source": [
    "import numpy as np\n",
    "import pandas as pd\n",
    "import matplotlib.pyplot as plt\n",
    "\n",
    "from tensorflow.keras.models import Sequential\n",
    "from tensorflow.keras.layers import Dense\n",
    "\n",
    "from sklearn.metrics import log_loss, roc_auc_score, recall_score, precision_score, average_precision_score, f1_score, classification_report, accuracy_score, ConfusionMatrixDisplay, confusion_matrix,  roc_curve, precision_recall_curve"
   ],
   "metadata": {
    "collapsed": false
   }
  },
  {
   "cell_type": "code",
   "execution_count": 2,
   "outputs": [],
   "source": [
    "import config as conf\n",
    "import data_preparation as pr\n",
    "import features_extract as ex\n",
    "import features_generator as fg"
   ],
   "metadata": {
    "collapsed": false
   }
  },
  {
   "cell_type": "code",
   "execution_count": 3,
   "outputs": [],
   "source": [
    "# DATA PREPARATION\n",
    "train_events = conf.TRAIN_EVENTS\n",
    "train_submissions = conf.TRAIN_SUBMISSIONS\n",
    "test_events = conf.TEST_EVENTS\n",
    "test_submissions = conf.TEST_SUBMISSIONS"
   ],
   "metadata": {
    "collapsed": false
   }
  },
  {
   "cell_type": "code",
   "execution_count": 4,
   "outputs": [],
   "source": [
    "# BASELINE FEATURES\n",
    "# train_data = pr.data_preparation(train_events, train_submissions)\n",
    "# test_data = pr.data_preparation(test_events, test_submissions)"
   ],
   "metadata": {
    "collapsed": false
   }
  },
  {
   "cell_type": "code",
   "execution_count": 5,
   "outputs": [
    {
     "name": "stderr",
     "output_type": "stream",
     "text": [
      "/Users/mitya/PycharmProjects/study/statistics/DS_and_ML_intro_Stepic_4852/Stepik_ML_contest/features_generator.py:27: FutureWarning: merging between different levels is deprecated and will be removed in a future version. (1 levels on the left, 2 on the right)\n",
      "  users_metrics_n_days = users_metrics_n_days.merge(users_metrics_by_days, on='user_id', how='outer').fillna(0)\n",
      "/Users/mitya/PycharmProjects/study/statistics/DS_and_ML_intro_Stepic_4852/Stepik_ML_contest/features_generator.py:27: PerformanceWarning: dropping on a non-lexsorted multi-index without a level parameter may impact performance.\n",
      "  users_metrics_n_days = users_metrics_n_days.merge(users_metrics_by_days, on='user_id', how='outer').fillna(0)\n",
      "/Users/mitya/PycharmProjects/study/statistics/DS_and_ML_intro_Stepic_4852/Stepik_ML_contest/features_generator.py:27: FutureWarning: merging between different levels is deprecated and will be removed in a future version. (1 levels on the left, 2 on the right)\n",
      "  users_metrics_n_days = users_metrics_n_days.merge(users_metrics_by_days, on='user_id', how='outer').fillna(0)\n",
      "/Users/mitya/PycharmProjects/study/statistics/DS_and_ML_intro_Stepic_4852/Stepik_ML_contest/features_generator.py:27: PerformanceWarning: dropping on a non-lexsorted multi-index without a level parameter may impact performance.\n",
      "  users_metrics_n_days = users_metrics_n_days.merge(users_metrics_by_days, on='user_id', how='outer').fillna(0)\n"
     ]
    }
   ],
   "source": [
    "# NEW FEATURES GENERATION\n",
    "train_data = fg.features_generator(train_events, train_submissions)\n",
    "test_data = fg.features_generator(test_events, test_submissions)"
   ],
   "metadata": {
    "collapsed": false
   }
  },
  {
   "cell_type": "code",
   "execution_count": 6,
   "outputs": [],
   "source": [
    "train_data[\n",
    "    'agg'] = train_data.discovered + train_data.viewed + train_data.started_attempt + train_data.wrong + train_data.passed + train_data.correct + train_data.course_complete + train_data.d_1 + train_data.d_2 + train_data.v_1 + train_data.v_2 + train_data.s_1 + train_data.s_2 + train_data.w_1 + train_data.w_2 + train_data.p_1 + train_data.p_2 + train_data.c_1 + train_data.c_2\n",
    "train_data['cw_ratio'] = (train_data.correct / train_data.wrong).fillna(0)\n",
    "train_data.replace([np.inf, -np.inf], 0, inplace=True)\n",
    "test_data[\n",
    "    'agg'] = test_data.discovered + test_data.viewed + test_data.started_attempt + test_data.wrong + test_data.passed + test_data.correct + test_data.course_complete + test_data.d_1 + test_data.d_2 + test_data.v_1 + test_data.v_2 + test_data.s_1 + test_data.s_2 + test_data.w_1 + test_data.w_2 + test_data.p_1 + test_data.p_2 + test_data.c_1 + test_data.c_2\n",
    "test_data['cw_ratio'] = (test_data.correct / test_data.wrong).fillna(0)\n",
    "test_data.replace([np.inf, -np.inf], 0, inplace=True)"
   ],
   "metadata": {
    "collapsed": false
   }
  },
  {
   "cell_type": "code",
   "execution_count": 7,
   "outputs": [],
   "source": [
    "# DROP FEATURES\n",
    "ratio_drop = ['d_ratio', 'v_ratio', 's_ratio', 'w_ratio', 'p_ratio', 'c_ratio']\n",
    "events_by_days_drop = ['d_1', 'd_2', 'v_1', 'v_2', 's_1', 's_2', 'w_1', 'w_2', 'p_1', 'p_2', 'c_1', 'c_2']\n",
    "all_new_features_drop = ['d_ratio', 'v_ratio', 's_ratio', 'w_ratio', 'p_ratio', 'c_ratio', 'd_1', 'd_2', 'v_1', 'v_2', 's_1', 's_2', 'w_1', 'w_2', 'p_1', 'p_2', 'c_1', 'c_2']\n",
    "custom_drop = []\n",
    "\n",
    "train_data_copy = train_data.drop(ratio_drop, axis=1)\n",
    "test_data_copy = test_data.drop(ratio_drop, axis=1)"
   ],
   "metadata": {
    "collapsed": false
   }
  },
  {
   "cell_type": "code",
   "execution_count": 8,
   "outputs": [],
   "source": [
    "# FEATURES EXTRACTION\n",
    "X, y = ex.features_extract(train_data_copy)\n",
    "X_res, _ = ex.features_extract(test_data_copy)"
   ],
   "metadata": {
    "collapsed": false
   }
  },
  {
   "cell_type": "code",
   "execution_count": 9,
   "outputs": [],
   "source": [
    "y = y.map({True: 1, False: 0})"
   ],
   "metadata": {
    "collapsed": false
   }
  },
  {
   "cell_type": "code",
   "execution_count": 10,
   "outputs": [
    {
     "name": "stderr",
     "output_type": "stream",
     "text": [
      "2022-11-24 14:42:42.723599: I tensorflow/core/platform/cpu_feature_guard.cc:193] This TensorFlow binary is optimized with oneAPI Deep Neural Network Library (oneDNN) to use the following CPU instructions in performance-critical operations:  AVX2 FMA\n",
      "To enable them in other operations, rebuild TensorFlow with the appropriate compiler flags.\n"
     ]
    }
   ],
   "source": [
    "# MODEL VALIDATION\n",
    "n_features = X.shape[1]\n",
    "model = Sequential()\n",
    "model.add(Dense(int(round((n_features+1)/2)), input_shape=(n_features,), activation='relu'))\n",
    "model.add(Dense(int(round((n_features+1)/4)), activation='relu'))\n",
    "model.add(Dense(1, activation='sigmoid'))"
   ],
   "metadata": {
    "collapsed": false
   }
  },
  {
   "cell_type": "code",
   "execution_count": 11,
   "outputs": [],
   "source": [
    "model.compile(loss='binary_crossentropy', optimizer='adam', metrics=['accuracy'])"
   ],
   "metadata": {
    "collapsed": false
   }
  },
  {
   "cell_type": "code",
   "execution_count": 12,
   "outputs": [
    {
     "name": "stdout",
     "output_type": "stream",
     "text": [
      "Epoch 1/5\n",
      "1924/1924 [==============================] - 4s 1ms/step - loss: 0.2798 - accuracy: 0.8933\n",
      "Epoch 2/5\n",
      "1924/1924 [==============================] - 2s 1ms/step - loss: 0.2335 - accuracy: 0.9046\n",
      "Epoch 3/5\n",
      "1924/1924 [==============================] - 2s 1ms/step - loss: 0.2295 - accuracy: 0.9065\n",
      "Epoch 4/5\n",
      "1924/1924 [==============================] - 2s 1ms/step - loss: 0.2273 - accuracy: 0.9058\n",
      "Epoch 5/5\n",
      "1924/1924 [==============================] - 3s 2ms/step - loss: 0.2249 - accuracy: 0.9070\n"
     ]
    }
   ],
   "source": [
    "ann = model.fit(X, y, epochs=5, batch_size=10)"
   ],
   "metadata": {
    "collapsed": false
   }
  },
  {
   "cell_type": "code",
   "execution_count": 13,
   "outputs": [
    {
     "name": "stdout",
     "output_type": "stream",
     "text": [
      "602/602 [==============================] - 1s 884us/step\n"
     ]
    }
   ],
   "source": [
    "predictions_proba = model.predict(X)"
   ],
   "metadata": {
    "collapsed": false
   }
  },
  {
   "cell_type": "code",
   "execution_count": 14,
   "outputs": [
    {
     "name": "stdout",
     "output_type": "stream",
     "text": [
      "602/602 [==============================] - 1s 889us/step\n"
     ]
    }
   ],
   "source": [
    "predictions = (model.predict(X) > 0.5).astype(int)"
   ],
   "metadata": {
    "collapsed": false
   }
  },
  {
   "cell_type": "code",
   "execution_count": 15,
   "outputs": [
    {
     "name": "stdout",
     "output_type": "stream",
     "text": [
      "Log loss = 0.22286\n",
      "AUC = 0.88746\n",
      "Average Precision = 0.49603\n",
      "\n",
      "Using 0.5 as threshold:\n",
      "Accuracy = 0.90621\n",
      "Precision = 0.59276\n",
      "Recall = 0.26626\n",
      "F1 score = 0.36746\n",
      "\n",
      "Classification Report\n",
      "              precision    recall  f1-score   support\n",
      "\n",
      "           0       0.92      0.98      0.95     17266\n",
      "           1       0.59      0.27      0.37      1968\n",
      "\n",
      "    accuracy                           0.91     19234\n",
      "   macro avg       0.76      0.62      0.66     19234\n",
      "weighted avg       0.89      0.91      0.89     19234\n",
      "\n"
     ]
    }
   ],
   "source": [
    "print('Log loss = {:.5f}'.format(log_loss(y, predictions_proba)))\n",
    "print('AUC = {:.5f}'.format(roc_auc_score(y, predictions_proba)))\n",
    "print('Average Precision = {:.5f}'.format(average_precision_score(y, predictions_proba)))\n",
    "print('\\nUsing 0.5 as threshold:')\n",
    "print('Accuracy = {:.5f}'.format(accuracy_score(y, predictions)))\n",
    "print('Precision = {:.5f}'.format(precision_score(y, predictions)))\n",
    "print('Recall = {:.5f}'.format(recall_score(y, predictions)))\n",
    "print('F1 score = {:.5f}'.format(f1_score(y, predictions)))\n",
    "\n",
    "print('\\nClassification Report')\n",
    "print(classification_report(y, predictions))"
   ],
   "metadata": {
    "collapsed": false
   }
  },
  {
   "cell_type": "code",
   "execution_count": 16,
   "outputs": [],
   "source": [
    "fpr, tpr, _ = roc_curve(y, predictions_proba)"
   ],
   "metadata": {
    "collapsed": false
   }
  },
  {
   "cell_type": "code",
   "execution_count": 17,
   "outputs": [
    {
     "data": {
      "text/plain": "<Figure size 640x480 with 1 Axes>",
      "image/png": "[encoded data removed]"
     },
     "metadata": {},
     "output_type": "display_data"
    }
   ],
   "source": [
    "plt.plot(fpr, tpr)\n",
    "plt.title('ROC curve')\n",
    "plt.xlabel('false positive rate')\n",
    "plt.ylabel('true positive rate')\n",
    "plt.xlim(0,)\n",
    "plt.ylim(0,)\n",
    "plt.show()"
   ],
   "metadata": {
    "collapsed": false
   }
  },
  {
   "cell_type": "code",
   "execution_count": 18,
   "outputs": [],
   "source": [
    "pr, rc, _ = precision_recall_curve(y, predictions_proba)"
   ],
   "metadata": {
    "collapsed": false
   }
  },
  {
   "cell_type": "code",
   "execution_count": 19,
   "outputs": [
    {
     "data": {
      "text/plain": "<Figure size 640x480 with 1 Axes>",
      "image/png": "[encoded data removed]"
     },
     "metadata": {},
     "output_type": "display_data"
    }
   ],
   "source": [
    "plt.plot(pr, rc)\n",
    "plt.title('Precision recall curve')\n",
    "plt.xlabel('Recall')\n",
    "plt.ylabel('Precision')\n",
    "plt.xlim(0,)\n",
    "plt.ylim(0,)\n",
    "plt.show()"
   ],
   "metadata": {
    "collapsed": false
   }
  },
  {
   "cell_type": "code",
   "execution_count": 20,
   "outputs": [
    {
     "name": "stdout",
     "output_type": "stream",
     "text": [
      "Confusion Matrix\n"
     ]
    },
    {
     "data": {
      "text/plain": "<Figure size 640x480 with 2 Axes>",
      "image/png": "[encoded data removed]"
     },
     "metadata": {},
     "output_type": "display_data"
    }
   ],
   "source": [
    "print('Confusion Matrix')\n",
    "conf_matrix = confusion_matrix(y, predictions)\n",
    "disp = ConfusionMatrixDisplay(conf_matrix)\n",
    "disp.plot(cmap=plt.cm.Blues, values_format='g')\n",
    "plt.show()"
   ],
   "metadata": {
    "collapsed": false
   }
  },
  {
   "cell_type": "code",
   "execution_count": 21,
   "outputs": [
    {
     "name": "stdout",
     "output_type": "stream",
     "text": [
      "194/194 [==============================] - 0s 878us/step\n"
     ]
    }
   ],
   "source": [
    "# PREDICTION\n",
    "predictions_proba_res = model.predict(X_res)"
   ],
   "metadata": {
    "collapsed": false
   }
  },
  {
   "cell_type": "code",
   "execution_count": 22,
   "outputs": [],
   "source": [
    "# EXPORT DATA\n",
    "result = pd.concat([pd.Series(test_data.index), pd.DataFrame(predictions_proba_res)], axis=1).rename(columns={0: 'is_gone'}).set_index('user_id')"
   ],
   "metadata": {
    "collapsed": false
   }
  },
  {
   "cell_type": "code",
   "execution_count": 23,
   "outputs": [],
   "source": [
    "result.to_csv('/Users/mitya/prediction_res_tf.csv')"
   ],
   "metadata": {
    "collapsed": false
   }
  },
  {
   "cell_type": "code",
   "execution_count": null,
   "outputs": [],
   "source": [
    "# RESULT\n",
    "'''\n",
    "Baseline:       0.8823723622396438\n",
    "Ratio:          0.8783684145285766\n",
    "Events by days,\n",
    "cw_ratio, agg:  0.8814646386348107\n",
    "Events by days: 0.8832608336601139\n",
    "\n",
    "'''"
   ],
   "metadata": {
    "collapsed": false
   }
  }
 ],
 "metadata": {
  "kernelspec": {
   "display_name": "Python 3",
   "language": "python",
   "name": "python3"
  },
  "language_info": {
   "codemirror_mode": {
    "name": "ipython",
    "version": 2
   },
   "file_extension": ".py",
   "mimetype": "text/x-python",
   "name": "python",
   "nbconvert_exporter": "python",
   "pygments_lexer": "ipython2",
   "version": "2.7.6"
  }
 },
 "nbformat": 4,
 "nbformat_minor": 0
}
