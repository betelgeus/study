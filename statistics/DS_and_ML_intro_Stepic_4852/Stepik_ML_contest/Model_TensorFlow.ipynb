{
 "cells": [
  {
   "cell_type": "code",
   "execution_count": 38,
   "outputs": [],
   "source": [
    "import pandas as pd\n",
    "\n",
    "import config as conf\n",
    "import data_preparation as pr"
   ],
   "metadata": {
    "collapsed": false
   }
  },
  {
   "cell_type": "code",
   "execution_count": 39,
   "outputs": [],
   "source": [
    "# DATA PREPARATION\n",
    "train_events = conf.TRAIN_EVENTS\n",
    "train_submissions = conf.TRAIN_SUBMISSIONS\n",
    "test_events = conf.TEST_EVENTS\n",
    "test_submissions = conf.TEST_SUBMISSIONS"
   ],
   "metadata": {
    "collapsed": false
   }
  },
  {
   "cell_type": "code",
   "execution_count": 40,
   "outputs": [],
   "source": [
    "train_data = pr.data_preparation(train_events, train_submissions)\n",
    "test_data = pr.data_preparation(test_events, test_submissions)"
   ],
   "metadata": {
    "collapsed": false
   }
  },
  {
   "cell_type": "code",
   "execution_count": 41,
   "outputs": [
    {
     "data": {
      "text/plain": "   step_id   timestamp      action  user_id submission_status\n0    32815  1434340848      viewed    17632               NaN\n1    32815  1434340848      passed    17632               NaN\n2    32815  1434340848  discovered    17632               NaN\n3    32811  1434340895  discovered    17632               NaN\n4    32811  1434340895      viewed    17632               NaN",
      "text/html": "<div>\n<style scoped>\n    .dataframe tbody tr th:only-of-type {\n        vertical-align: middle;\n    }\n\n    .dataframe tbody tr th {\n        vertical-align: top;\n    }\n\n    .dataframe thead th {\n        text-align: right;\n    }\n</style>\n<table border=\"1\" class=\"dataframe\">\n  <thead>\n    <tr style=\"text-align: right;\">\n      <th></th>\n      <th>step_id</th>\n      <th>timestamp</th>\n      <th>action</th>\n      <th>user_id</th>\n      <th>submission_status</th>\n    </tr>\n  </thead>\n  <tbody>\n    <tr>\n      <th>0</th>\n      <td>32815</td>\n      <td>1434340848</td>\n      <td>viewed</td>\n      <td>17632</td>\n      <td>NaN</td>\n    </tr>\n    <tr>\n      <th>1</th>\n      <td>32815</td>\n      <td>1434340848</td>\n      <td>passed</td>\n      <td>17632</td>\n      <td>NaN</td>\n    </tr>\n    <tr>\n      <th>2</th>\n      <td>32815</td>\n      <td>1434340848</td>\n      <td>discovered</td>\n      <td>17632</td>\n      <td>NaN</td>\n    </tr>\n    <tr>\n      <th>3</th>\n      <td>32811</td>\n      <td>1434340895</td>\n      <td>discovered</td>\n      <td>17632</td>\n      <td>NaN</td>\n    </tr>\n    <tr>\n      <th>4</th>\n      <td>32811</td>\n      <td>1434340895</td>\n      <td>viewed</td>\n      <td>17632</td>\n      <td>NaN</td>\n    </tr>\n  </tbody>\n</table>\n</div>"
     },
     "execution_count": 41,
     "metadata": {},
     "output_type": "execute_result"
    }
   ],
   "source": [
    "train_data.head()"
   ],
   "metadata": {
    "collapsed": false
   }
  },
  {
   "cell_type": "code",
   "execution_count": 35,
   "outputs": [
    {
     "data": {
      "text/plain": "Index(['step_id', 'timestamp', 'submission_status', 'user_id'], dtype='object')"
     },
     "execution_count": 35,
     "metadata": {},
     "output_type": "execute_result"
    }
   ],
   "source": [
    "train_submissions.columns"
   ],
   "metadata": {
    "collapsed": false
   }
  },
  {
   "cell_type": "code",
   "execution_count": 10,
   "outputs": [
    {
     "data": {
      "text/plain": "Index(['step_id', 'timestamp', 'action', 'user_id'], dtype='object')"
     },
     "execution_count": 10,
     "metadata": {},
     "output_type": "execute_result"
    }
   ],
   "source": [
    "train_events.columns"
   ],
   "metadata": {
    "collapsed": false
   }
  },
  {
   "cell_type": "code",
   "execution_count": 11,
   "outputs": [
    {
     "data": {
      "text/plain": "        step_id   timestamp   action  user_id\n0         31971  1434349275  correct    15853\n1         31972  1434348300  correct    15853\n2         31972  1478852149    wrong    15853\n3         31972  1478852164  correct    15853\n4         31976  1434348123    wrong    15853\n...         ...         ...      ...      ...\n509099   120745  1501946959    wrong     2615\n509100   120745  1503059927  correct    13177\n509101   120745  1506348153    wrong    15253\n509102   120745  1523035316    wrong     1424\n509103   120745  1523382825    wrong     9422\n\n[509104 rows x 4 columns]",
      "text/html": "<div>\n<style scoped>\n    .dataframe tbody tr th:only-of-type {\n        vertical-align: middle;\n    }\n\n    .dataframe tbody tr th {\n        vertical-align: top;\n    }\n\n    .dataframe thead th {\n        text-align: right;\n    }\n</style>\n<table border=\"1\" class=\"dataframe\">\n  <thead>\n    <tr style=\"text-align: right;\">\n      <th></th>\n      <th>step_id</th>\n      <th>timestamp</th>\n      <th>action</th>\n      <th>user_id</th>\n    </tr>\n  </thead>\n  <tbody>\n    <tr>\n      <th>0</th>\n      <td>31971</td>\n      <td>1434349275</td>\n      <td>correct</td>\n      <td>15853</td>\n    </tr>\n    <tr>\n      <th>1</th>\n      <td>31972</td>\n      <td>1434348300</td>\n      <td>correct</td>\n      <td>15853</td>\n    </tr>\n    <tr>\n      <th>2</th>\n      <td>31972</td>\n      <td>1478852149</td>\n      <td>wrong</td>\n      <td>15853</td>\n    </tr>\n    <tr>\n      <th>3</th>\n      <td>31972</td>\n      <td>1478852164</td>\n      <td>correct</td>\n      <td>15853</td>\n    </tr>\n    <tr>\n      <th>4</th>\n      <td>31976</td>\n      <td>1434348123</td>\n      <td>wrong</td>\n      <td>15853</td>\n    </tr>\n    <tr>\n      <th>...</th>\n      <td>...</td>\n      <td>...</td>\n      <td>...</td>\n      <td>...</td>\n    </tr>\n    <tr>\n      <th>509099</th>\n      <td>120745</td>\n      <td>1501946959</td>\n      <td>wrong</td>\n      <td>2615</td>\n    </tr>\n    <tr>\n      <th>509100</th>\n      <td>120745</td>\n      <td>1503059927</td>\n      <td>correct</td>\n      <td>13177</td>\n    </tr>\n    <tr>\n      <th>509101</th>\n      <td>120745</td>\n      <td>1506348153</td>\n      <td>wrong</td>\n      <td>15253</td>\n    </tr>\n    <tr>\n      <th>509102</th>\n      <td>120745</td>\n      <td>1523035316</td>\n      <td>wrong</td>\n      <td>1424</td>\n    </tr>\n    <tr>\n      <th>509103</th>\n      <td>120745</td>\n      <td>1523382825</td>\n      <td>wrong</td>\n      <td>9422</td>\n    </tr>\n  </tbody>\n</table>\n<p>509104 rows × 4 columns</p>\n</div>"
     },
     "execution_count": 11,
     "metadata": {},
     "output_type": "execute_result"
    }
   ],
   "source": [
    "train_submissions.rename(columns={'submission_status': 'action'})"
   ],
   "metadata": {
    "collapsed": false
   }
  },
  {
   "cell_type": "code",
   "execution_count": 19,
   "outputs": [],
   "source": [
    "train_data = pd.concat([train_events, train_submissions.rename(columns={'submission_status': 'action'})])"
   ],
   "metadata": {
    "collapsed": false
   }
  },
  {
   "cell_type": "code",
   "execution_count": 25,
   "outputs": [
    {
     "data": {
      "text/plain": "   step_id   timestamp      action  user_id submission_status\n0    32815  1434340848      viewed    17632               NaN\n1    32815  1434340848      passed    17632               NaN\n2    32815  1434340848  discovered    17632               NaN\n3    32811  1434340895  discovered    17632               NaN\n4    32811  1434340895      viewed    17632               NaN",
      "text/html": "<div>\n<style scoped>\n    .dataframe tbody tr th:only-of-type {\n        vertical-align: middle;\n    }\n\n    .dataframe tbody tr th {\n        vertical-align: top;\n    }\n\n    .dataframe thead th {\n        text-align: right;\n    }\n</style>\n<table border=\"1\" class=\"dataframe\">\n  <thead>\n    <tr style=\"text-align: right;\">\n      <th></th>\n      <th>step_id</th>\n      <th>timestamp</th>\n      <th>action</th>\n      <th>user_id</th>\n      <th>submission_status</th>\n    </tr>\n  </thead>\n  <tbody>\n    <tr>\n      <th>0</th>\n      <td>32815</td>\n      <td>1434340848</td>\n      <td>viewed</td>\n      <td>17632</td>\n      <td>NaN</td>\n    </tr>\n    <tr>\n      <th>1</th>\n      <td>32815</td>\n      <td>1434340848</td>\n      <td>passed</td>\n      <td>17632</td>\n      <td>NaN</td>\n    </tr>\n    <tr>\n      <th>2</th>\n      <td>32815</td>\n      <td>1434340848</td>\n      <td>discovered</td>\n      <td>17632</td>\n      <td>NaN</td>\n    </tr>\n    <tr>\n      <th>3</th>\n      <td>32811</td>\n      <td>1434340895</td>\n      <td>discovered</td>\n      <td>17632</td>\n      <td>NaN</td>\n    </tr>\n    <tr>\n      <th>4</th>\n      <td>32811</td>\n      <td>1434340895</td>\n      <td>viewed</td>\n      <td>17632</td>\n      <td>NaN</td>\n    </tr>\n  </tbody>\n</table>\n</div>"
     },
     "execution_count": 25,
     "metadata": {},
     "output_type": "execute_result"
    }
   ],
   "source": [
    "train_data.head()"
   ],
   "metadata": {
    "collapsed": false
   }
  },
  {
   "cell_type": "code",
   "execution_count": 37,
   "outputs": [
    {
     "name": "stdout",
     "output_type": "stream",
     "text": [
      "   step_id   timestamp      action  user_id\n",
      "0    32815  1434340848      viewed    17632\n",
      "1    32815  1434340848      passed    17632\n",
      "2    32815  1434340848  discovered    17632\n",
      "3    32811  1434340895  discovered    17632\n",
      "4    32811  1434340895      viewed    17632\n"
     ]
    }
   ],
   "source": [
    "import pandas as pd\n",
    "import config as conf\n",
    "\n",
    "# DATA PREPARATION\n",
    "train_events = conf.TRAIN_EVENTS\n",
    "train_submissions = conf.TRAIN_SUBMISSIONS\n",
    "test_events = conf.TEST_EVENTS\n",
    "test_submissions = conf.TEST_SUBMISSIONS\n",
    "\n",
    "\n",
    "def event_aggregation(events, submissions):\n",
    "    user_events = pd.concat([events, submissions.rename(columns={'submission_status': 'action'})])\n",
    "    return user_events\n",
    "\n",
    "\n",
    "def data_preparation(events, submissions):\n",
    "    user_events = event_aggregation(events, submissions)\n",
    "    return user_events\n",
    "\n",
    "\n",
    "train_data = data_preparation(train_events, train_submissions)\n",
    "print(train_data.head())"
   ],
   "metadata": {
    "collapsed": false
   }
  },
  {
   "cell_type": "code",
   "execution_count": null,
   "outputs": [],
   "source": [],
   "metadata": {
    "collapsed": false
   }
  }
 ],
 "metadata": {
  "kernelspec": {
   "display_name": "Python 3",
   "language": "python",
   "name": "python3"
  },
  "language_info": {
   "codemirror_mode": {
    "name": "ipython",
    "version": 2
   },
   "file_extension": ".py",
   "mimetype": "text/x-python",
   "name": "python",
   "nbconvert_exporter": "python",
   "pygments_lexer": "ipython2",
   "version": "2.7.6"
  }
 },
 "nbformat": 4,
 "nbformat_minor": 0
}
