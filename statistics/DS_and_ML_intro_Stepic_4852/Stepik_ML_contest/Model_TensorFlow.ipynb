{
 "cells": [
  {
   "cell_type": "code",
   "execution_count": 1,
   "outputs": [],
   "source": [
    "import config as conf\n",
    "import data_preparation as pr\n",
    "import features_extract as ex"
   ],
   "metadata": {
    "collapsed": false
   }
  },
  {
   "cell_type": "code",
   "execution_count": 2,
   "outputs": [],
   "source": [
    "# DATA PREPARATION\n",
    "train_events = conf.TRAIN_EVENTS\n",
    "train_submissions = conf.TRAIN_SUBMISSIONS\n",
    "test_events = conf.TEST_EVENTS\n",
    "test_submissions = conf.TEST_SUBMISSIONS"
   ],
   "metadata": {
    "collapsed": false
   }
  },
  {
   "cell_type": "code",
   "execution_count": 3,
   "outputs": [],
   "source": [
    "train_data =pr.data_preparation(train_events, train_submissions)\n",
    "test_data = pr.data_preparation(test_events, test_submissions)"
   ],
   "metadata": {
    "collapsed": false
   }
  },
  {
   "cell_type": "code",
   "execution_count": 4,
   "outputs": [],
   "source": [
    "X, y = ex.features_extract(train_data)"
   ],
   "metadata": {
    "collapsed": false
   }
  },
  {
   "cell_type": "code",
   "execution_count": 5,
   "outputs": [
    {
     "data": {
      "text/plain": "array([[-1.72423514, -0.50183933, -0.63006947, ..., -0.5115427 ,\n        -0.56845928, -0.31269911],\n       [-1.7241061 , -0.17957779, -0.18654889, ..., -0.26260189,\n        -0.31903894, -0.31269911],\n       [-1.72397707,  0.14268375,  0.14609154, ..., -0.01366107,\n         0.02391402,  0.12771863],\n       ...,\n       [ 1.73299048,  3.04303763,  2.08649404, ...,  2.47574708,\n         2.20634198,  0.45803193],\n       [ 1.73337759, -0.17957779, -0.13110882, ..., -0.26260189,\n        -0.2878614 , -0.31269911],\n       [ 1.73350662, -0.17957779, -0.02022868, ..., -0.13813148,\n        -0.22550632, -0.20259468]])"
     },
     "execution_count": 5,
     "metadata": {},
     "output_type": "execute_result"
    }
   ],
   "source": [
    "X"
   ],
   "metadata": {
    "collapsed": false
   }
  },
  {
   "cell_type": "code",
   "execution_count": null,
   "outputs": [],
   "source": [],
   "metadata": {
    "collapsed": false
   }
  }
 ],
 "metadata": {
  "kernelspec": {
   "display_name": "Python 3",
   "language": "python",
   "name": "python3"
  },
  "language_info": {
   "codemirror_mode": {
    "name": "ipython",
    "version": 2
   },
   "file_extension": ".py",
   "mimetype": "text/x-python",
   "name": "python",
   "nbconvert_exporter": "python",
   "pygments_lexer": "ipython2",
   "version": "2.7.6"
  }
 },
 "nbformat": 4,
 "nbformat_minor": 0
}
