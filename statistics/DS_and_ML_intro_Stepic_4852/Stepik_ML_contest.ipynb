{
 "cells": [
  {
   "cell_type": "markdown",
   "source": [
    "# Stepik ML contest"
   ],
   "metadata": {
    "collapsed": false
   }
  },
  {
   "cell_type": "code",
   "execution_count": 6,
   "outputs": [],
   "source": [
    "import pandas as pd\n",
    "import matplotlib.pyplot as plt\n",
    "import numpy as np\n",
    "\n",
    "from sklearn.tree import DecisionTreeClassifier, plot_tree\n",
    "from sklearn.model_selection import GridSearchCV, train_test_split, cross_val_score\n",
    "from sklearn.metrics import log_loss, roc_auc_score, recall_score, precision_score, average_precision_score, f1_score, classification_report, accuracy_score, plot_roc_curve, plot_precision_recall_curve, ConfusionMatrixDisplay, confusion_matrix"
   ],
   "metadata": {
    "collapsed": false
   }
  },
  {
   "cell_type": "code",
   "execution_count": 566,
   "outputs": [
    {
     "data": {
      "text/plain": "   step_id   timestamp      action  user_id\n0    32815  1434340848      viewed    17632\n1    32815  1434340848      passed    17632\n2    32815  1434340848  discovered    17632\n3    32811  1434340895  discovered    17632\n4    32811  1434340895      viewed    17632",
      "text/html": "<div>\n<style scoped>\n    .dataframe tbody tr th:only-of-type {\n        vertical-align: middle;\n    }\n\n    .dataframe tbody tr th {\n        vertical-align: top;\n    }\n\n    .dataframe thead th {\n        text-align: right;\n    }\n</style>\n<table border=\"1\" class=\"dataframe\">\n  <thead>\n    <tr style=\"text-align: right;\">\n      <th></th>\n      <th>step_id</th>\n      <th>timestamp</th>\n      <th>action</th>\n      <th>user_id</th>\n    </tr>\n  </thead>\n  <tbody>\n    <tr>\n      <th>0</th>\n      <td>32815</td>\n      <td>1434340848</td>\n      <td>viewed</td>\n      <td>17632</td>\n    </tr>\n    <tr>\n      <th>1</th>\n      <td>32815</td>\n      <td>1434340848</td>\n      <td>passed</td>\n      <td>17632</td>\n    </tr>\n    <tr>\n      <th>2</th>\n      <td>32815</td>\n      <td>1434340848</td>\n      <td>discovered</td>\n      <td>17632</td>\n    </tr>\n    <tr>\n      <th>3</th>\n      <td>32811</td>\n      <td>1434340895</td>\n      <td>discovered</td>\n      <td>17632</td>\n    </tr>\n    <tr>\n      <th>4</th>\n      <td>32811</td>\n      <td>1434340895</td>\n      <td>viewed</td>\n      <td>17632</td>\n    </tr>\n  </tbody>\n</table>\n</div>"
     },
     "execution_count": 566,
     "metadata": {},
     "output_type": "execute_result"
    }
   ],
   "source": [
    "events_train = pd.read_csv('https://stepik.org/media/attachments/course/4852/event_data_train.zip')\n",
    "events_train.head()"
   ],
   "metadata": {
    "collapsed": false
   }
  },
  {
   "cell_type": "code",
   "execution_count": 3,
   "outputs": [],
   "source": [
    "# description\n",
    "# step_id - id стэпа\n",
    "# user_id - анонимизированный id юзера\n",
    "# timestamp - время наступления события в формате unix date\n",
    "# action - событие, возможные значения:\n",
    "# discovered - пользователь перешел на стэп\n",
    "# viewed - просмотр шага,\n",
    "# started_attempt - начало попытки решить шаг, ранее нужно было явно нажать на кнопку - начать решение, перед тем как приступить к решению практического шага\n",
    "# passed - удачное решение практического шага"
   ],
   "metadata": {
    "collapsed": false
   }
  },
  {
   "cell_type": "code",
   "execution_count": 567,
   "outputs": [
    {
     "data": {
      "text/plain": "   step_id   timestamp submission_status  user_id\n0    31971  1434349275           correct    15853\n1    31972  1434348300           correct    15853\n2    31972  1478852149             wrong    15853\n3    31972  1478852164           correct    15853\n4    31976  1434348123             wrong    15853",
      "text/html": "<div>\n<style scoped>\n    .dataframe tbody tr th:only-of-type {\n        vertical-align: middle;\n    }\n\n    .dataframe tbody tr th {\n        vertical-align: top;\n    }\n\n    .dataframe thead th {\n        text-align: right;\n    }\n</style>\n<table border=\"1\" class=\"dataframe\">\n  <thead>\n    <tr style=\"text-align: right;\">\n      <th></th>\n      <th>step_id</th>\n      <th>timestamp</th>\n      <th>submission_status</th>\n      <th>user_id</th>\n    </tr>\n  </thead>\n  <tbody>\n    <tr>\n      <th>0</th>\n      <td>31971</td>\n      <td>1434349275</td>\n      <td>correct</td>\n      <td>15853</td>\n    </tr>\n    <tr>\n      <th>1</th>\n      <td>31972</td>\n      <td>1434348300</td>\n      <td>correct</td>\n      <td>15853</td>\n    </tr>\n    <tr>\n      <th>2</th>\n      <td>31972</td>\n      <td>1478852149</td>\n      <td>wrong</td>\n      <td>15853</td>\n    </tr>\n    <tr>\n      <th>3</th>\n      <td>31972</td>\n      <td>1478852164</td>\n      <td>correct</td>\n      <td>15853</td>\n    </tr>\n    <tr>\n      <th>4</th>\n      <td>31976</td>\n      <td>1434348123</td>\n      <td>wrong</td>\n      <td>15853</td>\n    </tr>\n  </tbody>\n</table>\n</div>"
     },
     "execution_count": 567,
     "metadata": {},
     "output_type": "execute_result"
    }
   ],
   "source": [
    "submissions_train = pd.read_csv('https://stepik.org/media/attachments/course/4852/submissions_data_train.zip')\n",
    "submissions_train.head()"
   ],
   "metadata": {
    "collapsed": false
   }
  },
  {
   "cell_type": "code",
   "execution_count": 5,
   "outputs": [],
   "source": [
    "# description\n",
    "# step_id - id стэпа\n",
    "# timestamp - время отправки решения в формате unix date\n",
    "# submission_status - статус решения\n",
    "# user_id - анонимизированный id юзера"
   ],
   "metadata": {
    "collapsed": false
   }
  },
  {
   "cell_type": "markdown",
   "source": [
    "### Data preparation"
   ],
   "metadata": {
    "collapsed": false
   }
  },
  {
   "cell_type": "code",
   "execution_count": 568,
   "outputs": [],
   "source": [
    "events_train['date'] = pd.to_datetime(events_train.timestamp, unit='s')"
   ],
   "metadata": {
    "collapsed": false
   }
  },
  {
   "cell_type": "code",
   "execution_count": 569,
   "outputs": [
    {
     "data": {
      "text/plain": "   step_id   timestamp      action  user_id                date         day\n0    32815  1434340848      viewed    17632 2015-06-15 04:00:48  2015-06-15\n1    32815  1434340848      passed    17632 2015-06-15 04:00:48  2015-06-15\n2    32815  1434340848  discovered    17632 2015-06-15 04:00:48  2015-06-15\n3    32811  1434340895  discovered    17632 2015-06-15 04:01:35  2015-06-15\n4    32811  1434340895      viewed    17632 2015-06-15 04:01:35  2015-06-15",
      "text/html": "<div>\n<style scoped>\n    .dataframe tbody tr th:only-of-type {\n        vertical-align: middle;\n    }\n\n    .dataframe tbody tr th {\n        vertical-align: top;\n    }\n\n    .dataframe thead th {\n        text-align: right;\n    }\n</style>\n<table border=\"1\" class=\"dataframe\">\n  <thead>\n    <tr style=\"text-align: right;\">\n      <th></th>\n      <th>step_id</th>\n      <th>timestamp</th>\n      <th>action</th>\n      <th>user_id</th>\n      <th>date</th>\n      <th>day</th>\n    </tr>\n  </thead>\n  <tbody>\n    <tr>\n      <th>0</th>\n      <td>32815</td>\n      <td>1434340848</td>\n      <td>viewed</td>\n      <td>17632</td>\n      <td>2015-06-15 04:00:48</td>\n      <td>2015-06-15</td>\n    </tr>\n    <tr>\n      <th>1</th>\n      <td>32815</td>\n      <td>1434340848</td>\n      <td>passed</td>\n      <td>17632</td>\n      <td>2015-06-15 04:00:48</td>\n      <td>2015-06-15</td>\n    </tr>\n    <tr>\n      <th>2</th>\n      <td>32815</td>\n      <td>1434340848</td>\n      <td>discovered</td>\n      <td>17632</td>\n      <td>2015-06-15 04:00:48</td>\n      <td>2015-06-15</td>\n    </tr>\n    <tr>\n      <th>3</th>\n      <td>32811</td>\n      <td>1434340895</td>\n      <td>discovered</td>\n      <td>17632</td>\n      <td>2015-06-15 04:01:35</td>\n      <td>2015-06-15</td>\n    </tr>\n    <tr>\n      <th>4</th>\n      <td>32811</td>\n      <td>1434340895</td>\n      <td>viewed</td>\n      <td>17632</td>\n      <td>2015-06-15 04:01:35</td>\n      <td>2015-06-15</td>\n    </tr>\n  </tbody>\n</table>\n</div>"
     },
     "execution_count": 569,
     "metadata": {},
     "output_type": "execute_result"
    }
   ],
   "source": [
    "events_train['day'] = events_train.date.dt.date\n",
    "events_train.head()"
   ],
   "metadata": {
    "collapsed": false
   }
  },
  {
   "cell_type": "code",
   "execution_count": 173,
   "outputs": [
    {
     "data": {
      "text/plain": "<Figure size 640x480 with 1 Axes>",
      "image/png": "[encoded data removed]"
     },
     "metadata": {},
     "output_type": "display_data"
    }
   ],
   "source": [
    "# считаем кол-во уникальных пользователей\n",
    "events_train.groupby('day')['user_id'].nunique().plot()\n",
    "plt.show()"
   ],
   "metadata": {
    "collapsed": false
   }
  },
  {
   "cell_type": "code",
   "execution_count": 8,
   "outputs": [
    {
     "data": {
      "text/plain": "<Figure size 640x480 with 1 Axes>",
      "image/png": "[encoded data removed]"
     },
     "metadata": {},
     "output_type": "display_data"
    }
   ],
   "source": [
    "events_train[events_train.action == 'passed'].groupby('user_id').aggregate({'step_id': 'count'}).rename(columns={'step_id': 'passed_step'}).hist()\n",
    "plt.show()"
   ],
   "metadata": {
    "collapsed": false
   }
  },
  {
   "cell_type": "code",
   "execution_count": 175,
   "outputs": [
    {
     "data": {
      "text/plain": "action  user_id  discovered  passed  started_attempt  viewed\n0             1           1       0                0       1\n1             2           9       9                2      10\n2             3          91      87               30     192\n3             5          11      11                4      12\n4             7           1       1                0       1",
      "text/html": "<div>\n<style scoped>\n    .dataframe tbody tr th:only-of-type {\n        vertical-align: middle;\n    }\n\n    .dataframe tbody tr th {\n        vertical-align: top;\n    }\n\n    .dataframe thead th {\n        text-align: right;\n    }\n</style>\n<table border=\"1\" class=\"dataframe\">\n  <thead>\n    <tr style=\"text-align: right;\">\n      <th>action</th>\n      <th>user_id</th>\n      <th>discovered</th>\n      <th>passed</th>\n      <th>started_attempt</th>\n      <th>viewed</th>\n    </tr>\n  </thead>\n  <tbody>\n    <tr>\n      <th>0</th>\n      <td>1</td>\n      <td>1</td>\n      <td>0</td>\n      <td>0</td>\n      <td>1</td>\n    </tr>\n    <tr>\n      <th>1</th>\n      <td>2</td>\n      <td>9</td>\n      <td>9</td>\n      <td>2</td>\n      <td>10</td>\n    </tr>\n    <tr>\n      <th>2</th>\n      <td>3</td>\n      <td>91</td>\n      <td>87</td>\n      <td>30</td>\n      <td>192</td>\n    </tr>\n    <tr>\n      <th>3</th>\n      <td>5</td>\n      <td>11</td>\n      <td>11</td>\n      <td>4</td>\n      <td>12</td>\n    </tr>\n    <tr>\n      <th>4</th>\n      <td>7</td>\n      <td>1</td>\n      <td>1</td>\n      <td>0</td>\n      <td>1</td>\n    </tr>\n  </tbody>\n</table>\n</div>"
     },
     "execution_count": 175,
     "metadata": {},
     "output_type": "execute_result"
    }
   ],
   "source": [
    "events_train.pivot_table(index='user_id', columns='action', values='step_id', aggfunc='count', fill_value=0).reset_index().head()"
   ],
   "metadata": {
    "collapsed": false
   }
  },
  {
   "cell_type": "code",
   "execution_count": 176,
   "outputs": [
    {
     "data": {
      "text/plain": "<Figure size 800x800 with 6 Axes>",
      "image/png": "[encoded data removed]"
     },
     "metadata": {},
     "output_type": "display_data"
    }
   ],
   "source": [
    "events_train.pivot_table(index='user_id', columns='action', values='step_id', aggfunc='count', fill_value=0).reset_index().hist(figsize=(8, 8))\n",
    "plt.show()"
   ],
   "metadata": {
    "collapsed": false
   }
  },
  {
   "cell_type": "code",
   "execution_count": 570,
   "outputs": [
    {
     "data": {
      "text/plain": "   step_id   timestamp submission_status  user_id                date\n0    31971  1434349275           correct    15853 2015-06-15 06:21:15\n1    31972  1434348300           correct    15853 2015-06-15 06:05:00\n2    31972  1478852149             wrong    15853 2016-11-11 08:15:49\n3    31972  1478852164           correct    15853 2016-11-11 08:16:04\n4    31976  1434348123             wrong    15853 2015-06-15 06:02:03",
      "text/html": "<div>\n<style scoped>\n    .dataframe tbody tr th:only-of-type {\n        vertical-align: middle;\n    }\n\n    .dataframe tbody tr th {\n        vertical-align: top;\n    }\n\n    .dataframe thead th {\n        text-align: right;\n    }\n</style>\n<table border=\"1\" class=\"dataframe\">\n  <thead>\n    <tr style=\"text-align: right;\">\n      <th></th>\n      <th>step_id</th>\n      <th>timestamp</th>\n      <th>submission_status</th>\n      <th>user_id</th>\n      <th>date</th>\n    </tr>\n  </thead>\n  <tbody>\n    <tr>\n      <th>0</th>\n      <td>31971</td>\n      <td>1434349275</td>\n      <td>correct</td>\n      <td>15853</td>\n      <td>2015-06-15 06:21:15</td>\n    </tr>\n    <tr>\n      <th>1</th>\n      <td>31972</td>\n      <td>1434348300</td>\n      <td>correct</td>\n      <td>15853</td>\n      <td>2015-06-15 06:05:00</td>\n    </tr>\n    <tr>\n      <th>2</th>\n      <td>31972</td>\n      <td>1478852149</td>\n      <td>wrong</td>\n      <td>15853</td>\n      <td>2016-11-11 08:15:49</td>\n    </tr>\n    <tr>\n      <th>3</th>\n      <td>31972</td>\n      <td>1478852164</td>\n      <td>correct</td>\n      <td>15853</td>\n      <td>2016-11-11 08:16:04</td>\n    </tr>\n    <tr>\n      <th>4</th>\n      <td>31976</td>\n      <td>1434348123</td>\n      <td>wrong</td>\n      <td>15853</td>\n      <td>2015-06-15 06:02:03</td>\n    </tr>\n  </tbody>\n</table>\n</div>"
     },
     "execution_count": 570,
     "metadata": {},
     "output_type": "execute_result"
    }
   ],
   "source": [
    "submissions_train['date'] = pd.to_datetime(submissions_train.timestamp, unit='s')\n",
    "submissions_train.head()"
   ],
   "metadata": {
    "collapsed": false
   }
  },
  {
   "cell_type": "code",
   "execution_count": 571,
   "outputs": [
    {
     "data": {
      "text/plain": "   step_id   timestamp submission_status  user_id                date  \\\n0    31971  1434349275           correct    15853 2015-06-15 06:21:15   \n1    31972  1434348300           correct    15853 2015-06-15 06:05:00   \n2    31972  1478852149             wrong    15853 2016-11-11 08:15:49   \n3    31972  1478852164           correct    15853 2016-11-11 08:16:04   \n4    31976  1434348123             wrong    15853 2015-06-15 06:02:03   \n\n          day  \n0  2015-06-15  \n1  2015-06-15  \n2  2016-11-11  \n3  2016-11-11  \n4  2015-06-15  ",
      "text/html": "<div>\n<style scoped>\n    .dataframe tbody tr th:only-of-type {\n        vertical-align: middle;\n    }\n\n    .dataframe tbody tr th {\n        vertical-align: top;\n    }\n\n    .dataframe thead th {\n        text-align: right;\n    }\n</style>\n<table border=\"1\" class=\"dataframe\">\n  <thead>\n    <tr style=\"text-align: right;\">\n      <th></th>\n      <th>step_id</th>\n      <th>timestamp</th>\n      <th>submission_status</th>\n      <th>user_id</th>\n      <th>date</th>\n      <th>day</th>\n    </tr>\n  </thead>\n  <tbody>\n    <tr>\n      <th>0</th>\n      <td>31971</td>\n      <td>1434349275</td>\n      <td>correct</td>\n      <td>15853</td>\n      <td>2015-06-15 06:21:15</td>\n      <td>2015-06-15</td>\n    </tr>\n    <tr>\n      <th>1</th>\n      <td>31972</td>\n      <td>1434348300</td>\n      <td>correct</td>\n      <td>15853</td>\n      <td>2015-06-15 06:05:00</td>\n      <td>2015-06-15</td>\n    </tr>\n    <tr>\n      <th>2</th>\n      <td>31972</td>\n      <td>1478852149</td>\n      <td>wrong</td>\n      <td>15853</td>\n      <td>2016-11-11 08:15:49</td>\n      <td>2016-11-11</td>\n    </tr>\n    <tr>\n      <th>3</th>\n      <td>31972</td>\n      <td>1478852164</td>\n      <td>correct</td>\n      <td>15853</td>\n      <td>2016-11-11 08:16:04</td>\n      <td>2016-11-11</td>\n    </tr>\n    <tr>\n      <th>4</th>\n      <td>31976</td>\n      <td>1434348123</td>\n      <td>wrong</td>\n      <td>15853</td>\n      <td>2015-06-15 06:02:03</td>\n      <td>2015-06-15</td>\n    </tr>\n  </tbody>\n</table>\n</div>"
     },
     "execution_count": 571,
     "metadata": {},
     "output_type": "execute_result"
    }
   ],
   "source": [
    "submissions_train['day'] = submissions_train.date.dt.date\n",
    "submissions_train.head()"
   ],
   "metadata": {
    "collapsed": false
   }
  },
  {
   "cell_type": "code",
   "execution_count": 179,
   "outputs": [
    {
     "data": {
      "text/plain": "submission_status  user_id  correct  wrong\n0                        2        2      0\n1                        3       29     23\n2                        5        2      2\n3                        8        9     21\n4                       14        0      1",
      "text/html": "<div>\n<style scoped>\n    .dataframe tbody tr th:only-of-type {\n        vertical-align: middle;\n    }\n\n    .dataframe tbody tr th {\n        vertical-align: top;\n    }\n\n    .dataframe thead th {\n        text-align: right;\n    }\n</style>\n<table border=\"1\" class=\"dataframe\">\n  <thead>\n    <tr style=\"text-align: right;\">\n      <th>submission_status</th>\n      <th>user_id</th>\n      <th>correct</th>\n      <th>wrong</th>\n    </tr>\n  </thead>\n  <tbody>\n    <tr>\n      <th>0</th>\n      <td>2</td>\n      <td>2</td>\n      <td>0</td>\n    </tr>\n    <tr>\n      <th>1</th>\n      <td>3</td>\n      <td>29</td>\n      <td>23</td>\n    </tr>\n    <tr>\n      <th>2</th>\n      <td>5</td>\n      <td>2</td>\n      <td>2</td>\n    </tr>\n    <tr>\n      <th>3</th>\n      <td>8</td>\n      <td>9</td>\n      <td>21</td>\n    </tr>\n    <tr>\n      <th>4</th>\n      <td>14</td>\n      <td>0</td>\n      <td>1</td>\n    </tr>\n  </tbody>\n</table>\n</div>"
     },
     "execution_count": 179,
     "metadata": {},
     "output_type": "execute_result"
    }
   ],
   "source": [
    "submissions_train.pivot_table(index='user_id', columns='submission_status', values='step_id', aggfunc='count', fill_value=0).reset_index().head()"
   ],
   "metadata": {
    "collapsed": false
   }
  },
  {
   "cell_type": "code",
   "execution_count": 180,
   "outputs": [
    {
     "data": {
      "text/plain": "<Figure size 640x480 with 1 Axes>",
      "image/png": "[encoded data removed]"
     },
     "metadata": {},
     "output_type": "display_data"
    }
   ],
   "source": [
    "submissions_train.pivot_table(index='user_id', columns='submission_status', values='step_id', aggfunc='count', fill_value=0).reset_index().correct.hist()\n",
    "plt.show()"
   ],
   "metadata": {
    "collapsed": false
   }
  },
  {
   "cell_type": "markdown",
   "source": [
    "### Задача\n",
    "Отсечь пользователей, которые не закончили курс. Допустим, если пользователь не возвращался к курсу какое-то время, то с высокой вероятностью он уже не вернется для завершения курса."
   ],
   "metadata": {
    "collapsed": false
   }
  },
  {
   "cell_type": "markdown",
   "source": [
    "**Шаг 1**\n",
    "Найдем временные промежутки между прохождением степов, далее посмотрим в какой интервал укладывается большинство пользователей."
   ],
   "metadata": {
    "collapsed": false
   }
  },
  {
   "cell_type": "code",
   "execution_count": 572,
   "outputs": [
    {
     "data": {
      "text/plain": "   user_id         day   timestamp\n0    17632  2015-06-15  1434340848\n1    17632  2015-06-15  1434340848\n2    17632  2015-06-15  1434340848\n3    17632  2015-06-15  1434340895\n4    17632  2015-06-15  1434340895",
      "text/html": "<div>\n<style scoped>\n    .dataframe tbody tr th:only-of-type {\n        vertical-align: middle;\n    }\n\n    .dataframe tbody tr th {\n        vertical-align: top;\n    }\n\n    .dataframe thead th {\n        text-align: right;\n    }\n</style>\n<table border=\"1\" class=\"dataframe\">\n  <thead>\n    <tr style=\"text-align: right;\">\n      <th></th>\n      <th>user_id</th>\n      <th>day</th>\n      <th>timestamp</th>\n    </tr>\n  </thead>\n  <tbody>\n    <tr>\n      <th>0</th>\n      <td>17632</td>\n      <td>2015-06-15</td>\n      <td>1434340848</td>\n    </tr>\n    <tr>\n      <th>1</th>\n      <td>17632</td>\n      <td>2015-06-15</td>\n      <td>1434340848</td>\n    </tr>\n    <tr>\n      <th>2</th>\n      <td>17632</td>\n      <td>2015-06-15</td>\n      <td>1434340848</td>\n    </tr>\n    <tr>\n      <th>3</th>\n      <td>17632</td>\n      <td>2015-06-15</td>\n      <td>1434340895</td>\n    </tr>\n    <tr>\n      <th>4</th>\n      <td>17632</td>\n      <td>2015-06-15</td>\n      <td>1434340895</td>\n    </tr>\n  </tbody>\n</table>\n</div>"
     },
     "execution_count": 572,
     "metadata": {},
     "output_type": "execute_result"
    }
   ],
   "source": [
    "# для работы нам потребуется 3 колонки\n",
    "visits_gap = events_train[['user_id', 'day', 'timestamp']]\n",
    "visits_gap.head()"
   ],
   "metadata": {
    "collapsed": false
   }
  },
  {
   "cell_type": "code",
   "execution_count": 573,
   "outputs": [
    {
     "data": {
      "text/plain": "    user_id         day   timestamp\n0     17632  2015-06-15  1434340848\n36    12494  2015-06-15  1434341931\n59      442  2015-06-15  1434342029\n62    22254  2015-06-15  1434342042\n94     6646  2015-06-15  1434342230",
      "text/html": "<div>\n<style scoped>\n    .dataframe tbody tr th:only-of-type {\n        vertical-align: middle;\n    }\n\n    .dataframe tbody tr th {\n        vertical-align: top;\n    }\n\n    .dataframe thead th {\n        text-align: right;\n    }\n</style>\n<table border=\"1\" class=\"dataframe\">\n  <thead>\n    <tr style=\"text-align: right;\">\n      <th></th>\n      <th>user_id</th>\n      <th>day</th>\n      <th>timestamp</th>\n    </tr>\n  </thead>\n  <tbody>\n    <tr>\n      <th>0</th>\n      <td>17632</td>\n      <td>2015-06-15</td>\n      <td>1434340848</td>\n    </tr>\n    <tr>\n      <th>36</th>\n      <td>12494</td>\n      <td>2015-06-15</td>\n      <td>1434341931</td>\n    </tr>\n    <tr>\n      <th>59</th>\n      <td>442</td>\n      <td>2015-06-15</td>\n      <td>1434342029</td>\n    </tr>\n    <tr>\n      <th>62</th>\n      <td>22254</td>\n      <td>2015-06-15</td>\n      <td>1434342042</td>\n    </tr>\n    <tr>\n      <th>94</th>\n      <td>6646</td>\n      <td>2015-06-15</td>\n      <td>1434342230</td>\n    </tr>\n  </tbody>\n</table>\n</div>"
     },
     "execution_count": 573,
     "metadata": {},
     "output_type": "execute_result"
    }
   ],
   "source": [
    "# оставляем только уникальные записи timestamp в рамках одного пользователя и дня\n",
    "visits_gap = visits_gap.drop_duplicates(subset=['user_id', 'day'])\n",
    "visits_gap.head()"
   ],
   "metadata": {
    "collapsed": false
   }
  },
  {
   "cell_type": "code",
   "execution_count": 574,
   "outputs": [
    {
     "data": {
      "text/plain": "user_id\n1                                         [1472827464]\n2                             [1514383364, 1519226966]\n3    [1434358476, 1441257725, 1441440209, 144153391...\n5                             [1466156809, 1499859621]\n7                                         [1521634660]\nName: timestamp, dtype: object"
     },
     "execution_count": 574,
     "metadata": {},
     "output_type": "execute_result"
    }
   ],
   "source": [
    "# создаем список с timestamp действий пользователя\n",
    "visits_gap = visits_gap.groupby('user_id')['timestamp'].apply(list)\n",
    "visits_gap.head()"
   ],
   "metadata": {
    "collapsed": false
   }
  },
  {
   "cell_type": "code",
   "execution_count": 575,
   "outputs": [
    {
     "data": {
      "text/plain": "user_id\n1                                                  []\n2                                           [4843602]\n3    [6899249, 182484, 93710, 2768870, 171400, 78712]\n5                                          [33702812]\n7                                                  []\nName: timestamp, dtype: object"
     },
     "execution_count": 575,
     "metadata": {},
     "output_type": "execute_result"
    }
   ],
   "source": [
    "# считаем разницу между событиями\n",
    "visits_gap = visits_gap.apply(np.diff)\n",
    "visits_gap.head()"
   ],
   "metadata": {
    "collapsed": false
   }
  },
  {
   "cell_type": "code",
   "execution_count": 576,
   "outputs": [
    {
     "data": {
      "text/plain": "array([array([], dtype=int64), array([4843602]),\n       array([6899249,  182484,   93710, 2768870,  171400,   78712]), ...,\n       array([   86128,   136759,    94899,  1422583, 14347289,   505061,\n                 98252,    57019])                                       ,\n       array([1567990]), array([], dtype=int64)], dtype=object)"
     },
     "execution_count": 576,
     "metadata": {},
     "output_type": "execute_result"
    }
   ],
   "source": [
    "# извлекаем из серии значения\n",
    "visits_gap = visits_gap.values\n",
    "visits_gap"
   ],
   "metadata": {
    "collapsed": false
   }
  },
  {
   "cell_type": "code",
   "execution_count": 577,
   "outputs": [
    {
     "data": {
      "text/plain": "0         4843602\n1         6899249\n2          182484\n3           93710\n4         2768870\n           ...   \n97867    14347289\n97868      505061\n97869       98252\n97870       57019\n97871     1567990\nLength: 97872, dtype: int64"
     },
     "execution_count": 577,
     "metadata": {},
     "output_type": "execute_result"
    }
   ],
   "source": [
    "# трансформируем события в плоский список\n",
    "visits_gap = pd.Series(np.concatenate(visits_gap, axis=0))\n",
    "visits_gap"
   ],
   "metadata": {
    "collapsed": false
   }
  },
  {
   "cell_type": "code",
   "execution_count": 578,
   "outputs": [],
   "source": [
    "# меняем формат в дни\n",
    "visits_gap = visits_gap / (24 * 60 * 60)"
   ],
   "metadata": {
    "collapsed": false
   }
  },
  {
   "cell_type": "code",
   "execution_count": 261,
   "outputs": [
    {
     "data": {
      "text/plain": "<Figure size 640x480 with 1 Axes>",
      "image/png": "[encoded data removed]"
     },
     "metadata": {},
     "output_type": "display_data"
    }
   ],
   "source": [
    "# строим гистограмму\n",
    "visits_gap[visits_gap < 100].hist()\n",
    "plt.show()"
   ],
   "metadata": {
    "collapsed": false
   }
  },
  {
   "cell_type": "code",
   "execution_count": 262,
   "outputs": [
    {
     "data": {
      "text/plain": "18.325995370370403"
     },
     "execution_count": 262,
     "metadata": {},
     "output_type": "execute_result"
    }
   ],
   "source": [
    "# смотрим в какой интервал времени укладывается 90% событий\n",
    "visits_gap.quantile(0.90)"
   ],
   "metadata": {
    "collapsed": false
   }
  },
  {
   "cell_type": "code",
   "execution_count": 579,
   "outputs": [],
   "source": [
    "is_gone_time_gap = visits_gap.quantile(0.90)"
   ],
   "metadata": {
    "collapsed": false
   }
  },
  {
   "cell_type": "markdown",
   "source": [
    "**Шаг 2**\n",
    "Смержим наши данные в таблицу и дополним ее необходимыми значениями"
   ],
   "metadata": {
    "collapsed": false
   }
  },
  {
   "cell_type": "code",
   "execution_count": 580,
   "outputs": [
    {
     "data": {
      "text/plain": "action  user_id  discovered  passed  started_attempt  viewed\n0             1           1       0                0       1\n1             2           9       9                2      10\n2             3          91      87               30     192\n3             5          11      11                4      12\n4             7           1       1                0       1",
      "text/html": "<div>\n<style scoped>\n    .dataframe tbody tr th:only-of-type {\n        vertical-align: middle;\n    }\n\n    .dataframe tbody tr th {\n        vertical-align: top;\n    }\n\n    .dataframe thead th {\n        text-align: right;\n    }\n</style>\n<table border=\"1\" class=\"dataframe\">\n  <thead>\n    <tr style=\"text-align: right;\">\n      <th>action</th>\n      <th>user_id</th>\n      <th>discovered</th>\n      <th>passed</th>\n      <th>started_attempt</th>\n      <th>viewed</th>\n    </tr>\n  </thead>\n  <tbody>\n    <tr>\n      <th>0</th>\n      <td>1</td>\n      <td>1</td>\n      <td>0</td>\n      <td>0</td>\n      <td>1</td>\n    </tr>\n    <tr>\n      <th>1</th>\n      <td>2</td>\n      <td>9</td>\n      <td>9</td>\n      <td>2</td>\n      <td>10</td>\n    </tr>\n    <tr>\n      <th>2</th>\n      <td>3</td>\n      <td>91</td>\n      <td>87</td>\n      <td>30</td>\n      <td>192</td>\n    </tr>\n    <tr>\n      <th>3</th>\n      <td>5</td>\n      <td>11</td>\n      <td>11</td>\n      <td>4</td>\n      <td>12</td>\n    </tr>\n    <tr>\n      <th>4</th>\n      <td>7</td>\n      <td>1</td>\n      <td>1</td>\n      <td>0</td>\n      <td>1</td>\n    </tr>\n  </tbody>\n</table>\n</div>"
     },
     "execution_count": 580,
     "metadata": {},
     "output_type": "execute_result"
    }
   ],
   "source": [
    "events_pivot = events_train.pivot_table(index='user_id', columns='action', values='step_id', aggfunc='count', fill_value=0).reset_index()\n",
    "events_pivot.head()"
   ],
   "metadata": {
    "collapsed": false
   }
  },
  {
   "cell_type": "code",
   "execution_count": 581,
   "outputs": [
    {
     "data": {
      "text/plain": "submission_status  user_id  correct  wrong\n0                        2        2      0\n1                        3       29     23\n2                        5        2      2\n3                        8        9     21\n4                       14        0      1",
      "text/html": "<div>\n<style scoped>\n    .dataframe tbody tr th:only-of-type {\n        vertical-align: middle;\n    }\n\n    .dataframe tbody tr th {\n        vertical-align: top;\n    }\n\n    .dataframe thead th {\n        text-align: right;\n    }\n</style>\n<table border=\"1\" class=\"dataframe\">\n  <thead>\n    <tr style=\"text-align: right;\">\n      <th>submission_status</th>\n      <th>user_id</th>\n      <th>correct</th>\n      <th>wrong</th>\n    </tr>\n  </thead>\n  <tbody>\n    <tr>\n      <th>0</th>\n      <td>2</td>\n      <td>2</td>\n      <td>0</td>\n    </tr>\n    <tr>\n      <th>1</th>\n      <td>3</td>\n      <td>29</td>\n      <td>23</td>\n    </tr>\n    <tr>\n      <th>2</th>\n      <td>5</td>\n      <td>2</td>\n      <td>2</td>\n    </tr>\n    <tr>\n      <th>3</th>\n      <td>8</td>\n      <td>9</td>\n      <td>21</td>\n    </tr>\n    <tr>\n      <th>4</th>\n      <td>14</td>\n      <td>0</td>\n      <td>1</td>\n    </tr>\n  </tbody>\n</table>\n</div>"
     },
     "execution_count": 581,
     "metadata": {},
     "output_type": "execute_result"
    }
   ],
   "source": [
    "submissions_pivot = submissions_train.pivot_table(index='user_id', columns='submission_status', values='step_id', aggfunc='count', fill_value=0).reset_index()\n",
    "submissions_pivot.head()"
   ],
   "metadata": {
    "collapsed": false
   }
  },
  {
   "cell_type": "code",
   "execution_count": 582,
   "outputs": [
    {
     "data": {
      "text/plain": "   user_id  discovered  passed  started_attempt  viewed  correct  wrong\n0        1           1       0                0       1      0.0    0.0\n1        2           9       9                2      10      2.0    0.0\n2        3          91      87               30     192     29.0   23.0\n3        5          11      11                4      12      2.0    2.0\n4        7           1       1                0       1      0.0    0.0",
      "text/html": "<div>\n<style scoped>\n    .dataframe tbody tr th:only-of-type {\n        vertical-align: middle;\n    }\n\n    .dataframe tbody tr th {\n        vertical-align: top;\n    }\n\n    .dataframe thead th {\n        text-align: right;\n    }\n</style>\n<table border=\"1\" class=\"dataframe\">\n  <thead>\n    <tr style=\"text-align: right;\">\n      <th></th>\n      <th>user_id</th>\n      <th>discovered</th>\n      <th>passed</th>\n      <th>started_attempt</th>\n      <th>viewed</th>\n      <th>correct</th>\n      <th>wrong</th>\n    </tr>\n  </thead>\n  <tbody>\n    <tr>\n      <th>0</th>\n      <td>1</td>\n      <td>1</td>\n      <td>0</td>\n      <td>0</td>\n      <td>1</td>\n      <td>0.0</td>\n      <td>0.0</td>\n    </tr>\n    <tr>\n      <th>1</th>\n      <td>2</td>\n      <td>9</td>\n      <td>9</td>\n      <td>2</td>\n      <td>10</td>\n      <td>2.0</td>\n      <td>0.0</td>\n    </tr>\n    <tr>\n      <th>2</th>\n      <td>3</td>\n      <td>91</td>\n      <td>87</td>\n      <td>30</td>\n      <td>192</td>\n      <td>29.0</td>\n      <td>23.0</td>\n    </tr>\n    <tr>\n      <th>3</th>\n      <td>5</td>\n      <td>11</td>\n      <td>11</td>\n      <td>4</td>\n      <td>12</td>\n      <td>2.0</td>\n      <td>2.0</td>\n    </tr>\n    <tr>\n      <th>4</th>\n      <td>7</td>\n      <td>1</td>\n      <td>1</td>\n      <td>0</td>\n      <td>1</td>\n      <td>0.0</td>\n      <td>0.0</td>\n    </tr>\n  </tbody>\n</table>\n</div>"
     },
     "execution_count": 582,
     "metadata": {},
     "output_type": "execute_result"
    }
   ],
   "source": [
    "users_data = events_pivot.merge(submissions_pivot, on='user_id', how='outer')\n",
    "users_data = users_data.fillna(0)\n",
    "users_data.head()"
   ],
   "metadata": {
    "collapsed": false
   }
  },
  {
   "cell_type": "code",
   "execution_count": 583,
   "outputs": [],
   "source": [
    "last_timestamp = events_train[['user_id','timestamp']].groupby('user_id').aggregate({'timestamp':'max'}).reset_index().rename(columns={'timestamp': 'last_timestamp'})"
   ],
   "metadata": {
    "collapsed": false
   }
  },
  {
   "cell_type": "code",
   "execution_count": 584,
   "outputs": [
    {
     "data": {
      "text/plain": "   user_id  last_timestamp\n0        1      1472827464\n1        2      1519226966\n2        3      1444581588\n3        5      1499859939\n4        7      1521634660",
      "text/html": "<div>\n<style scoped>\n    .dataframe tbody tr th:only-of-type {\n        vertical-align: middle;\n    }\n\n    .dataframe tbody tr th {\n        vertical-align: top;\n    }\n\n    .dataframe thead th {\n        text-align: right;\n    }\n</style>\n<table border=\"1\" class=\"dataframe\">\n  <thead>\n    <tr style=\"text-align: right;\">\n      <th></th>\n      <th>user_id</th>\n      <th>last_timestamp</th>\n    </tr>\n  </thead>\n  <tbody>\n    <tr>\n      <th>0</th>\n      <td>1</td>\n      <td>1472827464</td>\n    </tr>\n    <tr>\n      <th>1</th>\n      <td>2</td>\n      <td>1519226966</td>\n    </tr>\n    <tr>\n      <th>2</th>\n      <td>3</td>\n      <td>1444581588</td>\n    </tr>\n    <tr>\n      <th>3</th>\n      <td>5</td>\n      <td>1499859939</td>\n    </tr>\n    <tr>\n      <th>4</th>\n      <td>7</td>\n      <td>1521634660</td>\n    </tr>\n  </tbody>\n</table>\n</div>"
     },
     "execution_count": 584,
     "metadata": {},
     "output_type": "execute_result"
    }
   ],
   "source": [
    "last_timestamp.head()"
   ],
   "metadata": {
    "collapsed": false
   }
  },
  {
   "cell_type": "code",
   "execution_count": 585,
   "outputs": [
    {
     "data": {
      "text/plain": "   user_id  discovered  passed  started_attempt  viewed  correct  wrong  \\\n0        1           1       0                0       1      0.0    0.0   \n1        2           9       9                2      10      2.0    0.0   \n2        3          91      87               30     192     29.0   23.0   \n3        5          11      11                4      12      2.0    2.0   \n4        7           1       1                0       1      0.0    0.0   \n\n   last_timestamp  \n0      1472827464  \n1      1519226966  \n2      1444581588  \n3      1499859939  \n4      1521634660  ",
      "text/html": "<div>\n<style scoped>\n    .dataframe tbody tr th:only-of-type {\n        vertical-align: middle;\n    }\n\n    .dataframe tbody tr th {\n        vertical-align: top;\n    }\n\n    .dataframe thead th {\n        text-align: right;\n    }\n</style>\n<table border=\"1\" class=\"dataframe\">\n  <thead>\n    <tr style=\"text-align: right;\">\n      <th></th>\n      <th>user_id</th>\n      <th>discovered</th>\n      <th>passed</th>\n      <th>started_attempt</th>\n      <th>viewed</th>\n      <th>correct</th>\n      <th>wrong</th>\n      <th>last_timestamp</th>\n    </tr>\n  </thead>\n  <tbody>\n    <tr>\n      <th>0</th>\n      <td>1</td>\n      <td>1</td>\n      <td>0</td>\n      <td>0</td>\n      <td>1</td>\n      <td>0.0</td>\n      <td>0.0</td>\n      <td>1472827464</td>\n    </tr>\n    <tr>\n      <th>1</th>\n      <td>2</td>\n      <td>9</td>\n      <td>9</td>\n      <td>2</td>\n      <td>10</td>\n      <td>2.0</td>\n      <td>0.0</td>\n      <td>1519226966</td>\n    </tr>\n    <tr>\n      <th>2</th>\n      <td>3</td>\n      <td>91</td>\n      <td>87</td>\n      <td>30</td>\n      <td>192</td>\n      <td>29.0</td>\n      <td>23.0</td>\n      <td>1444581588</td>\n    </tr>\n    <tr>\n      <th>3</th>\n      <td>5</td>\n      <td>11</td>\n      <td>11</td>\n      <td>4</td>\n      <td>12</td>\n      <td>2.0</td>\n      <td>2.0</td>\n      <td>1499859939</td>\n    </tr>\n    <tr>\n      <th>4</th>\n      <td>7</td>\n      <td>1</td>\n      <td>1</td>\n      <td>0</td>\n      <td>1</td>\n      <td>0.0</td>\n      <td>0.0</td>\n      <td>1521634660</td>\n    </tr>\n  </tbody>\n</table>\n</div>"
     },
     "execution_count": 585,
     "metadata": {},
     "output_type": "execute_result"
    }
   ],
   "source": [
    "users_data = users_data.merge(last_timestamp, on='user_id', how='outer').fillna(0)\n",
    "users_data.head()"
   ],
   "metadata": {
    "collapsed": false
   }
  },
  {
   "cell_type": "code",
   "execution_count": 586,
   "outputs": [
    {
     "data": {
      "text/plain": "1526772811"
     },
     "execution_count": 586,
     "metadata": {},
     "output_type": "execute_result"
    }
   ],
   "source": [
    "now_t = users_data.last_timestamp.max()\n",
    "now_t"
   ],
   "metadata": {
    "collapsed": false
   }
  },
  {
   "cell_type": "code",
   "execution_count": 587,
   "outputs": [
    {
     "data": {
      "text/plain": "   user_id  discovered  passed  started_attempt  viewed  correct  wrong  \\\n0        1           1       0                0       1      0.0    0.0   \n1        2           9       9                2      10      2.0    0.0   \n2        3          91      87               30     192     29.0   23.0   \n3        5          11      11                4      12      2.0    2.0   \n4        7           1       1                0       1      0.0    0.0   \n\n   last_timestamp  is_gone  \n0      1472827464     True  \n1      1519226966     True  \n2      1444581588     True  \n3      1499859939     True  \n4      1521634660     True  ",
      "text/html": "<div>\n<style scoped>\n    .dataframe tbody tr th:only-of-type {\n        vertical-align: middle;\n    }\n\n    .dataframe tbody tr th {\n        vertical-align: top;\n    }\n\n    .dataframe thead th {\n        text-align: right;\n    }\n</style>\n<table border=\"1\" class=\"dataframe\">\n  <thead>\n    <tr style=\"text-align: right;\">\n      <th></th>\n      <th>user_id</th>\n      <th>discovered</th>\n      <th>passed</th>\n      <th>started_attempt</th>\n      <th>viewed</th>\n      <th>correct</th>\n      <th>wrong</th>\n      <th>last_timestamp</th>\n      <th>is_gone</th>\n    </tr>\n  </thead>\n  <tbody>\n    <tr>\n      <th>0</th>\n      <td>1</td>\n      <td>1</td>\n      <td>0</td>\n      <td>0</td>\n      <td>1</td>\n      <td>0.0</td>\n      <td>0.0</td>\n      <td>1472827464</td>\n      <td>True</td>\n    </tr>\n    <tr>\n      <th>1</th>\n      <td>2</td>\n      <td>9</td>\n      <td>9</td>\n      <td>2</td>\n      <td>10</td>\n      <td>2.0</td>\n      <td>0.0</td>\n      <td>1519226966</td>\n      <td>True</td>\n    </tr>\n    <tr>\n      <th>2</th>\n      <td>3</td>\n      <td>91</td>\n      <td>87</td>\n      <td>30</td>\n      <td>192</td>\n      <td>29.0</td>\n      <td>23.0</td>\n      <td>1444581588</td>\n      <td>True</td>\n    </tr>\n    <tr>\n      <th>3</th>\n      <td>5</td>\n      <td>11</td>\n      <td>11</td>\n      <td>4</td>\n      <td>12</td>\n      <td>2.0</td>\n      <td>2.0</td>\n      <td>1499859939</td>\n      <td>True</td>\n    </tr>\n    <tr>\n      <th>4</th>\n      <td>7</td>\n      <td>1</td>\n      <td>1</td>\n      <td>0</td>\n      <td>1</td>\n      <td>0.0</td>\n      <td>0.0</td>\n      <td>1521634660</td>\n      <td>True</td>\n    </tr>\n  </tbody>\n</table>\n</div>"
     },
     "execution_count": 587,
     "metadata": {},
     "output_type": "execute_result"
    }
   ],
   "source": [
    "users_data['is_gone'] = now_t - users_data['last_timestamp']  > is_gone_time_gap\n",
    "users_data.head()"
   ],
   "metadata": {
    "collapsed": false
   }
  },
  {
   "cell_type": "code",
   "execution_count": 272,
   "outputs": [
    {
     "data": {
      "text/plain": "   user_id  discovered  passed  started_attempt  viewed  correct  wrong  \\\n0        1           1       0                0       1      0.0    0.0   \n1        2           9       9                2      10      2.0    0.0   \n2        3          91      87               30     192     29.0   23.0   \n3        5          11      11                4      12      2.0    2.0   \n4        7           1       1                0       1      0.0    0.0   \n\n   last_timestamp  is_gone  course_completed  \n0      1472827464     True             False  \n1      1519226966     True             False  \n2      1444581588     True             False  \n3      1499859939     True             False  \n4      1521634660     True             False  ",
      "text/html": "<div>\n<style scoped>\n    .dataframe tbody tr th:only-of-type {\n        vertical-align: middle;\n    }\n\n    .dataframe tbody tr th {\n        vertical-align: top;\n    }\n\n    .dataframe thead th {\n        text-align: right;\n    }\n</style>\n<table border=\"1\" class=\"dataframe\">\n  <thead>\n    <tr style=\"text-align: right;\">\n      <th></th>\n      <th>user_id</th>\n      <th>discovered</th>\n      <th>passed</th>\n      <th>started_attempt</th>\n      <th>viewed</th>\n      <th>correct</th>\n      <th>wrong</th>\n      <th>last_timestamp</th>\n      <th>is_gone</th>\n      <th>course_completed</th>\n    </tr>\n  </thead>\n  <tbody>\n    <tr>\n      <th>0</th>\n      <td>1</td>\n      <td>1</td>\n      <td>0</td>\n      <td>0</td>\n      <td>1</td>\n      <td>0.0</td>\n      <td>0.0</td>\n      <td>1472827464</td>\n      <td>True</td>\n      <td>False</td>\n    </tr>\n    <tr>\n      <th>1</th>\n      <td>2</td>\n      <td>9</td>\n      <td>9</td>\n      <td>2</td>\n      <td>10</td>\n      <td>2.0</td>\n      <td>0.0</td>\n      <td>1519226966</td>\n      <td>True</td>\n      <td>False</td>\n    </tr>\n    <tr>\n      <th>2</th>\n      <td>3</td>\n      <td>91</td>\n      <td>87</td>\n      <td>30</td>\n      <td>192</td>\n      <td>29.0</td>\n      <td>23.0</td>\n      <td>1444581588</td>\n      <td>True</td>\n      <td>False</td>\n    </tr>\n    <tr>\n      <th>3</th>\n      <td>5</td>\n      <td>11</td>\n      <td>11</td>\n      <td>4</td>\n      <td>12</td>\n      <td>2.0</td>\n      <td>2.0</td>\n      <td>1499859939</td>\n      <td>True</td>\n      <td>False</td>\n    </tr>\n    <tr>\n      <th>4</th>\n      <td>7</td>\n      <td>1</td>\n      <td>1</td>\n      <td>0</td>\n      <td>1</td>\n      <td>0.0</td>\n      <td>0.0</td>\n      <td>1521634660</td>\n      <td>True</td>\n      <td>False</td>\n    </tr>\n  </tbody>\n</table>\n</div>"
     },
     "execution_count": 272,
     "metadata": {},
     "output_type": "execute_result"
    }
   ],
   "source": [
    "users_data['course_completed'] = users_data.passed > 170\n",
    "users_data.head()"
   ],
   "metadata": {
    "collapsed": false
   }
  },
  {
   "cell_type": "code",
   "execution_count": 1073,
   "outputs": [
    {
     "data": {
      "text/plain": "   user_id  discovered  passed  started_attempt  viewed  correct  wrong  \\\n0        1           1       0                0       1      0.0    0.0   \n1        2           9       9                2      10      2.0    0.0   \n2        3          91      87               30     192     29.0   23.0   \n3        5          11      11                4      12      2.0    2.0   \n4        7           1       1                0       1      0.0    0.0   \n\n   last_timestamp  is_gone  course_completed  first_timestamp_x  \\\n0      1472827464     True             False         1472827464   \n1      1519226966     True             False         1514383364   \n2      1444581588     True              True         1434358476   \n3      1499859939     True             False         1466156809   \n4      1521634660     True             False         1521634660   \n\n   completion_time  first_timestamp_y  first_timestamp  \n0     0.000000e+00         1472827464       1472827464  \n1     7.265403e+08         1514383364       1514383364  \n2     1.533467e+09         1434358476       1434358476  \n3     5.055470e+09         1466156809       1466156809  \n4     0.000000e+00         1521634660       1521634660  ",
      "text/html": "<div>\n<style scoped>\n    .dataframe tbody tr th:only-of-type {\n        vertical-align: middle;\n    }\n\n    .dataframe tbody tr th {\n        vertical-align: top;\n    }\n\n    .dataframe thead th {\n        text-align: right;\n    }\n</style>\n<table border=\"1\" class=\"dataframe\">\n  <thead>\n    <tr style=\"text-align: right;\">\n      <th></th>\n      <th>user_id</th>\n      <th>discovered</th>\n      <th>passed</th>\n      <th>started_attempt</th>\n      <th>viewed</th>\n      <th>correct</th>\n      <th>wrong</th>\n      <th>last_timestamp</th>\n      <th>is_gone</th>\n      <th>course_completed</th>\n      <th>first_timestamp_x</th>\n      <th>completion_time</th>\n      <th>first_timestamp_y</th>\n      <th>first_timestamp</th>\n    </tr>\n  </thead>\n  <tbody>\n    <tr>\n      <th>0</th>\n      <td>1</td>\n      <td>1</td>\n      <td>0</td>\n      <td>0</td>\n      <td>1</td>\n      <td>0.0</td>\n      <td>0.0</td>\n      <td>1472827464</td>\n      <td>True</td>\n      <td>False</td>\n      <td>1472827464</td>\n      <td>0.000000e+00</td>\n      <td>1472827464</td>\n      <td>1472827464</td>\n    </tr>\n    <tr>\n      <th>1</th>\n      <td>2</td>\n      <td>9</td>\n      <td>9</td>\n      <td>2</td>\n      <td>10</td>\n      <td>2.0</td>\n      <td>0.0</td>\n      <td>1519226966</td>\n      <td>True</td>\n      <td>False</td>\n      <td>1514383364</td>\n      <td>7.265403e+08</td>\n      <td>1514383364</td>\n      <td>1514383364</td>\n    </tr>\n    <tr>\n      <th>2</th>\n      <td>3</td>\n      <td>91</td>\n      <td>87</td>\n      <td>30</td>\n      <td>192</td>\n      <td>29.0</td>\n      <td>23.0</td>\n      <td>1444581588</td>\n      <td>True</td>\n      <td>True</td>\n      <td>1434358476</td>\n      <td>1.533467e+09</td>\n      <td>1434358476</td>\n      <td>1434358476</td>\n    </tr>\n    <tr>\n      <th>3</th>\n      <td>5</td>\n      <td>11</td>\n      <td>11</td>\n      <td>4</td>\n      <td>12</td>\n      <td>2.0</td>\n      <td>2.0</td>\n      <td>1499859939</td>\n      <td>True</td>\n      <td>False</td>\n      <td>1466156809</td>\n      <td>5.055470e+09</td>\n      <td>1466156809</td>\n      <td>1466156809</td>\n    </tr>\n    <tr>\n      <th>4</th>\n      <td>7</td>\n      <td>1</td>\n      <td>1</td>\n      <td>0</td>\n      <td>1</td>\n      <td>0.0</td>\n      <td>0.0</td>\n      <td>1521634660</td>\n      <td>True</td>\n      <td>False</td>\n      <td>1521634660</td>\n      <td>0.000000e+00</td>\n      <td>1521634660</td>\n      <td>1521634660</td>\n    </tr>\n  </tbody>\n</table>\n</div>"
     },
     "execution_count": 1073,
     "metadata": {},
     "output_type": "execute_result"
    }
   ],
   "source": [
    "users_data['course_completed'] = users_data.passed > 40\n",
    "users_data.head()"
   ],
   "metadata": {
    "collapsed": false
   }
  },
  {
   "cell_type": "code",
   "execution_count": 1074,
   "outputs": [
    {
     "data": {
      "text/plain": "course_completed\nFalse    14596\nTrue      4638\nName: course_completed, dtype: int64"
     },
     "execution_count": 1074,
     "metadata": {},
     "output_type": "execute_result"
    }
   ],
   "source": [
    "users_data.groupby('course_completed')['course_completed'].count()"
   ],
   "metadata": {
    "collapsed": false
   }
  },
  {
   "cell_type": "code",
   "execution_count": 1075,
   "outputs": [
    {
     "data": {
      "text/plain": "       user_id  discovered  passed  started_attempt  viewed  correct  wrong  \\\n0            1           1       0                0       1      0.0    0.0   \n1            2           9       9                2      10      2.0    0.0   \n2            3          91      87               30     192     29.0   23.0   \n3            5          11      11                4      12      2.0    2.0   \n4            7           1       1                0       1      0.0    0.0   \n...        ...         ...     ...              ...     ...      ...    ...   \n19229    26790           8       8                1       9      1.0    0.0   \n19230    26793           1       0                1       1      0.0    0.0   \n19231    26794          69      69               34     180     33.0    9.0   \n19232    26797          10      10                2      13      2.0    0.0   \n19233    26798          12      12                3      12      2.0    1.0   \n\n       last_timestamp  is_gone  course_completed  first_timestamp_x  \\\n0          1472827464     True             False         1472827464   \n1          1519226966     True             False         1514383364   \n2          1444581588     True              True         1434358476   \n3          1499859939     True             False         1466156809   \n4          1521634660     True             False         1521634660   \n...               ...      ...               ...                ...   \n19229      1517495987     True             False         1451484016   \n19230      1510225034     True             False         1510225031   \n19231      1512035039     True              True         1495287049   \n19232      1509995096     True             False         1508425316   \n19233      1520978742     True             False         1520975763   \n\n       completion_time  first_timestamp_y  first_timestamp  \n0         0.000000e+00         1472827464       1472827464  \n1         7.265403e+08         1514383364       1514383364  \n2         1.533467e+09         1434358476       1434358476  \n3         5.055470e+09         1466156809       1466156809  \n4         0.000000e+00         1521634660       1521634660  \n...                ...                ...              ...  \n19229     9.901796e+09         1451484016       1451484016  \n19230     4.500000e+02         1510225031       1510225031  \n19231     2.512198e+09         1495287049       1495287049  \n19232     2.354670e+08         1508425316       1508425316  \n19233     4.468500e+05         1520975763       1520975763  \n\n[19234 rows x 14 columns]",
      "text/html": "<div>\n<style scoped>\n    .dataframe tbody tr th:only-of-type {\n        vertical-align: middle;\n    }\n\n    .dataframe tbody tr th {\n        vertical-align: top;\n    }\n\n    .dataframe thead th {\n        text-align: right;\n    }\n</style>\n<table border=\"1\" class=\"dataframe\">\n  <thead>\n    <tr style=\"text-align: right;\">\n      <th></th>\n      <th>user_id</th>\n      <th>discovered</th>\n      <th>passed</th>\n      <th>started_attempt</th>\n      <th>viewed</th>\n      <th>correct</th>\n      <th>wrong</th>\n      <th>last_timestamp</th>\n      <th>is_gone</th>\n      <th>course_completed</th>\n      <th>first_timestamp_x</th>\n      <th>completion_time</th>\n      <th>first_timestamp_y</th>\n      <th>first_timestamp</th>\n    </tr>\n  </thead>\n  <tbody>\n    <tr>\n      <th>0</th>\n      <td>1</td>\n      <td>1</td>\n      <td>0</td>\n      <td>0</td>\n      <td>1</td>\n      <td>0.0</td>\n      <td>0.0</td>\n      <td>1472827464</td>\n      <td>True</td>\n      <td>False</td>\n      <td>1472827464</td>\n      <td>0.000000e+00</td>\n      <td>1472827464</td>\n      <td>1472827464</td>\n    </tr>\n    <tr>\n      <th>1</th>\n      <td>2</td>\n      <td>9</td>\n      <td>9</td>\n      <td>2</td>\n      <td>10</td>\n      <td>2.0</td>\n      <td>0.0</td>\n      <td>1519226966</td>\n      <td>True</td>\n      <td>False</td>\n      <td>1514383364</td>\n      <td>7.265403e+08</td>\n      <td>1514383364</td>\n      <td>1514383364</td>\n    </tr>\n    <tr>\n      <th>2</th>\n      <td>3</td>\n      <td>91</td>\n      <td>87</td>\n      <td>30</td>\n      <td>192</td>\n      <td>29.0</td>\n      <td>23.0</td>\n      <td>1444581588</td>\n      <td>True</td>\n      <td>True</td>\n      <td>1434358476</td>\n      <td>1.533467e+09</td>\n      <td>1434358476</td>\n      <td>1434358476</td>\n    </tr>\n    <tr>\n      <th>3</th>\n      <td>5</td>\n      <td>11</td>\n      <td>11</td>\n      <td>4</td>\n      <td>12</td>\n      <td>2.0</td>\n      <td>2.0</td>\n      <td>1499859939</td>\n      <td>True</td>\n      <td>False</td>\n      <td>1466156809</td>\n      <td>5.055470e+09</td>\n      <td>1466156809</td>\n      <td>1466156809</td>\n    </tr>\n    <tr>\n      <th>4</th>\n      <td>7</td>\n      <td>1</td>\n      <td>1</td>\n      <td>0</td>\n      <td>1</td>\n      <td>0.0</td>\n      <td>0.0</td>\n      <td>1521634660</td>\n      <td>True</td>\n      <td>False</td>\n      <td>1521634660</td>\n      <td>0.000000e+00</td>\n      <td>1521634660</td>\n      <td>1521634660</td>\n    </tr>\n    <tr>\n      <th>...</th>\n      <td>...</td>\n      <td>...</td>\n      <td>...</td>\n      <td>...</td>\n      <td>...</td>\n      <td>...</td>\n      <td>...</td>\n      <td>...</td>\n      <td>...</td>\n      <td>...</td>\n      <td>...</td>\n      <td>...</td>\n      <td>...</td>\n      <td>...</td>\n    </tr>\n    <tr>\n      <th>19229</th>\n      <td>26790</td>\n      <td>8</td>\n      <td>8</td>\n      <td>1</td>\n      <td>9</td>\n      <td>1.0</td>\n      <td>0.0</td>\n      <td>1517495987</td>\n      <td>True</td>\n      <td>False</td>\n      <td>1451484016</td>\n      <td>9.901796e+09</td>\n      <td>1451484016</td>\n      <td>1451484016</td>\n    </tr>\n    <tr>\n      <th>19230</th>\n      <td>26793</td>\n      <td>1</td>\n      <td>0</td>\n      <td>1</td>\n      <td>1</td>\n      <td>0.0</td>\n      <td>0.0</td>\n      <td>1510225034</td>\n      <td>True</td>\n      <td>False</td>\n      <td>1510225031</td>\n      <td>4.500000e+02</td>\n      <td>1510225031</td>\n      <td>1510225031</td>\n    </tr>\n    <tr>\n      <th>19231</th>\n      <td>26794</td>\n      <td>69</td>\n      <td>69</td>\n      <td>34</td>\n      <td>180</td>\n      <td>33.0</td>\n      <td>9.0</td>\n      <td>1512035039</td>\n      <td>True</td>\n      <td>True</td>\n      <td>1495287049</td>\n      <td>2.512198e+09</td>\n      <td>1495287049</td>\n      <td>1495287049</td>\n    </tr>\n    <tr>\n      <th>19232</th>\n      <td>26797</td>\n      <td>10</td>\n      <td>10</td>\n      <td>2</td>\n      <td>13</td>\n      <td>2.0</td>\n      <td>0.0</td>\n      <td>1509995096</td>\n      <td>True</td>\n      <td>False</td>\n      <td>1508425316</td>\n      <td>2.354670e+08</td>\n      <td>1508425316</td>\n      <td>1508425316</td>\n    </tr>\n    <tr>\n      <th>19233</th>\n      <td>26798</td>\n      <td>12</td>\n      <td>12</td>\n      <td>3</td>\n      <td>12</td>\n      <td>2.0</td>\n      <td>1.0</td>\n      <td>1520978742</td>\n      <td>True</td>\n      <td>False</td>\n      <td>1520975763</td>\n      <td>4.468500e+05</td>\n      <td>1520975763</td>\n      <td>1520975763</td>\n    </tr>\n  </tbody>\n</table>\n<p>19234 rows × 14 columns</p>\n</div>"
     },
     "execution_count": 1075,
     "metadata": {},
     "output_type": "execute_result"
    }
   ],
   "source": [
    "users_data"
   ],
   "metadata": {
    "collapsed": false
   }
  },
  {
   "cell_type": "markdown",
   "source": [
    "### Задача\n",
    "Предсказать успешность прохождения курса на основе поведения студента в первые несколько дней"
   ],
   "metadata": {
    "collapsed": false
   }
  },
  {
   "cell_type": "code",
   "execution_count": 201,
   "outputs": [
    {
     "name": "stdout",
     "output_type": "stream",
     "text": [
      "<class 'pandas.core.frame.DataFrame'>\n",
      "Int64Index: 19234 entries, 0 to 19233\n",
      "Data columns (total 10 columns):\n",
      " #   Column            Non-Null Count  Dtype  \n",
      "---  ------            --------------  -----  \n",
      " 0   user_id           19234 non-null  int64  \n",
      " 1   discovered        19234 non-null  int64  \n",
      " 2   passed            19234 non-null  int64  \n",
      " 3   started_attempt   19234 non-null  int64  \n",
      " 4   viewed            19234 non-null  int64  \n",
      " 5   correct           19234 non-null  float64\n",
      " 6   wrong             19234 non-null  float64\n",
      " 7   last_timestamp    19234 non-null  int64  \n",
      " 8   is_gone           19234 non-null  bool   \n",
      " 9   course_completed  19234 non-null  bool   \n",
      "dtypes: bool(2), float64(2), int64(6)\n",
      "memory usage: 1.4 MB\n"
     ]
    }
   ],
   "source": [
    "users_data.info()"
   ],
   "metadata": {
    "collapsed": false
   }
  },
  {
   "cell_type": "code",
   "execution_count": 202,
   "outputs": [
    {
     "data": {
      "text/plain": "   user_id  discovered  passed  started_attempt  viewed  correct  wrong  \\\n0        1           1       0                0       1      0.0    0.0   \n1        2           9       9                2      10      2.0    0.0   \n2        3          91      87               30     192     29.0   23.0   \n3        5          11      11                4      12      2.0    2.0   \n4        7           1       1                0       1      0.0    0.0   \n\n   last_timestamp  is_gone  course_completed  \n0      1472827464     True             False  \n1      1519226966     True             False  \n2      1444581588     True             False  \n3      1499859939     True             False  \n4      1521634660     True             False  ",
      "text/html": "<div>\n<style scoped>\n    .dataframe tbody tr th:only-of-type {\n        vertical-align: middle;\n    }\n\n    .dataframe tbody tr th {\n        vertical-align: top;\n    }\n\n    .dataframe thead th {\n        text-align: right;\n    }\n</style>\n<table border=\"1\" class=\"dataframe\">\n  <thead>\n    <tr style=\"text-align: right;\">\n      <th></th>\n      <th>user_id</th>\n      <th>discovered</th>\n      <th>passed</th>\n      <th>started_attempt</th>\n      <th>viewed</th>\n      <th>correct</th>\n      <th>wrong</th>\n      <th>last_timestamp</th>\n      <th>is_gone</th>\n      <th>course_completed</th>\n    </tr>\n  </thead>\n  <tbody>\n    <tr>\n      <th>0</th>\n      <td>1</td>\n      <td>1</td>\n      <td>0</td>\n      <td>0</td>\n      <td>1</td>\n      <td>0.0</td>\n      <td>0.0</td>\n      <td>1472827464</td>\n      <td>True</td>\n      <td>False</td>\n    </tr>\n    <tr>\n      <th>1</th>\n      <td>2</td>\n      <td>9</td>\n      <td>9</td>\n      <td>2</td>\n      <td>10</td>\n      <td>2.0</td>\n      <td>0.0</td>\n      <td>1519226966</td>\n      <td>True</td>\n      <td>False</td>\n    </tr>\n    <tr>\n      <th>2</th>\n      <td>3</td>\n      <td>91</td>\n      <td>87</td>\n      <td>30</td>\n      <td>192</td>\n      <td>29.0</td>\n      <td>23.0</td>\n      <td>1444581588</td>\n      <td>True</td>\n      <td>False</td>\n    </tr>\n    <tr>\n      <th>3</th>\n      <td>5</td>\n      <td>11</td>\n      <td>11</td>\n      <td>4</td>\n      <td>12</td>\n      <td>2.0</td>\n      <td>2.0</td>\n      <td>1499859939</td>\n      <td>True</td>\n      <td>False</td>\n    </tr>\n    <tr>\n      <th>4</th>\n      <td>7</td>\n      <td>1</td>\n      <td>1</td>\n      <td>0</td>\n      <td>1</td>\n      <td>0.0</td>\n      <td>0.0</td>\n      <td>1521634660</td>\n      <td>True</td>\n      <td>False</td>\n    </tr>\n  </tbody>\n</table>\n</div>"
     },
     "execution_count": 202,
     "metadata": {},
     "output_type": "execute_result"
    }
   ],
   "source": [
    "users_data.head()"
   ],
   "metadata": {
    "collapsed": false
   }
  },
  {
   "cell_type": "code",
   "execution_count": 691,
   "outputs": [],
   "source": [
    "first_timestamp = events_train.groupby('user_id').aggregate({'timestamp': 'min'}).reset_index().rename(columns={'timestamp': 'first_timestamp'})"
   ],
   "metadata": {
    "collapsed": false
   }
  },
  {
   "cell_type": "code",
   "execution_count": 692,
   "outputs": [
    {
     "data": {
      "text/plain": "   user_id  first_timestamp\n0        1       1472827464\n1        2       1514383364\n2        3       1434358476\n3        5       1466156809\n4        7       1521634660",
      "text/html": "<div>\n<style scoped>\n    .dataframe tbody tr th:only-of-type {\n        vertical-align: middle;\n    }\n\n    .dataframe tbody tr th {\n        vertical-align: top;\n    }\n\n    .dataframe thead th {\n        text-align: right;\n    }\n</style>\n<table border=\"1\" class=\"dataframe\">\n  <thead>\n    <tr style=\"text-align: right;\">\n      <th></th>\n      <th>user_id</th>\n      <th>first_timestamp</th>\n    </tr>\n  </thead>\n  <tbody>\n    <tr>\n      <th>0</th>\n      <td>1</td>\n      <td>1472827464</td>\n    </tr>\n    <tr>\n      <th>1</th>\n      <td>2</td>\n      <td>1514383364</td>\n    </tr>\n    <tr>\n      <th>2</th>\n      <td>3</td>\n      <td>1434358476</td>\n    </tr>\n    <tr>\n      <th>3</th>\n      <td>5</td>\n      <td>1466156809</td>\n    </tr>\n    <tr>\n      <th>4</th>\n      <td>7</td>\n      <td>1521634660</td>\n    </tr>\n  </tbody>\n</table>\n</div>"
     },
     "execution_count": 692,
     "metadata": {},
     "output_type": "execute_result"
    }
   ],
   "source": [
    "first_timestamp.head()"
   ],
   "metadata": {
    "collapsed": false
   }
  },
  {
   "cell_type": "code",
   "execution_count": 693,
   "outputs": [],
   "source": [
    "users_data = users_data.merge(first_timestamp, on='user_id', how='outer').fillna(0)"
   ],
   "metadata": {
    "collapsed": false
   }
  },
  {
   "cell_type": "code",
   "execution_count": 694,
   "outputs": [
    {
     "data": {
      "text/plain": "   user_id  discovered  passed  started_attempt  viewed  correct  wrong  \\\n0        1           1       0                0       1      0.0    0.0   \n1        2           9       9                2      10      2.0    0.0   \n2        3          91      87               30     192     29.0   23.0   \n3        5          11      11                4      12      2.0    2.0   \n4        7           1       1                0       1      0.0    0.0   \n\n   last_timestamp  is_gone  course_completed  first_timestamp_x  \\\n0      1472827464     True             False         1472827464   \n1      1519226966     True             False         1514383364   \n2      1444581588     True              True         1434358476   \n3      1499859939     True             False         1466156809   \n4      1521634660     True             False         1521634660   \n\n   completion_time  first_timestamp_y  first_timestamp  \n0     0.000000e+00         1472827464       1472827464  \n1     7.265403e+08         1514383364       1514383364  \n2     1.533467e+09         1434358476       1434358476  \n3     5.055470e+09         1466156809       1466156809  \n4     0.000000e+00         1521634660       1521634660  ",
      "text/html": "<div>\n<style scoped>\n    .dataframe tbody tr th:only-of-type {\n        vertical-align: middle;\n    }\n\n    .dataframe tbody tr th {\n        vertical-align: top;\n    }\n\n    .dataframe thead th {\n        text-align: right;\n    }\n</style>\n<table border=\"1\" class=\"dataframe\">\n  <thead>\n    <tr style=\"text-align: right;\">\n      <th></th>\n      <th>user_id</th>\n      <th>discovered</th>\n      <th>passed</th>\n      <th>started_attempt</th>\n      <th>viewed</th>\n      <th>correct</th>\n      <th>wrong</th>\n      <th>last_timestamp</th>\n      <th>is_gone</th>\n      <th>course_completed</th>\n      <th>first_timestamp_x</th>\n      <th>completion_time</th>\n      <th>first_timestamp_y</th>\n      <th>first_timestamp</th>\n    </tr>\n  </thead>\n  <tbody>\n    <tr>\n      <th>0</th>\n      <td>1</td>\n      <td>1</td>\n      <td>0</td>\n      <td>0</td>\n      <td>1</td>\n      <td>0.0</td>\n      <td>0.0</td>\n      <td>1472827464</td>\n      <td>True</td>\n      <td>False</td>\n      <td>1472827464</td>\n      <td>0.000000e+00</td>\n      <td>1472827464</td>\n      <td>1472827464</td>\n    </tr>\n    <tr>\n      <th>1</th>\n      <td>2</td>\n      <td>9</td>\n      <td>9</td>\n      <td>2</td>\n      <td>10</td>\n      <td>2.0</td>\n      <td>0.0</td>\n      <td>1519226966</td>\n      <td>True</td>\n      <td>False</td>\n      <td>1514383364</td>\n      <td>7.265403e+08</td>\n      <td>1514383364</td>\n      <td>1514383364</td>\n    </tr>\n    <tr>\n      <th>2</th>\n      <td>3</td>\n      <td>91</td>\n      <td>87</td>\n      <td>30</td>\n      <td>192</td>\n      <td>29.0</td>\n      <td>23.0</td>\n      <td>1444581588</td>\n      <td>True</td>\n      <td>True</td>\n      <td>1434358476</td>\n      <td>1.533467e+09</td>\n      <td>1434358476</td>\n      <td>1434358476</td>\n    </tr>\n    <tr>\n      <th>3</th>\n      <td>5</td>\n      <td>11</td>\n      <td>11</td>\n      <td>4</td>\n      <td>12</td>\n      <td>2.0</td>\n      <td>2.0</td>\n      <td>1499859939</td>\n      <td>True</td>\n      <td>False</td>\n      <td>1466156809</td>\n      <td>5.055470e+09</td>\n      <td>1466156809</td>\n      <td>1466156809</td>\n    </tr>\n    <tr>\n      <th>4</th>\n      <td>7</td>\n      <td>1</td>\n      <td>1</td>\n      <td>0</td>\n      <td>1</td>\n      <td>0.0</td>\n      <td>0.0</td>\n      <td>1521634660</td>\n      <td>True</td>\n      <td>False</td>\n      <td>1521634660</td>\n      <td>0.000000e+00</td>\n      <td>1521634660</td>\n      <td>1521634660</td>\n    </tr>\n  </tbody>\n</table>\n</div>"
     },
     "execution_count": 694,
     "metadata": {},
     "output_type": "execute_result"
    }
   ],
   "source": [
    "users_data.head()"
   ],
   "metadata": {
    "collapsed": false
   }
  },
  {
   "cell_type": "code",
   "execution_count": 695,
   "outputs": [
    {
     "data": {
      "text/plain": "   user_id  discovered  passed  started_attempt  viewed  correct  wrong  \\\n0        1           1       0                0       1      0.0    0.0   \n1        2           9       9                2      10      2.0    0.0   \n2        3          91      87               30     192     29.0   23.0   \n3        5          11      11                4      12      2.0    2.0   \n4        7           1       1                0       1      0.0    0.0   \n\n   last_timestamp  is_gone  course_completed  first_timestamp_x  \\\n0      1472827464     True             False         1472827464   \n1      1519226966     True             False         1514383364   \n2      1444581588     True              True         1434358476   \n3      1499859939     True             False         1466156809   \n4      1521634660     True             False         1521634660   \n\n   completion_time  first_timestamp_y  first_timestamp  \n0     0.000000e+00         1472827464       1472827464  \n1     7.265403e+08         1514383364       1514383364  \n2     1.533467e+09         1434358476       1434358476  \n3     5.055470e+09         1466156809       1466156809  \n4     0.000000e+00         1521634660       1521634660  ",
      "text/html": "<div>\n<style scoped>\n    .dataframe tbody tr th:only-of-type {\n        vertical-align: middle;\n    }\n\n    .dataframe tbody tr th {\n        vertical-align: top;\n    }\n\n    .dataframe thead th {\n        text-align: right;\n    }\n</style>\n<table border=\"1\" class=\"dataframe\">\n  <thead>\n    <tr style=\"text-align: right;\">\n      <th></th>\n      <th>user_id</th>\n      <th>discovered</th>\n      <th>passed</th>\n      <th>started_attempt</th>\n      <th>viewed</th>\n      <th>correct</th>\n      <th>wrong</th>\n      <th>last_timestamp</th>\n      <th>is_gone</th>\n      <th>course_completed</th>\n      <th>first_timestamp_x</th>\n      <th>completion_time</th>\n      <th>first_timestamp_y</th>\n      <th>first_timestamp</th>\n    </tr>\n  </thead>\n  <tbody>\n    <tr>\n      <th>0</th>\n      <td>1</td>\n      <td>1</td>\n      <td>0</td>\n      <td>0</td>\n      <td>1</td>\n      <td>0.0</td>\n      <td>0.0</td>\n      <td>1472827464</td>\n      <td>True</td>\n      <td>False</td>\n      <td>1472827464</td>\n      <td>0.000000e+00</td>\n      <td>1472827464</td>\n      <td>1472827464</td>\n    </tr>\n    <tr>\n      <th>1</th>\n      <td>2</td>\n      <td>9</td>\n      <td>9</td>\n      <td>2</td>\n      <td>10</td>\n      <td>2.0</td>\n      <td>0.0</td>\n      <td>1519226966</td>\n      <td>True</td>\n      <td>False</td>\n      <td>1514383364</td>\n      <td>7.265403e+08</td>\n      <td>1514383364</td>\n      <td>1514383364</td>\n    </tr>\n    <tr>\n      <th>2</th>\n      <td>3</td>\n      <td>91</td>\n      <td>87</td>\n      <td>30</td>\n      <td>192</td>\n      <td>29.0</td>\n      <td>23.0</td>\n      <td>1444581588</td>\n      <td>True</td>\n      <td>True</td>\n      <td>1434358476</td>\n      <td>1.533467e+09</td>\n      <td>1434358476</td>\n      <td>1434358476</td>\n    </tr>\n    <tr>\n      <th>3</th>\n      <td>5</td>\n      <td>11</td>\n      <td>11</td>\n      <td>4</td>\n      <td>12</td>\n      <td>2.0</td>\n      <td>2.0</td>\n      <td>1499859939</td>\n      <td>True</td>\n      <td>False</td>\n      <td>1466156809</td>\n      <td>5.055470e+09</td>\n      <td>1466156809</td>\n      <td>1466156809</td>\n    </tr>\n    <tr>\n      <th>4</th>\n      <td>7</td>\n      <td>1</td>\n      <td>1</td>\n      <td>0</td>\n      <td>1</td>\n      <td>0.0</td>\n      <td>0.0</td>\n      <td>1521634660</td>\n      <td>True</td>\n      <td>False</td>\n      <td>1521634660</td>\n      <td>0.000000e+00</td>\n      <td>1521634660</td>\n      <td>1521634660</td>\n    </tr>\n  </tbody>\n</table>\n</div>"
     },
     "execution_count": 695,
     "metadata": {},
     "output_type": "execute_result"
    }
   ],
   "source": [
    "users_data['completion_time'] = (users_data.last_timestamp - users_data.first_timestamp_x) / 24 * 60 * 60\n",
    "users_data.head()"
   ],
   "metadata": {
    "collapsed": false
   }
  },
  {
   "cell_type": "code",
   "execution_count": 696,
   "outputs": [
    {
     "data": {
      "text/plain": "<Figure size 640x480 with 1 Axes>",
      "image/png": "[encoded data removed]"
     },
     "metadata": {},
     "output_type": "display_data"
    }
   ],
   "source": [
    "users_data['completion_time'].hist()\n",
    "plt.show()"
   ],
   "metadata": {
    "collapsed": false
   }
  },
  {
   "cell_type": "code",
   "execution_count": 697,
   "outputs": [],
   "source": [
    "events_threshold = 2 * 24 * 60 * 60"
   ],
   "metadata": {
    "collapsed": false
   }
  },
  {
   "cell_type": "code",
   "execution_count": 611,
   "outputs": [
    {
     "ename": "KeyError",
     "evalue": "\"['first_timestamp'] not in index\"",
     "output_type": "error",
     "traceback": [
      "\u001B[0;31m---------------------------------------------------------------------------\u001B[0m",
      "\u001B[0;31mKeyError\u001B[0m                                  Traceback (most recent call last)",
      "Cell \u001B[0;32mIn [611], line 2\u001B[0m\n\u001B[1;32m      1\u001B[0m \u001B[38;5;66;03m# Создаем новую таблицу с событиями за первый 3 дня с первого события пользователя\u001B[39;00m\n\u001B[0;32m----> 2\u001B[0m events_train_first_3_days \u001B[38;5;241m=\u001B[39m events_train\u001B[38;5;241m.\u001B[39mmerge(\u001B[43musers_data\u001B[49m\u001B[43m[\u001B[49m\u001B[43m[\u001B[49m\u001B[38;5;124;43m'\u001B[39;49m\u001B[38;5;124;43muser_id\u001B[39;49m\u001B[38;5;124;43m'\u001B[39;49m\u001B[43m,\u001B[49m\u001B[43m \u001B[49m\u001B[38;5;124;43m'\u001B[39;49m\u001B[38;5;124;43mfirst_timestamp\u001B[39;49m\u001B[38;5;124;43m'\u001B[39;49m\u001B[43m]\u001B[49m\u001B[43m]\u001B[49m, on\u001B[38;5;241m=\u001B[39m\u001B[38;5;124m'\u001B[39m\u001B[38;5;124muser_id\u001B[39m\u001B[38;5;124m'\u001B[39m, how\u001B[38;5;241m=\u001B[39m\u001B[38;5;124m'\u001B[39m\u001B[38;5;124mleft\u001B[39m\u001B[38;5;124m'\u001B[39m) \\\n\u001B[1;32m      3\u001B[0m     \u001B[38;5;241m.\u001B[39mquery(\u001B[38;5;124m\"\u001B[39m\u001B[38;5;124m(timestamp - first_timestamp) < @events_threshold\u001B[39m\u001B[38;5;124m\"\u001B[39m)\n",
      "File \u001B[0;32m~/venv/lib/python3.10/site-packages/pandas/core/frame.py:3511\u001B[0m, in \u001B[0;36mDataFrame.__getitem__\u001B[0;34m(self, key)\u001B[0m\n\u001B[1;32m   3509\u001B[0m     \u001B[38;5;28;01mif\u001B[39;00m is_iterator(key):\n\u001B[1;32m   3510\u001B[0m         key \u001B[38;5;241m=\u001B[39m \u001B[38;5;28mlist\u001B[39m(key)\n\u001B[0;32m-> 3511\u001B[0m     indexer \u001B[38;5;241m=\u001B[39m \u001B[38;5;28;43mself\u001B[39;49m\u001B[38;5;241;43m.\u001B[39;49m\u001B[43mcolumns\u001B[49m\u001B[38;5;241;43m.\u001B[39;49m\u001B[43m_get_indexer_strict\u001B[49m\u001B[43m(\u001B[49m\u001B[43mkey\u001B[49m\u001B[43m,\u001B[49m\u001B[43m \u001B[49m\u001B[38;5;124;43m\"\u001B[39;49m\u001B[38;5;124;43mcolumns\u001B[39;49m\u001B[38;5;124;43m\"\u001B[39;49m\u001B[43m)\u001B[49m[\u001B[38;5;241m1\u001B[39m]\n\u001B[1;32m   3513\u001B[0m \u001B[38;5;66;03m# take() does not accept boolean indexers\u001B[39;00m\n\u001B[1;32m   3514\u001B[0m \u001B[38;5;28;01mif\u001B[39;00m \u001B[38;5;28mgetattr\u001B[39m(indexer, \u001B[38;5;124m\"\u001B[39m\u001B[38;5;124mdtype\u001B[39m\u001B[38;5;124m\"\u001B[39m, \u001B[38;5;28;01mNone\u001B[39;00m) \u001B[38;5;241m==\u001B[39m \u001B[38;5;28mbool\u001B[39m:\n",
      "File \u001B[0;32m~/venv/lib/python3.10/site-packages/pandas/core/indexes/base.py:5796\u001B[0m, in \u001B[0;36mIndex._get_indexer_strict\u001B[0;34m(self, key, axis_name)\u001B[0m\n\u001B[1;32m   5793\u001B[0m \u001B[38;5;28;01melse\u001B[39;00m:\n\u001B[1;32m   5794\u001B[0m     keyarr, indexer, new_indexer \u001B[38;5;241m=\u001B[39m \u001B[38;5;28mself\u001B[39m\u001B[38;5;241m.\u001B[39m_reindex_non_unique(keyarr)\n\u001B[0;32m-> 5796\u001B[0m \u001B[38;5;28;43mself\u001B[39;49m\u001B[38;5;241;43m.\u001B[39;49m\u001B[43m_raise_if_missing\u001B[49m\u001B[43m(\u001B[49m\u001B[43mkeyarr\u001B[49m\u001B[43m,\u001B[49m\u001B[43m \u001B[49m\u001B[43mindexer\u001B[49m\u001B[43m,\u001B[49m\u001B[43m \u001B[49m\u001B[43maxis_name\u001B[49m\u001B[43m)\u001B[49m\n\u001B[1;32m   5798\u001B[0m keyarr \u001B[38;5;241m=\u001B[39m \u001B[38;5;28mself\u001B[39m\u001B[38;5;241m.\u001B[39mtake(indexer)\n\u001B[1;32m   5799\u001B[0m \u001B[38;5;28;01mif\u001B[39;00m \u001B[38;5;28misinstance\u001B[39m(key, Index):\n\u001B[1;32m   5800\u001B[0m     \u001B[38;5;66;03m# GH 42790 - Preserve name from an Index\u001B[39;00m\n",
      "File \u001B[0;32m~/venv/lib/python3.10/site-packages/pandas/core/indexes/base.py:5859\u001B[0m, in \u001B[0;36mIndex._raise_if_missing\u001B[0;34m(self, key, indexer, axis_name)\u001B[0m\n\u001B[1;32m   5856\u001B[0m     \u001B[38;5;28;01mraise\u001B[39;00m \u001B[38;5;167;01mKeyError\u001B[39;00m(\u001B[38;5;124mf\u001B[39m\u001B[38;5;124m\"\u001B[39m\u001B[38;5;124mNone of [\u001B[39m\u001B[38;5;132;01m{\u001B[39;00mkey\u001B[38;5;132;01m}\u001B[39;00m\u001B[38;5;124m] are in the [\u001B[39m\u001B[38;5;132;01m{\u001B[39;00maxis_name\u001B[38;5;132;01m}\u001B[39;00m\u001B[38;5;124m]\u001B[39m\u001B[38;5;124m\"\u001B[39m)\n\u001B[1;32m   5858\u001B[0m not_found \u001B[38;5;241m=\u001B[39m \u001B[38;5;28mlist\u001B[39m(ensure_index(key)[missing_mask\u001B[38;5;241m.\u001B[39mnonzero()[\u001B[38;5;241m0\u001B[39m]]\u001B[38;5;241m.\u001B[39munique())\n\u001B[0;32m-> 5859\u001B[0m \u001B[38;5;28;01mraise\u001B[39;00m \u001B[38;5;167;01mKeyError\u001B[39;00m(\u001B[38;5;124mf\u001B[39m\u001B[38;5;124m\"\u001B[39m\u001B[38;5;132;01m{\u001B[39;00mnot_found\u001B[38;5;132;01m}\u001B[39;00m\u001B[38;5;124m not in index\u001B[39m\u001B[38;5;124m\"\u001B[39m)\n",
      "\u001B[0;31mKeyError\u001B[0m: \"['first_timestamp'] not in index\""
     ]
    }
   ],
   "source": [
    "# Создаем новую таблицу с событиями за первый 3 дня с первого события пользователя\n",
    "events_train_first_3_days = events_train.merge(users_data[['user_id', 'first_timestamp']], on='user_id', how='left') \\\n",
    "    .query(\"(timestamp - first_timestamp) < @events_threshold\")"
   ],
   "metadata": {
    "collapsed": false
   }
  },
  {
   "cell_type": "code",
   "execution_count": 751,
   "outputs": [],
   "source": [
    "events_train_first_2_days = events_train.merge(users_data[['user_id', 'first_timestamp_y']], on='user_id', how='left') \\\n",
    "    .query(\"(timestamp - first_timestamp_y) < @events_threshold\")"
   ],
   "metadata": {
    "collapsed": false
   }
  },
  {
   "cell_type": "code",
   "execution_count": 752,
   "outputs": [
    {
     "data": {
      "text/plain": "   step_id   timestamp      action  user_id                date         day  \\\n0    32815  1434340848      viewed    17632 2015-06-15 04:00:48  2015-06-15   \n1    32815  1434340848      passed    17632 2015-06-15 04:00:48  2015-06-15   \n2    32815  1434340848  discovered    17632 2015-06-15 04:00:48  2015-06-15   \n3    32811  1434340895  discovered    17632 2015-06-15 04:01:35  2015-06-15   \n4    32811  1434340895      viewed    17632 2015-06-15 04:01:35  2015-06-15   \n\n   first_timestamp_y  \n0         1434340848  \n1         1434340848  \n2         1434340848  \n3         1434340848  \n4         1434340848  ",
      "text/html": "<div>\n<style scoped>\n    .dataframe tbody tr th:only-of-type {\n        vertical-align: middle;\n    }\n\n    .dataframe tbody tr th {\n        vertical-align: top;\n    }\n\n    .dataframe thead th {\n        text-align: right;\n    }\n</style>\n<table border=\"1\" class=\"dataframe\">\n  <thead>\n    <tr style=\"text-align: right;\">\n      <th></th>\n      <th>step_id</th>\n      <th>timestamp</th>\n      <th>action</th>\n      <th>user_id</th>\n      <th>date</th>\n      <th>day</th>\n      <th>first_timestamp_y</th>\n    </tr>\n  </thead>\n  <tbody>\n    <tr>\n      <th>0</th>\n      <td>32815</td>\n      <td>1434340848</td>\n      <td>viewed</td>\n      <td>17632</td>\n      <td>2015-06-15 04:00:48</td>\n      <td>2015-06-15</td>\n      <td>1434340848</td>\n    </tr>\n    <tr>\n      <th>1</th>\n      <td>32815</td>\n      <td>1434340848</td>\n      <td>passed</td>\n      <td>17632</td>\n      <td>2015-06-15 04:00:48</td>\n      <td>2015-06-15</td>\n      <td>1434340848</td>\n    </tr>\n    <tr>\n      <th>2</th>\n      <td>32815</td>\n      <td>1434340848</td>\n      <td>discovered</td>\n      <td>17632</td>\n      <td>2015-06-15 04:00:48</td>\n      <td>2015-06-15</td>\n      <td>1434340848</td>\n    </tr>\n    <tr>\n      <th>3</th>\n      <td>32811</td>\n      <td>1434340895</td>\n      <td>discovered</td>\n      <td>17632</td>\n      <td>2015-06-15 04:01:35</td>\n      <td>2015-06-15</td>\n      <td>1434340848</td>\n    </tr>\n    <tr>\n      <th>4</th>\n      <td>32811</td>\n      <td>1434340895</td>\n      <td>viewed</td>\n      <td>17632</td>\n      <td>2015-06-15 04:01:35</td>\n      <td>2015-06-15</td>\n      <td>1434340848</td>\n    </tr>\n  </tbody>\n</table>\n</div>"
     },
     "execution_count": 752,
     "metadata": {},
     "output_type": "execute_result"
    }
   ],
   "source": [
    "events_train_first_2_days.head()"
   ],
   "metadata": {
    "collapsed": false
   }
  },
  {
   "cell_type": "code",
   "execution_count": 212,
   "outputs": [
    {
     "data": {
      "text/plain": "(1014980, 7)"
     },
     "execution_count": 212,
     "metadata": {},
     "output_type": "execute_result"
    }
   ],
   "source": [
    "events_train_first_3_days.shape"
   ],
   "metadata": {
    "collapsed": false
   }
  },
  {
   "cell_type": "code",
   "execution_count": 699,
   "outputs": [
    {
     "data": {
      "text/plain": "3"
     },
     "execution_count": 699,
     "metadata": {},
     "output_type": "execute_result"
    }
   ],
   "source": [
    "events_train_first_2_days.groupby('user_id').day.nunique().max()"
   ],
   "metadata": {
    "collapsed": false
   }
  },
  {
   "cell_type": "code",
   "execution_count": 754,
   "outputs": [
    {
     "data": {
      "text/plain": "action  user_id  discovered  passed  started_attempt  viewed\n0             1           1       0                0       1\n1             2           9       9                2       9\n2             3          15      15                4      20\n3             5           1       1                0       1\n4             7           1       1                0       1",
      "text/html": "<div>\n<style scoped>\n    .dataframe tbody tr th:only-of-type {\n        vertical-align: middle;\n    }\n\n    .dataframe tbody tr th {\n        vertical-align: top;\n    }\n\n    .dataframe thead th {\n        text-align: right;\n    }\n</style>\n<table border=\"1\" class=\"dataframe\">\n  <thead>\n    <tr style=\"text-align: right;\">\n      <th>action</th>\n      <th>user_id</th>\n      <th>discovered</th>\n      <th>passed</th>\n      <th>started_attempt</th>\n      <th>viewed</th>\n    </tr>\n  </thead>\n  <tbody>\n    <tr>\n      <th>0</th>\n      <td>1</td>\n      <td>1</td>\n      <td>0</td>\n      <td>0</td>\n      <td>1</td>\n    </tr>\n    <tr>\n      <th>1</th>\n      <td>2</td>\n      <td>9</td>\n      <td>9</td>\n      <td>2</td>\n      <td>9</td>\n    </tr>\n    <tr>\n      <th>2</th>\n      <td>3</td>\n      <td>15</td>\n      <td>15</td>\n      <td>4</td>\n      <td>20</td>\n    </tr>\n    <tr>\n      <th>3</th>\n      <td>5</td>\n      <td>1</td>\n      <td>1</td>\n      <td>0</td>\n      <td>1</td>\n    </tr>\n    <tr>\n      <th>4</th>\n      <td>7</td>\n      <td>1</td>\n      <td>1</td>\n      <td>0</td>\n      <td>1</td>\n    </tr>\n  </tbody>\n</table>\n</div>"
     },
     "execution_count": 754,
     "metadata": {},
     "output_type": "execute_result"
    }
   ],
   "source": [
    "train_data = events_train_first_2_days.pivot_table(index='user_id', columns='action', values='step_id', aggfunc='count', fill_value=0).reset_index()\n",
    "train_data.head()"
   ],
   "metadata": {
    "collapsed": false
   }
  },
  {
   "cell_type": "code",
   "execution_count": 755,
   "outputs": [
    {
     "data": {
      "text/plain": "   user_id  discovered  passed  started_attempt  viewed  correct  wrong\n0        1           1       0                0       1      0.0    0.0\n1        2           9       9                2       9      2.0    0.0\n2        3          15      15                4      20     29.0   23.0\n3        5           1       1                0       1      2.0    2.0\n4        7           1       1                0       1      0.0    0.0",
      "text/html": "<div>\n<style scoped>\n    .dataframe tbody tr th:only-of-type {\n        vertical-align: middle;\n    }\n\n    .dataframe tbody tr th {\n        vertical-align: top;\n    }\n\n    .dataframe thead th {\n        text-align: right;\n    }\n</style>\n<table border=\"1\" class=\"dataframe\">\n  <thead>\n    <tr style=\"text-align: right;\">\n      <th></th>\n      <th>user_id</th>\n      <th>discovered</th>\n      <th>passed</th>\n      <th>started_attempt</th>\n      <th>viewed</th>\n      <th>correct</th>\n      <th>wrong</th>\n    </tr>\n  </thead>\n  <tbody>\n    <tr>\n      <th>0</th>\n      <td>1</td>\n      <td>1</td>\n      <td>0</td>\n      <td>0</td>\n      <td>1</td>\n      <td>0.0</td>\n      <td>0.0</td>\n    </tr>\n    <tr>\n      <th>1</th>\n      <td>2</td>\n      <td>9</td>\n      <td>9</td>\n      <td>2</td>\n      <td>9</td>\n      <td>2.0</td>\n      <td>0.0</td>\n    </tr>\n    <tr>\n      <th>2</th>\n      <td>3</td>\n      <td>15</td>\n      <td>15</td>\n      <td>4</td>\n      <td>20</td>\n      <td>29.0</td>\n      <td>23.0</td>\n    </tr>\n    <tr>\n      <th>3</th>\n      <td>5</td>\n      <td>1</td>\n      <td>1</td>\n      <td>0</td>\n      <td>1</td>\n      <td>2.0</td>\n      <td>2.0</td>\n    </tr>\n    <tr>\n      <th>4</th>\n      <td>7</td>\n      <td>1</td>\n      <td>1</td>\n      <td>0</td>\n      <td>1</td>\n      <td>0.0</td>\n      <td>0.0</td>\n    </tr>\n  </tbody>\n</table>\n</div>"
     },
     "execution_count": 755,
     "metadata": {},
     "output_type": "execute_result"
    }
   ],
   "source": [
    "train_data = train_data.merge(submissions_pivot, on='user_id', how='outer').fillna(0)\n",
    "train_data.head()"
   ],
   "metadata": {
    "collapsed": false
   }
  },
  {
   "cell_type": "code",
   "execution_count": 1088,
   "outputs": [
    {
     "data": {
      "text/plain": "0            1\n1            2\n2            3\n3            5\n4            7\n         ...  \n19229    26790\n19230    26793\n19231    26794\n19232    26797\n19233    26798\nName: user_id, Length: 19233, dtype: int64"
     },
     "execution_count": 1088,
     "metadata": {},
     "output_type": "execute_result"
    }
   ],
   "source": [
    "train_data.user_id"
   ],
   "metadata": {
    "collapsed": false
   }
  },
  {
   "cell_type": "code",
   "execution_count": 757,
   "outputs": [
    {
     "data": {
      "text/plain": "   user_id  last_timestamp\n0        1      1472827464\n1        2      1519226966\n2        3      1444581588\n3        5      1499859939\n4        7      1521634660",
      "text/html": "<div>\n<style scoped>\n    .dataframe tbody tr th:only-of-type {\n        vertical-align: middle;\n    }\n\n    .dataframe tbody tr th {\n        vertical-align: top;\n    }\n\n    .dataframe thead th {\n        text-align: right;\n    }\n</style>\n<table border=\"1\" class=\"dataframe\">\n  <thead>\n    <tr style=\"text-align: right;\">\n      <th></th>\n      <th>user_id</th>\n      <th>last_timestamp</th>\n    </tr>\n  </thead>\n  <tbody>\n    <tr>\n      <th>0</th>\n      <td>1</td>\n      <td>1472827464</td>\n    </tr>\n    <tr>\n      <th>1</th>\n      <td>2</td>\n      <td>1519226966</td>\n    </tr>\n    <tr>\n      <th>2</th>\n      <td>3</td>\n      <td>1444581588</td>\n    </tr>\n    <tr>\n      <th>3</th>\n      <td>5</td>\n      <td>1499859939</td>\n    </tr>\n    <tr>\n      <th>4</th>\n      <td>7</td>\n      <td>1521634660</td>\n    </tr>\n  </tbody>\n</table>\n</div>"
     },
     "execution_count": 757,
     "metadata": {},
     "output_type": "execute_result"
    }
   ],
   "source": [
    "last_timestamp = events_train[['user_id', 'timestamp']].groupby('user_id').aggregate(\n",
    "    {'timestamp': 'max'}).reset_index().rename(columns={'timestamp': 'last_timestamp'})\n",
    "last_timestamp.head()"
   ],
   "metadata": {
    "collapsed": false
   }
  },
  {
   "cell_type": "code",
   "execution_count": 758,
   "outputs": [
    {
     "data": {
      "text/plain": "   user_id  discovered  passed  started_attempt  viewed  correct  wrong  \\\n0        1           1       0                0       1      0.0    0.0   \n1        2           9       9                2       9      2.0    0.0   \n2        3          15      15                4      20     29.0   23.0   \n3        5           1       1                0       1      2.0    2.0   \n4        7           1       1                0       1      0.0    0.0   \n\n   last_timestamp  \n0      1472827464  \n1      1519226966  \n2      1444581588  \n3      1499859939  \n4      1521634660  ",
      "text/html": "<div>\n<style scoped>\n    .dataframe tbody tr th:only-of-type {\n        vertical-align: middle;\n    }\n\n    .dataframe tbody tr th {\n        vertical-align: top;\n    }\n\n    .dataframe thead th {\n        text-align: right;\n    }\n</style>\n<table border=\"1\" class=\"dataframe\">\n  <thead>\n    <tr style=\"text-align: right;\">\n      <th></th>\n      <th>user_id</th>\n      <th>discovered</th>\n      <th>passed</th>\n      <th>started_attempt</th>\n      <th>viewed</th>\n      <th>correct</th>\n      <th>wrong</th>\n      <th>last_timestamp</th>\n    </tr>\n  </thead>\n  <tbody>\n    <tr>\n      <th>0</th>\n      <td>1</td>\n      <td>1</td>\n      <td>0</td>\n      <td>0</td>\n      <td>1</td>\n      <td>0.0</td>\n      <td>0.0</td>\n      <td>1472827464</td>\n    </tr>\n    <tr>\n      <th>1</th>\n      <td>2</td>\n      <td>9</td>\n      <td>9</td>\n      <td>2</td>\n      <td>9</td>\n      <td>2.0</td>\n      <td>0.0</td>\n      <td>1519226966</td>\n    </tr>\n    <tr>\n      <th>2</th>\n      <td>3</td>\n      <td>15</td>\n      <td>15</td>\n      <td>4</td>\n      <td>20</td>\n      <td>29.0</td>\n      <td>23.0</td>\n      <td>1444581588</td>\n    </tr>\n    <tr>\n      <th>3</th>\n      <td>5</td>\n      <td>1</td>\n      <td>1</td>\n      <td>0</td>\n      <td>1</td>\n      <td>2.0</td>\n      <td>2.0</td>\n      <td>1499859939</td>\n    </tr>\n    <tr>\n      <th>4</th>\n      <td>7</td>\n      <td>1</td>\n      <td>1</td>\n      <td>0</td>\n      <td>1</td>\n      <td>0.0</td>\n      <td>0.0</td>\n      <td>1521634660</td>\n    </tr>\n  </tbody>\n</table>\n</div>"
     },
     "execution_count": 758,
     "metadata": {},
     "output_type": "execute_result"
    }
   ],
   "source": [
    "train_data = train_data.merge(last_timestamp, on='user_id', how='outer').fillna(0)\n",
    "train_data.head()"
   ],
   "metadata": {
    "collapsed": false
   }
  },
  {
   "cell_type": "code",
   "execution_count": 759,
   "outputs": [
    {
     "data": {
      "text/plain": "1526772811"
     },
     "execution_count": 759,
     "metadata": {},
     "output_type": "execute_result"
    }
   ],
   "source": [
    "now_t = users_data.last_timestamp.max()\n",
    "now_t"
   ],
   "metadata": {
    "collapsed": false
   }
  },
  {
   "cell_type": "code",
   "execution_count": 760,
   "outputs": [
    {
     "data": {
      "text/plain": "   user_id  discovered  passed  started_attempt  viewed  correct  wrong  \\\n0        1           1       0                0       1      0.0    0.0   \n1        2           9       9                2       9      2.0    0.0   \n2        3          15      15                4      20     29.0   23.0   \n3        5           1       1                0       1      2.0    2.0   \n4        7           1       1                0       1      0.0    0.0   \n\n   last_timestamp  is_gone  \n0      1472827464     True  \n1      1519226966     True  \n2      1444581588     True  \n3      1499859939     True  \n4      1521634660     True  ",
      "text/html": "<div>\n<style scoped>\n    .dataframe tbody tr th:only-of-type {\n        vertical-align: middle;\n    }\n\n    .dataframe tbody tr th {\n        vertical-align: top;\n    }\n\n    .dataframe thead th {\n        text-align: right;\n    }\n</style>\n<table border=\"1\" class=\"dataframe\">\n  <thead>\n    <tr style=\"text-align: right;\">\n      <th></th>\n      <th>user_id</th>\n      <th>discovered</th>\n      <th>passed</th>\n      <th>started_attempt</th>\n      <th>viewed</th>\n      <th>correct</th>\n      <th>wrong</th>\n      <th>last_timestamp</th>\n      <th>is_gone</th>\n    </tr>\n  </thead>\n  <tbody>\n    <tr>\n      <th>0</th>\n      <td>1</td>\n      <td>1</td>\n      <td>0</td>\n      <td>0</td>\n      <td>1</td>\n      <td>0.0</td>\n      <td>0.0</td>\n      <td>1472827464</td>\n      <td>True</td>\n    </tr>\n    <tr>\n      <th>1</th>\n      <td>2</td>\n      <td>9</td>\n      <td>9</td>\n      <td>2</td>\n      <td>9</td>\n      <td>2.0</td>\n      <td>0.0</td>\n      <td>1519226966</td>\n      <td>True</td>\n    </tr>\n    <tr>\n      <th>2</th>\n      <td>3</td>\n      <td>15</td>\n      <td>15</td>\n      <td>4</td>\n      <td>20</td>\n      <td>29.0</td>\n      <td>23.0</td>\n      <td>1444581588</td>\n      <td>True</td>\n    </tr>\n    <tr>\n      <th>3</th>\n      <td>5</td>\n      <td>1</td>\n      <td>1</td>\n      <td>0</td>\n      <td>1</td>\n      <td>2.0</td>\n      <td>2.0</td>\n      <td>1499859939</td>\n      <td>True</td>\n    </tr>\n    <tr>\n      <th>4</th>\n      <td>7</td>\n      <td>1</td>\n      <td>1</td>\n      <td>0</td>\n      <td>1</td>\n      <td>0.0</td>\n      <td>0.0</td>\n      <td>1521634660</td>\n      <td>True</td>\n    </tr>\n  </tbody>\n</table>\n</div>"
     },
     "execution_count": 760,
     "metadata": {},
     "output_type": "execute_result"
    }
   ],
   "source": [
    "train_data['is_gone'] = now_t - train_data['last_timestamp'] > is_gone_time_gap\n",
    "train_data.head()"
   ],
   "metadata": {
    "collapsed": false
   }
  },
  {
   "cell_type": "code",
   "execution_count": 761,
   "outputs": [
    {
     "data": {
      "text/plain": "   user_id  discovered  passed  started_attempt  viewed  correct  wrong  \\\n0        1           1       0                0       1      0.0    0.0   \n1        2           9       9                2       9      2.0    0.0   \n2        3          15      15                4      20     29.0   23.0   \n3        5           1       1                0       1      2.0    2.0   \n4        7           1       1                0       1      0.0    0.0   \n\n   last_timestamp  is_gone  course_completed  \n0      1472827464     True             False  \n1      1519226966     True             False  \n2      1444581588     True             False  \n3      1499859939     True             False  \n4      1521634660     True             False  ",
      "text/html": "<div>\n<style scoped>\n    .dataframe tbody tr th:only-of-type {\n        vertical-align: middle;\n    }\n\n    .dataframe tbody tr th {\n        vertical-align: top;\n    }\n\n    .dataframe thead th {\n        text-align: right;\n    }\n</style>\n<table border=\"1\" class=\"dataframe\">\n  <thead>\n    <tr style=\"text-align: right;\">\n      <th></th>\n      <th>user_id</th>\n      <th>discovered</th>\n      <th>passed</th>\n      <th>started_attempt</th>\n      <th>viewed</th>\n      <th>correct</th>\n      <th>wrong</th>\n      <th>last_timestamp</th>\n      <th>is_gone</th>\n      <th>course_completed</th>\n    </tr>\n  </thead>\n  <tbody>\n    <tr>\n      <th>0</th>\n      <td>1</td>\n      <td>1</td>\n      <td>0</td>\n      <td>0</td>\n      <td>1</td>\n      <td>0.0</td>\n      <td>0.0</td>\n      <td>1472827464</td>\n      <td>True</td>\n      <td>False</td>\n    </tr>\n    <tr>\n      <th>1</th>\n      <td>2</td>\n      <td>9</td>\n      <td>9</td>\n      <td>2</td>\n      <td>9</td>\n      <td>2.0</td>\n      <td>0.0</td>\n      <td>1519226966</td>\n      <td>True</td>\n      <td>False</td>\n    </tr>\n    <tr>\n      <th>2</th>\n      <td>3</td>\n      <td>15</td>\n      <td>15</td>\n      <td>4</td>\n      <td>20</td>\n      <td>29.0</td>\n      <td>23.0</td>\n      <td>1444581588</td>\n      <td>True</td>\n      <td>False</td>\n    </tr>\n    <tr>\n      <th>3</th>\n      <td>5</td>\n      <td>1</td>\n      <td>1</td>\n      <td>0</td>\n      <td>1</td>\n      <td>2.0</td>\n      <td>2.0</td>\n      <td>1499859939</td>\n      <td>True</td>\n      <td>False</td>\n    </tr>\n    <tr>\n      <th>4</th>\n      <td>7</td>\n      <td>1</td>\n      <td>1</td>\n      <td>0</td>\n      <td>1</td>\n      <td>0.0</td>\n      <td>0.0</td>\n      <td>1521634660</td>\n      <td>True</td>\n      <td>False</td>\n    </tr>\n  </tbody>\n</table>\n</div>"
     },
     "execution_count": 761,
     "metadata": {},
     "output_type": "execute_result"
    }
   ],
   "source": [
    "train_data = train_data.merge(users_data[['user_id', 'course_completed']], on='user_id', how='outer').fillna(0)\n",
    "train_data.head()"
   ],
   "metadata": {
    "collapsed": false
   }
  },
  {
   "cell_type": "code",
   "execution_count": 762,
   "outputs": [
    {
     "data": {
      "text/plain": "                          user_id\nis_gone course_completed         \nFalse   False                   1\nTrue    False               17265\n        True                 1968",
      "text/html": "<div>\n<style scoped>\n    .dataframe tbody tr th:only-of-type {\n        vertical-align: middle;\n    }\n\n    .dataframe tbody tr th {\n        vertical-align: top;\n    }\n\n    .dataframe thead th {\n        text-align: right;\n    }\n</style>\n<table border=\"1\" class=\"dataframe\">\n  <thead>\n    <tr style=\"text-align: right;\">\n      <th></th>\n      <th></th>\n      <th>user_id</th>\n    </tr>\n    <tr>\n      <th>is_gone</th>\n      <th>course_completed</th>\n      <th></th>\n    </tr>\n  </thead>\n  <tbody>\n    <tr>\n      <th>False</th>\n      <th>False</th>\n      <td>1</td>\n    </tr>\n    <tr>\n      <th rowspan=\"2\" valign=\"top\">True</th>\n      <th>False</th>\n      <td>17265</td>\n    </tr>\n    <tr>\n      <th>True</th>\n      <td>1968</td>\n    </tr>\n  </tbody>\n</table>\n</div>"
     },
     "execution_count": 762,
     "metadata": {},
     "output_type": "execute_result"
    }
   ],
   "source": [
    "users_data.groupby(['is_gone', 'course_completed']).aggregate({'user_id': 'count'})"
   ],
   "metadata": {
    "collapsed": false
   }
  },
  {
   "cell_type": "code",
   "execution_count": 763,
   "outputs": [],
   "source": [
    "train_data = train_data.query(\"is_gone == True\")"
   ],
   "metadata": {
    "collapsed": false
   }
  },
  {
   "cell_type": "code",
   "execution_count": 764,
   "outputs": [
    {
     "data": {
      "text/plain": "                          user_id\nis_gone course_completed         \nTrue    False               17265\n        True                 1968",
      "text/html": "<div>\n<style scoped>\n    .dataframe tbody tr th:only-of-type {\n        vertical-align: middle;\n    }\n\n    .dataframe tbody tr th {\n        vertical-align: top;\n    }\n\n    .dataframe thead th {\n        text-align: right;\n    }\n</style>\n<table border=\"1\" class=\"dataframe\">\n  <thead>\n    <tr style=\"text-align: right;\">\n      <th></th>\n      <th></th>\n      <th>user_id</th>\n    </tr>\n    <tr>\n      <th>is_gone</th>\n      <th>course_completed</th>\n      <th></th>\n    </tr>\n  </thead>\n  <tbody>\n    <tr>\n      <th rowspan=\"2\" valign=\"top\">True</th>\n      <th>False</th>\n      <td>17265</td>\n    </tr>\n    <tr>\n      <th>True</th>\n      <td>1968</td>\n    </tr>\n  </tbody>\n</table>\n</div>"
     },
     "execution_count": 764,
     "metadata": {},
     "output_type": "execute_result"
    }
   ],
   "source": [
    "train_data.groupby(['is_gone', 'course_completed']).aggregate({'user_id': 'count'})"
   ],
   "metadata": {
    "collapsed": false
   }
  },
  {
   "cell_type": "code",
   "execution_count": 765,
   "outputs": [
    {
     "data": {
      "text/plain": "   user_id  discovered  passed  started_attempt  viewed  correct  wrong  \\\n0        1           1       0                0       1      0.0    0.0   \n1        2           9       9                2       9      2.0    0.0   \n2        3          15      15                4      20     29.0   23.0   \n3        5           1       1                0       1      2.0    2.0   \n4        7           1       1                0       1      0.0    0.0   \n\n   last_timestamp  is_gone  course_completed  \n0      1472827464     True             False  \n1      1519226966     True             False  \n2      1444581588     True             False  \n3      1499859939     True             False  \n4      1521634660     True             False  ",
      "text/html": "<div>\n<style scoped>\n    .dataframe tbody tr th:only-of-type {\n        vertical-align: middle;\n    }\n\n    .dataframe tbody tr th {\n        vertical-align: top;\n    }\n\n    .dataframe thead th {\n        text-align: right;\n    }\n</style>\n<table border=\"1\" class=\"dataframe\">\n  <thead>\n    <tr style=\"text-align: right;\">\n      <th></th>\n      <th>user_id</th>\n      <th>discovered</th>\n      <th>passed</th>\n      <th>started_attempt</th>\n      <th>viewed</th>\n      <th>correct</th>\n      <th>wrong</th>\n      <th>last_timestamp</th>\n      <th>is_gone</th>\n      <th>course_completed</th>\n    </tr>\n  </thead>\n  <tbody>\n    <tr>\n      <th>0</th>\n      <td>1</td>\n      <td>1</td>\n      <td>0</td>\n      <td>0</td>\n      <td>1</td>\n      <td>0.0</td>\n      <td>0.0</td>\n      <td>1472827464</td>\n      <td>True</td>\n      <td>False</td>\n    </tr>\n    <tr>\n      <th>1</th>\n      <td>2</td>\n      <td>9</td>\n      <td>9</td>\n      <td>2</td>\n      <td>9</td>\n      <td>2.0</td>\n      <td>0.0</td>\n      <td>1519226966</td>\n      <td>True</td>\n      <td>False</td>\n    </tr>\n    <tr>\n      <th>2</th>\n      <td>3</td>\n      <td>15</td>\n      <td>15</td>\n      <td>4</td>\n      <td>20</td>\n      <td>29.0</td>\n      <td>23.0</td>\n      <td>1444581588</td>\n      <td>True</td>\n      <td>False</td>\n    </tr>\n    <tr>\n      <th>3</th>\n      <td>5</td>\n      <td>1</td>\n      <td>1</td>\n      <td>0</td>\n      <td>1</td>\n      <td>2.0</td>\n      <td>2.0</td>\n      <td>1499859939</td>\n      <td>True</td>\n      <td>False</td>\n    </tr>\n    <tr>\n      <th>4</th>\n      <td>7</td>\n      <td>1</td>\n      <td>1</td>\n      <td>0</td>\n      <td>1</td>\n      <td>0.0</td>\n      <td>0.0</td>\n      <td>1521634660</td>\n      <td>True</td>\n      <td>False</td>\n    </tr>\n  </tbody>\n</table>\n</div>"
     },
     "execution_count": 765,
     "metadata": {},
     "output_type": "execute_result"
    }
   ],
   "source": [
    "train_data.head()"
   ],
   "metadata": {
    "collapsed": false
   }
  },
  {
   "cell_type": "code",
   "execution_count": 712,
   "outputs": [],
   "source": [
    "X = train_data.drop(['last_timestamp', 'is_gone', 'course_completed'], axis=1)"
   ],
   "metadata": {
    "collapsed": false
   }
  },
  {
   "cell_type": "code",
   "execution_count": 713,
   "outputs": [
    {
     "data": {
      "text/plain": "         discovered  passed  started_attempt  viewed  correct  wrong\nuser_id                                                             \n1                 1       0                0       1      0.0    0.0\n2                 9       9                2       9      2.0    0.0\n3                15      15                4      20     29.0   23.0\n5                 1       1                0       1      2.0    2.0\n7                 1       1                0       1      0.0    0.0",
      "text/html": "<div>\n<style scoped>\n    .dataframe tbody tr th:only-of-type {\n        vertical-align: middle;\n    }\n\n    .dataframe tbody tr th {\n        vertical-align: top;\n    }\n\n    .dataframe thead th {\n        text-align: right;\n    }\n</style>\n<table border=\"1\" class=\"dataframe\">\n  <thead>\n    <tr style=\"text-align: right;\">\n      <th></th>\n      <th>discovered</th>\n      <th>passed</th>\n      <th>started_attempt</th>\n      <th>viewed</th>\n      <th>correct</th>\n      <th>wrong</th>\n    </tr>\n    <tr>\n      <th>user_id</th>\n      <th></th>\n      <th></th>\n      <th></th>\n      <th></th>\n      <th></th>\n      <th></th>\n    </tr>\n  </thead>\n  <tbody>\n    <tr>\n      <th>1</th>\n      <td>1</td>\n      <td>0</td>\n      <td>0</td>\n      <td>1</td>\n      <td>0.0</td>\n      <td>0.0</td>\n    </tr>\n    <tr>\n      <th>2</th>\n      <td>9</td>\n      <td>9</td>\n      <td>2</td>\n      <td>9</td>\n      <td>2.0</td>\n      <td>0.0</td>\n    </tr>\n    <tr>\n      <th>3</th>\n      <td>15</td>\n      <td>15</td>\n      <td>4</td>\n      <td>20</td>\n      <td>29.0</td>\n      <td>23.0</td>\n    </tr>\n    <tr>\n      <th>5</th>\n      <td>1</td>\n      <td>1</td>\n      <td>0</td>\n      <td>1</td>\n      <td>2.0</td>\n      <td>2.0</td>\n    </tr>\n    <tr>\n      <th>7</th>\n      <td>1</td>\n      <td>1</td>\n      <td>0</td>\n      <td>1</td>\n      <td>0.0</td>\n      <td>0.0</td>\n    </tr>\n  </tbody>\n</table>\n</div>"
     },
     "execution_count": 713,
     "metadata": {},
     "output_type": "execute_result"
    }
   ],
   "source": [
    "X = X.set_index('user_id')\n",
    "X.head()"
   ],
   "metadata": {
    "collapsed": false
   }
  },
  {
   "cell_type": "code",
   "execution_count": 274,
   "outputs": [],
   "source": [
    "y = train_data[['user_id', 'course_completed']]"
   ],
   "metadata": {
    "collapsed": false
   }
  },
  {
   "cell_type": "code",
   "execution_count": 275,
   "outputs": [],
   "source": [
    "y = y.set_index('user_id')"
   ],
   "metadata": {
    "collapsed": false
   }
  },
  {
   "cell_type": "code",
   "execution_count": 280,
   "outputs": [],
   "source": [
    "rs = np.random.seed(0)"
   ],
   "metadata": {
    "collapsed": false
   }
  },
  {
   "cell_type": "code",
   "execution_count": 281,
   "outputs": [],
   "source": [
    "X_train, X_test, y_train, y_test = train_test_split(X, y, test_size = 0.25, random_state = rs)"
   ],
   "metadata": {
    "collapsed": false
   }
  },
  {
   "cell_type": "code",
   "execution_count": 282,
   "outputs": [],
   "source": [
    "clf = DecisionTreeClassifier()"
   ],
   "metadata": {
    "collapsed": false
   }
  },
  {
   "cell_type": "code",
   "execution_count": 283,
   "outputs": [],
   "source": [
    "params={'criterion':['gini', 'entropy'], 'max_depth': range(1, 12)}"
   ],
   "metadata": {
    "collapsed": false
   }
  },
  {
   "cell_type": "code",
   "execution_count": 284,
   "outputs": [],
   "source": [
    "grid_search_cv_clf=GridSearchCV(clf, params, cv=5)"
   ],
   "metadata": {
    "collapsed": false
   }
  },
  {
   "cell_type": "code",
   "execution_count": 285,
   "outputs": [
    {
     "data": {
      "text/plain": "GridSearchCV(cv=5, estimator=DecisionTreeClassifier(),\n             param_grid={'criterion': ['gini', 'entropy'],\n                         'max_depth': range(1, 12)})",
      "text/html": "<style>#sk-container-id-1 {color: black;background-color: white;}#sk-container-id-1 pre{padding: 0;}#sk-container-id-1 div.sk-toggleable {background-color: white;}#sk-container-id-1 label.sk-toggleable__label {cursor: pointer;display: block;width: 100%;margin-bottom: 0;padding: 0.3em;box-sizing: border-box;text-align: center;}#sk-container-id-1 label.sk-toggleable__label-arrow:before {content: \"▸\";float: left;margin-right: 0.25em;color: #696969;}#sk-container-id-1 label.sk-toggleable__label-arrow:hover:before {color: black;}#sk-container-id-1 div.sk-estimator:hover label.sk-toggleable__label-arrow:before {color: black;}#sk-container-id-1 div.sk-toggleable__content {max-height: 0;max-width: 0;overflow: hidden;text-align: left;background-color: #f0f8ff;}#sk-container-id-1 div.sk-toggleable__content pre {margin: 0.2em;color: black;border-radius: 0.25em;background-color: #f0f8ff;}#sk-container-id-1 input.sk-toggleable__control:checked~div.sk-toggleable__content {max-height: 200px;max-width: 100%;overflow: auto;}#sk-container-id-1 input.sk-toggleable__control:checked~label.sk-toggleable__label-arrow:before {content: \"▾\";}#sk-container-id-1 div.sk-estimator input.sk-toggleable__control:checked~label.sk-toggleable__label {background-color: #d4ebff;}#sk-container-id-1 div.sk-label input.sk-toggleable__control:checked~label.sk-toggleable__label {background-color: #d4ebff;}#sk-container-id-1 input.sk-hidden--visually {border: 0;clip: rect(1px 1px 1px 1px);clip: rect(1px, 1px, 1px, 1px);height: 1px;margin: -1px;overflow: hidden;padding: 0;position: absolute;width: 1px;}#sk-container-id-1 div.sk-estimator {font-family: monospace;background-color: #f0f8ff;border: 1px dotted black;border-radius: 0.25em;box-sizing: border-box;margin-bottom: 0.5em;}#sk-container-id-1 div.sk-estimator:hover {background-color: #d4ebff;}#sk-container-id-1 div.sk-parallel-item::after {content: \"\";width: 100%;border-bottom: 1px solid gray;flex-grow: 1;}#sk-container-id-1 div.sk-label:hover label.sk-toggleable__label {background-color: #d4ebff;}#sk-container-id-1 div.sk-serial::before {content: \"\";position: absolute;border-left: 1px solid gray;box-sizing: border-box;top: 0;bottom: 0;left: 50%;z-index: 0;}#sk-container-id-1 div.sk-serial {display: flex;flex-direction: column;align-items: center;background-color: white;padding-right: 0.2em;padding-left: 0.2em;position: relative;}#sk-container-id-1 div.sk-item {position: relative;z-index: 1;}#sk-container-id-1 div.sk-parallel {display: flex;align-items: stretch;justify-content: center;background-color: white;position: relative;}#sk-container-id-1 div.sk-item::before, #sk-container-id-1 div.sk-parallel-item::before {content: \"\";position: absolute;border-left: 1px solid gray;box-sizing: border-box;top: 0;bottom: 0;left: 50%;z-index: -1;}#sk-container-id-1 div.sk-parallel-item {display: flex;flex-direction: column;z-index: 1;position: relative;background-color: white;}#sk-container-id-1 div.sk-parallel-item:first-child::after {align-self: flex-end;width: 50%;}#sk-container-id-1 div.sk-parallel-item:last-child::after {align-self: flex-start;width: 50%;}#sk-container-id-1 div.sk-parallel-item:only-child::after {width: 0;}#sk-container-id-1 div.sk-dashed-wrapped {border: 1px dashed gray;margin: 0 0.4em 0.5em 0.4em;box-sizing: border-box;padding-bottom: 0.4em;background-color: white;}#sk-container-id-1 div.sk-label label {font-family: monospace;font-weight: bold;display: inline-block;line-height: 1.2em;}#sk-container-id-1 div.sk-label-container {text-align: center;}#sk-container-id-1 div.sk-container {/* jupyter's `normalize.less` sets `[hidden] { display: none; }` but bootstrap.min.css set `[hidden] { display: none !important; }` so we also need the `!important` here to be able to override the default hidden behavior on the sphinx rendered scikit-learn.org. See: https://github.com/scikit-learn/scikit-learn/issues/21755 */display: inline-block !important;position: relative;}#sk-container-id-1 div.sk-text-repr-fallback {display: none;}</style><div id=\"sk-container-id-1\" class=\"sk-top-container\"><div class=\"sk-text-repr-fallback\"><pre>GridSearchCV(cv=5, estimator=DecisionTreeClassifier(),\n             param_grid={&#x27;criterion&#x27;: [&#x27;gini&#x27;, &#x27;entropy&#x27;],\n                         &#x27;max_depth&#x27;: range(1, 12)})</pre><b>In a Jupyter environment, please rerun this cell to show the HTML representation or trust the notebook. <br />On GitHub, the HTML representation is unable to render, please try loading this page with nbviewer.org.</b></div><div class=\"sk-container\" hidden><div class=\"sk-item sk-dashed-wrapped\"><div class=\"sk-label-container\"><div class=\"sk-label sk-toggleable\"><input class=\"sk-toggleable__control sk-hidden--visually\" id=\"sk-estimator-id-1\" type=\"checkbox\" ><label for=\"sk-estimator-id-1\" class=\"sk-toggleable__label sk-toggleable__label-arrow\">GridSearchCV</label><div class=\"sk-toggleable__content\"><pre>GridSearchCV(cv=5, estimator=DecisionTreeClassifier(),\n             param_grid={&#x27;criterion&#x27;: [&#x27;gini&#x27;, &#x27;entropy&#x27;],\n                         &#x27;max_depth&#x27;: range(1, 12)})</pre></div></div></div><div class=\"sk-parallel\"><div class=\"sk-parallel-item\"><div class=\"sk-item\"><div class=\"sk-label-container\"><div class=\"sk-label sk-toggleable\"><input class=\"sk-toggleable__control sk-hidden--visually\" id=\"sk-estimator-id-2\" type=\"checkbox\" ><label for=\"sk-estimator-id-2\" class=\"sk-toggleable__label sk-toggleable__label-arrow\">estimator: DecisionTreeClassifier</label><div class=\"sk-toggleable__content\"><pre>DecisionTreeClassifier()</pre></div></div></div><div class=\"sk-serial\"><div class=\"sk-item\"><div class=\"sk-estimator sk-toggleable\"><input class=\"sk-toggleable__control sk-hidden--visually\" id=\"sk-estimator-id-3\" type=\"checkbox\" ><label for=\"sk-estimator-id-3\" class=\"sk-toggleable__label sk-toggleable__label-arrow\">DecisionTreeClassifier</label><div class=\"sk-toggleable__content\"><pre>DecisionTreeClassifier()</pre></div></div></div></div></div></div></div></div></div></div>"
     },
     "execution_count": 285,
     "metadata": {},
     "output_type": "execute_result"
    }
   ],
   "source": [
    "grid_search_cv_clf.fit(X_train, y_train)"
   ],
   "metadata": {
    "collapsed": false
   }
  },
  {
   "cell_type": "code",
   "execution_count": 286,
   "outputs": [
    {
     "data": {
      "text/plain": "DecisionTreeClassifier(max_depth=1)",
      "text/html": "<style>#sk-container-id-2 {color: black;background-color: white;}#sk-container-id-2 pre{padding: 0;}#sk-container-id-2 div.sk-toggleable {background-color: white;}#sk-container-id-2 label.sk-toggleable__label {cursor: pointer;display: block;width: 100%;margin-bottom: 0;padding: 0.3em;box-sizing: border-box;text-align: center;}#sk-container-id-2 label.sk-toggleable__label-arrow:before {content: \"▸\";float: left;margin-right: 0.25em;color: #696969;}#sk-container-id-2 label.sk-toggleable__label-arrow:hover:before {color: black;}#sk-container-id-2 div.sk-estimator:hover label.sk-toggleable__label-arrow:before {color: black;}#sk-container-id-2 div.sk-toggleable__content {max-height: 0;max-width: 0;overflow: hidden;text-align: left;background-color: #f0f8ff;}#sk-container-id-2 div.sk-toggleable__content pre {margin: 0.2em;color: black;border-radius: 0.25em;background-color: #f0f8ff;}#sk-container-id-2 input.sk-toggleable__control:checked~div.sk-toggleable__content {max-height: 200px;max-width: 100%;overflow: auto;}#sk-container-id-2 input.sk-toggleable__control:checked~label.sk-toggleable__label-arrow:before {content: \"▾\";}#sk-container-id-2 div.sk-estimator input.sk-toggleable__control:checked~label.sk-toggleable__label {background-color: #d4ebff;}#sk-container-id-2 div.sk-label input.sk-toggleable__control:checked~label.sk-toggleable__label {background-color: #d4ebff;}#sk-container-id-2 input.sk-hidden--visually {border: 0;clip: rect(1px 1px 1px 1px);clip: rect(1px, 1px, 1px, 1px);height: 1px;margin: -1px;overflow: hidden;padding: 0;position: absolute;width: 1px;}#sk-container-id-2 div.sk-estimator {font-family: monospace;background-color: #f0f8ff;border: 1px dotted black;border-radius: 0.25em;box-sizing: border-box;margin-bottom: 0.5em;}#sk-container-id-2 div.sk-estimator:hover {background-color: #d4ebff;}#sk-container-id-2 div.sk-parallel-item::after {content: \"\";width: 100%;border-bottom: 1px solid gray;flex-grow: 1;}#sk-container-id-2 div.sk-label:hover label.sk-toggleable__label {background-color: #d4ebff;}#sk-container-id-2 div.sk-serial::before {content: \"\";position: absolute;border-left: 1px solid gray;box-sizing: border-box;top: 0;bottom: 0;left: 50%;z-index: 0;}#sk-container-id-2 div.sk-serial {display: flex;flex-direction: column;align-items: center;background-color: white;padding-right: 0.2em;padding-left: 0.2em;position: relative;}#sk-container-id-2 div.sk-item {position: relative;z-index: 1;}#sk-container-id-2 div.sk-parallel {display: flex;align-items: stretch;justify-content: center;background-color: white;position: relative;}#sk-container-id-2 div.sk-item::before, #sk-container-id-2 div.sk-parallel-item::before {content: \"\";position: absolute;border-left: 1px solid gray;box-sizing: border-box;top: 0;bottom: 0;left: 50%;z-index: -1;}#sk-container-id-2 div.sk-parallel-item {display: flex;flex-direction: column;z-index: 1;position: relative;background-color: white;}#sk-container-id-2 div.sk-parallel-item:first-child::after {align-self: flex-end;width: 50%;}#sk-container-id-2 div.sk-parallel-item:last-child::after {align-self: flex-start;width: 50%;}#sk-container-id-2 div.sk-parallel-item:only-child::after {width: 0;}#sk-container-id-2 div.sk-dashed-wrapped {border: 1px dashed gray;margin: 0 0.4em 0.5em 0.4em;box-sizing: border-box;padding-bottom: 0.4em;background-color: white;}#sk-container-id-2 div.sk-label label {font-family: monospace;font-weight: bold;display: inline-block;line-height: 1.2em;}#sk-container-id-2 div.sk-label-container {text-align: center;}#sk-container-id-2 div.sk-container {/* jupyter's `normalize.less` sets `[hidden] { display: none; }` but bootstrap.min.css set `[hidden] { display: none !important; }` so we also need the `!important` here to be able to override the default hidden behavior on the sphinx rendered scikit-learn.org. See: https://github.com/scikit-learn/scikit-learn/issues/21755 */display: inline-block !important;position: relative;}#sk-container-id-2 div.sk-text-repr-fallback {display: none;}</style><div id=\"sk-container-id-2\" class=\"sk-top-container\"><div class=\"sk-text-repr-fallback\"><pre>DecisionTreeClassifier(max_depth=1)</pre><b>In a Jupyter environment, please rerun this cell to show the HTML representation or trust the notebook. <br />On GitHub, the HTML representation is unable to render, please try loading this page with nbviewer.org.</b></div><div class=\"sk-container\" hidden><div class=\"sk-item\"><div class=\"sk-estimator sk-toggleable\"><input class=\"sk-toggleable__control sk-hidden--visually\" id=\"sk-estimator-id-4\" type=\"checkbox\" checked><label for=\"sk-estimator-id-4\" class=\"sk-toggleable__label sk-toggleable__label-arrow\">DecisionTreeClassifier</label><div class=\"sk-toggleable__content\"><pre>DecisionTreeClassifier(max_depth=1)</pre></div></div></div></div></div>"
     },
     "execution_count": 286,
     "metadata": {},
     "output_type": "execute_result"
    }
   ],
   "source": [
    "best_clf = grid_search_cv_clf.best_estimator_\n",
    "best_clf"
   ],
   "metadata": {
    "collapsed": false
   }
  },
  {
   "cell_type": "code",
   "execution_count": 293,
   "outputs": [
    {
     "data": {
      "text/plain": "{'criterion': 'gini', 'max_depth': 1}"
     },
     "execution_count": 293,
     "metadata": {},
     "output_type": "execute_result"
    }
   ],
   "source": [
    "grid_search_cv_clf.best_params_"
   ],
   "metadata": {
    "collapsed": false
   }
  },
  {
   "cell_type": "code",
   "execution_count": 317,
   "outputs": [
    {
     "data": {
      "text/plain": "DecisionTreeClassifier(max_depth=1)",
      "text/html": "<style>#sk-container-id-4 {color: black;background-color: white;}#sk-container-id-4 pre{padding: 0;}#sk-container-id-4 div.sk-toggleable {background-color: white;}#sk-container-id-4 label.sk-toggleable__label {cursor: pointer;display: block;width: 100%;margin-bottom: 0;padding: 0.3em;box-sizing: border-box;text-align: center;}#sk-container-id-4 label.sk-toggleable__label-arrow:before {content: \"▸\";float: left;margin-right: 0.25em;color: #696969;}#sk-container-id-4 label.sk-toggleable__label-arrow:hover:before {color: black;}#sk-container-id-4 div.sk-estimator:hover label.sk-toggleable__label-arrow:before {color: black;}#sk-container-id-4 div.sk-toggleable__content {max-height: 0;max-width: 0;overflow: hidden;text-align: left;background-color: #f0f8ff;}#sk-container-id-4 div.sk-toggleable__content pre {margin: 0.2em;color: black;border-radius: 0.25em;background-color: #f0f8ff;}#sk-container-id-4 input.sk-toggleable__control:checked~div.sk-toggleable__content {max-height: 200px;max-width: 100%;overflow: auto;}#sk-container-id-4 input.sk-toggleable__control:checked~label.sk-toggleable__label-arrow:before {content: \"▾\";}#sk-container-id-4 div.sk-estimator input.sk-toggleable__control:checked~label.sk-toggleable__label {background-color: #d4ebff;}#sk-container-id-4 div.sk-label input.sk-toggleable__control:checked~label.sk-toggleable__label {background-color: #d4ebff;}#sk-container-id-4 input.sk-hidden--visually {border: 0;clip: rect(1px 1px 1px 1px);clip: rect(1px, 1px, 1px, 1px);height: 1px;margin: -1px;overflow: hidden;padding: 0;position: absolute;width: 1px;}#sk-container-id-4 div.sk-estimator {font-family: monospace;background-color: #f0f8ff;border: 1px dotted black;border-radius: 0.25em;box-sizing: border-box;margin-bottom: 0.5em;}#sk-container-id-4 div.sk-estimator:hover {background-color: #d4ebff;}#sk-container-id-4 div.sk-parallel-item::after {content: \"\";width: 100%;border-bottom: 1px solid gray;flex-grow: 1;}#sk-container-id-4 div.sk-label:hover label.sk-toggleable__label {background-color: #d4ebff;}#sk-container-id-4 div.sk-serial::before {content: \"\";position: absolute;border-left: 1px solid gray;box-sizing: border-box;top: 0;bottom: 0;left: 50%;z-index: 0;}#sk-container-id-4 div.sk-serial {display: flex;flex-direction: column;align-items: center;background-color: white;padding-right: 0.2em;padding-left: 0.2em;position: relative;}#sk-container-id-4 div.sk-item {position: relative;z-index: 1;}#sk-container-id-4 div.sk-parallel {display: flex;align-items: stretch;justify-content: center;background-color: white;position: relative;}#sk-container-id-4 div.sk-item::before, #sk-container-id-4 div.sk-parallel-item::before {content: \"\";position: absolute;border-left: 1px solid gray;box-sizing: border-box;top: 0;bottom: 0;left: 50%;z-index: -1;}#sk-container-id-4 div.sk-parallel-item {display: flex;flex-direction: column;z-index: 1;position: relative;background-color: white;}#sk-container-id-4 div.sk-parallel-item:first-child::after {align-self: flex-end;width: 50%;}#sk-container-id-4 div.sk-parallel-item:last-child::after {align-self: flex-start;width: 50%;}#sk-container-id-4 div.sk-parallel-item:only-child::after {width: 0;}#sk-container-id-4 div.sk-dashed-wrapped {border: 1px dashed gray;margin: 0 0.4em 0.5em 0.4em;box-sizing: border-box;padding-bottom: 0.4em;background-color: white;}#sk-container-id-4 div.sk-label label {font-family: monospace;font-weight: bold;display: inline-block;line-height: 1.2em;}#sk-container-id-4 div.sk-label-container {text-align: center;}#sk-container-id-4 div.sk-container {/* jupyter's `normalize.less` sets `[hidden] { display: none; }` but bootstrap.min.css set `[hidden] { display: none !important; }` so we also need the `!important` here to be able to override the default hidden behavior on the sphinx rendered scikit-learn.org. See: https://github.com/scikit-learn/scikit-learn/issues/21755 */display: inline-block !important;position: relative;}#sk-container-id-4 div.sk-text-repr-fallback {display: none;}</style><div id=\"sk-container-id-4\" class=\"sk-top-container\"><div class=\"sk-text-repr-fallback\"><pre>DecisionTreeClassifier(max_depth=1)</pre><b>In a Jupyter environment, please rerun this cell to show the HTML representation or trust the notebook. <br />On GitHub, the HTML representation is unable to render, please try loading this page with nbviewer.org.</b></div><div class=\"sk-container\" hidden><div class=\"sk-item\"><div class=\"sk-estimator sk-toggleable\"><input class=\"sk-toggleable__control sk-hidden--visually\" id=\"sk-estimator-id-6\" type=\"checkbox\" checked><label for=\"sk-estimator-id-6\" class=\"sk-toggleable__label sk-toggleable__label-arrow\">DecisionTreeClassifier</label><div class=\"sk-toggleable__content\"><pre>DecisionTreeClassifier(max_depth=1)</pre></div></div></div></div></div>"
     },
     "execution_count": 317,
     "metadata": {},
     "output_type": "execute_result"
    }
   ],
   "source": [
    "best_clf.fit(X_train, y_train)"
   ],
   "metadata": {
    "collapsed": false
   }
  },
  {
   "cell_type": "code",
   "execution_count": 318,
   "outputs": [
    {
     "data": {
      "text/plain": "0.991890205864005"
     },
     "execution_count": 318,
     "metadata": {},
     "output_type": "execute_result"
    }
   ],
   "source": [
    "best_clf.score(X_test, y_test)"
   ],
   "metadata": {
    "collapsed": false
   }
  },
  {
   "cell_type": "code",
   "execution_count": 319,
   "outputs": [],
   "source": [
    "y_pred = best_clf.predict(X_test)"
   ],
   "metadata": {
    "collapsed": false
   }
  },
  {
   "cell_type": "code",
   "execution_count": 320,
   "outputs": [
    {
     "data": {
      "text/plain": "0.9086161879895561"
     },
     "execution_count": 320,
     "metadata": {},
     "output_type": "execute_result"
    }
   ],
   "source": [
    "# проверяем Precision\n",
    "precision_score(y_test, y_pred)"
   ],
   "metadata": {
    "collapsed": false
   }
  },
  {
   "cell_type": "code",
   "execution_count": 321,
   "outputs": [
    {
     "data": {
      "text/plain": "0.9886363636363636"
     },
     "execution_count": 321,
     "metadata": {},
     "output_type": "execute_result"
    }
   ],
   "source": [
    "# проверяем Recall\n",
    "recall_score(y_test, y_pred)"
   ],
   "metadata": {
    "collapsed": false
   }
  },
  {
   "cell_type": "code",
   "execution_count": 302,
   "outputs": [
    {
     "data": {
      "text/plain": "course_completed\nFalse    4457\nTrue      352\nName: course_completed, dtype: int64"
     },
     "execution_count": 302,
     "metadata": {},
     "output_type": "execute_result"
    }
   ],
   "source": [
    "y_test.groupby('course_completed')['course_completed'].count()"
   ],
   "metadata": {
    "collapsed": false
   }
  },
  {
   "cell_type": "code",
   "execution_count": 306,
   "outputs": [
    {
     "data": {
      "text/plain": "<Figure size 1000x500 with 1 Axes>",
      "image/png": "[encoded data removed]"
     },
     "metadata": {},
     "output_type": "display_data"
    }
   ],
   "source": [
    "plt.figure(figsize=(10, 5))\n",
    "plot_tree(best_clf, fontsize=10, feature_names=list(X_train), filled=True)\n",
    "plt.show()"
   ],
   "metadata": {
    "collapsed": false
   }
  },
  {
   "cell_type": "code",
   "execution_count": 324,
   "outputs": [
    {
     "name": "stderr",
     "output_type": "stream",
     "text": [
      "/Users/mitya/venv/lib/python3.10/site-packages/sklearn/utils/deprecation.py:87: FutureWarning: Function plot_roc_curve is deprecated; Function :func:`plot_roc_curve` is deprecated in 1.0 and will be removed in 1.2. Use one of the class methods: :meth:`sklearn.metrics.RocCurveDisplay.from_predictions` or :meth:`sklearn.metrics.RocCurveDisplay.from_estimator`.\n",
      "  warnings.warn(msg, category=FutureWarning)\n"
     ]
    },
    {
     "data": {
      "text/plain": "<Figure size 640x480 with 1 Axes>",
      "image/png": "[encoded data removed]"
     },
     "metadata": {},
     "output_type": "display_data"
    }
   ],
   "source": [
    "plot_roc_curve(best_clf, X_test, y_test)\n",
    "plt.show()"
   ],
   "metadata": {
    "collapsed": false
   }
  },
  {
   "cell_type": "code",
   "execution_count": 327,
   "outputs": [
    {
     "name": "stderr",
     "output_type": "stream",
     "text": [
      "/Users/mitya/venv/lib/python3.10/site-packages/sklearn/utils/deprecation.py:87: FutureWarning: Function plot_precision_recall_curve is deprecated; Function `plot_precision_recall_curve` is deprecated in 1.0 and will be removed in 1.2. Use one of the class methods: PrecisionRecallDisplay.from_predictions or PrecisionRecallDisplay.from_estimator.\n",
      "  warnings.warn(msg, category=FutureWarning)\n"
     ]
    },
    {
     "data": {
      "text/plain": "<Figure size 640x480 with 1 Axes>",
      "image/png": "[encoded data removed]"
     },
     "metadata": {},
     "output_type": "display_data"
    }
   ],
   "source": [
    "plot_precision_recall_curve(best_clf, X_test, y_test)\n",
    "plt.show()"
   ],
   "metadata": {
    "collapsed": false
   }
  },
  {
   "cell_type": "code",
   "execution_count": 328,
   "outputs": [],
   "source": [
    "test_prob = best_clf.predict_proba(X_test)[:, 1]\n",
    "test_pred = best_clf.predict(X_test)"
   ],
   "metadata": {
    "collapsed": false
   }
  },
  {
   "cell_type": "code",
   "execution_count": 330,
   "outputs": [
    {
     "name": "stdout",
     "output_type": "stream",
     "text": [
      "Log loss = 0.03276\n",
      "AUC = 0.99039\n",
      "Average Precision = 0.89912\n",
      "\n",
      "Using 0.5 as threshold:\n",
      "Accuracy = 0.99189\n",
      "Precision = 0.90862\n",
      "Recall = 0.98864\n",
      "F1 score = 0.94694\n",
      "\n",
      "Classification Report\n",
      "              precision    recall  f1-score   support\n",
      "\n",
      "       False       1.00      0.99      1.00      4457\n",
      "        True       0.91      0.99      0.95       352\n",
      "\n",
      "    accuracy                           0.99      4809\n",
      "   macro avg       0.95      0.99      0.97      4809\n",
      "weighted avg       0.99      0.99      0.99      4809\n",
      "\n"
     ]
    }
   ],
   "source": [
    "print('Log loss = {:.5f}'.format(log_loss(y_test, test_prob)))\n",
    "print('AUC = {:.5f}'.format(roc_auc_score(y_test, test_prob)))\n",
    "print('Average Precision = {:.5f}'.format(average_precision_score(y_test, test_prob)))\n",
    "print('\\nUsing 0.5 as threshold:')\n",
    "print('Accuracy = {:.5f}'.format(accuracy_score(y_test, test_pred)))\n",
    "print('Precision = {:.5f}'.format(precision_score(y_test, test_pred)))\n",
    "print('Recall = {:.5f}'.format(recall_score(y_test, test_pred)))\n",
    "print('F1 score = {:.5f}'.format(f1_score(y_test, test_pred)))\n",
    "\n",
    "print('\\nClassification Report')\n",
    "print(classification_report(y_test, test_pred))"
   ],
   "metadata": {
    "collapsed": false
   }
  },
  {
   "cell_type": "code",
   "execution_count": 322,
   "outputs": [
    {
     "name": "stdout",
     "output_type": "stream",
     "text": [
      "Confusion Matrix\n"
     ]
    },
    {
     "data": {
      "text/plain": "<Figure size 640x480 with 2 Axes>",
      "image/png": "[encoded data removed]"
     },
     "metadata": {},
     "output_type": "display_data"
    }
   ],
   "source": [
    "print('Confusion Matrix')\n",
    "conf_matrix = confusion_matrix(y_test, y_pred)\n",
    "disp = ConfusionMatrixDisplay(conf_matrix)\n",
    "disp.plot(cmap=plt.cm.Blues, values_format='g')\n",
    "plt.show()"
   ],
   "metadata": {
    "collapsed": false
   }
  },
  {
   "cell_type": "code",
   "execution_count": null,
   "outputs": [],
   "source": [],
   "metadata": {
    "collapsed": false
   }
  },
  {
   "cell_type": "code",
   "execution_count": null,
   "outputs": [],
   "source": [],
   "metadata": {
    "collapsed": false
   }
  },
  {
   "cell_type": "markdown",
   "source": [
    "# Дополнительные задания"
   ],
   "metadata": {
    "collapsed": false
   }
  },
  {
   "cell_type": "markdown",
   "source": [
    "### Задача\n",
    "Как я уже писал ранее, данные, с которыми мы работаем, обезличены, тоесть реальные id пользователей заменены случайным числом. Анонимизация пользовательских данных - очень важная тема для Data Science. С одной стороны мы хотим знать о поведении наших пользователей как можно больше, с другой стороны нам важно соблюдать приватность наших пользователей.\n",
    "\n",
    "Поэтому данные о поведении пользователей анонимизируют не только когда речь идет об открытых данных, но и при работе с данными внутри компании. Не заметили сколько писем вам недавно пришло об изменении политики конфеденциальности, хотите узнать почему? В комментарии приложена ссылка на очень интересный доклад об этой проблеме.\n",
    "\n",
    "А пока что вот вам хакерская задача, за каким вымышленным id скрывается Анатолий Карпов - автор курса, данные которого мы анализируем?\n",
    "\n",
    "Введите id Анатолия Карпова, под которым он фигурирует в данных events_data_train и submissions_data_train."
   ],
   "metadata": {
    "collapsed": false
   }
  },
  {
   "cell_type": "code",
   "execution_count": 41,
   "outputs": [
    {
     "data": {
      "text/plain": "         action\nuser_id        \n1             2\n2            30\n3           400\n5            38\n7             3\n...         ...\n26790        26\n26793         3\n26794       352\n26797        35\n26798        39\n\n[19234 rows x 1 columns]",
      "text/html": "<div>\n<style scoped>\n    .dataframe tbody tr th:only-of-type {\n        vertical-align: middle;\n    }\n\n    .dataframe tbody tr th {\n        vertical-align: top;\n    }\n\n    .dataframe thead th {\n        text-align: right;\n    }\n</style>\n<table border=\"1\" class=\"dataframe\">\n  <thead>\n    <tr style=\"text-align: right;\">\n      <th></th>\n      <th>action</th>\n    </tr>\n    <tr>\n      <th>user_id</th>\n      <th></th>\n    </tr>\n  </thead>\n  <tbody>\n    <tr>\n      <th>1</th>\n      <td>2</td>\n    </tr>\n    <tr>\n      <th>2</th>\n      <td>30</td>\n    </tr>\n    <tr>\n      <th>3</th>\n      <td>400</td>\n    </tr>\n    <tr>\n      <th>5</th>\n      <td>38</td>\n    </tr>\n    <tr>\n      <th>7</th>\n      <td>3</td>\n    </tr>\n    <tr>\n      <th>...</th>\n      <td>...</td>\n    </tr>\n    <tr>\n      <th>26790</th>\n      <td>26</td>\n    </tr>\n    <tr>\n      <th>26793</th>\n      <td>3</td>\n    </tr>\n    <tr>\n      <th>26794</th>\n      <td>352</td>\n    </tr>\n    <tr>\n      <th>26797</th>\n      <td>35</td>\n    </tr>\n    <tr>\n      <th>26798</th>\n      <td>39</td>\n    </tr>\n  </tbody>\n</table>\n<p>19234 rows × 1 columns</p>\n</div>"
     },
     "execution_count": 41,
     "metadata": {},
     "output_type": "execute_result"
    }
   ],
   "source": [
    "events_train.groupby('user_id').aggregate({'action': 'count'})"
   ],
   "metadata": {
    "collapsed": false
   }
  },
  {
   "cell_type": "code",
   "execution_count": 42,
   "outputs": [
    {
     "data": {
      "text/plain": "   step_id   timestamp      action  user_id                date         day\n0    32815  1434340848      viewed    17632 2015-06-15 04:00:48  2015-06-15\n1    32815  1434340848      passed    17632 2015-06-15 04:00:48  2015-06-15\n2    32815  1434340848  discovered    17632 2015-06-15 04:00:48  2015-06-15\n3    32811  1434340895  discovered    17632 2015-06-15 04:01:35  2015-06-15\n4    32811  1434340895      viewed    17632 2015-06-15 04:01:35  2015-06-15",
      "text/html": "<div>\n<style scoped>\n    .dataframe tbody tr th:only-of-type {\n        vertical-align: middle;\n    }\n\n    .dataframe tbody tr th {\n        vertical-align: top;\n    }\n\n    .dataframe thead th {\n        text-align: right;\n    }\n</style>\n<table border=\"1\" class=\"dataframe\">\n  <thead>\n    <tr style=\"text-align: right;\">\n      <th></th>\n      <th>step_id</th>\n      <th>timestamp</th>\n      <th>action</th>\n      <th>user_id</th>\n      <th>date</th>\n      <th>day</th>\n    </tr>\n  </thead>\n  <tbody>\n    <tr>\n      <th>0</th>\n      <td>32815</td>\n      <td>1434340848</td>\n      <td>viewed</td>\n      <td>17632</td>\n      <td>2015-06-15 04:00:48</td>\n      <td>2015-06-15</td>\n    </tr>\n    <tr>\n      <th>1</th>\n      <td>32815</td>\n      <td>1434340848</td>\n      <td>passed</td>\n      <td>17632</td>\n      <td>2015-06-15 04:00:48</td>\n      <td>2015-06-15</td>\n    </tr>\n    <tr>\n      <th>2</th>\n      <td>32815</td>\n      <td>1434340848</td>\n      <td>discovered</td>\n      <td>17632</td>\n      <td>2015-06-15 04:00:48</td>\n      <td>2015-06-15</td>\n    </tr>\n    <tr>\n      <th>3</th>\n      <td>32811</td>\n      <td>1434340895</td>\n      <td>discovered</td>\n      <td>17632</td>\n      <td>2015-06-15 04:01:35</td>\n      <td>2015-06-15</td>\n    </tr>\n    <tr>\n      <th>4</th>\n      <td>32811</td>\n      <td>1434340895</td>\n      <td>viewed</td>\n      <td>17632</td>\n      <td>2015-06-15 04:01:35</td>\n      <td>2015-06-15</td>\n    </tr>\n  </tbody>\n</table>\n</div>"
     },
     "execution_count": 42,
     "metadata": {},
     "output_type": "execute_result"
    }
   ],
   "source": [
    "events_train.head()"
   ],
   "metadata": {
    "collapsed": false
   }
  },
  {
   "cell_type": "code",
   "execution_count": 43,
   "outputs": [
    {
     "data": {
      "text/plain": "1434346645"
     },
     "execution_count": 43,
     "metadata": {},
     "output_type": "execute_result"
    }
   ],
   "source": [
    "events_train[events_train.user_id == 20907].timestamp.min()"
   ],
   "metadata": {
    "collapsed": false
   }
  },
  {
   "cell_type": "code",
   "execution_count": 44,
   "outputs": [
    {
     "data": {
      "text/plain": "1453480839"
     },
     "execution_count": 44,
     "metadata": {},
     "output_type": "execute_result"
    }
   ],
   "source": [
    "events_train[events_train.user_id == 20907].timestamp.max()"
   ],
   "metadata": {
    "collapsed": false
   }
  },
  {
   "cell_type": "code",
   "execution_count": 45,
   "outputs": [
    {
     "data": {
      "text/plain": "221.4605787037037"
     },
     "execution_count": 45,
     "metadata": {},
     "output_type": "execute_result"
    }
   ],
   "source": [
    "gap = events_train[events_train.user_id == 20907].timestamp.max() - events_train[events_train.user_id == 20907].timestamp.min()\n",
    "gap = gap / (24 * 60 * 60)\n",
    "gap"
   ],
   "metadata": {
    "collapsed": false
   }
  },
  {
   "cell_type": "code",
   "execution_count": 46,
   "outputs": [],
   "source": [
    "gap = events_train[events_train.action == 'viewed']"
   ],
   "metadata": {
    "collapsed": false
   }
  },
  {
   "cell_type": "code",
   "execution_count": 47,
   "outputs": [],
   "source": [
    "max_timestamp = gap.groupby('user_id').timestamp.apply(list).apply(max)"
   ],
   "metadata": {
    "collapsed": false
   }
  },
  {
   "cell_type": "code",
   "execution_count": 48,
   "outputs": [],
   "source": [
    "min_timestamp = gap.groupby('user_id').timestamp.apply(list).apply(min)"
   ],
   "metadata": {
    "collapsed": false
   }
  },
  {
   "cell_type": "code",
   "execution_count": 49,
   "outputs": [
    {
     "data": {
      "text/plain": "                  0           1\nuser_id                        \n1        1472827464  1472827464\n2        1514383364  1519226966\n3        1434358476  1444581588\n5        1466156809  1499859939\n7        1521634660  1521634660",
      "text/html": "<div>\n<style scoped>\n    .dataframe tbody tr th:only-of-type {\n        vertical-align: middle;\n    }\n\n    .dataframe tbody tr th {\n        vertical-align: top;\n    }\n\n    .dataframe thead th {\n        text-align: right;\n    }\n</style>\n<table border=\"1\" class=\"dataframe\">\n  <thead>\n    <tr style=\"text-align: right;\">\n      <th></th>\n      <th>0</th>\n      <th>1</th>\n    </tr>\n    <tr>\n      <th>user_id</th>\n      <th></th>\n      <th></th>\n    </tr>\n  </thead>\n  <tbody>\n    <tr>\n      <th>1</th>\n      <td>1472827464</td>\n      <td>1472827464</td>\n    </tr>\n    <tr>\n      <th>2</th>\n      <td>1514383364</td>\n      <td>1519226966</td>\n    </tr>\n    <tr>\n      <th>3</th>\n      <td>1434358476</td>\n      <td>1444581588</td>\n    </tr>\n    <tr>\n      <th>5</th>\n      <td>1466156809</td>\n      <td>1499859939</td>\n    </tr>\n    <tr>\n      <th>7</th>\n      <td>1521634660</td>\n      <td>1521634660</td>\n    </tr>\n  </tbody>\n</table>\n</div>"
     },
     "execution_count": 49,
     "metadata": {},
     "output_type": "execute_result"
    }
   ],
   "source": [
    "gap_t = pd.concat([min_timestamp, max_timestamp], axis=1, ignore_index=True)\n",
    "gap_t.head()"
   ],
   "metadata": {
    "collapsed": false
   }
  },
  {
   "cell_type": "code",
   "execution_count": 50,
   "outputs": [
    {
     "data": {
      "text/plain": "                  0           1       gap\nuser_id                                  \n1        1472827464  1472827464         0\n2        1514383364  1519226966   4843602\n3        1434358476  1444581588  10223112\n5        1466156809  1499859939  33703130\n7        1521634660  1521634660         0\n...             ...         ...       ...\n26790    1451484016  1517495987  66011971\n26793    1510225031  1510225031         0\n26794    1495287049  1512035039  16747990\n26797    1508425316  1509995096   1569780\n26798    1520975763  1520978742      2979\n\n[19227 rows x 3 columns]",
      "text/html": "<div>\n<style scoped>\n    .dataframe tbody tr th:only-of-type {\n        vertical-align: middle;\n    }\n\n    .dataframe tbody tr th {\n        vertical-align: top;\n    }\n\n    .dataframe thead th {\n        text-align: right;\n    }\n</style>\n<table border=\"1\" class=\"dataframe\">\n  <thead>\n    <tr style=\"text-align: right;\">\n      <th></th>\n      <th>0</th>\n      <th>1</th>\n      <th>gap</th>\n    </tr>\n    <tr>\n      <th>user_id</th>\n      <th></th>\n      <th></th>\n      <th></th>\n    </tr>\n  </thead>\n  <tbody>\n    <tr>\n      <th>1</th>\n      <td>1472827464</td>\n      <td>1472827464</td>\n      <td>0</td>\n    </tr>\n    <tr>\n      <th>2</th>\n      <td>1514383364</td>\n      <td>1519226966</td>\n      <td>4843602</td>\n    </tr>\n    <tr>\n      <th>3</th>\n      <td>1434358476</td>\n      <td>1444581588</td>\n      <td>10223112</td>\n    </tr>\n    <tr>\n      <th>5</th>\n      <td>1466156809</td>\n      <td>1499859939</td>\n      <td>33703130</td>\n    </tr>\n    <tr>\n      <th>7</th>\n      <td>1521634660</td>\n      <td>1521634660</td>\n      <td>0</td>\n    </tr>\n    <tr>\n      <th>...</th>\n      <td>...</td>\n      <td>...</td>\n      <td>...</td>\n    </tr>\n    <tr>\n      <th>26790</th>\n      <td>1451484016</td>\n      <td>1517495987</td>\n      <td>66011971</td>\n    </tr>\n    <tr>\n      <th>26793</th>\n      <td>1510225031</td>\n      <td>1510225031</td>\n      <td>0</td>\n    </tr>\n    <tr>\n      <th>26794</th>\n      <td>1495287049</td>\n      <td>1512035039</td>\n      <td>16747990</td>\n    </tr>\n    <tr>\n      <th>26797</th>\n      <td>1508425316</td>\n      <td>1509995096</td>\n      <td>1569780</td>\n    </tr>\n    <tr>\n      <th>26798</th>\n      <td>1520975763</td>\n      <td>1520978742</td>\n      <td>2979</td>\n    </tr>\n  </tbody>\n</table>\n<p>19227 rows × 3 columns</p>\n</div>"
     },
     "execution_count": 50,
     "metadata": {},
     "output_type": "execute_result"
    }
   ],
   "source": [
    "gap_t['gap'] = gap_t[1] - gap_t[0]\n",
    "gap_t"
   ],
   "metadata": {
    "collapsed": false
   }
  },
  {
   "cell_type": "code",
   "execution_count": 51,
   "outputs": [
    {
     "data": {
      "text/plain": "user_id\n1        1\n2        2\n3        7\n5        2\n7        1\n        ..\n26790    4\n26793    1\n26794    9\n26797    2\n26798    1\nName: day, Length: 19234, dtype: int64"
     },
     "execution_count": 51,
     "metadata": {},
     "output_type": "execute_result"
    }
   ],
   "source": [
    "unique_days = events_train.groupby('user_id')['day'].nunique()\n",
    "unique_days"
   ],
   "metadata": {
    "collapsed": false
   }
  },
  {
   "cell_type": "markdown",
   "source": [
    "### Задача\n",
    "В процессе решения одной аналитической задачи очень часто замечаешь и другие задачи, связанные с исследуемым вопросом. В свое время, работая над предсказанием оттока студентов со stepik, я многое изменил в структуре своих курсов.\n",
    "\n",
    "Тогда я нашел довольно интересную закономерность прохождения онлайн курсов. Слушатели онлайн курсов очень негативно реагируют на невозможность решить задачу, иными словами, если студент застрял на определенном шаге, то он, с высокой вероятность, вообще бросит курс, чем просто пропустит этот шаг и продолжит обучение.\n",
    "\n",
    "Давайте найдем такой стэп, используя данные о сабмитах. Для каждого пользователя найдите такой шаг, который он не смог решить, и после этого не пытался решать другие шаги. Затем найдите id шага,  который стал финальной точкой практического обучения на курсе для максимального числа пользователей.\n",
    "\n",
    "То есть мы исследуем следующий сценарий: человек решает стэп, не может получить правильный ответ и больше не возвращается к практическим задачам. Что это за шаг такой, который отпугнул максимальное число пользователей?"
   ],
   "metadata": {
    "collapsed": false
   }
  },
  {
   "cell_type": "code",
   "execution_count": 94,
   "outputs": [
    {
     "data": {
      "text/plain": "   step_id   timestamp submission_status  user_id                date  \\\n0    31971  1434349275           correct    15853 2015-06-15 06:21:15   \n1    31972  1434348300           correct    15853 2015-06-15 06:05:00   \n2    31972  1478852149             wrong    15853 2016-11-11 08:15:49   \n3    31972  1478852164           correct    15853 2016-11-11 08:16:04   \n4    31976  1434348123             wrong    15853 2015-06-15 06:02:03   \n\n          day  \n0  2015-06-15  \n1  2015-06-15  \n2  2016-11-11  \n3  2016-11-11  \n4  2015-06-15  ",
      "text/html": "<div>\n<style scoped>\n    .dataframe tbody tr th:only-of-type {\n        vertical-align: middle;\n    }\n\n    .dataframe tbody tr th {\n        vertical-align: top;\n    }\n\n    .dataframe thead th {\n        text-align: right;\n    }\n</style>\n<table border=\"1\" class=\"dataframe\">\n  <thead>\n    <tr style=\"text-align: right;\">\n      <th></th>\n      <th>step_id</th>\n      <th>timestamp</th>\n      <th>submission_status</th>\n      <th>user_id</th>\n      <th>date</th>\n      <th>day</th>\n    </tr>\n  </thead>\n  <tbody>\n    <tr>\n      <th>0</th>\n      <td>31971</td>\n      <td>1434349275</td>\n      <td>correct</td>\n      <td>15853</td>\n      <td>2015-06-15 06:21:15</td>\n      <td>2015-06-15</td>\n    </tr>\n    <tr>\n      <th>1</th>\n      <td>31972</td>\n      <td>1434348300</td>\n      <td>correct</td>\n      <td>15853</td>\n      <td>2015-06-15 06:05:00</td>\n      <td>2015-06-15</td>\n    </tr>\n    <tr>\n      <th>2</th>\n      <td>31972</td>\n      <td>1478852149</td>\n      <td>wrong</td>\n      <td>15853</td>\n      <td>2016-11-11 08:15:49</td>\n      <td>2016-11-11</td>\n    </tr>\n    <tr>\n      <th>3</th>\n      <td>31972</td>\n      <td>1478852164</td>\n      <td>correct</td>\n      <td>15853</td>\n      <td>2016-11-11 08:16:04</td>\n      <td>2016-11-11</td>\n    </tr>\n    <tr>\n      <th>4</th>\n      <td>31976</td>\n      <td>1434348123</td>\n      <td>wrong</td>\n      <td>15853</td>\n      <td>2015-06-15 06:02:03</td>\n      <td>2015-06-15</td>\n    </tr>\n  </tbody>\n</table>\n</div>"
     },
     "execution_count": 94,
     "metadata": {},
     "output_type": "execute_result"
    }
   ],
   "source": [
    "submissions_train.head()"
   ],
   "metadata": {
    "collapsed": false
   }
  },
  {
   "cell_type": "code",
   "execution_count": 123,
   "outputs": [
    {
     "data": {
      "text/plain": "   step_id submission_status  user_id\n9    31978             wrong    16084",
      "text/html": "<div>\n<style scoped>\n    .dataframe tbody tr th:only-of-type {\n        vertical-align: middle;\n    }\n\n    .dataframe tbody tr th {\n        vertical-align: top;\n    }\n\n    .dataframe thead th {\n        text-align: right;\n    }\n</style>\n<table border=\"1\" class=\"dataframe\">\n  <thead>\n    <tr style=\"text-align: right;\">\n      <th></th>\n      <th>step_id</th>\n      <th>submission_status</th>\n      <th>user_id</th>\n    </tr>\n  </thead>\n  <tbody>\n    <tr>\n      <th>9</th>\n      <td>31978</td>\n      <td>wrong</td>\n      <td>16084</td>\n    </tr>\n  </tbody>\n</table>\n</div>"
     },
     "execution_count": 123,
     "metadata": {},
     "output_type": "execute_result"
    }
   ],
   "source": [
    "submissions_train.groupby(['step_id', 'submission_status']).aggregate({'user_id': 'count'}).reset_index().query(\"submission_status == 'wrong' & user_id == user_id.max()\")"
   ],
   "metadata": {
    "collapsed": false
   }
  },
  {
   "cell_type": "code",
   "execution_count": 133,
   "outputs": [
    {
     "data": {
      "text/plain": "   step_id   timestamp submission_status  user_id                date  \\\n0    31978  1491590313             wrong    12265 2017-04-07 18:38:33   \n\n          day  \n0  2015-07-06  ",
      "text/html": "<div>\n<style scoped>\n    .dataframe tbody tr th:only-of-type {\n        vertical-align: middle;\n    }\n\n    .dataframe tbody tr th {\n        vertical-align: top;\n    }\n\n    .dataframe thead th {\n        text-align: right;\n    }\n</style>\n<table border=\"1\" class=\"dataframe\">\n  <thead>\n    <tr style=\"text-align: right;\">\n      <th></th>\n      <th>step_id</th>\n      <th>timestamp</th>\n      <th>submission_status</th>\n      <th>user_id</th>\n      <th>date</th>\n      <th>day</th>\n    </tr>\n  </thead>\n  <tbody>\n    <tr>\n      <th>0</th>\n      <td>31978</td>\n      <td>1491590313</td>\n      <td>wrong</td>\n      <td>12265</td>\n      <td>2017-04-07 18:38:33</td>\n      <td>2015-07-06</td>\n    </tr>\n  </tbody>\n</table>\n</div>"
     },
     "execution_count": 133,
     "metadata": {},
     "output_type": "execute_result"
    }
   ],
   "source": [
    "submissions_train.mode()"
   ],
   "metadata": {
    "collapsed": false
   }
  },
  {
   "cell_type": "code",
   "execution_count": 134,
   "outputs": [
    {
     "data": {
      "text/plain": "         timestamp  submission_status  user_id  date  day\nstep_id                                                  \n31978          154                154      154   154  154",
      "text/html": "<div>\n<style scoped>\n    .dataframe tbody tr th:only-of-type {\n        vertical-align: middle;\n    }\n\n    .dataframe tbody tr th {\n        vertical-align: top;\n    }\n\n    .dataframe thead th {\n        text-align: right;\n    }\n</style>\n<table border=\"1\" class=\"dataframe\">\n  <thead>\n    <tr style=\"text-align: right;\">\n      <th></th>\n      <th>timestamp</th>\n      <th>submission_status</th>\n      <th>user_id</th>\n      <th>date</th>\n      <th>day</th>\n    </tr>\n    <tr>\n      <th>step_id</th>\n      <th></th>\n      <th></th>\n      <th></th>\n      <th></th>\n      <th></th>\n    </tr>\n  </thead>\n  <tbody>\n    <tr>\n      <th>31978</th>\n      <td>154</td>\n      <td>154</td>\n      <td>154</td>\n      <td>154</td>\n      <td>154</td>\n    </tr>\n  </tbody>\n</table>\n</div>"
     },
     "execution_count": 134,
     "metadata": {},
     "output_type": "execute_result"
    }
   ],
   "source": [
    "submissions_train.sort_values(['user_id', 'timestamp'], ascending=False).drop_duplicates(['user_id'])\\\n",
    "        .query(\"submission_status == 'wrong'\").groupby('step_id')\\\n",
    "        .count().sort_values('submission_status').tail(1)"
   ],
   "metadata": {
    "collapsed": false
   }
  },
  {
   "cell_type": "markdown",
   "source": [
    "### Соревнование\n",
    "Мы начинаем соревнование!\n",
    "\n",
    "Задача нам уже знакома - нужно предсказать, сможет ли пользователь успешно закончить онлайн курс Анализ данных в R.\n",
    "\n",
    "Мы будем считать, что пользователь успешно закончил курс, если он правильно решил больше 40 практических заданий.\n",
    "\n",
    "В данных:\n",
    "\n",
    "submission_data_test.csv\n",
    "events_data_test.csv\n",
    "хранится информация о решениях и действиях для 6184 студентов за первые два дня прохождения курса. Это 6184 студентов, которые проходили курс в период с мая 2018 по январь 2019. Подробное описание переменных смотри в этом шаге.\n",
    "\n",
    "Используя данные о первых двух днях активности на курсе вам нужно предсказать, наберет ли пользователь более 40 баллов на курсе или нет.\n",
    "\n",
    "В этих данных, вам доступны только первые дня активности студентов для того, чтобы сделать предсказание. На самом деле, используя эти данные, вы уже можете сделать прогноз. Например, если пользователь за первые два дня набрал 40 баллов, скорее всего он наберет более 40 баллов в дальнейшем. Чтобы подкрепить такие гипотезы, вы можете использовать данные, на которые мы исследовали в первых двух модулях курса, где для всех пользователей представлены все данные об их активности на курсе.\n",
    "\n",
    "\n",
    "Итогом вашей работы должен стать csv файл c предсказанием для каждого студента из тестовых данных. Пример предсказания выглядит следующим образом.\n",
    "\n",
    "Чтобы узнать точность ваших предсказаний, в качестве решения этого шага отпраьте файл с предсказаниями для каждого студента в указанном выше формате.\n",
    "\n",
    "Убедитесь, что вы сформировали файл с предсказаними для всех 6184 студентов, для каждого студента должна быть предсказана вероятность, что он наберет более 40 баллов за курс. У вас есть 25 попыток засабмитить решения, в зачет пойдет наилучший вариант.\n",
    "\n",
    "Результатом проверки этого задания будет значение ROC AUC score, именно по этому показателю мы и отберем победителей, успехов!"
   ],
   "metadata": {
    "collapsed": false
   }
  },
  {
   "cell_type": "code",
   "execution_count": 525,
   "outputs": [
    {
     "name": "stdout",
     "output_type": "stream",
     "text": [
      "<class 'pandas.core.frame.DataFrame'>\n",
      "RangeIndex: 274768 entries, 0 to 274767\n",
      "Data columns (total 4 columns):\n",
      " #   Column     Non-Null Count   Dtype \n",
      "---  ------     --------------   ----- \n",
      " 0   step_id    274768 non-null  int64 \n",
      " 1   timestamp  274768 non-null  int64 \n",
      " 2   action     274768 non-null  object\n",
      " 3   user_id    274768 non-null  int64 \n",
      "dtypes: int64(3), object(1)\n",
      "memory usage: 8.4+ MB\n"
     ]
    }
   ],
   "source": [
    "events_train_contest = pd.read_csv('https://stepik.org/media/attachments/course/4852/events_data_test.csv')\n",
    "events_train_contest.info()"
   ],
   "metadata": {
    "collapsed": false
   }
  },
  {
   "cell_type": "code",
   "execution_count": 526,
   "outputs": [
    {
     "name": "stdout",
     "output_type": "stream",
     "text": [
      "<class 'pandas.core.frame.DataFrame'>\n",
      "RangeIndex: 42261 entries, 0 to 42260\n",
      "Data columns (total 4 columns):\n",
      " #   Column             Non-Null Count  Dtype \n",
      "---  ------             --------------  ----- \n",
      " 0   step_id            42261 non-null  int64 \n",
      " 1   timestamp          42261 non-null  int64 \n",
      " 2   submission_status  42261 non-null  object\n",
      " 3   user_id            42261 non-null  int64 \n",
      "dtypes: int64(3), object(1)\n",
      "memory usage: 1.3+ MB\n"
     ]
    }
   ],
   "source": [
    "submission_train_contest = pd.read_csv('https://stepik.org/media/attachments/course/4852/submission_data_test.csv')\n",
    "submission_train_contest.info()"
   ],
   "metadata": {
    "collapsed": false
   }
  },
  {
   "cell_type": "code",
   "execution_count": 8,
   "outputs": [
    {
     "data": {
      "text/plain": "   step_id   timestamp      action  user_id\n0    30456  1526893787      viewed    24417\n1    30456  1526893797      viewed    24417\n2    30456  1526893954      viewed    24417\n3    30456  1526895780      viewed    24417\n4    30456  1526893787  discovered    24417",
      "text/html": "<div>\n<style scoped>\n    .dataframe tbody tr th:only-of-type {\n        vertical-align: middle;\n    }\n\n    .dataframe tbody tr th {\n        vertical-align: top;\n    }\n\n    .dataframe thead th {\n        text-align: right;\n    }\n</style>\n<table border=\"1\" class=\"dataframe\">\n  <thead>\n    <tr style=\"text-align: right;\">\n      <th></th>\n      <th>step_id</th>\n      <th>timestamp</th>\n      <th>action</th>\n      <th>user_id</th>\n    </tr>\n  </thead>\n  <tbody>\n    <tr>\n      <th>0</th>\n      <td>30456</td>\n      <td>1526893787</td>\n      <td>viewed</td>\n      <td>24417</td>\n    </tr>\n    <tr>\n      <th>1</th>\n      <td>30456</td>\n      <td>1526893797</td>\n      <td>viewed</td>\n      <td>24417</td>\n    </tr>\n    <tr>\n      <th>2</th>\n      <td>30456</td>\n      <td>1526893954</td>\n      <td>viewed</td>\n      <td>24417</td>\n    </tr>\n    <tr>\n      <th>3</th>\n      <td>30456</td>\n      <td>1526895780</td>\n      <td>viewed</td>\n      <td>24417</td>\n    </tr>\n    <tr>\n      <th>4</th>\n      <td>30456</td>\n      <td>1526893787</td>\n      <td>discovered</td>\n      <td>24417</td>\n    </tr>\n  </tbody>\n</table>\n</div>"
     },
     "execution_count": 8,
     "metadata": {},
     "output_type": "execute_result"
    }
   ],
   "source": [
    "events_train_contest.head()"
   ],
   "metadata": {
    "collapsed": false
   }
  },
  {
   "cell_type": "code",
   "execution_count": 9,
   "outputs": [
    {
     "data": {
      "text/plain": "   step_id   timestamp submission_status  user_id\n0    31971  1526800961             wrong    24370\n1    31971  1526800976             wrong    24370\n2    31971  1526800993             wrong    24370\n3    31971  1526801054           correct    24370\n4    31972  1526800664             wrong    24370",
      "text/html": "<div>\n<style scoped>\n    .dataframe tbody tr th:only-of-type {\n        vertical-align: middle;\n    }\n\n    .dataframe tbody tr th {\n        vertical-align: top;\n    }\n\n    .dataframe thead th {\n        text-align: right;\n    }\n</style>\n<table border=\"1\" class=\"dataframe\">\n  <thead>\n    <tr style=\"text-align: right;\">\n      <th></th>\n      <th>step_id</th>\n      <th>timestamp</th>\n      <th>submission_status</th>\n      <th>user_id</th>\n    </tr>\n  </thead>\n  <tbody>\n    <tr>\n      <th>0</th>\n      <td>31971</td>\n      <td>1526800961</td>\n      <td>wrong</td>\n      <td>24370</td>\n    </tr>\n    <tr>\n      <th>1</th>\n      <td>31971</td>\n      <td>1526800976</td>\n      <td>wrong</td>\n      <td>24370</td>\n    </tr>\n    <tr>\n      <th>2</th>\n      <td>31971</td>\n      <td>1526800993</td>\n      <td>wrong</td>\n      <td>24370</td>\n    </tr>\n    <tr>\n      <th>3</th>\n      <td>31971</td>\n      <td>1526801054</td>\n      <td>correct</td>\n      <td>24370</td>\n    </tr>\n    <tr>\n      <th>4</th>\n      <td>31972</td>\n      <td>1526800664</td>\n      <td>wrong</td>\n      <td>24370</td>\n    </tr>\n  </tbody>\n</table>\n</div>"
     },
     "execution_count": 9,
     "metadata": {},
     "output_type": "execute_result"
    }
   ],
   "source": [
    "submission_train_contest.head()"
   ],
   "metadata": {
    "collapsed": false
   }
  },
  {
   "cell_type": "code",
   "execution_count": 1782,
   "outputs": [],
   "source": [
    "events_train_contest['date'] = pd.to_datetime(events_train_contest.timestamp, unit='s')"
   ],
   "metadata": {
    "collapsed": false
   }
  },
  {
   "cell_type": "code",
   "execution_count": 1783,
   "outputs": [],
   "source": [
    "events_train_contest['day'] = events_train_contest.date.dt.date"
   ],
   "metadata": {
    "collapsed": false
   }
  },
  {
   "cell_type": "code",
   "execution_count": 1784,
   "outputs": [
    {
     "data": {
      "text/plain": "   step_id   timestamp      action  user_id                date         day  \\\n0    30456  1526893787      viewed    24417 2018-05-21 09:09:47  2018-05-21   \n1    30456  1526893797      viewed    24417 2018-05-21 09:09:57  2018-05-21   \n2    30456  1526893954      viewed    24417 2018-05-21 09:12:34  2018-05-21   \n3    30456  1526895780      viewed    24417 2018-05-21 09:43:00  2018-05-21   \n4    30456  1526893787  discovered    24417 2018-05-21 09:09:47  2018-05-21   \n\n    start_day day_number  \n0  2015-06-15     0 days  \n1  2015-06-15     0 days  \n2  2015-06-15     0 days  \n3  2015-06-15     0 days  \n4  2015-06-15     0 days  ",
      "text/html": "<div>\n<style scoped>\n    .dataframe tbody tr th:only-of-type {\n        vertical-align: middle;\n    }\n\n    .dataframe tbody tr th {\n        vertical-align: top;\n    }\n\n    .dataframe thead th {\n        text-align: right;\n    }\n</style>\n<table border=\"1\" class=\"dataframe\">\n  <thead>\n    <tr style=\"text-align: right;\">\n      <th></th>\n      <th>step_id</th>\n      <th>timestamp</th>\n      <th>action</th>\n      <th>user_id</th>\n      <th>date</th>\n      <th>day</th>\n      <th>start_day</th>\n      <th>day_number</th>\n    </tr>\n  </thead>\n  <tbody>\n    <tr>\n      <th>0</th>\n      <td>30456</td>\n      <td>1526893787</td>\n      <td>viewed</td>\n      <td>24417</td>\n      <td>2018-05-21 09:09:47</td>\n      <td>2018-05-21</td>\n      <td>2015-06-15</td>\n      <td>0 days</td>\n    </tr>\n    <tr>\n      <th>1</th>\n      <td>30456</td>\n      <td>1526893797</td>\n      <td>viewed</td>\n      <td>24417</td>\n      <td>2018-05-21 09:09:57</td>\n      <td>2018-05-21</td>\n      <td>2015-06-15</td>\n      <td>0 days</td>\n    </tr>\n    <tr>\n      <th>2</th>\n      <td>30456</td>\n      <td>1526893954</td>\n      <td>viewed</td>\n      <td>24417</td>\n      <td>2018-05-21 09:12:34</td>\n      <td>2018-05-21</td>\n      <td>2015-06-15</td>\n      <td>0 days</td>\n    </tr>\n    <tr>\n      <th>3</th>\n      <td>30456</td>\n      <td>1526895780</td>\n      <td>viewed</td>\n      <td>24417</td>\n      <td>2018-05-21 09:43:00</td>\n      <td>2018-05-21</td>\n      <td>2015-06-15</td>\n      <td>0 days</td>\n    </tr>\n    <tr>\n      <th>4</th>\n      <td>30456</td>\n      <td>1526893787</td>\n      <td>discovered</td>\n      <td>24417</td>\n      <td>2018-05-21 09:09:47</td>\n      <td>2018-05-21</td>\n      <td>2015-06-15</td>\n      <td>0 days</td>\n    </tr>\n  </tbody>\n</table>\n</div>"
     },
     "execution_count": 1784,
     "metadata": {},
     "output_type": "execute_result"
    }
   ],
   "source": [
    "events_train_contest.head()"
   ],
   "metadata": {
    "collapsed": false
   }
  },
  {
   "cell_type": "code",
   "execution_count": 1785,
   "outputs": [],
   "source": [
    "train_contest = events_train_contest.pivot_table(index='user_id', columns='action', values='step_id', aggfunc='count', fill_value=0).reset_index()"
   ],
   "metadata": {
    "collapsed": false
   }
  },
  {
   "cell_type": "code",
   "execution_count": 1786,
   "outputs": [
    {
     "data": {
      "text/plain": "action  user_id  discovered  passed  started_attempt  viewed\n0             4           1       1                0       1\n1             6           1       1                0       1\n2            10           2       2                0       6\n3            12          11       9                4      14\n4            13          70      70               35     105",
      "text/html": "<div>\n<style scoped>\n    .dataframe tbody tr th:only-of-type {\n        vertical-align: middle;\n    }\n\n    .dataframe tbody tr th {\n        vertical-align: top;\n    }\n\n    .dataframe thead th {\n        text-align: right;\n    }\n</style>\n<table border=\"1\" class=\"dataframe\">\n  <thead>\n    <tr style=\"text-align: right;\">\n      <th>action</th>\n      <th>user_id</th>\n      <th>discovered</th>\n      <th>passed</th>\n      <th>started_attempt</th>\n      <th>viewed</th>\n    </tr>\n  </thead>\n  <tbody>\n    <tr>\n      <th>0</th>\n      <td>4</td>\n      <td>1</td>\n      <td>1</td>\n      <td>0</td>\n      <td>1</td>\n    </tr>\n    <tr>\n      <th>1</th>\n      <td>6</td>\n      <td>1</td>\n      <td>1</td>\n      <td>0</td>\n      <td>1</td>\n    </tr>\n    <tr>\n      <th>2</th>\n      <td>10</td>\n      <td>2</td>\n      <td>2</td>\n      <td>0</td>\n      <td>6</td>\n    </tr>\n    <tr>\n      <th>3</th>\n      <td>12</td>\n      <td>11</td>\n      <td>9</td>\n      <td>4</td>\n      <td>14</td>\n    </tr>\n    <tr>\n      <th>4</th>\n      <td>13</td>\n      <td>70</td>\n      <td>70</td>\n      <td>35</td>\n      <td>105</td>\n    </tr>\n  </tbody>\n</table>\n</div>"
     },
     "execution_count": 1786,
     "metadata": {},
     "output_type": "execute_result"
    }
   ],
   "source": [
    "train_contest.head()"
   ],
   "metadata": {
    "collapsed": false
   }
  },
  {
   "cell_type": "code",
   "execution_count": 1787,
   "outputs": [],
   "source": [
    "submission_train_contest['date'] = pd.to_datetime(submission_train_contest.timestamp, unit='s')"
   ],
   "metadata": {
    "collapsed": false
   }
  },
  {
   "cell_type": "code",
   "execution_count": 1788,
   "outputs": [],
   "source": [
    "submission_train_contest['day'] = submission_train_contest.date.dt.date"
   ],
   "metadata": {
    "collapsed": false
   }
  },
  {
   "cell_type": "code",
   "execution_count": 1789,
   "outputs": [
    {
     "data": {
      "text/plain": "   step_id   timestamp submission_status  user_id                date  \\\n0    31971  1526800961             wrong    24370 2018-05-20 07:22:41   \n1    31971  1526800976             wrong    24370 2018-05-20 07:22:56   \n2    31971  1526800993             wrong    24370 2018-05-20 07:23:13   \n3    31971  1526801054           correct    24370 2018-05-20 07:24:14   \n4    31972  1526800664             wrong    24370 2018-05-20 07:17:44   \n\n          day   start_day day_number  \n0  2018-05-20  2018-05-20     0 days  \n1  2018-05-20  2018-05-20     0 days  \n2  2018-05-20  2018-05-20     0 days  \n3  2018-05-20  2018-05-20     0 days  \n4  2018-05-20  2018-05-20     0 days  ",
      "text/html": "<div>\n<style scoped>\n    .dataframe tbody tr th:only-of-type {\n        vertical-align: middle;\n    }\n\n    .dataframe tbody tr th {\n        vertical-align: top;\n    }\n\n    .dataframe thead th {\n        text-align: right;\n    }\n</style>\n<table border=\"1\" class=\"dataframe\">\n  <thead>\n    <tr style=\"text-align: right;\">\n      <th></th>\n      <th>step_id</th>\n      <th>timestamp</th>\n      <th>submission_status</th>\n      <th>user_id</th>\n      <th>date</th>\n      <th>day</th>\n      <th>start_day</th>\n      <th>day_number</th>\n    </tr>\n  </thead>\n  <tbody>\n    <tr>\n      <th>0</th>\n      <td>31971</td>\n      <td>1526800961</td>\n      <td>wrong</td>\n      <td>24370</td>\n      <td>2018-05-20 07:22:41</td>\n      <td>2018-05-20</td>\n      <td>2018-05-20</td>\n      <td>0 days</td>\n    </tr>\n    <tr>\n      <th>1</th>\n      <td>31971</td>\n      <td>1526800976</td>\n      <td>wrong</td>\n      <td>24370</td>\n      <td>2018-05-20 07:22:56</td>\n      <td>2018-05-20</td>\n      <td>2018-05-20</td>\n      <td>0 days</td>\n    </tr>\n    <tr>\n      <th>2</th>\n      <td>31971</td>\n      <td>1526800993</td>\n      <td>wrong</td>\n      <td>24370</td>\n      <td>2018-05-20 07:23:13</td>\n      <td>2018-05-20</td>\n      <td>2018-05-20</td>\n      <td>0 days</td>\n    </tr>\n    <tr>\n      <th>3</th>\n      <td>31971</td>\n      <td>1526801054</td>\n      <td>correct</td>\n      <td>24370</td>\n      <td>2018-05-20 07:24:14</td>\n      <td>2018-05-20</td>\n      <td>2018-05-20</td>\n      <td>0 days</td>\n    </tr>\n    <tr>\n      <th>4</th>\n      <td>31972</td>\n      <td>1526800664</td>\n      <td>wrong</td>\n      <td>24370</td>\n      <td>2018-05-20 07:17:44</td>\n      <td>2018-05-20</td>\n      <td>2018-05-20</td>\n      <td>0 days</td>\n    </tr>\n  </tbody>\n</table>\n</div>"
     },
     "execution_count": 1789,
     "metadata": {},
     "output_type": "execute_result"
    }
   ],
   "source": [
    "submission_train_contest.head()"
   ],
   "metadata": {
    "collapsed": false
   }
  },
  {
   "cell_type": "code",
   "execution_count": 1790,
   "outputs": [],
   "source": [
    "train_contest_submission = submission_train_contest.pivot_table(index='user_id', columns='submission_status', values='step_id', aggfunc='count', fill_value=0).reset_index()"
   ],
   "metadata": {
    "collapsed": false
   }
  },
  {
   "cell_type": "code",
   "execution_count": 1791,
   "outputs": [
    {
     "data": {
      "text/plain": "submission_status  user_id  correct  wrong\n0                       12        1      0\n1                       13       29     36\n2                       15       10     30\n3                       21       24    103\n4                       35        7     35",
      "text/html": "<div>\n<style scoped>\n    .dataframe tbody tr th:only-of-type {\n        vertical-align: middle;\n    }\n\n    .dataframe tbody tr th {\n        vertical-align: top;\n    }\n\n    .dataframe thead th {\n        text-align: right;\n    }\n</style>\n<table border=\"1\" class=\"dataframe\">\n  <thead>\n    <tr style=\"text-align: right;\">\n      <th>submission_status</th>\n      <th>user_id</th>\n      <th>correct</th>\n      <th>wrong</th>\n    </tr>\n  </thead>\n  <tbody>\n    <tr>\n      <th>0</th>\n      <td>12</td>\n      <td>1</td>\n      <td>0</td>\n    </tr>\n    <tr>\n      <th>1</th>\n      <td>13</td>\n      <td>29</td>\n      <td>36</td>\n    </tr>\n    <tr>\n      <th>2</th>\n      <td>15</td>\n      <td>10</td>\n      <td>30</td>\n    </tr>\n    <tr>\n      <th>3</th>\n      <td>21</td>\n      <td>24</td>\n      <td>103</td>\n    </tr>\n    <tr>\n      <th>4</th>\n      <td>35</td>\n      <td>7</td>\n      <td>35</td>\n    </tr>\n  </tbody>\n</table>\n</div>"
     },
     "execution_count": 1791,
     "metadata": {},
     "output_type": "execute_result"
    }
   ],
   "source": [
    "train_contest_submission.head()"
   ],
   "metadata": {
    "collapsed": false
   }
  },
  {
   "cell_type": "code",
   "execution_count": 1792,
   "outputs": [],
   "source": [
    "users_data_contest = train_contest.merge(train_contest_submission, on='user_id', how='outer')\n",
    "users_data_contest = users_data_contest.fillna(0)"
   ],
   "metadata": {
    "collapsed": false
   }
  },
  {
   "cell_type": "code",
   "execution_count": 1793,
   "outputs": [
    {
     "data": {
      "text/plain": "   user_id  discovered  passed  started_attempt  viewed  correct  wrong\n0        4           1       1                0       1      0.0    0.0\n1        6           1       1                0       1      0.0    0.0\n2       10           2       2                0       6      0.0    0.0\n3       12          11       9                4      14      1.0    0.0\n4       13          70      70               35     105     29.0   36.0",
      "text/html": "<div>\n<style scoped>\n    .dataframe tbody tr th:only-of-type {\n        vertical-align: middle;\n    }\n\n    .dataframe tbody tr th {\n        vertical-align: top;\n    }\n\n    .dataframe thead th {\n        text-align: right;\n    }\n</style>\n<table border=\"1\" class=\"dataframe\">\n  <thead>\n    <tr style=\"text-align: right;\">\n      <th></th>\n      <th>user_id</th>\n      <th>discovered</th>\n      <th>passed</th>\n      <th>started_attempt</th>\n      <th>viewed</th>\n      <th>correct</th>\n      <th>wrong</th>\n    </tr>\n  </thead>\n  <tbody>\n    <tr>\n      <th>0</th>\n      <td>4</td>\n      <td>1</td>\n      <td>1</td>\n      <td>0</td>\n      <td>1</td>\n      <td>0.0</td>\n      <td>0.0</td>\n    </tr>\n    <tr>\n      <th>1</th>\n      <td>6</td>\n      <td>1</td>\n      <td>1</td>\n      <td>0</td>\n      <td>1</td>\n      <td>0.0</td>\n      <td>0.0</td>\n    </tr>\n    <tr>\n      <th>2</th>\n      <td>10</td>\n      <td>2</td>\n      <td>2</td>\n      <td>0</td>\n      <td>6</td>\n      <td>0.0</td>\n      <td>0.0</td>\n    </tr>\n    <tr>\n      <th>3</th>\n      <td>12</td>\n      <td>11</td>\n      <td>9</td>\n      <td>4</td>\n      <td>14</td>\n      <td>1.0</td>\n      <td>0.0</td>\n    </tr>\n    <tr>\n      <th>4</th>\n      <td>13</td>\n      <td>70</td>\n      <td>70</td>\n      <td>35</td>\n      <td>105</td>\n      <td>29.0</td>\n      <td>36.0</td>\n    </tr>\n  </tbody>\n</table>\n</div>"
     },
     "execution_count": 1793,
     "metadata": {},
     "output_type": "execute_result"
    }
   ],
   "source": [
    "users_data_contest.head()"
   ],
   "metadata": {
    "collapsed": false
   }
  },
  {
   "cell_type": "code",
   "execution_count": 539,
   "outputs": [
    {
     "data": {
      "text/plain": "12"
     },
     "execution_count": 539,
     "metadata": {},
     "output_type": "execute_result"
    }
   ],
   "source": [
    "users_data_contest['user_id'][users_data_contest.correct >= 40].count()"
   ],
   "metadata": {
    "collapsed": false
   }
  },
  {
   "cell_type": "code",
   "execution_count": 540,
   "outputs": [
    {
     "data": {
      "text/plain": "6184"
     },
     "execution_count": 540,
     "metadata": {},
     "output_type": "execute_result"
    }
   ],
   "source": [
    "users_data_contest['user_id'].count()"
   ],
   "metadata": {
    "collapsed": false
   }
  },
  {
   "cell_type": "code",
   "execution_count": 541,
   "outputs": [],
   "source": [
    "last_timestamp_contest = events_train_contest[['user_id', 'timestamp']].groupby('user_id').aggregate(\n",
    "    {'timestamp': 'max'}).reset_index().rename(columns={'timestamp': 'last_timestamp'})"
   ],
   "metadata": {
    "collapsed": false
   }
  },
  {
   "cell_type": "code",
   "execution_count": 542,
   "outputs": [
    {
     "data": {
      "text/plain": "   user_id  last_timestamp\n0        4      1529331707\n1        6      1546889407\n2       10      1534593770\n3       12      1537348641\n4       13      1533162170",
      "text/html": "<div>\n<style scoped>\n    .dataframe tbody tr th:only-of-type {\n        vertical-align: middle;\n    }\n\n    .dataframe tbody tr th {\n        vertical-align: top;\n    }\n\n    .dataframe thead th {\n        text-align: right;\n    }\n</style>\n<table border=\"1\" class=\"dataframe\">\n  <thead>\n    <tr style=\"text-align: right;\">\n      <th></th>\n      <th>user_id</th>\n      <th>last_timestamp</th>\n    </tr>\n  </thead>\n  <tbody>\n    <tr>\n      <th>0</th>\n      <td>4</td>\n      <td>1529331707</td>\n    </tr>\n    <tr>\n      <th>1</th>\n      <td>6</td>\n      <td>1546889407</td>\n    </tr>\n    <tr>\n      <th>2</th>\n      <td>10</td>\n      <td>1534593770</td>\n    </tr>\n    <tr>\n      <th>3</th>\n      <td>12</td>\n      <td>1537348641</td>\n    </tr>\n    <tr>\n      <th>4</th>\n      <td>13</td>\n      <td>1533162170</td>\n    </tr>\n  </tbody>\n</table>\n</div>"
     },
     "execution_count": 542,
     "metadata": {},
     "output_type": "execute_result"
    }
   ],
   "source": [
    "last_timestamp_contest.head()"
   ],
   "metadata": {
    "collapsed": false
   }
  },
  {
   "cell_type": "code",
   "execution_count": 543,
   "outputs": [],
   "source": [
    "first_timestamp_contest = events_train_contest[['user_id', 'timestamp']].groupby('user_id').aggregate(\n",
    "    {'timestamp': 'min'}).reset_index().rename(columns={'timestamp': 'first_timestamp'})"
   ],
   "metadata": {
    "collapsed": false
   }
  },
  {
   "cell_type": "code",
   "execution_count": 544,
   "outputs": [
    {
     "data": {
      "text/plain": "   user_id  first_timestamp\n0        4       1529331707\n1        6       1546889407\n2       10       1534585756\n3       12       1537348474\n4       13       1533034354",
      "text/html": "<div>\n<style scoped>\n    .dataframe tbody tr th:only-of-type {\n        vertical-align: middle;\n    }\n\n    .dataframe tbody tr th {\n        vertical-align: top;\n    }\n\n    .dataframe thead th {\n        text-align: right;\n    }\n</style>\n<table border=\"1\" class=\"dataframe\">\n  <thead>\n    <tr style=\"text-align: right;\">\n      <th></th>\n      <th>user_id</th>\n      <th>first_timestamp</th>\n    </tr>\n  </thead>\n  <tbody>\n    <tr>\n      <th>0</th>\n      <td>4</td>\n      <td>1529331707</td>\n    </tr>\n    <tr>\n      <th>1</th>\n      <td>6</td>\n      <td>1546889407</td>\n    </tr>\n    <tr>\n      <th>2</th>\n      <td>10</td>\n      <td>1534585756</td>\n    </tr>\n    <tr>\n      <th>3</th>\n      <td>12</td>\n      <td>1537348474</td>\n    </tr>\n    <tr>\n      <th>4</th>\n      <td>13</td>\n      <td>1533034354</td>\n    </tr>\n  </tbody>\n</table>\n</div>"
     },
     "execution_count": 544,
     "metadata": {},
     "output_type": "execute_result"
    }
   ],
   "source": [
    "first_timestamp_contest.head()"
   ],
   "metadata": {
    "collapsed": false
   }
  },
  {
   "cell_type": "code",
   "execution_count": 545,
   "outputs": [],
   "source": [
    "users_data_contest = users_data_contest.merge(first_timestamp_contest, on='user_id', how='outer')\n",
    "users_data_contest = users_data_contest.fillna(0)"
   ],
   "metadata": {
    "collapsed": false
   }
  },
  {
   "cell_type": "code",
   "execution_count": 546,
   "outputs": [
    {
     "data": {
      "text/plain": "   user_id  discovered  passed  started_attempt  viewed  correct  wrong  \\\n0        4           1       1                0       1      0.0    0.0   \n1        6           1       1                0       1      0.0    0.0   \n2       10           2       2                0       6      0.0    0.0   \n3       12          11       9                4      14      1.0    0.0   \n4       13          70      70               35     105     29.0   36.0   \n\n   first_timestamp  \n0       1529331707  \n1       1546889407  \n2       1534585756  \n3       1537348474  \n4       1533034354  ",
      "text/html": "<div>\n<style scoped>\n    .dataframe tbody tr th:only-of-type {\n        vertical-align: middle;\n    }\n\n    .dataframe tbody tr th {\n        vertical-align: top;\n    }\n\n    .dataframe thead th {\n        text-align: right;\n    }\n</style>\n<table border=\"1\" class=\"dataframe\">\n  <thead>\n    <tr style=\"text-align: right;\">\n      <th></th>\n      <th>user_id</th>\n      <th>discovered</th>\n      <th>passed</th>\n      <th>started_attempt</th>\n      <th>viewed</th>\n      <th>correct</th>\n      <th>wrong</th>\n      <th>first_timestamp</th>\n    </tr>\n  </thead>\n  <tbody>\n    <tr>\n      <th>0</th>\n      <td>4</td>\n      <td>1</td>\n      <td>1</td>\n      <td>0</td>\n      <td>1</td>\n      <td>0.0</td>\n      <td>0.0</td>\n      <td>1529331707</td>\n    </tr>\n    <tr>\n      <th>1</th>\n      <td>6</td>\n      <td>1</td>\n      <td>1</td>\n      <td>0</td>\n      <td>1</td>\n      <td>0.0</td>\n      <td>0.0</td>\n      <td>1546889407</td>\n    </tr>\n    <tr>\n      <th>2</th>\n      <td>10</td>\n      <td>2</td>\n      <td>2</td>\n      <td>0</td>\n      <td>6</td>\n      <td>0.0</td>\n      <td>0.0</td>\n      <td>1534585756</td>\n    </tr>\n    <tr>\n      <th>3</th>\n      <td>12</td>\n      <td>11</td>\n      <td>9</td>\n      <td>4</td>\n      <td>14</td>\n      <td>1.0</td>\n      <td>0.0</td>\n      <td>1537348474</td>\n    </tr>\n    <tr>\n      <th>4</th>\n      <td>13</td>\n      <td>70</td>\n      <td>70</td>\n      <td>35</td>\n      <td>105</td>\n      <td>29.0</td>\n      <td>36.0</td>\n      <td>1533034354</td>\n    </tr>\n  </tbody>\n</table>\n</div>"
     },
     "execution_count": 546,
     "metadata": {},
     "output_type": "execute_result"
    }
   ],
   "source": [
    "users_data_contest.head()"
   ],
   "metadata": {
    "collapsed": false
   }
  },
  {
   "cell_type": "code",
   "execution_count": 547,
   "outputs": [],
   "source": [
    "users_data_contest = users_data_contest.merge(last_timestamp_contest, on='user_id', how='outer')\n",
    "users_data_contest = users_data_contest.fillna(0)"
   ],
   "metadata": {
    "collapsed": false
   }
  },
  {
   "cell_type": "code",
   "execution_count": 548,
   "outputs": [],
   "source": [
    "users_data_contest['timestamp_gap'] = users_data_contest.last_timestamp - users_data_contest.first_timestamp"
   ],
   "metadata": {
    "collapsed": false
   }
  },
  {
   "cell_type": "code",
   "execution_count": 549,
   "outputs": [
    {
     "data": {
      "text/plain": "   user_id  discovered  passed  started_attempt  viewed  correct  wrong  \\\n0        4           1       1                0       1      0.0    0.0   \n1        6           1       1                0       1      0.0    0.0   \n2       10           2       2                0       6      0.0    0.0   \n3       12          11       9                4      14      1.0    0.0   \n4       13          70      70               35     105     29.0   36.0   \n\n   first_timestamp  last_timestamp  timestamp_gap  \n0       1529331707      1529331707              0  \n1       1546889407      1546889407              0  \n2       1534585756      1534593770           8014  \n3       1537348474      1537348641            167  \n4       1533034354      1533162170         127816  ",
      "text/html": "<div>\n<style scoped>\n    .dataframe tbody tr th:only-of-type {\n        vertical-align: middle;\n    }\n\n    .dataframe tbody tr th {\n        vertical-align: top;\n    }\n\n    .dataframe thead th {\n        text-align: right;\n    }\n</style>\n<table border=\"1\" class=\"dataframe\">\n  <thead>\n    <tr style=\"text-align: right;\">\n      <th></th>\n      <th>user_id</th>\n      <th>discovered</th>\n      <th>passed</th>\n      <th>started_attempt</th>\n      <th>viewed</th>\n      <th>correct</th>\n      <th>wrong</th>\n      <th>first_timestamp</th>\n      <th>last_timestamp</th>\n      <th>timestamp_gap</th>\n    </tr>\n  </thead>\n  <tbody>\n    <tr>\n      <th>0</th>\n      <td>4</td>\n      <td>1</td>\n      <td>1</td>\n      <td>0</td>\n      <td>1</td>\n      <td>0.0</td>\n      <td>0.0</td>\n      <td>1529331707</td>\n      <td>1529331707</td>\n      <td>0</td>\n    </tr>\n    <tr>\n      <th>1</th>\n      <td>6</td>\n      <td>1</td>\n      <td>1</td>\n      <td>0</td>\n      <td>1</td>\n      <td>0.0</td>\n      <td>0.0</td>\n      <td>1546889407</td>\n      <td>1546889407</td>\n      <td>0</td>\n    </tr>\n    <tr>\n      <th>2</th>\n      <td>10</td>\n      <td>2</td>\n      <td>2</td>\n      <td>0</td>\n      <td>6</td>\n      <td>0.0</td>\n      <td>0.0</td>\n      <td>1534585756</td>\n      <td>1534593770</td>\n      <td>8014</td>\n    </tr>\n    <tr>\n      <th>3</th>\n      <td>12</td>\n      <td>11</td>\n      <td>9</td>\n      <td>4</td>\n      <td>14</td>\n      <td>1.0</td>\n      <td>0.0</td>\n      <td>1537348474</td>\n      <td>1537348641</td>\n      <td>167</td>\n    </tr>\n    <tr>\n      <th>4</th>\n      <td>13</td>\n      <td>70</td>\n      <td>70</td>\n      <td>35</td>\n      <td>105</td>\n      <td>29.0</td>\n      <td>36.0</td>\n      <td>1533034354</td>\n      <td>1533162170</td>\n      <td>127816</td>\n    </tr>\n  </tbody>\n</table>\n</div>"
     },
     "execution_count": 549,
     "metadata": {},
     "output_type": "execute_result"
    }
   ],
   "source": [
    "users_data_contest.head()"
   ],
   "metadata": {
    "collapsed": false
   }
  },
  {
   "cell_type": "code",
   "execution_count": 550,
   "outputs": [],
   "source": [
    "users_data_contest['time_gap'] = round(users_data_contest['timestamp_gap'] / (24 * 60 * 60))"
   ],
   "metadata": {
    "collapsed": false
   }
  },
  {
   "cell_type": "code",
   "execution_count": 551,
   "outputs": [],
   "source": [
    "users_data_contest['avg_correct'] = users_data_contest.correct / 2"
   ],
   "metadata": {
    "collapsed": false
   }
  },
  {
   "cell_type": "code",
   "execution_count": 552,
   "outputs": [],
   "source": [
    "users_data_contest.replace([np.inf, -np.inf], 0, inplace=True)"
   ],
   "metadata": {
    "collapsed": false
   }
  },
  {
   "cell_type": "code",
   "execution_count": 553,
   "outputs": [],
   "source": [
    "users_data_contest = users_data_contest.fillna(0)"
   ],
   "metadata": {
    "collapsed": false
   }
  },
  {
   "cell_type": "code",
   "execution_count": 554,
   "outputs": [],
   "source": [
    "users_data_contest['correct_sum'] = users_data_contest.avg_correct * 30"
   ],
   "metadata": {
    "collapsed": false
   }
  },
  {
   "cell_type": "code",
   "execution_count": 555,
   "outputs": [],
   "source": [
    "users_data_contest['finish_course'] =  users_data_contest['correct_sum'] >= 40"
   ],
   "metadata": {
    "collapsed": false
   }
  },
  {
   "cell_type": "code",
   "execution_count": 556,
   "outputs": [
    {
     "data": {
      "text/plain": "   user_id  discovered  passed  started_attempt  viewed  correct  wrong  \\\n0        4           1       1                0       1      0.0    0.0   \n1        6           1       1                0       1      0.0    0.0   \n2       10           2       2                0       6      0.0    0.0   \n3       12          11       9                4      14      1.0    0.0   \n4       13          70      70               35     105     29.0   36.0   \n\n   first_timestamp  last_timestamp  timestamp_gap  time_gap  avg_correct  \\\n0       1529331707      1529331707              0       0.0          0.0   \n1       1546889407      1546889407              0       0.0          0.0   \n2       1534585756      1534593770           8014       0.0          0.0   \n3       1537348474      1537348641            167       0.0          0.5   \n4       1533034354      1533162170         127816       1.0         14.5   \n\n   correct_sum  finish_course  \n0          0.0          False  \n1          0.0          False  \n2          0.0          False  \n3         15.0          False  \n4        435.0           True  ",
      "text/html": "<div>\n<style scoped>\n    .dataframe tbody tr th:only-of-type {\n        vertical-align: middle;\n    }\n\n    .dataframe tbody tr th {\n        vertical-align: top;\n    }\n\n    .dataframe thead th {\n        text-align: right;\n    }\n</style>\n<table border=\"1\" class=\"dataframe\">\n  <thead>\n    <tr style=\"text-align: right;\">\n      <th></th>\n      <th>user_id</th>\n      <th>discovered</th>\n      <th>passed</th>\n      <th>started_attempt</th>\n      <th>viewed</th>\n      <th>correct</th>\n      <th>wrong</th>\n      <th>first_timestamp</th>\n      <th>last_timestamp</th>\n      <th>timestamp_gap</th>\n      <th>time_gap</th>\n      <th>avg_correct</th>\n      <th>correct_sum</th>\n      <th>finish_course</th>\n    </tr>\n  </thead>\n  <tbody>\n    <tr>\n      <th>0</th>\n      <td>4</td>\n      <td>1</td>\n      <td>1</td>\n      <td>0</td>\n      <td>1</td>\n      <td>0.0</td>\n      <td>0.0</td>\n      <td>1529331707</td>\n      <td>1529331707</td>\n      <td>0</td>\n      <td>0.0</td>\n      <td>0.0</td>\n      <td>0.0</td>\n      <td>False</td>\n    </tr>\n    <tr>\n      <th>1</th>\n      <td>6</td>\n      <td>1</td>\n      <td>1</td>\n      <td>0</td>\n      <td>1</td>\n      <td>0.0</td>\n      <td>0.0</td>\n      <td>1546889407</td>\n      <td>1546889407</td>\n      <td>0</td>\n      <td>0.0</td>\n      <td>0.0</td>\n      <td>0.0</td>\n      <td>False</td>\n    </tr>\n    <tr>\n      <th>2</th>\n      <td>10</td>\n      <td>2</td>\n      <td>2</td>\n      <td>0</td>\n      <td>6</td>\n      <td>0.0</td>\n      <td>0.0</td>\n      <td>1534585756</td>\n      <td>1534593770</td>\n      <td>8014</td>\n      <td>0.0</td>\n      <td>0.0</td>\n      <td>0.0</td>\n      <td>False</td>\n    </tr>\n    <tr>\n      <th>3</th>\n      <td>12</td>\n      <td>11</td>\n      <td>9</td>\n      <td>4</td>\n      <td>14</td>\n      <td>1.0</td>\n      <td>0.0</td>\n      <td>1537348474</td>\n      <td>1537348641</td>\n      <td>167</td>\n      <td>0.0</td>\n      <td>0.5</td>\n      <td>15.0</td>\n      <td>False</td>\n    </tr>\n    <tr>\n      <th>4</th>\n      <td>13</td>\n      <td>70</td>\n      <td>70</td>\n      <td>35</td>\n      <td>105</td>\n      <td>29.0</td>\n      <td>36.0</td>\n      <td>1533034354</td>\n      <td>1533162170</td>\n      <td>127816</td>\n      <td>1.0</td>\n      <td>14.5</td>\n      <td>435.0</td>\n      <td>True</td>\n    </tr>\n  </tbody>\n</table>\n</div>"
     },
     "execution_count": 556,
     "metadata": {},
     "output_type": "execute_result"
    }
   ],
   "source": [
    "users_data_contest.head()"
   ],
   "metadata": {
    "collapsed": false
   }
  },
  {
   "cell_type": "code",
   "execution_count": 557,
   "outputs": [
    {
     "data": {
      "text/plain": "False    0.758571\nTrue     0.241429\nName: finish_course, dtype: float64"
     },
     "execution_count": 557,
     "metadata": {},
     "output_type": "execute_result"
    }
   ],
   "source": [
    "users_data_contest.finish_course.value_counts(normalize=True)"
   ],
   "metadata": {
    "collapsed": false
   }
  },
  {
   "cell_type": "code",
   "execution_count": 558,
   "outputs": [],
   "source": [
    "users_data_contest.finish_course = users_data_contest.finish_course.map({True: 1, False: 0})"
   ],
   "metadata": {
    "collapsed": false
   }
  },
  {
   "cell_type": "code",
   "execution_count": 673,
   "outputs": [],
   "source": [
    "X_train = users_data_contest.drop(['first_timestamp', 'last_timestamp', 'timestamp_gap', 'time_gap', 'finish_course',  'avg_correct', 'correct_sum'], axis=1)"
   ],
   "metadata": {
    "collapsed": false
   }
  },
  {
   "cell_type": "code",
   "execution_count": 674,
   "outputs": [],
   "source": [
    "y_train = users_data_contest['finish_course']"
   ],
   "metadata": {
    "collapsed": false
   }
  },
  {
   "cell_type": "code",
   "execution_count": 561,
   "outputs": [
    {
     "data": {
      "text/plain": "Index(['user_id', 'discovered', 'passed', 'started_attempt', 'viewed',\n       'correct', 'wrong', 'first_timestamp', 'last_timestamp',\n       'timestamp_gap', 'time_gap', 'avg_correct', 'correct_sum',\n       'finish_course'],\n      dtype='object')"
     },
     "execution_count": 561,
     "metadata": {},
     "output_type": "execute_result"
    }
   ],
   "source": [
    "users_data_contest.columns"
   ],
   "metadata": {
    "collapsed": false
   }
  },
  {
   "cell_type": "code",
   "execution_count": 675,
   "outputs": [],
   "source": [
    "X_train = X_train.set_index('user_id')"
   ],
   "metadata": {
    "collapsed": false
   }
  },
  {
   "cell_type": "code",
   "execution_count": 676,
   "outputs": [
    {
     "data": {
      "text/plain": "         discovered  passed  started_attempt  viewed  correct  wrong\nuser_id                                                             \n4                 1       1                0       1      0.0    0.0\n6                 1       1                0       1      0.0    0.0\n10                2       2                0       6      0.0    0.0\n12               11       9                4      14      1.0    0.0\n13               70      70               35     105     29.0   36.0",
      "text/html": "<div>\n<style scoped>\n    .dataframe tbody tr th:only-of-type {\n        vertical-align: middle;\n    }\n\n    .dataframe tbody tr th {\n        vertical-align: top;\n    }\n\n    .dataframe thead th {\n        text-align: right;\n    }\n</style>\n<table border=\"1\" class=\"dataframe\">\n  <thead>\n    <tr style=\"text-align: right;\">\n      <th></th>\n      <th>discovered</th>\n      <th>passed</th>\n      <th>started_attempt</th>\n      <th>viewed</th>\n      <th>correct</th>\n      <th>wrong</th>\n    </tr>\n    <tr>\n      <th>user_id</th>\n      <th></th>\n      <th></th>\n      <th></th>\n      <th></th>\n      <th></th>\n      <th></th>\n    </tr>\n  </thead>\n  <tbody>\n    <tr>\n      <th>4</th>\n      <td>1</td>\n      <td>1</td>\n      <td>0</td>\n      <td>1</td>\n      <td>0.0</td>\n      <td>0.0</td>\n    </tr>\n    <tr>\n      <th>6</th>\n      <td>1</td>\n      <td>1</td>\n      <td>0</td>\n      <td>1</td>\n      <td>0.0</td>\n      <td>0.0</td>\n    </tr>\n    <tr>\n      <th>10</th>\n      <td>2</td>\n      <td>2</td>\n      <td>0</td>\n      <td>6</td>\n      <td>0.0</td>\n      <td>0.0</td>\n    </tr>\n    <tr>\n      <th>12</th>\n      <td>11</td>\n      <td>9</td>\n      <td>4</td>\n      <td>14</td>\n      <td>1.0</td>\n      <td>0.0</td>\n    </tr>\n    <tr>\n      <th>13</th>\n      <td>70</td>\n      <td>70</td>\n      <td>35</td>\n      <td>105</td>\n      <td>29.0</td>\n      <td>36.0</td>\n    </tr>\n  </tbody>\n</table>\n</div>"
     },
     "execution_count": 676,
     "metadata": {},
     "output_type": "execute_result"
    }
   ],
   "source": [
    "X_train.head()"
   ],
   "metadata": {
    "collapsed": false
   }
  },
  {
   "cell_type": "code",
   "execution_count": 766,
   "outputs": [],
   "source": [
    "test_data = train_data"
   ],
   "metadata": {
    "collapsed": false
   }
  },
  {
   "cell_type": "code",
   "execution_count": 767,
   "outputs": [
    {
     "data": {
      "text/plain": "False    0.897676\nTrue     0.102324\nName: course_completed, dtype: float64"
     },
     "execution_count": 767,
     "metadata": {},
     "output_type": "execute_result"
    }
   ],
   "source": [
    "test_data.course_completed.value_counts(normalize=True)"
   ],
   "metadata": {
    "collapsed": false
   }
  },
  {
   "cell_type": "code",
   "execution_count": 768,
   "outputs": [],
   "source": [
    "test_data.course_completed = test_data.course_completed.map({True: 1, False: 0})"
   ],
   "metadata": {
    "collapsed": false
   }
  },
  {
   "cell_type": "code",
   "execution_count": 769,
   "outputs": [
    {
     "data": {
      "text/plain": "   user_id  discovered  passed  started_attempt  viewed  correct  wrong  \\\n0        1           1       0                0       1      0.0    0.0   \n1        2           9       9                2       9      2.0    0.0   \n2        3          15      15                4      20     29.0   23.0   \n3        5           1       1                0       1      2.0    2.0   \n4        7           1       1                0       1      0.0    0.0   \n\n   last_timestamp  is_gone  course_completed  \n0      1472827464     True                 0  \n1      1519226966     True                 0  \n2      1444581588     True                 0  \n3      1499859939     True                 0  \n4      1521634660     True                 0  ",
      "text/html": "<div>\n<style scoped>\n    .dataframe tbody tr th:only-of-type {\n        vertical-align: middle;\n    }\n\n    .dataframe tbody tr th {\n        vertical-align: top;\n    }\n\n    .dataframe thead th {\n        text-align: right;\n    }\n</style>\n<table border=\"1\" class=\"dataframe\">\n  <thead>\n    <tr style=\"text-align: right;\">\n      <th></th>\n      <th>user_id</th>\n      <th>discovered</th>\n      <th>passed</th>\n      <th>started_attempt</th>\n      <th>viewed</th>\n      <th>correct</th>\n      <th>wrong</th>\n      <th>last_timestamp</th>\n      <th>is_gone</th>\n      <th>course_completed</th>\n    </tr>\n  </thead>\n  <tbody>\n    <tr>\n      <th>0</th>\n      <td>1</td>\n      <td>1</td>\n      <td>0</td>\n      <td>0</td>\n      <td>1</td>\n      <td>0.0</td>\n      <td>0.0</td>\n      <td>1472827464</td>\n      <td>True</td>\n      <td>0</td>\n    </tr>\n    <tr>\n      <th>1</th>\n      <td>2</td>\n      <td>9</td>\n      <td>9</td>\n      <td>2</td>\n      <td>9</td>\n      <td>2.0</td>\n      <td>0.0</td>\n      <td>1519226966</td>\n      <td>True</td>\n      <td>0</td>\n    </tr>\n    <tr>\n      <th>2</th>\n      <td>3</td>\n      <td>15</td>\n      <td>15</td>\n      <td>4</td>\n      <td>20</td>\n      <td>29.0</td>\n      <td>23.0</td>\n      <td>1444581588</td>\n      <td>True</td>\n      <td>0</td>\n    </tr>\n    <tr>\n      <th>3</th>\n      <td>5</td>\n      <td>1</td>\n      <td>1</td>\n      <td>0</td>\n      <td>1</td>\n      <td>2.0</td>\n      <td>2.0</td>\n      <td>1499859939</td>\n      <td>True</td>\n      <td>0</td>\n    </tr>\n    <tr>\n      <th>4</th>\n      <td>7</td>\n      <td>1</td>\n      <td>1</td>\n      <td>0</td>\n      <td>1</td>\n      <td>0.0</td>\n      <td>0.0</td>\n      <td>1521634660</td>\n      <td>True</td>\n      <td>0</td>\n    </tr>\n  </tbody>\n</table>\n</div>"
     },
     "execution_count": 769,
     "metadata": {},
     "output_type": "execute_result"
    }
   ],
   "source": [
    "test_data.head()"
   ],
   "metadata": {
    "collapsed": false
   }
  },
  {
   "cell_type": "code",
   "execution_count": 1071,
   "outputs": [
    {
     "data": {
      "text/plain": "Index(['user_id', 'discovered', 'passed', 'started_attempt', 'viewed',\n       'correct', 'wrong', 'last_timestamp', 'is_gone', 'course_completed',\n       'avg_correct', 'correct_sum'],\n      dtype='object')"
     },
     "execution_count": 1071,
     "metadata": {},
     "output_type": "execute_result"
    }
   ],
   "source": [
    "test_data.columns"
   ],
   "metadata": {
    "collapsed": false
   }
  },
  {
   "cell_type": "code",
   "execution_count": 1072,
   "outputs": [
    {
     "data": {
      "text/plain": "       user_id  discovered  passed  started_attempt  viewed  correct  wrong  \\\n0            1           1       0                0       1      0.0    0.0   \n1            2           9       9                2       9      2.0    0.0   \n2            3          15      15                4      20     29.0   23.0   \n3            5           1       1                0       1      2.0    2.0   \n4            7           1       1                0       1      0.0    0.0   \n...        ...         ...     ...              ...     ...      ...    ...   \n19229    26790           2       2                0       2      1.0    0.0   \n19230    26793           1       0                1       1      0.0    0.0   \n19231    26794          50      50               24      90     33.0    9.0   \n19232    26797          10      10                2      10      2.0    0.0   \n19233    26798          12      12                3      12      2.0    1.0   \n\n       course_completed  \n0                     0  \n1                     0  \n2                     0  \n3                     0  \n4                     0  \n...                 ...  \n19229                 0  \n19230                 0  \n19231                 0  \n19232                 0  \n19233                 0  \n\n[19233 rows x 8 columns]",
      "text/html": "<div>\n<style scoped>\n    .dataframe tbody tr th:only-of-type {\n        vertical-align: middle;\n    }\n\n    .dataframe tbody tr th {\n        vertical-align: top;\n    }\n\n    .dataframe thead th {\n        text-align: right;\n    }\n</style>\n<table border=\"1\" class=\"dataframe\">\n  <thead>\n    <tr style=\"text-align: right;\">\n      <th></th>\n      <th>user_id</th>\n      <th>discovered</th>\n      <th>passed</th>\n      <th>started_attempt</th>\n      <th>viewed</th>\n      <th>correct</th>\n      <th>wrong</th>\n      <th>course_completed</th>\n    </tr>\n  </thead>\n  <tbody>\n    <tr>\n      <th>0</th>\n      <td>1</td>\n      <td>1</td>\n      <td>0</td>\n      <td>0</td>\n      <td>1</td>\n      <td>0.0</td>\n      <td>0.0</td>\n      <td>0</td>\n    </tr>\n    <tr>\n      <th>1</th>\n      <td>2</td>\n      <td>9</td>\n      <td>9</td>\n      <td>2</td>\n      <td>9</td>\n      <td>2.0</td>\n      <td>0.0</td>\n      <td>0</td>\n    </tr>\n    <tr>\n      <th>2</th>\n      <td>3</td>\n      <td>15</td>\n      <td>15</td>\n      <td>4</td>\n      <td>20</td>\n      <td>29.0</td>\n      <td>23.0</td>\n      <td>0</td>\n    </tr>\n    <tr>\n      <th>3</th>\n      <td>5</td>\n      <td>1</td>\n      <td>1</td>\n      <td>0</td>\n      <td>1</td>\n      <td>2.0</td>\n      <td>2.0</td>\n      <td>0</td>\n    </tr>\n    <tr>\n      <th>4</th>\n      <td>7</td>\n      <td>1</td>\n      <td>1</td>\n      <td>0</td>\n      <td>1</td>\n      <td>0.0</td>\n      <td>0.0</td>\n      <td>0</td>\n    </tr>\n    <tr>\n      <th>...</th>\n      <td>...</td>\n      <td>...</td>\n      <td>...</td>\n      <td>...</td>\n      <td>...</td>\n      <td>...</td>\n      <td>...</td>\n      <td>...</td>\n    </tr>\n    <tr>\n      <th>19229</th>\n      <td>26790</td>\n      <td>2</td>\n      <td>2</td>\n      <td>0</td>\n      <td>2</td>\n      <td>1.0</td>\n      <td>0.0</td>\n      <td>0</td>\n    </tr>\n    <tr>\n      <th>19230</th>\n      <td>26793</td>\n      <td>1</td>\n      <td>0</td>\n      <td>1</td>\n      <td>1</td>\n      <td>0.0</td>\n      <td>0.0</td>\n      <td>0</td>\n    </tr>\n    <tr>\n      <th>19231</th>\n      <td>26794</td>\n      <td>50</td>\n      <td>50</td>\n      <td>24</td>\n      <td>90</td>\n      <td>33.0</td>\n      <td>9.0</td>\n      <td>0</td>\n    </tr>\n    <tr>\n      <th>19232</th>\n      <td>26797</td>\n      <td>10</td>\n      <td>10</td>\n      <td>2</td>\n      <td>10</td>\n      <td>2.0</td>\n      <td>0.0</td>\n      <td>0</td>\n    </tr>\n    <tr>\n      <th>19233</th>\n      <td>26798</td>\n      <td>12</td>\n      <td>12</td>\n      <td>3</td>\n      <td>12</td>\n      <td>2.0</td>\n      <td>1.0</td>\n      <td>0</td>\n    </tr>\n  </tbody>\n</table>\n<p>19233 rows × 8 columns</p>\n</div>"
     },
     "execution_count": 1072,
     "metadata": {},
     "output_type": "execute_result"
    }
   ],
   "source": [
    "test_data[['user_id', 'discovered', 'passed', 'started_attempt', 'viewed',\n",
    "       'correct', 'wrong', 'course_completed']]"
   ],
   "metadata": {
    "collapsed": false
   }
  },
  {
   "cell_type": "code",
   "execution_count": 771,
   "outputs": [],
   "source": [
    "test_data['avg_correct'] = test_data.correct / 2"
   ],
   "metadata": {
    "collapsed": false
   }
  },
  {
   "cell_type": "code",
   "execution_count": 772,
   "outputs": [],
   "source": [
    "test_data['correct_sum'] = test_data.avg_correct * 30"
   ],
   "metadata": {
    "collapsed": false
   }
  },
  {
   "cell_type": "code",
   "execution_count": 773,
   "outputs": [],
   "source": [
    "X_test = test_data.drop(['course_completed', 'is_gone', 'last_timestamp', 'avg_correct', 'correct_sum'], axis=1)"
   ],
   "metadata": {
    "collapsed": false
   }
  },
  {
   "cell_type": "code",
   "execution_count": 774,
   "outputs": [
    {
     "name": "stdout",
     "output_type": "stream",
     "text": [
      "<class 'pandas.core.frame.DataFrame'>\n",
      "Int64Index: 19233 entries, 0 to 19233\n",
      "Data columns (total 7 columns):\n",
      " #   Column           Non-Null Count  Dtype  \n",
      "---  ------           --------------  -----  \n",
      " 0   user_id          19233 non-null  int64  \n",
      " 1   discovered       19233 non-null  int64  \n",
      " 2   passed           19233 non-null  int64  \n",
      " 3   started_attempt  19233 non-null  int64  \n",
      " 4   viewed           19233 non-null  int64  \n",
      " 5   correct          19233 non-null  float64\n",
      " 6   wrong            19233 non-null  float64\n",
      "dtypes: float64(2), int64(5)\n",
      "memory usage: 1.2 MB\n"
     ]
    }
   ],
   "source": [
    "X_test.info()"
   ],
   "metadata": {
    "collapsed": false
   }
  },
  {
   "cell_type": "code",
   "execution_count": 775,
   "outputs": [],
   "source": [
    "X_test = X_test.set_index('user_id')"
   ],
   "metadata": {
    "collapsed": false
   }
  },
  {
   "cell_type": "code",
   "execution_count": 421,
   "outputs": [
    {
     "name": "stderr",
     "output_type": "stream",
     "text": [
      "2022-11-17 14:51:06.155523: I tensorflow/core/platform/cpu_feature_guard.cc:193] This TensorFlow binary is optimized with oneAPI Deep Neural Network Library (oneDNN) to use the following CPU instructions in performance-critical operations:  AVX2 FMA\n",
      "To enable them in other operations, rebuild TensorFlow with the appropriate compiler flags.\n"
     ]
    }
   ],
   "source": [
    "from tensorflow.keras.models import Sequential\n",
    "from tensorflow.keras.layers import Dense\n",
    "\n",
    "from sklearn.preprocessing import StandardScaler\n",
    "from sklearn.model_selection import train_test_split\n",
    "from sklearn.metrics import log_loss, roc_auc_score, recall_score, precision_score, average_precision_score, f1_score, classification_report, accuracy_score, ConfusionMatrixDisplay, confusion_matrix, roc_curve, precision_recall_curve"
   ],
   "metadata": {
    "collapsed": false
   }
  },
  {
   "cell_type": "code",
   "execution_count": 723,
   "outputs": [
    {
     "data": {
      "text/plain": "StandardScaler()",
      "text/html": "<style>#sk-container-id-10 {color: black;background-color: white;}#sk-container-id-10 pre{padding: 0;}#sk-container-id-10 div.sk-toggleable {background-color: white;}#sk-container-id-10 label.sk-toggleable__label {cursor: pointer;display: block;width: 100%;margin-bottom: 0;padding: 0.3em;box-sizing: border-box;text-align: center;}#sk-container-id-10 label.sk-toggleable__label-arrow:before {content: \"▸\";float: left;margin-right: 0.25em;color: #696969;}#sk-container-id-10 label.sk-toggleable__label-arrow:hover:before {color: black;}#sk-container-id-10 div.sk-estimator:hover label.sk-toggleable__label-arrow:before {color: black;}#sk-container-id-10 div.sk-toggleable__content {max-height: 0;max-width: 0;overflow: hidden;text-align: left;background-color: #f0f8ff;}#sk-container-id-10 div.sk-toggleable__content pre {margin: 0.2em;color: black;border-radius: 0.25em;background-color: #f0f8ff;}#sk-container-id-10 input.sk-toggleable__control:checked~div.sk-toggleable__content {max-height: 200px;max-width: 100%;overflow: auto;}#sk-container-id-10 input.sk-toggleable__control:checked~label.sk-toggleable__label-arrow:before {content: \"▾\";}#sk-container-id-10 div.sk-estimator input.sk-toggleable__control:checked~label.sk-toggleable__label {background-color: #d4ebff;}#sk-container-id-10 div.sk-label input.sk-toggleable__control:checked~label.sk-toggleable__label {background-color: #d4ebff;}#sk-container-id-10 input.sk-hidden--visually {border: 0;clip: rect(1px 1px 1px 1px);clip: rect(1px, 1px, 1px, 1px);height: 1px;margin: -1px;overflow: hidden;padding: 0;position: absolute;width: 1px;}#sk-container-id-10 div.sk-estimator {font-family: monospace;background-color: #f0f8ff;border: 1px dotted black;border-radius: 0.25em;box-sizing: border-box;margin-bottom: 0.5em;}#sk-container-id-10 div.sk-estimator:hover {background-color: #d4ebff;}#sk-container-id-10 div.sk-parallel-item::after {content: \"\";width: 100%;border-bottom: 1px solid gray;flex-grow: 1;}#sk-container-id-10 div.sk-label:hover label.sk-toggleable__label {background-color: #d4ebff;}#sk-container-id-10 div.sk-serial::before {content: \"\";position: absolute;border-left: 1px solid gray;box-sizing: border-box;top: 0;bottom: 0;left: 50%;z-index: 0;}#sk-container-id-10 div.sk-serial {display: flex;flex-direction: column;align-items: center;background-color: white;padding-right: 0.2em;padding-left: 0.2em;position: relative;}#sk-container-id-10 div.sk-item {position: relative;z-index: 1;}#sk-container-id-10 div.sk-parallel {display: flex;align-items: stretch;justify-content: center;background-color: white;position: relative;}#sk-container-id-10 div.sk-item::before, #sk-container-id-10 div.sk-parallel-item::before {content: \"\";position: absolute;border-left: 1px solid gray;box-sizing: border-box;top: 0;bottom: 0;left: 50%;z-index: -1;}#sk-container-id-10 div.sk-parallel-item {display: flex;flex-direction: column;z-index: 1;position: relative;background-color: white;}#sk-container-id-10 div.sk-parallel-item:first-child::after {align-self: flex-end;width: 50%;}#sk-container-id-10 div.sk-parallel-item:last-child::after {align-self: flex-start;width: 50%;}#sk-container-id-10 div.sk-parallel-item:only-child::after {width: 0;}#sk-container-id-10 div.sk-dashed-wrapped {border: 1px dashed gray;margin: 0 0.4em 0.5em 0.4em;box-sizing: border-box;padding-bottom: 0.4em;background-color: white;}#sk-container-id-10 div.sk-label label {font-family: monospace;font-weight: bold;display: inline-block;line-height: 1.2em;}#sk-container-id-10 div.sk-label-container {text-align: center;}#sk-container-id-10 div.sk-container {/* jupyter's `normalize.less` sets `[hidden] { display: none; }` but bootstrap.min.css set `[hidden] { display: none !important; }` so we also need the `!important` here to be able to override the default hidden behavior on the sphinx rendered scikit-learn.org. See: https://github.com/scikit-learn/scikit-learn/issues/21755 */display: inline-block !important;position: relative;}#sk-container-id-10 div.sk-text-repr-fallback {display: none;}</style><div id=\"sk-container-id-10\" class=\"sk-top-container\"><div class=\"sk-text-repr-fallback\"><pre>StandardScaler()</pre><b>In a Jupyter environment, please rerun this cell to show the HTML representation or trust the notebook. <br />On GitHub, the HTML representation is unable to render, please try loading this page with nbviewer.org.</b></div><div class=\"sk-container\" hidden><div class=\"sk-item\"><div class=\"sk-estimator sk-toggleable\"><input class=\"sk-toggleable__control sk-hidden--visually\" id=\"sk-estimator-id-10\" type=\"checkbox\" checked><label for=\"sk-estimator-id-10\" class=\"sk-toggleable__label sk-toggleable__label-arrow\">StandardScaler</label><div class=\"sk-toggleable__content\"><pre>StandardScaler()</pre></div></div></div></div></div>"
     },
     "execution_count": 723,
     "metadata": {},
     "output_type": "execute_result"
    }
   ],
   "source": [
    "scaler = StandardScaler()\n",
    "scaler.fit(X_train)"
   ],
   "metadata": {
    "collapsed": false
   }
  },
  {
   "cell_type": "code",
   "execution_count": 724,
   "outputs": [],
   "source": [
    "X_train = scaler.transform(X_train)"
   ],
   "metadata": {
    "collapsed": false
   }
  },
  {
   "cell_type": "code",
   "execution_count": 342,
   "outputs": [
    {
     "data": {
      "text/plain": "array([[-0.56123197, -0.55068794, -0.47767589, ..., -0.293569  ,\n        -0.51180643, -0.51180643],\n       [-0.56123197, -0.55068794, -0.47767589, ..., -0.293569  ,\n        -0.51180643, -0.51180643],\n       [-0.50441417, -0.49006354, -0.47767589, ..., -0.293569  ,\n        -0.51180643, -0.51180643],\n       ...,\n       [-0.27714297, -0.36881475, -0.25778177, ..., -0.03649867,\n        -0.21144952, -0.21144952],\n       [-0.27714297, -0.24756596, -0.25778177, ..., -0.293569  ,\n        -0.21144952, -0.21144952],\n       [-0.56123197, -0.61131233, -0.36772883, ..., -0.293569  ,\n        -0.51180643, -0.51180643]])"
     },
     "execution_count": 342,
     "metadata": {},
     "output_type": "execute_result"
    }
   ],
   "source": [
    "X_train"
   ],
   "metadata": {
    "collapsed": false
   }
  },
  {
   "cell_type": "code",
   "execution_count": 778,
   "outputs": [
    {
     "data": {
      "text/plain": "StandardScaler()",
      "text/html": "<style>#sk-container-id-12 {color: black;background-color: white;}#sk-container-id-12 pre{padding: 0;}#sk-container-id-12 div.sk-toggleable {background-color: white;}#sk-container-id-12 label.sk-toggleable__label {cursor: pointer;display: block;width: 100%;margin-bottom: 0;padding: 0.3em;box-sizing: border-box;text-align: center;}#sk-container-id-12 label.sk-toggleable__label-arrow:before {content: \"▸\";float: left;margin-right: 0.25em;color: #696969;}#sk-container-id-12 label.sk-toggleable__label-arrow:hover:before {color: black;}#sk-container-id-12 div.sk-estimator:hover label.sk-toggleable__label-arrow:before {color: black;}#sk-container-id-12 div.sk-toggleable__content {max-height: 0;max-width: 0;overflow: hidden;text-align: left;background-color: #f0f8ff;}#sk-container-id-12 div.sk-toggleable__content pre {margin: 0.2em;color: black;border-radius: 0.25em;background-color: #f0f8ff;}#sk-container-id-12 input.sk-toggleable__control:checked~div.sk-toggleable__content {max-height: 200px;max-width: 100%;overflow: auto;}#sk-container-id-12 input.sk-toggleable__control:checked~label.sk-toggleable__label-arrow:before {content: \"▾\";}#sk-container-id-12 div.sk-estimator input.sk-toggleable__control:checked~label.sk-toggleable__label {background-color: #d4ebff;}#sk-container-id-12 div.sk-label input.sk-toggleable__control:checked~label.sk-toggleable__label {background-color: #d4ebff;}#sk-container-id-12 input.sk-hidden--visually {border: 0;clip: rect(1px 1px 1px 1px);clip: rect(1px, 1px, 1px, 1px);height: 1px;margin: -1px;overflow: hidden;padding: 0;position: absolute;width: 1px;}#sk-container-id-12 div.sk-estimator {font-family: monospace;background-color: #f0f8ff;border: 1px dotted black;border-radius: 0.25em;box-sizing: border-box;margin-bottom: 0.5em;}#sk-container-id-12 div.sk-estimator:hover {background-color: #d4ebff;}#sk-container-id-12 div.sk-parallel-item::after {content: \"\";width: 100%;border-bottom: 1px solid gray;flex-grow: 1;}#sk-container-id-12 div.sk-label:hover label.sk-toggleable__label {background-color: #d4ebff;}#sk-container-id-12 div.sk-serial::before {content: \"\";position: absolute;border-left: 1px solid gray;box-sizing: border-box;top: 0;bottom: 0;left: 50%;z-index: 0;}#sk-container-id-12 div.sk-serial {display: flex;flex-direction: column;align-items: center;background-color: white;padding-right: 0.2em;padding-left: 0.2em;position: relative;}#sk-container-id-12 div.sk-item {position: relative;z-index: 1;}#sk-container-id-12 div.sk-parallel {display: flex;align-items: stretch;justify-content: center;background-color: white;position: relative;}#sk-container-id-12 div.sk-item::before, #sk-container-id-12 div.sk-parallel-item::before {content: \"\";position: absolute;border-left: 1px solid gray;box-sizing: border-box;top: 0;bottom: 0;left: 50%;z-index: -1;}#sk-container-id-12 div.sk-parallel-item {display: flex;flex-direction: column;z-index: 1;position: relative;background-color: white;}#sk-container-id-12 div.sk-parallel-item:first-child::after {align-self: flex-end;width: 50%;}#sk-container-id-12 div.sk-parallel-item:last-child::after {align-self: flex-start;width: 50%;}#sk-container-id-12 div.sk-parallel-item:only-child::after {width: 0;}#sk-container-id-12 div.sk-dashed-wrapped {border: 1px dashed gray;margin: 0 0.4em 0.5em 0.4em;box-sizing: border-box;padding-bottom: 0.4em;background-color: white;}#sk-container-id-12 div.sk-label label {font-family: monospace;font-weight: bold;display: inline-block;line-height: 1.2em;}#sk-container-id-12 div.sk-label-container {text-align: center;}#sk-container-id-12 div.sk-container {/* jupyter's `normalize.less` sets `[hidden] { display: none; }` but bootstrap.min.css set `[hidden] { display: none !important; }` so we also need the `!important` here to be able to override the default hidden behavior on the sphinx rendered scikit-learn.org. See: https://github.com/scikit-learn/scikit-learn/issues/21755 */display: inline-block !important;position: relative;}#sk-container-id-12 div.sk-text-repr-fallback {display: none;}</style><div id=\"sk-container-id-12\" class=\"sk-top-container\"><div class=\"sk-text-repr-fallback\"><pre>StandardScaler()</pre><b>In a Jupyter environment, please rerun this cell to show the HTML representation or trust the notebook. <br />On GitHub, the HTML representation is unable to render, please try loading this page with nbviewer.org.</b></div><div class=\"sk-container\" hidden><div class=\"sk-item\"><div class=\"sk-estimator sk-toggleable\"><input class=\"sk-toggleable__control sk-hidden--visually\" id=\"sk-estimator-id-12\" type=\"checkbox\" checked><label for=\"sk-estimator-id-12\" class=\"sk-toggleable__label sk-toggleable__label-arrow\">StandardScaler</label><div class=\"sk-toggleable__content\"><pre>StandardScaler()</pre></div></div></div></div></div>"
     },
     "execution_count": 778,
     "metadata": {},
     "output_type": "execute_result"
    }
   ],
   "source": [
    "scaler = StandardScaler()\n",
    "scaler.fit(X_test)"
   ],
   "metadata": {
    "collapsed": false
   }
  },
  {
   "cell_type": "code",
   "execution_count": 779,
   "outputs": [],
   "source": [
    "X_test = scaler.transform(X_test)"
   ],
   "metadata": {
    "collapsed": false
   }
  },
  {
   "cell_type": "code",
   "execution_count": 780,
   "outputs": [],
   "source": [
    "y_test = test_data['course_completed']"
   ],
   "metadata": {
    "collapsed": false
   }
  },
  {
   "cell_type": "code",
   "execution_count": 806,
   "outputs": [],
   "source": [
    "n_features = X_test.shape[1]\n",
    "model = Sequential()\n",
    "model.add(Dense(int(round((n_features+1)/2)), input_shape=(n_features,), activation='relu'))\n",
    "model.add(Dense(int(round((n_features+1)/4)), activation='relu'))\n",
    "model.add(Dense(1, activation='sigmoid'))"
   ],
   "metadata": {
    "collapsed": false
   }
  },
  {
   "cell_type": "code",
   "execution_count": 807,
   "outputs": [],
   "source": [
    "model.compile(loss='binary_crossentropy', optimizer='adam', metrics=['accuracy'])"
   ],
   "metadata": {
    "collapsed": false
   }
  },
  {
   "cell_type": "code",
   "execution_count": 808,
   "outputs": [
    {
     "name": "stdout",
     "output_type": "stream",
     "text": [
      "Epoch 1/5\n",
      "1924/1924 [==============================] - 3s 1ms/step - loss: 0.3768 - accuracy: 0.9800\n",
      "Epoch 2/5\n",
      "1924/1924 [==============================] - 2s 1ms/step - loss: 0.1191 - accuracy: 0.9971\n",
      "Epoch 3/5\n",
      "1924/1924 [==============================] - 3s 1ms/step - loss: 0.0509 - accuracy: 0.9974\n",
      "Epoch 4/5\n",
      "1924/1924 [==============================] - 3s 1ms/step - loss: 0.0256 - accuracy: 0.9977\n",
      "Epoch 5/5\n",
      "1924/1924 [==============================] - 2s 1ms/step - loss: 0.0151 - accuracy: 0.9981\n"
     ]
    },
    {
     "data": {
      "text/plain": "<keras.callbacks.History at 0x20a0e1bd0>"
     },
     "execution_count": 808,
     "metadata": {},
     "output_type": "execute_result"
    }
   ],
   "source": [
    "model.fit(X_test, y_test, epochs=5, batch_size=10)"
   ],
   "metadata": {
    "collapsed": false
   }
  },
  {
   "cell_type": "code",
   "execution_count": 809,
   "outputs": [
    {
     "name": "stdout",
     "output_type": "stream",
     "text": [
      "194/194 [==============================] - 0s 961us/step\n"
     ]
    }
   ],
   "source": [
    "predictions_proba = model.predict(X_train)"
   ],
   "metadata": {
    "collapsed": false
   }
  },
  {
   "cell_type": "code",
   "execution_count": 810,
   "outputs": [
    {
     "name": "stdout",
     "output_type": "stream",
     "text": [
      "194/194 [==============================] - 0s 885us/step\n"
     ]
    }
   ],
   "source": [
    "predictions = (model.predict(X_train) > 0.5).astype(int)"
   ],
   "metadata": {
    "collapsed": false
   }
  },
  {
   "cell_type": "code",
   "execution_count": 811,
   "outputs": [
    {
     "name": "stdout",
     "output_type": "stream",
     "text": [
      "Log loss = nan\n",
      "AUC = 0.73242\n",
      "Average Precision = 0.59404\n",
      "\n",
      "Using 0.5 as threshold:\n",
      "Accuracy = 0.84994\n",
      "Precision = 1.00000\n",
      "Recall = 0.37843\n",
      "F1 score = 0.54908\n",
      "\n",
      "Classification Report\n",
      "              precision    recall  f1-score   support\n",
      "\n",
      "           0       0.83      1.00      0.91      4691\n",
      "           1       1.00      0.38      0.55      1493\n",
      "\n",
      "    accuracy                           0.85      6184\n",
      "   macro avg       0.92      0.69      0.73      6184\n",
      "weighted avg       0.87      0.85      0.82      6184\n",
      "\n"
     ]
    },
    {
     "name": "stderr",
     "output_type": "stream",
     "text": [
      "/Users/mitya/venv/lib/python3.10/site-packages/sklearn/metrics/_classification.py:2465: RuntimeWarning: divide by zero encountered in log\n",
      "  loss = -(transformed_labels * np.log(y_pred)).sum(axis=1)\n",
      "/Users/mitya/venv/lib/python3.10/site-packages/sklearn/metrics/_classification.py:2465: RuntimeWarning: invalid value encountered in multiply\n",
      "  loss = -(transformed_labels * np.log(y_pred)).sum(axis=1)\n"
     ]
    }
   ],
   "source": [
    "print('Log loss = {:.5f}'.format(log_loss(y_train, predictions_proba)))\n",
    "print('AUC = {:.5f}'.format(roc_auc_score(y_train, predictions_proba)))\n",
    "print('Average Precision = {:.5f}'.format(average_precision_score(y_train, predictions_proba)))\n",
    "print('\\nUsing 0.5 as threshold:')\n",
    "print('Accuracy = {:.5f}'.format(accuracy_score(y_train, predictions)))\n",
    "print('Precision = {:.5f}'.format(precision_score(y_train, predictions)))\n",
    "print('Recall = {:.5f}'.format(recall_score(y_train, predictions)))\n",
    "print('F1 score = {:.5f}'.format(f1_score(y_train, predictions)))\n",
    "\n",
    "print('\\nClassification Report')\n",
    "print(classification_report(y_train, predictions))"
   ],
   "metadata": {
    "collapsed": false
   }
  },
  {
   "cell_type": "code",
   "execution_count": 798,
   "outputs": [
    {
     "name": "stdout",
     "output_type": "stream",
     "text": [
      "Log loss = nan\n",
      "AUC = 1.00000\n",
      "Average Precision = 0.99997\n",
      "\n",
      "Using 0.5 as threshold:\n",
      "Accuracy = 0.99927\n",
      "Precision = 0.99343\n",
      "Recall = 0.99949\n",
      "F1 score = 0.99645\n",
      "\n",
      "Classification Report\n",
      "              precision    recall  f1-score   support\n",
      "\n",
      "           0       1.00      1.00      1.00     17265\n",
      "           1       0.99      1.00      1.00      1968\n",
      "\n",
      "    accuracy                           1.00     19233\n",
      "   macro avg       1.00      1.00      1.00     19233\n",
      "weighted avg       1.00      1.00      1.00     19233\n",
      "\n"
     ]
    },
    {
     "name": "stderr",
     "output_type": "stream",
     "text": [
      "/Users/mitya/venv/lib/python3.10/site-packages/sklearn/metrics/_classification.py:2465: RuntimeWarning: divide by zero encountered in log\n",
      "  loss = -(transformed_labels * np.log(y_pred)).sum(axis=1)\n",
      "/Users/mitya/venv/lib/python3.10/site-packages/sklearn/metrics/_classification.py:2465: RuntimeWarning: invalid value encountered in multiply\n",
      "  loss = -(transformed_labels * np.log(y_pred)).sum(axis=1)\n"
     ]
    }
   ],
   "source": [
    "print('Log loss = {:.5f}'.format(log_loss(y_test, predictions_proba)))\n",
    "print('AUC = {:.5f}'.format(roc_auc_score(y_test, predictions_proba)))\n",
    "print('Average Precision = {:.5f}'.format(average_precision_score(y_test, predictions_proba)))\n",
    "print('\\nUsing 0.5 as threshold:')\n",
    "print('Accuracy = {:.5f}'.format(accuracy_score(y_test, predictions)))\n",
    "print('Precision = {:.5f}'.format(precision_score(y_test, predictions)))\n",
    "print('Recall = {:.5f}'.format(recall_score(y_test, predictions)))\n",
    "print('F1 score = {:.5f}'.format(f1_score(y_test, predictions)))\n",
    "\n",
    "print('\\nClassification Report')\n",
    "print(classification_report(y_test, predictions))"
   ],
   "metadata": {
    "collapsed": false
   }
  },
  {
   "cell_type": "code",
   "execution_count": 812,
   "outputs": [],
   "source": [
    "fpr, tpr, _ = roc_curve(y_train, predictions_proba)"
   ],
   "metadata": {
    "collapsed": false
   }
  },
  {
   "cell_type": "code",
   "execution_count": 813,
   "outputs": [
    {
     "data": {
      "text/plain": "<Figure size 640x480 with 1 Axes>",
      "image/png": "[encoded data removed]"
     },
     "metadata": {},
     "output_type": "display_data"
    }
   ],
   "source": [
    "plt.plot(fpr, tpr)\n",
    "plt.title('ROC curve')\n",
    "plt.xlabel('false positive rate')\n",
    "plt.ylabel('true positive rate')\n",
    "plt.xlim(0,)\n",
    "plt.ylim(0,)\n",
    "plt.show()"
   ],
   "metadata": {
    "collapsed": false
   }
  },
  {
   "cell_type": "code",
   "execution_count": 814,
   "outputs": [],
   "source": [
    "pr, rc, _ = precision_recall_curve(y_train, predictions_proba)"
   ],
   "metadata": {
    "collapsed": false
   }
  },
  {
   "cell_type": "code",
   "execution_count": 815,
   "outputs": [
    {
     "data": {
      "text/plain": "<Figure size 640x480 with 1 Axes>",
      "image/png": "[encoded data removed]"
     },
     "metadata": {},
     "output_type": "display_data"
    }
   ],
   "source": [
    "plt.plot(pr, rc)\n",
    "plt.title('Precision recall curve')\n",
    "plt.xlabel('Recall')\n",
    "plt.ylabel('Precision')\n",
    "plt.xlim(0,)\n",
    "plt.ylim(0,)\n",
    "plt.show()"
   ],
   "metadata": {
    "collapsed": false
   }
  },
  {
   "cell_type": "code",
   "execution_count": 816,
   "outputs": [
    {
     "name": "stdout",
     "output_type": "stream",
     "text": [
      "Confusion Matrix\n"
     ]
    },
    {
     "data": {
      "text/plain": "<Figure size 640x480 with 2 Axes>",
      "image/png": "[encoded data removed]"
     },
     "metadata": {},
     "output_type": "display_data"
    }
   ],
   "source": [
    "print('Confusion Matrix')\n",
    "conf_matrix = confusion_matrix(y_train, predictions)\n",
    "disp = ConfusionMatrixDisplay(conf_matrix)\n",
    "disp.plot(cmap=plt.cm.Blues, values_format='g')\n",
    "plt.show()"
   ],
   "metadata": {
    "collapsed": false
   }
  },
  {
   "cell_type": "code",
   "execution_count": 804,
   "outputs": [
    {
     "name": "stdout",
     "output_type": "stream",
     "text": [
      "Confusion Matrix\n"
     ]
    },
    {
     "data": {
      "text/plain": "<Figure size 640x480 with 2 Axes>",
      "image/png": "[encoded data removed]"
     },
     "metadata": {},
     "output_type": "display_data"
    }
   ],
   "source": [
    "print('Confusion Matrix')\n",
    "conf_matrix = confusion_matrix(y_test, predictions)\n",
    "disp = ConfusionMatrixDisplay(conf_matrix)\n",
    "disp.plot(cmap=plt.cm.Blues, values_format='g')\n",
    "plt.show()"
   ],
   "metadata": {
    "collapsed": false
   }
  },
  {
   "cell_type": "code",
   "execution_count": 462,
   "outputs": [
    {
     "name": "stdout",
     "output_type": "stream",
     "text": [
      "194/194 [==============================] - 0s 1ms/step\n"
     ]
    }
   ],
   "source": [
    "predictions_proba_train = model.predict(X_train)"
   ],
   "metadata": {
    "collapsed": false
   }
  },
  {
   "cell_type": "code",
   "execution_count": 463,
   "outputs": [
    {
     "name": "stdout",
     "output_type": "stream",
     "text": [
      "194/194 [==============================] - 0s 1ms/step\n"
     ]
    }
   ],
   "source": [
    "predictions_train = (model.predict(X_train) > 0.5).astype(int)"
   ],
   "metadata": {
    "collapsed": false
   }
  },
  {
   "cell_type": "code",
   "execution_count": 464,
   "outputs": [
    {
     "name": "stdout",
     "output_type": "stream",
     "text": [
      "Log loss = nan\n",
      "AUC = 1.00000\n",
      "Average Precision = 1.00000\n",
      "\n",
      "Using 0.5 as threshold:\n",
      "Accuracy = 1.00000\n",
      "Precision = 1.00000\n",
      "Recall = 1.00000\n",
      "F1 score = 1.00000\n",
      "\n",
      "Classification Report\n",
      "              precision    recall  f1-score   support\n",
      "\n",
      "           0       1.00      1.00      1.00      4691\n",
      "           1       1.00      1.00      1.00      1493\n",
      "\n",
      "    accuracy                           1.00      6184\n",
      "   macro avg       1.00      1.00      1.00      6184\n",
      "weighted avg       1.00      1.00      1.00      6184\n",
      "\n"
     ]
    },
    {
     "name": "stderr",
     "output_type": "stream",
     "text": [
      "/Users/mitya/venv/lib/python3.10/site-packages/sklearn/metrics/_classification.py:2465: RuntimeWarning: divide by zero encountered in log\n",
      "  loss = -(transformed_labels * np.log(y_pred)).sum(axis=1)\n",
      "/Users/mitya/venv/lib/python3.10/site-packages/sklearn/metrics/_classification.py:2465: RuntimeWarning: invalid value encountered in multiply\n",
      "  loss = -(transformed_labels * np.log(y_pred)).sum(axis=1)\n"
     ]
    }
   ],
   "source": [
    "print('Log loss = {:.5f}'.format(log_loss(y_train, predictions_proba_train)))\n",
    "print('AUC = {:.5f}'.format(roc_auc_score(y_train, predictions_proba_train)))\n",
    "print('Average Precision = {:.5f}'.format(average_precision_score(y_train, predictions_proba_train)))\n",
    "print('\\nUsing 0.5 as threshold:')\n",
    "print('Accuracy = {:.5f}'.format(accuracy_score(y_train, predictions_train)))\n",
    "print('Precision = {:.5f}'.format(precision_score(y_train, predictions_train)))\n",
    "print('Recall = {:.5f}'.format(recall_score(y_train, predictions_train)))\n",
    "print('F1 score = {:.5f}'.format(f1_score(y_train, predictions_train)))\n",
    "\n",
    "print('\\nClassification Report')\n",
    "print(classification_report(y_train, predictions_train))"
   ],
   "metadata": {
    "collapsed": false
   }
  },
  {
   "cell_type": "code",
   "execution_count": 817,
   "outputs": [],
   "source": [
    "export_data = pd.concat([pd.Series(users_data_contest.user_id), pd.DataFrame(predictions_proba)], axis=1)"
   ],
   "metadata": {
    "collapsed": false
   }
  },
  {
   "cell_type": "code",
   "execution_count": 818,
   "outputs": [],
   "source": [
    "export_data.columns = ['user_id', 'is_gone']"
   ],
   "metadata": {
    "collapsed": false
   }
  },
  {
   "cell_type": "code",
   "execution_count": 819,
   "outputs": [
    {
     "data": {
      "text/plain": "   user_id   is_gone\n0        4  0.006542\n1        6  0.006542\n2       10  0.006542\n3       12  0.006542\n4       13  1.000000",
      "text/html": "<div>\n<style scoped>\n    .dataframe tbody tr th:only-of-type {\n        vertical-align: middle;\n    }\n\n    .dataframe tbody tr th {\n        vertical-align: top;\n    }\n\n    .dataframe thead th {\n        text-align: right;\n    }\n</style>\n<table border=\"1\" class=\"dataframe\">\n  <thead>\n    <tr style=\"text-align: right;\">\n      <th></th>\n      <th>user_id</th>\n      <th>is_gone</th>\n    </tr>\n  </thead>\n  <tbody>\n    <tr>\n      <th>0</th>\n      <td>4</td>\n      <td>0.006542</td>\n    </tr>\n    <tr>\n      <th>1</th>\n      <td>6</td>\n      <td>0.006542</td>\n    </tr>\n    <tr>\n      <th>2</th>\n      <td>10</td>\n      <td>0.006542</td>\n    </tr>\n    <tr>\n      <th>3</th>\n      <td>12</td>\n      <td>0.006542</td>\n    </tr>\n    <tr>\n      <th>4</th>\n      <td>13</td>\n      <td>1.000000</td>\n    </tr>\n  </tbody>\n</table>\n</div>"
     },
     "execution_count": 819,
     "metadata": {},
     "output_type": "execute_result"
    }
   ],
   "source": [
    "export_data.head()"
   ],
   "metadata": {
    "collapsed": false
   }
  },
  {
   "cell_type": "code",
   "execution_count": 820,
   "outputs": [],
   "source": [
    "export_data.to_csv('/Users/mitya/out.csv', index=False)"
   ],
   "metadata": {
    "collapsed": false
   }
  },
  {
   "cell_type": "markdown",
   "source": [
    "================================="
   ],
   "metadata": {
    "collapsed": false
   }
  },
  {
   "cell_type": "markdown",
   "source": [
    "### Попытка # 2"
   ],
   "metadata": {
    "collapsed": false
   }
  },
  {
   "cell_type": "code",
   "execution_count": 110,
   "outputs": [],
   "source": [
    "events_test_data = pd.read_csv('https://stepik.org/media/attachments/course/4852/event_data_train.zip')"
   ],
   "metadata": {
    "collapsed": false
   }
  },
  {
   "cell_type": "code",
   "execution_count": 111,
   "outputs": [],
   "source": [
    "submissions_test_data = pd.read_csv('https://stepik.org/media/attachments/course/4852/submissions_data_train.zip')"
   ],
   "metadata": {
    "collapsed": false
   }
  },
  {
   "cell_type": "code",
   "execution_count": 344,
   "outputs": [],
   "source": [
    "events_test_contest = events_test_data"
   ],
   "metadata": {
    "collapsed": false
   }
  },
  {
   "cell_type": "code",
   "execution_count": 345,
   "outputs": [],
   "source": [
    "submissions_test_contest = submissions_test_data"
   ],
   "metadata": {
    "collapsed": false
   }
  },
  {
   "cell_type": "code",
   "execution_count": 346,
   "outputs": [
    {
     "name": "stdout",
     "output_type": "stream",
     "text": [
      "<class 'pandas.core.frame.DataFrame'>\n",
      "RangeIndex: 509104 entries, 0 to 509103\n",
      "Data columns (total 6 columns):\n",
      " #   Column             Non-Null Count   Dtype         \n",
      "---  ------             --------------   -----         \n",
      " 0   step_id            509104 non-null  int64         \n",
      " 1   timestamp          509104 non-null  int64         \n",
      " 2   submission_status  509104 non-null  object        \n",
      " 3   user_id            509104 non-null  int64         \n",
      " 4   date               509104 non-null  datetime64[ns]\n",
      " 5   day                509104 non-null  object        \n",
      "dtypes: datetime64[ns](1), int64(3), object(2)\n",
      "memory usage: 23.3+ MB\n"
     ]
    }
   ],
   "source": [
    "submissions_test_contest.info()"
   ],
   "metadata": {
    "collapsed": false
   }
  },
  {
   "cell_type": "code",
   "execution_count": 347,
   "outputs": [
    {
     "data": {
      "text/plain": "19234"
     },
     "execution_count": 347,
     "metadata": {},
     "output_type": "execute_result"
    }
   ],
   "source": [
    "events_test_contest.user_id.nunique()"
   ],
   "metadata": {
    "collapsed": false
   }
  },
  {
   "cell_type": "code",
   "execution_count": 348,
   "outputs": [
    {
     "data": {
      "text/plain": "9940"
     },
     "execution_count": 348,
     "metadata": {},
     "output_type": "execute_result"
    }
   ],
   "source": [
    "submissions_test_contest.user_id.nunique()"
   ],
   "metadata": {
    "collapsed": false
   }
  },
  {
   "cell_type": "code",
   "execution_count": 349,
   "outputs": [],
   "source": [
    "events_test_contest['date'] = pd.to_datetime(events_test_contest.timestamp, unit='s')"
   ],
   "metadata": {
    "collapsed": false
   }
  },
  {
   "cell_type": "code",
   "execution_count": 350,
   "outputs": [],
   "source": [
    "events_test_contest['day'] = events_test_contest.date.dt.date"
   ],
   "metadata": {
    "collapsed": false
   }
  },
  {
   "cell_type": "code",
   "execution_count": 351,
   "outputs": [
    {
     "name": "stdout",
     "output_type": "stream",
     "text": [
      "<class 'pandas.core.frame.DataFrame'>\n",
      "RangeIndex: 3480703 entries, 0 to 3480702\n",
      "Data columns (total 6 columns):\n",
      " #   Column     Dtype         \n",
      "---  ------     -----         \n",
      " 0   step_id    int64         \n",
      " 1   timestamp  int64         \n",
      " 2   action     object        \n",
      " 3   user_id    int64         \n",
      " 4   date       datetime64[ns]\n",
      " 5   day        object        \n",
      "dtypes: datetime64[ns](1), int64(3), object(2)\n",
      "memory usage: 159.3+ MB\n"
     ]
    }
   ],
   "source": [
    "events_test_contest.info()"
   ],
   "metadata": {
    "collapsed": false
   }
  },
  {
   "cell_type": "code",
   "execution_count": 352,
   "outputs": [],
   "source": [
    "events_test_contest = events_test_contest.drop_duplicates(subset=['user_id', 'step_id', 'action'])"
   ],
   "metadata": {
    "collapsed": false
   }
  },
  {
   "cell_type": "code",
   "execution_count": 353,
   "outputs": [],
   "source": [
    "submissions_test_contest['date'] = pd.to_datetime(submissions_test_contest.timestamp, unit='s')"
   ],
   "metadata": {
    "collapsed": false
   }
  },
  {
   "cell_type": "code",
   "execution_count": 354,
   "outputs": [],
   "source": [
    "submissions_test_contest['day'] = submissions_test_contest.date.dt.date"
   ],
   "metadata": {
    "collapsed": false
   }
  },
  {
   "cell_type": "code",
   "execution_count": 355,
   "outputs": [],
   "source": [
    "# submissions_test_contest = submissions_test_contest.drop_duplicates(subset=['user_id', 'step_id', 'submission_status'], keep='first')\n",
    "submissions_test_contest = submissions_test_contest[~(submissions_test_contest.duplicated(['user_id', 'step_id', 'submission_status']) & submissions_test_contest.submission_status.eq('correct'))]"
   ],
   "metadata": {
    "collapsed": false
   }
  },
  {
   "cell_type": "code",
   "execution_count": 356,
   "outputs": [],
   "source": [
    "first_timestamp = events_test_contest[['user_id', 'timestamp']].groupby('user_id').aggregate({'timestamp': 'min'}).reset_index().rename(columns={'timestamp': 'first_timestamp'})"
   ],
   "metadata": {
    "collapsed": false
   }
  },
  {
   "cell_type": "code",
   "execution_count": 357,
   "outputs": [
    {
     "data": {
      "text/plain": "   user_id  first_timestamp\n0        1       1472827464\n1        2       1514383364\n2        3       1434358476\n3        5       1466156809\n4        7       1521634660",
      "text/html": "<div>\n<style scoped>\n    .dataframe tbody tr th:only-of-type {\n        vertical-align: middle;\n    }\n\n    .dataframe tbody tr th {\n        vertical-align: top;\n    }\n\n    .dataframe thead th {\n        text-align: right;\n    }\n</style>\n<table border=\"1\" class=\"dataframe\">\n  <thead>\n    <tr style=\"text-align: right;\">\n      <th></th>\n      <th>user_id</th>\n      <th>first_timestamp</th>\n    </tr>\n  </thead>\n  <tbody>\n    <tr>\n      <th>0</th>\n      <td>1</td>\n      <td>1472827464</td>\n    </tr>\n    <tr>\n      <th>1</th>\n      <td>2</td>\n      <td>1514383364</td>\n    </tr>\n    <tr>\n      <th>2</th>\n      <td>3</td>\n      <td>1434358476</td>\n    </tr>\n    <tr>\n      <th>3</th>\n      <td>5</td>\n      <td>1466156809</td>\n    </tr>\n    <tr>\n      <th>4</th>\n      <td>7</td>\n      <td>1521634660</td>\n    </tr>\n  </tbody>\n</table>\n</div>"
     },
     "execution_count": 357,
     "metadata": {},
     "output_type": "execute_result"
    }
   ],
   "source": [
    "first_timestamp.head()"
   ],
   "metadata": {
    "collapsed": false
   }
  },
  {
   "cell_type": "code",
   "execution_count": 358,
   "outputs": [],
   "source": [
    "events_test_contest = events_test_contest.merge(first_timestamp, on='user_id', how='outer').fillna(0)"
   ],
   "metadata": {
    "collapsed": false
   }
  },
  {
   "cell_type": "code",
   "execution_count": 359,
   "outputs": [
    {
     "name": "stdout",
     "output_type": "stream",
     "text": [
      "<class 'pandas.core.series.Series'>\n",
      "Int64Index: 2266452 entries, 0 to 2266451\n",
      "Series name: first_timestamp\n",
      "Non-Null Count    Dtype\n",
      "--------------    -----\n",
      "2266452 non-null  int64\n",
      "dtypes: int64(1)\n",
      "memory usage: 34.6 MB\n"
     ]
    }
   ],
   "source": [
    "events_test_contest.first_timestamp.info()"
   ],
   "metadata": {
    "collapsed": false
   }
  },
  {
   "cell_type": "code",
   "execution_count": 360,
   "outputs": [],
   "source": [
    "submissions_test_contest = submissions_test_contest.merge(first_timestamp, on='user_id', how='left').fillna(0)"
   ],
   "metadata": {
    "collapsed": false
   }
  },
  {
   "cell_type": "code",
   "execution_count": 361,
   "outputs": [],
   "source": [
    "timestamp_threshold = 2 * 24 * 60 * 60"
   ],
   "metadata": {
    "collapsed": false
   }
  },
  {
   "cell_type": "code",
   "execution_count": 362,
   "outputs": [],
   "source": [
    "events_test_contest['first_two_days'] = events_test_contest.timestamp <= events_test_contest.first_timestamp + timestamp_threshold"
   ],
   "metadata": {
    "collapsed": false
   }
  },
  {
   "cell_type": "code",
   "execution_count": 363,
   "outputs": [],
   "source": [
    "events_test_contest = events_test_contest[events_test_contest.first_two_days == True]"
   ],
   "metadata": {
    "collapsed": false
   }
  },
  {
   "cell_type": "code",
   "execution_count": 364,
   "outputs": [
    {
     "data": {
      "text/plain": "   step_id   timestamp      action  user_id                date         day  \\\n0    32815  1434340848      viewed    17632 2015-06-15 04:00:48  2015-06-15   \n1    32815  1434340848      passed    17632 2015-06-15 04:00:48  2015-06-15   \n2    32815  1434340848  discovered    17632 2015-06-15 04:00:48  2015-06-15   \n3    32811  1434340895  discovered    17632 2015-06-15 04:01:35  2015-06-15   \n4    32811  1434340895      viewed    17632 2015-06-15 04:01:35  2015-06-15   \n\n   first_timestamp  first_two_days  \n0       1434340848            True  \n1       1434340848            True  \n2       1434340848            True  \n3       1434340848            True  \n4       1434340848            True  ",
      "text/html": "<div>\n<style scoped>\n    .dataframe tbody tr th:only-of-type {\n        vertical-align: middle;\n    }\n\n    .dataframe tbody tr th {\n        vertical-align: top;\n    }\n\n    .dataframe thead th {\n        text-align: right;\n    }\n</style>\n<table border=\"1\" class=\"dataframe\">\n  <thead>\n    <tr style=\"text-align: right;\">\n      <th></th>\n      <th>step_id</th>\n      <th>timestamp</th>\n      <th>action</th>\n      <th>user_id</th>\n      <th>date</th>\n      <th>day</th>\n      <th>first_timestamp</th>\n      <th>first_two_days</th>\n    </tr>\n  </thead>\n  <tbody>\n    <tr>\n      <th>0</th>\n      <td>32815</td>\n      <td>1434340848</td>\n      <td>viewed</td>\n      <td>17632</td>\n      <td>2015-06-15 04:00:48</td>\n      <td>2015-06-15</td>\n      <td>1434340848</td>\n      <td>True</td>\n    </tr>\n    <tr>\n      <th>1</th>\n      <td>32815</td>\n      <td>1434340848</td>\n      <td>passed</td>\n      <td>17632</td>\n      <td>2015-06-15 04:00:48</td>\n      <td>2015-06-15</td>\n      <td>1434340848</td>\n      <td>True</td>\n    </tr>\n    <tr>\n      <th>2</th>\n      <td>32815</td>\n      <td>1434340848</td>\n      <td>discovered</td>\n      <td>17632</td>\n      <td>2015-06-15 04:00:48</td>\n      <td>2015-06-15</td>\n      <td>1434340848</td>\n      <td>True</td>\n    </tr>\n    <tr>\n      <th>3</th>\n      <td>32811</td>\n      <td>1434340895</td>\n      <td>discovered</td>\n      <td>17632</td>\n      <td>2015-06-15 04:01:35</td>\n      <td>2015-06-15</td>\n      <td>1434340848</td>\n      <td>True</td>\n    </tr>\n    <tr>\n      <th>4</th>\n      <td>32811</td>\n      <td>1434340895</td>\n      <td>viewed</td>\n      <td>17632</td>\n      <td>2015-06-15 04:01:35</td>\n      <td>2015-06-15</td>\n      <td>1434340848</td>\n      <td>True</td>\n    </tr>\n  </tbody>\n</table>\n</div>"
     },
     "execution_count": 364,
     "metadata": {},
     "output_type": "execute_result"
    }
   ],
   "source": [
    "events_test_contest.head()"
   ],
   "metadata": {
    "collapsed": false
   }
  },
  {
   "cell_type": "code",
   "execution_count": 365,
   "outputs": [],
   "source": [
    "submissions_test_contest['first_two_days'] = submissions_test_contest.timestamp <= submissions_test_contest.first_timestamp + timestamp_threshold"
   ],
   "metadata": {
    "collapsed": false
   }
  },
  {
   "cell_type": "code",
   "execution_count": 366,
   "outputs": [
    {
     "data": {
      "text/plain": "   step_id   timestamp submission_status  user_id                date  \\\n0    31971  1434349275           correct    15853 2015-06-15 06:21:15   \n1    31972  1434348300           correct    15853 2015-06-15 06:05:00   \n2    31972  1478852149             wrong    15853 2016-11-11 08:15:49   \n3    31976  1434348123             wrong    15853 2015-06-15 06:02:03   \n4    31976  1434348188           correct    15853 2015-06-15 06:03:08   \n\n          day  first_timestamp  first_two_days  \n0  2015-06-15       1434345977            True  \n1  2015-06-15       1434345977            True  \n2  2016-11-11       1434345977           False  \n3  2015-06-15       1434345977            True  \n4  2015-06-15       1434345977            True  ",
      "text/html": "<div>\n<style scoped>\n    .dataframe tbody tr th:only-of-type {\n        vertical-align: middle;\n    }\n\n    .dataframe tbody tr th {\n        vertical-align: top;\n    }\n\n    .dataframe thead th {\n        text-align: right;\n    }\n</style>\n<table border=\"1\" class=\"dataframe\">\n  <thead>\n    <tr style=\"text-align: right;\">\n      <th></th>\n      <th>step_id</th>\n      <th>timestamp</th>\n      <th>submission_status</th>\n      <th>user_id</th>\n      <th>date</th>\n      <th>day</th>\n      <th>first_timestamp</th>\n      <th>first_two_days</th>\n    </tr>\n  </thead>\n  <tbody>\n    <tr>\n      <th>0</th>\n      <td>31971</td>\n      <td>1434349275</td>\n      <td>correct</td>\n      <td>15853</td>\n      <td>2015-06-15 06:21:15</td>\n      <td>2015-06-15</td>\n      <td>1434345977</td>\n      <td>True</td>\n    </tr>\n    <tr>\n      <th>1</th>\n      <td>31972</td>\n      <td>1434348300</td>\n      <td>correct</td>\n      <td>15853</td>\n      <td>2015-06-15 06:05:00</td>\n      <td>2015-06-15</td>\n      <td>1434345977</td>\n      <td>True</td>\n    </tr>\n    <tr>\n      <th>2</th>\n      <td>31972</td>\n      <td>1478852149</td>\n      <td>wrong</td>\n      <td>15853</td>\n      <td>2016-11-11 08:15:49</td>\n      <td>2016-11-11</td>\n      <td>1434345977</td>\n      <td>False</td>\n    </tr>\n    <tr>\n      <th>3</th>\n      <td>31976</td>\n      <td>1434348123</td>\n      <td>wrong</td>\n      <td>15853</td>\n      <td>2015-06-15 06:02:03</td>\n      <td>2015-06-15</td>\n      <td>1434345977</td>\n      <td>True</td>\n    </tr>\n    <tr>\n      <th>4</th>\n      <td>31976</td>\n      <td>1434348188</td>\n      <td>correct</td>\n      <td>15853</td>\n      <td>2015-06-15 06:03:08</td>\n      <td>2015-06-15</td>\n      <td>1434345977</td>\n      <td>True</td>\n    </tr>\n  </tbody>\n</table>\n</div>"
     },
     "execution_count": 366,
     "metadata": {},
     "output_type": "execute_result"
    }
   ],
   "source": [
    "submissions_test_contest.head()"
   ],
   "metadata": {
    "collapsed": false
   }
  },
  {
   "cell_type": "code",
   "execution_count": 367,
   "outputs": [
    {
     "data": {
      "text/plain": "2"
     },
     "execution_count": 367,
     "metadata": {},
     "output_type": "execute_result"
    }
   ],
   "source": [
    "submissions_test_contest.first_two_days.nunique()"
   ],
   "metadata": {
    "collapsed": false
   }
  },
  {
   "cell_type": "code",
   "execution_count": 368,
   "outputs": [],
   "source": [
    "submissions_test_contest = submissions_test_contest[submissions_test_contest.first_two_days == True]"
   ],
   "metadata": {
    "collapsed": false
   }
  },
  {
   "cell_type": "code",
   "execution_count": 369,
   "outputs": [],
   "source": [
    "start_day_submissions = submissions_test_contest[['user_id', 'day']].groupby('user_id').aggregate({'day': 'min'}).reset_index().rename(columns={'day': 'start_day'})"
   ],
   "metadata": {
    "collapsed": false
   }
  },
  {
   "cell_type": "code",
   "execution_count": 370,
   "outputs": [],
   "source": [
    "submissions_test_contest = submissions_test_contest.merge(start_day_submissions, on='user_id', how='outer').fillna(0)"
   ],
   "metadata": {
    "collapsed": false
   }
  },
  {
   "cell_type": "code",
   "execution_count": 371,
   "outputs": [],
   "source": [
    "submissions_test_contest['day_number'] = submissions_test_contest.day - submissions_test_contest.start_day"
   ],
   "metadata": {
    "collapsed": false
   }
  },
  {
   "cell_type": "code",
   "execution_count": 372,
   "outputs": [],
   "source": [
    "# submissions_test_contest = submissions_test_contest[(submissions_train.day_number == '0 days') | (submissions_test_contest.day_number == '1 days')]"
   ],
   "metadata": {
    "collapsed": false
   }
  },
  {
   "cell_type": "code",
   "execution_count": 373,
   "outputs": [],
   "source": [
    "submissions_pivot_table = submissions_test_contest.pivot_table(index='user_id', columns='submission_status', values='step_id', aggfunc='count', fill_value=0).reset_index()"
   ],
   "metadata": {
    "collapsed": false
   }
  },
  {
   "cell_type": "code",
   "execution_count": 374,
   "outputs": [],
   "source": [
    "submissions_pivot_table['course_complete'] = submissions_pivot_table.correct > 40"
   ],
   "metadata": {
    "collapsed": false
   }
  },
  {
   "cell_type": "code",
   "execution_count": 375,
   "outputs": [
    {
     "data": {
      "text/plain": "submission_status  user_id\ncourse_complete           \nFalse                 8772\nTrue                    43",
      "text/html": "<div>\n<style scoped>\n    .dataframe tbody tr th:only-of-type {\n        vertical-align: middle;\n    }\n\n    .dataframe tbody tr th {\n        vertical-align: top;\n    }\n\n    .dataframe thead th {\n        text-align: right;\n    }\n</style>\n<table border=\"1\" class=\"dataframe\">\n  <thead>\n    <tr style=\"text-align: right;\">\n      <th>submission_status</th>\n      <th>user_id</th>\n    </tr>\n    <tr>\n      <th>course_complete</th>\n      <th></th>\n    </tr>\n  </thead>\n  <tbody>\n    <tr>\n      <th>False</th>\n      <td>8772</td>\n    </tr>\n    <tr>\n      <th>True</th>\n      <td>43</td>\n    </tr>\n  </tbody>\n</table>\n</div>"
     },
     "execution_count": 375,
     "metadata": {},
     "output_type": "execute_result"
    }
   ],
   "source": [
    "submissions_pivot_table.groupby('course_complete').aggregate({'user_id': 'count'})"
   ],
   "metadata": {
    "collapsed": false
   }
  },
  {
   "cell_type": "code",
   "execution_count": 376,
   "outputs": [],
   "source": [
    "# submissions_pivot_table.groupby('course_complete').aggregate({'user_id': 'count'})"
   ],
   "metadata": {
    "collapsed": false
   }
  },
  {
   "cell_type": "code",
   "execution_count": 377,
   "outputs": [],
   "source": [
    "#  submissions_first_two_days = submissions_test_contest[(submissions_test_contest.day_number == '0 days') | (submissions_test_contest.day_number == '1 days')]\n",
    "\n",
    "submissions_first_two_days = submissions_test_contest[submissions_test_contest.first_two_days == True]"
   ],
   "metadata": {
    "collapsed": false
   }
  },
  {
   "cell_type": "code",
   "execution_count": 378,
   "outputs": [
    {
     "data": {
      "text/plain": "1"
     },
     "execution_count": 378,
     "metadata": {},
     "output_type": "execute_result"
    }
   ],
   "source": [
    "submissions_first_two_days.first_two_days.nunique()"
   ],
   "metadata": {
    "collapsed": false
   }
  },
  {
   "cell_type": "code",
   "execution_count": 379,
   "outputs": [
    {
     "name": "stdout",
     "output_type": "stream",
     "text": [
      "<class 'pandas.core.frame.DataFrame'>\n",
      "Int64Index: 114529 entries, 0 to 114528\n",
      "Data columns (total 10 columns):\n",
      " #   Column             Non-Null Count   Dtype          \n",
      "---  ------             --------------   -----          \n",
      " 0   step_id            114529 non-null  int64          \n",
      " 1   timestamp          114529 non-null  int64          \n",
      " 2   submission_status  114529 non-null  object         \n",
      " 3   user_id            114529 non-null  int64          \n",
      " 4   date               114529 non-null  datetime64[ns] \n",
      " 5   day                114529 non-null  object         \n",
      " 6   first_timestamp    114529 non-null  int64          \n",
      " 7   first_two_days     114529 non-null  bool           \n",
      " 8   start_day          114529 non-null  object         \n",
      " 9   day_number         114529 non-null  timedelta64[ns]\n",
      "dtypes: bool(1), datetime64[ns](1), int64(4), object(3), timedelta64[ns](1)\n",
      "memory usage: 8.8+ MB\n"
     ]
    }
   ],
   "source": [
    "submissions_first_two_days.info()"
   ],
   "metadata": {
    "collapsed": false
   }
  },
  {
   "cell_type": "code",
   "execution_count": 380,
   "outputs": [
    {
     "data": {
      "text/plain": "8815"
     },
     "execution_count": 380,
     "metadata": {},
     "output_type": "execute_result"
    }
   ],
   "source": [
    "submissions_first_two_days.user_id.nunique()"
   ],
   "metadata": {
    "collapsed": false
   }
  },
  {
   "cell_type": "code",
   "execution_count": 381,
   "outputs": [],
   "source": [
    "submissions_first_two_days_pivot_table = submissions_first_two_days.pivot_table(index='user_id', columns='submission_status', values='step_id', aggfunc='count', fill_value=0).reset_index()"
   ],
   "metadata": {
    "collapsed": false
   }
  },
  {
   "cell_type": "code",
   "execution_count": 382,
   "outputs": [
    {
     "data": {
      "text/plain": "59904"
     },
     "execution_count": 382,
     "metadata": {},
     "output_type": "execute_result"
    }
   ],
   "source": [
    "submissions_first_two_days_pivot_table.correct.sum()"
   ],
   "metadata": {
    "collapsed": false
   }
  },
  {
   "cell_type": "code",
   "execution_count": 383,
   "outputs": [],
   "source": [
    "submissions_pivot_table = submissions_pivot_table.drop(['correct', 'wrong'], axis=1)"
   ],
   "metadata": {
    "collapsed": false
   }
  },
  {
   "cell_type": "code",
   "execution_count": 384,
   "outputs": [],
   "source": [
    "# В итоговую таблицу попадают пользователи успешно прошедшие курс, которые проходили практические задания первые два дня\n",
    "submissions_pivot_table = submissions_pivot_table[['user_id', 'course_complete']].merge(submissions_first_two_days_pivot_table, on='user_id', how='outer').fillna(0)\n",
    "\n",
    "# submissions_pivot_table = submissions_first_two_days_pivot_table\n",
    "\n",
    "#"
   ],
   "metadata": {
    "collapsed": false
   }
  },
  {
   "cell_type": "code",
   "execution_count": 385,
   "outputs": [
    {
     "data": {
      "text/plain": "submission_status  user_id  course_complete  correct  wrong\n0                        2            False        2      0\n1                        3            False        4      4\n2                        8            False        9     21\n3                       14            False        0      1\n4                       16            False       18     23",
      "text/html": "<div>\n<style scoped>\n    .dataframe tbody tr th:only-of-type {\n        vertical-align: middle;\n    }\n\n    .dataframe tbody tr th {\n        vertical-align: top;\n    }\n\n    .dataframe thead th {\n        text-align: right;\n    }\n</style>\n<table border=\"1\" class=\"dataframe\">\n  <thead>\n    <tr style=\"text-align: right;\">\n      <th>submission_status</th>\n      <th>user_id</th>\n      <th>course_complete</th>\n      <th>correct</th>\n      <th>wrong</th>\n    </tr>\n  </thead>\n  <tbody>\n    <tr>\n      <th>0</th>\n      <td>2</td>\n      <td>False</td>\n      <td>2</td>\n      <td>0</td>\n    </tr>\n    <tr>\n      <th>1</th>\n      <td>3</td>\n      <td>False</td>\n      <td>4</td>\n      <td>4</td>\n    </tr>\n    <tr>\n      <th>2</th>\n      <td>8</td>\n      <td>False</td>\n      <td>9</td>\n      <td>21</td>\n    </tr>\n    <tr>\n      <th>3</th>\n      <td>14</td>\n      <td>False</td>\n      <td>0</td>\n      <td>1</td>\n    </tr>\n    <tr>\n      <th>4</th>\n      <td>16</td>\n      <td>False</td>\n      <td>18</td>\n      <td>23</td>\n    </tr>\n  </tbody>\n</table>\n</div>"
     },
     "execution_count": 385,
     "metadata": {},
     "output_type": "execute_result"
    }
   ],
   "source": [
    "submissions_pivot_table.head()"
   ],
   "metadata": {
    "collapsed": false
   }
  },
  {
   "cell_type": "code",
   "execution_count": 386,
   "outputs": [
    {
     "data": {
      "text/plain": "submission_status\nuser_id            8815\ncourse_complete       2\ncorrect              66\nwrong               108\ndtype: int64"
     },
     "execution_count": 386,
     "metadata": {},
     "output_type": "execute_result"
    }
   ],
   "source": [
    "submissions_pivot_table.nunique()"
   ],
   "metadata": {
    "collapsed": false
   }
  },
  {
   "cell_type": "code",
   "execution_count": 387,
   "outputs": [
    {
     "data": {
      "text/plain": "submission_status  user_id\ncourse_complete           \nFalse                 8772\nTrue                    43",
      "text/html": "<div>\n<style scoped>\n    .dataframe tbody tr th:only-of-type {\n        vertical-align: middle;\n    }\n\n    .dataframe tbody tr th {\n        vertical-align: top;\n    }\n\n    .dataframe thead th {\n        text-align: right;\n    }\n</style>\n<table border=\"1\" class=\"dataframe\">\n  <thead>\n    <tr style=\"text-align: right;\">\n      <th>submission_status</th>\n      <th>user_id</th>\n    </tr>\n    <tr>\n      <th>course_complete</th>\n      <th></th>\n    </tr>\n  </thead>\n  <tbody>\n    <tr>\n      <th>False</th>\n      <td>8772</td>\n    </tr>\n    <tr>\n      <th>True</th>\n      <td>43</td>\n    </tr>\n  </tbody>\n</table>\n</div>"
     },
     "execution_count": 387,
     "metadata": {},
     "output_type": "execute_result"
    }
   ],
   "source": [
    "submissions_pivot_table.groupby('course_complete').aggregate({'user_id': 'count'})"
   ],
   "metadata": {
    "collapsed": false
   }
  },
  {
   "cell_type": "code",
   "execution_count": 388,
   "outputs": [
    {
     "data": {
      "text/plain": "8815"
     },
     "execution_count": 388,
     "metadata": {},
     "output_type": "execute_result"
    }
   ],
   "source": [
    "submissions_pivot_table.user_id.nunique()"
   ],
   "metadata": {
    "collapsed": false
   }
  },
  {
   "cell_type": "code",
   "execution_count": 389,
   "outputs": [],
   "source": [
    "submissions_first_day = submissions_test_contest[submissions_test_contest.timestamp <= submissions_test_contest.first_timestamp + 24 * 60 * 60].pivot_table(index='user_id', columns='submission_status', values='step_id', aggfunc='count', fill_value=0).reset_index().rename(columns={'correct': 'first_day_correct', 'wrong': 'first_day_wrong'})"
   ],
   "metadata": {
    "collapsed": false
   }
  },
  {
   "cell_type": "code",
   "execution_count": 390,
   "outputs": [
    {
     "data": {
      "text/plain": "submission_status  user_id  first_day_correct  first_day_wrong\n0                        2                  2                0\n1                        3                  4                4\n2                        8                  9               21\n3                       14                  0                1\n4                       16                 18               23",
      "text/html": "<div>\n<style scoped>\n    .dataframe tbody tr th:only-of-type {\n        vertical-align: middle;\n    }\n\n    .dataframe tbody tr th {\n        vertical-align: top;\n    }\n\n    .dataframe thead th {\n        text-align: right;\n    }\n</style>\n<table border=\"1\" class=\"dataframe\">\n  <thead>\n    <tr style=\"text-align: right;\">\n      <th>submission_status</th>\n      <th>user_id</th>\n      <th>first_day_correct</th>\n      <th>first_day_wrong</th>\n    </tr>\n  </thead>\n  <tbody>\n    <tr>\n      <th>0</th>\n      <td>2</td>\n      <td>2</td>\n      <td>0</td>\n    </tr>\n    <tr>\n      <th>1</th>\n      <td>3</td>\n      <td>4</td>\n      <td>4</td>\n    </tr>\n    <tr>\n      <th>2</th>\n      <td>8</td>\n      <td>9</td>\n      <td>21</td>\n    </tr>\n    <tr>\n      <th>3</th>\n      <td>14</td>\n      <td>0</td>\n      <td>1</td>\n    </tr>\n    <tr>\n      <th>4</th>\n      <td>16</td>\n      <td>18</td>\n      <td>23</td>\n    </tr>\n  </tbody>\n</table>\n</div>"
     },
     "execution_count": 390,
     "metadata": {},
     "output_type": "execute_result"
    }
   ],
   "source": [
    "submissions_first_day.head()"
   ],
   "metadata": {
    "collapsed": false
   }
  },
  {
   "cell_type": "code",
   "execution_count": 391,
   "outputs": [],
   "source": [
    "submissions_second_day = submissions_test_contest[(submissions_test_contest.timestamp > submissions_test_contest.first_timestamp + 24 * 60 * 60) & (submissions_test_contest.timestamp <= submissions_test_contest.first_timestamp + 2 * 24 * 60 * 60)].pivot_table(index='user_id', columns='submission_status', values='step_id', aggfunc='count', fill_value=0).reset_index().rename(columns={'correct': 'second_day_correct', 'wrong': 'second_day_wrong'})"
   ],
   "metadata": {
    "collapsed": false
   }
  },
  {
   "cell_type": "code",
   "execution_count": 392,
   "outputs": [
    {
     "data": {
      "text/plain": "submission_status  user_id  second_day_correct  second_day_wrong\n0                       22                   2                 0\n1                       57                   1                 4\n2                       75                   2                 0\n3                       89                   6                 3\n4                       91                   4                 8",
      "text/html": "<div>\n<style scoped>\n    .dataframe tbody tr th:only-of-type {\n        vertical-align: middle;\n    }\n\n    .dataframe tbody tr th {\n        vertical-align: top;\n    }\n\n    .dataframe thead th {\n        text-align: right;\n    }\n</style>\n<table border=\"1\" class=\"dataframe\">\n  <thead>\n    <tr style=\"text-align: right;\">\n      <th>submission_status</th>\n      <th>user_id</th>\n      <th>second_day_correct</th>\n      <th>second_day_wrong</th>\n    </tr>\n  </thead>\n  <tbody>\n    <tr>\n      <th>0</th>\n      <td>22</td>\n      <td>2</td>\n      <td>0</td>\n    </tr>\n    <tr>\n      <th>1</th>\n      <td>57</td>\n      <td>1</td>\n      <td>4</td>\n    </tr>\n    <tr>\n      <th>2</th>\n      <td>75</td>\n      <td>2</td>\n      <td>0</td>\n    </tr>\n    <tr>\n      <th>3</th>\n      <td>89</td>\n      <td>6</td>\n      <td>3</td>\n    </tr>\n    <tr>\n      <th>4</th>\n      <td>91</td>\n      <td>4</td>\n      <td>8</td>\n    </tr>\n  </tbody>\n</table>\n</div>"
     },
     "execution_count": 392,
     "metadata": {},
     "output_type": "execute_result"
    }
   ],
   "source": [
    "submissions_second_day.head()"
   ],
   "metadata": {
    "collapsed": false
   }
  },
  {
   "cell_type": "code",
   "execution_count": 393,
   "outputs": [
    {
     "data": {
      "text/plain": "59904"
     },
     "execution_count": 393,
     "metadata": {},
     "output_type": "execute_result"
    }
   ],
   "source": [
    "submissions_second_day.second_day_correct.sum() + submissions_first_day.first_day_correct.sum()"
   ],
   "metadata": {
    "collapsed": false
   }
  },
  {
   "cell_type": "code",
   "execution_count": 394,
   "outputs": [
    {
     "data": {
      "text/plain": "59904"
     },
     "execution_count": 394,
     "metadata": {},
     "output_type": "execute_result"
    }
   ],
   "source": [
    "submissions_pivot_table.correct.sum()"
   ],
   "metadata": {
    "collapsed": false
   }
  },
  {
   "cell_type": "code",
   "execution_count": 395,
   "outputs": [],
   "source": [
    "retention = submissions_first_day.merge(submissions_second_day, on='user_id', how='outer').fillna(0)"
   ],
   "metadata": {
    "collapsed": false
   }
  },
  {
   "cell_type": "code",
   "execution_count": 396,
   "outputs": [],
   "source": [
    "retention = retention.merge(submissions_pivot_table, on='user_id', how='outer').fillna(0)"
   ],
   "metadata": {
    "collapsed": false
   }
  },
  {
   "cell_type": "code",
   "execution_count": 397,
   "outputs": [
    {
     "data": {
      "text/plain": "Index(['user_id', 'first_day_correct', 'first_day_wrong', 'second_day_correct',\n       'second_day_wrong', 'course_complete', 'correct', 'wrong'],\n      dtype='object', name='submission_status')"
     },
     "execution_count": 397,
     "metadata": {},
     "output_type": "execute_result"
    }
   ],
   "source": [
    "retention.columns"
   ],
   "metadata": {
    "collapsed": false
   }
  },
  {
   "cell_type": "code",
   "execution_count": 398,
   "outputs": [
    {
     "data": {
      "text/plain": "8815"
     },
     "execution_count": 398,
     "metadata": {},
     "output_type": "execute_result"
    }
   ],
   "source": [
    "retention.user_id.nunique()"
   ],
   "metadata": {
    "collapsed": false
   }
  },
  {
   "cell_type": "code",
   "execution_count": 399,
   "outputs": [],
   "source": [
    "# retention.groupby('course_complete').aggregate({'user_id': 'count'})"
   ],
   "metadata": {
    "collapsed": false
   }
  },
  {
   "cell_type": "code",
   "execution_count": 400,
   "outputs": [],
   "source": [
    "# start_day_events = events_test_contest[['user_id', 'day']].groupby('user_id').aggregate({'day': 'min'}).reset_index().rename(columns={'day': 'start_day'})"
   ],
   "metadata": {
    "collapsed": false
   }
  },
  {
   "cell_type": "code",
   "execution_count": 401,
   "outputs": [],
   "source": [
    "# events_test_contest = events_test_contest.merge(start_day_events, on='user_id', how='outer').fillna(0)"
   ],
   "metadata": {
    "collapsed": false
   }
  },
  {
   "cell_type": "code",
   "execution_count": 402,
   "outputs": [],
   "source": [
    "retention_events_pivot = events_test_contest.pivot_table(index='user_id', columns='action', values='step_id', aggfunc='count', fill_value=0).reset_index()"
   ],
   "metadata": {
    "collapsed": false
   }
  },
  {
   "cell_type": "code",
   "execution_count": 403,
   "outputs": [],
   "source": [
    "# retention_events_pivot['course_complete'] = retention_events_pivot.passed > 170"
   ],
   "metadata": {
    "collapsed": false
   }
  },
  {
   "cell_type": "code",
   "execution_count": 404,
   "outputs": [],
   "source": [
    "# retention_events_pivot = retention_events_pivot.drop(['discovered', 'passed', 'started_attempt', 'viewed'], axis=1)"
   ],
   "metadata": {
    "collapsed": false
   }
  },
  {
   "cell_type": "code",
   "execution_count": 405,
   "outputs": [],
   "source": [
    "# retention_events_pivot.groupby('course_complete').agg({'user_id': 'count'})"
   ],
   "metadata": {
    "collapsed": false
   }
  },
  {
   "cell_type": "code",
   "execution_count": 406,
   "outputs": [],
   "source": [
    "# events_test_contest['day_number'] = events_test_contest.day - events_test_contest.start_day"
   ],
   "metadata": {
    "collapsed": false
   }
  },
  {
   "cell_type": "code",
   "execution_count": 407,
   "outputs": [
    {
     "name": "stdout",
     "output_type": "stream",
     "text": [
      "<class 'pandas.core.frame.DataFrame'>\n",
      "Int64Index: 763658 entries, 0 to 2266451\n",
      "Data columns (total 8 columns):\n",
      " #   Column           Non-Null Count   Dtype         \n",
      "---  ------           --------------   -----         \n",
      " 0   step_id          763658 non-null  int64         \n",
      " 1   timestamp        763658 non-null  int64         \n",
      " 2   action           763658 non-null  object        \n",
      " 3   user_id          763658 non-null  int64         \n",
      " 4   date             763658 non-null  datetime64[ns]\n",
      " 5   day              763658 non-null  object        \n",
      " 6   first_timestamp  763658 non-null  int64         \n",
      " 7   first_two_days   763658 non-null  bool          \n",
      "dtypes: bool(1), datetime64[ns](1), int64(4), object(2)\n",
      "memory usage: 47.3+ MB\n"
     ]
    }
   ],
   "source": [
    "events_test_contest.info()"
   ],
   "metadata": {
    "collapsed": false
   }
  },
  {
   "cell_type": "code",
   "execution_count": 408,
   "outputs": [],
   "source": [
    "events_first_two_days = events_test_contest[events_test_contest.first_two_days == True]"
   ],
   "metadata": {
    "collapsed": false
   }
  },
  {
   "cell_type": "code",
   "execution_count": 409,
   "outputs": [
    {
     "name": "stdout",
     "output_type": "stream",
     "text": [
      "<class 'pandas.core.frame.DataFrame'>\n",
      "Int64Index: 763658 entries, 0 to 2266451\n",
      "Data columns (total 8 columns):\n",
      " #   Column           Non-Null Count   Dtype         \n",
      "---  ------           --------------   -----         \n",
      " 0   step_id          763658 non-null  int64         \n",
      " 1   timestamp        763658 non-null  int64         \n",
      " 2   action           763658 non-null  object        \n",
      " 3   user_id          763658 non-null  int64         \n",
      " 4   date             763658 non-null  datetime64[ns]\n",
      " 5   day              763658 non-null  object        \n",
      " 6   first_timestamp  763658 non-null  int64         \n",
      " 7   first_two_days   763658 non-null  bool          \n",
      "dtypes: bool(1), datetime64[ns](1), int64(4), object(2)\n",
      "memory usage: 47.3+ MB\n"
     ]
    }
   ],
   "source": [
    "events_first_two_days.info()"
   ],
   "metadata": {
    "collapsed": false
   }
  },
  {
   "cell_type": "code",
   "execution_count": 410,
   "outputs": [],
   "source": [
    "events_first_two_days_pivot = events_first_two_days.pivot_table(index='user_id', columns='action', values='step_id', aggfunc='count', fill_value=0).reset_index()"
   ],
   "metadata": {
    "collapsed": false
   }
  },
  {
   "cell_type": "code",
   "execution_count": 411,
   "outputs": [
    {
     "data": {
      "text/plain": "action  user_id  discovered  passed  started_attempt  viewed\n0             1           1       0                0       1\n1             2           9       9                2       9\n2             3          15      15                4      15\n3             5           1       1                0       1\n4             7           1       1                0       1",
      "text/html": "<div>\n<style scoped>\n    .dataframe tbody tr th:only-of-type {\n        vertical-align: middle;\n    }\n\n    .dataframe tbody tr th {\n        vertical-align: top;\n    }\n\n    .dataframe thead th {\n        text-align: right;\n    }\n</style>\n<table border=\"1\" class=\"dataframe\">\n  <thead>\n    <tr style=\"text-align: right;\">\n      <th>action</th>\n      <th>user_id</th>\n      <th>discovered</th>\n      <th>passed</th>\n      <th>started_attempt</th>\n      <th>viewed</th>\n    </tr>\n  </thead>\n  <tbody>\n    <tr>\n      <th>0</th>\n      <td>1</td>\n      <td>1</td>\n      <td>0</td>\n      <td>0</td>\n      <td>1</td>\n    </tr>\n    <tr>\n      <th>1</th>\n      <td>2</td>\n      <td>9</td>\n      <td>9</td>\n      <td>2</td>\n      <td>9</td>\n    </tr>\n    <tr>\n      <th>2</th>\n      <td>3</td>\n      <td>15</td>\n      <td>15</td>\n      <td>4</td>\n      <td>15</td>\n    </tr>\n    <tr>\n      <th>3</th>\n      <td>5</td>\n      <td>1</td>\n      <td>1</td>\n      <td>0</td>\n      <td>1</td>\n    </tr>\n    <tr>\n      <th>4</th>\n      <td>7</td>\n      <td>1</td>\n      <td>1</td>\n      <td>0</td>\n      <td>1</td>\n    </tr>\n  </tbody>\n</table>\n</div>"
     },
     "execution_count": 411,
     "metadata": {},
     "output_type": "execute_result"
    }
   ],
   "source": [
    "events_first_two_days_pivot.head()"
   ],
   "metadata": {
    "collapsed": false
   }
  },
  {
   "cell_type": "code",
   "execution_count": 412,
   "outputs": [],
   "source": [
    "events_first_day = events_first_two_days[events_first_two_days.timestamp <= events_first_two_days.first_timestamp + 24 * 60* 60].pivot_table(index='user_id', columns='action', values='step_id', aggfunc='count', fill_value=0).reset_index().rename(columns={'viewed': 'first_day_viewed', 'passed': 'first_day_passed', 'discovered': 'first_day_discovered', 'started_attempt':'first_day_started_attempt'})"
   ],
   "metadata": {
    "collapsed": false
   }
  },
  {
   "cell_type": "code",
   "execution_count": 413,
   "outputs": [],
   "source": [
    "events_second_day = events_first_two_days[(events_first_two_days.timestamp > events_first_two_days.first_timestamp + 24 * 60* 60)&(events_first_two_days.timestamp <= events_first_two_days.first_timestamp + 2 * 24 * 60* 60)].pivot_table(index='user_id', columns='action', values='step_id', aggfunc='count', fill_value=0).reset_index().rename(columns={'viewed': 'second_day_viewed', 'passed': 'second_day_passed', 'discovered': 'second_day_discovered', 'started_attempt':'second_day_started_attempt'})"
   ],
   "metadata": {
    "collapsed": false
   }
  },
  {
   "cell_type": "code",
   "execution_count": 414,
   "outputs": [
    {
     "data": {
      "text/plain": "action  user_id  discovered  passed  started_attempt  viewed\n8323      11561         108      67               41     108",
      "text/html": "<div>\n<style scoped>\n    .dataframe tbody tr th:only-of-type {\n        vertical-align: middle;\n    }\n\n    .dataframe tbody tr th {\n        vertical-align: top;\n    }\n\n    .dataframe thead th {\n        text-align: right;\n    }\n</style>\n<table border=\"1\" class=\"dataframe\">\n  <thead>\n    <tr style=\"text-align: right;\">\n      <th>action</th>\n      <th>user_id</th>\n      <th>discovered</th>\n      <th>passed</th>\n      <th>started_attempt</th>\n      <th>viewed</th>\n    </tr>\n  </thead>\n  <tbody>\n    <tr>\n      <th>8323</th>\n      <td>11561</td>\n      <td>108</td>\n      <td>67</td>\n      <td>41</td>\n      <td>108</td>\n    </tr>\n  </tbody>\n</table>\n</div>"
     },
     "execution_count": 414,
     "metadata": {},
     "output_type": "execute_result"
    }
   ],
   "source": [
    "events_first_two_days_pivot[events_first_two_days_pivot.user_id == 11561]"
   ],
   "metadata": {
    "collapsed": false
   }
  },
  {
   "cell_type": "code",
   "execution_count": 415,
   "outputs": [
    {
     "data": {
      "text/plain": "action  user_id  first_day_discovered  first_day_passed  \\\n8323      11561                   103                63   \n\naction  first_day_started_attempt  first_day_viewed  \n8323                           40               103  ",
      "text/html": "<div>\n<style scoped>\n    .dataframe tbody tr th:only-of-type {\n        vertical-align: middle;\n    }\n\n    .dataframe tbody tr th {\n        vertical-align: top;\n    }\n\n    .dataframe thead th {\n        text-align: right;\n    }\n</style>\n<table border=\"1\" class=\"dataframe\">\n  <thead>\n    <tr style=\"text-align: right;\">\n      <th>action</th>\n      <th>user_id</th>\n      <th>first_day_discovered</th>\n      <th>first_day_passed</th>\n      <th>first_day_started_attempt</th>\n      <th>first_day_viewed</th>\n    </tr>\n  </thead>\n  <tbody>\n    <tr>\n      <th>8323</th>\n      <td>11561</td>\n      <td>103</td>\n      <td>63</td>\n      <td>40</td>\n      <td>103</td>\n    </tr>\n  </tbody>\n</table>\n</div>"
     },
     "execution_count": 415,
     "metadata": {},
     "output_type": "execute_result"
    }
   ],
   "source": [
    "events_first_day[events_first_day.user_id == 11561]"
   ],
   "metadata": {
    "collapsed": false
   }
  },
  {
   "cell_type": "code",
   "execution_count": 416,
   "outputs": [
    {
     "data": {
      "text/plain": "action  user_id  second_day_discovered  second_day_passed  \\\n1176      11561                      5                  4   \n\naction  second_day_started_attempt  second_day_viewed  \n1176                             1                  5  ",
      "text/html": "<div>\n<style scoped>\n    .dataframe tbody tr th:only-of-type {\n        vertical-align: middle;\n    }\n\n    .dataframe tbody tr th {\n        vertical-align: top;\n    }\n\n    .dataframe thead th {\n        text-align: right;\n    }\n</style>\n<table border=\"1\" class=\"dataframe\">\n  <thead>\n    <tr style=\"text-align: right;\">\n      <th>action</th>\n      <th>user_id</th>\n      <th>second_day_discovered</th>\n      <th>second_day_passed</th>\n      <th>second_day_started_attempt</th>\n      <th>second_day_viewed</th>\n    </tr>\n  </thead>\n  <tbody>\n    <tr>\n      <th>1176</th>\n      <td>11561</td>\n      <td>5</td>\n      <td>4</td>\n      <td>1</td>\n      <td>5</td>\n    </tr>\n  </tbody>\n</table>\n</div>"
     },
     "execution_count": 416,
     "metadata": {},
     "output_type": "execute_result"
    }
   ],
   "source": [
    "events_second_day[events_second_day.user_id == 11561]"
   ],
   "metadata": {
    "collapsed": false
   }
  },
  {
   "cell_type": "code",
   "execution_count": 417,
   "outputs": [
    {
     "data": {
      "text/plain": "219403"
     },
     "execution_count": 417,
     "metadata": {},
     "output_type": "execute_result"
    }
   ],
   "source": [
    "events_first_day.first_day_passed.sum() + events_second_day.second_day_passed.sum()"
   ],
   "metadata": {
    "collapsed": false
   }
  },
  {
   "cell_type": "code",
   "execution_count": 418,
   "outputs": [
    {
     "data": {
      "text/plain": "219403"
     },
     "execution_count": 418,
     "metadata": {},
     "output_type": "execute_result"
    }
   ],
   "source": [
    "events_first_two_days_pivot.passed.sum()"
   ],
   "metadata": {
    "collapsed": false
   }
  },
  {
   "cell_type": "code",
   "execution_count": 419,
   "outputs": [],
   "source": [
    "# retention_events_pivot = retention_events_pivot.merge(events_first_two_days_pivot, on='user_id', how='outer').fillna(0)"
   ],
   "metadata": {
    "collapsed": false
   }
  },
  {
   "cell_type": "code",
   "execution_count": 420,
   "outputs": [],
   "source": [
    "retention_events_pivot = retention_events_pivot.merge(events_first_day, on='user_id', how='outer').fillna(0)"
   ],
   "metadata": {
    "collapsed": false
   }
  },
  {
   "cell_type": "code",
   "execution_count": 421,
   "outputs": [
    {
     "data": {
      "text/plain": "action  user_id  discovered  passed  started_attempt  viewed  \\\n0             1           1       0                0       1   \n1             2           9       9                2       9   \n2             3          15      15                4      15   \n3             5           1       1                0       1   \n4             7           1       1                0       1   \n\naction  first_day_discovered  first_day_passed  first_day_started_attempt  \\\n0                          1                 0                          0   \n1                          9                 9                          2   \n2                         15                15                          4   \n3                          1                 1                          0   \n4                          1                 1                          0   \n\naction  first_day_viewed  \n0                      1  \n1                      9  \n2                     15  \n3                      1  \n4                      1  ",
      "text/html": "<div>\n<style scoped>\n    .dataframe tbody tr th:only-of-type {\n        vertical-align: middle;\n    }\n\n    .dataframe tbody tr th {\n        vertical-align: top;\n    }\n\n    .dataframe thead th {\n        text-align: right;\n    }\n</style>\n<table border=\"1\" class=\"dataframe\">\n  <thead>\n    <tr style=\"text-align: right;\">\n      <th>action</th>\n      <th>user_id</th>\n      <th>discovered</th>\n      <th>passed</th>\n      <th>started_attempt</th>\n      <th>viewed</th>\n      <th>first_day_discovered</th>\n      <th>first_day_passed</th>\n      <th>first_day_started_attempt</th>\n      <th>first_day_viewed</th>\n    </tr>\n  </thead>\n  <tbody>\n    <tr>\n      <th>0</th>\n      <td>1</td>\n      <td>1</td>\n      <td>0</td>\n      <td>0</td>\n      <td>1</td>\n      <td>1</td>\n      <td>0</td>\n      <td>0</td>\n      <td>1</td>\n    </tr>\n    <tr>\n      <th>1</th>\n      <td>2</td>\n      <td>9</td>\n      <td>9</td>\n      <td>2</td>\n      <td>9</td>\n      <td>9</td>\n      <td>9</td>\n      <td>2</td>\n      <td>9</td>\n    </tr>\n    <tr>\n      <th>2</th>\n      <td>3</td>\n      <td>15</td>\n      <td>15</td>\n      <td>4</td>\n      <td>15</td>\n      <td>15</td>\n      <td>15</td>\n      <td>4</td>\n      <td>15</td>\n    </tr>\n    <tr>\n      <th>3</th>\n      <td>5</td>\n      <td>1</td>\n      <td>1</td>\n      <td>0</td>\n      <td>1</td>\n      <td>1</td>\n      <td>1</td>\n      <td>0</td>\n      <td>1</td>\n    </tr>\n    <tr>\n      <th>4</th>\n      <td>7</td>\n      <td>1</td>\n      <td>1</td>\n      <td>0</td>\n      <td>1</td>\n      <td>1</td>\n      <td>1</td>\n      <td>0</td>\n      <td>1</td>\n    </tr>\n  </tbody>\n</table>\n</div>"
     },
     "execution_count": 421,
     "metadata": {},
     "output_type": "execute_result"
    }
   ],
   "source": [
    "retention_events_pivot.head()"
   ],
   "metadata": {
    "collapsed": false
   }
  },
  {
   "cell_type": "code",
   "execution_count": 422,
   "outputs": [],
   "source": [
    "retention_events_pivot = retention_events_pivot.merge(events_second_day, on='user_id', how='outer').fillna(0)"
   ],
   "metadata": {
    "collapsed": false
   }
  },
  {
   "cell_type": "code",
   "execution_count": 423,
   "outputs": [
    {
     "ename": "KeyError",
     "evalue": "\"['correct', 'wrong', 'day', 'course_complete'] not in index\"",
     "output_type": "error",
     "traceback": [
      "\u001B[0;31m---------------------------------------------------------------------------\u001B[0m",
      "\u001B[0;31mKeyError\u001B[0m                                  Traceback (most recent call last)",
      "Cell \u001B[0;32mIn [423], line 1\u001B[0m\n\u001B[0;32m----> 1\u001B[0m \u001B[43mretention_events_pivot\u001B[49m\u001B[43m[\u001B[49m\u001B[43m[\u001B[49m\u001B[38;5;124;43m'\u001B[39;49m\u001B[38;5;124;43mcorrect\u001B[39;49m\u001B[38;5;124;43m'\u001B[39;49m\u001B[43m,\u001B[49m\u001B[43m \u001B[49m\u001B[38;5;124;43m'\u001B[39;49m\u001B[38;5;124;43mwrong\u001B[39;49m\u001B[38;5;124;43m'\u001B[39;49m\u001B[43m,\u001B[49m\u001B[43m \u001B[49m\u001B[38;5;124;43m'\u001B[39;49m\u001B[38;5;124;43mdiscovered\u001B[39;49m\u001B[38;5;124;43m'\u001B[39;49m\u001B[43m,\u001B[49m\u001B[43m \u001B[49m\u001B[38;5;124;43m'\u001B[39;49m\u001B[38;5;124;43mpassed\u001B[39;49m\u001B[38;5;124;43m'\u001B[39;49m\u001B[43m,\u001B[49m\u001B[43m \u001B[49m\u001B[38;5;124;43m'\u001B[39;49m\u001B[38;5;124;43mstarted_attempt\u001B[39;49m\u001B[38;5;124;43m'\u001B[39;49m\u001B[43m,\u001B[49m\u001B[43m \u001B[49m\u001B[38;5;124;43m'\u001B[39;49m\u001B[38;5;124;43mviewed\u001B[39;49m\u001B[38;5;124;43m'\u001B[39;49m\u001B[43m,\u001B[49m\n\u001B[1;32m      2\u001B[0m \u001B[43m       \u001B[49m\u001B[38;5;124;43m'\u001B[39;49m\u001B[38;5;124;43mday\u001B[39;49m\u001B[38;5;124;43m'\u001B[39;49m\u001B[43m,\u001B[49m\u001B[43m \u001B[49m\u001B[38;5;124;43m'\u001B[39;49m\u001B[38;5;124;43mcourse_complete\u001B[39;49m\u001B[38;5;124;43m'\u001B[39;49m\u001B[43m]\u001B[49m\u001B[43m]\u001B[49m\n",
      "File \u001B[0;32m~/venv/lib/python3.10/site-packages/pandas/core/frame.py:3511\u001B[0m, in \u001B[0;36mDataFrame.__getitem__\u001B[0;34m(self, key)\u001B[0m\n\u001B[1;32m   3509\u001B[0m     \u001B[38;5;28;01mif\u001B[39;00m is_iterator(key):\n\u001B[1;32m   3510\u001B[0m         key \u001B[38;5;241m=\u001B[39m \u001B[38;5;28mlist\u001B[39m(key)\n\u001B[0;32m-> 3511\u001B[0m     indexer \u001B[38;5;241m=\u001B[39m \u001B[38;5;28;43mself\u001B[39;49m\u001B[38;5;241;43m.\u001B[39;49m\u001B[43mcolumns\u001B[49m\u001B[38;5;241;43m.\u001B[39;49m\u001B[43m_get_indexer_strict\u001B[49m\u001B[43m(\u001B[49m\u001B[43mkey\u001B[49m\u001B[43m,\u001B[49m\u001B[43m \u001B[49m\u001B[38;5;124;43m\"\u001B[39;49m\u001B[38;5;124;43mcolumns\u001B[39;49m\u001B[38;5;124;43m\"\u001B[39;49m\u001B[43m)\u001B[49m[\u001B[38;5;241m1\u001B[39m]\n\u001B[1;32m   3513\u001B[0m \u001B[38;5;66;03m# take() does not accept boolean indexers\u001B[39;00m\n\u001B[1;32m   3514\u001B[0m \u001B[38;5;28;01mif\u001B[39;00m \u001B[38;5;28mgetattr\u001B[39m(indexer, \u001B[38;5;124m\"\u001B[39m\u001B[38;5;124mdtype\u001B[39m\u001B[38;5;124m\"\u001B[39m, \u001B[38;5;28;01mNone\u001B[39;00m) \u001B[38;5;241m==\u001B[39m \u001B[38;5;28mbool\u001B[39m:\n",
      "File \u001B[0;32m~/venv/lib/python3.10/site-packages/pandas/core/indexes/base.py:5796\u001B[0m, in \u001B[0;36mIndex._get_indexer_strict\u001B[0;34m(self, key, axis_name)\u001B[0m\n\u001B[1;32m   5793\u001B[0m \u001B[38;5;28;01melse\u001B[39;00m:\n\u001B[1;32m   5794\u001B[0m     keyarr, indexer, new_indexer \u001B[38;5;241m=\u001B[39m \u001B[38;5;28mself\u001B[39m\u001B[38;5;241m.\u001B[39m_reindex_non_unique(keyarr)\n\u001B[0;32m-> 5796\u001B[0m \u001B[38;5;28;43mself\u001B[39;49m\u001B[38;5;241;43m.\u001B[39;49m\u001B[43m_raise_if_missing\u001B[49m\u001B[43m(\u001B[49m\u001B[43mkeyarr\u001B[49m\u001B[43m,\u001B[49m\u001B[43m \u001B[49m\u001B[43mindexer\u001B[49m\u001B[43m,\u001B[49m\u001B[43m \u001B[49m\u001B[43maxis_name\u001B[49m\u001B[43m)\u001B[49m\n\u001B[1;32m   5798\u001B[0m keyarr \u001B[38;5;241m=\u001B[39m \u001B[38;5;28mself\u001B[39m\u001B[38;5;241m.\u001B[39mtake(indexer)\n\u001B[1;32m   5799\u001B[0m \u001B[38;5;28;01mif\u001B[39;00m \u001B[38;5;28misinstance\u001B[39m(key, Index):\n\u001B[1;32m   5800\u001B[0m     \u001B[38;5;66;03m# GH 42790 - Preserve name from an Index\u001B[39;00m\n",
      "File \u001B[0;32m~/venv/lib/python3.10/site-packages/pandas/core/indexes/base.py:5859\u001B[0m, in \u001B[0;36mIndex._raise_if_missing\u001B[0;34m(self, key, indexer, axis_name)\u001B[0m\n\u001B[1;32m   5856\u001B[0m     \u001B[38;5;28;01mraise\u001B[39;00m \u001B[38;5;167;01mKeyError\u001B[39;00m(\u001B[38;5;124mf\u001B[39m\u001B[38;5;124m\"\u001B[39m\u001B[38;5;124mNone of [\u001B[39m\u001B[38;5;132;01m{\u001B[39;00mkey\u001B[38;5;132;01m}\u001B[39;00m\u001B[38;5;124m] are in the [\u001B[39m\u001B[38;5;132;01m{\u001B[39;00maxis_name\u001B[38;5;132;01m}\u001B[39;00m\u001B[38;5;124m]\u001B[39m\u001B[38;5;124m\"\u001B[39m)\n\u001B[1;32m   5858\u001B[0m not_found \u001B[38;5;241m=\u001B[39m \u001B[38;5;28mlist\u001B[39m(ensure_index(key)[missing_mask\u001B[38;5;241m.\u001B[39mnonzero()[\u001B[38;5;241m0\u001B[39m]]\u001B[38;5;241m.\u001B[39munique())\n\u001B[0;32m-> 5859\u001B[0m \u001B[38;5;28;01mraise\u001B[39;00m \u001B[38;5;167;01mKeyError\u001B[39;00m(\u001B[38;5;124mf\u001B[39m\u001B[38;5;124m\"\u001B[39m\u001B[38;5;132;01m{\u001B[39;00mnot_found\u001B[38;5;132;01m}\u001B[39;00m\u001B[38;5;124m not in index\u001B[39m\u001B[38;5;124m\"\u001B[39m)\n",
      "\u001B[0;31mKeyError\u001B[0m: \"['correct', 'wrong', 'day', 'course_complete'] not in index\""
     ]
    }
   ],
   "source": [
    "retention_events_pivot[['correct', 'wrong', 'discovered', 'passed', 'started_attempt', 'viewed',\n",
    "       'day', 'course_complete']]"
   ],
   "metadata": {
    "collapsed": false
   }
  },
  {
   "cell_type": "code",
   "execution_count": 424,
   "outputs": [
    {
     "ename": "KeyError",
     "evalue": "'course_complete'",
     "output_type": "error",
     "traceback": [
      "\u001B[0;31m---------------------------------------------------------------------------\u001B[0m",
      "\u001B[0;31mKeyError\u001B[0m                                  Traceback (most recent call last)",
      "Cell \u001B[0;32mIn [424], line 1\u001B[0m\n\u001B[0;32m----> 1\u001B[0m \u001B[43mretention_events_pivot\u001B[49m\u001B[38;5;241;43m.\u001B[39;49m\u001B[43mgroupby\u001B[49m\u001B[43m(\u001B[49m\u001B[38;5;124;43m'\u001B[39;49m\u001B[38;5;124;43mcourse_complete\u001B[39;49m\u001B[38;5;124;43m'\u001B[39;49m\u001B[43m)\u001B[49m\u001B[38;5;241m.\u001B[39magg({\u001B[38;5;124m'\u001B[39m\u001B[38;5;124muser_id\u001B[39m\u001B[38;5;124m'\u001B[39m: \u001B[38;5;124m'\u001B[39m\u001B[38;5;124mcount\u001B[39m\u001B[38;5;124m'\u001B[39m})\n",
      "File \u001B[0;32m~/venv/lib/python3.10/site-packages/pandas/core/frame.py:7721\u001B[0m, in \u001B[0;36mDataFrame.groupby\u001B[0;34m(self, by, axis, level, as_index, sort, group_keys, squeeze, observed, dropna)\u001B[0m\n\u001B[1;32m   7716\u001B[0m axis \u001B[38;5;241m=\u001B[39m \u001B[38;5;28mself\u001B[39m\u001B[38;5;241m.\u001B[39m_get_axis_number(axis)\n\u001B[1;32m   7718\u001B[0m \u001B[38;5;66;03m# https://github.com/python/mypy/issues/7642\u001B[39;00m\n\u001B[1;32m   7719\u001B[0m \u001B[38;5;66;03m# error: Argument \"squeeze\" to \"DataFrameGroupBy\" has incompatible type\u001B[39;00m\n\u001B[1;32m   7720\u001B[0m \u001B[38;5;66;03m# \"Union[bool, NoDefault]\"; expected \"bool\"\u001B[39;00m\n\u001B[0;32m-> 7721\u001B[0m \u001B[38;5;28;01mreturn\u001B[39;00m \u001B[43mDataFrameGroupBy\u001B[49m\u001B[43m(\u001B[49m\n\u001B[1;32m   7722\u001B[0m \u001B[43m    \u001B[49m\u001B[43mobj\u001B[49m\u001B[38;5;241;43m=\u001B[39;49m\u001B[38;5;28;43mself\u001B[39;49m\u001B[43m,\u001B[49m\n\u001B[1;32m   7723\u001B[0m \u001B[43m    \u001B[49m\u001B[43mkeys\u001B[49m\u001B[38;5;241;43m=\u001B[39;49m\u001B[43mby\u001B[49m\u001B[43m,\u001B[49m\n\u001B[1;32m   7724\u001B[0m \u001B[43m    \u001B[49m\u001B[43maxis\u001B[49m\u001B[38;5;241;43m=\u001B[39;49m\u001B[43maxis\u001B[49m\u001B[43m,\u001B[49m\n\u001B[1;32m   7725\u001B[0m \u001B[43m    \u001B[49m\u001B[43mlevel\u001B[49m\u001B[38;5;241;43m=\u001B[39;49m\u001B[43mlevel\u001B[49m\u001B[43m,\u001B[49m\n\u001B[1;32m   7726\u001B[0m \u001B[43m    \u001B[49m\u001B[43mas_index\u001B[49m\u001B[38;5;241;43m=\u001B[39;49m\u001B[43mas_index\u001B[49m\u001B[43m,\u001B[49m\n\u001B[1;32m   7727\u001B[0m \u001B[43m    \u001B[49m\u001B[43msort\u001B[49m\u001B[38;5;241;43m=\u001B[39;49m\u001B[43msort\u001B[49m\u001B[43m,\u001B[49m\n\u001B[1;32m   7728\u001B[0m \u001B[43m    \u001B[49m\u001B[43mgroup_keys\u001B[49m\u001B[38;5;241;43m=\u001B[39;49m\u001B[43mgroup_keys\u001B[49m\u001B[43m,\u001B[49m\n\u001B[1;32m   7729\u001B[0m \u001B[43m    \u001B[49m\u001B[43msqueeze\u001B[49m\u001B[38;5;241;43m=\u001B[39;49m\u001B[43msqueeze\u001B[49m\u001B[43m,\u001B[49m\u001B[43m  \u001B[49m\u001B[38;5;66;43;03m# type: ignore[arg-type]\u001B[39;49;00m\n\u001B[1;32m   7730\u001B[0m \u001B[43m    \u001B[49m\u001B[43mobserved\u001B[49m\u001B[38;5;241;43m=\u001B[39;49m\u001B[43mobserved\u001B[49m\u001B[43m,\u001B[49m\n\u001B[1;32m   7731\u001B[0m \u001B[43m    \u001B[49m\u001B[43mdropna\u001B[49m\u001B[38;5;241;43m=\u001B[39;49m\u001B[43mdropna\u001B[49m\u001B[43m,\u001B[49m\n\u001B[1;32m   7732\u001B[0m \u001B[43m\u001B[49m\u001B[43m)\u001B[49m\n",
      "File \u001B[0;32m~/venv/lib/python3.10/site-packages/pandas/core/groupby/groupby.py:882\u001B[0m, in \u001B[0;36mGroupBy.__init__\u001B[0;34m(self, obj, keys, axis, level, grouper, exclusions, selection, as_index, sort, group_keys, squeeze, observed, mutated, dropna)\u001B[0m\n\u001B[1;32m    879\u001B[0m \u001B[38;5;28;01mif\u001B[39;00m grouper \u001B[38;5;129;01mis\u001B[39;00m \u001B[38;5;28;01mNone\u001B[39;00m:\n\u001B[1;32m    880\u001B[0m     \u001B[38;5;28;01mfrom\u001B[39;00m \u001B[38;5;21;01mpandas\u001B[39;00m\u001B[38;5;21;01m.\u001B[39;00m\u001B[38;5;21;01mcore\u001B[39;00m\u001B[38;5;21;01m.\u001B[39;00m\u001B[38;5;21;01mgroupby\u001B[39;00m\u001B[38;5;21;01m.\u001B[39;00m\u001B[38;5;21;01mgrouper\u001B[39;00m \u001B[38;5;28;01mimport\u001B[39;00m get_grouper\n\u001B[0;32m--> 882\u001B[0m     grouper, exclusions, obj \u001B[38;5;241m=\u001B[39m \u001B[43mget_grouper\u001B[49m\u001B[43m(\u001B[49m\n\u001B[1;32m    883\u001B[0m \u001B[43m        \u001B[49m\u001B[43mobj\u001B[49m\u001B[43m,\u001B[49m\n\u001B[1;32m    884\u001B[0m \u001B[43m        \u001B[49m\u001B[43mkeys\u001B[49m\u001B[43m,\u001B[49m\n\u001B[1;32m    885\u001B[0m \u001B[43m        \u001B[49m\u001B[43maxis\u001B[49m\u001B[38;5;241;43m=\u001B[39;49m\u001B[43maxis\u001B[49m\u001B[43m,\u001B[49m\n\u001B[1;32m    886\u001B[0m \u001B[43m        \u001B[49m\u001B[43mlevel\u001B[49m\u001B[38;5;241;43m=\u001B[39;49m\u001B[43mlevel\u001B[49m\u001B[43m,\u001B[49m\n\u001B[1;32m    887\u001B[0m \u001B[43m        \u001B[49m\u001B[43msort\u001B[49m\u001B[38;5;241;43m=\u001B[39;49m\u001B[43msort\u001B[49m\u001B[43m,\u001B[49m\n\u001B[1;32m    888\u001B[0m \u001B[43m        \u001B[49m\u001B[43mobserved\u001B[49m\u001B[38;5;241;43m=\u001B[39;49m\u001B[43mobserved\u001B[49m\u001B[43m,\u001B[49m\n\u001B[1;32m    889\u001B[0m \u001B[43m        \u001B[49m\u001B[43mmutated\u001B[49m\u001B[38;5;241;43m=\u001B[39;49m\u001B[38;5;28;43mself\u001B[39;49m\u001B[38;5;241;43m.\u001B[39;49m\u001B[43mmutated\u001B[49m\u001B[43m,\u001B[49m\n\u001B[1;32m    890\u001B[0m \u001B[43m        \u001B[49m\u001B[43mdropna\u001B[49m\u001B[38;5;241;43m=\u001B[39;49m\u001B[38;5;28;43mself\u001B[39;49m\u001B[38;5;241;43m.\u001B[39;49m\u001B[43mdropna\u001B[49m\u001B[43m,\u001B[49m\n\u001B[1;32m    891\u001B[0m \u001B[43m    \u001B[49m\u001B[43m)\u001B[49m\n\u001B[1;32m    893\u001B[0m \u001B[38;5;28mself\u001B[39m\u001B[38;5;241m.\u001B[39mobj \u001B[38;5;241m=\u001B[39m obj\n\u001B[1;32m    894\u001B[0m \u001B[38;5;28mself\u001B[39m\u001B[38;5;241m.\u001B[39maxis \u001B[38;5;241m=\u001B[39m obj\u001B[38;5;241m.\u001B[39m_get_axis_number(axis)\n",
      "File \u001B[0;32m~/venv/lib/python3.10/site-packages/pandas/core/groupby/grouper.py:882\u001B[0m, in \u001B[0;36mget_grouper\u001B[0;34m(obj, key, axis, level, sort, observed, mutated, validate, dropna)\u001B[0m\n\u001B[1;32m    880\u001B[0m         in_axis, level, gpr \u001B[38;5;241m=\u001B[39m \u001B[38;5;28;01mFalse\u001B[39;00m, gpr, \u001B[38;5;28;01mNone\u001B[39;00m\n\u001B[1;32m    881\u001B[0m     \u001B[38;5;28;01melse\u001B[39;00m:\n\u001B[0;32m--> 882\u001B[0m         \u001B[38;5;28;01mraise\u001B[39;00m \u001B[38;5;167;01mKeyError\u001B[39;00m(gpr)\n\u001B[1;32m    883\u001B[0m \u001B[38;5;28;01melif\u001B[39;00m \u001B[38;5;28misinstance\u001B[39m(gpr, Grouper) \u001B[38;5;129;01mand\u001B[39;00m gpr\u001B[38;5;241m.\u001B[39mkey \u001B[38;5;129;01mis\u001B[39;00m \u001B[38;5;129;01mnot\u001B[39;00m \u001B[38;5;28;01mNone\u001B[39;00m:\n\u001B[1;32m    884\u001B[0m     \u001B[38;5;66;03m# Add key to exclusions\u001B[39;00m\n\u001B[1;32m    885\u001B[0m     exclusions\u001B[38;5;241m.\u001B[39madd(gpr\u001B[38;5;241m.\u001B[39mkey)\n",
      "\u001B[0;31mKeyError\u001B[0m: 'course_complete'"
     ]
    }
   ],
   "source": [
    "retention_events_pivot.groupby('course_complete').agg({'user_id': 'count'})"
   ],
   "metadata": {
    "collapsed": false
   }
  },
  {
   "cell_type": "code",
   "execution_count": 425,
   "outputs": [
    {
     "data": {
      "text/plain": "19234"
     },
     "execution_count": 425,
     "metadata": {},
     "output_type": "execute_result"
    }
   ],
   "source": [
    "events_test_contest.user_id.nunique()"
   ],
   "metadata": {
    "collapsed": false
   }
  },
  {
   "cell_type": "code",
   "execution_count": 426,
   "outputs": [
    {
     "data": {
      "text/plain": "19234"
     },
     "execution_count": 426,
     "metadata": {},
     "output_type": "execute_result"
    }
   ],
   "source": [
    "events_first_two_days.user_id.nunique()"
   ],
   "metadata": {
    "collapsed": false
   }
  },
  {
   "cell_type": "code",
   "execution_count": 427,
   "outputs": [
    {
     "data": {
      "text/plain": "19234"
     },
     "execution_count": 427,
     "metadata": {},
     "output_type": "execute_result"
    }
   ],
   "source": [
    "retention_events_pivot.user_id.nunique()"
   ],
   "metadata": {
    "collapsed": false
   }
  },
  {
   "cell_type": "code",
   "execution_count": 428,
   "outputs": [],
   "source": [
    "# retention_events_pivot.groupby('course_complete').agg({'user_id': 'count'})"
   ],
   "metadata": {
    "collapsed": false
   }
  },
  {
   "cell_type": "code",
   "execution_count": 429,
   "outputs": [],
   "source": [
    "retention = retention.merge(retention_events_pivot, on='user_id', how='outer').fillna(0)"
   ],
   "metadata": {
    "collapsed": false
   }
  },
  {
   "cell_type": "code",
   "execution_count": 430,
   "outputs": [
    {
     "ename": "KeyError",
     "evalue": "\"['day'] not in index\"",
     "output_type": "error",
     "traceback": [
      "\u001B[0;31m---------------------------------------------------------------------------\u001B[0m",
      "\u001B[0;31mKeyError\u001B[0m                                  Traceback (most recent call last)",
      "Cell \u001B[0;32mIn [430], line 1\u001B[0m\n\u001B[0;32m----> 1\u001B[0m \u001B[43mretention\u001B[49m\u001B[43m[\u001B[49m\u001B[43m[\u001B[49m\u001B[38;5;124;43m'\u001B[39;49m\u001B[38;5;124;43mcorrect\u001B[39;49m\u001B[38;5;124;43m'\u001B[39;49m\u001B[43m,\u001B[49m\u001B[43m \u001B[49m\u001B[38;5;124;43m'\u001B[39;49m\u001B[38;5;124;43mwrong\u001B[39;49m\u001B[38;5;124;43m'\u001B[39;49m\u001B[43m,\u001B[49m\u001B[43m \u001B[49m\u001B[38;5;124;43m'\u001B[39;49m\u001B[38;5;124;43mdiscovered\u001B[39;49m\u001B[38;5;124;43m'\u001B[39;49m\u001B[43m,\u001B[49m\u001B[43m \u001B[49m\u001B[38;5;124;43m'\u001B[39;49m\u001B[38;5;124;43mpassed\u001B[39;49m\u001B[38;5;124;43m'\u001B[39;49m\u001B[43m,\u001B[49m\u001B[43m \u001B[49m\u001B[38;5;124;43m'\u001B[39;49m\u001B[38;5;124;43mstarted_attempt\u001B[39;49m\u001B[38;5;124;43m'\u001B[39;49m\u001B[43m,\u001B[49m\u001B[43m \u001B[49m\u001B[38;5;124;43m'\u001B[39;49m\u001B[38;5;124;43mviewed\u001B[39;49m\u001B[38;5;124;43m'\u001B[39;49m\u001B[43m,\u001B[49m\n\u001B[1;32m      2\u001B[0m \u001B[43m       \u001B[49m\u001B[38;5;124;43m'\u001B[39;49m\u001B[38;5;124;43mday\u001B[39;49m\u001B[38;5;124;43m'\u001B[39;49m\u001B[43m,\u001B[49m\u001B[43m \u001B[49m\u001B[38;5;124;43m'\u001B[39;49m\u001B[38;5;124;43mcourse_complete\u001B[39;49m\u001B[38;5;124;43m'\u001B[39;49m\u001B[43m]\u001B[49m\u001B[43m]\u001B[49m\n",
      "File \u001B[0;32m~/venv/lib/python3.10/site-packages/pandas/core/frame.py:3511\u001B[0m, in \u001B[0;36mDataFrame.__getitem__\u001B[0;34m(self, key)\u001B[0m\n\u001B[1;32m   3509\u001B[0m     \u001B[38;5;28;01mif\u001B[39;00m is_iterator(key):\n\u001B[1;32m   3510\u001B[0m         key \u001B[38;5;241m=\u001B[39m \u001B[38;5;28mlist\u001B[39m(key)\n\u001B[0;32m-> 3511\u001B[0m     indexer \u001B[38;5;241m=\u001B[39m \u001B[38;5;28;43mself\u001B[39;49m\u001B[38;5;241;43m.\u001B[39;49m\u001B[43mcolumns\u001B[49m\u001B[38;5;241;43m.\u001B[39;49m\u001B[43m_get_indexer_strict\u001B[49m\u001B[43m(\u001B[49m\u001B[43mkey\u001B[49m\u001B[43m,\u001B[49m\u001B[43m \u001B[49m\u001B[38;5;124;43m\"\u001B[39;49m\u001B[38;5;124;43mcolumns\u001B[39;49m\u001B[38;5;124;43m\"\u001B[39;49m\u001B[43m)\u001B[49m[\u001B[38;5;241m1\u001B[39m]\n\u001B[1;32m   3513\u001B[0m \u001B[38;5;66;03m# take() does not accept boolean indexers\u001B[39;00m\n\u001B[1;32m   3514\u001B[0m \u001B[38;5;28;01mif\u001B[39;00m \u001B[38;5;28mgetattr\u001B[39m(indexer, \u001B[38;5;124m\"\u001B[39m\u001B[38;5;124mdtype\u001B[39m\u001B[38;5;124m\"\u001B[39m, \u001B[38;5;28;01mNone\u001B[39;00m) \u001B[38;5;241m==\u001B[39m \u001B[38;5;28mbool\u001B[39m:\n",
      "File \u001B[0;32m~/venv/lib/python3.10/site-packages/pandas/core/indexes/base.py:5796\u001B[0m, in \u001B[0;36mIndex._get_indexer_strict\u001B[0;34m(self, key, axis_name)\u001B[0m\n\u001B[1;32m   5793\u001B[0m \u001B[38;5;28;01melse\u001B[39;00m:\n\u001B[1;32m   5794\u001B[0m     keyarr, indexer, new_indexer \u001B[38;5;241m=\u001B[39m \u001B[38;5;28mself\u001B[39m\u001B[38;5;241m.\u001B[39m_reindex_non_unique(keyarr)\n\u001B[0;32m-> 5796\u001B[0m \u001B[38;5;28;43mself\u001B[39;49m\u001B[38;5;241;43m.\u001B[39;49m\u001B[43m_raise_if_missing\u001B[49m\u001B[43m(\u001B[49m\u001B[43mkeyarr\u001B[49m\u001B[43m,\u001B[49m\u001B[43m \u001B[49m\u001B[43mindexer\u001B[49m\u001B[43m,\u001B[49m\u001B[43m \u001B[49m\u001B[43maxis_name\u001B[49m\u001B[43m)\u001B[49m\n\u001B[1;32m   5798\u001B[0m keyarr \u001B[38;5;241m=\u001B[39m \u001B[38;5;28mself\u001B[39m\u001B[38;5;241m.\u001B[39mtake(indexer)\n\u001B[1;32m   5799\u001B[0m \u001B[38;5;28;01mif\u001B[39;00m \u001B[38;5;28misinstance\u001B[39m(key, Index):\n\u001B[1;32m   5800\u001B[0m     \u001B[38;5;66;03m# GH 42790 - Preserve name from an Index\u001B[39;00m\n",
      "File \u001B[0;32m~/venv/lib/python3.10/site-packages/pandas/core/indexes/base.py:5859\u001B[0m, in \u001B[0;36mIndex._raise_if_missing\u001B[0;34m(self, key, indexer, axis_name)\u001B[0m\n\u001B[1;32m   5856\u001B[0m     \u001B[38;5;28;01mraise\u001B[39;00m \u001B[38;5;167;01mKeyError\u001B[39;00m(\u001B[38;5;124mf\u001B[39m\u001B[38;5;124m\"\u001B[39m\u001B[38;5;124mNone of [\u001B[39m\u001B[38;5;132;01m{\u001B[39;00mkey\u001B[38;5;132;01m}\u001B[39;00m\u001B[38;5;124m] are in the [\u001B[39m\u001B[38;5;132;01m{\u001B[39;00maxis_name\u001B[38;5;132;01m}\u001B[39;00m\u001B[38;5;124m]\u001B[39m\u001B[38;5;124m\"\u001B[39m)\n\u001B[1;32m   5858\u001B[0m not_found \u001B[38;5;241m=\u001B[39m \u001B[38;5;28mlist\u001B[39m(ensure_index(key)[missing_mask\u001B[38;5;241m.\u001B[39mnonzero()[\u001B[38;5;241m0\u001B[39m]]\u001B[38;5;241m.\u001B[39munique())\n\u001B[0;32m-> 5859\u001B[0m \u001B[38;5;28;01mraise\u001B[39;00m \u001B[38;5;167;01mKeyError\u001B[39;00m(\u001B[38;5;124mf\u001B[39m\u001B[38;5;124m\"\u001B[39m\u001B[38;5;132;01m{\u001B[39;00mnot_found\u001B[38;5;132;01m}\u001B[39;00m\u001B[38;5;124m not in index\u001B[39m\u001B[38;5;124m\"\u001B[39m)\n",
      "\u001B[0;31mKeyError\u001B[0m: \"['day'] not in index\""
     ]
    }
   ],
   "source": [
    "retention[['correct', 'wrong', 'discovered', 'passed', 'started_attempt', 'viewed',\n",
    "       'day', 'course_complete']]"
   ],
   "metadata": {
    "collapsed": false
   }
  },
  {
   "cell_type": "code",
   "execution_count": 2026,
   "outputs": [
    {
     "data": {
      "text/plain": "submission_status  user_id\ncourse_complete           \nFalse                 7972\nTrue                  1968",
      "text/html": "<div>\n<style scoped>\n    .dataframe tbody tr th:only-of-type {\n        vertical-align: middle;\n    }\n\n    .dataframe tbody tr th {\n        vertical-align: top;\n    }\n\n    .dataframe thead th {\n        text-align: right;\n    }\n</style>\n<table border=\"1\" class=\"dataframe\">\n  <thead>\n    <tr style=\"text-align: right;\">\n      <th>submission_status</th>\n      <th>user_id</th>\n    </tr>\n    <tr>\n      <th>course_complete</th>\n      <th></th>\n    </tr>\n  </thead>\n  <tbody>\n    <tr>\n      <th>False</th>\n      <td>7972</td>\n    </tr>\n    <tr>\n      <th>True</th>\n      <td>1968</td>\n    </tr>\n  </tbody>\n</table>\n</div>"
     },
     "execution_count": 2026,
     "metadata": {},
     "output_type": "execute_result"
    }
   ],
   "source": [
    "submissions_pivot_table.groupby('course_complete').aggregate({'user_id': 'count'})"
   ],
   "metadata": {
    "collapsed": false
   }
  },
  {
   "cell_type": "code",
   "execution_count": 431,
   "outputs": [
    {
     "data": {
      "text/plain": "                 user_id\ncourse_complete         \nFalse              19191\nTrue                  43",
      "text/html": "<div>\n<style scoped>\n    .dataframe tbody tr th:only-of-type {\n        vertical-align: middle;\n    }\n\n    .dataframe tbody tr th {\n        vertical-align: top;\n    }\n\n    .dataframe thead th {\n        text-align: right;\n    }\n</style>\n<table border=\"1\" class=\"dataframe\">\n  <thead>\n    <tr style=\"text-align: right;\">\n      <th></th>\n      <th>user_id</th>\n    </tr>\n    <tr>\n      <th>course_complete</th>\n      <th></th>\n    </tr>\n  </thead>\n  <tbody>\n    <tr>\n      <th>False</th>\n      <td>19191</td>\n    </tr>\n    <tr>\n      <th>True</th>\n      <td>43</td>\n    </tr>\n  </tbody>\n</table>\n</div>"
     },
     "execution_count": 431,
     "metadata": {},
     "output_type": "execute_result"
    }
   ],
   "source": [
    "retention.groupby('course_complete').agg({'user_id': 'count'})"
   ],
   "metadata": {
    "collapsed": false
   }
  },
  {
   "cell_type": "code",
   "execution_count": 2028,
   "outputs": [
    {
     "data": {
      "text/plain": "Index(['user_id', 'first_day_correct', 'first_day_wrong', 'second_day_correct',\n       'second_day_wrong', 'correct', 'wrong', 'course_complete', 'discovered',\n       'passed', 'started_attempt', 'viewed', 'first_day_discovered',\n       'first_day_passed', 'first_day_started_attempt', 'first_day_viewed',\n       'second_day_discovered', 'second_day_passed',\n       'second_day_started_attempt', 'second_day_viewed'],\n      dtype='object')"
     },
     "execution_count": 2028,
     "metadata": {},
     "output_type": "execute_result"
    }
   ],
   "source": [
    "retention.columns"
   ],
   "metadata": {
    "collapsed": false
   }
  },
  {
   "cell_type": "code",
   "execution_count": 2029,
   "outputs": [],
   "source": [
    "retention['correct_ratio'] = (retention.second_day_correct / retention.first_day_correct).fillna(0)"
   ],
   "metadata": {
    "collapsed": false
   }
  },
  {
   "cell_type": "code",
   "execution_count": 2030,
   "outputs": [],
   "source": [
    "retention['wrong_ratio'] = (retention.second_day_wrong / retention.first_day_wrong).fillna(0)"
   ],
   "metadata": {
    "collapsed": false
   }
  },
  {
   "cell_type": "code",
   "execution_count": 2031,
   "outputs": [],
   "source": [
    "retention['discovered_ratio'] = (retention.second_day_discovered / retention.first_day_discovered).fillna(0)"
   ],
   "metadata": {
    "collapsed": false
   }
  },
  {
   "cell_type": "code",
   "execution_count": 2032,
   "outputs": [],
   "source": [
    "retention['passed_ratio'] = (retention.second_day_passed / retention.first_day_passed).fillna(0)"
   ],
   "metadata": {
    "collapsed": false
   }
  },
  {
   "cell_type": "code",
   "execution_count": 2033,
   "outputs": [],
   "source": [
    "retention['started_attempt_ratio'] = (retention.second_day_started_attempt / retention.first_day_started_attempt).fillna(0)"
   ],
   "metadata": {
    "collapsed": false
   }
  },
  {
   "cell_type": "code",
   "execution_count": 2034,
   "outputs": [],
   "source": [
    "retention['viewed_ratio'] = (retention.second_day_viewed / retention.first_day_viewed).fillna(0)"
   ],
   "metadata": {
    "collapsed": false
   }
  },
  {
   "cell_type": "code",
   "execution_count": 2035,
   "outputs": [],
   "source": [
    "retention.replace([np.inf, -np.inf], 0, inplace=True)"
   ],
   "metadata": {
    "collapsed": false
   }
  },
  {
   "cell_type": "code",
   "execution_count": 2036,
   "outputs": [],
   "source": [
    "retention_clear = retention.drop(['first_day_correct', 'first_day_wrong', 'second_day_correct',\n",
    "       'second_day_wrong', 'first_day_discovered',\n",
    "       'first_day_passed', 'first_day_started_attempt', 'first_day_viewed',\n",
    "       'second_day_discovered', 'second_day_passed',\n",
    "       'second_day_started_attempt', 'second_day_viewed'], axis=1)"
   ],
   "metadata": {
    "collapsed": false
   }
  },
  {
   "cell_type": "code",
   "execution_count": 2037,
   "outputs": [
    {
     "data": {
      "text/plain": "   user_id  first_day_correct  first_day_wrong  second_day_correct  \\\n0        2                2.0              0.0                 0.0   \n1        3                4.0              4.0                 0.0   \n2        8                9.0             21.0                 0.0   \n3       14                0.0              1.0                 0.0   \n4       16               18.0             23.0                 0.0   \n\n   second_day_wrong  correct  wrong course_complete  discovered  passed  ...  \\\n0               0.0      2.0    0.0           False           9       9  ...   \n1               0.0     29.0   23.0           False          91      87  ...   \n2               0.0      9.0   21.0           False         109      84  ...   \n3               0.0      0.0    1.0           False           4       3  ...   \n4               0.0     77.0  106.0            True         196     196  ...   \n\n   second_day_discovered  second_day_passed  second_day_started_attempt  \\\n0                    0.0                0.0                         0.0   \n1                    0.0                0.0                         0.0   \n2                    0.0                0.0                         0.0   \n3                    0.0                0.0                         0.0   \n4                    0.0                0.0                         0.0   \n\n   second_day_viewed  correct_ratio  wrong_ratio  discovered_ratio  \\\n0                0.0            0.0          0.0               0.0   \n1                0.0            0.0          0.0               0.0   \n2                0.0            0.0          0.0               0.0   \n3                0.0            0.0          0.0               0.0   \n4                0.0            0.0          0.0               0.0   \n\n   passed_ratio  started_attempt_ratio  viewed_ratio  \n0           0.0                    0.0           0.0  \n1           0.0                    0.0           0.0  \n2           0.0                    0.0           0.0  \n3           0.0                    0.0           0.0  \n4           0.0                    0.0           0.0  \n\n[5 rows x 26 columns]",
      "text/html": "<div>\n<style scoped>\n    .dataframe tbody tr th:only-of-type {\n        vertical-align: middle;\n    }\n\n    .dataframe tbody tr th {\n        vertical-align: top;\n    }\n\n    .dataframe thead th {\n        text-align: right;\n    }\n</style>\n<table border=\"1\" class=\"dataframe\">\n  <thead>\n    <tr style=\"text-align: right;\">\n      <th></th>\n      <th>user_id</th>\n      <th>first_day_correct</th>\n      <th>first_day_wrong</th>\n      <th>second_day_correct</th>\n      <th>second_day_wrong</th>\n      <th>correct</th>\n      <th>wrong</th>\n      <th>course_complete</th>\n      <th>discovered</th>\n      <th>passed</th>\n      <th>...</th>\n      <th>second_day_discovered</th>\n      <th>second_day_passed</th>\n      <th>second_day_started_attempt</th>\n      <th>second_day_viewed</th>\n      <th>correct_ratio</th>\n      <th>wrong_ratio</th>\n      <th>discovered_ratio</th>\n      <th>passed_ratio</th>\n      <th>started_attempt_ratio</th>\n      <th>viewed_ratio</th>\n    </tr>\n  </thead>\n  <tbody>\n    <tr>\n      <th>0</th>\n      <td>2</td>\n      <td>2.0</td>\n      <td>0.0</td>\n      <td>0.0</td>\n      <td>0.0</td>\n      <td>2.0</td>\n      <td>0.0</td>\n      <td>False</td>\n      <td>9</td>\n      <td>9</td>\n      <td>...</td>\n      <td>0.0</td>\n      <td>0.0</td>\n      <td>0.0</td>\n      <td>0.0</td>\n      <td>0.0</td>\n      <td>0.0</td>\n      <td>0.0</td>\n      <td>0.0</td>\n      <td>0.0</td>\n      <td>0.0</td>\n    </tr>\n    <tr>\n      <th>1</th>\n      <td>3</td>\n      <td>4.0</td>\n      <td>4.0</td>\n      <td>0.0</td>\n      <td>0.0</td>\n      <td>29.0</td>\n      <td>23.0</td>\n      <td>False</td>\n      <td>91</td>\n      <td>87</td>\n      <td>...</td>\n      <td>0.0</td>\n      <td>0.0</td>\n      <td>0.0</td>\n      <td>0.0</td>\n      <td>0.0</td>\n      <td>0.0</td>\n      <td>0.0</td>\n      <td>0.0</td>\n      <td>0.0</td>\n      <td>0.0</td>\n    </tr>\n    <tr>\n      <th>2</th>\n      <td>8</td>\n      <td>9.0</td>\n      <td>21.0</td>\n      <td>0.0</td>\n      <td>0.0</td>\n      <td>9.0</td>\n      <td>21.0</td>\n      <td>False</td>\n      <td>109</td>\n      <td>84</td>\n      <td>...</td>\n      <td>0.0</td>\n      <td>0.0</td>\n      <td>0.0</td>\n      <td>0.0</td>\n      <td>0.0</td>\n      <td>0.0</td>\n      <td>0.0</td>\n      <td>0.0</td>\n      <td>0.0</td>\n      <td>0.0</td>\n    </tr>\n    <tr>\n      <th>3</th>\n      <td>14</td>\n      <td>0.0</td>\n      <td>1.0</td>\n      <td>0.0</td>\n      <td>0.0</td>\n      <td>0.0</td>\n      <td>1.0</td>\n      <td>False</td>\n      <td>4</td>\n      <td>3</td>\n      <td>...</td>\n      <td>0.0</td>\n      <td>0.0</td>\n      <td>0.0</td>\n      <td>0.0</td>\n      <td>0.0</td>\n      <td>0.0</td>\n      <td>0.0</td>\n      <td>0.0</td>\n      <td>0.0</td>\n      <td>0.0</td>\n    </tr>\n    <tr>\n      <th>4</th>\n      <td>16</td>\n      <td>18.0</td>\n      <td>23.0</td>\n      <td>0.0</td>\n      <td>0.0</td>\n      <td>77.0</td>\n      <td>106.0</td>\n      <td>True</td>\n      <td>196</td>\n      <td>196</td>\n      <td>...</td>\n      <td>0.0</td>\n      <td>0.0</td>\n      <td>0.0</td>\n      <td>0.0</td>\n      <td>0.0</td>\n      <td>0.0</td>\n      <td>0.0</td>\n      <td>0.0</td>\n      <td>0.0</td>\n      <td>0.0</td>\n    </tr>\n  </tbody>\n</table>\n<p>5 rows × 26 columns</p>\n</div>"
     },
     "execution_count": 2037,
     "metadata": {},
     "output_type": "execute_result"
    }
   ],
   "source": [
    "retention.head()"
   ],
   "metadata": {
    "collapsed": false
   }
  },
  {
   "cell_type": "code",
   "execution_count": 2038,
   "outputs": [
    {
     "data": {
      "text/plain": "   user_id  correct  wrong course_complete  discovered  passed  \\\n0        2      2.0    0.0           False           9       9   \n1        3     29.0   23.0           False          91      87   \n2        8      9.0   21.0           False         109      84   \n3       14      0.0    1.0           False           4       3   \n4       16     77.0  106.0            True         196     196   \n\n   started_attempt  viewed  correct_ratio  wrong_ratio  discovered_ratio  \\\n0                2      10            0.0          0.0               0.0   \n1               30     192            0.0          0.0               0.0   \n2               37     156            0.0          0.0               0.0   \n3                1       9            0.0          0.0               0.0   \n4              108     651            0.0          0.0               0.0   \n\n   passed_ratio  started_attempt_ratio  viewed_ratio  \n0           0.0                    0.0           0.0  \n1           0.0                    0.0           0.0  \n2           0.0                    0.0           0.0  \n3           0.0                    0.0           0.0  \n4           0.0                    0.0           0.0  ",
      "text/html": "<div>\n<style scoped>\n    .dataframe tbody tr th:only-of-type {\n        vertical-align: middle;\n    }\n\n    .dataframe tbody tr th {\n        vertical-align: top;\n    }\n\n    .dataframe thead th {\n        text-align: right;\n    }\n</style>\n<table border=\"1\" class=\"dataframe\">\n  <thead>\n    <tr style=\"text-align: right;\">\n      <th></th>\n      <th>user_id</th>\n      <th>correct</th>\n      <th>wrong</th>\n      <th>course_complete</th>\n      <th>discovered</th>\n      <th>passed</th>\n      <th>started_attempt</th>\n      <th>viewed</th>\n      <th>correct_ratio</th>\n      <th>wrong_ratio</th>\n      <th>discovered_ratio</th>\n      <th>passed_ratio</th>\n      <th>started_attempt_ratio</th>\n      <th>viewed_ratio</th>\n    </tr>\n  </thead>\n  <tbody>\n    <tr>\n      <th>0</th>\n      <td>2</td>\n      <td>2.0</td>\n      <td>0.0</td>\n      <td>False</td>\n      <td>9</td>\n      <td>9</td>\n      <td>2</td>\n      <td>10</td>\n      <td>0.0</td>\n      <td>0.0</td>\n      <td>0.0</td>\n      <td>0.0</td>\n      <td>0.0</td>\n      <td>0.0</td>\n    </tr>\n    <tr>\n      <th>1</th>\n      <td>3</td>\n      <td>29.0</td>\n      <td>23.0</td>\n      <td>False</td>\n      <td>91</td>\n      <td>87</td>\n      <td>30</td>\n      <td>192</td>\n      <td>0.0</td>\n      <td>0.0</td>\n      <td>0.0</td>\n      <td>0.0</td>\n      <td>0.0</td>\n      <td>0.0</td>\n    </tr>\n    <tr>\n      <th>2</th>\n      <td>8</td>\n      <td>9.0</td>\n      <td>21.0</td>\n      <td>False</td>\n      <td>109</td>\n      <td>84</td>\n      <td>37</td>\n      <td>156</td>\n      <td>0.0</td>\n      <td>0.0</td>\n      <td>0.0</td>\n      <td>0.0</td>\n      <td>0.0</td>\n      <td>0.0</td>\n    </tr>\n    <tr>\n      <th>3</th>\n      <td>14</td>\n      <td>0.0</td>\n      <td>1.0</td>\n      <td>False</td>\n      <td>4</td>\n      <td>3</td>\n      <td>1</td>\n      <td>9</td>\n      <td>0.0</td>\n      <td>0.0</td>\n      <td>0.0</td>\n      <td>0.0</td>\n      <td>0.0</td>\n      <td>0.0</td>\n    </tr>\n    <tr>\n      <th>4</th>\n      <td>16</td>\n      <td>77.0</td>\n      <td>106.0</td>\n      <td>True</td>\n      <td>196</td>\n      <td>196</td>\n      <td>108</td>\n      <td>651</td>\n      <td>0.0</td>\n      <td>0.0</td>\n      <td>0.0</td>\n      <td>0.0</td>\n      <td>0.0</td>\n      <td>0.0</td>\n    </tr>\n  </tbody>\n</table>\n</div>"
     },
     "execution_count": 2038,
     "metadata": {},
     "output_type": "execute_result"
    }
   ],
   "source": [
    "retention_clear.head()"
   ],
   "metadata": {
    "collapsed": false
   }
  },
  {
   "cell_type": "code",
   "execution_count": 2039,
   "outputs": [
    {
     "data": {
      "text/plain": "Index(['user_id', 'first_day_correct', 'first_day_wrong', 'second_day_correct',\n       'second_day_wrong', 'correct', 'wrong', 'course_complete', 'discovered',\n       'passed', 'started_attempt', 'viewed', 'first_day_discovered',\n       'first_day_passed', 'first_day_started_attempt', 'first_day_viewed',\n       'second_day_discovered', 'second_day_passed',\n       'second_day_started_attempt', 'second_day_viewed', 'correct_ratio',\n       'wrong_ratio', 'discovered_ratio', 'passed_ratio',\n       'started_attempt_ratio', 'viewed_ratio'],\n      dtype='object')"
     },
     "execution_count": 2039,
     "metadata": {},
     "output_type": "execute_result"
    }
   ],
   "source": [
    "retention.columns"
   ],
   "metadata": {
    "collapsed": false
   }
  },
  {
   "cell_type": "code",
   "execution_count": 2040,
   "outputs": [
    {
     "data": {
      "text/plain": "Index(['user_id', 'correct', 'wrong', 'course_complete', 'discovered',\n       'passed', 'started_attempt', 'viewed', 'correct_ratio', 'wrong_ratio',\n       'discovered_ratio', 'passed_ratio', 'started_attempt_ratio',\n       'viewed_ratio'],\n      dtype='object')"
     },
     "execution_count": 2040,
     "metadata": {},
     "output_type": "execute_result"
    }
   ],
   "source": [
    "retention_clear.columns"
   ],
   "metadata": {
    "collapsed": false
   }
  },
  {
   "cell_type": "code",
   "execution_count": 2041,
   "outputs": [
    {
     "data": {
      "text/plain": "                 user_id\ncourse_complete         \nFalse              17266\nTrue                1968",
      "text/html": "<div>\n<style scoped>\n    .dataframe tbody tr th:only-of-type {\n        vertical-align: middle;\n    }\n\n    .dataframe tbody tr th {\n        vertical-align: top;\n    }\n\n    .dataframe thead th {\n        text-align: right;\n    }\n</style>\n<table border=\"1\" class=\"dataframe\">\n  <thead>\n    <tr style=\"text-align: right;\">\n      <th></th>\n      <th>user_id</th>\n    </tr>\n    <tr>\n      <th>course_complete</th>\n      <th></th>\n    </tr>\n  </thead>\n  <tbody>\n    <tr>\n      <th>False</th>\n      <td>17266</td>\n    </tr>\n    <tr>\n      <th>True</th>\n      <td>1968</td>\n    </tr>\n  </tbody>\n</table>\n</div>"
     },
     "execution_count": 2041,
     "metadata": {},
     "output_type": "execute_result"
    }
   ],
   "source": [
    "retention.groupby('course_complete').aggregate({'user_id':'count'})"
   ],
   "metadata": {
    "collapsed": false
   }
  },
  {
   "cell_type": "code",
   "execution_count": 1352,
   "outputs": [],
   "source": [
    "# retention[(retention.passed >= 8) | (retention.correct > 1)].count()"
   ],
   "metadata": {
    "collapsed": false
   }
  },
  {
   "cell_type": "code",
   "execution_count": 1353,
   "outputs": [],
   "source": [
    "# retention[(retention.passed < 8) | (retention.correct <= 1)].count()"
   ],
   "metadata": {
    "collapsed": false
   }
  },
  {
   "cell_type": "code",
   "execution_count": 359,
   "outputs": [
    {
     "data": {
      "text/plain": "<AxesSubplot:>"
     },
     "execution_count": 359,
     "metadata": {},
     "output_type": "execute_result"
    },
    {
     "data": {
      "text/plain": "<Figure size 640x480 with 1 Axes>",
      "image/png": "[encoded data removed]"
     },
     "metadata": {},
     "output_type": "display_data"
    }
   ],
   "source": [
    "# retention[(retention.course_complete == False) & (retention.correct < 10)].correct.hist()"
   ],
   "metadata": {
    "collapsed": false
   }
  },
  {
   "cell_type": "markdown",
   "source": [
    "### Test Data Preparation"
   ],
   "metadata": {
    "collapsed": false
   }
  },
  {
   "cell_type": "code",
   "execution_count": 2118,
   "outputs": [],
   "source": [
    "events_train_contest = pd.read_csv('https://stepik.org/media/attachments/course/4852/events_data_test.csv')"
   ],
   "metadata": {
    "collapsed": false
   }
  },
  {
   "cell_type": "code",
   "execution_count": 2119,
   "outputs": [],
   "source": [
    "submission_train_contest = pd.read_csv('https://stepik.org/media/attachments/course/4852/submission_data_test.csv')"
   ],
   "metadata": {
    "collapsed": false
   }
  },
  {
   "cell_type": "code",
   "execution_count": 2120,
   "outputs": [],
   "source": [
    "events_train_contest['date'] = pd.to_datetime(events_train_contest.timestamp, unit='s')"
   ],
   "metadata": {
    "collapsed": false
   }
  },
  {
   "cell_type": "code",
   "execution_count": 2121,
   "outputs": [],
   "source": [
    "events_train_contest['day'] = events_train.date.dt.date"
   ],
   "metadata": {
    "collapsed": false
   }
  },
  {
   "cell_type": "code",
   "execution_count": 2122,
   "outputs": [],
   "source": [
    "submission_train_contest['date'] = pd.to_datetime(submission_train_contest.timestamp, unit='s')"
   ],
   "metadata": {
    "collapsed": false
   }
  },
  {
   "cell_type": "code",
   "execution_count": 2123,
   "outputs": [],
   "source": [
    "submission_train_contest['day'] = submission_train_contest.date.dt.date"
   ],
   "metadata": {
    "collapsed": false
   }
  },
  {
   "cell_type": "code",
   "execution_count": 2124,
   "outputs": [],
   "source": [
    "start_day_events = events_train_contest[['user_id', 'day']].groupby('user_id').aggregate({'day': 'min'}).reset_index().rename(columns={'day': 'start_day'})"
   ],
   "metadata": {
    "collapsed": false
   }
  },
  {
   "cell_type": "code",
   "execution_count": 2125,
   "outputs": [],
   "source": [
    "start_day_submissions = submission_train_contest[['user_id', 'day']].groupby('user_id').aggregate({'day': 'min'}).reset_index().rename(columns={'day': 'start_day'})"
   ],
   "metadata": {
    "collapsed": false
   }
  },
  {
   "cell_type": "code",
   "execution_count": 2126,
   "outputs": [],
   "source": [
    "events_train_contest = events_train_contest.merge(start_day_events, on='user_id', how='outer').fillna(0)"
   ],
   "metadata": {
    "collapsed": false
   }
  },
  {
   "cell_type": "code",
   "execution_count": 2127,
   "outputs": [],
   "source": [
    "events_train_contest['day_number'] = events_train_contest.day - events_train_contest.start_day"
   ],
   "metadata": {
    "collapsed": false
   }
  },
  {
   "cell_type": "code",
   "execution_count": 2128,
   "outputs": [],
   "source": [
    "submission_train_contest = submission_train_contest.merge(start_day_submissions, on='user_id', how='outer').fillna(0)"
   ],
   "metadata": {
    "collapsed": false
   }
  },
  {
   "cell_type": "code",
   "execution_count": 2129,
   "outputs": [],
   "source": [
    "submission_train_contest['day_number'] = submission_train_contest.day - submission_train_contest.start_day"
   ],
   "metadata": {
    "collapsed": false
   }
  },
  {
   "cell_type": "code",
   "execution_count": 2131,
   "outputs": [],
   "source": [
    "first_timestamp_events_train = events_train_contest.groupby('user_id').aggregate({'timestamp': 'min'}).reset_index().rename(columns={'timestamp': 'first_timestamp'})"
   ],
   "metadata": {
    "collapsed": false
   }
  },
  {
   "cell_type": "code",
   "execution_count": 2132,
   "outputs": [
    {
     "data": {
      "text/plain": "   user_id  first_timestamp\n0        4       1529331707\n1        6       1546889407\n2       10       1534585756\n3       12       1537348474\n4       13       1533034354",
      "text/html": "<div>\n<style scoped>\n    .dataframe tbody tr th:only-of-type {\n        vertical-align: middle;\n    }\n\n    .dataframe tbody tr th {\n        vertical-align: top;\n    }\n\n    .dataframe thead th {\n        text-align: right;\n    }\n</style>\n<table border=\"1\" class=\"dataframe\">\n  <thead>\n    <tr style=\"text-align: right;\">\n      <th></th>\n      <th>user_id</th>\n      <th>first_timestamp</th>\n    </tr>\n  </thead>\n  <tbody>\n    <tr>\n      <th>0</th>\n      <td>4</td>\n      <td>1529331707</td>\n    </tr>\n    <tr>\n      <th>1</th>\n      <td>6</td>\n      <td>1546889407</td>\n    </tr>\n    <tr>\n      <th>2</th>\n      <td>10</td>\n      <td>1534585756</td>\n    </tr>\n    <tr>\n      <th>3</th>\n      <td>12</td>\n      <td>1537348474</td>\n    </tr>\n    <tr>\n      <th>4</th>\n      <td>13</td>\n      <td>1533034354</td>\n    </tr>\n  </tbody>\n</table>\n</div>"
     },
     "execution_count": 2132,
     "metadata": {},
     "output_type": "execute_result"
    }
   ],
   "source": [
    "first_timestamp_events_train.head()"
   ],
   "metadata": {
    "collapsed": false
   }
  },
  {
   "cell_type": "code",
   "execution_count": 2133,
   "outputs": [
    {
     "ename": "TypeError",
     "evalue": "value should be a 'Timedelta', 'NaT', or array of those. Got 'int' instead.",
     "output_type": "error",
     "traceback": [
      "\u001B[0;31m---------------------------------------------------------------------------\u001B[0m",
      "\u001B[0;31mTypeError\u001B[0m                                 Traceback (most recent call last)",
      "Cell \u001B[0;32mIn [2133], line 1\u001B[0m\n\u001B[0;32m----> 1\u001B[0m events_train_contest \u001B[38;5;241m=\u001B[39m \u001B[43mevents_train_contest\u001B[49m\u001B[38;5;241;43m.\u001B[39;49m\u001B[43mmerge\u001B[49m\u001B[43m(\u001B[49m\u001B[43mfirst_timestamp_events_train\u001B[49m\u001B[43m,\u001B[49m\u001B[43m \u001B[49m\u001B[43mon\u001B[49m\u001B[38;5;241;43m=\u001B[39;49m\u001B[38;5;124;43m'\u001B[39;49m\u001B[38;5;124;43muser_id\u001B[39;49m\u001B[38;5;124;43m'\u001B[39;49m\u001B[43m,\u001B[49m\u001B[43m \u001B[49m\u001B[43mhow\u001B[49m\u001B[38;5;241;43m=\u001B[39;49m\u001B[38;5;124;43m'\u001B[39;49m\u001B[38;5;124;43mouter\u001B[39;49m\u001B[38;5;124;43m'\u001B[39;49m\u001B[43m)\u001B[49m\u001B[38;5;241;43m.\u001B[39;49m\u001B[43mfillna\u001B[49m\u001B[43m(\u001B[49m\u001B[38;5;241;43m0\u001B[39;49m\u001B[43m)\u001B[49m\n",
      "File \u001B[0;32m~/venv/lib/python3.10/site-packages/pandas/util/_decorators.py:311\u001B[0m, in \u001B[0;36mdeprecate_nonkeyword_arguments.<locals>.decorate.<locals>.wrapper\u001B[0;34m(*args, **kwargs)\u001B[0m\n\u001B[1;32m    305\u001B[0m \u001B[38;5;28;01mif\u001B[39;00m \u001B[38;5;28mlen\u001B[39m(args) \u001B[38;5;241m>\u001B[39m num_allow_args:\n\u001B[1;32m    306\u001B[0m     warnings\u001B[38;5;241m.\u001B[39mwarn(\n\u001B[1;32m    307\u001B[0m         msg\u001B[38;5;241m.\u001B[39mformat(arguments\u001B[38;5;241m=\u001B[39marguments),\n\u001B[1;32m    308\u001B[0m         \u001B[38;5;167;01mFutureWarning\u001B[39;00m,\n\u001B[1;32m    309\u001B[0m         stacklevel\u001B[38;5;241m=\u001B[39mstacklevel,\n\u001B[1;32m    310\u001B[0m     )\n\u001B[0;32m--> 311\u001B[0m \u001B[38;5;28;01mreturn\u001B[39;00m \u001B[43mfunc\u001B[49m\u001B[43m(\u001B[49m\u001B[38;5;241;43m*\u001B[39;49m\u001B[43margs\u001B[49m\u001B[43m,\u001B[49m\u001B[43m \u001B[49m\u001B[38;5;241;43m*\u001B[39;49m\u001B[38;5;241;43m*\u001B[39;49m\u001B[43mkwargs\u001B[49m\u001B[43m)\u001B[49m\n",
      "File \u001B[0;32m~/venv/lib/python3.10/site-packages/pandas/core/frame.py:5223\u001B[0m, in \u001B[0;36mDataFrame.fillna\u001B[0;34m(self, value, method, axis, inplace, limit, downcast)\u001B[0m\n\u001B[1;32m   5212\u001B[0m \u001B[38;5;129m@deprecate_nonkeyword_arguments\u001B[39m(version\u001B[38;5;241m=\u001B[39m\u001B[38;5;28;01mNone\u001B[39;00m, allowed_args\u001B[38;5;241m=\u001B[39m[\u001B[38;5;124m\"\u001B[39m\u001B[38;5;124mself\u001B[39m\u001B[38;5;124m\"\u001B[39m, \u001B[38;5;124m\"\u001B[39m\u001B[38;5;124mvalue\u001B[39m\u001B[38;5;124m\"\u001B[39m])\n\u001B[1;32m   5213\u001B[0m \u001B[38;5;129m@doc\u001B[39m(NDFrame\u001B[38;5;241m.\u001B[39mfillna, \u001B[38;5;241m*\u001B[39m\u001B[38;5;241m*\u001B[39m_shared_doc_kwargs)\n\u001B[1;32m   5214\u001B[0m \u001B[38;5;28;01mdef\u001B[39;00m \u001B[38;5;21mfillna\u001B[39m(\n\u001B[0;32m   (...)\u001B[0m\n\u001B[1;32m   5221\u001B[0m     downcast\u001B[38;5;241m=\u001B[39m\u001B[38;5;28;01mNone\u001B[39;00m,\n\u001B[1;32m   5222\u001B[0m ) \u001B[38;5;241m-\u001B[39m\u001B[38;5;241m>\u001B[39m DataFrame \u001B[38;5;241m|\u001B[39m \u001B[38;5;28;01mNone\u001B[39;00m:\n\u001B[0;32m-> 5223\u001B[0m     \u001B[38;5;28;01mreturn\u001B[39;00m \u001B[38;5;28;43msuper\u001B[39;49m\u001B[43m(\u001B[49m\u001B[43m)\u001B[49m\u001B[38;5;241;43m.\u001B[39;49m\u001B[43mfillna\u001B[49m\u001B[43m(\u001B[49m\n\u001B[1;32m   5224\u001B[0m \u001B[43m        \u001B[49m\u001B[43mvalue\u001B[49m\u001B[38;5;241;43m=\u001B[39;49m\u001B[43mvalue\u001B[49m\u001B[43m,\u001B[49m\n\u001B[1;32m   5225\u001B[0m \u001B[43m        \u001B[49m\u001B[43mmethod\u001B[49m\u001B[38;5;241;43m=\u001B[39;49m\u001B[43mmethod\u001B[49m\u001B[43m,\u001B[49m\n\u001B[1;32m   5226\u001B[0m \u001B[43m        \u001B[49m\u001B[43maxis\u001B[49m\u001B[38;5;241;43m=\u001B[39;49m\u001B[43maxis\u001B[49m\u001B[43m,\u001B[49m\n\u001B[1;32m   5227\u001B[0m \u001B[43m        \u001B[49m\u001B[43minplace\u001B[49m\u001B[38;5;241;43m=\u001B[39;49m\u001B[43minplace\u001B[49m\u001B[43m,\u001B[49m\n\u001B[1;32m   5228\u001B[0m \u001B[43m        \u001B[49m\u001B[43mlimit\u001B[49m\u001B[38;5;241;43m=\u001B[39;49m\u001B[43mlimit\u001B[49m\u001B[43m,\u001B[49m\n\u001B[1;32m   5229\u001B[0m \u001B[43m        \u001B[49m\u001B[43mdowncast\u001B[49m\u001B[38;5;241;43m=\u001B[39;49m\u001B[43mdowncast\u001B[49m\u001B[43m,\u001B[49m\n\u001B[1;32m   5230\u001B[0m \u001B[43m    \u001B[49m\u001B[43m)\u001B[49m\n",
      "File \u001B[0;32m~/venv/lib/python3.10/site-packages/pandas/core/generic.py:6503\u001B[0m, in \u001B[0;36mNDFrame.fillna\u001B[0;34m(self, value, method, axis, inplace, limit, downcast)\u001B[0m\n\u001B[1;32m   6500\u001B[0m         new_data \u001B[38;5;241m=\u001B[39m result\n\u001B[1;32m   6501\u001B[0m     \u001B[38;5;28;01melse\u001B[39;00m:\n\u001B[0;32m-> 6503\u001B[0m         new_data \u001B[38;5;241m=\u001B[39m \u001B[38;5;28;43mself\u001B[39;49m\u001B[38;5;241;43m.\u001B[39;49m\u001B[43m_mgr\u001B[49m\u001B[38;5;241;43m.\u001B[39;49m\u001B[43mfillna\u001B[49m\u001B[43m(\u001B[49m\n\u001B[1;32m   6504\u001B[0m \u001B[43m            \u001B[49m\u001B[43mvalue\u001B[49m\u001B[38;5;241;43m=\u001B[39;49m\u001B[43mvalue\u001B[49m\u001B[43m,\u001B[49m\u001B[43m \u001B[49m\u001B[43mlimit\u001B[49m\u001B[38;5;241;43m=\u001B[39;49m\u001B[43mlimit\u001B[49m\u001B[43m,\u001B[49m\u001B[43m \u001B[49m\u001B[43minplace\u001B[49m\u001B[38;5;241;43m=\u001B[39;49m\u001B[43minplace\u001B[49m\u001B[43m,\u001B[49m\u001B[43m \u001B[49m\u001B[43mdowncast\u001B[49m\u001B[38;5;241;43m=\u001B[39;49m\u001B[43mdowncast\u001B[49m\n\u001B[1;32m   6505\u001B[0m \u001B[43m        \u001B[49m\u001B[43m)\u001B[49m\n\u001B[1;32m   6506\u001B[0m \u001B[38;5;28;01melif\u001B[39;00m \u001B[38;5;28misinstance\u001B[39m(value, ABCDataFrame) \u001B[38;5;129;01mand\u001B[39;00m \u001B[38;5;28mself\u001B[39m\u001B[38;5;241m.\u001B[39mndim \u001B[38;5;241m==\u001B[39m \u001B[38;5;241m2\u001B[39m:\n\u001B[1;32m   6508\u001B[0m     new_data \u001B[38;5;241m=\u001B[39m \u001B[38;5;28mself\u001B[39m\u001B[38;5;241m.\u001B[39mwhere(\u001B[38;5;28mself\u001B[39m\u001B[38;5;241m.\u001B[39mnotna(), value)\u001B[38;5;241m.\u001B[39m_mgr\n",
      "File \u001B[0;32m~/venv/lib/python3.10/site-packages/pandas/core/internals/managers.py:414\u001B[0m, in \u001B[0;36mBaseBlockManager.fillna\u001B[0;34m(self, value, limit, inplace, downcast)\u001B[0m\n\u001B[1;32m    413\u001B[0m \u001B[38;5;28;01mdef\u001B[39;00m \u001B[38;5;21mfillna\u001B[39m(\u001B[38;5;28mself\u001B[39m: T, value, limit, inplace: \u001B[38;5;28mbool\u001B[39m, downcast) \u001B[38;5;241m-\u001B[39m\u001B[38;5;241m>\u001B[39m T:\n\u001B[0;32m--> 414\u001B[0m     \u001B[38;5;28;01mreturn\u001B[39;00m \u001B[38;5;28;43mself\u001B[39;49m\u001B[38;5;241;43m.\u001B[39;49m\u001B[43mapply\u001B[49m\u001B[43m(\u001B[49m\n\u001B[1;32m    415\u001B[0m \u001B[43m        \u001B[49m\u001B[38;5;124;43m\"\u001B[39;49m\u001B[38;5;124;43mfillna\u001B[39;49m\u001B[38;5;124;43m\"\u001B[39;49m\u001B[43m,\u001B[49m\u001B[43m \u001B[49m\u001B[43mvalue\u001B[49m\u001B[38;5;241;43m=\u001B[39;49m\u001B[43mvalue\u001B[49m\u001B[43m,\u001B[49m\u001B[43m \u001B[49m\u001B[43mlimit\u001B[49m\u001B[38;5;241;43m=\u001B[39;49m\u001B[43mlimit\u001B[49m\u001B[43m,\u001B[49m\u001B[43m \u001B[49m\u001B[43minplace\u001B[49m\u001B[38;5;241;43m=\u001B[39;49m\u001B[43minplace\u001B[49m\u001B[43m,\u001B[49m\u001B[43m \u001B[49m\u001B[43mdowncast\u001B[49m\u001B[38;5;241;43m=\u001B[39;49m\u001B[43mdowncast\u001B[49m\n\u001B[1;32m    416\u001B[0m \u001B[43m    \u001B[49m\u001B[43m)\u001B[49m\n",
      "File \u001B[0;32m~/venv/lib/python3.10/site-packages/pandas/core/internals/managers.py:304\u001B[0m, in \u001B[0;36mBaseBlockManager.apply\u001B[0;34m(self, f, align_keys, ignore_failures, **kwargs)\u001B[0m\n\u001B[1;32m    302\u001B[0m         applied \u001B[38;5;241m=\u001B[39m b\u001B[38;5;241m.\u001B[39mapply(f, \u001B[38;5;241m*\u001B[39m\u001B[38;5;241m*\u001B[39mkwargs)\n\u001B[1;32m    303\u001B[0m     \u001B[38;5;28;01melse\u001B[39;00m:\n\u001B[0;32m--> 304\u001B[0m         applied \u001B[38;5;241m=\u001B[39m \u001B[38;5;28;43mgetattr\u001B[39;49m\u001B[43m(\u001B[49m\u001B[43mb\u001B[49m\u001B[43m,\u001B[49m\u001B[43m \u001B[49m\u001B[43mf\u001B[49m\u001B[43m)\u001B[49m\u001B[43m(\u001B[49m\u001B[38;5;241;43m*\u001B[39;49m\u001B[38;5;241;43m*\u001B[39;49m\u001B[43mkwargs\u001B[49m\u001B[43m)\u001B[49m\n\u001B[1;32m    305\u001B[0m \u001B[38;5;28;01mexcept\u001B[39;00m (\u001B[38;5;167;01mTypeError\u001B[39;00m, \u001B[38;5;167;01mNotImplementedError\u001B[39;00m):\n\u001B[1;32m    306\u001B[0m     \u001B[38;5;28;01mif\u001B[39;00m \u001B[38;5;129;01mnot\u001B[39;00m ignore_failures:\n",
      "File \u001B[0;32m~/venv/lib/python3.10/site-packages/pandas/core/internals/blocks.py:1855\u001B[0m, in \u001B[0;36mNDArrayBackedExtensionBlock.fillna\u001B[0;34m(self, value, limit, inplace, downcast)\u001B[0m\n\u001B[1;32m   1847\u001B[0m \u001B[38;5;28;01mif\u001B[39;00m \u001B[38;5;129;01mnot\u001B[39;00m \u001B[38;5;28mself\u001B[39m\u001B[38;5;241m.\u001B[39m_can_hold_element(value) \u001B[38;5;129;01mand\u001B[39;00m \u001B[38;5;28mself\u001B[39m\u001B[38;5;241m.\u001B[39mdtype\u001B[38;5;241m.\u001B[39mkind \u001B[38;5;241m!=\u001B[39m \u001B[38;5;124m\"\u001B[39m\u001B[38;5;124mm\u001B[39m\u001B[38;5;124m\"\u001B[39m:\n\u001B[1;32m   1848\u001B[0m     \u001B[38;5;66;03m# We support filling a DatetimeTZ with a `value` whose timezone\u001B[39;00m\n\u001B[1;32m   1849\u001B[0m     \u001B[38;5;66;03m#  is different by coercing to object.\u001B[39;00m\n\u001B[1;32m   1850\u001B[0m     \u001B[38;5;66;03m# TODO: don't special-case td64\u001B[39;00m\n\u001B[1;32m   1851\u001B[0m     \u001B[38;5;28;01mreturn\u001B[39;00m \u001B[38;5;28mself\u001B[39m\u001B[38;5;241m.\u001B[39mcoerce_to_target_dtype(value)\u001B[38;5;241m.\u001B[39mfillna(\n\u001B[1;32m   1852\u001B[0m         value, limit, inplace, downcast\n\u001B[1;32m   1853\u001B[0m     )\n\u001B[0;32m-> 1855\u001B[0m new_values \u001B[38;5;241m=\u001B[39m \u001B[38;5;28;43mself\u001B[39;49m\u001B[38;5;241;43m.\u001B[39;49m\u001B[43mvalues\u001B[49m\u001B[38;5;241;43m.\u001B[39;49m\u001B[43mfillna\u001B[49m\u001B[43m(\u001B[49m\u001B[43mvalue\u001B[49m\u001B[38;5;241;43m=\u001B[39;49m\u001B[43mvalue\u001B[49m\u001B[43m,\u001B[49m\u001B[43m \u001B[49m\u001B[43mlimit\u001B[49m\u001B[38;5;241;43m=\u001B[39;49m\u001B[43mlimit\u001B[49m\u001B[43m)\u001B[49m\n\u001B[1;32m   1856\u001B[0m \u001B[38;5;28;01mreturn\u001B[39;00m [\u001B[38;5;28mself\u001B[39m\u001B[38;5;241m.\u001B[39mmake_block_same_class(values\u001B[38;5;241m=\u001B[39mnew_values)]\n",
      "File \u001B[0;32m~/venv/lib/python3.10/site-packages/pandas/core/arrays/_mixins.py:328\u001B[0m, in \u001B[0;36mNDArrayBackedExtensionArray.fillna\u001B[0;34m(self, value, method, limit)\u001B[0m\n\u001B[1;32m    325\u001B[0m \u001B[38;5;28;01melse\u001B[39;00m:\n\u001B[1;32m    326\u001B[0m     \u001B[38;5;66;03m# We validate the fill_value even if there is nothing to fill\u001B[39;00m\n\u001B[1;32m    327\u001B[0m     \u001B[38;5;28;01mif\u001B[39;00m value \u001B[38;5;129;01mis\u001B[39;00m \u001B[38;5;129;01mnot\u001B[39;00m \u001B[38;5;28;01mNone\u001B[39;00m:\n\u001B[0;32m--> 328\u001B[0m         \u001B[38;5;28;43mself\u001B[39;49m\u001B[38;5;241;43m.\u001B[39;49m\u001B[43m_validate_setitem_value\u001B[49m\u001B[43m(\u001B[49m\u001B[43mvalue\u001B[49m\u001B[43m)\u001B[49m\n\u001B[1;32m    330\u001B[0m     new_values \u001B[38;5;241m=\u001B[39m \u001B[38;5;28mself\u001B[39m\u001B[38;5;241m.\u001B[39mcopy()\n\u001B[1;32m    331\u001B[0m \u001B[38;5;28;01mreturn\u001B[39;00m new_values\n",
      "File \u001B[0;32m~/venv/lib/python3.10/site-packages/pandas/core/arrays/datetimelike.py:743\u001B[0m, in \u001B[0;36mDatetimeLikeArrayMixin._validate_setitem_value\u001B[0;34m(self, value)\u001B[0m\n\u001B[1;32m    741\u001B[0m     value \u001B[38;5;241m=\u001B[39m \u001B[38;5;28mself\u001B[39m\u001B[38;5;241m.\u001B[39m_validate_listlike(value)\n\u001B[1;32m    742\u001B[0m \u001B[38;5;28;01melse\u001B[39;00m:\n\u001B[0;32m--> 743\u001B[0m     \u001B[38;5;28;01mreturn\u001B[39;00m \u001B[38;5;28;43mself\u001B[39;49m\u001B[38;5;241;43m.\u001B[39;49m\u001B[43m_validate_scalar\u001B[49m\u001B[43m(\u001B[49m\u001B[43mvalue\u001B[49m\u001B[43m,\u001B[49m\u001B[43m \u001B[49m\u001B[43mallow_listlike\u001B[49m\u001B[38;5;241;43m=\u001B[39;49m\u001B[38;5;28;43;01mTrue\u001B[39;49;00m\u001B[43m)\u001B[49m\n\u001B[1;32m    745\u001B[0m \u001B[38;5;28;01mreturn\u001B[39;00m \u001B[38;5;28mself\u001B[39m\u001B[38;5;241m.\u001B[39m_unbox(value, setitem\u001B[38;5;241m=\u001B[39m\u001B[38;5;28;01mTrue\u001B[39;00m)\n",
      "File \u001B[0;32m~/venv/lib/python3.10/site-packages/pandas/core/arrays/datetimelike.py:644\u001B[0m, in \u001B[0;36mDatetimeLikeArrayMixin._validate_scalar\u001B[0;34m(self, value, allow_listlike, setitem, unbox)\u001B[0m\n\u001B[1;32m    642\u001B[0m \u001B[38;5;28;01melse\u001B[39;00m:\n\u001B[1;32m    643\u001B[0m     msg \u001B[38;5;241m=\u001B[39m \u001B[38;5;28mself\u001B[39m\u001B[38;5;241m.\u001B[39m_validation_error_message(value, allow_listlike)\n\u001B[0;32m--> 644\u001B[0m     \u001B[38;5;28;01mraise\u001B[39;00m \u001B[38;5;167;01mTypeError\u001B[39;00m(msg)\n\u001B[1;32m    646\u001B[0m \u001B[38;5;28;01mif\u001B[39;00m \u001B[38;5;129;01mnot\u001B[39;00m unbox:\n\u001B[1;32m    647\u001B[0m     \u001B[38;5;66;03m# NB: In general NDArrayBackedExtensionArray will unbox here;\u001B[39;00m\n\u001B[1;32m    648\u001B[0m     \u001B[38;5;66;03m#  this option exists to prevent a performance hit in\u001B[39;00m\n\u001B[1;32m    649\u001B[0m     \u001B[38;5;66;03m#  TimedeltaIndex.get_loc\u001B[39;00m\n\u001B[1;32m    650\u001B[0m     \u001B[38;5;28;01mreturn\u001B[39;00m value\n",
      "\u001B[0;31mTypeError\u001B[0m: value should be a 'Timedelta', 'NaT', or array of those. Got 'int' instead."
     ]
    }
   ],
   "source": [
    "events_train_contest = events_train_contest.merge(first_timestamp_events_train, on='user_id', how='outer').fillna(0)"
   ],
   "metadata": {
    "collapsed": false
   }
  },
  {
   "cell_type": "code",
   "execution_count": null,
   "outputs": [],
   "source": [],
   "metadata": {
    "collapsed": false
   }
  },
  {
   "cell_type": "code",
   "execution_count": null,
   "outputs": [],
   "source": [],
   "metadata": {
    "collapsed": false
   }
  },
  {
   "cell_type": "code",
   "execution_count": null,
   "outputs": [],
   "source": [],
   "metadata": {
    "collapsed": false
   }
  },
  {
   "cell_type": "code",
   "execution_count": 2076,
   "outputs": [],
   "source": [
    "events_first_day_sm = events_train_contest[events_train_contest.day_number == '0 days'].pivot_table(index='user_id', columns='action', values='step_id', aggfunc='count', fill_value=0).reset_index().rename(columns={'viewed': 'first_day_viewed', 'passed': 'first_day_passed', 'discovered': 'first_day_discovered', 'started_attempt':'first_day_started_attempt'})"
   ],
   "metadata": {
    "collapsed": false
   }
  },
  {
   "cell_type": "code",
   "execution_count": 2077,
   "outputs": [],
   "source": [
    "events_second_day_sm = events_train_contest[events_train_contest.day_number == '1 days'].pivot_table(index='user_id', columns='action', values='step_id', aggfunc='count', fill_value=0).reset_index().rename(columns={'viewed': 'second_day_viewed', 'passed': 'second_day_passed', 'discovered': 'second_day_discovered', 'started_attempt':'second_day_started_attempt'})"
   ],
   "metadata": {
    "collapsed": false
   }
  },
  {
   "cell_type": "code",
   "execution_count": 2078,
   "outputs": [],
   "source": [
    "events_pivot_sm = events_train_contest.pivot_table(index='user_id', columns='action', values='step_id', aggfunc='count', fill_value=0).reset_index()"
   ],
   "metadata": {
    "collapsed": false
   }
  },
  {
   "cell_type": "code",
   "execution_count": 2079,
   "outputs": [],
   "source": [
    "events_pivot_sm = events_pivot_sm.merge(events_first_day_sm, on='user_id', how='outer').fillna(0)"
   ],
   "metadata": {
    "collapsed": false
   }
  },
  {
   "cell_type": "code",
   "execution_count": 2080,
   "outputs": [],
   "source": [
    "events_pivot_sm = events_pivot_sm.merge(events_second_day_sm, on='user_id', how='outer').fillna(0)"
   ],
   "metadata": {
    "collapsed": false
   }
  },
  {
   "cell_type": "code",
   "execution_count": 2081,
   "outputs": [],
   "source": [
    "submission_first_day_sm = submission_train_contest[submission_train_contest.day_number == '0 days'].pivot_table(index='user_id', columns='submission_status', values='step_id', aggfunc='count', fill_value=0).reset_index().rename(columns={'correct': 'first_day_correct', 'wrong': 'first_day_wrong'})"
   ],
   "metadata": {
    "collapsed": false
   }
  },
  {
   "cell_type": "code",
   "execution_count": 2082,
   "outputs": [],
   "source": [
    "submissions_second_day_sm = submission_train_contest[submission_train_contest.day_number == '1 days'].pivot_table(index='user_id', columns='submission_status', values='step_id', aggfunc='count', fill_value=0).reset_index().rename(columns={'correct': 'second_day_correct', 'wrong': 'second_day_wrong'})"
   ],
   "metadata": {
    "collapsed": false
   }
  },
  {
   "cell_type": "code",
   "execution_count": 2083,
   "outputs": [],
   "source": [
    "submissions_pivot_sm = submission_train_contest.pivot_table(index='user_id', columns='submission_status', values='step_id', aggfunc='count', fill_value=0).reset_index()"
   ],
   "metadata": {
    "collapsed": false
   }
  },
  {
   "cell_type": "code",
   "execution_count": 2084,
   "outputs": [],
   "source": [
    "submissions_pivot_sm = submissions_pivot_sm.merge(submission_first_day_sm, on='user_id', how='outer').fillna(0)"
   ],
   "metadata": {
    "collapsed": false
   }
  },
  {
   "cell_type": "code",
   "execution_count": 2085,
   "outputs": [],
   "source": [
    "submissions_pivot_sm = submissions_pivot_sm.merge(submissions_second_day_sm, on='user_id', how='outer').fillna(0)"
   ],
   "metadata": {
    "collapsed": false
   }
  },
  {
   "cell_type": "code",
   "execution_count": 2086,
   "outputs": [],
   "source": [
    "retention_sm = events_pivot_sm.merge(submissions_pivot_sm, on='user_id', how='outer').fillna(0)"
   ],
   "metadata": {
    "collapsed": false
   }
  },
  {
   "cell_type": "code",
   "execution_count": 2087,
   "outputs": [],
   "source": [
    "retention_sm['correct_ratio'] = (retention_sm.second_day_correct / retention_sm.first_day_correct).fillna(0)"
   ],
   "metadata": {
    "collapsed": false
   }
  },
  {
   "cell_type": "code",
   "execution_count": 2088,
   "outputs": [],
   "source": [
    "retention_sm['wrong_ratio'] = (retention_sm.second_day_wrong / retention_sm.first_day_wrong).fillna(0)"
   ],
   "metadata": {
    "collapsed": false
   }
  },
  {
   "cell_type": "code",
   "execution_count": 2089,
   "outputs": [],
   "source": [
    "retention_sm['discovered_ratio'] = (retention_sm.second_day_discovered / retention_sm.first_day_discovered).fillna(0)"
   ],
   "metadata": {
    "collapsed": false
   }
  },
  {
   "cell_type": "code",
   "execution_count": 2090,
   "outputs": [],
   "source": [
    "retention_sm['passed_ratio'] = (retention_sm.second_day_passed / retention_sm.first_day_passed).fillna(0)"
   ],
   "metadata": {
    "collapsed": false
   }
  },
  {
   "cell_type": "code",
   "execution_count": 2091,
   "outputs": [],
   "source": [
    "retention_sm['started_attempt_ratio'] = (retention_sm.second_day_started_attempt / retention_sm.first_day_started_attempt).fillna(0)"
   ],
   "metadata": {
    "collapsed": false
   }
  },
  {
   "cell_type": "code",
   "execution_count": 2092,
   "outputs": [],
   "source": [
    "retention_sm['viewed_ratio'] = (retention_sm.second_day_viewed / retention_sm.first_day_viewed).fillna(0)"
   ],
   "metadata": {
    "collapsed": false
   }
  },
  {
   "cell_type": "code",
   "execution_count": 2093,
   "outputs": [],
   "source": [
    "retention_sm.replace([np.inf, -np.inf], 0, inplace=True)"
   ],
   "metadata": {
    "collapsed": false
   }
  },
  {
   "cell_type": "code",
   "execution_count": 2094,
   "outputs": [],
   "source": [
    "retention_clear_sm = retention_sm.drop(['first_day_correct', 'first_day_wrong', 'second_day_correct',\n",
    "       'second_day_wrong', 'first_day_discovered',\n",
    "       'first_day_passed', 'first_day_started_attempt', 'first_day_viewed',\n",
    "       'second_day_discovered', 'second_day_passed',\n",
    "       'second_day_started_attempt', 'second_day_viewed'], axis=1)"
   ],
   "metadata": {
    "collapsed": false
   }
  },
  {
   "cell_type": "code",
   "execution_count": 2095,
   "outputs": [
    {
     "data": {
      "text/plain": "   user_id  discovered  passed  started_attempt  viewed  correct  wrong  \\\n0        4           1       1                0       1      0.0    0.0   \n1        6           1       1                0       1      0.0    0.0   \n2       10           2       2                0       6      0.0    0.0   \n3       12          11       9                4      14      1.0    0.0   \n4       13          70      70               35     105     29.0   36.0   \n\n   correct_ratio  wrong_ratio  discovered_ratio  passed_ratio  \\\n0         0.0000     0.000000               0.0           0.0   \n1         0.0000     0.000000               0.0           0.0   \n2         0.0000     0.000000               0.0           0.0   \n3         0.0000     0.000000               0.0           0.0   \n4         0.8125     0.384615               0.0           0.0   \n\n   started_attempt_ratio  viewed_ratio  \n0                    0.0           0.0  \n1                    0.0           0.0  \n2                    0.0           0.0  \n3                    0.0           0.0  \n4                    0.0           0.0  ",
      "text/html": "<div>\n<style scoped>\n    .dataframe tbody tr th:only-of-type {\n        vertical-align: middle;\n    }\n\n    .dataframe tbody tr th {\n        vertical-align: top;\n    }\n\n    .dataframe thead th {\n        text-align: right;\n    }\n</style>\n<table border=\"1\" class=\"dataframe\">\n  <thead>\n    <tr style=\"text-align: right;\">\n      <th></th>\n      <th>user_id</th>\n      <th>discovered</th>\n      <th>passed</th>\n      <th>started_attempt</th>\n      <th>viewed</th>\n      <th>correct</th>\n      <th>wrong</th>\n      <th>correct_ratio</th>\n      <th>wrong_ratio</th>\n      <th>discovered_ratio</th>\n      <th>passed_ratio</th>\n      <th>started_attempt_ratio</th>\n      <th>viewed_ratio</th>\n    </tr>\n  </thead>\n  <tbody>\n    <tr>\n      <th>0</th>\n      <td>4</td>\n      <td>1</td>\n      <td>1</td>\n      <td>0</td>\n      <td>1</td>\n      <td>0.0</td>\n      <td>0.0</td>\n      <td>0.0000</td>\n      <td>0.000000</td>\n      <td>0.0</td>\n      <td>0.0</td>\n      <td>0.0</td>\n      <td>0.0</td>\n    </tr>\n    <tr>\n      <th>1</th>\n      <td>6</td>\n      <td>1</td>\n      <td>1</td>\n      <td>0</td>\n      <td>1</td>\n      <td>0.0</td>\n      <td>0.0</td>\n      <td>0.0000</td>\n      <td>0.000000</td>\n      <td>0.0</td>\n      <td>0.0</td>\n      <td>0.0</td>\n      <td>0.0</td>\n    </tr>\n    <tr>\n      <th>2</th>\n      <td>10</td>\n      <td>2</td>\n      <td>2</td>\n      <td>0</td>\n      <td>6</td>\n      <td>0.0</td>\n      <td>0.0</td>\n      <td>0.0000</td>\n      <td>0.000000</td>\n      <td>0.0</td>\n      <td>0.0</td>\n      <td>0.0</td>\n      <td>0.0</td>\n    </tr>\n    <tr>\n      <th>3</th>\n      <td>12</td>\n      <td>11</td>\n      <td>9</td>\n      <td>4</td>\n      <td>14</td>\n      <td>1.0</td>\n      <td>0.0</td>\n      <td>0.0000</td>\n      <td>0.000000</td>\n      <td>0.0</td>\n      <td>0.0</td>\n      <td>0.0</td>\n      <td>0.0</td>\n    </tr>\n    <tr>\n      <th>4</th>\n      <td>13</td>\n      <td>70</td>\n      <td>70</td>\n      <td>35</td>\n      <td>105</td>\n      <td>29.0</td>\n      <td>36.0</td>\n      <td>0.8125</td>\n      <td>0.384615</td>\n      <td>0.0</td>\n      <td>0.0</td>\n      <td>0.0</td>\n      <td>0.0</td>\n    </tr>\n  </tbody>\n</table>\n</div>"
     },
     "execution_count": 2095,
     "metadata": {},
     "output_type": "execute_result"
    }
   ],
   "source": [
    "retention_clear_sm.head()"
   ],
   "metadata": {
    "collapsed": false
   }
  },
  {
   "cell_type": "code",
   "execution_count": 2097,
   "outputs": [
    {
     "data": {
      "text/plain": "Index(['user_id', 'discovered', 'passed', 'started_attempt', 'viewed',\n       'first_day_discovered', 'first_day_passed', 'first_day_started_attempt',\n       'first_day_viewed', 'second_day_discovered', 'second_day_passed',\n       'second_day_started_attempt', 'second_day_viewed', 'correct', 'wrong',\n       'first_day_correct', 'first_day_wrong', 'second_day_correct',\n       'second_day_wrong', 'correct_ratio', 'wrong_ratio', 'discovered_ratio',\n       'passed_ratio', 'started_attempt_ratio', 'viewed_ratio'],\n      dtype='object')"
     },
     "execution_count": 2097,
     "metadata": {},
     "output_type": "execute_result"
    }
   ],
   "source": [
    "retention_sm.columns"
   ],
   "metadata": {
    "collapsed": false
   }
  },
  {
   "cell_type": "code",
   "execution_count": 2101,
   "outputs": [],
   "source": [
    "X_test = retention_sm.drop(['first_day_correct', 'first_day_wrong', 'second_day_correct',\n",
    "       'second_day_wrong', 'correct_ratio', 'wrong_ratio', 'discovered_ratio',\n",
    "       'passed_ratio', 'started_attempt_ratio', 'viewed_ratio'], axis=1)"
   ],
   "metadata": {
    "collapsed": false
   }
  },
  {
   "cell_type": "code",
   "execution_count": 1354,
   "outputs": [
    {
     "data": {
      "text/plain": "                 user_id\ncourse_complete         \nFalse              17491\nTrue                1743",
      "text/html": "<div>\n<style scoped>\n    .dataframe tbody tr th:only-of-type {\n        vertical-align: middle;\n    }\n\n    .dataframe tbody tr th {\n        vertical-align: top;\n    }\n\n    .dataframe thead th {\n        text-align: right;\n    }\n</style>\n<table border=\"1\" class=\"dataframe\">\n  <thead>\n    <tr style=\"text-align: right;\">\n      <th></th>\n      <th>user_id</th>\n    </tr>\n    <tr>\n      <th>course_complete</th>\n      <th></th>\n    </tr>\n  </thead>\n  <tbody>\n    <tr>\n      <th>False</th>\n      <td>17491</td>\n    </tr>\n    <tr>\n      <th>True</th>\n      <td>1743</td>\n    </tr>\n  </tbody>\n</table>\n</div>"
     },
     "execution_count": 1354,
     "metadata": {},
     "output_type": "execute_result"
    }
   ],
   "source": [
    "retention_clear.groupby('course_complete').agg({'user_id': 'count'})"
   ],
   "metadata": {
    "collapsed": false
   }
  },
  {
   "cell_type": "code",
   "execution_count": 1069,
   "outputs": [
    {
     "data": {
      "text/plain": "       user_id  correct  wrong  course_complete  discovered  passed  \\\n0            2      2.0    0.0            False           9       9   \n1            3      4.0    4.0             True          15      15   \n2            5      2.0    2.0            False           1       1   \n3            8      9.0   21.0             True         109      84   \n4           14      0.0    1.0            False           4       3   \n...        ...      ...    ...              ...         ...     ...   \n19229    26773      0.0    0.0            False           1       1   \n19230    26774      0.0    0.0            False           1       1   \n19231    26788      0.0    0.0            False           1       1   \n19232    26789      0.0    0.0            False           2       2   \n19233    26793      0.0    0.0            False           1       0   \n\n       started_attempt  viewed  \n0                    2       9  \n1                    4      20  \n2                    0       1  \n3                   37     154  \n4                    1       9  \n...                ...     ...  \n19229                0       1  \n19230                0       1  \n19231                0       1  \n19232                0       2  \n19233                1       1  \n\n[19234 rows x 8 columns]",
      "text/html": "<div>\n<style scoped>\n    .dataframe tbody tr th:only-of-type {\n        vertical-align: middle;\n    }\n\n    .dataframe tbody tr th {\n        vertical-align: top;\n    }\n\n    .dataframe thead th {\n        text-align: right;\n    }\n</style>\n<table border=\"1\" class=\"dataframe\">\n  <thead>\n    <tr style=\"text-align: right;\">\n      <th></th>\n      <th>user_id</th>\n      <th>correct</th>\n      <th>wrong</th>\n      <th>course_complete</th>\n      <th>discovered</th>\n      <th>passed</th>\n      <th>started_attempt</th>\n      <th>viewed</th>\n    </tr>\n  </thead>\n  <tbody>\n    <tr>\n      <th>0</th>\n      <td>2</td>\n      <td>2.0</td>\n      <td>0.0</td>\n      <td>False</td>\n      <td>9</td>\n      <td>9</td>\n      <td>2</td>\n      <td>9</td>\n    </tr>\n    <tr>\n      <th>1</th>\n      <td>3</td>\n      <td>4.0</td>\n      <td>4.0</td>\n      <td>True</td>\n      <td>15</td>\n      <td>15</td>\n      <td>4</td>\n      <td>20</td>\n    </tr>\n    <tr>\n      <th>2</th>\n      <td>5</td>\n      <td>2.0</td>\n      <td>2.0</td>\n      <td>False</td>\n      <td>1</td>\n      <td>1</td>\n      <td>0</td>\n      <td>1</td>\n    </tr>\n    <tr>\n      <th>3</th>\n      <td>8</td>\n      <td>9.0</td>\n      <td>21.0</td>\n      <td>True</td>\n      <td>109</td>\n      <td>84</td>\n      <td>37</td>\n      <td>154</td>\n    </tr>\n    <tr>\n      <th>4</th>\n      <td>14</td>\n      <td>0.0</td>\n      <td>1.0</td>\n      <td>False</td>\n      <td>4</td>\n      <td>3</td>\n      <td>1</td>\n      <td>9</td>\n    </tr>\n    <tr>\n      <th>...</th>\n      <td>...</td>\n      <td>...</td>\n      <td>...</td>\n      <td>...</td>\n      <td>...</td>\n      <td>...</td>\n      <td>...</td>\n      <td>...</td>\n    </tr>\n    <tr>\n      <th>19229</th>\n      <td>26773</td>\n      <td>0.0</td>\n      <td>0.0</td>\n      <td>False</td>\n      <td>1</td>\n      <td>1</td>\n      <td>0</td>\n      <td>1</td>\n    </tr>\n    <tr>\n      <th>19230</th>\n      <td>26774</td>\n      <td>0.0</td>\n      <td>0.0</td>\n      <td>False</td>\n      <td>1</td>\n      <td>1</td>\n      <td>0</td>\n      <td>1</td>\n    </tr>\n    <tr>\n      <th>19231</th>\n      <td>26788</td>\n      <td>0.0</td>\n      <td>0.0</td>\n      <td>False</td>\n      <td>1</td>\n      <td>1</td>\n      <td>0</td>\n      <td>1</td>\n    </tr>\n    <tr>\n      <th>19232</th>\n      <td>26789</td>\n      <td>0.0</td>\n      <td>0.0</td>\n      <td>False</td>\n      <td>2</td>\n      <td>2</td>\n      <td>0</td>\n      <td>2</td>\n    </tr>\n    <tr>\n      <th>19233</th>\n      <td>26793</td>\n      <td>0.0</td>\n      <td>0.0</td>\n      <td>False</td>\n      <td>1</td>\n      <td>0</td>\n      <td>1</td>\n      <td>1</td>\n    </tr>\n  </tbody>\n</table>\n<p>19234 rows × 8 columns</p>\n</div>"
     },
     "execution_count": 1069,
     "metadata": {},
     "output_type": "execute_result"
    }
   ],
   "source": [
    "retention_clear[['user_id', 'correct', 'wrong', 'course_complete', 'discovered',\n",
    "       'passed', 'started_attempt', 'viewed']]"
   ],
   "metadata": {
    "collapsed": false
   }
  },
  {
   "cell_type": "code",
   "execution_count": 1041,
   "outputs": [
    {
     "name": "stdout",
     "output_type": "stream",
     "text": [
      "<class 'pandas.core.frame.DataFrame'>\n",
      "Int64Index: 19234 entries, 0 to 19233\n",
      "Data columns (total 26 columns):\n",
      " #   Column                      Non-Null Count  Dtype  \n",
      "---  ------                      --------------  -----  \n",
      " 0   user_id                     19234 non-null  int64  \n",
      " 1   first_day_correct           19234 non-null  float64\n",
      " 2   first_day_wrong             19234 non-null  float64\n",
      " 3   second_day_correct          19234 non-null  float64\n",
      " 4   second_day_wrong            19234 non-null  float64\n",
      " 5   correct                     19234 non-null  float64\n",
      " 6   wrong                       19234 non-null  float64\n",
      " 7   course_complete             19234 non-null  bool   \n",
      " 8   discovered                  19234 non-null  int64  \n",
      " 9   passed                      19234 non-null  int64  \n",
      " 10  started_attempt             19234 non-null  int64  \n",
      " 11  viewed                      19234 non-null  int64  \n",
      " 12  first_day_discovered        19234 non-null  int64  \n",
      " 13  first_day_passed            19234 non-null  int64  \n",
      " 14  first_day_started_attempt   19234 non-null  int64  \n",
      " 15  first_day_viewed            19234 non-null  int64  \n",
      " 16  second_day_discovered       19234 non-null  float64\n",
      " 17  second_day_passed           19234 non-null  float64\n",
      " 18  second_day_started_attempt  19234 non-null  float64\n",
      " 19  second_day_viewed           19234 non-null  float64\n",
      " 20  correct_ratio               19234 non-null  float64\n",
      " 21  wrong_ratio                 19234 non-null  float64\n",
      " 22  discovered_ratio            19234 non-null  float64\n",
      " 23  passed_ratio                19234 non-null  float64\n",
      " 24  started_attempt_ratio       19234 non-null  float64\n",
      " 25  viewed_ratio                19234 non-null  float64\n",
      "dtypes: bool(1), float64(16), int64(9)\n",
      "memory usage: 3.8 MB\n"
     ]
    }
   ],
   "source": [
    "retention.info()"
   ],
   "metadata": {
    "collapsed": false
   }
  },
  {
   "cell_type": "code",
   "execution_count": 2042,
   "outputs": [],
   "source": [
    "X_train = retention.drop(['course_complete', 'correct_ratio', 'wrong_ratio', 'discovered_ratio', 'passed_ratio', 'started_attempt_ratio', 'viewed_ratio'], axis=1)\n",
    "# X_train = retention[['correct', 'user_id', 'passed']]\n",
    "# 'discovered', 'correct_ratio', 'wrong_ratio', 'discovered_ratio', 'passed_ratio', 'started_attempt_ratio', 'viewed_ratio', 'correct', 'wrong', 'passed', 'started_attempt', 'viewed'"
   ],
   "metadata": {
    "collapsed": false
   }
  },
  {
   "cell_type": "code",
   "execution_count": 2044,
   "outputs": [
    {
     "data": {
      "text/plain": "   user_id  first_day_correct  first_day_wrong  second_day_correct  \\\n0        2                2.0              0.0                 0.0   \n1        3                4.0              4.0                 0.0   \n2        8                9.0             21.0                 0.0   \n3       14                0.0              1.0                 0.0   \n4       16               18.0             23.0                 0.0   \n\n   second_day_wrong  correct  wrong  discovered  passed  started_attempt  \\\n0               0.0      2.0    0.0           9       9                2   \n1               0.0     29.0   23.0          91      87               30   \n2               0.0      9.0   21.0         109      84               37   \n3               0.0      0.0    1.0           4       3                1   \n4               0.0     77.0  106.0         196     196              108   \n\n   viewed  first_day_discovered  first_day_passed  first_day_started_attempt  \\\n0      10                     9                 9                          2   \n1     192                    15                15                          4   \n2     156                   109                84                         37   \n3       9                     4                 3                          1   \n4     651                    50                49                         21   \n\n   first_day_viewed  second_day_discovered  second_day_passed  \\\n0                 9                    0.0                0.0   \n1                20                    0.0                0.0   \n2               154                    0.0                0.0   \n3                 9                    0.0                0.0   \n4               117                    0.0                0.0   \n\n   second_day_started_attempt  second_day_viewed  \n0                         0.0                0.0  \n1                         0.0                0.0  \n2                         0.0                0.0  \n3                         0.0                0.0  \n4                         0.0                0.0  ",
      "text/html": "<div>\n<style scoped>\n    .dataframe tbody tr th:only-of-type {\n        vertical-align: middle;\n    }\n\n    .dataframe tbody tr th {\n        vertical-align: top;\n    }\n\n    .dataframe thead th {\n        text-align: right;\n    }\n</style>\n<table border=\"1\" class=\"dataframe\">\n  <thead>\n    <tr style=\"text-align: right;\">\n      <th></th>\n      <th>user_id</th>\n      <th>first_day_correct</th>\n      <th>first_day_wrong</th>\n      <th>second_day_correct</th>\n      <th>second_day_wrong</th>\n      <th>correct</th>\n      <th>wrong</th>\n      <th>discovered</th>\n      <th>passed</th>\n      <th>started_attempt</th>\n      <th>viewed</th>\n      <th>first_day_discovered</th>\n      <th>first_day_passed</th>\n      <th>first_day_started_attempt</th>\n      <th>first_day_viewed</th>\n      <th>second_day_discovered</th>\n      <th>second_day_passed</th>\n      <th>second_day_started_attempt</th>\n      <th>second_day_viewed</th>\n    </tr>\n  </thead>\n  <tbody>\n    <tr>\n      <th>0</th>\n      <td>2</td>\n      <td>2.0</td>\n      <td>0.0</td>\n      <td>0.0</td>\n      <td>0.0</td>\n      <td>2.0</td>\n      <td>0.0</td>\n      <td>9</td>\n      <td>9</td>\n      <td>2</td>\n      <td>10</td>\n      <td>9</td>\n      <td>9</td>\n      <td>2</td>\n      <td>9</td>\n      <td>0.0</td>\n      <td>0.0</td>\n      <td>0.0</td>\n      <td>0.0</td>\n    </tr>\n    <tr>\n      <th>1</th>\n      <td>3</td>\n      <td>4.0</td>\n      <td>4.0</td>\n      <td>0.0</td>\n      <td>0.0</td>\n      <td>29.0</td>\n      <td>23.0</td>\n      <td>91</td>\n      <td>87</td>\n      <td>30</td>\n      <td>192</td>\n      <td>15</td>\n      <td>15</td>\n      <td>4</td>\n      <td>20</td>\n      <td>0.0</td>\n      <td>0.0</td>\n      <td>0.0</td>\n      <td>0.0</td>\n    </tr>\n    <tr>\n      <th>2</th>\n      <td>8</td>\n      <td>9.0</td>\n      <td>21.0</td>\n      <td>0.0</td>\n      <td>0.0</td>\n      <td>9.0</td>\n      <td>21.0</td>\n      <td>109</td>\n      <td>84</td>\n      <td>37</td>\n      <td>156</td>\n      <td>109</td>\n      <td>84</td>\n      <td>37</td>\n      <td>154</td>\n      <td>0.0</td>\n      <td>0.0</td>\n      <td>0.0</td>\n      <td>0.0</td>\n    </tr>\n    <tr>\n      <th>3</th>\n      <td>14</td>\n      <td>0.0</td>\n      <td>1.0</td>\n      <td>0.0</td>\n      <td>0.0</td>\n      <td>0.0</td>\n      <td>1.0</td>\n      <td>4</td>\n      <td>3</td>\n      <td>1</td>\n      <td>9</td>\n      <td>4</td>\n      <td>3</td>\n      <td>1</td>\n      <td>9</td>\n      <td>0.0</td>\n      <td>0.0</td>\n      <td>0.0</td>\n      <td>0.0</td>\n    </tr>\n    <tr>\n      <th>4</th>\n      <td>16</td>\n      <td>18.0</td>\n      <td>23.0</td>\n      <td>0.0</td>\n      <td>0.0</td>\n      <td>77.0</td>\n      <td>106.0</td>\n      <td>196</td>\n      <td>196</td>\n      <td>108</td>\n      <td>651</td>\n      <td>50</td>\n      <td>49</td>\n      <td>21</td>\n      <td>117</td>\n      <td>0.0</td>\n      <td>0.0</td>\n      <td>0.0</td>\n      <td>0.0</td>\n    </tr>\n  </tbody>\n</table>\n</div>"
     },
     "execution_count": 2044,
     "metadata": {},
     "output_type": "execute_result"
    }
   ],
   "source": [
    "X_train.head()"
   ],
   "metadata": {
    "collapsed": false
   }
  },
  {
   "cell_type": "code",
   "execution_count": 2045,
   "outputs": [],
   "source": [
    "X_train = X_train.set_index('user_id')"
   ],
   "metadata": {
    "collapsed": false
   }
  },
  {
   "cell_type": "code",
   "execution_count": 2046,
   "outputs": [],
   "source": [
    "y_train = retention['course_complete']"
   ],
   "metadata": {
    "collapsed": false
   }
  },
  {
   "cell_type": "code",
   "execution_count": 2047,
   "outputs": [],
   "source": [
    "y_train = y_train.map({True: 1, False: 0})"
   ],
   "metadata": {
    "collapsed": false
   }
  },
  {
   "cell_type": "code",
   "execution_count": 1048,
   "outputs": [],
   "source": [
    "X_test = retention_clear_sm"
   ],
   "metadata": {
    "collapsed": false
   }
  },
  {
   "cell_type": "code",
   "execution_count": 2102,
   "outputs": [],
   "source": [
    "X_test = X_test.set_index('user_id')"
   ],
   "metadata": {
    "collapsed": false
   }
  },
  {
   "cell_type": "code",
   "execution_count": 2051,
   "outputs": [
    {
     "data": {
      "text/plain": "StandardScaler()",
      "text/html": "<style>#sk-container-id-30 {color: black;background-color: white;}#sk-container-id-30 pre{padding: 0;}#sk-container-id-30 div.sk-toggleable {background-color: white;}#sk-container-id-30 label.sk-toggleable__label {cursor: pointer;display: block;width: 100%;margin-bottom: 0;padding: 0.3em;box-sizing: border-box;text-align: center;}#sk-container-id-30 label.sk-toggleable__label-arrow:before {content: \"▸\";float: left;margin-right: 0.25em;color: #696969;}#sk-container-id-30 label.sk-toggleable__label-arrow:hover:before {color: black;}#sk-container-id-30 div.sk-estimator:hover label.sk-toggleable__label-arrow:before {color: black;}#sk-container-id-30 div.sk-toggleable__content {max-height: 0;max-width: 0;overflow: hidden;text-align: left;background-color: #f0f8ff;}#sk-container-id-30 div.sk-toggleable__content pre {margin: 0.2em;color: black;border-radius: 0.25em;background-color: #f0f8ff;}#sk-container-id-30 input.sk-toggleable__control:checked~div.sk-toggleable__content {max-height: 200px;max-width: 100%;overflow: auto;}#sk-container-id-30 input.sk-toggleable__control:checked~label.sk-toggleable__label-arrow:before {content: \"▾\";}#sk-container-id-30 div.sk-estimator input.sk-toggleable__control:checked~label.sk-toggleable__label {background-color: #d4ebff;}#sk-container-id-30 div.sk-label input.sk-toggleable__control:checked~label.sk-toggleable__label {background-color: #d4ebff;}#sk-container-id-30 input.sk-hidden--visually {border: 0;clip: rect(1px 1px 1px 1px);clip: rect(1px, 1px, 1px, 1px);height: 1px;margin: -1px;overflow: hidden;padding: 0;position: absolute;width: 1px;}#sk-container-id-30 div.sk-estimator {font-family: monospace;background-color: #f0f8ff;border: 1px dotted black;border-radius: 0.25em;box-sizing: border-box;margin-bottom: 0.5em;}#sk-container-id-30 div.sk-estimator:hover {background-color: #d4ebff;}#sk-container-id-30 div.sk-parallel-item::after {content: \"\";width: 100%;border-bottom: 1px solid gray;flex-grow: 1;}#sk-container-id-30 div.sk-label:hover label.sk-toggleable__label {background-color: #d4ebff;}#sk-container-id-30 div.sk-serial::before {content: \"\";position: absolute;border-left: 1px solid gray;box-sizing: border-box;top: 0;bottom: 0;left: 50%;z-index: 0;}#sk-container-id-30 div.sk-serial {display: flex;flex-direction: column;align-items: center;background-color: white;padding-right: 0.2em;padding-left: 0.2em;position: relative;}#sk-container-id-30 div.sk-item {position: relative;z-index: 1;}#sk-container-id-30 div.sk-parallel {display: flex;align-items: stretch;justify-content: center;background-color: white;position: relative;}#sk-container-id-30 div.sk-item::before, #sk-container-id-30 div.sk-parallel-item::before {content: \"\";position: absolute;border-left: 1px solid gray;box-sizing: border-box;top: 0;bottom: 0;left: 50%;z-index: -1;}#sk-container-id-30 div.sk-parallel-item {display: flex;flex-direction: column;z-index: 1;position: relative;background-color: white;}#sk-container-id-30 div.sk-parallel-item:first-child::after {align-self: flex-end;width: 50%;}#sk-container-id-30 div.sk-parallel-item:last-child::after {align-self: flex-start;width: 50%;}#sk-container-id-30 div.sk-parallel-item:only-child::after {width: 0;}#sk-container-id-30 div.sk-dashed-wrapped {border: 1px dashed gray;margin: 0 0.4em 0.5em 0.4em;box-sizing: border-box;padding-bottom: 0.4em;background-color: white;}#sk-container-id-30 div.sk-label label {font-family: monospace;font-weight: bold;display: inline-block;line-height: 1.2em;}#sk-container-id-30 div.sk-label-container {text-align: center;}#sk-container-id-30 div.sk-container {/* jupyter's `normalize.less` sets `[hidden] { display: none; }` but bootstrap.min.css set `[hidden] { display: none !important; }` so we also need the `!important` here to be able to override the default hidden behavior on the sphinx rendered scikit-learn.org. See: https://github.com/scikit-learn/scikit-learn/issues/21755 */display: inline-block !important;position: relative;}#sk-container-id-30 div.sk-text-repr-fallback {display: none;}</style><div id=\"sk-container-id-30\" class=\"sk-top-container\"><div class=\"sk-text-repr-fallback\"><pre>StandardScaler()</pre><b>In a Jupyter environment, please rerun this cell to show the HTML representation or trust the notebook. <br />On GitHub, the HTML representation is unable to render, please try loading this page with nbviewer.org.</b></div><div class=\"sk-container\" hidden><div class=\"sk-item\"><div class=\"sk-estimator sk-toggleable\"><input class=\"sk-toggleable__control sk-hidden--visually\" id=\"sk-estimator-id-34\" type=\"checkbox\" checked><label for=\"sk-estimator-id-34\" class=\"sk-toggleable__label sk-toggleable__label-arrow\">StandardScaler</label><div class=\"sk-toggleable__content\"><pre>StandardScaler()</pre></div></div></div></div></div>"
     },
     "execution_count": 2051,
     "metadata": {},
     "output_type": "execute_result"
    }
   ],
   "source": [
    "scaler = StandardScaler()\n",
    "scaler.fit(X_train)"
   ],
   "metadata": {
    "collapsed": false
   }
  },
  {
   "cell_type": "code",
   "execution_count": 2052,
   "outputs": [],
   "source": [
    "X_train = scaler.transform(X_train)"
   ],
   "metadata": {
    "collapsed": false
   }
  },
  {
   "cell_type": "code",
   "execution_count": 2050,
   "outputs": [
    {
     "data": {
      "text/plain": "         first_day_correct  first_day_wrong  second_day_correct  \\\nuser_id                                                           \n2                      2.0              0.0                 0.0   \n3                      4.0              4.0                 0.0   \n8                      9.0             21.0                 0.0   \n14                     0.0              1.0                 0.0   \n16                    18.0             23.0                 0.0   \n...                    ...              ...                 ...   \n26773                  0.0              0.0                 0.0   \n26774                  0.0              0.0                 0.0   \n26788                  0.0              0.0                 0.0   \n26789                  0.0              0.0                 0.0   \n26793                  0.0              0.0                 0.0   \n\n         second_day_wrong  correct  wrong  discovered  passed  \\\nuser_id                                                         \n2                     0.0      2.0    0.0           9       9   \n3                     0.0     29.0   23.0          91      87   \n8                     0.0      9.0   21.0         109      84   \n14                    0.0      0.0    1.0           4       3   \n16                    0.0     77.0  106.0         196     196   \n...                   ...      ...    ...         ...     ...   \n26773                 0.0      0.0    0.0           1       1   \n26774                 0.0      0.0    0.0           1       1   \n26788                 0.0      0.0    0.0           1       1   \n26789                 0.0      0.0    0.0           2       2   \n26793                 0.0      0.0    0.0           1       0   \n\n         started_attempt  viewed  first_day_discovered  first_day_passed  \\\nuser_id                                                                    \n2                      2      10                     9                 9   \n3                     30     192                    15                15   \n8                     37     156                   109                84   \n14                     1       9                     4                 3   \n16                   108     651                    50                49   \n...                  ...     ...                   ...               ...   \n26773                  0       1                     1                 1   \n26774                  0       1                     1                 1   \n26788                  0       1                     1                 1   \n26789                  0       2                     2                 2   \n26793                  1       1                     1                 0   \n\n         first_day_started_attempt  first_day_viewed  second_day_discovered  \\\nuser_id                                                                       \n2                                2                 9                    0.0   \n3                                4                20                    0.0   \n8                               37               154                    0.0   \n14                               1                 9                    0.0   \n16                              21               117                    0.0   \n...                            ...               ...                    ...   \n26773                            0                 1                    0.0   \n26774                            0                 1                    0.0   \n26788                            0                 1                    0.0   \n26789                            0                 2                    0.0   \n26793                            1                 1                    0.0   \n\n         second_day_passed  second_day_started_attempt  second_day_viewed  \nuser_id                                                                    \n2                      0.0                         0.0                0.0  \n3                      0.0                         0.0                0.0  \n8                      0.0                         0.0                0.0  \n14                     0.0                         0.0                0.0  \n16                     0.0                         0.0                0.0  \n...                    ...                         ...                ...  \n26773                  0.0                         0.0                0.0  \n26774                  0.0                         0.0                0.0  \n26788                  0.0                         0.0                0.0  \n26789                  0.0                         0.0                0.0  \n26793                  0.0                         0.0                0.0  \n\n[19234 rows x 18 columns]",
      "text/html": "<div>\n<style scoped>\n    .dataframe tbody tr th:only-of-type {\n        vertical-align: middle;\n    }\n\n    .dataframe tbody tr th {\n        vertical-align: top;\n    }\n\n    .dataframe thead th {\n        text-align: right;\n    }\n</style>\n<table border=\"1\" class=\"dataframe\">\n  <thead>\n    <tr style=\"text-align: right;\">\n      <th></th>\n      <th>first_day_correct</th>\n      <th>first_day_wrong</th>\n      <th>second_day_correct</th>\n      <th>second_day_wrong</th>\n      <th>correct</th>\n      <th>wrong</th>\n      <th>discovered</th>\n      <th>passed</th>\n      <th>started_attempt</th>\n      <th>viewed</th>\n      <th>first_day_discovered</th>\n      <th>first_day_passed</th>\n      <th>first_day_started_attempt</th>\n      <th>first_day_viewed</th>\n      <th>second_day_discovered</th>\n      <th>second_day_passed</th>\n      <th>second_day_started_attempt</th>\n      <th>second_day_viewed</th>\n    </tr>\n    <tr>\n      <th>user_id</th>\n      <th></th>\n      <th></th>\n      <th></th>\n      <th></th>\n      <th></th>\n      <th></th>\n      <th></th>\n      <th></th>\n      <th></th>\n      <th></th>\n      <th></th>\n      <th></th>\n      <th></th>\n      <th></th>\n      <th></th>\n      <th></th>\n      <th></th>\n      <th></th>\n    </tr>\n  </thead>\n  <tbody>\n    <tr>\n      <th>2</th>\n      <td>2.0</td>\n      <td>0.0</td>\n      <td>0.0</td>\n      <td>0.0</td>\n      <td>2.0</td>\n      <td>0.0</td>\n      <td>9</td>\n      <td>9</td>\n      <td>2</td>\n      <td>10</td>\n      <td>9</td>\n      <td>9</td>\n      <td>2</td>\n      <td>9</td>\n      <td>0.0</td>\n      <td>0.0</td>\n      <td>0.0</td>\n      <td>0.0</td>\n    </tr>\n    <tr>\n      <th>3</th>\n      <td>4.0</td>\n      <td>4.0</td>\n      <td>0.0</td>\n      <td>0.0</td>\n      <td>29.0</td>\n      <td>23.0</td>\n      <td>91</td>\n      <td>87</td>\n      <td>30</td>\n      <td>192</td>\n      <td>15</td>\n      <td>15</td>\n      <td>4</td>\n      <td>20</td>\n      <td>0.0</td>\n      <td>0.0</td>\n      <td>0.0</td>\n      <td>0.0</td>\n    </tr>\n    <tr>\n      <th>8</th>\n      <td>9.0</td>\n      <td>21.0</td>\n      <td>0.0</td>\n      <td>0.0</td>\n      <td>9.0</td>\n      <td>21.0</td>\n      <td>109</td>\n      <td>84</td>\n      <td>37</td>\n      <td>156</td>\n      <td>109</td>\n      <td>84</td>\n      <td>37</td>\n      <td>154</td>\n      <td>0.0</td>\n      <td>0.0</td>\n      <td>0.0</td>\n      <td>0.0</td>\n    </tr>\n    <tr>\n      <th>14</th>\n      <td>0.0</td>\n      <td>1.0</td>\n      <td>0.0</td>\n      <td>0.0</td>\n      <td>0.0</td>\n      <td>1.0</td>\n      <td>4</td>\n      <td>3</td>\n      <td>1</td>\n      <td>9</td>\n      <td>4</td>\n      <td>3</td>\n      <td>1</td>\n      <td>9</td>\n      <td>0.0</td>\n      <td>0.0</td>\n      <td>0.0</td>\n      <td>0.0</td>\n    </tr>\n    <tr>\n      <th>16</th>\n      <td>18.0</td>\n      <td>23.0</td>\n      <td>0.0</td>\n      <td>0.0</td>\n      <td>77.0</td>\n      <td>106.0</td>\n      <td>196</td>\n      <td>196</td>\n      <td>108</td>\n      <td>651</td>\n      <td>50</td>\n      <td>49</td>\n      <td>21</td>\n      <td>117</td>\n      <td>0.0</td>\n      <td>0.0</td>\n      <td>0.0</td>\n      <td>0.0</td>\n    </tr>\n    <tr>\n      <th>...</th>\n      <td>...</td>\n      <td>...</td>\n      <td>...</td>\n      <td>...</td>\n      <td>...</td>\n      <td>...</td>\n      <td>...</td>\n      <td>...</td>\n      <td>...</td>\n      <td>...</td>\n      <td>...</td>\n      <td>...</td>\n      <td>...</td>\n      <td>...</td>\n      <td>...</td>\n      <td>...</td>\n      <td>...</td>\n      <td>...</td>\n    </tr>\n    <tr>\n      <th>26773</th>\n      <td>0.0</td>\n      <td>0.0</td>\n      <td>0.0</td>\n      <td>0.0</td>\n      <td>0.0</td>\n      <td>0.0</td>\n      <td>1</td>\n      <td>1</td>\n      <td>0</td>\n      <td>1</td>\n      <td>1</td>\n      <td>1</td>\n      <td>0</td>\n      <td>1</td>\n      <td>0.0</td>\n      <td>0.0</td>\n      <td>0.0</td>\n      <td>0.0</td>\n    </tr>\n    <tr>\n      <th>26774</th>\n      <td>0.0</td>\n      <td>0.0</td>\n      <td>0.0</td>\n      <td>0.0</td>\n      <td>0.0</td>\n      <td>0.0</td>\n      <td>1</td>\n      <td>1</td>\n      <td>0</td>\n      <td>1</td>\n      <td>1</td>\n      <td>1</td>\n      <td>0</td>\n      <td>1</td>\n      <td>0.0</td>\n      <td>0.0</td>\n      <td>0.0</td>\n      <td>0.0</td>\n    </tr>\n    <tr>\n      <th>26788</th>\n      <td>0.0</td>\n      <td>0.0</td>\n      <td>0.0</td>\n      <td>0.0</td>\n      <td>0.0</td>\n      <td>0.0</td>\n      <td>1</td>\n      <td>1</td>\n      <td>0</td>\n      <td>1</td>\n      <td>1</td>\n      <td>1</td>\n      <td>0</td>\n      <td>1</td>\n      <td>0.0</td>\n      <td>0.0</td>\n      <td>0.0</td>\n      <td>0.0</td>\n    </tr>\n    <tr>\n      <th>26789</th>\n      <td>0.0</td>\n      <td>0.0</td>\n      <td>0.0</td>\n      <td>0.0</td>\n      <td>0.0</td>\n      <td>0.0</td>\n      <td>2</td>\n      <td>2</td>\n      <td>0</td>\n      <td>2</td>\n      <td>2</td>\n      <td>2</td>\n      <td>0</td>\n      <td>2</td>\n      <td>0.0</td>\n      <td>0.0</td>\n      <td>0.0</td>\n      <td>0.0</td>\n    </tr>\n    <tr>\n      <th>26793</th>\n      <td>0.0</td>\n      <td>0.0</td>\n      <td>0.0</td>\n      <td>0.0</td>\n      <td>0.0</td>\n      <td>0.0</td>\n      <td>1</td>\n      <td>0</td>\n      <td>1</td>\n      <td>1</td>\n      <td>1</td>\n      <td>0</td>\n      <td>1</td>\n      <td>1</td>\n      <td>0.0</td>\n      <td>0.0</td>\n      <td>0.0</td>\n      <td>0.0</td>\n    </tr>\n  </tbody>\n</table>\n<p>19234 rows × 18 columns</p>\n</div>"
     },
     "execution_count": 2050,
     "metadata": {},
     "output_type": "execute_result"
    }
   ],
   "source": [
    "X_train"
   ],
   "metadata": {
    "collapsed": false
   }
  },
  {
   "cell_type": "code",
   "execution_count": 2103,
   "outputs": [
    {
     "data": {
      "text/plain": "StandardScaler()",
      "text/html": "<style>#sk-container-id-31 {color: black;background-color: white;}#sk-container-id-31 pre{padding: 0;}#sk-container-id-31 div.sk-toggleable {background-color: white;}#sk-container-id-31 label.sk-toggleable__label {cursor: pointer;display: block;width: 100%;margin-bottom: 0;padding: 0.3em;box-sizing: border-box;text-align: center;}#sk-container-id-31 label.sk-toggleable__label-arrow:before {content: \"▸\";float: left;margin-right: 0.25em;color: #696969;}#sk-container-id-31 label.sk-toggleable__label-arrow:hover:before {color: black;}#sk-container-id-31 div.sk-estimator:hover label.sk-toggleable__label-arrow:before {color: black;}#sk-container-id-31 div.sk-toggleable__content {max-height: 0;max-width: 0;overflow: hidden;text-align: left;background-color: #f0f8ff;}#sk-container-id-31 div.sk-toggleable__content pre {margin: 0.2em;color: black;border-radius: 0.25em;background-color: #f0f8ff;}#sk-container-id-31 input.sk-toggleable__control:checked~div.sk-toggleable__content {max-height: 200px;max-width: 100%;overflow: auto;}#sk-container-id-31 input.sk-toggleable__control:checked~label.sk-toggleable__label-arrow:before {content: \"▾\";}#sk-container-id-31 div.sk-estimator input.sk-toggleable__control:checked~label.sk-toggleable__label {background-color: #d4ebff;}#sk-container-id-31 div.sk-label input.sk-toggleable__control:checked~label.sk-toggleable__label {background-color: #d4ebff;}#sk-container-id-31 input.sk-hidden--visually {border: 0;clip: rect(1px 1px 1px 1px);clip: rect(1px, 1px, 1px, 1px);height: 1px;margin: -1px;overflow: hidden;padding: 0;position: absolute;width: 1px;}#sk-container-id-31 div.sk-estimator {font-family: monospace;background-color: #f0f8ff;border: 1px dotted black;border-radius: 0.25em;box-sizing: border-box;margin-bottom: 0.5em;}#sk-container-id-31 div.sk-estimator:hover {background-color: #d4ebff;}#sk-container-id-31 div.sk-parallel-item::after {content: \"\";width: 100%;border-bottom: 1px solid gray;flex-grow: 1;}#sk-container-id-31 div.sk-label:hover label.sk-toggleable__label {background-color: #d4ebff;}#sk-container-id-31 div.sk-serial::before {content: \"\";position: absolute;border-left: 1px solid gray;box-sizing: border-box;top: 0;bottom: 0;left: 50%;z-index: 0;}#sk-container-id-31 div.sk-serial {display: flex;flex-direction: column;align-items: center;background-color: white;padding-right: 0.2em;padding-left: 0.2em;position: relative;}#sk-container-id-31 div.sk-item {position: relative;z-index: 1;}#sk-container-id-31 div.sk-parallel {display: flex;align-items: stretch;justify-content: center;background-color: white;position: relative;}#sk-container-id-31 div.sk-item::before, #sk-container-id-31 div.sk-parallel-item::before {content: \"\";position: absolute;border-left: 1px solid gray;box-sizing: border-box;top: 0;bottom: 0;left: 50%;z-index: -1;}#sk-container-id-31 div.sk-parallel-item {display: flex;flex-direction: column;z-index: 1;position: relative;background-color: white;}#sk-container-id-31 div.sk-parallel-item:first-child::after {align-self: flex-end;width: 50%;}#sk-container-id-31 div.sk-parallel-item:last-child::after {align-self: flex-start;width: 50%;}#sk-container-id-31 div.sk-parallel-item:only-child::after {width: 0;}#sk-container-id-31 div.sk-dashed-wrapped {border: 1px dashed gray;margin: 0 0.4em 0.5em 0.4em;box-sizing: border-box;padding-bottom: 0.4em;background-color: white;}#sk-container-id-31 div.sk-label label {font-family: monospace;font-weight: bold;display: inline-block;line-height: 1.2em;}#sk-container-id-31 div.sk-label-container {text-align: center;}#sk-container-id-31 div.sk-container {/* jupyter's `normalize.less` sets `[hidden] { display: none; }` but bootstrap.min.css set `[hidden] { display: none !important; }` so we also need the `!important` here to be able to override the default hidden behavior on the sphinx rendered scikit-learn.org. See: https://github.com/scikit-learn/scikit-learn/issues/21755 */display: inline-block !important;position: relative;}#sk-container-id-31 div.sk-text-repr-fallback {display: none;}</style><div id=\"sk-container-id-31\" class=\"sk-top-container\"><div class=\"sk-text-repr-fallback\"><pre>StandardScaler()</pre><b>In a Jupyter environment, please rerun this cell to show the HTML representation or trust the notebook. <br />On GitHub, the HTML representation is unable to render, please try loading this page with nbviewer.org.</b></div><div class=\"sk-container\" hidden><div class=\"sk-item\"><div class=\"sk-estimator sk-toggleable\"><input class=\"sk-toggleable__control sk-hidden--visually\" id=\"sk-estimator-id-35\" type=\"checkbox\" checked><label for=\"sk-estimator-id-35\" class=\"sk-toggleable__label sk-toggleable__label-arrow\">StandardScaler</label><div class=\"sk-toggleable__content\"><pre>StandardScaler()</pre></div></div></div></div></div>"
     },
     "execution_count": 2103,
     "metadata": {},
     "output_type": "execute_result"
    }
   ],
   "source": [
    "scaler = StandardScaler()\n",
    "scaler.fit(X_test)"
   ],
   "metadata": {
    "collapsed": false
   }
  },
  {
   "cell_type": "code",
   "execution_count": 2104,
   "outputs": [],
   "source": [
    "X_test = scaler.transform(X_test)"
   ],
   "metadata": {
    "collapsed": false
   }
  },
  {
   "cell_type": "code",
   "execution_count": 2053,
   "outputs": [],
   "source": [
    "n_features = X_train.shape[1]\n",
    "model = Sequential()\n",
    "model.add(Dense(int(round((n_features+1)/2)), input_shape=(n_features,), activation='relu'))\n",
    "model.add(Dense(int(round((n_features+1)/4)), activation='relu'))\n",
    "model.add(Dense(1, activation='sigmoid'))"
   ],
   "metadata": {
    "collapsed": false
   }
  },
  {
   "cell_type": "code",
   "execution_count": 2054,
   "outputs": [],
   "source": [
    "model.compile(loss='binary_crossentropy', optimizer='adam', metrics=['accuracy'])"
   ],
   "metadata": {
    "collapsed": false
   }
  },
  {
   "cell_type": "code",
   "execution_count": 2055,
   "outputs": [
    {
     "name": "stdout",
     "output_type": "stream",
     "text": [
      "Epoch 1/10\n",
      "1924/1924 [==============================] - 8s 2ms/step - loss: 0.1053 - accuracy: 0.9693\n",
      "Epoch 2/10\n",
      "1924/1924 [==============================] - 4s 2ms/step - loss: 0.0275 - accuracy: 0.9902\n",
      "Epoch 3/10\n",
      "1924/1924 [==============================] - 3s 2ms/step - loss: 0.0181 - accuracy: 0.9940\n",
      "Epoch 4/10\n",
      "1924/1924 [==============================] - 3s 2ms/step - loss: 0.0138 - accuracy: 0.9949\n",
      "Epoch 5/10\n",
      "1924/1924 [==============================] - 4s 2ms/step - loss: 0.0113 - accuracy: 0.9956\n",
      "Epoch 6/10\n",
      "1924/1924 [==============================] - 4s 2ms/step - loss: 0.0103 - accuracy: 0.9966\n",
      "Epoch 7/10\n",
      "1924/1924 [==============================] - 3s 2ms/step - loss: 0.0087 - accuracy: 0.9966\n",
      "Epoch 8/10\n",
      "1924/1924 [==============================] - 4s 2ms/step - loss: 0.0079 - accuracy: 0.9971\n",
      "Epoch 9/10\n",
      "1924/1924 [==============================] - 4s 2ms/step - loss: 0.0076 - accuracy: 0.9972\n",
      "Epoch 10/10\n",
      "1924/1924 [==============================] - 4s 2ms/step - loss: 0.0076 - accuracy: 0.9970\n"
     ]
    },
    {
     "data": {
      "text/plain": "<keras.callbacks.History at 0x25e2f2860>"
     },
     "execution_count": 2055,
     "metadata": {},
     "output_type": "execute_result"
    }
   ],
   "source": [
    "model.fit(X_train, y_train, epochs=10, batch_size=10)"
   ],
   "metadata": {
    "collapsed": false
   }
  },
  {
   "cell_type": "code",
   "execution_count": null,
   "outputs": [],
   "source": [
    "predictions_proba = model.predict(X_test)"
   ],
   "metadata": {
    "collapsed": false,
    "pycharm": {
     "is_executing": true
    }
   }
  },
  {
   "cell_type": "code",
   "execution_count": 2106,
   "outputs": [
    {
     "data": {
      "text/plain": "array([[1.7376031e-09],\n       [4.4172996e-04],\n       [5.0247002e-09],\n       ...,\n       [2.5289779e-10],\n       [2.6344699e-10],\n       [2.6796904e-10]], dtype=float32)"
     },
     "execution_count": 2106,
     "metadata": {},
     "output_type": "execute_result"
    }
   ],
   "source": [
    "predictions_proba"
   ],
   "metadata": {
    "collapsed": false
   }
  },
  {
   "cell_type": "code",
   "execution_count": null,
   "outputs": [],
   "source": [
    "predictions = (model.predict(X_test) > 0.5).astype(int)"
   ],
   "metadata": {
    "collapsed": false
   }
  },
  {
   "cell_type": "code",
   "execution_count": 2058,
   "outputs": [
    {
     "name": "stdout",
     "output_type": "stream",
     "text": [
      "Log loss = nan\n",
      "AUC = 0.99992\n",
      "Average Precision = 0.99934\n",
      "\n",
      "Using 0.5 as threshold:\n",
      "Accuracy = 0.99594\n",
      "Precision = 0.96506\n",
      "Recall = 0.99644\n",
      "F1 score = 0.98050\n",
      "\n",
      "Classification Report\n",
      "              precision    recall  f1-score   support\n",
      "\n",
      "           0       1.00      1.00      1.00     17266\n",
      "           1       0.97      1.00      0.98      1968\n",
      "\n",
      "    accuracy                           1.00     19234\n",
      "   macro avg       0.98      1.00      0.99     19234\n",
      "weighted avg       1.00      1.00      1.00     19234\n",
      "\n"
     ]
    },
    {
     "name": "stderr",
     "output_type": "stream",
     "text": [
      "/Users/mitya/venv/lib/python3.10/site-packages/sklearn/metrics/_classification.py:2465: RuntimeWarning: divide by zero encountered in log\n",
      "  loss = -(transformed_labels * np.log(y_pred)).sum(axis=1)\n",
      "/Users/mitya/venv/lib/python3.10/site-packages/sklearn/metrics/_classification.py:2465: RuntimeWarning: invalid value encountered in multiply\n",
      "  loss = -(transformed_labels * np.log(y_pred)).sum(axis=1)\n"
     ]
    }
   ],
   "source": [
    "print('Log loss = {:.5f}'.format(log_loss(y_train, predictions_proba)))\n",
    "print('AUC = {:.5f}'.format(roc_auc_score(y_train, predictions_proba)))\n",
    "print('Average Precision = {:.5f}'.format(average_precision_score(y_train, predictions_proba)))\n",
    "print('\\nUsing 0.5 as threshold:')\n",
    "print('Accuracy = {:.5f}'.format(accuracy_score(y_train, predictions)))\n",
    "print('Precision = {:.5f}'.format(precision_score(y_train, predictions)))\n",
    "print('Recall = {:.5f}'.format(recall_score(y_train, predictions)))\n",
    "print('F1 score = {:.5f}'.format(f1_score(y_train, predictions)))\n",
    "\n",
    "print('\\nClassification Report')\n",
    "print(classification_report(y_train, predictions))"
   ],
   "metadata": {
    "collapsed": false
   }
  },
  {
   "cell_type": "code",
   "execution_count": 455,
   "outputs": [
    {
     "name": "stdout",
     "output_type": "stream",
     "text": [
      "Log loss = nan\n",
      "AUC = 0.98509\n",
      "Average Precision = 0.96908\n",
      "\n",
      "Using 0.5 as threshold:\n",
      "Accuracy = 0.93470\n",
      "Precision = 0.82051\n",
      "Recall = 0.93338\n",
      "F1 score = 0.87331\n",
      "\n",
      "Classification Report\n",
      "              precision    recall  f1-score   support\n",
      "\n",
      "           0       0.98      0.94      0.96     14596\n",
      "           1       0.82      0.93      0.87      4638\n",
      "\n",
      "    accuracy                           0.93     19234\n",
      "   macro avg       0.90      0.93      0.91     19234\n",
      "weighted avg       0.94      0.93      0.94     19234\n",
      "\n"
     ]
    },
    {
     "name": "stderr",
     "output_type": "stream",
     "text": [
      "/Users/mitya/venv/lib/python3.10/site-packages/sklearn/metrics/_classification.py:2465: RuntimeWarning: divide by zero encountered in log\n",
      "  loss = -(transformed_labels * np.log(y_pred)).sum(axis=1)\n",
      "/Users/mitya/venv/lib/python3.10/site-packages/sklearn/metrics/_classification.py:2465: RuntimeWarning: invalid value encountered in multiply\n",
      "  loss = -(transformed_labels * np.log(y_pred)).sum(axis=1)\n"
     ]
    }
   ],
   "source": [
    "print('Log loss = {:.5f}'.format(log_loss(y_test, predictions_proba)))\n",
    "print('AUC = {:.5f}'.format(roc_auc_score(y_test, predictions_proba)))\n",
    "print('Average Precision = {:.5f}'.format(average_precision_score(y_test, predictions_proba)))\n",
    "print('\\nUsing 0.5 as threshold:')\n",
    "print('Accuracy = {:.5f}'.format(accuracy_score(y_test, predictions)))\n",
    "print('Precision = {:.5f}'.format(precision_score(y_test, predictions)))\n",
    "print('Recall = {:.5f}'.format(recall_score(y_test, predictions)))\n",
    "print('F1 score = {:.5f}'.format(f1_score(y_test, predictions)))\n",
    "\n",
    "print('\\nClassification Report')\n",
    "print(classification_report(y_test, predictions))"
   ],
   "metadata": {
    "collapsed": false
   }
  },
  {
   "cell_type": "code",
   "execution_count": 2059,
   "outputs": [],
   "source": [
    "fpr, tpr, _ = roc_curve(y_train, predictions_proba)"
   ],
   "metadata": {
    "collapsed": false
   }
  },
  {
   "cell_type": "code",
   "execution_count": 2060,
   "outputs": [
    {
     "data": {
      "text/plain": "<Figure size 640x480 with 1 Axes>",
      "image/png": "[encoded data removed]"
     },
     "metadata": {},
     "output_type": "display_data"
    }
   ],
   "source": [
    "plt.plot(fpr, tpr)\n",
    "plt.title('ROC curve')\n",
    "plt.xlabel('false positive rate')\n",
    "plt.ylabel('true positive rate')\n",
    "plt.xlim(0,)\n",
    "plt.ylim(0,)\n",
    "plt.show()"
   ],
   "metadata": {
    "collapsed": false
   }
  },
  {
   "cell_type": "code",
   "execution_count": 2061,
   "outputs": [],
   "source": [
    "pr, rc, _ = precision_recall_curve(y_train, predictions_proba)"
   ],
   "metadata": {
    "collapsed": false
   }
  },
  {
   "cell_type": "code",
   "execution_count": 2062,
   "outputs": [
    {
     "data": {
      "text/plain": "<Figure size 640x480 with 1 Axes>",
      "image/png": "[encoded data removed]"
     },
     "metadata": {},
     "output_type": "display_data"
    }
   ],
   "source": [
    "plt.plot(pr, rc)\n",
    "plt.title('Precision recall curve')\n",
    "plt.xlabel('Recall')\n",
    "plt.ylabel('Precision')\n",
    "plt.xlim(0,)\n",
    "plt.ylim(0,)\n",
    "plt.show()"
   ],
   "metadata": {
    "collapsed": false
   }
  },
  {
   "cell_type": "code",
   "execution_count": 2063,
   "outputs": [
    {
     "name": "stdout",
     "output_type": "stream",
     "text": [
      "Confusion Matrix\n"
     ]
    },
    {
     "data": {
      "text/plain": "<Figure size 640x480 with 2 Axes>",
      "image/png": "[encoded data removed]"
     },
     "metadata": {},
     "output_type": "display_data"
    }
   ],
   "source": [
    "print('Confusion Matrix')\n",
    "conf_matrix = confusion_matrix(y_train, predictions)\n",
    "disp = ConfusionMatrixDisplay(conf_matrix)\n",
    "disp.plot(cmap=plt.cm.Blues, values_format='g')\n",
    "plt.show()"
   ],
   "metadata": {
    "collapsed": false
   }
  },
  {
   "cell_type": "code",
   "execution_count": 2114,
   "outputs": [],
   "source": [
    "export_data = pd.concat([retention_sm.user_id, pd.DataFrame(predictions_proba)], axis=1)"
   ],
   "metadata": {
    "collapsed": false
   }
  },
  {
   "cell_type": "code",
   "execution_count": 2115,
   "outputs": [],
   "source": [
    "export_data.columns = ['user_id', 'is_gone']"
   ],
   "metadata": {
    "collapsed": false
   }
  },
  {
   "cell_type": "code",
   "execution_count": 2116,
   "outputs": [
    {
     "data": {
      "text/plain": "   user_id       is_gone\n0      4.0  1.737603e-09\n1      6.0  4.417300e-04\n2     10.0  5.024700e-09\n3     12.0  3.363733e-10\n4     13.0  1.000000e+00",
      "text/html": "<div>\n<style scoped>\n    .dataframe tbody tr th:only-of-type {\n        vertical-align: middle;\n    }\n\n    .dataframe tbody tr th {\n        vertical-align: top;\n    }\n\n    .dataframe thead th {\n        text-align: right;\n    }\n</style>\n<table border=\"1\" class=\"dataframe\">\n  <thead>\n    <tr style=\"text-align: right;\">\n      <th></th>\n      <th>user_id</th>\n      <th>is_gone</th>\n    </tr>\n  </thead>\n  <tbody>\n    <tr>\n      <th>0</th>\n      <td>4.0</td>\n      <td>1.737603e-09</td>\n    </tr>\n    <tr>\n      <th>1</th>\n      <td>6.0</td>\n      <td>4.417300e-04</td>\n    </tr>\n    <tr>\n      <th>2</th>\n      <td>10.0</td>\n      <td>5.024700e-09</td>\n    </tr>\n    <tr>\n      <th>3</th>\n      <td>12.0</td>\n      <td>3.363733e-10</td>\n    </tr>\n    <tr>\n      <th>4</th>\n      <td>13.0</td>\n      <td>1.000000e+00</td>\n    </tr>\n  </tbody>\n</table>\n</div>"
     },
     "execution_count": 2116,
     "metadata": {},
     "output_type": "execute_result"
    }
   ],
   "source": [
    "export_data.head()"
   ],
   "metadata": {
    "collapsed": false
   }
  },
  {
   "cell_type": "code",
   "execution_count": 2117,
   "outputs": [],
   "source": [
    "export_data.to_csv('/Users/mitya/out.csv', index=False)"
   ],
   "metadata": {
    "collapsed": false
   }
  },
  {
   "cell_type": "markdown",
   "source": [
    "### Дерево решений"
   ],
   "metadata": {
    "collapsed": false
   }
  },
  {
   "cell_type": "code",
   "execution_count": 1768,
   "outputs": [],
   "source": [
    "clf = DecisionTreeClassifier()"
   ],
   "metadata": {
    "collapsed": false
   }
  },
  {
   "cell_type": "code",
   "execution_count": 1769,
   "outputs": [],
   "source": [
    "params={'criterion':['gini', 'entropy'], 'max_depth': range(5, 12)}"
   ],
   "metadata": {
    "collapsed": false
   }
  },
  {
   "cell_type": "code",
   "execution_count": 1770,
   "outputs": [],
   "source": [
    "grid_search_cv_clf=GridSearchCV(clf, params, cv=5)"
   ],
   "metadata": {
    "collapsed": false
   }
  },
  {
   "cell_type": "code",
   "execution_count": 1771,
   "outputs": [
    {
     "data": {
      "text/plain": "GridSearchCV(cv=5, estimator=DecisionTreeClassifier(),\n             param_grid={'criterion': ['gini', 'entropy'],\n                         'max_depth': range(1, 12)})",
      "text/html": "<style>#sk-container-id-25 {color: black;background-color: white;}#sk-container-id-25 pre{padding: 0;}#sk-container-id-25 div.sk-toggleable {background-color: white;}#sk-container-id-25 label.sk-toggleable__label {cursor: pointer;display: block;width: 100%;margin-bottom: 0;padding: 0.3em;box-sizing: border-box;text-align: center;}#sk-container-id-25 label.sk-toggleable__label-arrow:before {content: \"▸\";float: left;margin-right: 0.25em;color: #696969;}#sk-container-id-25 label.sk-toggleable__label-arrow:hover:before {color: black;}#sk-container-id-25 div.sk-estimator:hover label.sk-toggleable__label-arrow:before {color: black;}#sk-container-id-25 div.sk-toggleable__content {max-height: 0;max-width: 0;overflow: hidden;text-align: left;background-color: #f0f8ff;}#sk-container-id-25 div.sk-toggleable__content pre {margin: 0.2em;color: black;border-radius: 0.25em;background-color: #f0f8ff;}#sk-container-id-25 input.sk-toggleable__control:checked~div.sk-toggleable__content {max-height: 200px;max-width: 100%;overflow: auto;}#sk-container-id-25 input.sk-toggleable__control:checked~label.sk-toggleable__label-arrow:before {content: \"▾\";}#sk-container-id-25 div.sk-estimator input.sk-toggleable__control:checked~label.sk-toggleable__label {background-color: #d4ebff;}#sk-container-id-25 div.sk-label input.sk-toggleable__control:checked~label.sk-toggleable__label {background-color: #d4ebff;}#sk-container-id-25 input.sk-hidden--visually {border: 0;clip: rect(1px 1px 1px 1px);clip: rect(1px, 1px, 1px, 1px);height: 1px;margin: -1px;overflow: hidden;padding: 0;position: absolute;width: 1px;}#sk-container-id-25 div.sk-estimator {font-family: monospace;background-color: #f0f8ff;border: 1px dotted black;border-radius: 0.25em;box-sizing: border-box;margin-bottom: 0.5em;}#sk-container-id-25 div.sk-estimator:hover {background-color: #d4ebff;}#sk-container-id-25 div.sk-parallel-item::after {content: \"\";width: 100%;border-bottom: 1px solid gray;flex-grow: 1;}#sk-container-id-25 div.sk-label:hover label.sk-toggleable__label {background-color: #d4ebff;}#sk-container-id-25 div.sk-serial::before {content: \"\";position: absolute;border-left: 1px solid gray;box-sizing: border-box;top: 0;bottom: 0;left: 50%;z-index: 0;}#sk-container-id-25 div.sk-serial {display: flex;flex-direction: column;align-items: center;background-color: white;padding-right: 0.2em;padding-left: 0.2em;position: relative;}#sk-container-id-25 div.sk-item {position: relative;z-index: 1;}#sk-container-id-25 div.sk-parallel {display: flex;align-items: stretch;justify-content: center;background-color: white;position: relative;}#sk-container-id-25 div.sk-item::before, #sk-container-id-25 div.sk-parallel-item::before {content: \"\";position: absolute;border-left: 1px solid gray;box-sizing: border-box;top: 0;bottom: 0;left: 50%;z-index: -1;}#sk-container-id-25 div.sk-parallel-item {display: flex;flex-direction: column;z-index: 1;position: relative;background-color: white;}#sk-container-id-25 div.sk-parallel-item:first-child::after {align-self: flex-end;width: 50%;}#sk-container-id-25 div.sk-parallel-item:last-child::after {align-self: flex-start;width: 50%;}#sk-container-id-25 div.sk-parallel-item:only-child::after {width: 0;}#sk-container-id-25 div.sk-dashed-wrapped {border: 1px dashed gray;margin: 0 0.4em 0.5em 0.4em;box-sizing: border-box;padding-bottom: 0.4em;background-color: white;}#sk-container-id-25 div.sk-label label {font-family: monospace;font-weight: bold;display: inline-block;line-height: 1.2em;}#sk-container-id-25 div.sk-label-container {text-align: center;}#sk-container-id-25 div.sk-container {/* jupyter's `normalize.less` sets `[hidden] { display: none; }` but bootstrap.min.css set `[hidden] { display: none !important; }` so we also need the `!important` here to be able to override the default hidden behavior on the sphinx rendered scikit-learn.org. See: https://github.com/scikit-learn/scikit-learn/issues/21755 */display: inline-block !important;position: relative;}#sk-container-id-25 div.sk-text-repr-fallback {display: none;}</style><div id=\"sk-container-id-25\" class=\"sk-top-container\"><div class=\"sk-text-repr-fallback\"><pre>GridSearchCV(cv=5, estimator=DecisionTreeClassifier(),\n             param_grid={&#x27;criterion&#x27;: [&#x27;gini&#x27;, &#x27;entropy&#x27;],\n                         &#x27;max_depth&#x27;: range(1, 12)})</pre><b>In a Jupyter environment, please rerun this cell to show the HTML representation or trust the notebook. <br />On GitHub, the HTML representation is unable to render, please try loading this page with nbviewer.org.</b></div><div class=\"sk-container\" hidden><div class=\"sk-item sk-dashed-wrapped\"><div class=\"sk-label-container\"><div class=\"sk-label sk-toggleable\"><input class=\"sk-toggleable__control sk-hidden--visually\" id=\"sk-estimator-id-27\" type=\"checkbox\" ><label for=\"sk-estimator-id-27\" class=\"sk-toggleable__label sk-toggleable__label-arrow\">GridSearchCV</label><div class=\"sk-toggleable__content\"><pre>GridSearchCV(cv=5, estimator=DecisionTreeClassifier(),\n             param_grid={&#x27;criterion&#x27;: [&#x27;gini&#x27;, &#x27;entropy&#x27;],\n                         &#x27;max_depth&#x27;: range(1, 12)})</pre></div></div></div><div class=\"sk-parallel\"><div class=\"sk-parallel-item\"><div class=\"sk-item\"><div class=\"sk-label-container\"><div class=\"sk-label sk-toggleable\"><input class=\"sk-toggleable__control sk-hidden--visually\" id=\"sk-estimator-id-28\" type=\"checkbox\" ><label for=\"sk-estimator-id-28\" class=\"sk-toggleable__label sk-toggleable__label-arrow\">estimator: DecisionTreeClassifier</label><div class=\"sk-toggleable__content\"><pre>DecisionTreeClassifier()</pre></div></div></div><div class=\"sk-serial\"><div class=\"sk-item\"><div class=\"sk-estimator sk-toggleable\"><input class=\"sk-toggleable__control sk-hidden--visually\" id=\"sk-estimator-id-29\" type=\"checkbox\" ><label for=\"sk-estimator-id-29\" class=\"sk-toggleable__label sk-toggleable__label-arrow\">DecisionTreeClassifier</label><div class=\"sk-toggleable__content\"><pre>DecisionTreeClassifier()</pre></div></div></div></div></div></div></div></div></div></div>"
     },
     "execution_count": 1771,
     "metadata": {},
     "output_type": "execute_result"
    }
   ],
   "source": [
    "grid_search_cv_clf.fit(X_train, y_train)"
   ],
   "metadata": {
    "collapsed": false
   }
  },
  {
   "cell_type": "code",
   "execution_count": 1772,
   "outputs": [
    {
     "data": {
      "text/plain": "DecisionTreeClassifier(max_depth=1)",
      "text/html": "<style>#sk-container-id-26 {color: black;background-color: white;}#sk-container-id-26 pre{padding: 0;}#sk-container-id-26 div.sk-toggleable {background-color: white;}#sk-container-id-26 label.sk-toggleable__label {cursor: pointer;display: block;width: 100%;margin-bottom: 0;padding: 0.3em;box-sizing: border-box;text-align: center;}#sk-container-id-26 label.sk-toggleable__label-arrow:before {content: \"▸\";float: left;margin-right: 0.25em;color: #696969;}#sk-container-id-26 label.sk-toggleable__label-arrow:hover:before {color: black;}#sk-container-id-26 div.sk-estimator:hover label.sk-toggleable__label-arrow:before {color: black;}#sk-container-id-26 div.sk-toggleable__content {max-height: 0;max-width: 0;overflow: hidden;text-align: left;background-color: #f0f8ff;}#sk-container-id-26 div.sk-toggleable__content pre {margin: 0.2em;color: black;border-radius: 0.25em;background-color: #f0f8ff;}#sk-container-id-26 input.sk-toggleable__control:checked~div.sk-toggleable__content {max-height: 200px;max-width: 100%;overflow: auto;}#sk-container-id-26 input.sk-toggleable__control:checked~label.sk-toggleable__label-arrow:before {content: \"▾\";}#sk-container-id-26 div.sk-estimator input.sk-toggleable__control:checked~label.sk-toggleable__label {background-color: #d4ebff;}#sk-container-id-26 div.sk-label input.sk-toggleable__control:checked~label.sk-toggleable__label {background-color: #d4ebff;}#sk-container-id-26 input.sk-hidden--visually {border: 0;clip: rect(1px 1px 1px 1px);clip: rect(1px, 1px, 1px, 1px);height: 1px;margin: -1px;overflow: hidden;padding: 0;position: absolute;width: 1px;}#sk-container-id-26 div.sk-estimator {font-family: monospace;background-color: #f0f8ff;border: 1px dotted black;border-radius: 0.25em;box-sizing: border-box;margin-bottom: 0.5em;}#sk-container-id-26 div.sk-estimator:hover {background-color: #d4ebff;}#sk-container-id-26 div.sk-parallel-item::after {content: \"\";width: 100%;border-bottom: 1px solid gray;flex-grow: 1;}#sk-container-id-26 div.sk-label:hover label.sk-toggleable__label {background-color: #d4ebff;}#sk-container-id-26 div.sk-serial::before {content: \"\";position: absolute;border-left: 1px solid gray;box-sizing: border-box;top: 0;bottom: 0;left: 50%;z-index: 0;}#sk-container-id-26 div.sk-serial {display: flex;flex-direction: column;align-items: center;background-color: white;padding-right: 0.2em;padding-left: 0.2em;position: relative;}#sk-container-id-26 div.sk-item {position: relative;z-index: 1;}#sk-container-id-26 div.sk-parallel {display: flex;align-items: stretch;justify-content: center;background-color: white;position: relative;}#sk-container-id-26 div.sk-item::before, #sk-container-id-26 div.sk-parallel-item::before {content: \"\";position: absolute;border-left: 1px solid gray;box-sizing: border-box;top: 0;bottom: 0;left: 50%;z-index: -1;}#sk-container-id-26 div.sk-parallel-item {display: flex;flex-direction: column;z-index: 1;position: relative;background-color: white;}#sk-container-id-26 div.sk-parallel-item:first-child::after {align-self: flex-end;width: 50%;}#sk-container-id-26 div.sk-parallel-item:last-child::after {align-self: flex-start;width: 50%;}#sk-container-id-26 div.sk-parallel-item:only-child::after {width: 0;}#sk-container-id-26 div.sk-dashed-wrapped {border: 1px dashed gray;margin: 0 0.4em 0.5em 0.4em;box-sizing: border-box;padding-bottom: 0.4em;background-color: white;}#sk-container-id-26 div.sk-label label {font-family: monospace;font-weight: bold;display: inline-block;line-height: 1.2em;}#sk-container-id-26 div.sk-label-container {text-align: center;}#sk-container-id-26 div.sk-container {/* jupyter's `normalize.less` sets `[hidden] { display: none; }` but bootstrap.min.css set `[hidden] { display: none !important; }` so we also need the `!important` here to be able to override the default hidden behavior on the sphinx rendered scikit-learn.org. See: https://github.com/scikit-learn/scikit-learn/issues/21755 */display: inline-block !important;position: relative;}#sk-container-id-26 div.sk-text-repr-fallback {display: none;}</style><div id=\"sk-container-id-26\" class=\"sk-top-container\"><div class=\"sk-text-repr-fallback\"><pre>DecisionTreeClassifier(max_depth=1)</pre><b>In a Jupyter environment, please rerun this cell to show the HTML representation or trust the notebook. <br />On GitHub, the HTML representation is unable to render, please try loading this page with nbviewer.org.</b></div><div class=\"sk-container\" hidden><div class=\"sk-item\"><div class=\"sk-estimator sk-toggleable\"><input class=\"sk-toggleable__control sk-hidden--visually\" id=\"sk-estimator-id-30\" type=\"checkbox\" checked><label for=\"sk-estimator-id-30\" class=\"sk-toggleable__label sk-toggleable__label-arrow\">DecisionTreeClassifier</label><div class=\"sk-toggleable__content\"><pre>DecisionTreeClassifier(max_depth=1)</pre></div></div></div></div></div>"
     },
     "execution_count": 1772,
     "metadata": {},
     "output_type": "execute_result"
    }
   ],
   "source": [
    "best_clf = grid_search_cv_clf.best_estimator_\n",
    "best_clf"
   ],
   "metadata": {
    "collapsed": false
   }
  },
  {
   "cell_type": "code",
   "execution_count": 1773,
   "outputs": [
    {
     "data": {
      "text/plain": "{'criterion': 'gini', 'max_depth': 1}"
     },
     "execution_count": 1773,
     "metadata": {},
     "output_type": "execute_result"
    }
   ],
   "source": [
    "grid_search_cv_clf.best_params_"
   ],
   "metadata": {
    "collapsed": false
   }
  },
  {
   "cell_type": "code",
   "execution_count": 1774,
   "outputs": [
    {
     "data": {
      "text/plain": "DecisionTreeClassifier(max_depth=1)",
      "text/html": "<style>#sk-container-id-27 {color: black;background-color: white;}#sk-container-id-27 pre{padding: 0;}#sk-container-id-27 div.sk-toggleable {background-color: white;}#sk-container-id-27 label.sk-toggleable__label {cursor: pointer;display: block;width: 100%;margin-bottom: 0;padding: 0.3em;box-sizing: border-box;text-align: center;}#sk-container-id-27 label.sk-toggleable__label-arrow:before {content: \"▸\";float: left;margin-right: 0.25em;color: #696969;}#sk-container-id-27 label.sk-toggleable__label-arrow:hover:before {color: black;}#sk-container-id-27 div.sk-estimator:hover label.sk-toggleable__label-arrow:before {color: black;}#sk-container-id-27 div.sk-toggleable__content {max-height: 0;max-width: 0;overflow: hidden;text-align: left;background-color: #f0f8ff;}#sk-container-id-27 div.sk-toggleable__content pre {margin: 0.2em;color: black;border-radius: 0.25em;background-color: #f0f8ff;}#sk-container-id-27 input.sk-toggleable__control:checked~div.sk-toggleable__content {max-height: 200px;max-width: 100%;overflow: auto;}#sk-container-id-27 input.sk-toggleable__control:checked~label.sk-toggleable__label-arrow:before {content: \"▾\";}#sk-container-id-27 div.sk-estimator input.sk-toggleable__control:checked~label.sk-toggleable__label {background-color: #d4ebff;}#sk-container-id-27 div.sk-label input.sk-toggleable__control:checked~label.sk-toggleable__label {background-color: #d4ebff;}#sk-container-id-27 input.sk-hidden--visually {border: 0;clip: rect(1px 1px 1px 1px);clip: rect(1px, 1px, 1px, 1px);height: 1px;margin: -1px;overflow: hidden;padding: 0;position: absolute;width: 1px;}#sk-container-id-27 div.sk-estimator {font-family: monospace;background-color: #f0f8ff;border: 1px dotted black;border-radius: 0.25em;box-sizing: border-box;margin-bottom: 0.5em;}#sk-container-id-27 div.sk-estimator:hover {background-color: #d4ebff;}#sk-container-id-27 div.sk-parallel-item::after {content: \"\";width: 100%;border-bottom: 1px solid gray;flex-grow: 1;}#sk-container-id-27 div.sk-label:hover label.sk-toggleable__label {background-color: #d4ebff;}#sk-container-id-27 div.sk-serial::before {content: \"\";position: absolute;border-left: 1px solid gray;box-sizing: border-box;top: 0;bottom: 0;left: 50%;z-index: 0;}#sk-container-id-27 div.sk-serial {display: flex;flex-direction: column;align-items: center;background-color: white;padding-right: 0.2em;padding-left: 0.2em;position: relative;}#sk-container-id-27 div.sk-item {position: relative;z-index: 1;}#sk-container-id-27 div.sk-parallel {display: flex;align-items: stretch;justify-content: center;background-color: white;position: relative;}#sk-container-id-27 div.sk-item::before, #sk-container-id-27 div.sk-parallel-item::before {content: \"\";position: absolute;border-left: 1px solid gray;box-sizing: border-box;top: 0;bottom: 0;left: 50%;z-index: -1;}#sk-container-id-27 div.sk-parallel-item {display: flex;flex-direction: column;z-index: 1;position: relative;background-color: white;}#sk-container-id-27 div.sk-parallel-item:first-child::after {align-self: flex-end;width: 50%;}#sk-container-id-27 div.sk-parallel-item:last-child::after {align-self: flex-start;width: 50%;}#sk-container-id-27 div.sk-parallel-item:only-child::after {width: 0;}#sk-container-id-27 div.sk-dashed-wrapped {border: 1px dashed gray;margin: 0 0.4em 0.5em 0.4em;box-sizing: border-box;padding-bottom: 0.4em;background-color: white;}#sk-container-id-27 div.sk-label label {font-family: monospace;font-weight: bold;display: inline-block;line-height: 1.2em;}#sk-container-id-27 div.sk-label-container {text-align: center;}#sk-container-id-27 div.sk-container {/* jupyter's `normalize.less` sets `[hidden] { display: none; }` but bootstrap.min.css set `[hidden] { display: none !important; }` so we also need the `!important` here to be able to override the default hidden behavior on the sphinx rendered scikit-learn.org. See: https://github.com/scikit-learn/scikit-learn/issues/21755 */display: inline-block !important;position: relative;}#sk-container-id-27 div.sk-text-repr-fallback {display: none;}</style><div id=\"sk-container-id-27\" class=\"sk-top-container\"><div class=\"sk-text-repr-fallback\"><pre>DecisionTreeClassifier(max_depth=1)</pre><b>In a Jupyter environment, please rerun this cell to show the HTML representation or trust the notebook. <br />On GitHub, the HTML representation is unable to render, please try loading this page with nbviewer.org.</b></div><div class=\"sk-container\" hidden><div class=\"sk-item\"><div class=\"sk-estimator sk-toggleable\"><input class=\"sk-toggleable__control sk-hidden--visually\" id=\"sk-estimator-id-31\" type=\"checkbox\" checked><label for=\"sk-estimator-id-31\" class=\"sk-toggleable__label sk-toggleable__label-arrow\">DecisionTreeClassifier</label><div class=\"sk-toggleable__content\"><pre>DecisionTreeClassifier(max_depth=1)</pre></div></div></div></div></div>"
     },
     "execution_count": 1774,
     "metadata": {},
     "output_type": "execute_result"
    }
   ],
   "source": [
    "best_clf.fit(X_train, y_train)"
   ],
   "metadata": {
    "collapsed": false
   }
  },
  {
   "cell_type": "code",
   "execution_count": 1775,
   "outputs": [],
   "source": [
    "predictions_proba = best_clf.predict_proba(X_train)[:, 1]"
   ],
   "metadata": {
    "collapsed": false
   }
  },
  {
   "cell_type": "code",
   "execution_count": 1776,
   "outputs": [],
   "source": [
    "predictions = best_clf.predict(X_train)"
   ],
   "metadata": {
    "collapsed": false
   }
  },
  {
   "cell_type": "code",
   "execution_count": 1777,
   "outputs": [
    {
     "name": "stdout",
     "output_type": "stream",
     "text": [
      "Log loss = 0.28151\n",
      "AUC = 0.72333\n",
      "Average Precision = 0.23859\n",
      "\n",
      "Using 0.5 as threshold:\n",
      "Accuracy = 0.89768\n",
      "Precision = 0.00000\n",
      "Recall = 0.00000\n",
      "F1 score = 0.00000\n",
      "\n",
      "Classification Report\n",
      "              precision    recall  f1-score   support\n",
      "\n",
      "           0       0.90      1.00      0.95     17266\n",
      "           1       0.00      0.00      0.00      1968\n",
      "\n",
      "    accuracy                           0.90     19234\n",
      "   macro avg       0.45      0.50      0.47     19234\n",
      "weighted avg       0.81      0.90      0.85     19234\n",
      "\n"
     ]
    },
    {
     "name": "stderr",
     "output_type": "stream",
     "text": [
      "/Users/mitya/venv/lib/python3.10/site-packages/sklearn/metrics/_classification.py:1334: UndefinedMetricWarning: Precision is ill-defined and being set to 0.0 due to no predicted samples. Use `zero_division` parameter to control this behavior.\n",
      "  _warn_prf(average, modifier, msg_start, len(result))\n",
      "/Users/mitya/venv/lib/python3.10/site-packages/sklearn/metrics/_classification.py:1334: UndefinedMetricWarning: Precision and F-score are ill-defined and being set to 0.0 in labels with no predicted samples. Use `zero_division` parameter to control this behavior.\n",
      "  _warn_prf(average, modifier, msg_start, len(result))\n",
      "/Users/mitya/venv/lib/python3.10/site-packages/sklearn/metrics/_classification.py:1334: UndefinedMetricWarning: Precision and F-score are ill-defined and being set to 0.0 in labels with no predicted samples. Use `zero_division` parameter to control this behavior.\n",
      "  _warn_prf(average, modifier, msg_start, len(result))\n",
      "/Users/mitya/venv/lib/python3.10/site-packages/sklearn/metrics/_classification.py:1334: UndefinedMetricWarning: Precision and F-score are ill-defined and being set to 0.0 in labels with no predicted samples. Use `zero_division` parameter to control this behavior.\n",
      "  _warn_prf(average, modifier, msg_start, len(result))\n"
     ]
    }
   ],
   "source": [
    "print('Log loss = {:.5f}'.format(log_loss(y_train, predictions_proba)))\n",
    "print('AUC = {:.5f}'.format(roc_auc_score(y_train, predictions_proba)))\n",
    "print('Average Precision = {:.5f}'.format(average_precision_score(y_train, predictions_proba)))\n",
    "print('\\nUsing 0.5 as threshold:')\n",
    "print('Accuracy = {:.5f}'.format(accuracy_score(y_train, predictions)))\n",
    "print('Precision = {:.5f}'.format(precision_score(y_train, predictions)))\n",
    "print('Recall = {:.5f}'.format(recall_score(y_train, predictions)))\n",
    "print('F1 score = {:.5f}'.format(f1_score(y_train, predictions)))\n",
    "\n",
    "print('\\nClassification Report')\n",
    "print(classification_report(y_train, predictions))"
   ],
   "metadata": {
    "collapsed": false
   }
  },
  {
   "cell_type": "code",
   "execution_count": 1767,
   "outputs": [
    {
     "name": "stdout",
     "output_type": "stream",
     "text": [
      "Confusion Matrix\n"
     ]
    },
    {
     "data": {
      "text/plain": "<Figure size 640x480 with 2 Axes>",
      "image/png": "[encoded data removed]"
     },
     "metadata": {},
     "output_type": "display_data"
    }
   ],
   "source": [
    "plt.show()\n",
    "print('Confusion Matrix')\n",
    "conf_matrix = confusion_matrix(y_train, predictions)\n",
    "disp = ConfusionMatrixDisplay(conf_matrix)\n",
    "disp.plot(cmap=plt.cm.Blues, values_format='g')\n",
    "plt.show()"
   ],
   "metadata": {
    "collapsed": false
   }
  },
  {
   "cell_type": "code",
   "execution_count": 1778,
   "outputs": [],
   "source": [
    "fpr, tpr, _ = roc_curve(y_train, predictions_proba)"
   ],
   "metadata": {
    "collapsed": false
   }
  },
  {
   "cell_type": "code",
   "execution_count": 1779,
   "outputs": [
    {
     "data": {
      "text/plain": "<Figure size 640x480 with 1 Axes>",
      "image/png": "[encoded data removed]"
     },
     "metadata": {},
     "output_type": "display_data"
    }
   ],
   "source": [
    "plt.plot(fpr, tpr)\n",
    "plt.title('ROC curve')\n",
    "plt.xlabel('false positive rate')\n",
    "plt.ylabel('true positive rate')\n",
    "plt.xlim(0,)\n",
    "plt.ylim(0,)\n",
    "plt.show()"
   ],
   "metadata": {
    "collapsed": false
   }
  },
  {
   "cell_type": "code",
   "execution_count": 1780,
   "outputs": [],
   "source": [
    "pr, rc, _ = precision_recall_curve(y_train, predictions_proba)"
   ],
   "metadata": {
    "collapsed": false
   }
  },
  {
   "cell_type": "code",
   "execution_count": 1781,
   "outputs": [
    {
     "data": {
      "text/plain": "<Figure size 640x480 with 1 Axes>",
      "image/png": "[encoded data removed]"
     },
     "metadata": {},
     "output_type": "display_data"
    }
   ],
   "source": [
    "plt.plot(pr, rc)\n",
    "plt.title('Precision recall curve')\n",
    "plt.xlabel('Recall')\n",
    "plt.ylabel('Precision')\n",
    "plt.xlim(0,)\n",
    "plt.ylim(0,)\n",
    "plt.show()"
   ],
   "metadata": {
    "collapsed": false
   }
  },
  {
   "cell_type": "code",
   "execution_count": null,
   "outputs": [],
   "source": [],
   "metadata": {
    "collapsed": false
   }
  }
 ],
 "metadata": {
  "kernelspec": {
   "display_name": "Python 3",
   "language": "python",
   "name": "python3"
  },
  "language_info": {
   "codemirror_mode": {
    "name": "ipython",
    "version": 2
   },
   "file_extension": ".py",
   "mimetype": "text/x-python",
   "name": "python",
   "nbconvert_exporter": "python",
   "pygments_lexer": "ipython2",
   "version": "2.7.6"
  }
 },
 "nbformat": 4,
 "nbformat_minor": 0
}
