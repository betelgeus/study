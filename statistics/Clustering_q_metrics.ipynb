{
 "cells": [
  {
   "cell_type": "markdown",
   "source": [
    "# Гомогенность и полнота (Homogeneity and completeness)\n",
    "Кластерный анализ - это метод машинного обучения, который используется для группировки похожих объектов в кластеры. При этом возникает необходимость оценки качества полученных кластеров.\n",
    "\n",
    "Гомогенность - это мера того, насколько все объекты внутри одного кластера похожи между собой. Если все объекты в кластере очень похожи друг на друга, то гомогенность высокая.\n",
    "\n",
    "Полнота - это мера того, насколько объекты одного класса распределены между кластерами. Если все объекты одного класса находятся в одном кластере, то полнота высокая.\n",
    "\n",
    "То есть, гомогенность и полнота - это две меры, которые помогают понять, насколько полученные кластеры содержат объекты одного класса и насколько все объекты внутри кластера похожи между собой. Эти меры помогают оценить качество кластеризации.\n",
    "\n",
    "Давай представим, что у нас есть набор фотографий животных, и мы пытаемся разделить их на две категории: котики и собачки. Для этого мы используем алгоритм кластеризации и получаем два кластера: котиков и собачек.\n",
    "\n",
    "Теперь давай представим, что у нас есть набор правильных меток для каждой фотографии, которые говорят нам, является ли животное на фото котиком или собачкой. Например, мы можем использовать набор меток, созданный экспертом, который разметил каждую фотографию как котика или собачку.\n",
    "\n",
    "Гомогенность и полнота могут помочь нам оценить, насколько хорошо наш алгоритм кластеризации справился с задачей разделения на категории. Гомогенность измеряет, насколько много объектов из одной категории было помещено в один кластер. Например, если в одном кластере окажется большинство котиков, а в другом большинство собачек, то гомогенность будет высокой. Полнота измеряет, насколько много объектов из одной категории было найдено и помещено в соответствующий кластер. Например, если все котики были правильно размещены в кластере котиков, а собачки в кластере собачек, то полнота будет высокой."
   ],
   "metadata": {
    "collapsed": false
   }
  },
  {
   "cell_type": "code",
   "execution_count": 1,
   "outputs": [],
   "source": [
    "import numpy as np\n",
    "np.warnings.filterwarnings('ignore', category=np.VisibleDeprecationWarning)\n",
    "\n",
    "from sklearn.metrics import homogeneity_score, completeness_score\n",
    "from sklearn.metrics.cluster import contingency_matrix"
   ],
   "metadata": {
    "collapsed": false
   }
  },
  {
   "cell_type": "code",
   "execution_count": 2,
   "outputs": [],
   "source": [
    "# создадим два вектора\n",
    "# с истинными классами\n",
    "labels_true = [1, 1, 1, 2, 2, 2, 3, 3, 4, 4, 4]\n",
    "# и результатом кластеризации\n",
    "labels_pred = [1, 1, 2, 2, 2, 2, 3, 3, 3, 4, 4]"
   ],
   "metadata": {
    "collapsed": false
   }
  },
  {
   "cell_type": "code",
   "execution_count": 3,
   "outputs": [],
   "source": [
    "# создадим таблицу сопряженности, где строки — это классы, столбцы — кластеризация\n",
    "cont_matrix = contingency_matrix(labels_true, labels_pred)\n",
    "# найдем общее количество наблюдений\n",
    "n = len(labels_true)\n",
    "# создадим вектор с суммой по каждому классу\n",
    "sum_rows = np.sum(cont_matrix, axis=1)\n",
    "# создадим вектор с суммой по каждому кластеру\n",
    "sum_cols = np.sum(cont_matrix, axis=0)"
   ],
   "metadata": {
    "collapsed": false
   }
  },
  {
   "cell_type": "markdown",
   "source": [
    "### Найдем гомогенность\n",
    "Когда все наблюдения в кластере $k$ имеют одинаковую метку $c$, гомогенность равна $1$. Можно сказать, что гомогенность — это когда каждый кластер содержит только наблюдения одного класса. $h \\in [0 , 1]$\n",
    "\n",
    "$ h = 1 - \\frac{H(C|K)}{H(C)} \\\\\n",
    "H(C|K) = \\sum_{c=1}^C \\sum_{k=1}^K \\frac{n_{c,k}}{n} log \\Big( \\frac{n_{c,k}}{n_k} \\Big) \\\\\n",
    "H(C) = \\sum_{c=1}^C \\frac{n_{c}}{n} log \\Big( \\frac{n_{c}}{n} \\Big) $\n",
    "\n",
    ", где $n$ — общее количество наблюдений, $c$ – количество классов, $k$ – количество кластеров, $n_c$ — наблюдений в классе $с$, $n_k$ — наблюдений в кластере $k$, $n_{c, k}$ — наблюдений с меткой класса $с$ в кластере $k$\n"
   ],
   "metadata": {
    "collapsed": false
   }
  },
  {
   "cell_type": "code",
   "execution_count": 4,
   "outputs": [],
   "source": [
    "# реализуем формулу поиска гомогенности\n",
    "H_CK = 0\n",
    "# извлечем строки таблицы сопряженности,\n",
    "# они содержат принадлежность наблюдений к классу\n",
    "for cols in cont_matrix:\n",
    "    # извлечем количество наблюдений с меткой c в классе k\n",
    "    # извлечем число наблюдений в каждом кластере\n",
    "    for n_ck, n_c in zip(cols, sum_cols):\n",
    "        if n_ck > 0:\n",
    "            # реализуем формулу H(C|K)\n",
    "            H_CK -= n_ck/n * np.log(n_ck/n_c)\n",
    "\n",
    "H_C = 0\n",
    "# извлечем количество наблюдений в каждом классе\n",
    "for n_c in sum_rows:\n",
    "    # реализуем формулу H(C)\n",
    "    H_C -= n_c/n * np.log(n_c/n)\n",
    "\n",
    "h = 1 - (H_CK/H_C)"
   ],
   "metadata": {
    "collapsed": false
   }
  },
  {
   "cell_type": "code",
   "execution_count": 5,
   "outputs": [
    {
     "name": "stdout",
     "output_type": "stream",
     "text": [
      "H_CK:  0.37808028030542473\n",
      "H_C:  1.3730039128771998\n",
      "h:  0.7246327728861761\n",
      "h_score:  0.7246327728861762\n"
     ]
    }
   ],
   "source": [
    "# компактное представление и проверка результата с помощью sklearn\n",
    "H_CK = - np.sum(np.sum([[n_ck/n * np.log(n_ck/n_k) for n_ck, n_k in zip(cols, sum_cols) if n_ck > 0] for cols in cont_matrix]))\n",
    "H_C = - np.sum([n_c/n * np.log(n_c/n) for n_c in sum_rows])\n",
    "h = 1 - (H_CK/H_C)\n",
    "print('H_CK: ', H_CK)\n",
    "print('H_C: ', H_C)\n",
    "print('h: ', h)\n",
    "print('h_score: ', homogeneity_score(labels_true, labels_pred))"
   ],
   "metadata": {
    "collapsed": false
   }
  },
  {
   "cell_type": "markdown",
   "source": [
    "### Найдем полноту\n",
    "Можно сказать, что полнота — это зеркальная мера гомогенности. Полнота равна $1$, когда все наблюдения класса $с$ всегда оказываются в одном кластере $k$. $c \\in [0 , 1]$\n",
    "\n",
    "$ c = 1 - \\frac{H(K|C)}{H(K)} \\\\\n",
    "H(K|C) = \\sum_{k=1}^K \\sum_{c=1}^C \\frac{n_{k,c}}{n} log \\Big( \\frac{n_{k,c}}{n_c} \\Big) \\\\\n",
    "H(K) = \\sum_{k=1}^K \\frac{n_{k}}{n} log \\Big( \\frac{n_{k}}{n} \\Big) $\n",
    "\n",
    ", где $n$ — общее количество наблюдений, $c$ – количество классов, $k$ – количество кластеров, $n_c$ — наблюдений в классе $с$, $n_k$ — наблюдений в кластере $k$, $n_{k, c}$ — наблюдений в кластере $k$ с меткой класса $с$"
   ],
   "metadata": {
    "collapsed": false
   }
  },
  {
   "cell_type": "code",
   "execution_count": 6,
   "outputs": [],
   "source": [
    "# реализуем формулу поиска полноты\n",
    "H_KC = 0\n",
    "# извлечем строки таблицы сопряженности,\n",
    "# они содержат принадлежность наблюдений к классу\n",
    "# извлечем число наблюдений в каждом классе\n",
    "for cols, n_c in zip(cont_matrix, sum_rows):\n",
    "    # извлечем количество наблюдений в классе k с меткой c\n",
    "    for n_kc in cols:\n",
    "        if n_kc > 0:\n",
    "            # реализуем формулу H(K|C)\n",
    "            H_KC -= n_kc/n * np.log(n_kc/n_c)\n",
    "\n",
    "H_K = 0\n",
    "# извлечем количество наблюдений в каждом кластере\n",
    "for n_k in sum_cols:\n",
    "    # реализуем формулу H(K)\n",
    "    H_K -= n_k/n * np.log(n_k/n)"
   ],
   "metadata": {
    "collapsed": false
   }
  },
  {
   "cell_type": "code",
   "execution_count": 7,
   "outputs": [
    {
     "name": "stdout",
     "output_type": "stream",
     "text": [
      "H_K: 1.3421131789144003\n",
      "H_KC: 0.3471895463426252\n",
      "c: 0.7413112755338134\n",
      "c_score: 0.7413112755338134\n"
     ]
    }
   ],
   "source": [
    "# компактное представление и проверка результата с помощью sklearn\n",
    "H_K = - np.sum([n_k/n * np.log(n_k/n) for n_k in sum_cols])\n",
    "H_KC = - np.sum(np.sum([[n_kc/n * np.log(n_kc/n_c) for n_kc in cols if n_kc > 0] for cols, n_c in zip(cont_matrix, sum_rows)]))\n",
    "c = 1 - (H_KC/H_K)\n",
    "print('H_K:', H_K)\n",
    "print('H_KC:', H_KC)\n",
    "print('c:', c)\n",
    "print('c_score:', completeness_score(labels_true, labels_pred))"
   ],
   "metadata": {
    "collapsed": false
   }
  },
  {
   "cell_type": "code",
   "execution_count": null,
   "outputs": [],
   "source": [],
   "metadata": {
    "collapsed": false
   }
  }
 ],
 "metadata": {
  "kernelspec": {
   "display_name": "Python 3",
   "language": "python",
   "name": "python3"
  },
  "language_info": {
   "codemirror_mode": {
    "name": "ipython",
    "version": 2
   },
   "file_extension": ".py",
   "mimetype": "text/x-python",
   "name": "python",
   "nbconvert_exporter": "python",
   "pygments_lexer": "ipython2",
   "version": "2.7.6"
  }
 },
 "nbformat": 4,
 "nbformat_minor": 0
}
