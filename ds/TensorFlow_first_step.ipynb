{
 "cells": [
  {
   "cell_type": "code",
   "execution_count": 148,
   "metadata": {
    "collapsed": true
   },
   "outputs": [],
   "source": [
    "import pandas as pd\n",
    "import numpy as np\n",
    "import matplotlib.pyplot as plt\n",
    "import tensorflow as tf\n",
    "\n",
    "from sklearn.model_selection import train_test_split\n",
    "from sklearn.preprocessing import StandardScaler\n",
    "\n",
    "from tensorflow.keras.models import Sequential\n",
    "from tensorflow.keras.layers import Dense\n",
    "\n",
    "from sklearn.preprocessing import StandardScaler\n",
    "from sklearn.model_selection import train_test_split\n",
    "from sklearn.metrics import log_loss, roc_auc_score, recall_score, precision_score, average_precision_score, f1_score, classification_report, accuracy_score, ConfusionMatrixDisplay, confusion_matrix, roc_curve, precision_recall_curve"
   ]
  },
  {
   "cell_type": "code",
   "execution_count": 3,
   "outputs": [],
   "source": [
    "import mysql_connector_ssh_rsa"
   ],
   "metadata": {
    "collapsed": false
   }
  },
  {
   "cell_type": "code",
   "execution_count": 4,
   "outputs": [],
   "source": [
    "Con = mysql_connector_ssh_rsa.Connector"
   ],
   "metadata": {
    "collapsed": false
   }
  },
  {
   "cell_type": "code",
   "execution_count": 5,
   "outputs": [],
   "source": [
    "query = 'select * from `es-orders`.orders'\n",
    "df = Con.mysql_connect(query)"
   ],
   "metadata": {
    "collapsed": false
   }
  },
  {
   "cell_type": "code",
   "execution_count": 6,
   "outputs": [],
   "source": [
    "df_filter = df[(df.status_id == 'DELETE') | (df.status_id == 'DONE')]"
   ],
   "metadata": {
    "collapsed": false
   }
  },
  {
   "cell_type": "code",
   "execution_count": 7,
   "outputs": [],
   "source": [
    "df_research = df_filter[['status_id', 'total', 'distance_feed', 'distance_return', 'cargo_count', 'is_individual_calc', 'communication_method', 'payment_method', 'duration', 'distance_out_of_city', 'paid_by_cash', 'discount', 'tariff_param_id']]"
   ],
   "metadata": {
    "collapsed": false
   }
  },
  {
   "cell_type": "code",
   "execution_count": 8,
   "outputs": [],
   "source": [
    "df_research.status_id = df_research.status_id.map({'DONE': 1, 'DELETE': 0})"
   ],
   "metadata": {
    "collapsed": false
   }
  },
  {
   "cell_type": "code",
   "execution_count": 11,
   "outputs": [],
   "source": [
    "df_dummy = pd.get_dummies(df_research, columns=['cargo_count', 'is_individual_calc', 'communication_method', 'payment_method', 'duration',  'tariff_param_id', 'discount'], drop_first=True)"
   ],
   "metadata": {
    "collapsed": false
   }
  },
  {
   "cell_type": "code",
   "execution_count": 12,
   "outputs": [],
   "source": [
    "numeric_cols = ['total', 'distance_feed', 'distance_return', 'distance_out_of_city', 'paid_by_cash' ]\n",
    "cat_cols = list(set(df_dummy.columns) - set(numeric_cols) - {'status_id'})\n",
    "cat_cols.sort()"
   ],
   "metadata": {
    "collapsed": false
   }
  },
  {
   "cell_type": "code",
   "execution_count": 15,
   "outputs": [],
   "source": [
    "random_seed = np.random.seed(0)\n",
    "df_train, df_test = train_test_split(df_dummy, test_size=0.25, random_state=random_seed, stratify=df_dummy['status_id'])"
   ],
   "metadata": {
    "collapsed": false
   }
  },
  {
   "cell_type": "code",
   "execution_count": 18,
   "outputs": [
    {
     "data": {
      "text/plain": "StandardScaler()",
      "text/html": "<style>#sk-container-id-1 {color: black;background-color: white;}#sk-container-id-1 pre{padding: 0;}#sk-container-id-1 div.sk-toggleable {background-color: white;}#sk-container-id-1 label.sk-toggleable__label {cursor: pointer;display: block;width: 100%;margin-bottom: 0;padding: 0.3em;box-sizing: border-box;text-align: center;}#sk-container-id-1 label.sk-toggleable__label-arrow:before {content: \"▸\";float: left;margin-right: 0.25em;color: #696969;}#sk-container-id-1 label.sk-toggleable__label-arrow:hover:before {color: black;}#sk-container-id-1 div.sk-estimator:hover label.sk-toggleable__label-arrow:before {color: black;}#sk-container-id-1 div.sk-toggleable__content {max-height: 0;max-width: 0;overflow: hidden;text-align: left;background-color: #f0f8ff;}#sk-container-id-1 div.sk-toggleable__content pre {margin: 0.2em;color: black;border-radius: 0.25em;background-color: #f0f8ff;}#sk-container-id-1 input.sk-toggleable__control:checked~div.sk-toggleable__content {max-height: 200px;max-width: 100%;overflow: auto;}#sk-container-id-1 input.sk-toggleable__control:checked~label.sk-toggleable__label-arrow:before {content: \"▾\";}#sk-container-id-1 div.sk-estimator input.sk-toggleable__control:checked~label.sk-toggleable__label {background-color: #d4ebff;}#sk-container-id-1 div.sk-label input.sk-toggleable__control:checked~label.sk-toggleable__label {background-color: #d4ebff;}#sk-container-id-1 input.sk-hidden--visually {border: 0;clip: rect(1px 1px 1px 1px);clip: rect(1px, 1px, 1px, 1px);height: 1px;margin: -1px;overflow: hidden;padding: 0;position: absolute;width: 1px;}#sk-container-id-1 div.sk-estimator {font-family: monospace;background-color: #f0f8ff;border: 1px dotted black;border-radius: 0.25em;box-sizing: border-box;margin-bottom: 0.5em;}#sk-container-id-1 div.sk-estimator:hover {background-color: #d4ebff;}#sk-container-id-1 div.sk-parallel-item::after {content: \"\";width: 100%;border-bottom: 1px solid gray;flex-grow: 1;}#sk-container-id-1 div.sk-label:hover label.sk-toggleable__label {background-color: #d4ebff;}#sk-container-id-1 div.sk-serial::before {content: \"\";position: absolute;border-left: 1px solid gray;box-sizing: border-box;top: 0;bottom: 0;left: 50%;z-index: 0;}#sk-container-id-1 div.sk-serial {display: flex;flex-direction: column;align-items: center;background-color: white;padding-right: 0.2em;padding-left: 0.2em;position: relative;}#sk-container-id-1 div.sk-item {position: relative;z-index: 1;}#sk-container-id-1 div.sk-parallel {display: flex;align-items: stretch;justify-content: center;background-color: white;position: relative;}#sk-container-id-1 div.sk-item::before, #sk-container-id-1 div.sk-parallel-item::before {content: \"\";position: absolute;border-left: 1px solid gray;box-sizing: border-box;top: 0;bottom: 0;left: 50%;z-index: -1;}#sk-container-id-1 div.sk-parallel-item {display: flex;flex-direction: column;z-index: 1;position: relative;background-color: white;}#sk-container-id-1 div.sk-parallel-item:first-child::after {align-self: flex-end;width: 50%;}#sk-container-id-1 div.sk-parallel-item:last-child::after {align-self: flex-start;width: 50%;}#sk-container-id-1 div.sk-parallel-item:only-child::after {width: 0;}#sk-container-id-1 div.sk-dashed-wrapped {border: 1px dashed gray;margin: 0 0.4em 0.5em 0.4em;box-sizing: border-box;padding-bottom: 0.4em;background-color: white;}#sk-container-id-1 div.sk-label label {font-family: monospace;font-weight: bold;display: inline-block;line-height: 1.2em;}#sk-container-id-1 div.sk-label-container {text-align: center;}#sk-container-id-1 div.sk-container {/* jupyter's `normalize.less` sets `[hidden] { display: none; }` but bootstrap.min.css set `[hidden] { display: none !important; }` so we also need the `!important` here to be able to override the default hidden behavior on the sphinx rendered scikit-learn.org. See: https://github.com/scikit-learn/scikit-learn/issues/21755 */display: inline-block !important;position: relative;}#sk-container-id-1 div.sk-text-repr-fallback {display: none;}</style><div id=\"sk-container-id-1\" class=\"sk-top-container\"><div class=\"sk-text-repr-fallback\"><pre>StandardScaler()</pre><b>In a Jupyter environment, please rerun this cell to show the HTML representation or trust the notebook. <br />On GitHub, the HTML representation is unable to render, please try loading this page with nbviewer.org.</b></div><div class=\"sk-container\" hidden><div class=\"sk-item\"><div class=\"sk-estimator sk-toggleable\"><input class=\"sk-toggleable__control sk-hidden--visually\" id=\"sk-estimator-id-1\" type=\"checkbox\" checked><label for=\"sk-estimator-id-1\" class=\"sk-toggleable__label sk-toggleable__label-arrow\">StandardScaler</label><div class=\"sk-toggleable__content\"><pre>StandardScaler()</pre></div></div></div></div></div>"
     },
     "execution_count": 18,
     "metadata": {},
     "output_type": "execute_result"
    }
   ],
   "source": [
    "scaler = StandardScaler()\n",
    "scaler.fit(df_dummy[numeric_cols])"
   ],
   "metadata": {
    "collapsed": false
   }
  },
  {
   "cell_type": "code",
   "execution_count": 19,
   "outputs": [],
   "source": [
    "def get_features_and_target_arrays(df, numeric_cols, cat_cols, scaler):\n",
    "    X_numeric_scaled = scaler.transform(df[numeric_cols])\n",
    "    X_categorical = df[cat_cols].to_numpy()\n",
    "    X = np.hstack((X_categorical, X_numeric_scaled))\n",
    "    y = df['status_id']\n",
    "    return X, y"
   ],
   "metadata": {
    "collapsed": false
   }
  },
  {
   "cell_type": "code",
   "execution_count": 69,
   "outputs": [],
   "source": [
    "X, y = get_features_and_target_arrays(df_dummy, numeric_cols, cat_cols, scaler)"
   ],
   "metadata": {
    "collapsed": false
   }
  },
  {
   "cell_type": "code",
   "execution_count": 21,
   "outputs": [],
   "source": [
    "X_test, y_test = get_features_and_target_arrays(df_test, numeric_cols, cat_cols, scaler)"
   ],
   "metadata": {
    "collapsed": false
   }
  },
  {
   "cell_type": "code",
   "execution_count": 70,
   "outputs": [
    {
     "data": {
      "text/plain": "(3999, 46)"
     },
     "execution_count": 70,
     "metadata": {},
     "output_type": "execute_result"
    }
   ],
   "source": [
    "X.shape"
   ],
   "metadata": {
    "collapsed": false
   }
  },
  {
   "cell_type": "code",
   "execution_count": 74,
   "outputs": [],
   "source": [
    "n_features = X.shape[1]\n",
    "model = Sequential()\n",
    "model.add(Dense(int(round((n_features+1)/2)), input_shape=(n_features,), activation='relu'))\n",
    "model.add(Dense(int(round((n_features+1)/4)), activation='relu'))\n",
    "model.add(Dense(1, activation='sigmoid'))"
   ],
   "metadata": {
    "collapsed": false
   }
  },
  {
   "cell_type": "code",
   "execution_count": 136,
   "outputs": [],
   "source": [
    "model.compile(loss='binary_crossentropy', optimizer='adam', metrics=[tf.keras.metrics.Recall()])"
   ],
   "metadata": {
    "collapsed": false
   }
  },
  {
   "cell_type": "code",
   "execution_count": 137,
   "outputs": [
    {
     "name": "stdout",
     "output_type": "stream",
     "text": [
      "Epoch 1/300\n",
      "134/134 [==============================] - 1s 2ms/step - loss: 0.2518 - recall: 0.8248\n",
      "Epoch 2/300\n",
      "134/134 [==============================] - 0s 2ms/step - loss: 0.2490 - recall: 0.8322\n",
      "Epoch 3/300\n",
      "134/134 [==============================] - 0s 2ms/step - loss: 0.2490 - recall: 0.8240\n",
      "Epoch 4/300\n",
      "134/134 [==============================] - 0s 2ms/step - loss: 0.2490 - recall: 0.8277\n",
      "Epoch 5/300\n",
      "134/134 [==============================] - 0s 2ms/step - loss: 0.2467 - recall: 0.8233\n",
      "Epoch 6/300\n",
      "134/134 [==============================] - 0s 2ms/step - loss: 0.2480 - recall: 0.8248\n",
      "Epoch 7/300\n",
      "134/134 [==============================] - 0s 2ms/step - loss: 0.2479 - recall: 0.8404\n",
      "Epoch 8/300\n",
      "134/134 [==============================] - 0s 2ms/step - loss: 0.2479 - recall: 0.8255\n",
      "Epoch 9/300\n",
      "134/134 [==============================] - 0s 2ms/step - loss: 0.2478 - recall: 0.8345\n",
      "Epoch 10/300\n",
      "134/134 [==============================] - 0s 2ms/step - loss: 0.2486 - recall: 0.8248\n",
      "Epoch 11/300\n",
      "134/134 [==============================] - 0s 2ms/step - loss: 0.2472 - recall: 0.8225\n",
      "Epoch 12/300\n",
      "134/134 [==============================] - 0s 2ms/step - loss: 0.2479 - recall: 0.8315\n",
      "Epoch 13/300\n",
      "134/134 [==============================] - 0s 2ms/step - loss: 0.2472 - recall: 0.8210\n",
      "Epoch 14/300\n",
      "134/134 [==============================] - 0s 2ms/step - loss: 0.2471 - recall: 0.8374\n",
      "Epoch 15/300\n",
      "134/134 [==============================] - 0s 2ms/step - loss: 0.2466 - recall: 0.8307\n",
      "Epoch 16/300\n",
      "134/134 [==============================] - 0s 2ms/step - loss: 0.2475 - recall: 0.8315\n",
      "Epoch 17/300\n",
      "134/134 [==============================] - 0s 2ms/step - loss: 0.2464 - recall: 0.8188\n",
      "Epoch 18/300\n",
      "134/134 [==============================] - 0s 2ms/step - loss: 0.2480 - recall: 0.8195\n",
      "Epoch 19/300\n",
      "134/134 [==============================] - 0s 2ms/step - loss: 0.2483 - recall: 0.8225\n",
      "Epoch 20/300\n",
      "134/134 [==============================] - 0s 2ms/step - loss: 0.2466 - recall: 0.8218\n",
      "Epoch 21/300\n",
      "134/134 [==============================] - 0s 1ms/step - loss: 0.2479 - recall: 0.8292\n",
      "Epoch 22/300\n",
      "134/134 [==============================] - 0s 2ms/step - loss: 0.2455 - recall: 0.8255\n",
      "Epoch 23/300\n",
      "134/134 [==============================] - 0s 2ms/step - loss: 0.2480 - recall: 0.8218\n",
      "Epoch 24/300\n",
      "134/134 [==============================] - 0s 2ms/step - loss: 0.2465 - recall: 0.8180\n",
      "Epoch 25/300\n",
      "134/134 [==============================] - 0s 1ms/step - loss: 0.2490 - recall: 0.8255\n",
      "Epoch 26/300\n",
      "134/134 [==============================] - 0s 1ms/step - loss: 0.2476 - recall: 0.8225\n",
      "Epoch 27/300\n",
      "134/134 [==============================] - 0s 2ms/step - loss: 0.2467 - recall: 0.8218\n",
      "Epoch 28/300\n",
      "134/134 [==============================] - 0s 1ms/step - loss: 0.2467 - recall: 0.8292\n",
      "Epoch 29/300\n",
      "134/134 [==============================] - 0s 1ms/step - loss: 0.2464 - recall: 0.8195\n",
      "Epoch 30/300\n",
      "134/134 [==============================] - 0s 1ms/step - loss: 0.2465 - recall: 0.8180\n",
      "Epoch 31/300\n",
      "134/134 [==============================] - 0s 2ms/step - loss: 0.2463 - recall: 0.8285\n",
      "Epoch 32/300\n",
      "134/134 [==============================] - 0s 2ms/step - loss: 0.2493 - recall: 0.8270\n",
      "Epoch 33/300\n",
      "134/134 [==============================] - 0s 2ms/step - loss: 0.2469 - recall: 0.8292\n",
      "Epoch 34/300\n",
      "134/134 [==============================] - 0s 2ms/step - loss: 0.2470 - recall: 0.8210\n",
      "Epoch 35/300\n",
      "134/134 [==============================] - 0s 2ms/step - loss: 0.2467 - recall: 0.8300\n",
      "Epoch 36/300\n",
      "134/134 [==============================] - 0s 2ms/step - loss: 0.2478 - recall: 0.8255\n",
      "Epoch 37/300\n",
      "134/134 [==============================] - 0s 2ms/step - loss: 0.2473 - recall: 0.8262\n",
      "Epoch 38/300\n",
      "134/134 [==============================] - 0s 2ms/step - loss: 0.2480 - recall: 0.8203\n",
      "Epoch 39/300\n",
      "134/134 [==============================] - 0s 2ms/step - loss: 0.2548 - recall: 0.8248\n",
      "Epoch 40/300\n",
      "134/134 [==============================] - 0s 2ms/step - loss: 0.2469 - recall: 0.8195\n",
      "Epoch 41/300\n",
      "134/134 [==============================] - 0s 2ms/step - loss: 0.2469 - recall: 0.8210\n",
      "Epoch 42/300\n",
      "134/134 [==============================] - 0s 2ms/step - loss: 0.2469 - recall: 0.8285\n",
      "Epoch 43/300\n",
      "134/134 [==============================] - 0s 1ms/step - loss: 0.2460 - recall: 0.8277\n",
      "Epoch 44/300\n",
      "134/134 [==============================] - 0s 1ms/step - loss: 0.2467 - recall: 0.8292\n",
      "Epoch 45/300\n",
      "134/134 [==============================] - 0s 2ms/step - loss: 0.2454 - recall: 0.8292\n",
      "Epoch 46/300\n",
      "134/134 [==============================] - 0s 2ms/step - loss: 0.2469 - recall: 0.8337\n",
      "Epoch 47/300\n",
      "134/134 [==============================] - 0s 2ms/step - loss: 0.2453 - recall: 0.8248\n",
      "Epoch 48/300\n",
      "134/134 [==============================] - 0s 2ms/step - loss: 0.2459 - recall: 0.8300\n",
      "Epoch 49/300\n",
      "134/134 [==============================] - 0s 2ms/step - loss: 0.2462 - recall: 0.8307\n",
      "Epoch 50/300\n",
      "134/134 [==============================] - 0s 2ms/step - loss: 0.2452 - recall: 0.8300\n",
      "Epoch 51/300\n",
      "134/134 [==============================] - 0s 2ms/step - loss: 0.2459 - recall: 0.8277\n",
      "Epoch 52/300\n",
      "134/134 [==============================] - 0s 2ms/step - loss: 0.2451 - recall: 0.8374\n",
      "Epoch 53/300\n",
      "134/134 [==============================] - 0s 2ms/step - loss: 0.2456 - recall: 0.8233\n",
      "Epoch 54/300\n",
      "134/134 [==============================] - 0s 2ms/step - loss: 0.2461 - recall: 0.8262\n",
      "Epoch 55/300\n",
      "134/134 [==============================] - 0s 2ms/step - loss: 0.2474 - recall: 0.8307\n",
      "Epoch 56/300\n",
      "134/134 [==============================] - 0s 1ms/step - loss: 0.2467 - recall: 0.8255\n",
      "Epoch 57/300\n",
      "134/134 [==============================] - 0s 1ms/step - loss: 0.2452 - recall: 0.8233\n",
      "Epoch 58/300\n",
      "134/134 [==============================] - 0s 2ms/step - loss: 0.2456 - recall: 0.8277\n",
      "Epoch 59/300\n",
      "134/134 [==============================] - 0s 1ms/step - loss: 0.2477 - recall: 0.8210\n",
      "Epoch 60/300\n",
      "134/134 [==============================] - 0s 2ms/step - loss: 0.2457 - recall: 0.8277\n",
      "Epoch 61/300\n",
      "134/134 [==============================] - 0s 2ms/step - loss: 0.2443 - recall: 0.8315\n",
      "Epoch 62/300\n",
      "134/134 [==============================] - 0s 2ms/step - loss: 0.2465 - recall: 0.8173\n",
      "Epoch 63/300\n",
      "134/134 [==============================] - 0s 2ms/step - loss: 0.2443 - recall: 0.8315\n",
      "Epoch 64/300\n",
      "134/134 [==============================] - 0s 2ms/step - loss: 0.2465 - recall: 0.8188\n",
      "Epoch 65/300\n",
      "134/134 [==============================] - 0s 2ms/step - loss: 0.2443 - recall: 0.8240\n",
      "Epoch 66/300\n",
      "134/134 [==============================] - 0s 1ms/step - loss: 0.2463 - recall: 0.8210\n",
      "Epoch 67/300\n",
      "134/134 [==============================] - 0s 1ms/step - loss: 0.2468 - recall: 0.8255\n",
      "Epoch 68/300\n",
      "134/134 [==============================] - 0s 1ms/step - loss: 0.2494 - recall: 0.8262\n",
      "Epoch 69/300\n",
      "134/134 [==============================] - 0s 1ms/step - loss: 0.2466 - recall: 0.8240\n",
      "Epoch 70/300\n",
      "134/134 [==============================] - 0s 1ms/step - loss: 0.2451 - recall: 0.8285\n",
      "Epoch 71/300\n",
      "134/134 [==============================] - 0s 1ms/step - loss: 0.2451 - recall: 0.8248\n",
      "Epoch 72/300\n",
      "134/134 [==============================] - 0s 1ms/step - loss: 0.2445 - recall: 0.8285\n",
      "Epoch 73/300\n",
      "134/134 [==============================] - 0s 1ms/step - loss: 0.2455 - recall: 0.8307\n",
      "Epoch 74/300\n",
      "134/134 [==============================] - 0s 1ms/step - loss: 0.2446 - recall: 0.8270\n",
      "Epoch 75/300\n",
      "134/134 [==============================] - 0s 1ms/step - loss: 0.2448 - recall: 0.8218\n",
      "Epoch 76/300\n",
      "134/134 [==============================] - 0s 1ms/step - loss: 0.2452 - recall: 0.8292\n",
      "Epoch 77/300\n",
      "134/134 [==============================] - 0s 1ms/step - loss: 0.2440 - recall: 0.8322\n",
      "Epoch 78/300\n",
      "134/134 [==============================] - 0s 1ms/step - loss: 0.2460 - recall: 0.8136\n",
      "Epoch 79/300\n",
      "134/134 [==============================] - 0s 1ms/step - loss: 0.2465 - recall: 0.8285\n",
      "Epoch 80/300\n",
      "134/134 [==============================] - 0s 1ms/step - loss: 0.2435 - recall: 0.8412\n",
      "Epoch 81/300\n",
      "134/134 [==============================] - 0s 1ms/step - loss: 0.2447 - recall: 0.8337\n",
      "Epoch 82/300\n",
      "134/134 [==============================] - 0s 1ms/step - loss: 0.2450 - recall: 0.8292\n",
      "Epoch 83/300\n",
      "134/134 [==============================] - 0s 1ms/step - loss: 0.2449 - recall: 0.8248\n",
      "Epoch 84/300\n",
      "134/134 [==============================] - 0s 1ms/step - loss: 0.2460 - recall: 0.8233\n",
      "Epoch 85/300\n",
      "134/134 [==============================] - 0s 1ms/step - loss: 0.2444 - recall: 0.8292\n",
      "Epoch 86/300\n",
      "134/134 [==============================] - 0s 1ms/step - loss: 0.2463 - recall: 0.8337\n",
      "Epoch 87/300\n",
      "134/134 [==============================] - 0s 1ms/step - loss: 0.2451 - recall: 0.8203\n",
      "Epoch 88/300\n",
      "134/134 [==============================] - 0s 2ms/step - loss: 0.2491 - recall: 0.8285\n",
      "Epoch 89/300\n",
      "134/134 [==============================] - 0s 2ms/step - loss: 0.2490 - recall: 0.8203\n",
      "Epoch 90/300\n",
      "134/134 [==============================] - 0s 2ms/step - loss: 0.2461 - recall: 0.8262\n",
      "Epoch 91/300\n",
      "134/134 [==============================] - 0s 2ms/step - loss: 0.2444 - recall: 0.8262\n",
      "Epoch 92/300\n",
      "134/134 [==============================] - 0s 2ms/step - loss: 0.2448 - recall: 0.8315\n",
      "Epoch 93/300\n",
      "134/134 [==============================] - 0s 2ms/step - loss: 0.2448 - recall: 0.8330\n",
      "Epoch 94/300\n",
      "134/134 [==============================] - 0s 2ms/step - loss: 0.2447 - recall: 0.8255\n",
      "Epoch 95/300\n",
      "134/134 [==============================] - 0s 2ms/step - loss: 0.2439 - recall: 0.8240\n",
      "Epoch 96/300\n",
      "134/134 [==============================] - 0s 2ms/step - loss: 0.2439 - recall: 0.8337\n",
      "Epoch 97/300\n",
      "134/134 [==============================] - 0s 2ms/step - loss: 0.2493 - recall: 0.8285\n",
      "Epoch 98/300\n",
      "134/134 [==============================] - 0s 2ms/step - loss: 0.2477 - recall: 0.8188\n",
      "Epoch 99/300\n",
      "134/134 [==============================] - 0s 2ms/step - loss: 0.2455 - recall: 0.8277\n",
      "Epoch 100/300\n",
      "134/134 [==============================] - 0s 2ms/step - loss: 0.2445 - recall: 0.8270\n",
      "Epoch 101/300\n",
      "134/134 [==============================] - 0s 2ms/step - loss: 0.2442 - recall: 0.8248\n",
      "Epoch 102/300\n",
      "134/134 [==============================] - 0s 2ms/step - loss: 0.2444 - recall: 0.8359\n",
      "Epoch 103/300\n",
      "134/134 [==============================] - 0s 2ms/step - loss: 0.2444 - recall: 0.8285\n",
      "Epoch 104/300\n",
      "134/134 [==============================] - 0s 2ms/step - loss: 0.2457 - recall: 0.8315\n",
      "Epoch 105/300\n",
      "134/134 [==============================] - 0s 2ms/step - loss: 0.2466 - recall: 0.8113\n",
      "Epoch 106/300\n",
      "134/134 [==============================] - 0s 2ms/step - loss: 0.2429 - recall: 0.8352\n",
      "Epoch 107/300\n",
      "134/134 [==============================] - 0s 2ms/step - loss: 0.2472 - recall: 0.8180\n",
      "Epoch 108/300\n",
      "134/134 [==============================] - 0s 2ms/step - loss: 0.2444 - recall: 0.8292\n",
      "Epoch 109/300\n",
      "134/134 [==============================] - 0s 2ms/step - loss: 0.2453 - recall: 0.8285\n",
      "Epoch 110/300\n",
      "134/134 [==============================] - 0s 2ms/step - loss: 0.2445 - recall: 0.8270\n",
      "Epoch 111/300\n",
      "134/134 [==============================] - 0s 2ms/step - loss: 0.2430 - recall: 0.8359\n",
      "Epoch 112/300\n",
      "134/134 [==============================] - 0s 2ms/step - loss: 0.2453 - recall: 0.8315\n",
      "Epoch 113/300\n",
      "134/134 [==============================] - 0s 2ms/step - loss: 0.2466 - recall: 0.8262\n",
      "Epoch 114/300\n",
      "134/134 [==============================] - 0s 2ms/step - loss: 0.2472 - recall: 0.8233\n",
      "Epoch 115/300\n",
      "134/134 [==============================] - 0s 2ms/step - loss: 0.2448 - recall: 0.8240\n",
      "Epoch 116/300\n",
      "134/134 [==============================] - 0s 2ms/step - loss: 0.2435 - recall: 0.8285\n",
      "Epoch 117/300\n",
      "134/134 [==============================] - 0s 2ms/step - loss: 0.2451 - recall: 0.8225\n",
      "Epoch 118/300\n",
      "134/134 [==============================] - 0s 2ms/step - loss: 0.2434 - recall: 0.8255\n",
      "Epoch 119/300\n",
      "134/134 [==============================] - 0s 2ms/step - loss: 0.2435 - recall: 0.8315\n",
      "Epoch 120/300\n",
      "134/134 [==============================] - 0s 2ms/step - loss: 0.2430 - recall: 0.8248\n",
      "Epoch 121/300\n",
      "134/134 [==============================] - 0s 2ms/step - loss: 0.2435 - recall: 0.8240\n",
      "Epoch 122/300\n",
      "134/134 [==============================] - 0s 2ms/step - loss: 0.2464 - recall: 0.8277\n",
      "Epoch 123/300\n",
      "134/134 [==============================] - 0s 2ms/step - loss: 0.2462 - recall: 0.8315\n",
      "Epoch 124/300\n",
      "134/134 [==============================] - 0s 2ms/step - loss: 0.2445 - recall: 0.8203\n",
      "Epoch 125/300\n",
      "134/134 [==============================] - 0s 2ms/step - loss: 0.2443 - recall: 0.8345\n",
      "Epoch 126/300\n",
      "134/134 [==============================] - 0s 2ms/step - loss: 0.2433 - recall: 0.8240\n",
      "Epoch 127/300\n",
      "134/134 [==============================] - 0s 2ms/step - loss: 0.2430 - recall: 0.8285\n",
      "Epoch 128/300\n",
      "134/134 [==============================] - 0s 2ms/step - loss: 0.2429 - recall: 0.8292\n",
      "Epoch 129/300\n",
      "134/134 [==============================] - 0s 2ms/step - loss: 0.2427 - recall: 0.8121\n",
      "Epoch 130/300\n",
      "134/134 [==============================] - 0s 2ms/step - loss: 0.2442 - recall: 0.8285\n",
      "Epoch 131/300\n",
      "134/134 [==============================] - 0s 2ms/step - loss: 0.2436 - recall: 0.8337\n",
      "Epoch 132/300\n",
      "134/134 [==============================] - 0s 2ms/step - loss: 0.2422 - recall: 0.8270\n",
      "Epoch 133/300\n",
      "134/134 [==============================] - 0s 2ms/step - loss: 0.2439 - recall: 0.8300\n",
      "Epoch 134/300\n",
      "134/134 [==============================] - 0s 1ms/step - loss: 0.2442 - recall: 0.8195\n",
      "Epoch 135/300\n",
      "134/134 [==============================] - 0s 2ms/step - loss: 0.2449 - recall: 0.8315\n",
      "Epoch 136/300\n",
      "134/134 [==============================] - 0s 2ms/step - loss: 0.2435 - recall: 0.8285\n",
      "Epoch 137/300\n",
      "134/134 [==============================] - 0s 2ms/step - loss: 0.2444 - recall: 0.8374\n",
      "Epoch 138/300\n",
      "134/134 [==============================] - 0s 2ms/step - loss: 0.2441 - recall: 0.8262\n",
      "Epoch 139/300\n",
      "134/134 [==============================] - 0s 1ms/step - loss: 0.2492 - recall: 0.8128\n",
      "Epoch 140/300\n",
      "134/134 [==============================] - 0s 2ms/step - loss: 0.2458 - recall: 0.8330\n",
      "Epoch 141/300\n",
      "134/134 [==============================] - 0s 2ms/step - loss: 0.2435 - recall: 0.8277\n",
      "Epoch 142/300\n",
      "134/134 [==============================] - 0s 2ms/step - loss: 0.2441 - recall: 0.8240\n",
      "Epoch 143/300\n",
      "134/134 [==============================] - 0s 2ms/step - loss: 0.2442 - recall: 0.8240\n",
      "Epoch 144/300\n",
      "134/134 [==============================] - 0s 2ms/step - loss: 0.2432 - recall: 0.8345\n",
      "Epoch 145/300\n",
      "134/134 [==============================] - 0s 2ms/step - loss: 0.2419 - recall: 0.8255\n",
      "Epoch 146/300\n",
      "134/134 [==============================] - 0s 2ms/step - loss: 0.2425 - recall: 0.8330\n",
      "Epoch 147/300\n",
      "134/134 [==============================] - 0s 2ms/step - loss: 0.2443 - recall: 0.8255\n",
      "Epoch 148/300\n",
      "134/134 [==============================] - 0s 2ms/step - loss: 0.2460 - recall: 0.8374\n",
      "Epoch 149/300\n",
      "134/134 [==============================] - 0s 1ms/step - loss: 0.2452 - recall: 0.8307\n",
      "Epoch 150/300\n",
      "134/134 [==============================] - 0s 1ms/step - loss: 0.2430 - recall: 0.8322\n",
      "Epoch 151/300\n",
      "134/134 [==============================] - 0s 1ms/step - loss: 0.2430 - recall: 0.8322\n",
      "Epoch 152/300\n",
      "134/134 [==============================] - 0s 2ms/step - loss: 0.2445 - recall: 0.8270\n",
      "Epoch 153/300\n",
      "134/134 [==============================] - 0s 2ms/step - loss: 0.2436 - recall: 0.8345\n",
      "Epoch 154/300\n",
      "134/134 [==============================] - 0s 2ms/step - loss: 0.2442 - recall: 0.8166\n",
      "Epoch 155/300\n",
      "134/134 [==============================] - 0s 1ms/step - loss: 0.2433 - recall: 0.8359\n",
      "Epoch 156/300\n",
      "134/134 [==============================] - 0s 2ms/step - loss: 0.2423 - recall: 0.8180\n",
      "Epoch 157/300\n",
      "134/134 [==============================] - 0s 2ms/step - loss: 0.2441 - recall: 0.8330\n",
      "Epoch 158/300\n",
      "134/134 [==============================] - 0s 1ms/step - loss: 0.2450 - recall: 0.8166\n",
      "Epoch 159/300\n",
      "134/134 [==============================] - 0s 2ms/step - loss: 0.2444 - recall: 0.8248\n",
      "Epoch 160/300\n",
      "134/134 [==============================] - 0s 2ms/step - loss: 0.2455 - recall: 0.8307\n",
      "Epoch 161/300\n",
      "134/134 [==============================] - 0s 2ms/step - loss: 0.2430 - recall: 0.8270\n",
      "Epoch 162/300\n",
      "134/134 [==============================] - 0s 2ms/step - loss: 0.2432 - recall: 0.8322\n",
      "Epoch 163/300\n",
      "134/134 [==============================] - 0s 2ms/step - loss: 0.2437 - recall: 0.8128\n",
      "Epoch 164/300\n",
      "134/134 [==============================] - 0s 2ms/step - loss: 0.2418 - recall: 0.8300\n",
      "Epoch 165/300\n",
      "134/134 [==============================] - 0s 2ms/step - loss: 0.2446 - recall: 0.8285\n",
      "Epoch 166/300\n",
      "134/134 [==============================] - 0s 2ms/step - loss: 0.2469 - recall: 0.8218\n",
      "Epoch 167/300\n",
      "134/134 [==============================] - 0s 2ms/step - loss: 0.2455 - recall: 0.8240\n",
      "Epoch 168/300\n",
      "134/134 [==============================] - 0s 2ms/step - loss: 0.2419 - recall: 0.8315\n",
      "Epoch 169/300\n",
      "134/134 [==============================] - 0s 2ms/step - loss: 0.2416 - recall: 0.8166\n",
      "Epoch 170/300\n",
      "134/134 [==============================] - 0s 2ms/step - loss: 0.2438 - recall: 0.8270\n",
      "Epoch 171/300\n",
      "134/134 [==============================] - 0s 2ms/step - loss: 0.2438 - recall: 0.8292\n",
      "Epoch 172/300\n",
      "134/134 [==============================] - 0s 2ms/step - loss: 0.2432 - recall: 0.8255\n",
      "Epoch 173/300\n",
      "134/134 [==============================] - 0s 2ms/step - loss: 0.2470 - recall: 0.8270\n",
      "Epoch 174/300\n",
      "134/134 [==============================] - 0s 2ms/step - loss: 0.2439 - recall: 0.8307\n",
      "Epoch 175/300\n",
      "134/134 [==============================] - 0s 2ms/step - loss: 0.2426 - recall: 0.8233\n",
      "Epoch 176/300\n",
      "134/134 [==============================] - 0s 2ms/step - loss: 0.2428 - recall: 0.8270\n",
      "Epoch 177/300\n",
      "134/134 [==============================] - 0s 2ms/step - loss: 0.2429 - recall: 0.8233\n",
      "Epoch 178/300\n",
      "134/134 [==============================] - 0s 2ms/step - loss: 0.2431 - recall: 0.8240\n",
      "Epoch 179/300\n",
      "134/134 [==============================] - 0s 2ms/step - loss: 0.2441 - recall: 0.8248\n",
      "Epoch 180/300\n",
      "134/134 [==============================] - 0s 1ms/step - loss: 0.2426 - recall: 0.8210\n",
      "Epoch 181/300\n",
      "134/134 [==============================] - 0s 2ms/step - loss: 0.2421 - recall: 0.8248\n",
      "Epoch 182/300\n",
      "134/134 [==============================] - 0s 1ms/step - loss: 0.2441 - recall: 0.8180\n",
      "Epoch 183/300\n",
      "134/134 [==============================] - 0s 1ms/step - loss: 0.2414 - recall: 0.8292\n",
      "Epoch 184/300\n",
      "134/134 [==============================] - 0s 1ms/step - loss: 0.2418 - recall: 0.8262\n",
      "Epoch 185/300\n",
      "134/134 [==============================] - 0s 1ms/step - loss: 0.2437 - recall: 0.8262\n",
      "Epoch 186/300\n",
      "134/134 [==============================] - 0s 2ms/step - loss: 0.2447 - recall: 0.8255\n",
      "Epoch 187/300\n",
      "134/134 [==============================] - 0s 1ms/step - loss: 0.2428 - recall: 0.8158\n",
      "Epoch 188/300\n",
      "134/134 [==============================] - 0s 1ms/step - loss: 0.2441 - recall: 0.8270\n",
      "Epoch 189/300\n",
      "134/134 [==============================] - 0s 2ms/step - loss: 0.2432 - recall: 0.8337\n",
      "Epoch 190/300\n",
      "134/134 [==============================] - 0s 1ms/step - loss: 0.2452 - recall: 0.8203\n",
      "Epoch 191/300\n",
      "134/134 [==============================] - 0s 2ms/step - loss: 0.2500 - recall: 0.8225\n",
      "Epoch 192/300\n",
      "134/134 [==============================] - 0s 2ms/step - loss: 0.2422 - recall: 0.8345\n",
      "Epoch 193/300\n",
      "134/134 [==============================] - 0s 2ms/step - loss: 0.2418 - recall: 0.8374\n",
      "Epoch 194/300\n",
      "134/134 [==============================] - 0s 2ms/step - loss: 0.2432 - recall: 0.8285\n",
      "Epoch 195/300\n",
      "134/134 [==============================] - 0s 2ms/step - loss: 0.2425 - recall: 0.8218\n",
      "Epoch 196/300\n",
      "134/134 [==============================] - 0s 2ms/step - loss: 0.2418 - recall: 0.8277\n",
      "Epoch 197/300\n",
      "134/134 [==============================] - 0s 2ms/step - loss: 0.2425 - recall: 0.8225\n",
      "Epoch 198/300\n",
      "134/134 [==============================] - 0s 2ms/step - loss: 0.2442 - recall: 0.8248\n",
      "Epoch 199/300\n",
      "134/134 [==============================] - 0s 2ms/step - loss: 0.2427 - recall: 0.8225\n",
      "Epoch 200/300\n",
      "134/134 [==============================] - 0s 2ms/step - loss: 0.2426 - recall: 0.8337\n",
      "Epoch 201/300\n",
      "134/134 [==============================] - 0s 2ms/step - loss: 0.2417 - recall: 0.8300\n",
      "Epoch 202/300\n",
      "134/134 [==============================] - 0s 2ms/step - loss: 0.2454 - recall: 0.8277\n",
      "Epoch 203/300\n",
      "134/134 [==============================] - 0s 2ms/step - loss: 0.2471 - recall: 0.8285\n",
      "Epoch 204/300\n",
      "134/134 [==============================] - 0s 2ms/step - loss: 0.2454 - recall: 0.8158\n",
      "Epoch 205/300\n",
      "134/134 [==============================] - 0s 2ms/step - loss: 0.2427 - recall: 0.8255\n",
      "Epoch 206/300\n",
      "134/134 [==============================] - 0s 2ms/step - loss: 0.2416 - recall: 0.8337\n",
      "Epoch 207/300\n",
      "134/134 [==============================] - 0s 2ms/step - loss: 0.2425 - recall: 0.8255\n",
      "Epoch 208/300\n",
      "134/134 [==============================] - 0s 2ms/step - loss: 0.2419 - recall: 0.8262\n",
      "Epoch 209/300\n",
      "134/134 [==============================] - 0s 2ms/step - loss: 0.2430 - recall: 0.8195\n",
      "Epoch 210/300\n",
      "134/134 [==============================] - 0s 2ms/step - loss: 0.2445 - recall: 0.8322\n",
      "Epoch 211/300\n",
      "134/134 [==============================] - 0s 2ms/step - loss: 0.2440 - recall: 0.8412\n",
      "Epoch 212/300\n",
      "134/134 [==============================] - 0s 2ms/step - loss: 0.2443 - recall: 0.8292\n",
      "Epoch 213/300\n",
      "134/134 [==============================] - 0s 2ms/step - loss: 0.2428 - recall: 0.8322\n",
      "Epoch 214/300\n",
      "134/134 [==============================] - 0s 2ms/step - loss: 0.2426 - recall: 0.8233\n",
      "Epoch 215/300\n",
      "134/134 [==============================] - 0s 2ms/step - loss: 0.2429 - recall: 0.8397\n",
      "Epoch 216/300\n",
      "134/134 [==============================] - 0s 2ms/step - loss: 0.2414 - recall: 0.8307\n",
      "Epoch 217/300\n",
      "134/134 [==============================] - 0s 2ms/step - loss: 0.2452 - recall: 0.8248\n",
      "Epoch 218/300\n",
      "134/134 [==============================] - 0s 2ms/step - loss: 0.2422 - recall: 0.8315\n",
      "Epoch 219/300\n",
      "134/134 [==============================] - 0s 2ms/step - loss: 0.2408 - recall: 0.8225\n",
      "Epoch 220/300\n",
      "134/134 [==============================] - 0s 2ms/step - loss: 0.2421 - recall: 0.8367\n",
      "Epoch 221/300\n",
      "134/134 [==============================] - 0s 1ms/step - loss: 0.2421 - recall: 0.8307\n",
      "Epoch 222/300\n",
      "134/134 [==============================] - 0s 1ms/step - loss: 0.2426 - recall: 0.8225\n",
      "Epoch 223/300\n",
      "134/134 [==============================] - 0s 2ms/step - loss: 0.2414 - recall: 0.8330\n",
      "Epoch 224/300\n",
      "134/134 [==============================] - 0s 2ms/step - loss: 0.2422 - recall: 0.8285\n",
      "Epoch 225/300\n",
      "134/134 [==============================] - 0s 2ms/step - loss: 0.2431 - recall: 0.8233\n",
      "Epoch 226/300\n",
      "134/134 [==============================] - 0s 1ms/step - loss: 0.2435 - recall: 0.8240\n",
      "Epoch 227/300\n",
      "134/134 [==============================] - 0s 2ms/step - loss: 0.2441 - recall: 0.8218\n",
      "Epoch 228/300\n",
      "134/134 [==============================] - 0s 1ms/step - loss: 0.2406 - recall: 0.8248\n",
      "Epoch 229/300\n",
      "134/134 [==============================] - 0s 2ms/step - loss: 0.2438 - recall: 0.8322\n",
      "Epoch 230/300\n",
      "134/134 [==============================] - 0s 1ms/step - loss: 0.2409 - recall: 0.8285\n",
      "Epoch 231/300\n",
      "134/134 [==============================] - 0s 1ms/step - loss: 0.2427 - recall: 0.8322\n",
      "Epoch 232/300\n",
      "134/134 [==============================] - 0s 2ms/step - loss: 0.2429 - recall: 0.8233\n",
      "Epoch 233/300\n",
      "134/134 [==============================] - 0s 2ms/step - loss: 0.2442 - recall: 0.8255\n",
      "Epoch 234/300\n",
      "134/134 [==============================] - 0s 2ms/step - loss: 0.2436 - recall: 0.8210\n",
      "Epoch 235/300\n",
      "134/134 [==============================] - 0s 1ms/step - loss: 0.2415 - recall: 0.8307\n",
      "Epoch 236/300\n",
      "134/134 [==============================] - 0s 1ms/step - loss: 0.2421 - recall: 0.8225\n",
      "Epoch 237/300\n",
      "134/134 [==============================] - 0s 1ms/step - loss: 0.2425 - recall: 0.8225\n",
      "Epoch 238/300\n",
      "134/134 [==============================] - 0s 1ms/step - loss: 0.2429 - recall: 0.8262\n",
      "Epoch 239/300\n",
      "134/134 [==============================] - 0s 1ms/step - loss: 0.2420 - recall: 0.8352\n",
      "Epoch 240/300\n",
      "134/134 [==============================] - 0s 1ms/step - loss: 0.2429 - recall: 0.8300\n",
      "Epoch 241/300\n",
      "134/134 [==============================] - 0s 1ms/step - loss: 0.2443 - recall: 0.8285\n",
      "Epoch 242/300\n",
      "134/134 [==============================] - 0s 2ms/step - loss: 0.2431 - recall: 0.8240\n",
      "Epoch 243/300\n",
      "134/134 [==============================] - 0s 1ms/step - loss: 0.2429 - recall: 0.8225\n",
      "Epoch 244/300\n",
      "134/134 [==============================] - 0s 2ms/step - loss: 0.2426 - recall: 0.8322\n",
      "Epoch 245/300\n",
      "134/134 [==============================] - 0s 1ms/step - loss: 0.2408 - recall: 0.8345\n",
      "Epoch 246/300\n",
      "134/134 [==============================] - 0s 1ms/step - loss: 0.2421 - recall: 0.8315\n",
      "Epoch 247/300\n",
      "134/134 [==============================] - 0s 2ms/step - loss: 0.2408 - recall: 0.8337\n",
      "Epoch 248/300\n",
      "134/134 [==============================] - 0s 1ms/step - loss: 0.2419 - recall: 0.8285\n",
      "Epoch 249/300\n",
      "134/134 [==============================] - 0s 2ms/step - loss: 0.2406 - recall: 0.8270\n",
      "Epoch 250/300\n",
      "134/134 [==============================] - 0s 2ms/step - loss: 0.2497 - recall: 0.8322\n",
      "Epoch 251/300\n",
      "134/134 [==============================] - 0s 2ms/step - loss: 0.2415 - recall: 0.8255\n",
      "Epoch 252/300\n",
      "134/134 [==============================] - 0s 1ms/step - loss: 0.2428 - recall: 0.8300\n",
      "Epoch 253/300\n",
      "134/134 [==============================] - 0s 1ms/step - loss: 0.2424 - recall: 0.8255\n",
      "Epoch 254/300\n",
      "134/134 [==============================] - 0s 1ms/step - loss: 0.2417 - recall: 0.8285\n",
      "Epoch 255/300\n",
      "134/134 [==============================] - 0s 1ms/step - loss: 0.2415 - recall: 0.8225\n",
      "Epoch 256/300\n",
      "134/134 [==============================] - 0s 2ms/step - loss: 0.2422 - recall: 0.8285\n",
      "Epoch 257/300\n",
      "134/134 [==============================] - 0s 2ms/step - loss: 0.2411 - recall: 0.8277\n",
      "Epoch 258/300\n",
      "134/134 [==============================] - 0s 2ms/step - loss: 0.2430 - recall: 0.8300\n",
      "Epoch 259/300\n",
      "134/134 [==============================] - 0s 2ms/step - loss: 0.2431 - recall: 0.8292\n",
      "Epoch 260/300\n",
      "134/134 [==============================] - 0s 2ms/step - loss: 0.2410 - recall: 0.8330\n",
      "Epoch 261/300\n",
      "134/134 [==============================] - 0s 2ms/step - loss: 0.2458 - recall: 0.8255\n",
      "Epoch 262/300\n",
      "134/134 [==============================] - 0s 2ms/step - loss: 0.2430 - recall: 0.8352\n",
      "Epoch 263/300\n",
      "134/134 [==============================] - 0s 2ms/step - loss: 0.2411 - recall: 0.8337\n",
      "Epoch 264/300\n",
      "134/134 [==============================] - 0s 2ms/step - loss: 0.2415 - recall: 0.8240\n",
      "Epoch 265/300\n",
      "134/134 [==============================] - 0s 2ms/step - loss: 0.2402 - recall: 0.8330\n",
      "Epoch 266/300\n",
      "134/134 [==============================] - 0s 2ms/step - loss: 0.2422 - recall: 0.8255\n",
      "Epoch 267/300\n",
      "134/134 [==============================] - 0s 2ms/step - loss: 0.2453 - recall: 0.8188\n",
      "Epoch 268/300\n",
      "134/134 [==============================] - 0s 2ms/step - loss: 0.2411 - recall: 0.8307\n",
      "Epoch 269/300\n",
      "134/134 [==============================] - 0s 2ms/step - loss: 0.2398 - recall: 0.8255\n",
      "Epoch 270/300\n",
      "134/134 [==============================] - 0s 2ms/step - loss: 0.2413 - recall: 0.8262\n",
      "Epoch 271/300\n",
      "134/134 [==============================] - 0s 2ms/step - loss: 0.2402 - recall: 0.8389\n",
      "Epoch 272/300\n",
      "134/134 [==============================] - 0s 2ms/step - loss: 0.2402 - recall: 0.8285\n",
      "Epoch 273/300\n",
      "134/134 [==============================] - 0s 2ms/step - loss: 0.2463 - recall: 0.8240\n",
      "Epoch 274/300\n",
      "134/134 [==============================] - 0s 2ms/step - loss: 0.2416 - recall: 0.8285\n",
      "Epoch 275/300\n",
      "134/134 [==============================] - 0s 2ms/step - loss: 0.2420 - recall: 0.8233\n",
      "Epoch 276/300\n",
      "134/134 [==============================] - 0s 2ms/step - loss: 0.2434 - recall: 0.8307\n",
      "Epoch 277/300\n",
      "134/134 [==============================] - 0s 2ms/step - loss: 0.2426 - recall: 0.8233\n",
      "Epoch 278/300\n",
      "134/134 [==============================] - 0s 2ms/step - loss: 0.2403 - recall: 0.8397\n",
      "Epoch 279/300\n",
      "134/134 [==============================] - 0s 2ms/step - loss: 0.2425 - recall: 0.8322\n",
      "Epoch 280/300\n",
      "134/134 [==============================] - 0s 2ms/step - loss: 0.2418 - recall: 0.8255\n",
      "Epoch 281/300\n",
      "134/134 [==============================] - 0s 2ms/step - loss: 0.2411 - recall: 0.8166\n",
      "Epoch 282/300\n",
      "134/134 [==============================] - 0s 2ms/step - loss: 0.2416 - recall: 0.8330\n",
      "Epoch 283/300\n",
      "134/134 [==============================] - 0s 2ms/step - loss: 0.2427 - recall: 0.8210\n",
      "Epoch 284/300\n",
      "134/134 [==============================] - 0s 2ms/step - loss: 0.2413 - recall: 0.8359\n",
      "Epoch 285/300\n",
      "134/134 [==============================] - 0s 1ms/step - loss: 0.2439 - recall: 0.8307\n",
      "Epoch 286/300\n",
      "134/134 [==============================] - 0s 1ms/step - loss: 0.2418 - recall: 0.8262\n",
      "Epoch 287/300\n",
      "134/134 [==============================] - 0s 2ms/step - loss: 0.2430 - recall: 0.8270\n",
      "Epoch 288/300\n",
      "134/134 [==============================] - 0s 2ms/step - loss: 0.2422 - recall: 0.8337\n",
      "Epoch 289/300\n",
      "134/134 [==============================] - 0s 2ms/step - loss: 0.2405 - recall: 0.8330\n",
      "Epoch 290/300\n",
      "134/134 [==============================] - 0s 2ms/step - loss: 0.2411 - recall: 0.8359\n",
      "Epoch 291/300\n",
      "134/134 [==============================] - 0s 2ms/step - loss: 0.2405 - recall: 0.8285\n",
      "Epoch 292/300\n",
      "134/134 [==============================] - 0s 2ms/step - loss: 0.2413 - recall: 0.8315\n",
      "Epoch 293/300\n",
      "134/134 [==============================] - 0s 2ms/step - loss: 0.2420 - recall: 0.8337\n",
      "Epoch 294/300\n",
      "134/134 [==============================] - 0s 1ms/step - loss: 0.2416 - recall: 0.8248\n",
      "Epoch 295/300\n",
      "134/134 [==============================] - 0s 1ms/step - loss: 0.2411 - recall: 0.8337\n",
      "Epoch 296/300\n",
      "134/134 [==============================] - 0s 2ms/step - loss: 0.2422 - recall: 0.8248\n",
      "Epoch 297/300\n",
      "134/134 [==============================] - 0s 1ms/step - loss: 0.2404 - recall: 0.8322\n",
      "Epoch 298/300\n",
      "134/134 [==============================] - 0s 2ms/step - loss: 0.2413 - recall: 0.8173\n",
      "Epoch 299/300\n",
      "134/134 [==============================] - 0s 1ms/step - loss: 0.2435 - recall: 0.8210\n",
      "Epoch 300/300\n",
      "134/134 [==============================] - 0s 2ms/step - loss: 0.2405 - recall: 0.8248\n"
     ]
    },
    {
     "data": {
      "text/plain": "<keras.callbacks.History at 0x173b7f250>"
     },
     "execution_count": 137,
     "metadata": {},
     "output_type": "execute_result"
    }
   ],
   "source": [
    "model.fit(X, y, epochs=300, batch_size=30)"
   ],
   "metadata": {
    "collapsed": false
   }
  },
  {
   "cell_type": "code",
   "execution_count": 147,
   "outputs": [
    {
     "name": "stdout",
     "output_type": "stream",
     "text": [
      "125/125 [==============================] - 0s 1ms/step\n"
     ]
    }
   ],
   "source": [
    "# make probability predictions with the model\n",
    "predictions_proba = model.predict(X)"
   ],
   "metadata": {
    "collapsed": false
   }
  },
  {
   "cell_type": "code",
   "execution_count": 140,
   "outputs": [
    {
     "name": "stdout",
     "output_type": "stream",
     "text": [
      "125/125 [==============================] - 0s 1ms/step\n"
     ]
    }
   ],
   "source": [
    "# make class predictions with the model\n",
    "predictions = (model.predict(X) > 0.5).astype(int)"
   ],
   "metadata": {
    "collapsed": false
   }
  },
  {
   "cell_type": "code",
   "execution_count": 141,
   "outputs": [
    {
     "name": "stdout",
     "output_type": "stream",
     "text": [
      "Log loss = nan\n",
      "AUC = 0.96012\n",
      "Average Precision = 0.92905\n",
      "\n",
      "Using 0.5 as threshold:\n",
      "Accuracy = 0.88647\n",
      "Precision = 0.82208\n",
      "Recall = 0.84415\n",
      "F1 score = 0.83297\n",
      "\n",
      "Classification Report\n",
      "              precision    recall  f1-score   support\n",
      "\n",
      "           0       0.92      0.91      0.91      2658\n",
      "           1       0.82      0.84      0.83      1341\n",
      "\n",
      "    accuracy                           0.89      3999\n",
      "   macro avg       0.87      0.88      0.87      3999\n",
      "weighted avg       0.89      0.89      0.89      3999\n",
      "\n"
     ]
    }
   ],
   "source": [
    "print('Log loss = {:.5f}'.format(log_loss(y, predictions_proba)))\n",
    "print('AUC = {:.5f}'.format(roc_auc_score(y, predictions_proba)))\n",
    "print('Average Precision = {:.5f}'.format(average_precision_score(y, predictions_proba)))\n",
    "print('\\nUsing 0.5 as threshold:')\n",
    "print('Accuracy = {:.5f}'.format(accuracy_score(y, predictions)))\n",
    "print('Precision = {:.5f}'.format(precision_score(y, predictions)))\n",
    "print('Recall = {:.5f}'.format(recall_score(y, predictions)))\n",
    "print('F1 score = {:.5f}'.format(f1_score(y, predictions)))\n",
    "\n",
    "print('\\nClassification Report')\n",
    "print(classification_report(y, predictions))"
   ],
   "metadata": {
    "collapsed": false
   }
  },
  {
   "cell_type": "code",
   "execution_count": 142,
   "outputs": [],
   "source": [
    "fpr, tpr, _ = roc_curve(y, predictions_proba)"
   ],
   "metadata": {
    "collapsed": false
   }
  },
  {
   "cell_type": "code",
   "execution_count": 143,
   "outputs": [
    {
     "data": {
      "text/plain": "<Figure size 640x480 with 1 Axes>",
      "image/png": "[encoded data removed]"
     },
     "metadata": {},
     "output_type": "display_data"
    }
   ],
   "source": [
    "plt.plot(fpr, tpr)\n",
    "plt.title('ROC curve')\n",
    "plt.xlabel('false positive rate')\n",
    "plt.ylabel('true positive rate')\n",
    "plt.xlim(0,)\n",
    "plt.ylim(0,)\n",
    "plt.show()"
   ],
   "metadata": {
    "collapsed": false
   }
  },
  {
   "cell_type": "code",
   "execution_count": 144,
   "outputs": [],
   "source": [
    "pr, rc, _ = precision_recall_curve(y, predictions_proba)"
   ],
   "metadata": {
    "collapsed": false
   }
  },
  {
   "cell_type": "code",
   "execution_count": 145,
   "outputs": [
    {
     "data": {
      "text/plain": "<Figure size 640x480 with 1 Axes>",
      "image/png": "[encoded data removed]"
     },
     "metadata": {},
     "output_type": "display_data"
    }
   ],
   "source": [
    "plt.plot(pr, rc)\n",
    "plt.title('Precision recall curve')\n",
    "plt.xlabel('Recall')\n",
    "plt.ylabel('Precision')\n",
    "plt.xlim(0,)\n",
    "plt.ylim(0,)\n",
    "plt.show()"
   ],
   "metadata": {
    "collapsed": false
   }
  },
  {
   "cell_type": "code",
   "execution_count": 146,
   "outputs": [
    {
     "name": "stdout",
     "output_type": "stream",
     "text": [
      "Confusion Matrix\n"
     ]
    },
    {
     "data": {
      "text/plain": "<Figure size 640x480 with 2 Axes>",
      "image/png": "[encoded data removed]"
     },
     "metadata": {},
     "output_type": "display_data"
    }
   ],
   "source": [
    "print('Confusion Matrix')\n",
    "conf_matrix = confusion_matrix(y, predictions)\n",
    "disp = ConfusionMatrixDisplay(conf_matrix)\n",
    "disp.plot(cmap=plt.cm.Blues, values_format='g')\n",
    "plt.show()"
   ],
   "metadata": {
    "collapsed": false
   }
  },
  {
   "cell_type": "code",
   "execution_count": null,
   "outputs": [],
   "source": [],
   "metadata": {
    "collapsed": false
   }
  }
 ],
 "metadata": {
  "kernelspec": {
   "display_name": "Python 3",
   "language": "python",
   "name": "python3"
  },
  "language_info": {
   "codemirror_mode": {
    "name": "ipython",
    "version": 2
   },
   "file_extension": ".py",
   "mimetype": "text/x-python",
   "name": "python",
   "nbconvert_exporter": "python",
   "pygments_lexer": "ipython2",
   "version": "2.7.6"
  }
 },
 "nbformat": 4,
 "nbformat_minor": 0
}
