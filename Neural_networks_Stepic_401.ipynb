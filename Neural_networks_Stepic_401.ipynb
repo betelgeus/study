{
 "cells": [
  {
   "cell_type": "code",
   "execution_count": 103,
   "outputs": [],
   "source": [
    "import numpy as np\n",
    "from urllib.request import urlopen\n",
    "import pandas as pd"
   ],
   "metadata": {
    "collapsed": false
   }
  },
  {
   "cell_type": "markdown",
   "source": [
    "<a href='https://stepik.org/lesson/24613/step/2'>Задание #1</a>"
   ],
   "metadata": {
    "collapsed": false
   }
  },
  {
   "cell_type": "code",
   "execution_count": 2,
   "outputs": [
    {
     "data": {
      "text/plain": "array([[ 6, 12, 18],\n       [30, 36, 42],\n       [54, 60, 66],\n       [24, 48, 72]])"
     },
     "execution_count": 2,
     "metadata": {},
     "output_type": "execute_result"
    }
   ],
   "source": [
    "a = np.array([[1,0,0,0],\n",
    "            [0,1,0,0],\n",
    "            [0,0,1,0],\n",
    "            [0,0,0,1]])\n",
    "b = np.array([[1,2,3],\n",
    "            [5,6,7],\n",
    "            [9,10,11],\n",
    "            [4,8,12]])\n",
    "c = np.array([[3,0,0],\n",
    "            [0,3,0],\n",
    "            [0,0,3]])\n",
    "matrix = ((2*a).dot(b)).dot(c)\n",
    "matrix"
   ],
   "metadata": {
    "collapsed": false
   }
  },
  {
   "cell_type": "markdown",
   "source": [
    "<a href='https://stepik.org/lesson/24613/step/3'>Задание #2</a>"
   ],
   "metadata": {
    "collapsed": false
   }
  },
  {
   "cell_type": "code",
   "execution_count": 3,
   "outputs": [
    {
     "name": "stdout",
     "output_type": "stream",
     "text": [
      "(A×B)×C=A×(B×C)\n"
     ]
    }
   ],
   "source": [
    "# ассоциативность\n",
    "a = np.array([[1,2,3],[5,6,7],[9,10,11],[4,8,12]])\n",
    "b = np.array([[1],[5],[9]])\n",
    "c = np.array([[1,2,3,4,5,6]])\n",
    "\n",
    "ab_c = (a.dot(b)).dot(c)\n",
    "a_bc = a.dot(b.dot(c))\n",
    "\n",
    "if ab_c.all() == a_bc.all():\n",
    "    print('(A×B)×C=A×(B×C)')\n",
    "else:\n",
    "    print('(A×B)×C≠A×(B×C)')"
   ],
   "metadata": {
    "collapsed": false
   }
  },
  {
   "cell_type": "markdown",
   "source": [
    "<a href='https://stepik.org/lesson/24613/step/4'>Задание #3</a>"
   ],
   "metadata": {
    "collapsed": false
   }
  },
  {
   "cell_type": "code",
   "execution_count": 4,
   "outputs": [
    {
     "name": "stdout",
     "output_type": "stream",
     "text": [
      "Каждый элемент E1 равен элементу E2, стоящему на таком же месте\n"
     ]
    }
   ],
   "source": [
    "# дистрибутивность\n",
    "a = np.array([[1,2,3],[5,6,7],[9,10,11],[4,8,12]])\n",
    "b = np.array([[1],[5],[9]])\n",
    "d = np.array([[3],[4],[1]])\n",
    "\n",
    "e1 = a.dot(b+d)\n",
    "e2 = a.dot(b) + a.dot(d)\n",
    "\n",
    "if e1.all() == e2.all():\n",
    "    print('Каждый элемент E1 равен элементу E2, стоящему на таком же месте')\n",
    "elif e1.all() <= e2.all():\n",
    "    print('Каждый элемент E1 меньше элемента E2, стоящего на таком же месте')\n",
    "elif e1.all() >= e2.all():\n",
    "    print('Каждый элемент E1 больше элемента E2, стоящего на таком же месте')"
   ],
   "metadata": {
    "collapsed": false
   }
  },
  {
   "cell_type": "markdown",
   "source": [
    "<a href='https://stepik.org/lesson/24613/step/5'>Задание #4</a>"
   ],
   "metadata": {
    "collapsed": false
   }
  },
  {
   "cell_type": "code",
   "execution_count": 5,
   "outputs": [
    {
     "name": "stdout",
     "output_type": "stream",
     "text": [
      "[[ -1   3  43]\n",
      " [-73 -53  19]\n",
      " [ 73  70  15]]\n",
      "[[-23  22 -25]\n",
      " [ 76 -34  42]\n",
      " [-85  23  18]]\n"
     ]
    }
   ],
   "source": [
    "f1 = np.array([[-6, 2, 5], [-4, 1, -5], [-3, -2, 8]])\n",
    "f2 = np.array([[5, 2, -5], [-8, -10, 4], [9, 7, 1]])\n",
    "\n",
    "f1_f2 = f1.dot(f2)\n",
    "f2_f1 = f2.dot(f1)\n",
    "\n",
    "print(f1_f2)\n",
    "\n",
    "print(f2_f1)"
   ],
   "metadata": {
    "collapsed": false
   }
  },
  {
   "cell_type": "markdown",
   "source": [
    "### Как создать массив:"
   ],
   "metadata": {
    "collapsed": false
   }
  },
  {
   "cell_type": "code",
   "execution_count": 11,
   "outputs": [],
   "source": [
    "# - array(object) — n-мерный массив из любой (возможно, вложенной) последовательности\n",
    "# - eye(N, M=N, k=0) — двумерный массив с N строками с единицами на диагонали и нулями во всех остальных позициях.\n",
    "# Число столбцов M по умолчанию равно N, k — сдвиг диагонали (0 для основной диагонали, положительные числа\n",
    "# для верхних диагоналей и отрицательные для нижних)\n",
    "# - zeros(shape) — новый массив указанной формы, заполненный нулями,\n",
    "# - ones(shape) — новый массив указанной формы, заполненный единицами,\n",
    "# - full(shape, fill_value) — новый массив указанной формы, заполненный fill_value."
   ],
   "metadata": {
    "collapsed": false
   }
  },
  {
   "cell_type": "markdown",
   "source": [
    "<a href='https://stepik.org/lesson/16462/step/5'>Задание #1</a>"
   ],
   "metadata": {
    "collapsed": false
   }
  },
  {
   "cell_type": "code",
   "execution_count": 13,
   "outputs": [
    {
     "data": {
      "text/plain": "array([[2., 1., 0., 0.],\n       [0., 2., 1., 0.],\n       [0., 0., 2., 1.]])"
     },
     "execution_count": 13,
     "metadata": {},
     "output_type": "execute_result"
    }
   ],
   "source": [
    "a = np.eye(3, 4, k=0)\n",
    "b = np.eye(3, 4, k=1)\n",
    "a = a * 2\n",
    "a = a + b\n",
    "a"
   ],
   "metadata": {
    "collapsed": false
   }
  },
  {
   "cell_type": "markdown",
   "source": [
    "### Формы массива:"
   ],
   "metadata": {
    "collapsed": false
   }
  },
  {
   "cell_type": "code",
   "execution_count": 14,
   "outputs": [],
   "source": [
    "# a.flatten() — превращает массив в одномерный.\n",
    "# a.T или a.transpose(*axes) — транспонирование (или смена порядка осей в случае, когда размерность массива больше двух).\n",
    "# a.reshape(shape) — смена формы массива. Массив \"распрямляется\" и построчно заполняется в новую форму."
   ],
   "metadata": {
    "collapsed": false
   }
  },
  {
   "cell_type": "code",
   "execution_count": 20,
   "outputs": [
    {
     "name": "stdout",
     "output_type": "stream",
     "text": [
      "===1===\n",
      "[712 360 329 641 728 548 246 437 982 107 528 194]\n",
      "===2===\n",
      "[[[712 360 329]\n",
      "  [641 728 548]]\n",
      "\n",
      " [[246 437 982]\n",
      "  [107 528 194]]]\n",
      "===3===\n",
      "[[[712 641]\n",
      "  [360 728]\n",
      "  [329 548]]\n",
      "\n",
      " [[246 107]\n",
      "  [437 528]\n",
      "  [982 194]]]\n"
     ]
    }
   ],
   "source": [
    "import random\n",
    "w = np.array(random.sample(range(1000), 12)) # одномерный массив из 12 случайных чисел от 1 до 1000\n",
    "print('===1===')\n",
    "print(w)\n",
    "# reshape((2,2,3)) количество матриц, количество строк в каждой матрице, количество столбцов в каждой матрице\n",
    "w = w.reshape((2,2,3))\n",
    "print('===2===')\n",
    "print(w)\n",
    "print('===3===')\n",
    "print(w.transpose(0,2,1))"
   ],
   "metadata": {
    "collapsed": false
   }
  },
  {
   "cell_type": "markdown",
   "source": [
    "<a href='https://stepik.org/lesson/16462/step/7'>Задание #2</a>"
   ],
   "metadata": {
    "collapsed": false
   }
  },
  {
   "cell_type": "code",
   "execution_count": 62,
   "outputs": [
    {
     "name": "stdout",
     "output_type": "stream",
     "text": [
      "[[2.]\n",
      " [1.]\n",
      " [0.]\n",
      " [0.]\n",
      " [0.]\n",
      " [2.]\n",
      " [1.]\n",
      " [0.]\n",
      " [0.]\n",
      " [0.]\n",
      " [2.]\n",
      " [1.]]\n"
     ]
    }
   ],
   "source": [
    "a = np.eye(3, 4, k=0)\n",
    "b = np.eye(3, 4, k=1)\n",
    "a = a * 2\n",
    "mat = a + b\n",
    "mat = np.reshape(mat, (12, 1))\n",
    "print(mat)"
   ],
   "metadata": {
    "collapsed": false
   }
  },
  {
   "cell_type": "code",
   "execution_count": 68,
   "outputs": [],
   "source": [
    "a = np.eye(3, 4, k=0)\n",
    "b = np.eye(3, 4, k=1)\n",
    "a = a * 2\n",
    "mat = a + b"
   ],
   "metadata": {
    "collapsed": false
   }
  },
  {
   "cell_type": "code",
   "execution_count": null,
   "outputs": [],
   "source": [
    "print(mat.reshape(-1,1))"
   ],
   "metadata": {
    "collapsed": false,
    "pycharm": {
     "is_executing": true
    }
   }
  },
  {
   "cell_type": "code",
   "execution_count": null,
   "outputs": [],
   "source": [
    "print(mat.reshape(12,1))"
   ],
   "metadata": {
    "collapsed": false,
    "pycharm": {
     "is_executing": true
    }
   }
  },
  {
   "cell_type": "code",
   "execution_count": null,
   "outputs": [],
   "source": [
    "print(mat.reshape(mat.size,1))"
   ],
   "metadata": {
    "collapsed": false,
    "pycharm": {
     "is_executing": true
    }
   }
  },
  {
   "cell_type": "markdown",
   "source": [
    "### Основные методы ndarray\n",
    "\n",
    "**Базовые статистики**\n",
    "\n",
    "a.min(axis=None), a.max(axis=None), a.mean(axis=None), a.std(axis=None) — минимум, максимум, среднее арифметическое\n",
    "и стандартное отклонение вдоль указанной оси. По умолчанию ось не указана и статистика считается по всему массиву.\n",
    "a.argmin(axis=None), a.argmax(axis=None) — индексы минимального и максимального элемента.\n",
    "\n",
    "a.sum(axis=None), a.prod(axis=None) — сумма и произведение всех элементов вдоль указанной оси. a.cumsum(axis=None),\n",
    "a.cumprod(axis=None) — частичные суммы и произведения\n",
    "\n",
    "**Линейная алгебра**\n",
    "Пакет numpy.linalg содержит большую часть стандартных операций и разложений матриц.\n",
    "Некоторые самые популярные функции вынесены в корень пакета NumPy.\n",
    "\n",
    "- a.dot(b) — матричное произведение двух массивов (размерности должны быть согласованы)\n",
    "- linalg.matrix_power(M, n) — возведение матрицы M в степень n\n",
    "- a.T — транспонирование\n",
    "- linalg.norm(a, ord=None) — норма матрицы a, по умолчанию норма Фробениуса для матриц и L2-норма для векторов\n",
    "- linalg.inv(a) — матрица, обратная к a (если a необратима, выбрасывается LinAlgError; псевдообратная считается через linalg.pinv(a))"
   ],
   "metadata": {
    "collapsed": false
   }
  },
  {
   "cell_type": "markdown",
   "source": [
    "<a href='https://stepik.org/lesson/16462/step/9'>Задание #3</a>"
   ],
   "metadata": {
    "collapsed": false
   }
  },
  {
   "cell_type": "code",
   "execution_count": 94,
   "outputs": [],
   "source": [
    "X = np.array([[8,  7,  7], [14,  4,  6]])\n",
    "Y = np.array([[5, 5, 1], [5, 2, 6], [3, 3, 9], [1, 4, 6]])"
   ],
   "metadata": {
    "collapsed": false
   }
  },
  {
   "cell_type": "code",
   "execution_count": 95,
   "outputs": [
    {
     "name": "stdout",
     "output_type": "stream",
     "text": [
      "[[ 82  96 108  78]\n",
      " [ 96 114 108  66]]\n"
     ]
    }
   ],
   "source": [
    "if X.shape[1] == Y.shape[1]:\n",
    "    print(X.dot(Y.transpose()))\n",
    "else:\n",
    "    print('matrix shapes do not match')"
   ],
   "metadata": {
    "collapsed": false
   }
  },
  {
   "cell_type": "code",
   "execution_count": 96,
   "outputs": [
    {
     "name": "stdout",
     "output_type": "stream",
     "text": [
      "[[ 82  96 108  78]\n",
      " [ 96 114 108  66]]\n"
     ]
    }
   ],
   "source": [
    "try:\n",
    "    print(X.dot(Y.T))\n",
    "except ValueError:\n",
    "    print(\"matrix shapes do not match\")"
   ],
   "metadata": {
    "collapsed": false
   }
  },
  {
   "cell_type": "code",
   "execution_count": 97,
   "outputs": [
    {
     "name": "stdout",
     "output_type": "stream",
     "text": [
      "[[ 82  96 108  78]\n",
      " [ 96 114 108  66]]\n"
     ]
    }
   ],
   "source": [
    "print(X.dot(Y.T) if X.shape[1]==Y.shape[1] else \"matrix shapes do not match\")"
   ],
   "metadata": {
    "collapsed": false
   }
  },
  {
   "cell_type": "markdown",
   "source": [
    "### Как считать данные из файла:"
   ],
   "metadata": {
    "collapsed": false
   }
  },
  {
   "cell_type": "code",
   "execution_count": null,
   "outputs": [],
   "source": [
    "# \"sbux.csv\" — имя файла (или сюда же можно передать объект файла), из которого считываются данные.\n",
    "# usecols — список колонок, которые нужно использовать. Если параметр не указан, считываются все колонки.\n",
    "# skiprows — количество рядов в начале файла, которые нужно пропустить. В нашем случае пропущен ряд заголовков.\n",
    "# По умолчанию (если значение параметра не указано явно) skiprows = 0.\n",
    "# delimiter — разделитель столбцов в одной строке, в csv-файлах это запятая, по умолчанию разделителем\n",
    "# является любой пробел (в том числе — знак табуляции).\n",
    "# dtype — словарь из названий колонок (переменных) и типов хранящихся в них значений.\n",
    "# NumPy использует свою собственную систему типов, и названия именно этих типов нужно указать. По умолчанию функция попытается самостоятельно\n",
    "# угадать, какому типу принадлежат подаваемые на вход значения.\n",
    "\n",
    "sbux = np.loadtxt(\"sbux.csv\", usecols=(0,1,4), skiprows=1, delimiter=\",\", dtype={'names': ('date', 'open', 'close'), 'formats': ('datetime64[D]', 'f4', 'f4')})"
   ],
   "metadata": {
    "collapsed": false,
    "pycharm": {
     "is_executing": true
    }
   }
  },
  {
   "cell_type": "markdown",
   "source": [
    "<a href='https://stepik.org/lesson/16462/step/11'>Задание #4</a>"
   ],
   "metadata": {
    "collapsed": false
   }
  },
  {
   "cell_type": "code",
   "execution_count": 113,
   "outputs": [
    {
     "name": "stdout",
     "output_type": "stream",
     "text": [
      "[22.53280632  3.61352356 11.36363636  0.06916996  0.55469506  6.28463439\n",
      "  3.79504269]\n"
     ]
    }
   ],
   "source": [
    "f = urlopen('https://stepic.org/media/attachments/lesson/16462/boston_houses.csv')\n",
    "df = np.loadtxt(f, delimiter=',', skiprows=1)\n",
    "print(df.mean(axis=0))"
   ],
   "metadata": {
    "collapsed": false
   }
  },
  {
   "cell_type": "code",
   "execution_count": 114,
   "outputs": [
    {
     "name": "stdout",
     "output_type": "stream",
     "text": [
      "7.0\n"
     ]
    }
   ],
   "source": [
    "y = [0.5, 1, -0.5, -1.5, -1.5, -1]\n",
    "s = 0\n",
    "for i in y:\n",
    "    s += i ** 2\n",
    "print(s)"
   ],
   "metadata": {
    "collapsed": false
   }
  },
  {
   "cell_type": "code",
   "execution_count": 115,
   "outputs": [
    {
     "name": "stdout",
     "output_type": "stream",
     "text": [
      "6.0\n"
     ]
    }
   ],
   "source": [
    "y = [0.5, 1, -0.5, -1.5, -1.5, -1]\n",
    "s = 0\n",
    "for i in y:\n",
    "    s += abs(i)\n",
    "print(s)"
   ],
   "metadata": {
    "collapsed": false
   }
  },
  {
   "cell_type": "code",
   "execution_count": null,
   "outputs": [],
   "source": [],
   "metadata": {
    "collapsed": false
   }
  }
 ],
 "metadata": {
  "kernelspec": {
   "display_name": "Python 3",
   "language": "python",
   "name": "python3"
  },
  "language_info": {
   "codemirror_mode": {
    "name": "ipython",
    "version": 2
   },
   "file_extension": ".py",
   "mimetype": "text/x-python",
   "name": "python",
   "nbconvert_exporter": "python",
   "pygments_lexer": "ipython2",
   "version": "2.7.6"
  }
 },
 "nbformat": 4,
 "nbformat_minor": 0
}
