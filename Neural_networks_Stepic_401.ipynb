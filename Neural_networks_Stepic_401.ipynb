{
 "cells": [
  {
   "cell_type": "code",
   "execution_count": 1,
   "outputs": [],
   "source": [
    "import numpy as np"
   ],
   "metadata": {
    "collapsed": false
   }
  },
  {
   "cell_type": "markdown",
   "source": [
    "<a href='https://stepik.org/lesson/24613/step/2'>Задание #1</a>"
   ],
   "metadata": {
    "collapsed": false
   }
  },
  {
   "cell_type": "code",
   "execution_count": 2,
   "outputs": [
    {
     "data": {
      "text/plain": "array([[ 6, 12, 18],\n       [30, 36, 42],\n       [54, 60, 66],\n       [24, 48, 72]])"
     },
     "execution_count": 2,
     "metadata": {},
     "output_type": "execute_result"
    }
   ],
   "source": [
    "a = np.array([[1,0,0,0],\n",
    "            [0,1,0,0],\n",
    "            [0,0,1,0],\n",
    "            [0,0,0,1]])\n",
    "b = np.array([[1,2,3],\n",
    "            [5,6,7],\n",
    "            [9,10,11],\n",
    "            [4,8,12]])\n",
    "c = np.array([[3,0,0],\n",
    "            [0,3,0],\n",
    "            [0,0,3]])\n",
    "matrix = ((2*a).dot(b)).dot(c)\n",
    "matrix"
   ],
   "metadata": {
    "collapsed": false
   }
  },
  {
   "cell_type": "markdown",
   "source": [
    "<a href='https://stepik.org/lesson/24613/step/3'>Задание #2</a>"
   ],
   "metadata": {
    "collapsed": false
   }
  },
  {
   "cell_type": "code",
   "execution_count": 3,
   "outputs": [
    {
     "name": "stdout",
     "output_type": "stream",
     "text": [
      "(A×B)×C=A×(B×C)\n"
     ]
    }
   ],
   "source": [
    "# ассоциативность\n",
    "a = np.array([[1,2,3],[5,6,7],[9,10,11],[4,8,12]])\n",
    "b = np.array([[1],[5],[9]])\n",
    "c = np.array([[1,2,3,4,5,6]])\n",
    "\n",
    "ab_c = (a.dot(b)).dot(c)\n",
    "a_bc = a.dot(b.dot(c))\n",
    "\n",
    "if ab_c.all() == a_bc.all():\n",
    "    print('(A×B)×C=A×(B×C)')\n",
    "else:\n",
    "    print('(A×B)×C≠A×(B×C)')"
   ],
   "metadata": {
    "collapsed": false
   }
  },
  {
   "cell_type": "markdown",
   "source": [
    "<a href='https://stepik.org/lesson/24613/step/4'>Задание #3</a>"
   ],
   "metadata": {
    "collapsed": false
   }
  },
  {
   "cell_type": "code",
   "execution_count": 4,
   "outputs": [
    {
     "name": "stdout",
     "output_type": "stream",
     "text": [
      "Каждый элемент E1 равен элементу E2, стоящему на таком же месте\n"
     ]
    }
   ],
   "source": [
    "# дистрибутивность\n",
    "a = np.array([[1,2,3],[5,6,7],[9,10,11],[4,8,12]])\n",
    "b = np.array([[1],[5],[9]])\n",
    "d = np.array([[3],[4],[1]])\n",
    "\n",
    "e1 = a.dot(b+d)\n",
    "e2 = a.dot(b) + a.dot(d)\n",
    "\n",
    "if e1.all() == e2.all():\n",
    "    print('Каждый элемент E1 равен элементу E2, стоящему на таком же месте')\n",
    "elif e1.all() <= e2.all():\n",
    "    print('Каждый элемент E1 меньше элемента E2, стоящего на таком же месте')\n",
    "elif e1.all() >= e2.all():\n",
    "    print('Каждый элемент E1 больше элемента E2, стоящего на таком же месте')"
   ],
   "metadata": {
    "collapsed": false
   }
  },
  {
   "cell_type": "markdown",
   "source": [
    "<a href='https://stepik.org/lesson/24613/step/5'>Задание #4</a>"
   ],
   "metadata": {
    "collapsed": false
   }
  },
  {
   "cell_type": "code",
   "execution_count": 5,
   "outputs": [
    {
     "name": "stdout",
     "output_type": "stream",
     "text": [
      "[[ -1   3  43]\n",
      " [-73 -53  19]\n",
      " [ 73  70  15]]\n",
      "[[-23  22 -25]\n",
      " [ 76 -34  42]\n",
      " [-85  23  18]]\n"
     ]
    }
   ],
   "source": [
    "f1 = np.array([[-6, 2, 5], [-4, 1, -5], [-3, -2, 8]])\n",
    "f2 = np.array([[5, 2, -5], [-8, -10, 4], [9, 7, 1]])\n",
    "\n",
    "f1_f2 = f1.dot(f2)\n",
    "f2_f1 = f2.dot(f1)\n",
    "\n",
    "print(f1_f2)\n",
    "\n",
    "print(f2_f1)"
   ],
   "metadata": {
    "collapsed": false
   }
  },
  {
   "cell_type": "markdown",
   "source": [
    "### Как создать массив:\n",
    "\n",
    "```\n",
    "- array(object) — n-мерный массив из любой (возможно, вложенной) последовательности\n",
    "- eye(N, M=N, k=0) -- двумерный массив с N строками с единицами на диагонали и нулями во всех остальных позициях. Число столбцов M по умолчанию\n",
    "равно N, k — сдвиг диагонали (0 для основной диагонали, положительные числа для верхних диагоналей и отрицательные для нижних)\n",
    "- zeros(shape) -- новый массив указанной формы, заполненный нулями,\n",
    "- ones(shape) -- новый массив указанной формы, заполненный единицами,\n",
    "full(shape, fill_value) -- новый массив указанной формы, заполненный fill_value.\n",
    "```"
   ],
   "metadata": {
    "collapsed": false
   }
  },
  {
   "cell_type": "markdown",
   "source": [
    "<a href='https://stepik.org/lesson/16462/step/5'>Задание #1</a>"
   ],
   "metadata": {
    "collapsed": false
   }
  },
  {
   "cell_type": "code",
   "execution_count": 6,
   "outputs": [
    {
     "data": {
      "text/plain": "array([[2., 1., 0., 0.],\n       [0., 2., 1., 0.],\n       [0., 0., 2., 1.]])"
     },
     "execution_count": 6,
     "metadata": {},
     "output_type": "execute_result"
    }
   ],
   "source": [
    "a = np.eye(3, 4, k=0)\n",
    "b = np.eye(3, 4, k=1)\n",
    "a = a * 2\n",
    "a = a + b\n",
    "a"
   ],
   "metadata": {
    "collapsed": false
   }
  }
 ],
 "metadata": {
  "kernelspec": {
   "display_name": "Python 3",
   "language": "python",
   "name": "python3"
  },
  "language_info": {
   "codemirror_mode": {
    "name": "ipython",
    "version": 2
   },
   "file_extension": ".py",
   "mimetype": "text/x-python",
   "name": "python",
   "nbconvert_exporter": "python",
   "pygments_lexer": "ipython2",
   "version": "2.7.6"
  }
 },
 "nbformat": 4,
 "nbformat_minor": 0
}
