{
  "nbformat": 4,
  "nbformat_minor": 0,
  "metadata": {
    "kernelspec": {
      "display_name": "Python 3",
      "name": "python3"
    },
    "language_info": {
      "codemirror_mode": {
        "name": "ipython",
        "version": 3
      },
      "file_extension": ".py",
      "mimetype": "text/x-python",
      "name": "python",
      "nbconvert_exporter": "python",
      "pygments_lexer": "ipython3",
      "version": "3.8.5"
    },
    "colab": {
      "provenance": [],
      "gpuType": "T4"
    },
    "accelerator": "GPU"
  },
  "cells": [
    {
      "cell_type": "markdown",
      "metadata": {
        "id": "sK-p0weReC_2"
      },
      "source": [
        "# 6 - Attention is All You Need\n",
        "\n",
        "**Полезные ссылки**\n",
        "\n",
        "- <a href=\"https://github.com/vasiliyeskin/bentrevett-pytorch-seq2seq_ru/blob/master/6%20-%20Attention%20is%20All%20You%20Need.ipynb\">Исходный код</a>\n",
        "- <a href=\"https://habr.com/ru/articles/568304/\">Статья на хабре</a>\n",
        "- <a href=\"https://miro.com/app/board/uXjVMp-kso0=/?share_link_id=351600039495\">Блок-схема реализации</a>\n",
        "\n",
        "В этом разделе мы будем реализовывать (слегка измененную версию) модели Transformer из статьи [Attention is All You Need](https://arxiv.org/abs/1706.03762). Все изображения в этой части взяты из статьи Transformer. Для получения дополнительной информации о Transformer обращайтесь [сюда](https://www.mihaileric.com/posts/transformers-attention-in-disguise/), [сюда](https://jalammar.github.io/illustrated-transformer/) [и сюда](http://nlp.seas.harvard.edu/2018/04/03/attention.html). На русском языке [здесь](https://habr.com/ru/post/486358/).\n",
        "\n",
        "![](https://github.com/vasiliyeskin/bentrevett-pytorch-seq2seq_ru/blob/master/assets/transformer1.png?raw=1)\n",
        "\n",
        "## Введение\n",
        "\n",
        "Подобно свёрточной модели Sequence-to-Sequence, Transformer не использует никакой рекуррентности. Он также не использует свёрточные слои. Вместо этого модель полностью состоит из линейных слоев, механизмов внимания и нормализации.\n",
        "\n",
        "По состоянию на январь 2020 года трансформеры являются доминирующей архитектурой в NLP и используются для достижения передовых результатов во многих задач, и похоже, что они будут доминировать в ближайшем будущем в области обработки языков.\n",
        "\n",
        "Самый популярный Transformer вариант это [BERT](https://arxiv.org/abs/1810.04805) (**B**idirectional **E**ncoder **R**epresentations from **T**ransformers) и предварительно обученные версии BERT обычно используются для замены слоёв эмбеддинга — если не больше - в NLP моделях.\n",
        "\n",
        "Распространенной библиотекой, используемой при работе с предварительно обученными трансформерами, является библиотека [Transformers](https://huggingface.co/transformers/), смотрите [здесь](https://huggingface.co/transformers/pretrained_models.html) список всех доступных предварительно обученных моделей.\n",
        "\n",
        "Различия между реализацией в этой части и в статье:\n",
        "- мы используем обученную позиционную кодировку вместо статической\n",
        "- мы используем стандартный оптимизатор Adam со статической скоростью обучения вместо оптимизатора с динамически изменяющейся скоростью\n",
        "- мы не используем сглаживание меток\n",
        "\n",
        "Мы вносим все эти изменения, поскольку они близки к настройкам BERT и большинство вариантов Transformer используют аналогичную настройку."
      ]
    },
    {
      "cell_type": "markdown",
      "metadata": {
        "id": "Igqzg51reC_3"
      },
      "source": [
        "## Подготовка данных\n",
        "\n",
        "Как всегда, давайте импортируем все необходимые модули и зададим случайные начальные числа для воспроизводимости."
      ]
    },
    {
      "cell_type": "code",
      "source": [
        "!pip install -U -q torchtext==0.15.2"
      ],
      "metadata": {
        "id": "b9lDSICz7sxz"
      },
      "execution_count": null,
      "outputs": []
    },
    {
      "cell_type": "code",
      "source": [
        "!pip install -U -q spacy==3.6.1\n",
        "!pip install -q portalocker>=2.0.0"
      ],
      "metadata": {
        "id": "50FrPk9yh0SN"
      },
      "execution_count": null,
      "outputs": []
    },
    {
      "cell_type": "code",
      "source": [
        "!python -m spacy download en_core_web_sm &>/dev/null\n",
        "!python -m spacy download de_core_news_sm &>/dev/null"
      ],
      "metadata": {
        "id": "Vy6XbfAvh5uM"
      },
      "execution_count": null,
      "outputs": []
    },
    {
      "cell_type": "markdown",
      "metadata": {
        "collapsed": false,
        "id": "Q0qCExV1eC_6"
      },
      "source": [
        "Для загрузки в Google Colab используем следующие команды (После загрузки обязательно перезапустите colab runtime! Наибыстрейший способ через короткую комаду： **Ctrl + M + .**):"
      ]
    },
    {
      "cell_type": "code",
      "metadata": {
        "id": "Ap3d_civeC_4"
      },
      "source": [
        "import torch\n",
        "import torch.nn as nn\n",
        "import torch.optim as optim\n",
        "\n",
        "from torch.utils.data import DataLoader\n",
        "from torch.nn.utils.rnn import pad_sequence\n",
        "\n",
        "import torchtext\n",
        "\n",
        "from torchtext.datasets import multi30k, Multi30k\n",
        "from torchtext.data.utils import get_tokenizer\n",
        "from torchtext.vocab import build_vocab_from_iterator\n",
        "\n",
        "from typing import Iterable, List\n",
        "\n",
        "import matplotlib.pyplot as plt\n",
        "import matplotlib.ticker as ticker\n",
        "\n",
        "import spacy\n",
        "import numpy as np\n",
        "\n",
        "import random\n",
        "import math\n",
        "import time\n",
        "import re\n",
        "import string"
      ],
      "execution_count": null,
      "outputs": []
    },
    {
      "cell_type": "code",
      "metadata": {
        "id": "l9vyd9nIeC_5"
      },
      "source": [
        "SEED = 1234\n",
        "\n",
        "random.seed(SEED)\n",
        "np.random.seed(SEED)\n",
        "torch.manual_seed(SEED)\n",
        "torch.cuda.manual_seed(SEED)\n",
        "torch.backends.cudnn.deterministic = True"
      ],
      "execution_count": null,
      "outputs": []
    },
    {
      "cell_type": "code",
      "source": [
        "device = torch.device('cuda' if torch.cuda.is_available() else 'cpu')\n",
        "device"
      ],
      "metadata": {
        "colab": {
          "base_uri": "https://localhost:8080/"
        },
        "id": "KK3I7Jn7OmfN",
        "outputId": "c60ddfae-dbd1-487b-9d5f-ff29eebf5c7a"
      },
      "execution_count": null,
      "outputs": [
        {
          "output_type": "execute_result",
          "data": {
            "text/plain": [
              "device(type='cuda')"
            ]
          },
          "metadata": {},
          "execution_count": 3
        }
      ]
    },
    {
      "cell_type": "markdown",
      "source": [
        "Нам необходимо изменить URL-адреса набора данных, поскольку ссылки на исходный набор данных не работают.\n",
        "\n",
        "Смотрите https://github.com/pytorch/text/issues/1756#issuecomment-1163664163 для получения дополнительной информации."
      ],
      "metadata": {
        "id": "pdi3qug2oTf5"
      }
    },
    {
      "cell_type": "code",
      "source": [
        "multi30k.URL[\"train\"] = \"https://raw.githubusercontent.com/neychev/small_DL_repo/master/datasets/Multi30k/training.tar.gz\"\n",
        "multi30k.URL[\"valid\"] = \"https://raw.githubusercontent.com/neychev/small_DL_repo/master/datasets/Multi30k/validation.tar.gz\""
      ],
      "metadata": {
        "id": "1UvBMgw5AFft"
      },
      "execution_count": null,
      "outputs": []
    },
    {
      "cell_type": "code",
      "source": [
        "SRC_LANGUAGE = 'de'\n",
        "TGT_LANGUAGE = 'en'\n",
        "\n",
        "# Place-holders\n",
        "token_transform = {}\n",
        "vocab_transform = {}"
      ],
      "metadata": {
        "id": "oLOQ6165xS_A"
      },
      "execution_count": null,
      "outputs": []
    },
    {
      "cell_type": "markdown",
      "metadata": {
        "id": "JpvSKHHteC_7"
      },
      "source": [
        "Затем мы создадим наши токенизаторы"
      ]
    },
    {
      "cell_type": "code",
      "metadata": {
        "id": "2cb9Q_txeC_8"
      },
      "source": [
        "token_transform[SRC_LANGUAGE] = get_tokenizer('spacy', language='de_core_news_sm')\n",
        "token_transform[TGT_LANGUAGE] = get_tokenizer('spacy', language='en_core_web_sm')"
      ],
      "execution_count": null,
      "outputs": []
    },
    {
      "cell_type": "code",
      "source": [
        "# helper function to yield list of tokens\n",
        "def yield_tokens(data_iter: Iterable, language: str) -> List[str]:\n",
        "    language_index = {SRC_LANGUAGE: 0, TGT_LANGUAGE: 1}\n",
        "\n",
        "    for data_sample in data_iter:\n",
        "        yield token_transform[language](data_sample[language_index[language]])\n",
        "\n",
        "# Define special symbols and indices\n",
        "UNK_IDX, PAD_IDX, BOS_IDX, EOS_IDX = 0, 1, 2, 3\n",
        "# Make sure the tokens are in order of their indices to properly insert them in vocab\n",
        "special_symbols = ['<unk>', '<pad>', '<bos>', '<eos>']\n",
        "\n",
        "for ln in [SRC_LANGUAGE, TGT_LANGUAGE]:\n",
        "    # Training data Iterator\n",
        "    train_iter = Multi30k(split='train', language_pair=(SRC_LANGUAGE, TGT_LANGUAGE))\n",
        "    # Create torchtext's Vocab object\n",
        "    vocab_transform[ln] = build_vocab_from_iterator(yield_tokens(train_iter, ln),\n",
        "                                                    min_freq=1,\n",
        "                                                    specials=special_symbols,\n",
        "                                                    special_first=True)\n",
        "\n",
        "# Set ``UNK_IDX`` as the default index. This index is returned when the token is not found.\n",
        "# If not set, it throws ``RuntimeError`` when the queried token is not found in the Vocabulary.\n",
        "for ln in [SRC_LANGUAGE, TGT_LANGUAGE]:\n",
        "  vocab_transform[ln].set_default_index(UNK_IDX)"
      ],
      "metadata": {
        "id": "g50_QRtiyu9e"
      },
      "execution_count": null,
      "outputs": []
    },
    {
      "cell_type": "code",
      "source": [
        "vocab_transform"
      ],
      "metadata": {
        "colab": {
          "base_uri": "https://localhost:8080/"
        },
        "id": "rJMkoOc6zHQe",
        "outputId": "7ed6cb45-b6a6-4395-dd2a-427cbdda93f0"
      },
      "execution_count": null,
      "outputs": [
        {
          "output_type": "execute_result",
          "data": {
            "text/plain": [
              "{'de': Vocab(), 'en': Vocab()}"
            ]
          },
          "metadata": {},
          "execution_count": 8
        }
      ]
    },
    {
      "cell_type": "code",
      "source": [
        "vocab_transform['de'].get_itos()[:10]"
      ],
      "metadata": {
        "colab": {
          "base_uri": "https://localhost:8080/"
        },
        "id": "7aoX1T3wzLrA",
        "outputId": "ece04a03-dbab-43a6-c8bb-e1f32a9b492a"
      },
      "execution_count": null,
      "outputs": [
        {
          "output_type": "execute_result",
          "data": {
            "text/plain": [
              "['<unk>', '<pad>', '<bos>', '<eos>', '.', 'Ein', 'einem', 'in', ',', 'und']"
            ]
          },
          "metadata": {},
          "execution_count": 9
        }
      ]
    },
    {
      "cell_type": "code",
      "source": [
        "vocab_transform['de'].get_itos()[PAD_IDX]"
      ],
      "metadata": {
        "colab": {
          "base_uri": "https://localhost:8080/",
          "height": 37
        },
        "id": "JDdv_OdAL_gC",
        "outputId": "b4b6568f-3389-405b-8c76-27f9c353ed45"
      },
      "execution_count": null,
      "outputs": [
        {
          "output_type": "execute_result",
          "data": {
            "text/plain": [
              "'<pad>'"
            ],
            "application/vnd.google.colaboratory.intrinsic+json": {
              "type": "string"
            }
          },
          "metadata": {},
          "execution_count": 10
        }
      ]
    },
    {
      "cell_type": "code",
      "source": [
        "vocab_transform['de'].get_stoi()['<pad>']"
      ],
      "metadata": {
        "colab": {
          "base_uri": "https://localhost:8080/"
        },
        "id": "nmSusA5jMRc-",
        "outputId": "cd772254-fa19-4dc9-9536-32211a70b2dd"
      },
      "execution_count": null,
      "outputs": [
        {
          "output_type": "execute_result",
          "data": {
            "text/plain": [
              "1"
            ]
          },
          "metadata": {},
          "execution_count": 11
        }
      ]
    },
    {
      "cell_type": "code",
      "source": [
        "list(vocab_transform['de'].get_stoi())[:5]"
      ],
      "metadata": {
        "colab": {
          "base_uri": "https://localhost:8080/"
        },
        "id": "Rn6e-EtKzbbX",
        "outputId": "ee9b7478-fcad-4883-c6a8-062517d45e28"
      },
      "execution_count": null,
      "outputs": [
        {
          "output_type": "execute_result",
          "data": {
            "text/plain": [
              "['’', 'üppiges', 'überzeugen', 'überwältigt', 'überwiegende']"
            ]
          },
          "metadata": {},
          "execution_count": 12
        }
      ]
    },
    {
      "cell_type": "code",
      "source": [
        "len(vocab_transform['de'])"
      ],
      "metadata": {
        "colab": {
          "base_uri": "https://localhost:8080/"
        },
        "id": "wXrcsOkSKZuF",
        "outputId": "4fd4e575-148f-4666-a823-632ef6d33fd8"
      },
      "execution_count": null,
      "outputs": [
        {
          "output_type": "execute_result",
          "data": {
            "text/plain": [
              "19214"
            ]
          },
          "metadata": {},
          "execution_count": 13
        }
      ]
    },
    {
      "cell_type": "markdown",
      "metadata": {
        "id": "sgInf_6_eDAB"
      },
      "source": [
        "## Построение модели\n",
        "\n",
        "Далее мы построим модель. Как и в предыдущих частях, она состоит из *кодера* и *декодера*, с кодером *кодирующим* входное предложение (на немецком языке) в *вектор контекста* и декодера, который *декодирует* этот вектор контекста в выходное предложение (на английском языке).\n",
        "\n",
        "### Кодировщик\n",
        "\n",
        "Подобно модели ConvSeq2Seq, кодировщик Transformer не пытается сжать всё исходное предложение $X = (x_1, ... ,x_n)$ в единый вектор контекста $z$. Вместо этого он создает последовательность векторов контекста $Z = (z_1, ... , z_n)$. Итак, если бы наша входная последовательность состояла из 5 токенов, у нас было бы $Z = (z_1, z_2, z_3, z_4, z_5)$. Почему мы называем этот тензор последовательностью контекстных векторов, а не последовательностью скрытых состояний? Скрытое состояние в момент времени $t$ в RNN видит только токены x_t и все токены, что были перед ним. Однако здесь каждый вектор контекста `видел` все токены во всех позициях входной последовательности.\n",
        "\n",
        "![](https://github.com/vasiliyeskin/bentrevett-pytorch-seq2seq_ru/blob/master/assets/transformer-encoder.png?raw=1)\n",
        "\n",
        "Сначала токены проходят через стандартный слой эмбеддинга. Поскольку модель не является рекуррентной, она не имеет представления о порядке токенов в последовательности. Мы решаем эту проблему, используя второй слой эмбеддинга, называемый *позиционный слой эмбеддинга* (positional embedding layer). Это стандартный эмбеддинг, для которого входом является не сам токен, а позиция токена в последовательности, начиная с первого токена, токена `<sos>` (начало последовательности) в позиции 0. Позиционный эмбеддинг имеет размер словаря, равный 100, что означает, что наша модель может принимать предложения длиной до 100 токенов. Его можно увеличить, если мы хотим обрабатывать более длинные предложения.\n",
        "\n",
        "Оригинальная реализация Transformer в статье Attention is All You Need не обучала позиционный эмбеддинг. Вместо этого в ней использовался фиксированный статический эмбеддинг. Современные архитектуры Transformer, такие как BERT, вместо этого используют позиционные эмбеддинги, поэтому мы решили использовать их в этой реализации. Обратитесь [сюда](http://nlp.seas.harvard.edu/2018/04/03/attention.html#positional-encoding), чтобы узнать больше о позиционных эмбеддингах, используемых в исходной модели Transformer.\n",
        "\n",
        "Затем токен и результат прохождения позиционного эмбеддинга поэлементно суммируются для получения вектора, который содержит информацию о токене, а также его позицию в последовательности. Однако перед суммированием токенов эмбеддинга они умножаются на коэффициент масштабирования, равный $\\sqrt{d_{model}}$, где $d_{model}$ размер скрытого измерения `hid_dim`. Это якобы уменьшает дисперсию эмбеддинга, и модель трудно обучить без этого коэффициента масштабирования. Затем применяется дропаут для комбинированного эмебеддинга.\n",
        "\n",
        "Комбинированный эмебеддинг затем пропускаются через $N$ *слоев кодировщика* для получения $Z$, для вывода и использования декодером.\n",
        "\n",
        "Исходная маска `src_mask` просто имеет ту же форму, что и исходное предложение, но имеет значение 1, когда токен в исходном предложении не является токеном `<pad>` и 0, когда это токен `<pad>`. Это используется в слоях кодировщика для маскировки механизмов многонаправленного внимания, которые используются для вычисления и применения внимания к исходному предложению, поэтому модель не обращает внимания на токены `<pad>`, которые не содержат полезной информации."
      ]
    },
    {
      "cell_type": "code",
      "metadata": {
        "id": "gPdb3zxNeDAC"
      },
      "source": [
        "class Encoder(nn.Module):\n",
        "    def __init__(self,\n",
        "                 input_dim, # размерность словаря source\n",
        "                 hid_dim, # размерность скрытого слоя\n",
        "                 n_layers, # количество слоев\n",
        "                 n_heads, # количество голов\n",
        "                 pf_dim, # размерность слоя Feed Forward\n",
        "                 dropout, # доля нейронов, которые будут игнорироваться\n",
        "                 device,\n",
        "                 max_length = 100 # максимальная длина последовательности\n",
        "                 ):\n",
        "        super().__init__()\n",
        "\n",
        "        self.device = device\n",
        "\n",
        "        # слой создания эмбеддингов из токенизированной последовательности\n",
        "        self.tok_embedding = nn.Embedding(input_dim, hid_dim)\n",
        "        # слой позиционного кодирования\n",
        "        self.pos_embedding = nn.Embedding(max_length, hid_dim)\n",
        "\n",
        "        # генератор слоев энкодера\n",
        "        self.layers = nn.ModuleList([EncoderLayer(hid_dim,\n",
        "                                                  n_heads,\n",
        "                                                  pf_dim,\n",
        "                                                  dropout,\n",
        "                                                  device)\n",
        "                                     for _ in range(n_layers)])\n",
        "\n",
        "        # слой Dropout\n",
        "        self.dropout = nn.Dropout(dropout)\n",
        "\n",
        "        # переменная масштабирования, используется для уменьшения дисперсии\n",
        "        self.scale = torch.sqrt(torch.FloatTensor([hid_dim])).to(device)\n",
        "\n",
        "    def forward(self, src, src_mask):\n",
        "        # src = [batch size, src len]\n",
        "        # src_mask = [batch size, 1, 1, src len]\n",
        "\n",
        "        # размер батча\n",
        "        batch_size = src.shape[0]\n",
        "\n",
        "        # размер source последовательности\n",
        "        src_len = src.shape[1]\n",
        "\n",
        "        # сгенерирует матрицу размером batch size, src len, заполненную\n",
        "        # построчно значениями матрица будет использована для генерации\n",
        "        # позиционного кодирования\n",
        "        # от 0 до src_len\n",
        "        # pos = [batch size, src len]\n",
        "        pos = torch.arange(0, src_len).unsqueeze(0).repeat(batch_size, 1).to(self.device)\n",
        "\n",
        "        # выход из слоя эмбединга умножается на коэффициент масштабирования и к нему\n",
        "        # прибавляется матрицу позиционного кодирования, затем через Dropout.\n",
        "        # в результате мы получаем тензор для входа в энкодер\n",
        "        #src = [batch size, src len, hid dim]\n",
        "        src = self.dropout((self.tok_embedding(src) * self.scale) + self.pos_embedding(pos))\n",
        "\n",
        "        # пропускаем полученный раннее src через слои энкодера\n",
        "        # на выходе получаем тензор Self Attention\n",
        "        for layer in self.layers:\n",
        "            src = layer(src, src_mask)\n",
        "\n",
        "        # src = [batch size, src len, hid dim]\n",
        "\n",
        "        return src"
      ],
      "execution_count": null,
      "outputs": []
    },
    {
      "cell_type": "markdown",
      "metadata": {
        "id": "T09NNS4VeDAC"
      },
      "source": [
        "### Слой кодировщика\n",
        "\n",
        "Слои кодировщика — это место, содержащее всю «соль» кодировщика. Сначала мы передаем исходное предложение и его маску в *слой многонаправленного внимания*, затем выполняем дропаут для его выхода, применяем остаточное соединение и передайте его через [слой нормализации](https://arxiv.org/abs/1607.06450). Затем результат мы пропускаем через слой *сети позиционно-зависимого прямого распространения* и снова применяем дропаут, остаточное соединение, слой нормализации, чтобы получить вывод этого слоя, который передается на следующий слой. Параметры не разделяются (не являются общими) между слоями.\n",
        "\n",
        "Слой многонаправленного внимания используется уровнем кодировщика для сосредоточения внимания на исходном предложении, то есть он вычисляет и применяет механизм внимание по отношению к себе, а не к другой последовательности, поэтому эту процедуру называются *внутренним вниманием*.\n",
        "\n",
        "[Эта](https://mlexplained.com/2018/01/13/weight-normalization-and-layer-normalization-explained-normalization-in-deep-learning-part-2/) статья подробно рассказывает о нормализации слоев. Суть в том, что в процедуре нормализации нормализуются значения признаков (то есть по скрытым измерениям), поэтому каждый признак имеет среднее значение 0 и стандартное отклонение 1. Это упрощает обучение нейронных сетей с большим количеством слоев, таких как Transformer."
      ]
    },
    {
      "cell_type": "code",
      "metadata": {
        "id": "35GS1I7ceDAD"
      },
      "source": [
        "class EncoderLayer(nn.Module):\n",
        "    def __init__(self,\n",
        "                 hid_dim, # размерность скрытых слоев внутри каждого блока энкодера\n",
        "                 n_heads, # количество голов\n",
        "                 pf_dim, # внутренняя размерность между слоями Feed Forward\n",
        "                 dropout, # доля нейронов, которые будут игнорироваться\n",
        "                 device):\n",
        "        super().__init__()\n",
        "\n",
        "        # слой нормализации выхода после Self Attention\n",
        "        self.self_attn_layer_norm = nn.LayerNorm(hid_dim)\n",
        "        # слой нормализации выхода после Feed Forward\n",
        "        self.ff_layer_norm = nn.LayerNorm(hid_dim)\n",
        "        # слой Self Attention\n",
        "        self.self_attention = MultiHeadAttentionLayer(hid_dim, n_heads, dropout, device)\n",
        "        # слой Feed Forward\n",
        "        self.positionwise_feedforward = PositionwiseFeedforwardLayer(hid_dim,\n",
        "                                                                     pf_dim,\n",
        "                                                                     dropout)\n",
        "        # слой Dropout\n",
        "        self.dropout = nn.Dropout(dropout)\n",
        "\n",
        "    def forward(self, src, src_mask):\n",
        "        # src = [batch size, src len, hid dim]\n",
        "        # src_mask = [batch size, 1, 1, src len]\n",
        "\n",
        "        # Self Attention\n",
        "        # эмбеддинги src и маска подаются на вход в слой Self Attention\n",
        "        _src, _ = self.self_attention(src, src, src, src_mask)\n",
        "\n",
        "        # Add & Norm\n",
        "        # выход Self Attention суммируется с исходным эмбеддингом\n",
        "        # (residual connection), затем проходит через слой нормализации\n",
        "        src = self.self_attn_layer_norm(src + self.dropout(_src))\n",
        "\n",
        "        # Feed Forward\n",
        "        # выход после Add & Norm подается в слой Feed Forward\n",
        "        _src = self.positionwise_feedforward(src)\n",
        "        # _src = [batch size, src len, hid dim]\n",
        "\n",
        "        # Add & Norm\n",
        "        # очередной слой Add & Norm с residual connection, где складываются\n",
        "        # тензоры до и после Feed Forward\n",
        "        src = self.ff_layer_norm(src + self.dropout(_src))\n",
        "        # src = [batch size, src len, hid dim]\n",
        "\n",
        "        return src"
      ],
      "execution_count": null,
      "outputs": []
    },
    {
      "cell_type": "markdown",
      "metadata": {
        "id": "rUKKysfxeDAD"
      },
      "source": [
        "### Слой многонаправленного внимания\n",
        "\n",
        "Одна из ключевых, новых концепций, представленных в статье о Transformer, - это *слой многонаправленного внимания*.\n",
        "\n",
        "![](https://github.com/vasiliyeskin/bentrevett-pytorch-seq2seq_ru/blob/master/assets/transformer-attention.png?raw=1)\n",
        "\n",
        "Внимание можно рассматривать как *запросы*, *ключи* и *значения* - где запрос используется с ключом для получения вектора внимания (обычно для вывода используется операция *softmax* и выходные величины имеют значения от 0 до 1, которые в сумме равны 1), используемый для получения взвешенной суммы значений.\n",
        "\n",
        "Трансформер использует *масштабированное скалярное произведение внимания*, для которого *запрос* и *ключ* объединяются путем взятия скалярного произведения между ними, затем применяя операцию softmax и масштабируя $d_k$ прежде чем, наконец, умножить на *значение*. $d_k$ это *размер направления*, `head_dim`, которое мы раскроем далее.\n",
        "\n",
        "$$ \\text{Attention}(Q, K, V) = \\text{Softmax} \\big( \\frac{QK^T}{\\sqrt{d_k}} \\big)V $$\n",
        "\n",
        "Это похоже на стандартное *скалярное произведение для внимания*, но масштабируется по $d_k$, которое, как говорится в статье, используется, чтобы остановить результаты скалярных произведений, становящиеся большими, что приводит к тому, что градиенты становятся слишком маленькими.\n",
        "\n",
        "Однако масштабированное скалярное произведение внимания применяется не просто к запросам, ключам и значениям. Вместо того, чтобы применять единственное внимание к запросам, ключам и значениям, их `hid_dim` разделить на $h$ *направлений* и масштабированное скалярное произведение внимания рассчитывается по всем направлениям параллельно. Это означает, что вместо того, чтобы уделять внимание одному понятию за одно применения внимания, мы обращаем внимание на $h$ понятий. Затем мы повторно объединяем направления в их `hid_dim` форму, таким образом, каждый `hid_dim` потенциально обращает внимание на $h$ разных понятий.\n",
        "\n",
        "$$ \\text{MultiHead}(Q, K, V) = \\text{Concat}(\\text{head}_1,...,\\text{head}_h)W^O $$\n",
        "\n",
        "$$\\text{head}_i = \\text{Attention}(QW_i^Q, KW_i^K, VW_i^V) $$\n",
        "\n",
        "$W^O$ это линейный слой, применяемый в конце слоя внимания с несколькими направлениями, `fc`. $W^Q, W^K, W^V$ линейные слои `fc_q`, `fc_k` и `fc_v`.\n",
        "\n",
        "Проходя по модулю, сначала вычисляем $QW^Q$, $KW^K$ и $VW^V$ с линейными слоями `fc_q`, `fc_k` и `fc_v`, дающие нам`Q`, `K` и `V`. Далее мы разбиваем `hid_dim` запроса, ключа и значения на `n_heads`, используя `.view` и правильно поменяв их порядок так, чтобы их можно было перемножить. Затем мы вычисляем `energy` (ненормализованное внимание) путем умножения `Q` и `K` вместе и масштабируя её на квадратный корень из `head_dim`, которое рассчитывается как `hid_dim // n_heads`. Затем мы маскируем энергию, чтобы не обращать внимания на элементы последовательности, на которые не следует сосредотачиваться, затем применяем softmax и дропаут. Затем мы применяем внимание к значениям направлений `V`, перед объединением `n_heads` вместе. Наконец, мы умножаем результат на $W^O$, представленное `fc_o`.\n",
        "\n",
        "Обратите внимание, что в нашей реализации длины ключей и значений всегда одинаковы, поэтому при матричном умножении выход softmax, `attention`, с `V` у нас всегда будут правильного размера для умножения матриц. Это умножение выполняется с использованием `torch.matmul` который, когда оба тензора > 2-мерны, выполняет пакетное матричное умножение по последним двум измерениям каждого тензора. Это будет **[query len, key len] x [value len, head dim]** умножение матрицы на размер батча и каждое направление, которая обеспечивает результат вида **[batch size, n heads, query len, head dim]**.\n",
        "\n",
        "Поначалу кажется странным то, что дропаут применяется непосредственно к вниманию. Это означает, что наш вектор внимания, скорее всего, не будет суммироваться до 1, и мы можем уделять все внимание токену, но внимание к этому токену устанавливается на 0 в результате дропаута. Это никогда не объясняется и даже не упоминается в статье, однако используется в [официальное реализации](https://github.com/tensorflow/tensor2tensor/) и в каждой реализации Transformer, [включая BERT](https://github.com/google-research/bert/)."
      ]
    },
    {
      "cell_type": "code",
      "metadata": {
        "id": "y-sQJFrXeDAE"
      },
      "source": [
        "class MultiHeadAttentionLayer(nn.Module):\n",
        "    def __init__(self, hid_dim, n_heads, dropout, device):\n",
        "        super().__init__()\n",
        "\n",
        "        # проверка, что размерность скрытого слоя делится без остатка\n",
        "        # на кол-во голов\n",
        "        assert hid_dim % n_heads == 0\n",
        "\n",
        "        self.hid_dim = hid_dim # размерность скрытого слоя\n",
        "        self.n_heads = n_heads # количество голов\n",
        "        self.head_dim = hid_dim // n_heads # размерность каждой головы\n",
        "\n",
        "        # матрицы весов автоматически заполняются\n",
        "        # при инициализации слоев прямого распространения\n",
        "        # nn.Linear(in_dim, out_dim)\n",
        "        # слой матричного произведения для расчета значения Query\n",
        "        self.fc_q = nn.Linear(hid_dim, hid_dim)\n",
        "        # слой матричного произведения для расчета значения Key\n",
        "        self.fc_k = nn.Linear(hid_dim, hid_dim)\n",
        "        # слой матричного произведения для расчета значения Value\n",
        "        self.fc_v = nn.Linear(hid_dim, hid_dim)\n",
        "\n",
        "        # слой матричного произведения для изменения размерности матриц\n",
        "        # к исходной после конкатинации\n",
        "        # тут подробнее: https://habr.com/ru/articles/486358/\n",
        "        self.fc_o = nn.Linear(hid_dim, hid_dim)\n",
        "\n",
        "        # слой Dropout\n",
        "        self.dropout = nn.Dropout(dropout)\n",
        "\n",
        "        # переменная для масштабирования произведения Query и Key T\n",
        "        self.scale = torch.sqrt(torch.FloatTensor([self.head_dim])).to(device)\n",
        "\n",
        "    # на вход методу подается три исходных тензора с эмбеддингами и маска\n",
        "    def forward(self, query, key, value, mask = None):\n",
        "\n",
        "        batch_size = query.shape[0]\n",
        "\n",
        "        # получаем Query, Key и Value\n",
        "        # query = [batch size, query len, hid dim]\n",
        "        # key = [batch size, key len, hid dim]\n",
        "        # value = [batch size, value len, hid dim]\n",
        "        Q = self.fc_q(query)\n",
        "        K = self.fc_k(key)\n",
        "        V = self.fc_v(value)\n",
        "\n",
        "        # на выходе тензоры следующих размерностей\n",
        "        # Q = [batch size, query len, hid dim]\n",
        "        # K = [batch size, key len, hid dim]\n",
        "        # V = [batch size, value len, hid dim]\n",
        "\n",
        "        # изменяем форму тензоров Q, K, V, разделив hid_dim на n_heads и head_dim,\n",
        "        # используя .view. Затем  меняем порядок так, чтобы их можно было перемножить.\n",
        "        Q = Q.view(batch_size, -1, self.n_heads, self.head_dim).permute(0, 2, 1, 3)\n",
        "        K = K.view(batch_size, -1, self.n_heads, self.head_dim).permute(0, 2, 1, 3)\n",
        "        V = V.view(batch_size, -1, self.n_heads, self.head_dim).permute(0, 2, 1, 3)\n",
        "\n",
        "        # на выходе тензоры следующих размерностей\n",
        "        # Q = [batch size, n heads, query len, head dim]\n",
        "        # K = [batch size, n heads, key len, head dim]\n",
        "        # V = [batch size, n heads, value len, head dim]\n",
        "\n",
        "        # находим energy, см. формулу поиска Z (Self Attention)\n",
        "        energy = torch.matmul(Q, K.permute(0, 1, 3, 2)) / self.scale\n",
        "        # energy = [batch size, n heads, query len, key len]\n",
        "\n",
        "        # маскируем энергию, чтобы не учитывать не нужные элементы последовательности\n",
        "        if mask is not None:\n",
        "            energy = energy.masked_fill(mask == 0, -1e10)\n",
        "\n",
        "        # находим вероятности зависимости для каждого слова от остальных слов\n",
        "        attention = torch.softmax(energy, dim = -1)\n",
        "        # attention = [batch size, n heads, query len, key len]\n",
        "\n",
        "        # находим X (Attention) умножив вероятности на Value\n",
        "        x = torch.matmul(self.dropout(attention), V)\n",
        "        # x = [batch size, n heads, query len, head dim]\n",
        "\n",
        "        # меняем порядок и создаем новый тензор с помощью .contiguous()\n",
        "        x = x.permute(0, 2, 1, 3).contiguous()\n",
        "        # x = [batch size, query len, n heads, head dim]\n",
        "\n",
        "        # изменяем форму тензора объединив n heads, head dim в hid_dim\n",
        "        x = x.view(batch_size, -1, self.hid_dim)\n",
        "        # x = [batch size, query len, hid dim]\n",
        "\n",
        "        # выполняем матричное произведение в слое О\n",
        "        x = self.fc_o(x)\n",
        "        # x = [batch size, query len, hid dim]\n",
        "\n",
        "        return x, attention"
      ],
      "execution_count": null,
      "outputs": []
    },
    {
      "cell_type": "code",
      "source": [
        "original_tensor = torch.arange(24).reshape(2, 3, 4)\n",
        "print(original_tensor.shape)\n",
        "original_tensor"
      ],
      "metadata": {
        "colab": {
          "base_uri": "https://localhost:8080/"
        },
        "id": "b8Nbw397idHU",
        "outputId": "a72ea324-c6d7-4dc6-ec41-a15a319d26fd"
      },
      "execution_count": null,
      "outputs": [
        {
          "output_type": "stream",
          "name": "stdout",
          "text": [
            "torch.Size([2, 3, 4])\n"
          ]
        },
        {
          "output_type": "execute_result",
          "data": {
            "text/plain": [
              "tensor([[[ 0,  1,  2,  3],\n",
              "         [ 4,  5,  6,  7],\n",
              "         [ 8,  9, 10, 11]],\n",
              "\n",
              "        [[12, 13, 14, 15],\n",
              "         [16, 17, 18, 19],\n",
              "         [20, 21, 22, 23]]])"
            ]
          },
          "metadata": {},
          "execution_count": 17
        }
      ]
    },
    {
      "cell_type": "code",
      "source": [
        "reshaped_tensor = original_tensor.view(2, 12)\n",
        "print(reshaped_tensor.shape)\n",
        "reshaped_tensor"
      ],
      "metadata": {
        "colab": {
          "base_uri": "https://localhost:8080/"
        },
        "id": "kRbT0LaRioE4",
        "outputId": "60b50665-5dd6-4ccf-aa36-2cd5935525f8"
      },
      "execution_count": null,
      "outputs": [
        {
          "output_type": "stream",
          "name": "stdout",
          "text": [
            "torch.Size([2, 12])\n"
          ]
        },
        {
          "output_type": "execute_result",
          "data": {
            "text/plain": [
              "tensor([[ 0,  1,  2,  3,  4,  5,  6,  7,  8,  9, 10, 11],\n",
              "        [12, 13, 14, 15, 16, 17, 18, 19, 20, 21, 22, 23]])"
            ]
          },
          "metadata": {},
          "execution_count": 18
        }
      ]
    },
    {
      "cell_type": "code",
      "source": [
        "reshaped_tensor_m = original_tensor.view(2, -1, 12)\n",
        "print(reshaped_tensor_m.shape)\n",
        "reshaped_tensor_m"
      ],
      "metadata": {
        "colab": {
          "base_uri": "https://localhost:8080/"
        },
        "id": "RRDkS3s-izYX",
        "outputId": "13d1e23d-0a8f-4c3b-eba8-d1caf02260c4"
      },
      "execution_count": null,
      "outputs": [
        {
          "output_type": "stream",
          "name": "stdout",
          "text": [
            "torch.Size([2, 1, 12])\n"
          ]
        },
        {
          "output_type": "execute_result",
          "data": {
            "text/plain": [
              "tensor([[[ 0,  1,  2,  3,  4,  5,  6,  7,  8,  9, 10, 11]],\n",
              "\n",
              "        [[12, 13, 14, 15, 16, 17, 18, 19, 20, 21, 22, 23]]])"
            ]
          },
          "metadata": {},
          "execution_count": 19
        }
      ]
    },
    {
      "cell_type": "code",
      "source": [
        "batch_size = 128\n",
        "seq_len = 100\n",
        "hid_dim = 512\n",
        "n_heads = 8\n",
        "head_dim = 64\n",
        "\n",
        "q = torch.arange(batch_size*seq_len*hid_dim).reshape(batch_size, seq_len, hid_dim)\n",
        "print(q.shape)\n",
        "# q = [batch size, seq_len, hid dim]\n",
        "\n",
        "q = q.view(batch_size, -1, n_heads, head_dim)\n",
        "print(q.shape)\n",
        "q = q.permute(0, 2, 1, 3)\n",
        "print(q.shape)\n",
        "# q = [batch size, n heads, seq_len, head dim]"
      ],
      "metadata": {
        "colab": {
          "base_uri": "https://localhost:8080/"
        },
        "id": "_PsR4n_sj49v",
        "outputId": "6ea37338-5b47-45e9-d971-98aefbcf055e"
      },
      "execution_count": null,
      "outputs": [
        {
          "output_type": "stream",
          "name": "stdout",
          "text": [
            "torch.Size([128, 100, 512])\n",
            "torch.Size([128, 100, 8, 64])\n",
            "torch.Size([128, 8, 100, 64])\n"
          ]
        }
      ]
    },
    {
      "cell_type": "markdown",
      "metadata": {
        "id": "nkiSMONWeDAE"
      },
      "source": [
        "### Слой позиционно-зависимого прямого распространения\n",
        "\n",
        "Другой основной блок внутри уровня кодировщика — это *слой позиционно-зависимого прямого распространения*. Он устроен относительно просто по сравнению со слоем многонаправленного внимания. Вход преобразуется из `hid_dim` в `pf_dim`, где `pf_dim` обычно намного больше, чем `hid_dim`. Оригинальный Трансформер использовал `hid_dim` из 512 и `pf_dim` из 2048. Функция активации ReLU и дропаут применяются до того, как он снова преобразуется в представление `hid_dim`.\n",
        "\n",
        "Почему он используется? К сожалению, в статье это нигде не объясняется.\n",
        "\n",
        "BERT использует функцию активации [GELU](https://arxiv.org/abs/1606.08415), которую можно применить, просто переключив `torch.relu` на `F.gelu`. Почему они использовали GELU? Опять же, это никогда не объяснялось."
      ]
    },
    {
      "cell_type": "code",
      "metadata": {
        "id": "LxMkaf1PeDAE"
      },
      "source": [
        "class PositionwiseFeedforwardLayer(nn.Module):\n",
        "    def __init__(self, hid_dim, pf_dim, dropout):\n",
        "        super().__init__()\n",
        "\n",
        "        self.fc_1 = nn.Linear(hid_dim, pf_dim)\n",
        "        self.fc_2 = nn.Linear(pf_dim, hid_dim)\n",
        "\n",
        "        self.dropout = nn.Dropout(dropout)\n",
        "\n",
        "    def forward(self, x):\n",
        "\n",
        "        # вместо Gelu используется Relu\n",
        "        # x = [batch size, seq len, hid dim]\n",
        "        x = self.dropout(torch.relu(self.fc_1(x)))\n",
        "        # x = [batch size, seq len, pf dim]\n",
        "\n",
        "        x = self.fc_2(x)\n",
        "        # x = [batch size, seq len, hid dim]\n",
        "\n",
        "        return x"
      ],
      "execution_count": null,
      "outputs": []
    },
    {
      "cell_type": "markdown",
      "metadata": {
        "id": "Gd89Lm9-eDAF"
      },
      "source": [
        "### Декодер\n",
        "\n",
        "Задача декодера — получить закодированное представление исходного предложения $Z$ и преобразовать его в предсказанные токены в целевом предложении $\\hat{Y}$. Затем мы сравниваем $\\hat{Y}$ с фактическими токенами в целевом предложении $Y$ для расчета потерь, которые будут использоваться для расчета градиентов параметров, а затем использованы в оптимизаторе для обновления весов с целью улучшить прогнозы.\n",
        "\n",
        "![](https://github.com/vasiliyeskin/bentrevett-pytorch-seq2seq_ru/blob/master/assets/transformer-decoder.png?raw=1)\n",
        "\n",
        "Декодер похож на кодировщик, но в нём имеет два уровня внимания с несколькими направлениями. *Слой многонаправленного внимания с маскировкой* над целевой последовательностью и слоем многонаправленного внимания, который использует представление декодера в качестве запроса и представление кодера как ключ и значение.\n",
        "\n",
        "Декодер использует позиционный эмбеддинг и комбинирование - через поэлементную сумму - с масштабированными целевыми токенами, прошедшими эмбеддинг, после чего следует дропаут. Опять же, наши позиционные кодировки имеют «словарь» равный 100, что означает, что они могут принимать последовательности длиной до 100 токенов. При желании его можно увеличить.\n",
        "\n",
        "Комбинированные результаты эмбеддинга затем проходят через $N$ слоёв декодера, вместе с закодированным источником `enc_src`, а также исходной и целевой маской. Обратите внимание, что количество слоев в кодировщике не обязательно должно быть равно количеству слоев в декодере, даже если они оба обозначены как $N$.\n",
        "\n",
        "Представление декодера после $N$-го слоя затем пропускается через линейный слой `fc_out`. В PyTorch операция softmax содержится в нашей функции потерь, поэтому нам не нужно явно использовать здесь слой softmax.\n",
        "\n",
        "Помимо использования исходной маски, как мы это делали в кодировщике, чтобы наша модель не влияла на токен `<pad>`, мы также используем целевую маску. Это будет объяснено далее в `Seq2Seq` модели, которая инкапсулирует как кодер, так и декодер, но суть ее в том, что она выполняет ту же операцию, что и заполнение декодера в свёрточной модели sequence-to-sequence model. Поскольку мы обрабатываем все целевые токены одновременно и параллельно, нам нужен метод остановки декодера от «обмана», просто «глядя» на следующий токен в целевой последовательности и выводя его.\n",
        "\n",
        "Наш слой декодера также выводит нормализованные значения внимания, чтобы позже мы могли построить их график, чтобы увидеть, на что на самом деле обращает внимание наша модель."
      ]
    },
    {
      "cell_type": "code",
      "metadata": {
        "id": "XX2GuqlGeDAF"
      },
      "source": [
        "class Decoder(nn.Module):\n",
        "    def __init__(self,\n",
        "                 output_dim, # # размерность словаря source\n",
        "                 hid_dim, # размерность скрытого слоя\n",
        "                 n_layers, # количество слоев\n",
        "                 n_heads, # количество голов\n",
        "                 pf_dim, # внутренняя размерность между слоями Feed Forward\n",
        "                 dropout, # доля нейронов, которые будут игнорироваться\n",
        "                 device,\n",
        "                 max_length = 100 # максимальная длина последовательности\n",
        "                 ):\n",
        "        super().__init__()\n",
        "\n",
        "        self.device = device\n",
        "\n",
        "        # слой создания эмбеддингов из токенизированной последовательности\n",
        "        self.tok_embedding = nn.Embedding(output_dim, hid_dim)\n",
        "\n",
        "        # слой позиционного кодирования\n",
        "        self.pos_embedding = nn.Embedding(max_length, hid_dim)\n",
        "\n",
        "        # генератор слоев декодера\n",
        "        self.layers = nn.ModuleList([DecoderLayer(hid_dim,\n",
        "                                                  n_heads,\n",
        "                                                  pf_dim,\n",
        "                                                  dropout,\n",
        "                                                  device)\n",
        "                                     for _ in range(n_layers)])\n",
        "\n",
        "        # выходной слой перед финальным Softmax преобразованием\n",
        "        self.fc_out = nn.Linear(hid_dim, output_dim)\n",
        "\n",
        "        # слой Dropout\n",
        "        self.dropout = nn.Dropout(dropout)\n",
        "\n",
        "        # переменная масштабирования, используется для уменьшения дисперсии\n",
        "        self.scale = torch.sqrt(torch.FloatTensor([hid_dim])).to(device)\n",
        "\n",
        "    def forward(self, trg, enc_src, trg_mask, src_mask):\n",
        "\n",
        "        # trg = [batch size, trg len]\n",
        "        # enc_src = [batch size, src len, hid dim]\n",
        "        # trg_mask = [batch size, 1, trg len, trg len]\n",
        "        # src_mask = [batch size, 1, 1, src len]\n",
        "\n",
        "        # размер батча\n",
        "        batch_size = trg.shape[0]\n",
        "\n",
        "        # размер target последовательности\n",
        "        trg_len = trg.shape[1]\n",
        "\n",
        "        # сгенерирует матрицу размером batch size, trg len, заполненную\n",
        "        # построчно значениями матрица будет использована для генерации\n",
        "        # позиционного кодирования\n",
        "        # от 0 до trg\n",
        "        # pos = [batch size, trg len]\n",
        "        pos = torch.arange(0, trg_len).unsqueeze(0).repeat(batch_size, 1).to(self.device)\n",
        "        # pos = [batch size, trg len]\n",
        "\n",
        "        # выход из слоя эмбединга умножается на коэффициент масштабирования и к нему\n",
        "        # прибавляется матрицу позиционного кодирования, затем через Dropout.\n",
        "        # в результате мы получаем тензор для входа в декодер\n",
        "        # src = [batch size, src len, hid dim]\n",
        "        trg = self.dropout((self.tok_embedding(trg) * self.scale) + self.pos_embedding(pos))\n",
        "        # trg = [batch size, trg len, hid dim]\n",
        "\n",
        "        # пропускаем полученный раннее trg, Self Attention и маски через декодер\n",
        "        # на выходе получаем тензор для передачи в линейные слои и Softmax, что\n",
        "        # результате даст тензор наиболее вероятных слов в таргет последовательности\n",
        "        for layer in self.layers:\n",
        "            trg, attention = layer(trg, enc_src, trg_mask, src_mask)\n",
        "\n",
        "        # trg = [batch size, trg len, hid dim]\n",
        "        # attention = [batch size, n heads, trg len, src len]\n",
        "\n",
        "        # итоговый тензор с предсказаниями наиболее вероятных слов\n",
        "        # в таргет последовательности\n",
        "        output = self.fc_out(trg)\n",
        "        # output = [batch size, trg len, output dim]\n",
        "\n",
        "        return output, attention"
      ],
      "execution_count": null,
      "outputs": []
    },
    {
      "cell_type": "markdown",
      "metadata": {
        "id": "tHznByyGeDAG"
      },
      "source": [
        "### Слой декодера\n",
        "\n",
        "Как упоминалось ранее, уровень декодера аналогичен уровню кодера, за исключением того, что теперь он имеет два уровня многонаправленного внимания `self_attention` и `encoder_attention`.\n",
        "\n",
        "Первый, как и в кодировщике, осуществляет внутреннее внимание, используя представление декодера, вплоть до запроса, ключа и значения. Затем следует дропаут, остаточное соединение и слой нормализации. Этот слой `self_attention` использует маску целевой последовательности `trg_mask`, чтобы предотвратить «обман» декодера, обращая внимание на токены, которые «опережают» тот, который он обрабатывает в настоящее время, поскольку он обрабатывает все токены в целевом предложении параллельно.\n",
        "\n",
        "Второй определяет как мы на самом деле подаём закодированное исходное предложение `enc_src` в наш декодер. В этом слое многонаправленного внимания запросы являются представлениями декодера, а ключи и значения — представлениями кодировщика. Здесь исходная маска `src_mask` используется для предотвращения того, чтобы слой многонаправленного внимания обращал внимание на токен `<pad>` в исходном предложении. Затем следуют уровни дропаута, остаточного соединения и уровень нормализации.\n",
        "\n",
        "\n",
        "Наконец, мы передаем результат через слой позиционно-зависимого прямого распространения и еще одна последовательность дропаута, остаточного соединения и уровень нормализации.\n",
        "\n",
        "Слой декодера не вводит никаких новых концепций, просто использует тот же набор слоев, что и кодировщик, но немного по-другому."
      ]
    },
    {
      "cell_type": "code",
      "metadata": {
        "id": "wjjqtbuEeDAG"
      },
      "source": [
        "class DecoderLayer(nn.Module):\n",
        "    def __init__(self,\n",
        "                 hid_dim, # размерность скрытых слоев внутри каждого блока декодера\n",
        "                 n_heads, # количество голов\n",
        "                 pf_dim, # внутренняя размерность между слоями Feed Forward\n",
        "                 dropout, # доля нейронов, которые будут игнорироваться\n",
        "                 device):\n",
        "        super().__init__()\n",
        "\n",
        "        # слой нормализации выхода после Self Attention\n",
        "        self.self_attn_layer_norm = nn.LayerNorm(hid_dim)\n",
        "        # слой нормализации выхода после Encoder Decoder Attention\n",
        "        self.enc_attn_layer_norm = nn.LayerNorm(hid_dim)\n",
        "        # слой нормализации выхода после Feed Forward\n",
        "        self.ff_layer_norm = nn.LayerNorm(hid_dim)\n",
        "        # слой Self Attention\n",
        "        self.self_attention = MultiHeadAttentionLayer(hid_dim, n_heads, dropout, device)\n",
        "        # слой Encoder Decoder Attention\n",
        "        self.encoder_attention = MultiHeadAttentionLayer(hid_dim, n_heads, dropout, device)\n",
        "        # слой Feed Forward\n",
        "        self.positionwise_feedforward = PositionwiseFeedforwardLayer(hid_dim,\n",
        "                                                                     pf_dim,\n",
        "                                                                     dropout)\n",
        "        # слой Dropout\n",
        "        self.dropout = nn.Dropout(dropout)\n",
        "\n",
        "    def forward(self, trg, enc_src, trg_mask, src_mask):\n",
        "\n",
        "        # trg = [batch size, trg len, hid dim]\n",
        "        # enc_src = [batch size, src len, hid dim]\n",
        "        # trg_mask = [batch size, 1, trg len, trg len]\n",
        "        # src_mask = [batch size, 1, 1, src len]\n",
        "\n",
        "        # Self Attention\n",
        "        # эмбеддинги и маска подаются на вход в слой Self Attention\n",
        "        # query = trg, key = trg, value = trg, mask = trg_mask\n",
        "        _trg, _ = self.self_attention(trg, trg, trg, trg_mask)\n",
        "\n",
        "        # Add & Norm\n",
        "        # выход Self Attention суммируется с исходным эмбеддингом\n",
        "        # (residual connection), затем проходит через слой нормализации\n",
        "        trg = self.self_attn_layer_norm(trg + self.dropout(_trg))\n",
        "        # trg = [batch size, trg len, hid dim]\n",
        "\n",
        "        # Encoder Decoder Attention\n",
        "        # эмбеддинги и маска подаются на вход в слой Encoder Decoder Attention\n",
        "        # query = trg, key = enc_src, value = enc_src, mask = src_mask\n",
        "        _trg, attention = self.encoder_attention(trg, enc_src, enc_src, src_mask)\n",
        "\n",
        "        # Add & Norm\n",
        "        # выход Encoder Decoder Attention суммируется с выходом Self Attention\n",
        "        # (residual connection), затем проходит через слой нормализации\n",
        "        trg = self.enc_attn_layer_norm(trg + self.dropout(_trg))\n",
        "        # trg = [batch size, trg len, hid dim]\n",
        "\n",
        "        # Feed Forward\n",
        "        # выход после Add & Norm подается в слой Feed Forward\n",
        "        _trg = self.positionwise_feedforward(trg)\n",
        "        # _trg = [batch size, src len, hid dim]\n",
        "\n",
        "        # Add & Norm\n",
        "        # финальный слой Add & Norm с residual connection, где складываются\n",
        "        # тензоры до и после Feed Forward\n",
        "        trg = self.ff_layer_norm(trg + self.dropout(_trg))\n",
        "        # trg = [batch size, trg len, hid dim]\n",
        "        # attention = [batch size, n heads, trg len, src len]\n",
        "\n",
        "        return trg, attention"
      ],
      "execution_count": null,
      "outputs": []
    },
    {
      "cell_type": "markdown",
      "metadata": {
        "id": "d9SeKoymeDAG"
      },
      "source": [
        "### Seq2Seq\n",
        "\n",
        "Наконец, у нас есть модуль `Seq2Seq`, который инкапсулирует кодировщик и декодер, а также управляет созданием масок.\n",
        "\n",
        "Исходная маска создается путем проверки того, что исходная последовательность не равна токену `<pad>`. Это 1, когда токен не является токеном `<pad>`, и 0, когда он является этим токеном. Затем он \"разжимается\", чтобы его можно было правильно транслировать при наложении маски на `energy`, которая имеет форму **_[batch size, n heads, seq len, seq len]_**.\n",
        "\n",
        "Целевая маска немного сложнее. Сначала мы создаем маску для токенов `<pad>`, как мы это делали для исходной маски. Далее, мы создаем «последующую» маску, `trg_sub_mask`, используя `torch.tril`. Таким образом создаётся диагональная матрица, в которой элементы над диагональю будут равны нулю, а элементы под диагональю будут установлены на любой входной тензор. В этом случае входным тензором будет тензор, заполненный единицами. Это означает, что наша `trg_sub_mask` будет выглядеть примерно так (для цели с 5 токенами):\n",
        "\n",
        "$$\\begin{matrix}\n",
        "1 & 0 & 0 & 0 & 0\\\\\n",
        "1 & 1 & 0 & 0 & 0\\\\\n",
        "1 & 1 & 1 & 0 & 0\\\\\n",
        "1 & 1 & 1 & 1 & 0\\\\\n",
        "1 & 1 & 1 & 1 & 1\\\\\n",
        "\\end{matrix}$$\n",
        "\n",
        "Это показывает, на что может смотреть каждый целевой токен (строка) (столбец). Первый целевой токен имеет маску **_[1, 0, 0, 0, 0]_**, что означает, что он может смотреть только на первый целевой токен. Второй целевой токен имеет маску **_[1, 1, 0, 0, 0]_**, что означает, что он может просматривать как первый, так и второй целевые токены.\n",
        "\n",
        "Затем «последующая» маска логически дополняется маской заполнения, которая объединяет две маски, гарантируя, что ни последующие токены, ни маркеры заполнения не могут быть обработаны. Например, если бы последние два токена были токенами `<pad>`, маска выглядела бы так:\n",
        "\n",
        "$$\\begin{matrix}\n",
        "1 & 0 & 0 & 0 & 0\\\\\n",
        "1 & 1 & 0 & 0 & 0\\\\\n",
        "1 & 1 & 1 & 0 & 0\\\\\n",
        "1 & 1 & 1 & 0 & 0\\\\\n",
        "1 & 1 & 1 & 0 & 0\\\\\n",
        "\\end{matrix}$$\n",
        "\n",
        "После того, как маски созданы, они используются с кодировщиком и декодером вместе с исходным и целевым предложениями, чтобы получить наше предсказанное целевое предложение, «output», вместе с вниманием декодера к исходной последовательности."
      ]
    },
    {
      "cell_type": "code",
      "metadata": {
        "id": "eDgCYHk6eDAH"
      },
      "source": [
        "class Seq2Seq(nn.Module):\n",
        "    def __init__(self,\n",
        "                 encoder,\n",
        "                 decoder,\n",
        "                 src_pad_idx,\n",
        "                 trg_pad_idx,\n",
        "                 device):\n",
        "        super().__init__()\n",
        "\n",
        "        self.encoder = encoder # энкодер\n",
        "        self.decoder = decoder # декодер\n",
        "        self.src_pad_idx = src_pad_idx # индекс <pad> в source словаре\n",
        "        self.trg_pad_idx = trg_pad_idx # индекс <pad> в target словаре\n",
        "        self.device = device\n",
        "\n",
        "    def make_src_mask(self, src):\n",
        "        \"\"\"\n",
        "        Функция создает маску для исходной src последовательности. Позиции в каждой\n",
        "        последовательности проверяются на неравенство индексу токена <pad>. В итоге\n",
        "        получается маска вида:\n",
        "        [[ True,  True,  True,  ..., False, False, False],\n",
        "        ...,\n",
        "        [ True,  True,  True,  ..., False, False, False]]\n",
        "\n",
        "        Затем меняется размерность маски, чтобы ее можно было наложить на energy.\n",
        "        \"\"\"\n",
        "\n",
        "        # src = [batch size, src len]\n",
        "        src_mask = (src != self.src_pad_idx).unsqueeze(1).unsqueeze(2)\n",
        "        # src_mask = [batch size, 1, 1, src len]\n",
        "\n",
        "        return src_mask\n",
        "\n",
        "    def make_trg_mask(self, trg):\n",
        "        \"\"\"\n",
        "        Функция создает маску trg_pad_mask для исходной trg последовательности. Позиции в каждой\n",
        "        последовательности проверяются на неравенство индексу токена <pad>.\n",
        "\n",
        "        Затем создается диагональная маска trg_sub_mask вида\n",
        "        [[ True, False, False, ..., False],\n",
        "        [ True, True, False, ..., False],\n",
        "        [ True, True, True, ..., False],\n",
        "        ...,\n",
        "        [True, True, True, ..., True]]\n",
        "\n",
        "        Создается trg_mask, которая объединяет trg_pad_mask и trg_sub_mask.\n",
        "        trg_mask исключает обработку <pad> и \"заглядывание\" в будущее.\n",
        "        \"\"\"\n",
        "\n",
        "        # trg = [batch size, trg len]\n",
        "        trg_pad_mask = (trg != self.trg_pad_idx).unsqueeze(1).unsqueeze(2)\n",
        "        # trg_pad_mask = [batch size, 1, 1, trg len]\n",
        "\n",
        "        trg_len = trg.shape[1]\n",
        "\n",
        "        trg_sub_mask = torch.tril(torch.ones((trg_len, trg_len), device = self.device)).bool()\n",
        "        # trg_sub_mask = [trg len, trg len]\n",
        "\n",
        "        trg_mask = trg_pad_mask & trg_sub_mask\n",
        "        # trg_mask = [batch size, 1, trg len, trg len]\n",
        "\n",
        "        return trg_mask\n",
        "\n",
        "    def forward(self, src, trg):\n",
        "\n",
        "        # src = [batch size, src len]\n",
        "        # trg = [batch size, trg len]\n",
        "\n",
        "        # создаем маски для src и trg последовательностей\n",
        "        src_mask = self.make_src_mask(src)\n",
        "        trg_mask = self.make_trg_mask(trg)\n",
        "        # src_mask = [batch size, 1, 1, src len]\n",
        "        # trg_mask = [batch size, 1, trg len, trg len]\n",
        "\n",
        "        # получаем из энкодера тензор Self Attention, который представляет\n",
        "        # преобразованые в слоях энкодера source последовательности\n",
        "        enc_src = self.encoder(src, src_mask)\n",
        "        # enc_src = [batch size, src len, hid dim]\n",
        "\n",
        "        # получаем из декодера тензоры: предсказанной таргетной последовательности\n",
        "        # и Encoder Decoder Attention\n",
        "        output, attention = self.decoder(trg, enc_src, trg_mask, src_mask)\n",
        "        # output = [batch size, trg len, output dim]\n",
        "        # attention = [batch size, n heads, trg len, src len]\n",
        "\n",
        "        return output, attention"
      ],
      "execution_count": null,
      "outputs": []
    },
    {
      "cell_type": "markdown",
      "metadata": {
        "id": "8cpVDTuOeDAH"
      },
      "source": [
        "## Обучение модели Seq2Seq\n",
        "\n",
        "Теперь мы можем определить наш кодировщик и декодеры. Эта модель значительно меньше, чем Трансформеры, которые используются сегодня в исследованиях, но её можно быстро запустить на одном графическом процессоре."
      ]
    },
    {
      "cell_type": "code",
      "metadata": {
        "id": "BzAM-1EeeDAI"
      },
      "source": [
        "INPUT_DIM = len(vocab_transform['de']) # размерность словаря source\n",
        "OUTPUT_DIM = len(vocab_transform['en']) # размерность словаря target\n",
        "HID_DIM = 256 # размерность слоев:  эмбеддинг, Self Attention и других\n",
        "ENC_LAYERS = 3 # количество слоев энкодеров\n",
        "DEC_LAYERS = 3 # количество слоев декодеров\n",
        "ENC_HEADS = 8 # количество голов MultiHead Attention в энкодере\n",
        "DEC_HEADS = 8 # количество голов MultiHead Attention в декодере\n",
        "ENC_PF_DIM = 512 # размерность слоев Feed Forward в энкодере\n",
        "DEC_PF_DIM = 512 # размерность слоев Feed Forward в декодере\n",
        "ENC_DROPOUT = 0.1 # доля Dropout в энкодере\n",
        "DEC_DROPOUT = 0.1 # доля Dropout в декодере\n",
        "\n",
        "enc = Encoder(INPUT_DIM,\n",
        "              HID_DIM,\n",
        "              ENC_LAYERS,\n",
        "              ENC_HEADS,\n",
        "              ENC_PF_DIM,\n",
        "              ENC_DROPOUT,\n",
        "              device)\n",
        "\n",
        "dec = Decoder(OUTPUT_DIM,\n",
        "              HID_DIM,\n",
        "              DEC_LAYERS,\n",
        "              DEC_HEADS,\n",
        "              DEC_PF_DIM,\n",
        "              DEC_DROPOUT,\n",
        "              device)"
      ],
      "execution_count": null,
      "outputs": []
    },
    {
      "cell_type": "code",
      "source": [
        "print(INPUT_DIM)\n",
        "print(OUTPUT_DIM)"
      ],
      "metadata": {
        "colab": {
          "base_uri": "https://localhost:8080/"
        },
        "id": "h2wgAf4bLFUr",
        "outputId": "962af51e-ce62-4b97-cc9c-2ca031ac6a32"
      },
      "execution_count": null,
      "outputs": [
        {
          "output_type": "stream",
          "name": "stdout",
          "text": [
            "19214\n",
            "10837\n"
          ]
        }
      ]
    },
    {
      "cell_type": "code",
      "metadata": {
        "id": "hC3RrufTeDAI"
      },
      "source": [
        "# индексы токена отступа <pad> в словарях source и target\n",
        "SRC_PAD_IDX = vocab_transform['de'].get_stoi()['<pad>']\n",
        "TRG_PAD_IDX = vocab_transform['en'].get_stoi()['<pad>']"
      ],
      "execution_count": null,
      "outputs": []
    },
    {
      "cell_type": "code",
      "source": [
        "print(SRC_PAD_IDX)\n",
        "print(TRG_PAD_IDX)"
      ],
      "metadata": {
        "colab": {
          "base_uri": "https://localhost:8080/"
        },
        "id": "RncqhBAcNqRQ",
        "outputId": "313d9ddd-7b69-49c2-c94b-37fd86c2cea8"
      },
      "execution_count": null,
      "outputs": [
        {
          "output_type": "stream",
          "name": "stdout",
          "text": [
            "1\n",
            "1\n"
          ]
        }
      ]
    },
    {
      "cell_type": "markdown",
      "metadata": {
        "id": "9-afo24OeDAI"
      },
      "source": [
        "Затем определяем и инкапсулирем модель sequence-to-sequence."
      ]
    },
    {
      "cell_type": "code",
      "source": [
        "model = Seq2Seq(\n",
        "    enc, # энкодер\n",
        "    dec, # декодер\n",
        "    SRC_PAD_IDX, # индекс <pad> в source словаре\n",
        "    TRG_PAD_IDX, # индекс <pad> в target словаре\n",
        "    device\n",
        "    ).to(device)"
      ],
      "metadata": {
        "id": "YZKbgZC47vHO"
      },
      "execution_count": null,
      "outputs": []
    },
    {
      "cell_type": "code",
      "source": [
        "model"
      ],
      "metadata": {
        "id": "2lY7UeP8YUhT",
        "colab": {
          "base_uri": "https://localhost:8080/"
        },
        "outputId": "9418264f-a426-45ae-d4e3-fc8f57e1e2bc"
      },
      "execution_count": null,
      "outputs": [
        {
          "output_type": "execute_result",
          "data": {
            "text/plain": [
              "Seq2Seq(\n",
              "  (encoder): Encoder(\n",
              "    (tok_embedding): Embedding(19214, 256)\n",
              "    (pos_embedding): Embedding(100, 256)\n",
              "    (layers): ModuleList(\n",
              "      (0-2): 3 x EncoderLayer(\n",
              "        (self_attn_layer_norm): LayerNorm((256,), eps=1e-05, elementwise_affine=True)\n",
              "        (ff_layer_norm): LayerNorm((256,), eps=1e-05, elementwise_affine=True)\n",
              "        (self_attention): MultiHeadAttentionLayer(\n",
              "          (fc_q): Linear(in_features=256, out_features=256, bias=True)\n",
              "          (fc_k): Linear(in_features=256, out_features=256, bias=True)\n",
              "          (fc_v): Linear(in_features=256, out_features=256, bias=True)\n",
              "          (fc_o): Linear(in_features=256, out_features=256, bias=True)\n",
              "          (dropout): Dropout(p=0.1, inplace=False)\n",
              "        )\n",
              "        (positionwise_feedforward): PositionwiseFeedforwardLayer(\n",
              "          (fc_1): Linear(in_features=256, out_features=512, bias=True)\n",
              "          (fc_2): Linear(in_features=512, out_features=256, bias=True)\n",
              "          (dropout): Dropout(p=0.1, inplace=False)\n",
              "        )\n",
              "        (dropout): Dropout(p=0.1, inplace=False)\n",
              "      )\n",
              "    )\n",
              "    (dropout): Dropout(p=0.1, inplace=False)\n",
              "  )\n",
              "  (decoder): Decoder(\n",
              "    (tok_embedding): Embedding(10837, 256)\n",
              "    (pos_embedding): Embedding(100, 256)\n",
              "    (layers): ModuleList(\n",
              "      (0-2): 3 x DecoderLayer(\n",
              "        (self_attn_layer_norm): LayerNorm((256,), eps=1e-05, elementwise_affine=True)\n",
              "        (enc_attn_layer_norm): LayerNorm((256,), eps=1e-05, elementwise_affine=True)\n",
              "        (ff_layer_norm): LayerNorm((256,), eps=1e-05, elementwise_affine=True)\n",
              "        (self_attention): MultiHeadAttentionLayer(\n",
              "          (fc_q): Linear(in_features=256, out_features=256, bias=True)\n",
              "          (fc_k): Linear(in_features=256, out_features=256, bias=True)\n",
              "          (fc_v): Linear(in_features=256, out_features=256, bias=True)\n",
              "          (fc_o): Linear(in_features=256, out_features=256, bias=True)\n",
              "          (dropout): Dropout(p=0.1, inplace=False)\n",
              "        )\n",
              "        (encoder_attention): MultiHeadAttentionLayer(\n",
              "          (fc_q): Linear(in_features=256, out_features=256, bias=True)\n",
              "          (fc_k): Linear(in_features=256, out_features=256, bias=True)\n",
              "          (fc_v): Linear(in_features=256, out_features=256, bias=True)\n",
              "          (fc_o): Linear(in_features=256, out_features=256, bias=True)\n",
              "          (dropout): Dropout(p=0.1, inplace=False)\n",
              "        )\n",
              "        (positionwise_feedforward): PositionwiseFeedforwardLayer(\n",
              "          (fc_1): Linear(in_features=256, out_features=512, bias=True)\n",
              "          (fc_2): Linear(in_features=512, out_features=256, bias=True)\n",
              "          (dropout): Dropout(p=0.1, inplace=False)\n",
              "        )\n",
              "        (dropout): Dropout(p=0.1, inplace=False)\n",
              "      )\n",
              "    )\n",
              "    (fc_out): Linear(in_features=256, out_features=10837, bias=True)\n",
              "    (dropout): Dropout(p=0.1, inplace=False)\n",
              "  )\n",
              ")"
            ]
          },
          "metadata": {},
          "execution_count": 30
        }
      ]
    },
    {
      "cell_type": "markdown",
      "metadata": {
        "id": "ln8xZrNAeDAJ"
      },
      "source": [
        "Мы можем проверить количество параметров, заметив, что оно значительно меньше, чем 37M для модели свёрточной последовательности."
      ]
    },
    {
      "cell_type": "code",
      "metadata": {
        "id": "xP1Wa6w7eDAJ",
        "colab": {
          "base_uri": "https://localhost:8080/"
        },
        "outputId": "b3c3060b-b167-4fbd-dc49-c2a7e5e7437a"
      },
      "source": [
        "def count_parameters(model):\n",
        "    return sum(p.numel() for p in model.parameters() if p.requires_grad)\n",
        "\n",
        "print(f'The model has {count_parameters(model):,} trainable parameters')"
      ],
      "execution_count": null,
      "outputs": [
        {
          "output_type": "stream",
          "name": "stdout",
          "text": [
            "The model has 14,483,029 trainable parameters\n"
          ]
        }
      ]
    },
    {
      "cell_type": "markdown",
      "metadata": {
        "id": "3NSy_pbbeDAJ"
      },
      "source": [
        "В статье не упоминается, какая схема инициализации веса использовалась, однако форма Xavier, кажется, распространена среди моделей Transformer, поэтому мы используем ее здесь."
      ]
    },
    {
      "cell_type": "code",
      "metadata": {
        "id": "ioaWWCnveDAJ"
      },
      "source": [
        "def initialize_weights(m):\n",
        "    if hasattr(m, 'weight') and m.weight.dim() > 1:\n",
        "        nn.init.xavier_uniform_(m.weight.data)"
      ],
      "execution_count": null,
      "outputs": []
    },
    {
      "cell_type": "code",
      "metadata": {
        "id": "qQ2j_0oGeDAK"
      },
      "source": [
        "model.apply(initialize_weights);"
      ],
      "execution_count": null,
      "outputs": []
    },
    {
      "cell_type": "markdown",
      "metadata": {
        "id": "TiStw6bneDAK"
      },
      "source": [
        "Оптимизатор, использованный в исходной статье Transformer, использует Adam со скоростью обучения, которая включает периоды «ускорения» и «торможения». BERT и другие модели Transformer используют Adam с фиксированной скоростью обучения, поэтому мы реализуем это. Проверьте [эту](http://nlp.seas.harvard.edu/2018/04/03/attention.html#optimizer) ссылку для получения более подробной информации о графике скорости обучения оригинального Transformer.\n",
        "\n",
        "Обратите внимание, что скорость обучения должна быть ниже, чем по умолчанию, используемой Адамом, иначе обучение будет нестабильным."
      ]
    },
    {
      "cell_type": "code",
      "metadata": {
        "id": "1UYMA88_eDAK"
      },
      "source": [
        "LEARNING_RATE = 0.0005\n",
        "\n",
        "optimizer = torch.optim.Adam(model.parameters(), lr = LEARNING_RATE)"
      ],
      "execution_count": null,
      "outputs": []
    },
    {
      "cell_type": "markdown",
      "metadata": {
        "id": "Fhl900ENeDAK"
      },
      "source": [
        "Next, we define our loss function, making sure to ignore losses calculated over `<pad>` tokens."
      ]
    },
    {
      "cell_type": "code",
      "metadata": {
        "id": "UICqTSymeDAL"
      },
      "source": [
        "criterion = nn.CrossEntropyLoss(ignore_index = TRG_PAD_IDX)"
      ],
      "execution_count": null,
      "outputs": []
    },
    {
      "cell_type": "markdown",
      "metadata": {
        "id": "iGTfDmsceDAL"
      },
      "source": [
        "Затем мы определим наш цикл обучения. Это то же самое, что использовалось в предыдущей части.\n",
        "\n",
        "Поскольку мы хотим, чтобы наша модель предсказывала токен `<eos>`, но не выводила его в качестве выходных данных модели, мы просто отрезаем токен `<eos>` в конце последовательности. Таким образом:\n",
        "\n",
        "$$\\begin{align*}\n",
        "\\text{trg} &= [sos, x_1, x_2, x_3, eos]\\\\\n",
        "\\text{trg[:-1]} &= [sos, x_1, x_2, x_3]\n",
        "\\end{align*}$$\n",
        "\n",
        "$x_i$ обозначает фактический элемент целевой последовательности. Затем мы вводим это в модель, чтобы получить предсказанную последовательность, которая, мы надеемся, должна предсказывать токен `<eos>`:\n",
        "\n",
        "$$\\begin{align*}\n",
        "\\text{output} &= [y_1, y_2, y_3, eos]\n",
        "\\end{align*}$$\n",
        "\n",
        "$y_i$ обозначает предсказанный элемент целевой последовательности. Затем мы вычисляем потери, используя исходный целевой тензор `trg` с токеном` <sos> `, отрезанным спереди, оставляя токен` <eos> `:\n",
        "\n",
        "$$\\begin{align*}\n",
        "\\text{output} &= [y_1, y_2, y_3, eos]\\\\\n",
        "\\text{trg[1:]} &= [x_1, x_2, x_3, eos]\n",
        "\\end{align*}$$\n",
        "\n",
        "Рассчитываем потери и обновляем параметры, как это обычно делается."
      ]
    },
    {
      "cell_type": "markdown",
      "metadata": {
        "collapsed": false,
        "id": "ccRFgYeGNrlo"
      },
      "source": [
        "Для отображения прогресса в Google Colab устанавливаем tensorboard"
      ]
    },
    {
      "cell_type": "code",
      "metadata": {
        "pycharm": {
          "name": "#%%\n"
        },
        "id": "LkzpXXiXNrlo",
        "outputId": "42a3ec50-1267-4ee5-f295-03f1870cfea5",
        "colab": {
          "base_uri": "https://localhost:8080/"
        }
      },
      "source": [
        "!pip install tensorboardX"
      ],
      "execution_count": null,
      "outputs": [
        {
          "output_type": "stream",
          "name": "stdout",
          "text": [
            "Collecting tensorboardX\n",
            "  Downloading tensorboardX-2.6.2.2-py2.py3-none-any.whl (101 kB)\n",
            "\u001b[?25l     \u001b[90m━━━━━━━━━━━━━━━━━━━━━━━━━━━━━━━━━━━━━━━━\u001b[0m \u001b[32m0.0/101.7 kB\u001b[0m \u001b[31m?\u001b[0m eta \u001b[36m-:--:--\u001b[0m\r\u001b[2K     \u001b[91m━━━━━━━━━━━━━━━━━━━━━━━━━━━━━━━━━━━━\u001b[0m\u001b[90m╺\u001b[0m\u001b[90m━━━\u001b[0m \u001b[32m92.2/101.7 kB\u001b[0m \u001b[31m3.1 MB/s\u001b[0m eta \u001b[36m0:00:01\u001b[0m\r\u001b[2K     \u001b[90m━━━━━━━━━━━━━━━━━━━━━━━━━━━━━━━━━━━━━━━\u001b[0m \u001b[32m101.7/101.7 kB\u001b[0m \u001b[31m2.6 MB/s\u001b[0m eta \u001b[36m0:00:00\u001b[0m\n",
            "\u001b[?25hRequirement already satisfied: numpy in /usr/local/lib/python3.10/dist-packages (from tensorboardX) (1.23.5)\n",
            "Requirement already satisfied: packaging in /usr/local/lib/python3.10/dist-packages (from tensorboardX) (23.1)\n",
            "Requirement already satisfied: protobuf>=3.20 in /usr/local/lib/python3.10/dist-packages (from tensorboardX) (3.20.3)\n",
            "Installing collected packages: tensorboardX\n",
            "Successfully installed tensorboardX-2.6.2.2\n"
          ]
        }
      ]
    },
    {
      "cell_type": "code",
      "source": [
        "from tensorboardX import SummaryWriter\n",
        "import datetime\n",
        "\n",
        "#  Load the TensorBoard notebook extension\n",
        "%load_ext tensorboard"
      ],
      "metadata": {
        "id": "3hCCfsP5tBhF"
      },
      "execution_count": null,
      "outputs": []
    },
    {
      "cell_type": "code",
      "metadata": {
        "pycharm": {
          "name": "#%%\n"
        },
        "id": "DsZOmwRRNrlp"
      },
      "source": [
        "def train(model, iterator, optimizer, criterion, clip):\n",
        "\n",
        "    model.train()\n",
        "    epoch_loss = 0\n",
        "\n",
        "    for i, (src, trg)  in enumerate(iterator):\n",
        "\n",
        "        src = src.to(device)\n",
        "        trg = trg.to(device)\n",
        "        # trg = [batch size, trg len]\n",
        "\n",
        "        optimizer.zero_grad()\n",
        "\n",
        "        # trg[:,:-1] убирает <eos> из таргет последовательности.\n",
        "        output, _ = model(src, trg[:,:-1])\n",
        "        # output = [batch size, trg len - 1, output dim]\n",
        "\n",
        "        output_dim = output.shape[-1]\n",
        "\n",
        "        # убирает <sos>\n",
        "        output = output.contiguous().view(-1, output_dim)\n",
        "        # output = [batch size * trg len - 1, output dim]\n",
        "\n",
        "        # убирает <sos>\n",
        "        trg = trg[:,1:].contiguous().view(-1)\n",
        "        # trg = [batch size * trg len - 1]\n",
        "\n",
        "        loss = criterion(output, trg)\n",
        "        loss.backward()\n",
        "\n",
        "        # обрезаем значения градиентов до нормы равной значению clip\n",
        "        torch.nn.utils.clip_grad_norm_(model.parameters(), clip)\n",
        "\n",
        "        optimizer.step()\n",
        "\n",
        "        epoch_loss += loss.item()\n",
        "\n",
        "    return epoch_loss / len(list(iterator))"
      ],
      "execution_count": null,
      "outputs": []
    },
    {
      "cell_type": "markdown",
      "metadata": {
        "id": "4cW7o40GeDAM"
      },
      "source": [
        "Цикл оценки такой же, как цикл обучения, только без вычислений градиента и обновления параметров."
      ]
    },
    {
      "cell_type": "code",
      "metadata": {
        "id": "0GqzApxLeDAM"
      },
      "source": [
        "def evaluate(model, iterator, criterion):\n",
        "\n",
        "    model.eval()\n",
        "    epoch_loss = 0\n",
        "\n",
        "    with torch.no_grad():\n",
        "        for i, (src, trg) in enumerate(iterator):\n",
        "\n",
        "            src = src.to(device)\n",
        "            trg = trg.to(device)\n",
        "            # trg = [batch size, trg len]\n",
        "\n",
        "            # trg[:,:-1] убирает <eos> из таргет последовательности.\n",
        "            output, _ = model(src, trg[:,:-1])\n",
        "            # output = [batch size, trg len - 1, output dim]\n",
        "\n",
        "            output_dim = output.shape[-1]\n",
        "\n",
        "            # убирает <sos>\n",
        "            output = output.contiguous().view(-1, output_dim)\n",
        "            # output = [batch size * trg len - 1, output dim]\n",
        "\n",
        "            # убирает <sos>\n",
        "            trg = trg[:,1:].contiguous().view(-1)\n",
        "            # trg = [batch size * trg len - 1]\n",
        "\n",
        "            loss = criterion(output, trg)\n",
        "\n",
        "            epoch_loss += loss.item()\n",
        "\n",
        "    return epoch_loss / len(list(iterator))"
      ],
      "execution_count": null,
      "outputs": []
    },
    {
      "cell_type": "markdown",
      "metadata": {
        "id": "Cscc-e_1eDAN"
      },
      "source": [
        "Затем мы определяем небольшую функцию, которую можем использовать, чтобы сообщить нам, сколько времени занимает эпоха."
      ]
    },
    {
      "cell_type": "code",
      "metadata": {
        "id": "DUyeAAqbeDAN"
      },
      "source": [
        "def epoch_time(start_time, end_time):\n",
        "    elapsed_time = end_time - start_time\n",
        "    elapsed_mins = int(elapsed_time / 60)\n",
        "    elapsed_secs = int(elapsed_time - (elapsed_mins * 60))\n",
        "    return elapsed_mins, elapsed_secs"
      ],
      "execution_count": null,
      "outputs": []
    },
    {
      "cell_type": "markdown",
      "metadata": {
        "collapsed": false,
        "id": "gb5UqXIZNrlr"
      },
      "source": [
        "Запускаем tensorboard. Отображение данных начнётся после запуска обучения. Обновить данные можно кликнув по иконке справа вверху"
      ]
    },
    {
      "cell_type": "code",
      "metadata": {
        "pycharm": {
          "name": "#%%\n"
        },
        "id": "BjpBlsspNrlr"
      },
      "source": [
        "# Clear any logs from previous runs\n",
        "!rm -rf ./logs/\n",
        "%tensorboard --logdir runs"
      ],
      "execution_count": null,
      "outputs": []
    },
    {
      "cell_type": "markdown",
      "metadata": {
        "id": "Qbns68YAeDAN"
      },
      "source": [
        "Наконец, мы обучаем нашу фактическую модель. Эта модель почти в 3 раза быстрее, чем модель сверточной последовательности, а также обеспечивает меньшую сложность проверки!"
      ]
    },
    {
      "cell_type": "code",
      "source": [
        "from torch.nn.utils.rnn import pad_sequence\n",
        "\n",
        "# helper function to club together sequential operations\n",
        "def sequential_transforms(*transforms):\n",
        "    def func(txt_input):\n",
        "        for transform in transforms:\n",
        "            txt_input = transform(txt_input)\n",
        "        return txt_input\n",
        "    return func\n",
        "\n",
        "# function to add BOS/EOS and create tensor for input sequence indices\n",
        "def tensor_transform(token_ids: List[int]):\n",
        "    return torch.cat((torch.tensor([BOS_IDX]),\n",
        "                      torch.tensor(token_ids),\n",
        "                      torch.tensor([EOS_IDX])))\n",
        "\n",
        "# ``src`` and ``tgt`` language text transforms to convert raw strings into tensors indices\n",
        "text_transform = {}\n",
        "for ln in [SRC_LANGUAGE, TGT_LANGUAGE]:\n",
        "    text_transform[ln] = sequential_transforms(token_transform[ln], #Tokenization\n",
        "                                               vocab_transform[ln], #Numericalization\n",
        "                                               tensor_transform) # Add BOS/EOS and create tensor\n",
        "\n",
        "\n",
        "# function to collate data samples into batch tensors\n",
        "def collate_fn(batch):\n",
        "    src_batch, tgt_batch = [], []\n",
        "    for src_sample, tgt_sample in batch:\n",
        "        src_batch.append(text_transform[SRC_LANGUAGE](src_sample.rstrip(\"\\n\")))\n",
        "        tgt_batch.append(text_transform[TGT_LANGUAGE](tgt_sample.rstrip(\"\\n\")))\n",
        "\n",
        "    # permute(1, 0) меняет местами batch size и seq_len в итоге [batch_size, seq_len]\n",
        "    src_batch = pad_sequence(src_batch, padding_value=PAD_IDX).permute(1, 0)\n",
        "    tgt_batch = pad_sequence(tgt_batch, padding_value=PAD_IDX).permute(1, 0)\n",
        "    return src_batch, tgt_batch"
      ],
      "metadata": {
        "id": "yFvp-MLfP7tO"
      },
      "execution_count": null,
      "outputs": []
    },
    {
      "cell_type": "code",
      "source": [
        "BATCH_SIZE = 128\n",
        "\n",
        "train_iter, val_iter = Multi30k(split=('train', 'valid'), language_pair=(SRC_LANGUAGE, TGT_LANGUAGE))\n",
        "train_dataloader = DataLoader(train_iter, batch_size=BATCH_SIZE, collate_fn=collate_fn)\n",
        "val_dataloader = DataLoader(train_iter, batch_size=BATCH_SIZE, collate_fn=collate_fn)"
      ],
      "metadata": {
        "id": "YT5Oo5DpWFAz"
      },
      "execution_count": null,
      "outputs": []
    },
    {
      "cell_type": "code",
      "source": [
        "N_EPOCHS = 20\n",
        "CLIP = 1\n",
        "\n",
        "best_valid_loss = float('inf')\n",
        "writer = SummaryWriter()\n",
        "\n",
        "for epoch in range(N_EPOCHS):\n",
        "\n",
        "    start_time = time.time()\n",
        "\n",
        "    train_loss = train(model, # модель\n",
        "                       train_dataloader, # загрузчик тренировочных данных\n",
        "                       optimizer, # метод оптимизации весов модели\n",
        "                       criterion, # Loss функция\n",
        "                       CLIP # максимальное значение нормы градиентов\n",
        "                       )\n",
        "\n",
        "    valid_loss = evaluate(model, # модель\n",
        "                          val_dataloader, # загрузчик валидационных данных\n",
        "                          criterion # Loss функция\n",
        "                          )\n",
        "\n",
        "    end_time = time.time()\n",
        "\n",
        "    epoch_mins, epoch_secs = epoch_time(start_time, end_time)\n",
        "\n",
        "    if valid_loss < best_valid_loss:\n",
        "        best_valid_loss = valid_loss\n",
        "        torch.save(model.state_dict(), 'seq2seq_translate_transformer_model.pt')\n",
        "\n",
        "    print(f'Epoch: {epoch+1:02} | Time: {epoch_mins}m {epoch_secs}s')\n",
        "    print(f'\\tTrain Loss: {train_loss:.3f} | Train PPL: {math.exp(train_loss):7.3f}')\n",
        "    print(f'\\t Val. Loss: {valid_loss:.3f} |  Val. PPL: {math.exp(valid_loss):7.3f}')\n",
        "    writer.add_scalar(\"Train Loss\", train_loss, epoch+1)\n",
        "    writer.add_scalar(\"Train PPL\", math.exp(train_loss), epoch+1)\n",
        "    writer.add_scalar(\"Val. Loss\", valid_loss, epoch+1)\n",
        "    writer.add_scalar(\"Val. PPL\", math.exp(valid_loss), epoch+1)\n",
        "\n",
        "writer.close()"
      ],
      "metadata": {
        "colab": {
          "base_uri": "https://localhost:8080/"
        },
        "id": "qyoAcB9rBfzs",
        "outputId": "3058c460-0cd7-4ef9-bdc0-2248c15f3b53"
      },
      "execution_count": null,
      "outputs": [
        {
          "output_type": "stream",
          "name": "stderr",
          "text": [
            "/usr/local/lib/python3.10/dist-packages/torch/utils/data/datapipes/iter/combining.py:297: UserWarning: Some child DataPipes are not exhausted when __iter__ is called. We are resetting the buffer and each child DataPipe will read from the start again.\n",
            "  warnings.warn(\"Some child DataPipes are not exhausted when __iter__ is called. We are resetting \"\n"
          ]
        },
        {
          "output_type": "stream",
          "name": "stdout",
          "text": [
            "Epoch: 01 | Time: 0m 44s\n",
            "\tTrain Loss: 4.470 | Train PPL:  87.389\n",
            "\t Val. Loss: 3.210 |  Val. PPL:  24.779\n",
            "Epoch: 02 | Time: 0m 45s\n",
            "\tTrain Loss: 2.883 | Train PPL:  17.873\n",
            "\t Val. Loss: 2.316 |  Val. PPL:  10.137\n",
            "Epoch: 03 | Time: 0m 40s\n",
            "\tTrain Loss: 2.280 | Train PPL:   9.781\n",
            "\t Val. Loss: 1.841 |  Val. PPL:   6.305\n",
            "Epoch: 04 | Time: 0m 41s\n",
            "\tTrain Loss: 1.897 | Train PPL:   6.665\n",
            "\t Val. Loss: 1.507 |  Val. PPL:   4.512\n",
            "Epoch: 05 | Time: 0m 41s\n",
            "\tTrain Loss: 1.620 | Train PPL:   5.055\n",
            "\t Val. Loss: 1.256 |  Val. PPL:   3.511\n",
            "Epoch: 06 | Time: 0m 40s\n",
            "\tTrain Loss: 1.403 | Train PPL:   4.067\n",
            "\t Val. Loss: 1.074 |  Val. PPL:   2.926\n",
            "Epoch: 07 | Time: 0m 40s\n",
            "\tTrain Loss: 1.220 | Train PPL:   3.387\n",
            "\t Val. Loss: 0.911 |  Val. PPL:   2.488\n",
            "Epoch: 08 | Time: 0m 46s\n",
            "\tTrain Loss: 1.067 | Train PPL:   2.906\n",
            "\t Val. Loss: 0.790 |  Val. PPL:   2.204\n",
            "Epoch: 09 | Time: 0m 40s\n",
            "\tTrain Loss: 0.936 | Train PPL:   2.550\n",
            "\t Val. Loss: 0.656 |  Val. PPL:   1.927\n",
            "Epoch: 10 | Time: 0m 42s\n",
            "\tTrain Loss: 0.823 | Train PPL:   2.278\n",
            "\t Val. Loss: 0.574 |  Val. PPL:   1.775\n",
            "Epoch: 11 | Time: 0m 41s\n",
            "\tTrain Loss: 0.724 | Train PPL:   2.062\n",
            "\t Val. Loss: 0.476 |  Val. PPL:   1.610\n",
            "Epoch: 12 | Time: 0m 41s\n",
            "\tTrain Loss: 0.641 | Train PPL:   1.899\n",
            "\t Val. Loss: 0.416 |  Val. PPL:   1.517\n",
            "Epoch: 13 | Time: 0m 40s\n",
            "\tTrain Loss: 0.574 | Train PPL:   1.776\n",
            "\t Val. Loss: 0.383 |  Val. PPL:   1.466\n",
            "Epoch: 14 | Time: 0m 40s\n",
            "\tTrain Loss: 0.517 | Train PPL:   1.676\n",
            "\t Val. Loss: 0.324 |  Val. PPL:   1.383\n",
            "Epoch: 15 | Time: 0m 40s\n",
            "\tTrain Loss: 0.473 | Train PPL:   1.604\n",
            "\t Val. Loss: 0.288 |  Val. PPL:   1.334\n",
            "Epoch: 16 | Time: 0m 40s\n",
            "\tTrain Loss: 0.436 | Train PPL:   1.547\n",
            "\t Val. Loss: 0.261 |  Val. PPL:   1.298\n",
            "Epoch: 17 | Time: 0m 39s\n",
            "\tTrain Loss: 0.401 | Train PPL:   1.494\n",
            "\t Val. Loss: 0.230 |  Val. PPL:   1.259\n",
            "Epoch: 18 | Time: 0m 40s\n",
            "\tTrain Loss: 0.370 | Train PPL:   1.448\n",
            "\t Val. Loss: 0.211 |  Val. PPL:   1.235\n",
            "Epoch: 19 | Time: 0m 41s\n",
            "\tTrain Loss: 0.343 | Train PPL:   1.410\n",
            "\t Val. Loss: 0.190 |  Val. PPL:   1.209\n",
            "Epoch: 20 | Time: 0m 40s\n",
            "\tTrain Loss: 0.316 | Train PPL:   1.372\n",
            "\t Val. Loss: 0.173 |  Val. PPL:   1.189\n"
          ]
        }
      ]
    },
    {
      "cell_type": "markdown",
      "metadata": {
        "id": "FOkVvSSBeDAO"
      },
      "source": [
        "Мы загружаем наши «лучшие» параметры и добиваемся большей точности при тестировании, чем достигали все предыдущие модели."
      ]
    },
    {
      "cell_type": "code",
      "metadata": {
        "id": "_q4tv3UieDAO",
        "colab": {
          "base_uri": "https://localhost:8080/"
        },
        "outputId": "b0ec6810-c3d6-47be-cfe0-81bbb0c7d610"
      },
      "source": [
        "model.load_state_dict(torch.load('seq2seq_translate_transformer_model.pt', map_location=torch.device(device)))\n",
        "\n",
        "test_loss = evaluate(model, val_dataloader, criterion)\n",
        "\n",
        "print(f'| Test Loss: {test_loss:.3f} | Test PPL: {math.exp(test_loss):7.3f} |')"
      ],
      "execution_count": null,
      "outputs": [
        {
          "output_type": "stream",
          "name": "stderr",
          "text": [
            "/usr/local/lib/python3.10/dist-packages/torch/utils/data/datapipes/iter/combining.py:297: UserWarning: Some child DataPipes are not exhausted when __iter__ is called. We are resetting the buffer and each child DataPipe will read from the start again.\n",
            "  warnings.warn(\"Some child DataPipes are not exhausted when __iter__ is called. We are resetting \"\n"
          ]
        },
        {
          "output_type": "stream",
          "name": "stdout",
          "text": [
            "| Test Loss: 0.173 | Test PPL:   1.189 |\n"
          ]
        }
      ]
    },
    {
      "cell_type": "markdown",
      "metadata": {
        "id": "_sqZGLMheDAP"
      },
      "source": [
        "## Вывод\n",
        "\n",
        "Теперь мы можем переводить с помощьюв нашей модели используя функцию `translate_sentence`.\n",
        "\n",
        "Были предприняты следующие шаги:\n",
        "- токенизируем исходное предложение, если оно не было токенизировано (является строкой)\n",
        "- добавляем токены `<sos>` и `<eos>`\n",
        "- оцифровываем исходное предложение\n",
        "- преобразовываем его в тензор и добавляем размер батча\n",
        "- создаём маску исходного предложения\n",
        "- загружаем исходное предложение и маску в кодировщик\n",
        "- создаём список для хранения выходного предложения, инициализированного токеном `<sos>`\n",
        "- пока мы не достигли максимальной длины\n",
        "  - преобразовываем текущий прогноз выходного предложения в тензор с размерностью батча\n",
        "  - создаём маску целевого предложения\n",
        "  - поместим текущий выход, выход кодировщика и обе маски в декодер\n",
        "  - получаем предсказание следующего выходного токена от декодера вместе с вниманием\n",
        "  - добавляем предсказание к предсказанию текущего выходного предложения\n",
        "  - прерываем, если предсказание было токеном `<eos>`\n",
        "- преобразовываем выходное предложение из индексов в токены\n",
        "- возвращаем выходное предложение (с удаленным токеном `<sos>`) и вниманием с последнего слоя"
      ]
    },
    {
      "cell_type": "code",
      "metadata": {
        "id": "9vWuCZZmeDAP"
      },
      "source": [
        "def translate_sentence(src,\n",
        "                       trg,\n",
        "                       model,\n",
        "                       device,\n",
        "                       max_len = 50\n",
        "                       ):\n",
        "\n",
        "    model.eval()\n",
        "\n",
        "    src = text_transform[SRC_LANGUAGE](src).view(1, -1)\n",
        "    src = src.to(device)\n",
        "\n",
        "    src_mask = model.make_src_mask(src)\n",
        "\n",
        "    with torch.no_grad():\n",
        "        enc_src = model.encoder(src, src_mask)\n",
        "\n",
        "    trg_indexes = [vocab_transform['en'].get_stoi()['<bos>']]\n",
        "\n",
        "\n",
        "    for i in range(max_len):\n",
        "        trg_tensor = torch.LongTensor(trg_indexes).unsqueeze(0).to(device)\n",
        "\n",
        "        trg_mask = model.make_trg_mask(trg_tensor)\n",
        "\n",
        "        with torch.no_grad():\n",
        "            output, attention = model.decoder(trg_tensor, enc_src, trg_mask, src_mask)\n",
        "\n",
        "        pred_token = output.argmax(2)[:,-1].item()\n",
        "\n",
        "        trg_indexes.append(pred_token)\n",
        "\n",
        "        if pred_token == vocab_transform['en'].get_stoi()['<eos>']:\n",
        "            break\n",
        "\n",
        "    trg_tokens = [vocab_transform['en'].get_itos()[i] for i in trg_indexes]\n",
        "\n",
        "    return trg_tokens[1:], attention"
      ],
      "execution_count": null,
      "outputs": []
    },
    {
      "cell_type": "markdown",
      "metadata": {
        "id": "W9rGNStpeDAP"
      },
      "source": [
        "Теперь мы определим функцию, которая отображает внимание к исходному предложению на каждом этапе декодирования. Поскольку у этой модели 8 направлений, мы можем наблюдать за вниманием для каждой из них."
      ]
    },
    {
      "cell_type": "code",
      "metadata": {
        "id": "bx-0QXdJeDAQ"
      },
      "source": [
        "def display_attention(sentence, translation, attention, n_heads = 8, n_rows = 4, n_cols = 2):\n",
        "\n",
        "    assert n_rows * n_cols == n_heads\n",
        "\n",
        "    fig = plt.figure(figsize=(15,25))\n",
        "\n",
        "    for i in range(n_heads):\n",
        "\n",
        "        ax = fig.add_subplot(n_rows, n_cols, i+1)\n",
        "\n",
        "        _attention = attention.squeeze(0)[i].cpu().detach().numpy()\n",
        "\n",
        "        cax = ax.matshow(_attention, cmap='bone')\n",
        "\n",
        "        ax.tick_params(labelsize=12)\n",
        "        ax.set_xticklabels(['']+['<sos>']+[t.lower() for t in sentence.split()]+['<eos>'],\n",
        "                           rotation=45)\n",
        "        ax.set_yticklabels(['']+translation)\n",
        "\n",
        "        ax.xaxis.set_major_locator(ticker.MultipleLocator(1))\n",
        "        ax.yaxis.set_major_locator(ticker.MultipleLocator(1))\n",
        "\n",
        "    plt.show()\n",
        "    plt.close()"
      ],
      "execution_count": null,
      "outputs": []
    },
    {
      "cell_type": "markdown",
      "metadata": {
        "id": "dz6l-qBqeDAQ"
      },
      "source": [
        "Сначала возьмем пример из обучающей выборки."
      ]
    },
    {
      "cell_type": "code",
      "source": [
        "example_idx = 5\n",
        "cnt = 0\n",
        "\n",
        "for iter in train_iter:\n",
        "  cnt += 1\n",
        "  if cnt == example_idx:\n",
        "    src = iter[0].replace(\".\", \" .\")\n",
        "    trg = iter[1].replace(\".\", \" .\")\n",
        "    break\n",
        "\n",
        "print(f'src = {src}')\n",
        "print(f'trg = {trg}')"
      ],
      "metadata": {
        "colab": {
          "base_uri": "https://localhost:8080/"
        },
        "id": "m3f1toWOFLXD",
        "outputId": "43a84ead-9b2c-4dbb-936e-ec23624454ac"
      },
      "execution_count": null,
      "outputs": [
        {
          "output_type": "stream",
          "name": "stdout",
          "text": [
            "src = Zwei Männer stehen am Herd und bereiten Essen zu .\n",
            "trg = Two men are at the stove preparing food .\n"
          ]
        }
      ]
    },
    {
      "cell_type": "markdown",
      "metadata": {
        "id": "DJ6Wy6GheDAQ"
      },
      "source": [
        "Наш перевод выглядит неплохо."
      ]
    },
    {
      "cell_type": "code",
      "metadata": {
        "id": "vWcm12oMeDAR",
        "colab": {
          "base_uri": "https://localhost:8080/"
        },
        "outputId": "cbb5c985-ed8a-4be9-950f-569e856bbfb3"
      },
      "source": [
        "translation, attention = translate_sentence(src, trg, model, device)\n",
        "\n",
        "print(f'predicted trg = {translation}')"
      ],
      "execution_count": null,
      "outputs": [
        {
          "output_type": "stream",
          "name": "stdout",
          "text": [
            "predicted trg = ['Two', 'men', 'are', 'at', 'the', 'stove', 'preparing', 'food', '.', '<eos>']\n"
          ]
        }
      ]
    },
    {
      "cell_type": "markdown",
      "metadata": {
        "id": "4R8PWHheeDAR"
      },
      "source": [
        "Мы можем видеть внимание каждого направления ниже. Конечно, все они разные, но трудно (возможно, невозможно) понять, на что отдельное направление научилось обращать внимание. Некоторые направления уделяют все внимание \"eine\" при переводе \"a\", некоторые совсем не сосредоточены, а другие слегка. Кажется, что все они следуют аналогичному шаблону «нисходящей лестницы», и внимание при выводе двух последних токенов равномерно распределяется между двумя последними токенами во входном предложении."
      ]
    },
    {
      "cell_type": "code",
      "metadata": {
        "id": "VG6hX0AYeDAR",
        "colab": {
          "base_uri": "https://localhost:8080/",
          "height": 1000
        },
        "outputId": "ee9f9211-1d00-4449-a159-760c7f33cd4c"
      },
      "source": [
        "display_attention(src, translation, attention)"
      ],
      "execution_count": null,
      "outputs": [
        {
          "output_type": "stream",
          "name": "stderr",
          "text": [
            "<ipython-input-45-9b090ef1b92c>:16: UserWarning: FixedFormatter should only be used together with FixedLocator\n",
            "  ax.set_xticklabels(['']+['<sos>']+[t.lower() for t in sentence.split()]+['<eos>'],\n",
            "<ipython-input-45-9b090ef1b92c>:18: UserWarning: FixedFormatter should only be used together with FixedLocator\n",
            "  ax.set_yticklabels(['']+translation)\n"
          ]
        },
        {
          "output_type": "display_data",
          "data": {
            "text/plain": [
              "<Figure size 1500x2500 with 8 Axes>"
            ],
            "image/png": "[encoded data removed]"
          },
          "metadata": {}
        }
      ]
    },
    {
      "cell_type": "markdown",
      "metadata": {
        "id": "0jgegHsmeDAR"
      },
      "source": [
        "Затем давайте возьмем пример, на котором модель не обучалась, из набора для проверки."
      ]
    },
    {
      "cell_type": "code",
      "metadata": {
        "id": "L4E772bseDAR",
        "colab": {
          "base_uri": "https://localhost:8080/"
        },
        "outputId": "f8ad6bcf-ba68-4dcb-94ce-47913186f248"
      },
      "source": [
        "example_idx = 2\n",
        "cnt = 0\n",
        "\n",
        "for iter in val_iter:\n",
        "  cnt += 1\n",
        "  if cnt == example_idx:\n",
        "    src = iter[0].replace(\".\", \" .\")\n",
        "    trg = iter[1].replace(\".\", \" .\")\n",
        "    break\n",
        "\n",
        "print(f'src = {src}')\n",
        "print(f'trg = {trg}')"
      ],
      "execution_count": null,
      "outputs": [
        {
          "output_type": "stream",
          "name": "stdout",
          "text": [
            "src = Ein Mann schläft in einem grünen Raum auf einem Sofa .\n",
            "trg = A man sleeping in a green room on a couch .\n"
          ]
        }
      ]
    },
    {
      "cell_type": "code",
      "metadata": {
        "id": "5lveTOoJeDAS",
        "colab": {
          "base_uri": "https://localhost:8080/"
        },
        "outputId": "ec36f9c2-09c6-4a89-ea5f-8f43b5c4478f"
      },
      "source": [
        "translation, attention = translate_sentence(src, trg, model, device)\n",
        "\n",
        "print(f'predicted trg = {translation}')"
      ],
      "execution_count": null,
      "outputs": [
        {
          "output_type": "stream",
          "name": "stdout",
          "text": [
            "predicted trg = ['A', 'man', 'sleeping', 'on', 'a', 'couch', 'in', 'a', 'green', 'room', '.', '<eos>']\n"
          ]
        }
      ]
    },
    {
      "cell_type": "markdown",
      "metadata": {
        "id": "VpjVZOX1eDAS"
      },
      "source": [
        "Опять же, некоторые направления внимания полностью обращают внимание на \"ein\", в то время как некоторые не обращают на него внимания. Опять же, при выводе точки и предложения <eos> в прогнозируемом целевом предложении кажется, что большинство направления внимания распределяют свое внимание как на точку, так и на токены `<eos>` в исходном предложении, хотя некоторые, похоже, обращают внимание на токены от начала предложения."
      ]
    },
    {
      "cell_type": "code",
      "metadata": {
        "id": "9p6MMbgweDAS",
        "colab": {
          "base_uri": "https://localhost:8080/",
          "height": 1000
        },
        "outputId": "cc23f881-eaf9-46bd-ae52-e83b67ccbbc5"
      },
      "source": [
        "display_attention(src, translation, attention)"
      ],
      "execution_count": null,
      "outputs": [
        {
          "output_type": "stream",
          "name": "stderr",
          "text": [
            "<ipython-input-45-9b090ef1b92c>:16: UserWarning: FixedFormatter should only be used together with FixedLocator\n",
            "  ax.set_xticklabels(['']+['<sos>']+[t.lower() for t in sentence.split()]+['<eos>'],\n",
            "<ipython-input-45-9b090ef1b92c>:18: UserWarning: FixedFormatter should only be used together with FixedLocator\n",
            "  ax.set_yticklabels(['']+translation)\n"
          ]
        },
        {
          "output_type": "display_data",
          "data": {
            "text/plain": [
              "<Figure size 1500x2500 with 8 Axes>"
            ],
            "image/png": "[encoded data removed]"
          },
          "metadata": {}
        }
      ]
    },
    {
      "cell_type": "markdown",
      "metadata": {
        "id": "MK6Gy8w8eDAU"
      },
      "source": [
        "## BLEU\n",
        "\n",
        "Наконец, мы рассчитываем оценку BLEU для трансформера."
      ]
    },
    {
      "cell_type": "code",
      "metadata": {
        "id": "IqDQyipreDAU"
      },
      "source": [
        "from torchtext.data.metrics import bleu_score\n",
        "\n",
        "def calculate_bleu(iterator, model, device, max_len = 50):\n",
        "\n",
        "    trgs = []\n",
        "    pred_trgs = []\n",
        "\n",
        "    num_iters = len(list(iterator))\n",
        "\n",
        "    for i, iter in enumerate(iterator):\n",
        "        src = iter[0].replace(\".\", \" .\")\n",
        "        trg = iter[1].replace(\".\", \" .\")\n",
        "\n",
        "        pred_trg, _ = translate_sentence(src, trg, model, device, max_len)\n",
        "\n",
        "        #cut off <eos> token\n",
        "        pred_trg = pred_trg[:-1]\n",
        "\n",
        "        pred_trgs.append(pred_trg)\n",
        "        trgs.append([trg.split()])\n",
        "\n",
        "        if i == num_iters - 2:\n",
        "            break\n",
        "\n",
        "\n",
        "    return bleu_score(pred_trgs, trgs)"
      ],
      "execution_count": null,
      "outputs": []
    },
    {
      "cell_type": "code",
      "metadata": {
        "id": "tqtGecXVeDAV",
        "colab": {
          "base_uri": "https://localhost:8080/"
        },
        "outputId": "2e8f490c-e150-49fc-9fe8-94f4b47447ef"
      },
      "source": [
        "bleu_score = calculate_bleu(val_iter, model, device)\n",
        "\n",
        "print(f'BLEU score = {bleu_score*100:.2f}')"
      ],
      "execution_count": null,
      "outputs": [
        {
          "output_type": "stream",
          "name": "stdout",
          "text": [
            "BLEU score = 30.77\n"
          ]
        }
      ]
    },
    {
      "cell_type": "code",
      "source": [],
      "metadata": {
        "id": "AETLMAYXEQFu"
      },
      "execution_count": null,
      "outputs": []
    },
    {
      "cell_type": "code",
      "source": [],
      "metadata": {
        "id": "YjpPsIw1EQPY"
      },
      "execution_count": null,
      "outputs": []
    },
    {
      "cell_type": "markdown",
      "metadata": {
        "id": "u5N0uto1eDAV"
      },
      "source": [
        "Поздравляем с окончанием этих уроков! Надеюсь, они были вам полезны.\n",
        "\n",
        "Если вы обнаружите какие-либо ошибки или захотите задать какие-либо вопросы по поводу какого-либо кода или используемых объяснений, не стесняйтесь отправлять проблему на GitHub, и я постараюсь исправить ее как можно скорее.\n",
        "\n",
        "## Приложение (need to update code for torchtext=15.02)\n",
        "\n",
        "Вышеупомянутая функция `calculate_bleu` не оптимизирована. Ниже представлена значительно более быстрая векторизованная версия, которую следует использовать при необходимости. Благодарим за реализацию [@azadyasar](https://github.com/azadyasar)."
      ]
    },
    {
      "cell_type": "code",
      "metadata": {
        "id": "YS6PWyvJeDAV"
      },
      "source": [
        "def translate_sentence_vectorized(src_tensor, src_field, trg_field, model, device, max_len=50):\n",
        "    assert isinstance(src_tensor, torch.Tensor)\n",
        "\n",
        "    model.eval()\n",
        "    src_mask = model.make_src_mask(src_tensor)\n",
        "\n",
        "    with torch.no_grad():\n",
        "        enc_src = model.encoder(src_tensor, src_mask)\n",
        "    # enc_src = [batch_sz, src_len, hid_dim]\n",
        "\n",
        "    trg_indexes = [[trg_field.vocab.stoi[trg_field.init_token]] for _ in range(len(src_tensor))]\n",
        "    # Even though some examples might have been completed by producing a <eos> token\n",
        "    # we still need to feed them through the model because other are not yet finished\n",
        "    # and all examples act as a batch. Once every single sentence prediction encounters\n",
        "    # <eos> token, then we can stop predicting.\n",
        "    translations_done = [0] * len(src_tensor)\n",
        "    for i in range(max_len):\n",
        "        trg_tensor = torch.LongTensor(trg_indexes).to(device)\n",
        "        trg_mask = model.make_trg_mask(trg_tensor)\n",
        "        with torch.no_grad():\n",
        "            output, attention = model.decoder(trg_tensor, enc_src, trg_mask, src_mask)\n",
        "        pred_tokens = output.argmax(2)[:,-1]\n",
        "        for i, pred_token_i in enumerate(pred_tokens):\n",
        "            trg_indexes[i].append(pred_token_i)\n",
        "            if pred_token_i == trg_field.vocab.stoi[trg_field.eos_token]:\n",
        "                translations_done[i] = 1\n",
        "        if all(translations_done):\n",
        "            break\n",
        "\n",
        "    # Iterate through each predicted example one by one;\n",
        "    # Cut-off the portion including the after the <eos> token\n",
        "    pred_sentences = []\n",
        "    for trg_sentence in trg_indexes:\n",
        "        pred_sentence = []\n",
        "        for i in range(1, len(trg_sentence)):\n",
        "            if trg_sentence[i] == trg_field.vocab.stoi[trg_field.eos_token]:\n",
        "                break\n",
        "            pred_sentence.append(trg_field.vocab.itos[trg_sentence[i]])\n",
        "        pred_sentences.append(pred_sentence)\n",
        "\n",
        "    return pred_sentences, attention"
      ],
      "execution_count": null,
      "outputs": []
    },
    {
      "cell_type": "code",
      "metadata": {
        "id": "D1h_xidteDAW"
      },
      "source": [
        "from torchtext.data.metrics import bleu_score\n",
        "\n",
        "def calculate_bleu_alt(iterator, src_field, trg_field, model, device, max_len = 50):\n",
        "    trgs = []\n",
        "    pred_trgs = []\n",
        "    with torch.no_grad():\n",
        "        for batch in iterator:\n",
        "            src = batch.src\n",
        "            trg = batch.trg\n",
        "            _trgs = []\n",
        "            for sentence in trg:\n",
        "                tmp = []\n",
        "                # Start from the first token which skips the <start> token\n",
        "                for i in sentence[1:]:\n",
        "                    # Targets are padded. So stop appending as soon as a padding or eos token is encountered\n",
        "                    if i == trg_field.vocab.stoi[trg_field.eos_token] or i == trg_field.vocab.stoi[trg_field.pad_token]:\n",
        "                        break\n",
        "                    tmp.append(trg_field.vocab.itos[i])\n",
        "                _trgs.append([tmp])\n",
        "            trgs += _trgs\n",
        "            pred_trg, _ = translate_sentence_vectorized(src, src_field, trg_field, model, device)\n",
        "            pred_trgs += pred_trg\n",
        "    return pred_trgs, trgs, bleu_score(pred_trgs, trgs)\n"
      ],
      "execution_count": null,
      "outputs": []
    },
    {
      "cell_type": "markdown",
      "metadata": {
        "collapsed": false,
        "id": "h8jeoiKlNrl1"
      },
      "source": [
        "## Обучение сети инвертированию предложения\n",
        "\n",
        "В конце приведу один из моих любимых тестов: тест на инверсию предложения. Очень простая для человека задача (ученики начальной школы обучаются за 10-15 примеров), но, порой, непреодолима для искусственных систем."
      ]
    },
    {
      "cell_type": "markdown",
      "metadata": {
        "id": "crX4svL_QI5O"
      },
      "source": [
        "Для Google Colab скачаем обучающие последовательности"
      ]
    },
    {
      "cell_type": "code",
      "metadata": {
        "id": "0XMaaybcRTFo"
      },
      "source": [
        "!wget https://raw.githubusercontent.com/vasiliyeskin/bentrevett-pytorch-seq2seq_ru/master/toy_revert/train.csv -P toy_revert\n",
        "!wget https://raw.githubusercontent.com/vasiliyeskin/bentrevett-pytorch-seq2seq_ru/master/toy_revert/val.csv -P toy_revert\n",
        "!wget https://raw.githubusercontent.com/vasiliyeskin/bentrevett-pytorch-seq2seq_ru/master/toy_revert/test.csv -P toy_revert"
      ],
      "execution_count": null,
      "outputs": []
    },
    {
      "cell_type": "markdown",
      "metadata": {
        "collapsed": false,
        "id": "edFokHttNrl1"
      },
      "source": [
        "В начале обучим сеть инверсии и посмотрим на результат.\n"
      ]
    },
    {
      "cell_type": "code",
      "metadata": {
        "colab": {
          "base_uri": "https://localhost:8080/"
        },
        "id": "HKIUr8XaZcyi",
        "outputId": "1911b096-8343-4faa-8cfb-0125463b1909"
      },
      "source": [
        "SRC = Field(tokenize=\"spacy\",\n",
        "            init_token='<sos>',\n",
        "            eos_token='<eos>',\n",
        "            lower=True,\n",
        "            batch_first = True)\n",
        "\n",
        "TRG = Field(tokenize=\"spacy\",\n",
        "            init_token='<sos>',\n",
        "            eos_token='<eos>',\n",
        "            lower=True,\n",
        "            batch_first = True)\n",
        "\n",
        "data_fields = [('src', SRC), ('trg', TRG)]\n",
        "# load the dataset in csv format\n",
        "train_data, valid_data, test_data = TabularDataset.splits(\n",
        "    path='toy_revert',\n",
        "    train='train.csv',\n",
        "    validation='val.csv',\n",
        "    test='test.csv',\n",
        "    format='csv',\n",
        "    fields=data_fields,\n",
        "    skip_header=True\n",
        ")\n",
        "\n",
        "SRC.build_vocab(train_data)\n",
        "TRG.build_vocab(train_data)"
      ],
      "execution_count": null,
      "outputs": [
        {
          "output_type": "stream",
          "text": [
            "/usr/local/lib/python3.7/dist-packages/torchtext/data/utils.py:123: UserWarning: Spacy model \"en\" could not be loaded, trying \"en_core_web_sm\" instead\n",
            "  warnings.warn(f'Spacy model \"{language}\" could not be loaded, trying \"{OLD_MODEL_SHORTCUTS[language]}\" instead')\n"
          ],
          "name": "stderr"
        }
      ]
    },
    {
      "cell_type": "code",
      "metadata": {
        "pycharm": {
          "name": "#%%\n"
        },
        "id": "5flcPxdENrl1",
        "colab": {
          "base_uri": "https://localhost:8080/"
        },
        "outputId": "7ed84c4c-09d8-4ea9-9d9d-aa493ae4ee01"
      },
      "source": [
        "device = torch.device('cuda' if torch.cuda.is_available() else 'cpu')\n",
        "\n",
        "BATCH_SIZE = 32\n",
        "\n",
        "train_iterator, valid_iterator, test_iterator = BucketIterator.splits(\n",
        "    (train_data, valid_data, test_data),\n",
        "     batch_size = BATCH_SIZE,\n",
        "     sort_key = lambda x: len(x.src),\n",
        "     sort_within_batch=True,\n",
        "     device = device)\n",
        "\n",
        "\n",
        "\n",
        "################## create DNN Seq2Seq ###############################\n",
        "\n",
        "INPUT_DIM = len(SRC.vocab)\n",
        "OUTPUT_DIM = len(TRG.vocab)\n",
        "HID_DIM = 64\n",
        "ENC_LAYERS = 3\n",
        "DEC_LAYERS = 3\n",
        "ENC_HEADS = 8\n",
        "DEC_HEADS = 8\n",
        "ENC_PF_DIM = 512\n",
        "DEC_PF_DIM = 512\n",
        "ENC_DROPOUT = 0.1\n",
        "DEC_DROPOUT = 0.1\n",
        "\n",
        "enc = Encoder(INPUT_DIM,\n",
        "              HID_DIM,\n",
        "              ENC_LAYERS,\n",
        "              ENC_HEADS,\n",
        "              ENC_PF_DIM,\n",
        "              ENC_DROPOUT,\n",
        "              device)\n",
        "\n",
        "dec = Decoder(OUTPUT_DIM,\n",
        "              HID_DIM,\n",
        "              DEC_LAYERS,\n",
        "              DEC_HEADS,\n",
        "              DEC_PF_DIM,\n",
        "              DEC_DROPOUT,\n",
        "              device)\n",
        "\n",
        "\n",
        "SRC_PAD_IDX = SRC.vocab.stoi[SRC.pad_token]\n",
        "TRG_PAD_IDX = TRG.vocab.stoi[TRG.pad_token]\n",
        "\n",
        "model = Seq2Seq(enc, dec, SRC_PAD_IDX, TRG_PAD_IDX, device).to(device)\n",
        "\n",
        "####################################################################\n",
        "\n",
        "\n",
        "####### initial weights\n",
        "model.apply(initialize_weights);\n",
        "# print(model)\n",
        "\n",
        "print(f'The model has {count_parameters(model):,} trainable parameters')\n",
        "\n",
        "optimizer = optim.Adam(model.parameters(), lr = LEARNING_RATE)\n",
        "criterion = nn.CrossEntropyLoss(ignore_index=TRG_PAD_IDX)\n",
        "\n",
        "N_EPOCHS = 30\n",
        "CLIP = 1\n",
        "\n",
        "best_valid_loss = float('inf')\n",
        "\n",
        "for epoch in range(N_EPOCHS):\n",
        "\n",
        "    start_time = time.time()\n",
        "\n",
        "    train_loss = train(model, train_iterator, optimizer, criterion, CLIP)\n",
        "    valid_loss = evaluate(model, valid_iterator, criterion)\n",
        "\n",
        "    end_time = time.time()\n",
        "\n",
        "    epoch_mins, epoch_secs = epoch_time(start_time, end_time)\n",
        "\n",
        "    if valid_loss < best_valid_loss:\n",
        "        best_valid_loss = valid_loss\n",
        "        torch.save(model.state_dict(), 'tut3-model.pt')\n",
        "\n",
        "    print(f'Epoch: {epoch + 1:02} | Time: {epoch_mins}m {epoch_secs}s')\n",
        "    print(f'\\tTrain Loss: {train_loss:.3f} | Train PPL: {math.exp(train_loss):7.3f}')\n",
        "    print(f'\\t Val. Loss: {valid_loss:.3f} |  Val. PPL: {math.exp(valid_loss):7.3f}')\n",
        "\n",
        "    # writer.add_scalar(\"Train_loss_average_per_epoch\", train_loss, epoch)\n",
        "    # writer.add_scalar(\"Validate_loss_average_per_epoch\", valid_loss, epoch)\n",
        "\n",
        "model.load_state_dict(torch.load('tut3-model.pt'))\n",
        "\n",
        "test_loss = evaluate(model, test_iterator, criterion)\n",
        "\n",
        "print(f'| Test Loss: {test_loss:.3f} | Test PPL: {math.exp(test_loss):7.3f} |')\n"
      ],
      "execution_count": null,
      "outputs": [
        {
          "output_type": "stream",
          "text": [
            "The model has 562,696 trainable parameters\n",
            "Epoch: 01 | Time: 0m 9s\n",
            "\tTrain Loss: 1.177 | Train PPL:   3.244\n",
            "\t Val. Loss: 0.915 |  Val. PPL:   2.496\n",
            "Epoch: 02 | Time: 0m 9s\n",
            "\tTrain Loss: 0.969 | Train PPL:   2.634\n",
            "\t Val. Loss: 0.881 |  Val. PPL:   2.413\n",
            "Epoch: 03 | Time: 0m 9s\n",
            "\tTrain Loss: 0.901 | Train PPL:   2.462\n",
            "\t Val. Loss: 0.796 |  Val. PPL:   2.216\n",
            "Epoch: 04 | Time: 0m 9s\n",
            "\tTrain Loss: 0.795 | Train PPL:   2.213\n",
            "\t Val. Loss: 0.555 |  Val. PPL:   1.742\n",
            "Epoch: 05 | Time: 0m 9s\n",
            "\tTrain Loss: 0.664 | Train PPL:   1.943\n",
            "\t Val. Loss: 0.448 |  Val. PPL:   1.565\n",
            "Epoch: 06 | Time: 0m 9s\n",
            "\tTrain Loss: 0.583 | Train PPL:   1.792\n",
            "\t Val. Loss: 0.457 |  Val. PPL:   1.579\n",
            "Epoch: 07 | Time: 0m 9s\n",
            "\tTrain Loss: 0.510 | Train PPL:   1.665\n",
            "\t Val. Loss: 0.247 |  Val. PPL:   1.280\n",
            "Epoch: 08 | Time: 0m 9s\n",
            "\tTrain Loss: 0.452 | Train PPL:   1.572\n",
            "\t Val. Loss: 0.237 |  Val. PPL:   1.267\n",
            "Epoch: 09 | Time: 0m 9s\n",
            "\tTrain Loss: 0.381 | Train PPL:   1.463\n",
            "\t Val. Loss: 0.172 |  Val. PPL:   1.188\n",
            "Epoch: 10 | Time: 0m 9s\n",
            "\tTrain Loss: 0.354 | Train PPL:   1.424\n",
            "\t Val. Loss: 0.197 |  Val. PPL:   1.218\n",
            "Epoch: 11 | Time: 0m 9s\n",
            "\tTrain Loss: 0.320 | Train PPL:   1.378\n",
            "\t Val. Loss: 0.132 |  Val. PPL:   1.141\n",
            "Epoch: 12 | Time: 0m 9s\n",
            "\tTrain Loss: 0.272 | Train PPL:   1.312\n",
            "\t Val. Loss: 0.132 |  Val. PPL:   1.141\n",
            "Epoch: 13 | Time: 0m 9s\n",
            "\tTrain Loss: 0.247 | Train PPL:   1.281\n",
            "\t Val. Loss: 0.129 |  Val. PPL:   1.138\n",
            "Epoch: 14 | Time: 0m 9s\n",
            "\tTrain Loss: 0.232 | Train PPL:   1.261\n",
            "\t Val. Loss: 0.090 |  Val. PPL:   1.094\n",
            "Epoch: 15 | Time: 0m 9s\n",
            "\tTrain Loss: 0.218 | Train PPL:   1.243\n",
            "\t Val. Loss: 0.040 |  Val. PPL:   1.041\n",
            "Epoch: 16 | Time: 0m 9s\n",
            "\tTrain Loss: 0.177 | Train PPL:   1.193\n",
            "\t Val. Loss: 0.044 |  Val. PPL:   1.045\n",
            "Epoch: 17 | Time: 0m 9s\n",
            "\tTrain Loss: 0.172 | Train PPL:   1.187\n",
            "\t Val. Loss: 0.034 |  Val. PPL:   1.035\n",
            "Epoch: 18 | Time: 0m 9s\n",
            "\tTrain Loss: 0.153 | Train PPL:   1.166\n",
            "\t Val. Loss: 0.025 |  Val. PPL:   1.025\n",
            "Epoch: 19 | Time: 0m 9s\n",
            "\tTrain Loss: 0.146 | Train PPL:   1.157\n",
            "\t Val. Loss: 0.019 |  Val. PPL:   1.019\n",
            "Epoch: 20 | Time: 0m 9s\n",
            "\tTrain Loss: 0.139 | Train PPL:   1.149\n",
            "\t Val. Loss: 0.030 |  Val. PPL:   1.031\n",
            "Epoch: 21 | Time: 0m 9s\n",
            "\tTrain Loss: 0.107 | Train PPL:   1.113\n",
            "\t Val. Loss: 0.010 |  Val. PPL:   1.010\n",
            "Epoch: 22 | Time: 0m 9s\n",
            "\tTrain Loss: 0.102 | Train PPL:   1.108\n",
            "\t Val. Loss: 0.062 |  Val. PPL:   1.064\n",
            "Epoch: 23 | Time: 0m 9s\n",
            "\tTrain Loss: 0.094 | Train PPL:   1.099\n",
            "\t Val. Loss: 0.032 |  Val. PPL:   1.032\n",
            "Epoch: 24 | Time: 0m 9s\n",
            "\tTrain Loss: 0.103 | Train PPL:   1.109\n",
            "\t Val. Loss: 0.022 |  Val. PPL:   1.022\n",
            "Epoch: 25 | Time: 0m 9s\n",
            "\tTrain Loss: 0.076 | Train PPL:   1.079\n",
            "\t Val. Loss: 0.009 |  Val. PPL:   1.009\n",
            "Epoch: 26 | Time: 0m 9s\n",
            "\tTrain Loss: 0.076 | Train PPL:   1.079\n",
            "\t Val. Loss: 0.017 |  Val. PPL:   1.017\n",
            "Epoch: 27 | Time: 0m 9s\n",
            "\tTrain Loss: 0.064 | Train PPL:   1.066\n",
            "\t Val. Loss: 0.007 |  Val. PPL:   1.007\n",
            "Epoch: 28 | Time: 0m 9s\n",
            "\tTrain Loss: 0.070 | Train PPL:   1.072\n",
            "\t Val. Loss: 0.005 |  Val. PPL:   1.005\n",
            "Epoch: 29 | Time: 0m 9s\n",
            "\tTrain Loss: 0.052 | Train PPL:   1.053\n",
            "\t Val. Loss: 0.004 |  Val. PPL:   1.004\n",
            "Epoch: 30 | Time: 0m 9s\n",
            "\tTrain Loss: 0.060 | Train PPL:   1.062\n",
            "\t Val. Loss: 0.012 |  Val. PPL:   1.012\n",
            "| Test Loss: 0.004 | Test PPL:   1.004 |\n"
          ],
          "name": "stdout"
        }
      ]
    },
    {
      "cell_type": "markdown",
      "metadata": {
        "collapsed": false,
        "id": "r7JmvyFYNrl2"
      },
      "source": [
        "testing with the life example"
      ]
    },
    {
      "cell_type": "code",
      "metadata": {
        "id": "kl2Hz5Sy9pUV"
      },
      "source": [
        "def translate_sentence(sentence, src_field, trg_field, model, device, max_len = 20):\n",
        "\n",
        "    model.eval()\n",
        "\n",
        "    if isinstance(sentence, str):\n",
        "        nlp = spacy.load('de_core_news_sm')\n",
        "        tokens = [token.text.lower() for token in nlp(sentence)]\n",
        "    else:\n",
        "        tokens = [token.lower() for token in sentence]\n",
        "\n",
        "    tokens = [src_field.init_token] + tokens + [src_field.eos_token]\n",
        "\n",
        "    src_indexes = [src_field.vocab.stoi[token] for token in tokens]\n",
        "\n",
        "    src_tensor = torch.LongTensor(src_indexes).unsqueeze(0).to(device)\n",
        "\n",
        "    src_mask = model.make_src_mask(src_tensor)\n",
        "\n",
        "    with torch.no_grad():\n",
        "        enc_src = model.encoder(src_tensor, src_mask)\n",
        "\n",
        "    trg_indexes = [trg_field.vocab.stoi[trg_field.init_token]]\n",
        "\n",
        "    for i in range(max_len):\n",
        "\n",
        "        trg_tensor = torch.LongTensor(trg_indexes).unsqueeze(0).to(device)\n",
        "\n",
        "        trg_mask = model.make_trg_mask(trg_tensor)\n",
        "\n",
        "        with torch.no_grad():\n",
        "            output, attention = model.decoder(trg_tensor, enc_src, trg_mask, src_mask)\n",
        "\n",
        "        pred_token = output.argmax(2)[:,-1].item()\n",
        "\n",
        "        trg_indexes.append(pred_token)\n",
        "\n",
        "        if pred_token == trg_field.vocab.stoi[trg_field.eos_token]:\n",
        "            break\n",
        "\n",
        "    trg_tokens = [trg_field.vocab.itos[i] for i in trg_indexes]\n",
        "\n",
        "    return trg_tokens[1:], attention"
      ],
      "execution_count": null,
      "outputs": []
    },
    {
      "cell_type": "code",
      "metadata": {
        "id": "V_Yp-8RyDCJt"
      },
      "source": [
        "from torchtext.data.metrics import bleu_score\n",
        "\n",
        "def calculate_bleu(data, src_field, trg_field, model, device, max_len = 20):\n",
        "\n",
        "    trgs = []\n",
        "    pred_trgs = []\n",
        "\n",
        "    for datum in data:\n",
        "\n",
        "        src = vars(datum)['src']\n",
        "        trg = vars(datum)['trg']\n",
        "\n",
        "        pred_trg, _ = translate_sentence(src, src_field, trg_field, model, device, max_len)\n",
        "\n",
        "        #cut off <eos> token\n",
        "        pred_trg = pred_trg[:-1]\n",
        "\n",
        "        pred_trgs.append(pred_trg)\n",
        "        trgs.append([trg])\n",
        "\n",
        "    return bleu_score(pred_trgs, trgs)"
      ],
      "execution_count": null,
      "outputs": []
    },
    {
      "cell_type": "code",
      "metadata": {
        "pycharm": {
          "name": "#%%\n"
        },
        "id": "Y-0WOawtNrl2",
        "colab": {
          "base_uri": "https://localhost:8080/",
          "height": 1000
        },
        "outputId": "64c21c14-ee56-46f5-b6f8-c79b868effd6"
      },
      "source": [
        "example_idx = 10\n",
        "\n",
        "src = vars(test_data.examples[example_idx])['src']\n",
        "trg = vars(test_data.examples[example_idx])['trg']\n",
        "\n",
        "print(f'src = {src}')\n",
        "print(f'trg = {trg}')\n",
        "\n",
        "print(f'source        = {src}')\n",
        "translation, attention =  translate_sentence(src, SRC, TRG, model, device)\n",
        "display_attention(src, translation, attention)\n",
        "\n",
        "print(f'predicted trg = {translation}')\n",
        "\n",
        "src = ['a', 'b', 'c', 'a', 'd']\n",
        "print(f'source        = {src}')\n",
        "translation, attention =  translate_sentence(src, SRC, TRG, model, device)\n",
        "display_attention(src, translation, attention)\n",
        "print(f'predicted trg = {translation}')\n",
        "\n",
        "src = 'd b c d'.split(' ')\n",
        "print(f'source        = {src}')\n",
        "translation, attention =  translate_sentence(src, SRC, TRG, model, device)\n",
        "display_attention(src, translation, attention)\n",
        "print(f'predicted trg = {translation}')\n",
        "\n",
        "src = ['a', 'a', 'a', 'a', 'd']\n",
        "print(f'source        = {src}')\n",
        "translation, attention = translate_sentence(src, SRC, TRG, model, device)\n",
        "print(f'predicted trg = {translation}')\n",
        "\n",
        "src = ['d', 'b', 'c', 'a']\n",
        "print(f'source        = {src}')\n",
        "translation, attention = translate_sentence(src, SRC, TRG, model, device)\n",
        "print(f'predicted trg = {translation}')\n",
        "\n",
        "src = ['d', 'd', 'd', 'd', 'd', 'd', 'd', 'd']\n",
        "print(f'source        = {src}')\n",
        "translation, attention = translate_sentence(src, SRC, TRG, model, device)\n",
        "print(f'predicted trg = {translation}')\n",
        "\n",
        "\n",
        "bleu_score = calculate_bleu(test_data, SRC, TRG, model, device)\n",
        "print(f'BLEU score = {bleu_score * 100:.2f}')"
      ],
      "execution_count": null,
      "outputs": [
        {
          "output_type": "stream",
          "text": [
            "src = ['c', 'b', 'd', 'a', 'd', 'b', 'a', 'c', 'c', 'a', 'b', 'c']\n",
            "trg = ['c', 'b', 'a', 'c', 'c', 'a', 'b', 'd', 'a', 'd', 'b', 'c']\n",
            "source        = ['c', 'b', 'd', 'a', 'd', 'b', 'a', 'c', 'c', 'a', 'b', 'c']\n"
          ],
          "name": "stdout"
        },
        {
          "output_type": "display_data",
          "data": {
            "image/png": "[encoded data removed]",
            "text/plain": [
              "<Figure size 1080x1800 with 8 Axes>"
            ]
          },
          "metadata": {
            "tags": [],
            "needs_background": "light"
          }
        },
        {
          "output_type": "stream",
          "text": [
            "predicted trg = ['c', 'b', 'a', 'c', 'c', 'a', 'b', 'd', 'a', 'd', 'b', 'c', '<eos>']\n",
            "source        = ['a', 'b', 'c', 'a', 'd']\n"
          ],
          "name": "stdout"
        },
        {
          "output_type": "display_data",
          "data": {
            "image/png": "[encoded data removed]",
            "text/plain": [
              "<Figure size 1080x1800 with 8 Axes>"
            ]
          },
          "metadata": {
            "tags": [],
            "needs_background": "light"
          }
        },
        {
          "output_type": "stream",
          "text": [
            "predicted trg = ['d', 'a', 'c', 'b', 'a', '<eos>']\n",
            "source        = ['d', 'b', 'c', 'd']\n"
          ],
          "name": "stdout"
        },
        {
          "output_type": "display_data",
          "data": {
            "image/png": "[encoded data removed]",
            "text/plain": [
              "<Figure size 1080x1800 with 8 Axes>"
            ]
          },
          "metadata": {
            "tags": [],
            "needs_background": "light"
          }
        },
        {
          "output_type": "stream",
          "text": [
            "predicted trg = ['d', 'c', 'b', 'd', '<eos>']\n",
            "source        = ['a', 'a', 'a', 'a', 'd']\n",
            "predicted trg = ['d', 'a', 'a', 'a', 'a', '<eos>']\n",
            "source        = ['d', 'b', 'c', 'a']\n",
            "predicted trg = ['a', 'c', 'b', 'd', '<eos>']\n",
            "source        = ['d', 'd', 'd', 'd', 'd', 'd', 'd', 'd']\n",
            "predicted trg = ['d', 'd', 'd', 'd', 'd', 'd', 'd', 'd', '<eos>']\n",
            "BLEU score = 99.85\n"
          ],
          "name": "stdout"
        }
      ]
    }
  ]
}